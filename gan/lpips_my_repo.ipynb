{
  "nbformat": 4,
  "nbformat_minor": 0,
  "metadata": {
    "colab": {
      "name": "lpips_my_repo",
      "provenance": [],
      "collapsed_sections": [],
      "authorship_tag": "ABX9TyOqHElkhT1QsRd4A+PZRzq+",
      "include_colab_link": true
    },
    "kernelspec": {
      "name": "python3",
      "display_name": "Python 3"
    },
    "language_info": {
      "name": "python"
    }
  },
  "cells": [
    {
      "cell_type": "markdown",
      "metadata": {
        "id": "view-in-github",
        "colab_type": "text"
      },
      "source": [
        "<a href=\"https://colab.research.google.com/github/ayyucedemirbas/machine_learning_algorithms/blob/master/lpips_my_repo.ipynb\" target=\"_parent\"><img src=\"https://colab.research.google.com/assets/colab-badge.svg\" alt=\"Open In Colab\"/></a>"
      ]
    },
    {
      "cell_type": "code",
      "execution_count": 1,
      "metadata": {
        "colab": {
          "base_uri": "https://localhost:8080/"
        },
        "id": "-lty-7hnz7r5",
        "outputId": "5f37d2ed-c085-4016-e8d5-8371093b9578"
      },
      "outputs": [
        {
          "output_type": "stream",
          "name": "stdout",
          "text": [
            "Cloning into 'lpips-tensorflow'...\n",
            "remote: Enumerating objects: 73, done.\u001b[K\n",
            "remote: Counting objects: 100% (6/6), done.\u001b[K\n",
            "remote: Compressing objects: 100% (6/6), done.\u001b[K\n",
            "remote: Total 73 (delta 1), reused 0 (delta 0), pack-reused 67\u001b[K\n",
            "Unpacking objects: 100% (73/73), done.\n"
          ]
        }
      ],
      "source": [
        "!git clone https://github.com/ayyucedemirbas/lpips-tensorflow.git"
      ]
    },
    {
      "cell_type": "code",
      "source": [
        "%cd lpips-tensorflow"
      ],
      "metadata": {
        "colab": {
          "base_uri": "https://localhost:8080/"
        },
        "id": "JL0RVEr-z-Rk",
        "outputId": "25153d8a-6e8c-47a8-d7f7-5cc377194d40"
      },
      "execution_count": 2,
      "outputs": [
        {
          "output_type": "stream",
          "name": "stdout",
          "text": [
            "/content/lpips-tensorflow\n"
          ]
        }
      ]
    },
    {
      "cell_type": "code",
      "source": [
        "%%writefile test_network.py\n",
        "import argparse\n",
        "\n",
        "import cv2\n",
        "import numpy as np\n",
        "import tensorflow.compat.v1 as tf\n",
        "tf.disable_v2_behavior()\n",
        "\n",
        "import lpips_tf\n",
        "\n",
        "\n",
        "def load_image(fname):\n",
        "    image = cv2.imread(fname)\n",
        "    image = cv2.cvtColor(image, cv2.COLOR_BGR2RGB)\n",
        "    return image.astype(np.float32) / 255.0\n",
        "\n",
        "\n",
        "def main():\n",
        "    parser = argparse.ArgumentParser()\n",
        "    parser.add_argument('--model', choices=['net-lin', 'net'], default='net-lin', help='net-lin or net')\n",
        "    parser.add_argument('--net', choices=['squeeze', 'alex', 'vgg'], default='vgg', help='squeeze, alex, or vgg')\n",
        "    parser.add_argument('--version', type=str, default='0.1')\n",
        "    args = parser.parse_args()\n",
        "\n",
        "    ex_ref = load_image('2.png')\n",
        "    ex_p0 = load_image('1.png')\n",
        "    ex_p1 = load_image('0.png')\n",
        "\n",
        "    session = tf.Session()\n",
        "\n",
        "    image0_ph = tf.placeholder(tf.float32)\n",
        "    image1_ph = tf.placeholder(tf.float32)\n",
        "    lpips_fn = session.make_callable(\n",
        "        lpips_tf.lpips(image0_ph, image1_ph, model=args.model, net=args.net, version=args.version),\n",
        "        [image0_ph, image1_ph])\n",
        "\n",
        "    ex_d0 = lpips_fn(ex_ref, ex_p0)\n",
        "    ex_d1 = lpips_fn(ex_ref, ex_p1)\n",
        "\n",
        "    print('Distances: (%.3f, %.3f)' % (ex_d0, ex_d1))\n",
        "\n",
        "\n",
        "if __name__ == '__main__':\n",
        "    main()"
      ],
      "metadata": {
        "colab": {
          "base_uri": "https://localhost:8080/"
        },
        "id": "wuHHzcsJ0IIi",
        "outputId": "f4468e52-2fe3-4cb6-a462-62cc76fe1737"
      },
      "execution_count": 3,
      "outputs": [
        {
          "output_type": "stream",
          "name": "stdout",
          "text": [
            "Overwriting test_network.py\n"
          ]
        }
      ]
    },
    {
      "cell_type": "code",
      "source": [
        "!python test_network.py"
      ],
      "metadata": {
        "colab": {
          "base_uri": "https://localhost:8080/"
        },
        "id": "_-cz8Ku80s75",
        "outputId": "9b6b452d-5b9b-4a96-f1a3-76c4b8435a1d"
      },
      "execution_count": 4,
      "outputs": [
        {
          "output_type": "stream",
          "name": "stdout",
          "text": [
            "WARNING:tensorflow:From /usr/local/lib/python3.7/dist-packages/tensorflow/python/compat/v2_compat.py:111: disable_resource_variables (from tensorflow.python.ops.variable_scope) is deprecated and will be removed in a future version.\n",
            "Instructions for updating:\n",
            "non-resource variables are not supported in the long term\n",
            "2021-12-13 22:05:12.756018: E tensorflow/stream_executor/cuda/cuda_driver.cc:271] failed call to cuInit: CUDA_ERROR_NO_DEVICE: no CUDA-capable device is detected\n",
            ">> Downloading net-lin_vgg_v0.1.pb 100.0%\n",
            "Successfully downloaded net-lin_vgg_v0.1.pb 58955824 bytes.\n",
            "2021-12-13 22:05:36.099135: W tensorflow/core/common_runtime/graph_constructor.cc:1511] Importing a graph with a lower producer version 27 into an existing graph with producer version 898. Shape inference will have run different parts of the graph with different producer versions.\n",
            "Distances: (0.593, 0.565)\n"
          ]
        }
      ]
    }
  ]
}