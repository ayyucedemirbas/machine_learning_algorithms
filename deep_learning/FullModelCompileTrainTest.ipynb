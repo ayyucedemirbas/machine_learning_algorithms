{
 "cells": [
  {
   "cell_type": "code",
   "execution_count": 1,
   "metadata": {},
   "outputs": [
    {
     "name": "stdout",
     "output_type": "stream",
     "text": [
      "2.0.0\n"
     ]
    }
   ],
   "source": [
    "import tensorflow as tf\n",
    "print(tf.__version__)"
   ]
  },
  {
   "cell_type": "markdown",
   "metadata": {},
   "source": [
    "# The Sequential model API"
   ]
  },
  {
   "cell_type": "markdown",
   "metadata": {},
   "source": [
    " ## Coding tutorials\n",
    " #### [1. Building a Sequential model](#coding_tutorial_1)\n",
    " #### [2. Convolutional and pooling layers](#coding_tutorial_2)\n",
    " #### [3. The compile method](#coding_tutorial_3)\n",
    " #### [4. The fit method](#coding_tutorial_4)\n",
    " #### [5. The evaluate and predict methods](#coding_tutorial_5)"
   ]
  },
  {
   "cell_type": "markdown",
   "metadata": {},
   "source": [
    "***\n",
    "<a id=\"coding_tutorial_1\"></a>\n",
    "## Building a Sequential model"
   ]
  },
  {
   "cell_type": "code",
   "execution_count": 2,
   "metadata": {},
   "outputs": [],
   "source": [
    "from tensorflow.keras.models import Sequential\n",
    "from tensorflow.keras.layers import Dense, Flatten, Softmax"
   ]
  },
  {
   "cell_type": "markdown",
   "metadata": {},
   "source": [
    "#### Build a feedforward neural network model"
   ]
  },
  {
   "cell_type": "code",
   "execution_count": 3,
   "metadata": {},
   "outputs": [],
   "source": [
    "# Build the Sequential feedforward neural network model\n",
    "\n",
    "model = Sequential([\n",
    "    Flatten(input_shape=(28,28)),\n",
    "    Dense(16, activation = 'relu'),\n",
    "    Dense(16, activation= 'relu'),\n",
    "    Dense(10, activation = 'softmax')\n",
    "])\n",
    "\n"
   ]
  },
  {
   "cell_type": "code",
   "execution_count": 4,
   "metadata": {},
   "outputs": [],
   "source": [
    "model = Sequential([\n",
    "    Flatten(input_shape=(28,28)),\n",
    "    Dense(16, activation = 'relu', name='layer_1'),\n",
    "    Dense(16, activation= 'relu'),\n",
    "    Dense(10),\n",
    "    Softmax()\n",
    "])\n"
   ]
  },
  {
   "cell_type": "code",
   "execution_count": 5,
   "metadata": {},
   "outputs": [
    {
     "data": {
      "text/plain": [
       "[<tf.Variable 'layer_1/kernel:0' shape=(784, 16) dtype=float32, numpy=\n",
       " array([[ 0.02113583, -0.04405317,  0.02376182, ..., -0.0032602 ,\n",
       "         -0.05477379,  0.0256281 ],\n",
       "        [-0.01930432,  0.01512426, -0.00531367, ...,  0.02881312,\n",
       "         -0.0718978 ,  0.00482602],\n",
       "        [ 0.02191914,  0.01220272,  0.04516906, ...,  0.02436582,\n",
       "          0.01491207, -0.03707949],\n",
       "        ...,\n",
       "        [-0.0459686 , -0.0590761 , -0.01321466, ..., -0.01227541,\n",
       "          0.01296449, -0.07759744],\n",
       "        [ 0.01830763, -0.04286565, -0.07948845, ...,  0.08015421,\n",
       "         -0.02865211, -0.0131069 ],\n",
       "        [ 0.00686169, -0.08487875, -0.06007121, ...,  0.02312136,\n",
       "          0.04854086,  0.08071499]], dtype=float32)>,\n",
       " <tf.Variable 'layer_1/bias:0' shape=(16,) dtype=float32, numpy=\n",
       " array([0., 0., 0., 0., 0., 0., 0., 0., 0., 0., 0., 0., 0., 0., 0., 0.],\n",
       "       dtype=float32)>,\n",
       " <tf.Variable 'dense_3/kernel:0' shape=(16, 16) dtype=float32, numpy=\n",
       " array([[ 0.11886874,  0.4121342 ,  0.13067403,  0.13733259, -0.39510906,\n",
       "          0.19045725,  0.39535692, -0.15763277, -0.38995367, -0.08072573,\n",
       "         -0.34029514, -0.14782792, -0.41585594,  0.06528696,  0.07506302,\n",
       "          0.35238734],\n",
       "        [-0.22465567,  0.22255114, -0.23149344,  0.25817052, -0.00343978,\n",
       "          0.02275887, -0.30436665,  0.20447877,  0.07663813, -0.12002844,\n",
       "          0.0521377 , -0.3629715 ,  0.31705537, -0.0796636 , -0.33483806,\n",
       "         -0.16168714],\n",
       "        [ 0.06187245, -0.24182574,  0.08463803,  0.24401936, -0.19007559,\n",
       "         -0.32337293,  0.2565414 ,  0.40485558, -0.4157335 ,  0.37169668,\n",
       "          0.17924055, -0.30566043,  0.3454136 ,  0.18108633,  0.24564728,\n",
       "          0.1103994 ],\n",
       "        [ 0.25733647,  0.38564643, -0.31410822, -0.22429723, -0.27036452,\n",
       "         -0.30258644, -0.26952696,  0.01605913,  0.34131303, -0.04499185,\n",
       "         -0.2832723 ,  0.32353225, -0.23562607, -0.13429451,  0.16148594,\n",
       "          0.1462625 ],\n",
       "        [-0.34392035,  0.3936505 , -0.41982484, -0.39769074,  0.07540748,\n",
       "         -0.4011922 , -0.07466057,  0.25761792,  0.25350264,  0.2885138 ,\n",
       "         -0.3190747 ,  0.17516539, -0.00815448, -0.30306804,  0.22330776,\n",
       "          0.04999363],\n",
       "        [-0.29787874, -0.01160264,  0.18417963,  0.03673971,  0.18186131,\n",
       "          0.11972067, -0.0150474 ,  0.19465348, -0.12825063, -0.3708873 ,\n",
       "         -0.35911196,  0.28185245,  0.39323542,  0.17586204,  0.07041541,\n",
       "          0.06089562],\n",
       "        [ 0.06691584, -0.4291614 , -0.01103473, -0.03048503, -0.02853608,\n",
       "         -0.27105704, -0.41796106, -0.17026323, -0.24630329,  0.34081402,\n",
       "         -0.12587583,  0.0739499 , -0.19846442, -0.04050666,  0.16378203,\n",
       "          0.17849287],\n",
       "        [ 0.01454988, -0.18045607, -0.36109546,  0.4054939 , -0.15911484,\n",
       "          0.25691125,  0.31748286, -0.3910131 ,  0.36511776, -0.3346001 ,\n",
       "         -0.06524536,  0.03168002, -0.21634561,  0.16624966,  0.42750165,\n",
       "         -0.08831406],\n",
       "        [ 0.29919383, -0.17105147, -0.39842746,  0.33969632,  0.22494134,\n",
       "         -0.42821902, -0.30735892, -0.26751307,  0.3596175 , -0.15817145,\n",
       "          0.3993123 ,  0.3971736 ,  0.16083178,  0.08774498,  0.32644477,\n",
       "         -0.42187515],\n",
       "        [ 0.22266027,  0.21492133,  0.04450169,  0.18432483,  0.15617451,\n",
       "         -0.02778089,  0.27769503, -0.2914526 , -0.01654094,  0.37569264,\n",
       "          0.29722092, -0.3565764 ,  0.41251287, -0.12413225,  0.03582966,\n",
       "         -0.22387291],\n",
       "        [ 0.32015827, -0.282026  ,  0.2501321 , -0.39623964,  0.32283518,\n",
       "         -0.14105219, -0.17756641,  0.1488218 ,  0.30378684, -0.32797053,\n",
       "         -0.2469762 ,  0.1616452 ,  0.22536418,  0.37343892,  0.24867448,\n",
       "          0.43113747],\n",
       "        [-0.0558098 ,  0.4222121 , -0.24218191, -0.24766314, -0.27487355,\n",
       "          0.0862141 ,  0.30843613,  0.22736868,  0.04566786, -0.3916445 ,\n",
       "          0.15009525, -0.3054669 ,  0.15809962, -0.02315572,  0.41280368,\n",
       "          0.33495376],\n",
       "        [ 0.27713904,  0.25704494, -0.14082402, -0.12031791,  0.42469373,\n",
       "          0.14225462,  0.15464678,  0.03762332,  0.01648653, -0.13046727,\n",
       "         -0.33102867, -0.359847  ,  0.24532375, -0.04993719,  0.3709158 ,\n",
       "          0.3810375 ],\n",
       "        [ 0.11317715, -0.0847739 ,  0.29776755,  0.21177629, -0.00315735,\n",
       "          0.09206632, -0.07504484,  0.3062872 , -0.21848336,  0.3194345 ,\n",
       "         -0.21294545, -0.27625787, -0.27239788,  0.16274479,  0.02997801,\n",
       "         -0.16372454],\n",
       "        [ 0.04266322, -0.23624003,  0.10965762, -0.37512895,  0.17953995,\n",
       "         -0.15602586,  0.4061763 ,  0.3068104 ,  0.1466851 , -0.18043563,\n",
       "          0.40816024, -0.0293051 ,  0.2363626 ,  0.2948201 ,  0.10990754,\n",
       "         -0.32313228],\n",
       "        [ 0.37181684, -0.42920423, -0.06475547,  0.2124295 , -0.33546263,\n",
       "         -0.03562349,  0.08458737,  0.31336245,  0.34464642, -0.04197845,\n",
       "          0.3203151 , -0.04842836, -0.20097446,  0.08303317,  0.24721178,\n",
       "         -0.18482944]], dtype=float32)>,\n",
       " <tf.Variable 'dense_3/bias:0' shape=(16,) dtype=float32, numpy=\n",
       " array([0., 0., 0., 0., 0., 0., 0., 0., 0., 0., 0., 0., 0., 0., 0., 0.],\n",
       "       dtype=float32)>,\n",
       " <tf.Variable 'dense_4/kernel:0' shape=(16, 10) dtype=float32, numpy=\n",
       " array([[-0.1367259 ,  0.03835571, -0.4172485 , -0.4340059 ,  0.2927401 ,\n",
       "         -0.35070312, -0.39784715,  0.03527051,  0.4592564 ,  0.1233272 ],\n",
       "        [ 0.22628099,  0.18093115,  0.27668643,  0.36036855, -0.00700906,\n",
       "         -0.02796873, -0.30160493, -0.00067493, -0.41727632, -0.3358432 ],\n",
       "        [ 0.23468995, -0.2848998 , -0.3371877 ,  0.29729062, -0.24246697,\n",
       "         -0.4606725 , -0.00773004,  0.10514802,  0.4592982 , -0.07754141],\n",
       "        [ 0.28650486,  0.4403569 , -0.10049912,  0.44030553,  0.44625705,\n",
       "          0.18983549,  0.43978602, -0.41727233,  0.2783293 ,  0.06379634],\n",
       "        [-0.4694551 , -0.3611878 , -0.27243692,  0.41174018,  0.44188917,\n",
       "          0.17912138,  0.10098487, -0.43176207, -0.28142887,  0.12293458],\n",
       "        [-0.37026963, -0.16153711, -0.17718327, -0.2331077 , -0.31578487,\n",
       "         -0.40318298, -0.02267   ,  0.15529841,  0.46536273,  0.0269289 ],\n",
       "        [-0.19252068,  0.15317988,  0.19417405, -0.39769894, -0.07048094,\n",
       "         -0.44383872, -0.38093388, -0.4465102 , -0.09300104,  0.4357903 ],\n",
       "        [-0.0460138 ,  0.2680847 ,  0.44528997, -0.23907669,  0.45288956,\n",
       "          0.20681387, -0.29249674,  0.04088664,  0.24526703,  0.2162919 ],\n",
       "        [-0.11541769, -0.28975725,  0.13595968, -0.10452026, -0.34109154,\n",
       "          0.30166864,  0.38525337,  0.01350373,  0.1360259 ,  0.41368908],\n",
       "        [ 0.2314446 , -0.3516779 ,  0.47063303,  0.43910432, -0.12764564,\n",
       "         -0.27625924,  0.39447504,  0.4215492 , -0.03226462,  0.34515148],\n",
       "        [ 0.2957602 , -0.2050651 ,  0.47872525,  0.15157515, -0.03347638,\n",
       "          0.09659618,  0.26776868,  0.37862605,  0.21568835, -0.47144762],\n",
       "        [ 0.43828768, -0.2688768 ,  0.46748078, -0.43354866, -0.21116567,\n",
       "         -0.42805293,  0.08368623,  0.448848  ,  0.31093293,  0.36097395],\n",
       "        [ 0.34197724, -0.0354569 , -0.06804439, -0.45127636, -0.03972882,\n",
       "         -0.12533104, -0.37295085, -0.4355113 ,  0.458219  , -0.28972244],\n",
       "        [-0.222503  ,  0.21433032,  0.29544055,  0.46051556, -0.16779584,\n",
       "          0.25267172,  0.3405953 ,  0.13640547,  0.2732262 , -0.26195413],\n",
       "        [ 0.43505144, -0.05905265,  0.33259356,  0.22380477,  0.23031002,\n",
       "         -0.37497842, -0.47679216,  0.12035161,  0.12163633,  0.02021259],\n",
       "        [-0.4251973 ,  0.27500874, -0.10064346,  0.01286453, -0.23190443,\n",
       "         -0.42589948, -0.04504439, -0.28580025,  0.26481032, -0.02219597]],\n",
       "       dtype=float32)>,\n",
       " <tf.Variable 'dense_4/bias:0' shape=(10,) dtype=float32, numpy=array([0., 0., 0., 0., 0., 0., 0., 0., 0., 0.], dtype=float32)>]"
      ]
     },
     "execution_count": 5,
     "metadata": {},
     "output_type": "execute_result"
    }
   ],
   "source": [
    "model.weights"
   ]
  },
  {
   "cell_type": "code",
   "execution_count": 6,
   "metadata": {},
   "outputs": [
    {
     "name": "stdout",
     "output_type": "stream",
     "text": [
      "Model: \"sequential_1\"\n",
      "_________________________________________________________________\n",
      "Layer (type)                 Output Shape              Param #   \n",
      "=================================================================\n",
      "flatten_1 (Flatten)          (None, 784)               0         \n",
      "_________________________________________________________________\n",
      "layer_1 (Dense)              (None, 16)                12560     \n",
      "_________________________________________________________________\n",
      "dense_3 (Dense)              (None, 16)                272       \n",
      "_________________________________________________________________\n",
      "dense_4 (Dense)              (None, 10)                170       \n",
      "_________________________________________________________________\n",
      "softmax (Softmax)            (None, 10)                0         \n",
      "=================================================================\n",
      "Total params: 13,002\n",
      "Trainable params: 13,002\n",
      "Non-trainable params: 0\n",
      "_________________________________________________________________\n"
     ]
    }
   ],
   "source": [
    "# Print the model summary\n",
    "\n",
    "model.summary()"
   ]
  },
  {
   "cell_type": "markdown",
   "metadata": {},
   "source": [
    "***\n",
    "<a id=\"coding_tutorial_2\"></a>\n",
    "## Convolutional and pooling layers"
   ]
  },
  {
   "cell_type": "code",
   "execution_count": 2,
   "metadata": {},
   "outputs": [],
   "source": [
    "from tensorflow.keras.models import Sequential\n",
    "from tensorflow.keras.layers import Dense, Flatten, Conv2D, MaxPooling2D"
   ]
  },
  {
   "cell_type": "markdown",
   "metadata": {},
   "source": [
    "#### Build a convolutional neural network model"
   ]
  },
  {
   "cell_type": "code",
   "execution_count": 3,
   "metadata": {},
   "outputs": [],
   "source": [
    "# Build the Sequential convolutional neural network model\n",
    "\n",
    "model = Sequential([\n",
    "        Conv2D(16, (3,3), activation='relu', input_shape=(28,28,1)),\n",
    "        MaxPooling2D((3,3)),\n",
    "        Flatten(),\n",
    "        Dense(10, activation='softmax')\n",
    "\n",
    "])"
   ]
  },
  {
   "cell_type": "code",
   "execution_count": 4,
   "metadata": {},
   "outputs": [
    {
     "name": "stdout",
     "output_type": "stream",
     "text": [
      "Model: \"sequential\"\n",
      "_________________________________________________________________\n",
      "Layer (type)                 Output Shape              Param #   \n",
      "=================================================================\n",
      "conv2d (Conv2D)              (None, 26, 26, 16)        160       \n",
      "_________________________________________________________________\n",
      "max_pooling2d (MaxPooling2D) (None, 8, 8, 16)          0         \n",
      "_________________________________________________________________\n",
      "flatten (Flatten)            (None, 1024)              0         \n",
      "_________________________________________________________________\n",
      "dense (Dense)                (None, 10)                10250     \n",
      "=================================================================\n",
      "Total params: 10,410\n",
      "Trainable params: 10,410\n",
      "Non-trainable params: 0\n",
      "_________________________________________________________________\n"
     ]
    }
   ],
   "source": [
    "# Print the model summary\n",
    "model.summary()\n"
   ]
  },
  {
   "cell_type": "markdown",
   "metadata": {},
   "source": [
    "***\n",
    "<a id=\"coding_tutorial_3\"></a>\n",
    "## The compile method"
   ]
  },
  {
   "cell_type": "markdown",
   "metadata": {},
   "source": [
    "#### Compile the model"
   ]
  },
  {
   "cell_type": "code",
   "execution_count": 5,
   "metadata": {},
   "outputs": [],
   "source": [
    "# Define the model optimizer, loss function and metrics\n",
    "\n",
    "opt = tf.keras.optimizers.Adam(learning_rate=0.005)\n",
    "acc = tf.keras.metrics.SparseCategoricalAccuracy()\n",
    "mae = tf.keras.metrics.MeanAbsoluteError()\n",
    "model.compile(\n",
    "    #optimizer='sgd', #'adam', 'rmsprop', 'adadelta'\n",
    "    optimizer= opt,\n",
    "    #loss='binary_crossentropy', # 'mean_squared_error', 'categorical_crossentropy'\n",
    "    loss = 'sparse_categorical_crossentropy', #sparse_categorical_crossentropy --> data labels are integers\n",
    "    #metrics=['accuracy', 'mae']\n",
    "    metrics= [acc, mae]\n",
    ")"
   ]
  },
  {
   "cell_type": "code",
   "execution_count": 6,
   "metadata": {},
   "outputs": [
    {
     "name": "stdout",
     "output_type": "stream",
     "text": [
      "sparse_categorical_crossentropy\n",
      "<tensorflow.python.keras.optimizer_v2.adam.Adam object at 0x7f6d72936be0>\n",
      "[<tensorflow.python.keras.metrics.SparseCategoricalAccuracy object at 0x7f6d72936ba8>, <tensorflow.python.keras.metrics.MeanAbsoluteError object at 0x7f6d72918748>]\n",
      "<tf.Variable 'learning_rate:0' shape=() dtype=float32, numpy=0.005>\n"
     ]
    }
   ],
   "source": [
    "# Print the resulting model attributes\n",
    "print(model.loss)\n",
    "print(model.optimizer)\n",
    "print(model.metrics)\n",
    "print(model.optimizer.lr)\n"
   ]
  },
  {
   "cell_type": "markdown",
   "metadata": {},
   "source": [
    "***\n",
    "<a id=\"coding_tutorial_4\"></a>\n",
    "## The fit method"
   ]
  },
  {
   "cell_type": "code",
   "execution_count": 7,
   "metadata": {},
   "outputs": [],
   "source": [
    "from tensorflow.keras.preprocessing import image\n",
    "import matplotlib.pyplot as plt\n",
    "import numpy as np\n",
    "import pandas as pd"
   ]
  },
  {
   "cell_type": "markdown",
   "metadata": {},
   "source": [
    "#### Load the data"
   ]
  },
  {
   "cell_type": "code",
   "execution_count": 8,
   "metadata": {},
   "outputs": [
    {
     "name": "stdout",
     "output_type": "stream",
     "text": [
      "Downloading data from https://storage.googleapis.com/tensorflow/tf-keras-datasets/train-labels-idx1-ubyte.gz\n",
      "32768/29515 [=================================] - 0s 0us/step\n",
      "Downloading data from https://storage.googleapis.com/tensorflow/tf-keras-datasets/train-images-idx3-ubyte.gz\n",
      "26427392/26421880 [==============================] - 0s 0us/step\n",
      "Downloading data from https://storage.googleapis.com/tensorflow/tf-keras-datasets/t10k-labels-idx1-ubyte.gz\n",
      "8192/5148 [===============================================] - 0s 0us/step\n",
      "Downloading data from https://storage.googleapis.com/tensorflow/tf-keras-datasets/t10k-images-idx3-ubyte.gz\n",
      "4423680/4422102 [==============================] - 0s 0us/step\n"
     ]
    }
   ],
   "source": [
    "# Load the Fashion-MNIST dataset\n",
    "\n",
    "fashion_mnist_data = tf.keras.datasets.fashion_mnist\n",
    "(train_images, train_labels), (test_images, test_labels) = fashion_mnist_data.load_data()"
   ]
  },
  {
   "cell_type": "code",
   "execution_count": 9,
   "metadata": {},
   "outputs": [
    {
     "data": {
      "text/plain": [
       "(60000, 28, 28)"
      ]
     },
     "execution_count": 9,
     "metadata": {},
     "output_type": "execute_result"
    }
   ],
   "source": [
    "# Print the shape of the training data\n",
    "train_images.shape\n"
   ]
  },
  {
   "cell_type": "code",
   "execution_count": 10,
   "metadata": {},
   "outputs": [
    {
     "name": "stdout",
     "output_type": "stream",
     "text": [
      "9\n"
     ]
    }
   ],
   "source": [
    "# Define the labels\n",
    "\n",
    "labels = [\n",
    "    'T-shirt/top',\n",
    "    'Trouser',\n",
    "    'Pullover',\n",
    "    'Dress',\n",
    "    'Coat',\n",
    "    'Sandal',\n",
    "    'Shirt',\n",
    "    'Sneaker',\n",
    "    'Bag',\n",
    "    'Ankle boot'\n",
    "]\n",
    "\n",
    "print(train_labels[0])"
   ]
  },
  {
   "cell_type": "code",
   "execution_count": 11,
   "metadata": {},
   "outputs": [],
   "source": [
    "# Rescale the image values so that they lie in between 0 and 1.\n",
    "\n",
    "train_images=train_images/ 255.\n",
    "test_images=test_images / 255."
   ]
  },
  {
   "cell_type": "code",
   "execution_count": 12,
   "metadata": {},
   "outputs": [
    {
     "data": {
      "image/png": "[encoded data removed]",
      "text/plain": [
       "<Figure size 432x288 with 1 Axes>"
      ]
     },
     "metadata": {
      "needs_background": "light"
     },
     "output_type": "display_data"
    },
    {
     "name": "stdout",
     "output_type": "stream",
     "text": [
      "label: Ankle boot\n"
     ]
    }
   ],
   "source": [
    "# Display one of the images\n",
    "i=0\n",
    "img= train_images[i, :, :]\n",
    "plt.imshow(img)\n",
    "plt.show()\n",
    "print(f\"label: {labels[train_labels[i]]}\")\n"
   ]
  },
  {
   "cell_type": "markdown",
   "metadata": {},
   "source": [
    "#### Fit the model"
   ]
  },
  {
   "cell_type": "code",
   "execution_count": 13,
   "metadata": {},
   "outputs": [
    {
     "name": "stdout",
     "output_type": "stream",
     "text": [
      "Train on 60000 samples\n",
      "Epoch 1/8\n",
      "60000/60000 - 54s - loss: 0.5782 - sparse_categorical_accuracy: 0.7941 - mean_absolute_error: 4.4200\n",
      "Epoch 2/8\n",
      "60000/60000 - 51s - loss: 0.3927 - sparse_categorical_accuracy: 0.8615 - mean_absolute_error: 4.4200\n",
      "Epoch 3/8\n",
      "60000/60000 - 50s - loss: 0.3518 - sparse_categorical_accuracy: 0.8753 - mean_absolute_error: 4.4200\n",
      "Epoch 4/8\n",
      "60000/60000 - 50s - loss: 0.3281 - sparse_categorical_accuracy: 0.8826 - mean_absolute_error: 4.4200\n",
      "Epoch 5/8\n",
      "60000/60000 - 50s - loss: 0.3098 - sparse_categorical_accuracy: 0.8901 - mean_absolute_error: 4.4200\n",
      "Epoch 6/8\n",
      "60000/60000 - 50s - loss: 0.2991 - sparse_categorical_accuracy: 0.8932 - mean_absolute_error: 4.4200\n",
      "Epoch 7/8\n",
      "60000/60000 - 50s - loss: 0.2880 - sparse_categorical_accuracy: 0.8974 - mean_absolute_error: 4.4200\n",
      "Epoch 8/8\n",
      "60000/60000 - 49s - loss: 0.2807 - sparse_categorical_accuracy: 0.8998 - mean_absolute_error: 4.4200\n"
     ]
    }
   ],
   "source": [
    "# Fit the model\n",
    "\n",
    "history = model.fit(train_images[...,np.newaxis], train_labels, epochs=8, batch_size=256, verbose=2)"
   ]
  },
  {
   "cell_type": "markdown",
   "metadata": {},
   "source": [
    "#### Plot training history"
   ]
  },
  {
   "cell_type": "code",
   "execution_count": 14,
   "metadata": {},
   "outputs": [
    {
     "data": {
      "text/html": [
       "<div>\n",
       "<style scoped>\n",
       "    .dataframe tbody tr th:only-of-type {\n",
       "        vertical-align: middle;\n",
       "    }\n",
       "\n",
       "    .dataframe tbody tr th {\n",
       "        vertical-align: top;\n",
       "    }\n",
       "\n",
       "    .dataframe thead th {\n",
       "        text-align: right;\n",
       "    }\n",
       "</style>\n",
       "<table border=\"1\" class=\"dataframe\">\n",
       "  <thead>\n",
       "    <tr style=\"text-align: right;\">\n",
       "      <th></th>\n",
       "      <th>loss</th>\n",
       "      <th>sparse_categorical_accuracy</th>\n",
       "      <th>mean_absolute_error</th>\n",
       "    </tr>\n",
       "  </thead>\n",
       "  <tbody>\n",
       "    <tr>\n",
       "      <th>0</th>\n",
       "      <td>0.578224</td>\n",
       "      <td>0.794100</td>\n",
       "      <td>4.420001</td>\n",
       "    </tr>\n",
       "    <tr>\n",
       "      <th>1</th>\n",
       "      <td>0.392720</td>\n",
       "      <td>0.861467</td>\n",
       "      <td>4.420002</td>\n",
       "    </tr>\n",
       "    <tr>\n",
       "      <th>2</th>\n",
       "      <td>0.351793</td>\n",
       "      <td>0.875283</td>\n",
       "      <td>4.420001</td>\n",
       "    </tr>\n",
       "    <tr>\n",
       "      <th>3</th>\n",
       "      <td>0.328095</td>\n",
       "      <td>0.882633</td>\n",
       "      <td>4.420000</td>\n",
       "    </tr>\n",
       "    <tr>\n",
       "      <th>4</th>\n",
       "      <td>0.309772</td>\n",
       "      <td>0.890133</td>\n",
       "      <td>4.419999</td>\n",
       "    </tr>\n",
       "  </tbody>\n",
       "</table>\n",
       "</div>"
      ],
      "text/plain": [
       "       loss  sparse_categorical_accuracy  mean_absolute_error\n",
       "0  0.578224                     0.794100             4.420001\n",
       "1  0.392720                     0.861467             4.420002\n",
       "2  0.351793                     0.875283             4.420001\n",
       "3  0.328095                     0.882633             4.420000\n",
       "4  0.309772                     0.890133             4.419999"
      ]
     },
     "execution_count": 14,
     "metadata": {},
     "output_type": "execute_result"
    }
   ],
   "source": [
    "# Load the history into a pandas Dataframe\n",
    "df = pd.DataFrame(history.history)\n",
    "df.head()\n"
   ]
  },
  {
   "cell_type": "code",
   "execution_count": 15,
   "metadata": {},
   "outputs": [
    {
     "data": {
      "text/plain": [
       "[Text(0, 0.5, 'Loss'), Text(0.5, 0, 'Epochs')]"
      ]
     },
     "execution_count": 15,
     "metadata": {},
     "output_type": "execute_result"
    },
    {
     "data": {
      "image/png": "[encoded data removed]",
      "text/plain": [
       "<Figure size 432x288 with 1 Axes>"
      ]
     },
     "metadata": {
      "needs_background": "light"
     },
     "output_type": "display_data"
    }
   ],
   "source": [
    "# Make a plot for the loss\n",
    "\n",
    "loss_plot= df.plot(y = \"loss\", title = \"Loss vs. Epochs\", legend= False)\n",
    "loss_plot.set(xlabel=\"Epochs\", ylabel= \"Loss\" )"
   ]
  },
  {
   "cell_type": "code",
   "execution_count": null,
   "metadata": {},
   "outputs": [],
   "source": [
    "# Make a plot for the accuracy\n",
    "\n"
   ]
  },
  {
   "cell_type": "code",
   "execution_count": null,
   "metadata": {},
   "outputs": [],
   "source": [
    "# Make a plot for the additional metric\n",
    "\n"
   ]
  },
  {
   "cell_type": "markdown",
   "metadata": {},
   "source": [
    "***\n",
    "<a id=\"coding_tutorial_5\"></a>\n",
    "## The evaluate and predict methods"
   ]
  },
  {
   "cell_type": "code",
   "execution_count": 16,
   "metadata": {},
   "outputs": [],
   "source": [
    "import matplotlib.pyplot as plt\n",
    "import numpy as np"
   ]
  },
  {
   "cell_type": "markdown",
   "metadata": {},
   "source": [
    "#### Evaluate the model on the test set"
   ]
  },
  {
   "cell_type": "code",
   "execution_count": 18,
   "metadata": {},
   "outputs": [
    {
     "name": "stdout",
     "output_type": "stream",
     "text": [
      "10000/1 - 5s - loss: 0.2900 - sparse_categorical_accuracy: 0.8856 - mean_absolute_error: 4.4200\n"
     ]
    }
   ],
   "source": [
    "# Evaluate the model\n",
    "\n",
    "test_loss, test_accuracy, test_mae = model.evaluate(test_images[..., np.newaxis], test_labels, verbose=2)"
   ]
  },
  {
   "cell_type": "markdown",
   "metadata": {},
   "source": [
    "#### Make predictions from the model"
   ]
  },
  {
   "cell_type": "code",
   "execution_count": 19,
   "metadata": {},
   "outputs": [
    {
     "data": {
      "image/png": "[encoded data removed]",
      "text/plain": [
       "<Figure size 432x288 with 1 Axes>"
      ]
     },
     "metadata": {
      "needs_background": "light"
     },
     "output_type": "display_data"
    },
    {
     "name": "stdout",
     "output_type": "stream",
     "text": [
      "Label: Bag\n"
     ]
    }
   ],
   "source": [
    "# Choose a random test image\n",
    "\n",
    "random_inx = np.random.choice(test_images.shape[0])\n",
    "inx=30\n",
    "test_image = test_images[inx]\n",
    "plt.imshow(test_image)\n",
    "plt.show()\n",
    "print(f\"Label: {labels[test_labels[inx]]}\")"
   ]
  },
  {
   "cell_type": "code",
   "execution_count": 20,
   "metadata": {},
   "outputs": [
    {
     "name": "stdout",
     "output_type": "stream",
     "text": [
      "Model prediction: Bag\n"
     ]
    }
   ],
   "source": [
    "# Get the model predictions\n",
    "\n",
    "predictions= model.predict(test_image[np.newaxis,...,np.newaxis])\n",
    "print(f\"Model prediction: {labels[np.argmax(predictions)]}\")"
   ]
  },
  {
   "cell_type": "code",
   "execution_count": null,
   "metadata": {},
   "outputs": [],
   "source": []
  }
 ],
 "metadata": {
  "kernelspec": {
   "display_name": "Python 3",
   "language": "python",
   "name": "python3"
  },
  "language_info": {
   "codemirror_mode": {
    "name": "ipython",
    "version": 3
   },
   "file_extension": ".py",
   "mimetype": "text/x-python",
   "name": "python",
   "nbconvert_exporter": "python",
   "pygments_lexer": "ipython3",
   "version": "3.7.1"
  }
 },
 "nbformat": 4,
 "nbformat_minor": 2
}
