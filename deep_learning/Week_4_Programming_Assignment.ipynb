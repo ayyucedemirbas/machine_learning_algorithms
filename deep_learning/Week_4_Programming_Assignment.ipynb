{
  "nbformat": 4,
  "nbformat_minor": 0,
  "metadata": {
    "coursera": {
      "course_slug": "tensor-flow-2-1",
      "graded_item_id": "JaRY0",
      "launcher_item_id": "mJ8fg"
    },
    "kernelspec": {
      "display_name": "Python 3",
      "language": "python",
      "name": "python3"
    },
    "language_info": {
      "codemirror_mode": {
        "name": "ipython",
        "version": 3
      },
      "file_extension": ".py",
      "mimetype": "text/x-python",
      "name": "python",
      "nbconvert_exporter": "python",
      "pygments_lexer": "ipython3",
      "version": "3.7.1"
    },
    "colab": {
      "name": "Copy of Week 4 Programming Assignment.ipynb",
      "provenance": [],
      "collapsed_sections": []
    }
  },
  "cells": [
    {
      "cell_type": "markdown",
      "metadata": {
        "id": "j-l3gabVzlB-"
      },
      "source": [
        "# Programming Assignment\n",
        "\n",
        "## Saving and loading models, with application to the EuroSat dataset\n",
        "\n",
        "### Instructions\n",
        "\n",
        "In this notebook, you will create a neural network that classifies land uses and land covers from satellite imagery. You will save your model using Tensorflow's callbacks and reload it later. You will also load in a pre-trained neural network classifier and compare performance with it. \n",
        "\n",
        "Some code cells are provided for you in the notebook. You should avoid editing provided code, and make sure to execute the cells in order to avoid unexpected errors. Some cells begin with the line: \n",
        "\n",
        "`#### GRADED CELL ####`\n",
        "\n",
        "Don't move or edit this first line - this is what the automatic grader looks for to recognise graded cells. These cells require you to write your own code to complete them, and are automatically graded when you submit the notebook. Don't edit the function name or signature provided in these cells, otherwise the automatic grader might not function properly. Inside these graded cells, you can use any functions or classes that are imported below, but make sure you don't use any variables that are outside the scope of the function.\n",
        "\n",
        "### How to submit\n",
        "\n",
        "Complete all the tasks you are asked for in the worksheet. When you have finished and are happy with your code, press the **Submit Assignment** button at the top of this notebook.\n",
        "\n",
        "### Let's get started!\n",
        "\n",
        "We'll start running some imports, and loading the dataset. Do not edit the existing imports in the following cell. If you would like to make further Tensorflow imports, you should add them here."
      ]
    },
    {
      "cell_type": "code",
      "metadata": {
        "id": "TtZFzBJTzlCC"
      },
      "source": [
        "#### PACKAGE IMPORTS ####\n",
        "\n",
        "# Run this cell first to import all required packages. Do not make any imports elsewhere in the notebook\n",
        "\n",
        "import tensorflow as tf\n",
        "from tensorflow.keras.preprocessing.image import load_img, img_to_array\n",
        "from tensorflow.keras.models import Sequential, load_model\n",
        "from tensorflow.keras.layers import Dense, Flatten, Conv2D, MaxPooling2D\n",
        "from tensorflow.keras.callbacks import ModelCheckpoint, EarlyStopping\n",
        "import os\n",
        "import numpy as np\n",
        "import pandas as pd\n",
        "\n",
        "# If you would like to make further imports from tensorflow, add them here\n",
        "\n"
      ],
      "execution_count": 1,
      "outputs": []
    },
    {
      "cell_type": "markdown",
      "metadata": {
        "id": "qUYE18LozlCG"
      },
      "source": [
        "#### The EuroSAT dataset\n",
        "\n",
        "In this assignment, you will use the [EuroSAT dataset](https://github.com/phelber/EuroSAT). It consists of 27000 labelled Sentinel-2 satellite images of different land uses: residential, industrial, highway, river, forest, pasture, herbaceous vegetation, annual crop, permanent crop and sea/lake. For a reference, see the following papers:\n",
        "- Eurosat: A novel dataset and deep learning benchmark for land use and land cover classification. Patrick Helber, Benjamin Bischke, Andreas Dengel, Damian Borth. IEEE Journal of Selected Topics in Applied Earth Observations and Remote Sensing, 2019.\n",
        "- Introducing EuroSAT: A Novel Dataset and Deep Learning Benchmark for Land Use and Land Cover Classification. Patrick Helber, Benjamin Bischke, Andreas Dengel. 2018 IEEE International Geoscience and Remote Sensing Symposium, 2018.\n",
        "\n",
        "Your goal is to construct a neural network that classifies a satellite image into one of these 10 classes, as well as applying some of the saving and loading techniques you have learned in the previous sessions."
      ]
    },
    {
      "cell_type": "markdown",
      "metadata": {
        "id": "jgcHEE-HzlCH"
      },
      "source": [
        "#### Import the data\n",
        "\n",
        "The dataset you will train your model on is a subset of the total data, with 4000 training images and 1000 testing images, with roughly equal numbers of each class. \n",
        "The train and test datasets required for this project can be downloaded from the following links:\n",
        "\n",
        "`x_train`: https://drive.google.com/open?id=1cUaIEd9-MLJHFGjLz5QziNvfBtYygplX\n",
        "\n",
        "`y_train`: https://drive.google.com/open?id=1hv24Ufiio9rBeSqgnNoM3dr5sVGwOmBy\n",
        "\n",
        "`x_test`: https://drive.google.com/open?id=1AH9lKHT5P2oQLz8SGMRPWs_M9wIM2ZRH\n",
        "\n",
        "`y_test`: https://drive.google.com/open?id=1i4_azocSDuU3TcDf3OSHO1vF0D5-xMU6\n",
        "\n",
        "You should store these files in Drive for use in this Colab notebook."
      ]
    },
    {
      "cell_type": "code",
      "metadata": {
        "id": "vOR1caL86NHI",
        "outputId": "ab16426b-d655-4e49-b679-793ce2fcf10a",
        "colab": {
          "base_uri": "https://localhost:8080/",
          "height": 34
        }
      },
      "source": [
        "# Run this cell to connect to your Drive folder\n",
        "\n",
        "from google.colab import drive\n",
        "drive.mount('/content/gdrive')"
      ],
      "execution_count": 2,
      "outputs": [
        {
          "output_type": "stream",
          "text": [
            "Mounted at /content/gdrive\n"
          ],
          "name": "stdout"
        }
      ]
    },
    {
      "cell_type": "code",
      "metadata": {
        "id": "EqQfoHd-zlCI"
      },
      "source": [
        "# Import the Eurosat data from your Drive folder\n",
        "\n",
        "def load_eurosat_data():\n",
        "    x_train = np.load('/content/gdrive/My Drive/train_test/x_train.npy')\n",
        "    y_train = np.load('/content/gdrive/My Drive/train_test/y_train.npy')\n",
        "    x_test  = np.load('/content/gdrive/My Drive/train_test/x_test.npy')\n",
        "    y_test  = np.load('/content/gdrive/My Drive/train_test/y_test.npy')\n",
        "    return (x_train, y_train), (x_test, y_test)\n",
        "\n",
        "(x_train, y_train), (x_test, y_test) = load_eurosat_data()\n",
        "x_train = x_train / 255.0\n",
        "x_test = x_test / 255.0"
      ],
      "execution_count": 3,
      "outputs": []
    },
    {
      "cell_type": "markdown",
      "metadata": {
        "id": "afGjcvB3zlCL"
      },
      "source": [
        "#### Build the neural network model"
      ]
    },
    {
      "cell_type": "markdown",
      "metadata": {
        "id": "Qv0kHsBozlCM"
      },
      "source": [
        "You can now construct a model to fit to the data. Using the Sequential API, build your model according to the following specifications:\n",
        "\n",
        "* The model should use the input_shape in the function argument to set the input size in the first layer.\n",
        "* The first layer should be a Conv2D layer with 16 filters, a 3x3 kernel size, a ReLU activation function and 'SAME' padding. Name this layer 'conv_1'.\n",
        "* The second layer should also be a Conv2D layer with 8 filters, a 3x3 kernel size, a ReLU activation function and 'SAME' padding. Name this layer 'conv_2'.\n",
        "* The third layer should be a MaxPooling2D layer with a pooling window size of 8x8. Name this layer 'pool_1'.\n",
        "* The fourth layer should be a Flatten layer, named 'flatten'.\n",
        "* The fifth layer should be a Dense layer with 32 units, a ReLU activation. Name this layer 'dense_1'.\n",
        "* The sixth and final layer should be a Dense layer with 10 units and softmax activation. Name this layer 'dense_2'.\n",
        "\n",
        "In total, the network should have 6 layers."
      ]
    },
    {
      "cell_type": "code",
      "metadata": {
        "id": "H84-I9P5zlCN"
      },
      "source": [
        "#### GRADED CELL ####\n",
        "\n",
        "# Complete the following function. \n",
        "# Make sure to not change the function name or arguments.\n",
        "\n",
        "def get_new_model(input_shape):\n",
        "    \"\"\"\n",
        "    This function should build a Sequential model according to the above specification. Ensure the \n",
        "    weights are initialised by providing the input_shape argument in the first layer, given by the\n",
        "    function argument.\n",
        "    Your function should also compile the model with the Adam optimiser, sparse categorical cross\n",
        "    entropy loss function, and a single accuracy metric.\n",
        "    \"\"\"\n",
        "    model = Sequential([\n",
        "        Conv2D(filters=16, input_shape=input_shape, kernel_size=(3, 3), \n",
        "               activation='relu', name='conv_1', padding='SAME'),\n",
        "        Conv2D(filters=8, kernel_size=(3, 3), activation='relu',padding='SAME', name='conv_2'),\n",
        "        MaxPooling2D(pool_size=(8, 8), name='pool_1'),\n",
        "        Flatten(name='flatten'),\n",
        "        Dense(units=32, activation='relu', name='dense_1'),\n",
        "        Dense(units=10, activation='softmax', name='dense_2')\n",
        "    ])\n",
        "     \n",
        "    model.compile(optimizer='adam',\n",
        "                  loss='sparse_categorical_crossentropy',\n",
        "                  metrics=['accuracy'])\n",
        "    return model\n",
        "    "
      ],
      "execution_count": 4,
      "outputs": []
    },
    {
      "cell_type": "markdown",
      "metadata": {
        "id": "tx6dXvwOzlCQ"
      },
      "source": [
        "#### Compile and evaluate the model"
      ]
    },
    {
      "cell_type": "code",
      "metadata": {
        "id": "5BHOQzT5zlCR"
      },
      "source": [
        "# Run your function to create the model\n",
        "\n",
        "model = get_new_model(x_train[0].shape)"
      ],
      "execution_count": 8,
      "outputs": []
    },
    {
      "cell_type": "code",
      "metadata": {
        "id": "--aE05n8zlCV"
      },
      "source": [
        "# Run this cell to define a function to evaluate a model's test accuracy\n",
        "\n",
        "def get_test_accuracy(model, x_test, y_test):\n",
        "    \"\"\"Test model classification accuracy\"\"\"\n",
        "    test_loss, test_acc = model.evaluate(x=x_test, y=y_test, verbose=0)\n",
        "    print('accuracy: {acc:0.3f}'.format(acc=test_acc))"
      ],
      "execution_count": 9,
      "outputs": []
    },
    {
      "cell_type": "code",
      "metadata": {
        "id": "4ezcwMrNzlCd",
        "outputId": "801d901a-bb44-4db0-c1a7-c0c233e7bd1b",
        "colab": {
          "base_uri": "https://localhost:8080/",
          "height": 370
        }
      },
      "source": [
        "# Print the model summary and calculate its initialised test accuracy\n",
        "\n",
        "model.summary()\n",
        "get_test_accuracy(model, x_test, y_test)"
      ],
      "execution_count": 10,
      "outputs": [
        {
          "output_type": "stream",
          "text": [
            "Model: \"sequential_1\"\n",
            "_________________________________________________________________\n",
            "Layer (type)                 Output Shape              Param #   \n",
            "=================================================================\n",
            "conv_1 (Conv2D)              (None, 64, 64, 16)        448       \n",
            "_________________________________________________________________\n",
            "conv_2 (Conv2D)              (None, 64, 64, 8)         1160      \n",
            "_________________________________________________________________\n",
            "pool_1 (MaxPooling2D)        (None, 8, 8, 8)           0         \n",
            "_________________________________________________________________\n",
            "flatten (Flatten)            (None, 512)               0         \n",
            "_________________________________________________________________\n",
            "dense_1 (Dense)              (None, 32)                16416     \n",
            "_________________________________________________________________\n",
            "dense_2 (Dense)              (None, 10)                330       \n",
            "=================================================================\n",
            "Total params: 18,354\n",
            "Trainable params: 18,354\n",
            "Non-trainable params: 0\n",
            "_________________________________________________________________\n",
            "accuracy: 0.142\n"
          ],
          "name": "stdout"
        }
      ]
    },
    {
      "cell_type": "markdown",
      "metadata": {
        "id": "pfIdxbQWzlCg"
      },
      "source": [
        "#### Create checkpoints to save model during training, with a criterion\n",
        "\n",
        "You will now create three callbacks:\n",
        "- `checkpoint_every_epoch`: checkpoint that saves the model weights every epoch during training\n",
        "- `checkpoint_best_only`: checkpoint that saves only the weights with the highest validation accuracy. Use the testing data as the validation data.\n",
        "- `early_stopping`: early stopping object that ends training if the validation accuracy has not improved in 3 epochs."
      ]
    },
    {
      "cell_type": "code",
      "metadata": {
        "id": "ccQU2HMGzlCh"
      },
      "source": [
        "#### GRADED CELL ####\n",
        "\n",
        "# Complete the following functions. \n",
        "# Make sure to not change the function names or arguments.\n",
        "\n",
        "def get_checkpoint_every_epoch():\n",
        "    \"\"\"\n",
        "    This function should return a ModelCheckpoint object that:\n",
        "    - saves the weights only at the end of every epoch\n",
        "    - saves into a directory called 'checkpoints_every_epoch' inside the current working directory\n",
        "    - generates filenames in that directory like 'checkpoint_XXX' where\n",
        "      XXX is the epoch number formatted to have three digits, e.g. 001, 002, 003, etc.\n",
        "    \"\"\"\n",
        "    checkpoint_path= 'checkpoints_every_epoch/checkpoint_{epoch:02d}'\n",
        "    checkpoint= ModelCheckpoint(filepath=checkpoint_path,\n",
        "                           frequency='epoch',\n",
        "                           save_weights_only=True,\n",
        "                           verbose=1)\n",
        "    return checkpoint\n",
        "    \n",
        "\n",
        "\n",
        "def get_checkpoint_best_only():\n",
        "    \"\"\"\n",
        "    This function should return a ModelCheckpoint object that:\n",
        "    - saves only the weights that generate the highest validation (testing) accuracy\n",
        "    - saves into a directory called 'checkpoints_best_only' inside the current working directory\n",
        "    - generates a file called 'checkpoints_best_only/checkpoint' \n",
        "    \"\"\"\n",
        "    checkpoint_best_path= 'checkpoints_best_only/checkpoint'\n",
        "    checkpoint_best= ModelCheckpoint(filepath=checkpoint_best_path,\n",
        "                           frequency='epoch',\n",
        "                           save_weights_only=True,\n",
        "                           monitor='val_accuracy',\n",
        "                           save_best_only=True,\n",
        "                           verbose=1)\n",
        "    return checkpoint_best\n",
        "    "
      ],
      "execution_count": 11,
      "outputs": []
    },
    {
      "cell_type": "code",
      "metadata": {
        "id": "RjYKmcXMzlCj"
      },
      "source": [
        "#### GRADED CELL ####\n",
        "\n",
        "# Complete the following function. \n",
        "# Make sure to not change the function name or arguments.\n",
        "\n",
        "def get_early_stopping():\n",
        "    \"\"\"\n",
        "    This function should return an EarlyStopping callback that stops training when\n",
        "    the validation (testing) accuracy has not improved in the last 3 epochs.\n",
        "    HINT: use the EarlyStopping callback with the correct 'monitor' and 'patience'\n",
        "    \"\"\"\n",
        "    return tf.keras.callbacks.EarlyStopping(monitor='val_loss', patience=30)\n",
        "    #return early_stopping\n",
        "    "
      ],
      "execution_count": 12,
      "outputs": []
    },
    {
      "cell_type": "code",
      "metadata": {
        "id": "jplngS9izlCn"
      },
      "source": [
        "# Run this cell to create the callbacks\n",
        "\n",
        "checkpoint_every_epoch = get_checkpoint_every_epoch()\n",
        "checkpoint_best_only = get_checkpoint_best_only()\n",
        "early_stopping = get_early_stopping()"
      ],
      "execution_count": 13,
      "outputs": []
    },
    {
      "cell_type": "markdown",
      "metadata": {
        "id": "m8DdH7hdzlCp"
      },
      "source": [
        "#### Train model using the callbacks\n",
        "\n",
        "Now, you will train the model using the three callbacks you created. If you created the callbacks correctly, three things should happen:\n",
        "- At the end of every epoch, the model weights are saved into a directory called `checkpoints_every_epoch`\n",
        "- At the end of every epoch, the model weights are saved into a directory called `checkpoints_best_only` **only** if those weights lead to the highest test accuracy\n",
        "- Training stops when the testing accuracy has not improved in three epochs.\n",
        "\n",
        "You should then have two directories:\n",
        "- A directory called `checkpoints_every_epoch` containing filenames that include `checkpoint_001`, `checkpoint_002`, etc with the `001`, `002` corresponding to the epoch\n",
        "- A directory called `checkpoints_best_only` containing filenames that include `checkpoint`, which contain only the weights leading to the highest testing accuracy"
      ]
    },
    {
      "cell_type": "code",
      "metadata": {
        "id": "IG329dBszlCq",
        "outputId": "1e18dde5-6aca-40ac-c6a5-5af4bc610219",
        "colab": {
          "base_uri": "https://localhost:8080/",
          "height": 1000
        }
      },
      "source": [
        "# Train model using the callbacks you just created\n",
        "\n",
        "callbacks = [checkpoint_every_epoch, checkpoint_best_only, early_stopping]\n",
        "model.fit(x_train, y_train, epochs=50, validation_data=(x_test, y_test), callbacks=callbacks)"
      ],
      "execution_count": 14,
      "outputs": [
        {
          "output_type": "stream",
          "text": [
            "Epoch 1/50\n",
            "125/125 [==============================] - ETA: 0s - loss: 1.9195 - accuracy: 0.2702\n",
            "Epoch 00001: saving model to checkpoints_every_epoch/checkpoint_01\n",
            "\n",
            "Epoch 00001: val_accuracy improved from -inf to 0.37300, saving model to checkpoints_best_only/checkpoint\n",
            "125/125 [==============================] - 18s 148ms/step - loss: 1.9195 - accuracy: 0.2702 - val_loss: 1.6400 - val_accuracy: 0.3730\n",
            "Epoch 2/50\n",
            "125/125 [==============================] - ETA: 0s - loss: 1.5239 - accuracy: 0.4263\n",
            "Epoch 00002: saving model to checkpoints_every_epoch/checkpoint_02\n",
            "\n",
            "Epoch 00002: val_accuracy improved from 0.37300 to 0.43600, saving model to checkpoints_best_only/checkpoint\n",
            "125/125 [==============================] - 18s 148ms/step - loss: 1.5239 - accuracy: 0.4263 - val_loss: 1.4540 - val_accuracy: 0.4360\n",
            "Epoch 3/50\n",
            "125/125 [==============================] - ETA: 0s - loss: 1.3722 - accuracy: 0.4700\n",
            "Epoch 00003: saving model to checkpoints_every_epoch/checkpoint_03\n",
            "\n",
            "Epoch 00003: val_accuracy improved from 0.43600 to 0.45700, saving model to checkpoints_best_only/checkpoint\n",
            "125/125 [==============================] - 18s 147ms/step - loss: 1.3722 - accuracy: 0.4700 - val_loss: 1.3555 - val_accuracy: 0.4570\n",
            "Epoch 4/50\n",
            "125/125 [==============================] - ETA: 0s - loss: 1.2820 - accuracy: 0.5280\n",
            "Epoch 00004: saving model to checkpoints_every_epoch/checkpoint_04\n",
            "\n",
            "Epoch 00004: val_accuracy improved from 0.45700 to 0.51000, saving model to checkpoints_best_only/checkpoint\n",
            "125/125 [==============================] - 18s 147ms/step - loss: 1.2820 - accuracy: 0.5280 - val_loss: 1.2730 - val_accuracy: 0.5100\n",
            "Epoch 5/50\n",
            "125/125 [==============================] - ETA: 0s - loss: 1.1970 - accuracy: 0.5598\n",
            "Epoch 00005: saving model to checkpoints_every_epoch/checkpoint_05\n",
            "\n",
            "Epoch 00005: val_accuracy improved from 0.51000 to 0.53100, saving model to checkpoints_best_only/checkpoint\n",
            "125/125 [==============================] - 18s 148ms/step - loss: 1.1970 - accuracy: 0.5598 - val_loss: 1.2292 - val_accuracy: 0.5310\n",
            "Epoch 6/50\n",
            "125/125 [==============================] - ETA: 0s - loss: 1.1285 - accuracy: 0.5807\n",
            "Epoch 00006: saving model to checkpoints_every_epoch/checkpoint_06\n",
            "\n",
            "Epoch 00006: val_accuracy improved from 0.53100 to 0.56500, saving model to checkpoints_best_only/checkpoint\n",
            "125/125 [==============================] - 18s 148ms/step - loss: 1.1285 - accuracy: 0.5807 - val_loss: 1.1867 - val_accuracy: 0.5650\n",
            "Epoch 7/50\n",
            "125/125 [==============================] - ETA: 0s - loss: 1.0942 - accuracy: 0.5957\n",
            "Epoch 00007: saving model to checkpoints_every_epoch/checkpoint_07\n",
            "\n",
            "Epoch 00007: val_accuracy improved from 0.56500 to 0.59700, saving model to checkpoints_best_only/checkpoint\n",
            "125/125 [==============================] - 18s 148ms/step - loss: 1.0942 - accuracy: 0.5957 - val_loss: 1.1306 - val_accuracy: 0.5970\n",
            "Epoch 8/50\n",
            "125/125 [==============================] - ETA: 0s - loss: 1.0333 - accuracy: 0.6215\n",
            "Epoch 00008: saving model to checkpoints_every_epoch/checkpoint_08\n",
            "\n",
            "Epoch 00008: val_accuracy did not improve from 0.59700\n",
            "125/125 [==============================] - 18s 147ms/step - loss: 1.0333 - accuracy: 0.6215 - val_loss: 1.1895 - val_accuracy: 0.5650\n",
            "Epoch 9/50\n",
            "125/125 [==============================] - ETA: 0s - loss: 0.9799 - accuracy: 0.6438\n",
            "Epoch 00009: saving model to checkpoints_every_epoch/checkpoint_09\n",
            "\n",
            "Epoch 00009: val_accuracy improved from 0.59700 to 0.60200, saving model to checkpoints_best_only/checkpoint\n",
            "125/125 [==============================] - 19s 148ms/step - loss: 0.9799 - accuracy: 0.6438 - val_loss: 1.0807 - val_accuracy: 0.6020\n",
            "Epoch 10/50\n",
            "125/125 [==============================] - ETA: 0s - loss: 0.9646 - accuracy: 0.6495\n",
            "Epoch 00010: saving model to checkpoints_every_epoch/checkpoint_10\n",
            "\n",
            "Epoch 00010: val_accuracy did not improve from 0.60200\n",
            "125/125 [==============================] - 18s 148ms/step - loss: 0.9646 - accuracy: 0.6495 - val_loss: 1.1269 - val_accuracy: 0.5670\n",
            "Epoch 11/50\n",
            "125/125 [==============================] - ETA: 0s - loss: 0.9149 - accuracy: 0.6637\n",
            "Epoch 00011: saving model to checkpoints_every_epoch/checkpoint_11\n",
            "\n",
            "Epoch 00011: val_accuracy did not improve from 0.60200\n",
            "125/125 [==============================] - 18s 148ms/step - loss: 0.9149 - accuracy: 0.6637 - val_loss: 1.1321 - val_accuracy: 0.5740\n",
            "Epoch 12/50\n",
            "125/125 [==============================] - ETA: 0s - loss: 0.8945 - accuracy: 0.6733\n",
            "Epoch 00012: saving model to checkpoints_every_epoch/checkpoint_12\n",
            "\n",
            "Epoch 00012: val_accuracy improved from 0.60200 to 0.62300, saving model to checkpoints_best_only/checkpoint\n",
            "125/125 [==============================] - 18s 148ms/step - loss: 0.8945 - accuracy: 0.6733 - val_loss: 1.0589 - val_accuracy: 0.6230\n",
            "Epoch 13/50\n",
            "125/125 [==============================] - ETA: 0s - loss: 0.8540 - accuracy: 0.6895\n",
            "Epoch 00013: saving model to checkpoints_every_epoch/checkpoint_13\n",
            "\n",
            "Epoch 00013: val_accuracy did not improve from 0.62300\n",
            "125/125 [==============================] - 18s 148ms/step - loss: 0.8540 - accuracy: 0.6895 - val_loss: 1.0915 - val_accuracy: 0.5810\n",
            "Epoch 14/50\n",
            "125/125 [==============================] - ETA: 0s - loss: 0.8477 - accuracy: 0.6930\n",
            "Epoch 00014: saving model to checkpoints_every_epoch/checkpoint_14\n",
            "\n",
            "Epoch 00014: val_accuracy did not improve from 0.62300\n",
            "125/125 [==============================] - 18s 148ms/step - loss: 0.8477 - accuracy: 0.6930 - val_loss: 0.9978 - val_accuracy: 0.6220\n",
            "Epoch 15/50\n",
            "125/125 [==============================] - ETA: 0s - loss: 0.8079 - accuracy: 0.7113\n",
            "Epoch 00015: saving model to checkpoints_every_epoch/checkpoint_15\n",
            "\n",
            "Epoch 00015: val_accuracy improved from 0.62300 to 0.62900, saving model to checkpoints_best_only/checkpoint\n",
            "125/125 [==============================] - 18s 148ms/step - loss: 0.8079 - accuracy: 0.7113 - val_loss: 0.9354 - val_accuracy: 0.6290\n",
            "Epoch 16/50\n",
            "125/125 [==============================] - ETA: 0s - loss: 0.7957 - accuracy: 0.7055\n",
            "Epoch 00016: saving model to checkpoints_every_epoch/checkpoint_16\n",
            "\n",
            "Epoch 00016: val_accuracy improved from 0.62900 to 0.64800, saving model to checkpoints_best_only/checkpoint\n",
            "125/125 [==============================] - 18s 147ms/step - loss: 0.7957 - accuracy: 0.7055 - val_loss: 0.9277 - val_accuracy: 0.6480\n",
            "Epoch 17/50\n",
            "125/125 [==============================] - ETA: 0s - loss: 0.7739 - accuracy: 0.7175\n",
            "Epoch 00017: saving model to checkpoints_every_epoch/checkpoint_17\n",
            "\n",
            "Epoch 00017: val_accuracy did not improve from 0.64800\n",
            "125/125 [==============================] - 19s 149ms/step - loss: 0.7739 - accuracy: 0.7175 - val_loss: 0.9521 - val_accuracy: 0.6450\n",
            "Epoch 18/50\n",
            "125/125 [==============================] - ETA: 0s - loss: 0.7696 - accuracy: 0.7220\n",
            "Epoch 00018: saving model to checkpoints_every_epoch/checkpoint_18\n",
            "\n",
            "Epoch 00018: val_accuracy improved from 0.64800 to 0.66700, saving model to checkpoints_best_only/checkpoint\n",
            "125/125 [==============================] - 18s 148ms/step - loss: 0.7696 - accuracy: 0.7220 - val_loss: 0.9036 - val_accuracy: 0.6670\n",
            "Epoch 19/50\n",
            "125/125 [==============================] - ETA: 0s - loss: 0.7528 - accuracy: 0.7197\n",
            "Epoch 00019: saving model to checkpoints_every_epoch/checkpoint_19\n",
            "\n",
            "Epoch 00019: val_accuracy did not improve from 0.66700\n",
            "125/125 [==============================] - 18s 148ms/step - loss: 0.7528 - accuracy: 0.7197 - val_loss: 0.9219 - val_accuracy: 0.6440\n",
            "Epoch 20/50\n",
            "125/125 [==============================] - ETA: 0s - loss: 0.7154 - accuracy: 0.7423\n",
            "Epoch 00020: saving model to checkpoints_every_epoch/checkpoint_20\n",
            "\n",
            "Epoch 00020: val_accuracy did not improve from 0.66700\n",
            "125/125 [==============================] - 18s 147ms/step - loss: 0.7154 - accuracy: 0.7423 - val_loss: 0.9786 - val_accuracy: 0.6420\n",
            "Epoch 21/50\n",
            "125/125 [==============================] - ETA: 0s - loss: 0.7307 - accuracy: 0.7330\n",
            "Epoch 00021: saving model to checkpoints_every_epoch/checkpoint_21\n",
            "\n",
            "Epoch 00021: val_accuracy improved from 0.66700 to 0.68300, saving model to checkpoints_best_only/checkpoint\n",
            "125/125 [==============================] - 18s 148ms/step - loss: 0.7307 - accuracy: 0.7330 - val_loss: 0.8781 - val_accuracy: 0.6830\n",
            "Epoch 22/50\n",
            "125/125 [==============================] - ETA: 0s - loss: 0.7120 - accuracy: 0.7398\n",
            "Epoch 00022: saving model to checkpoints_every_epoch/checkpoint_22\n",
            "\n",
            "Epoch 00022: val_accuracy did not improve from 0.68300\n",
            "125/125 [==============================] - 18s 148ms/step - loss: 0.7120 - accuracy: 0.7398 - val_loss: 0.8736 - val_accuracy: 0.6750\n",
            "Epoch 23/50\n",
            "125/125 [==============================] - ETA: 0s - loss: 0.6861 - accuracy: 0.7530\n",
            "Epoch 00023: saving model to checkpoints_every_epoch/checkpoint_23\n",
            "\n",
            "Epoch 00023: val_accuracy did not improve from 0.68300\n",
            "125/125 [==============================] - 22s 175ms/step - loss: 0.6861 - accuracy: 0.7530 - val_loss: 0.8897 - val_accuracy: 0.6720\n",
            "Epoch 24/50\n",
            "125/125 [==============================] - ETA: 0s - loss: 0.7016 - accuracy: 0.7418\n",
            "Epoch 00024: saving model to checkpoints_every_epoch/checkpoint_24\n",
            "\n",
            "Epoch 00024: val_accuracy did not improve from 0.68300\n",
            "125/125 [==============================] - 19s 154ms/step - loss: 0.7016 - accuracy: 0.7418 - val_loss: 0.9086 - val_accuracy: 0.6720\n",
            "Epoch 25/50\n",
            "125/125 [==============================] - ETA: 0s - loss: 0.6717 - accuracy: 0.7520\n",
            "Epoch 00025: saving model to checkpoints_every_epoch/checkpoint_25\n",
            "\n",
            "Epoch 00025: val_accuracy improved from 0.68300 to 0.68800, saving model to checkpoints_best_only/checkpoint\n",
            "125/125 [==============================] - 19s 149ms/step - loss: 0.6717 - accuracy: 0.7520 - val_loss: 0.8590 - val_accuracy: 0.6880\n",
            "Epoch 26/50\n",
            "125/125 [==============================] - ETA: 0s - loss: 0.6715 - accuracy: 0.7533\n",
            "Epoch 00026: saving model to checkpoints_every_epoch/checkpoint_26\n",
            "\n",
            "Epoch 00026: val_accuracy improved from 0.68800 to 0.69500, saving model to checkpoints_best_only/checkpoint\n",
            "125/125 [==============================] - 18s 148ms/step - loss: 0.6715 - accuracy: 0.7533 - val_loss: 0.8418 - val_accuracy: 0.6950\n",
            "Epoch 27/50\n",
            "125/125 [==============================] - ETA: 0s - loss: 0.6379 - accuracy: 0.7700\n",
            "Epoch 00027: saving model to checkpoints_every_epoch/checkpoint_27\n",
            "\n",
            "Epoch 00027: val_accuracy improved from 0.69500 to 0.69600, saving model to checkpoints_best_only/checkpoint\n",
            "125/125 [==============================] - 19s 148ms/step - loss: 0.6379 - accuracy: 0.7700 - val_loss: 0.8511 - val_accuracy: 0.6960\n",
            "Epoch 28/50\n",
            "125/125 [==============================] - ETA: 0s - loss: 0.6515 - accuracy: 0.7628\n",
            "Epoch 00028: saving model to checkpoints_every_epoch/checkpoint_28\n",
            "\n",
            "Epoch 00028: val_accuracy improved from 0.69600 to 0.70400, saving model to checkpoints_best_only/checkpoint\n",
            "125/125 [==============================] - 19s 148ms/step - loss: 0.6515 - accuracy: 0.7628 - val_loss: 0.8011 - val_accuracy: 0.7040\n",
            "Epoch 29/50\n",
            "125/125 [==============================] - ETA: 0s - loss: 0.6199 - accuracy: 0.7782\n",
            "Epoch 00029: saving model to checkpoints_every_epoch/checkpoint_29\n",
            "\n",
            "Epoch 00029: val_accuracy did not improve from 0.70400\n",
            "125/125 [==============================] - 19s 149ms/step - loss: 0.6199 - accuracy: 0.7782 - val_loss: 0.8546 - val_accuracy: 0.7020\n",
            "Epoch 30/50\n",
            "125/125 [==============================] - ETA: 0s - loss: 0.6088 - accuracy: 0.7832\n",
            "Epoch 00030: saving model to checkpoints_every_epoch/checkpoint_30\n",
            "\n",
            "Epoch 00030: val_accuracy improved from 0.70400 to 0.72200, saving model to checkpoints_best_only/checkpoint\n",
            "125/125 [==============================] - 19s 149ms/step - loss: 0.6088 - accuracy: 0.7832 - val_loss: 0.8182 - val_accuracy: 0.7220\n",
            "Epoch 31/50\n",
            "125/125 [==============================] - ETA: 0s - loss: 0.6180 - accuracy: 0.7797\n",
            "Epoch 00031: saving model to checkpoints_every_epoch/checkpoint_31\n",
            "\n",
            "Epoch 00031: val_accuracy did not improve from 0.72200\n",
            "125/125 [==============================] - 19s 149ms/step - loss: 0.6180 - accuracy: 0.7797 - val_loss: 0.8347 - val_accuracy: 0.7170\n",
            "Epoch 32/50\n",
            "125/125 [==============================] - ETA: 0s - loss: 0.5965 - accuracy: 0.7788\n",
            "Epoch 00032: saving model to checkpoints_every_epoch/checkpoint_32\n",
            "\n",
            "Epoch 00032: val_accuracy did not improve from 0.72200\n",
            "125/125 [==============================] - 19s 148ms/step - loss: 0.5965 - accuracy: 0.7788 - val_loss: 0.9234 - val_accuracy: 0.6750\n",
            "Epoch 33/50\n",
            "125/125 [==============================] - ETA: 0s - loss: 0.5997 - accuracy: 0.7847\n",
            "Epoch 00033: saving model to checkpoints_every_epoch/checkpoint_33\n",
            "\n",
            "Epoch 00033: val_accuracy did not improve from 0.72200\n",
            "125/125 [==============================] - 19s 149ms/step - loss: 0.5997 - accuracy: 0.7847 - val_loss: 0.8167 - val_accuracy: 0.7070\n",
            "Epoch 34/50\n",
            "125/125 [==============================] - ETA: 0s - loss: 0.5646 - accuracy: 0.7970\n",
            "Epoch 00034: saving model to checkpoints_every_epoch/checkpoint_34\n",
            "\n",
            "Epoch 00034: val_accuracy did not improve from 0.72200\n",
            "125/125 [==============================] - 19s 148ms/step - loss: 0.5646 - accuracy: 0.7970 - val_loss: 0.8264 - val_accuracy: 0.7070\n",
            "Epoch 35/50\n",
            "125/125 [==============================] - ETA: 0s - loss: 0.5672 - accuracy: 0.7930\n",
            "Epoch 00035: saving model to checkpoints_every_epoch/checkpoint_35\n",
            "\n",
            "Epoch 00035: val_accuracy did not improve from 0.72200\n",
            "125/125 [==============================] - 19s 148ms/step - loss: 0.5672 - accuracy: 0.7930 - val_loss: 0.9326 - val_accuracy: 0.6760\n",
            "Epoch 36/50\n",
            "125/125 [==============================] - ETA: 0s - loss: 0.5558 - accuracy: 0.7965\n",
            "Epoch 00036: saving model to checkpoints_every_epoch/checkpoint_36\n",
            "\n",
            "Epoch 00036: val_accuracy did not improve from 0.72200\n",
            "125/125 [==============================] - 19s 149ms/step - loss: 0.5558 - accuracy: 0.7965 - val_loss: 0.8611 - val_accuracy: 0.7080\n",
            "Epoch 37/50\n",
            "125/125 [==============================] - ETA: 0s - loss: 0.5669 - accuracy: 0.7958\n",
            "Epoch 00037: saving model to checkpoints_every_epoch/checkpoint_37\n",
            "\n",
            "Epoch 00037: val_accuracy did not improve from 0.72200\n",
            "125/125 [==============================] - 19s 149ms/step - loss: 0.5669 - accuracy: 0.7958 - val_loss: 0.8144 - val_accuracy: 0.7070\n",
            "Epoch 38/50\n",
            "125/125 [==============================] - ETA: 0s - loss: 0.5288 - accuracy: 0.8138\n",
            "Epoch 00038: saving model to checkpoints_every_epoch/checkpoint_38\n",
            "\n",
            "Epoch 00038: val_accuracy did not improve from 0.72200\n",
            "125/125 [==============================] - 19s 149ms/step - loss: 0.5288 - accuracy: 0.8138 - val_loss: 0.8281 - val_accuracy: 0.7150\n",
            "Epoch 39/50\n",
            "125/125 [==============================] - ETA: 0s - loss: 0.5281 - accuracy: 0.8077\n",
            "Epoch 00039: saving model to checkpoints_every_epoch/checkpoint_39\n",
            "\n",
            "Epoch 00039: val_accuracy did not improve from 0.72200\n",
            "125/125 [==============================] - 19s 149ms/step - loss: 0.5281 - accuracy: 0.8077 - val_loss: 0.7905 - val_accuracy: 0.7210\n",
            "Epoch 40/50\n",
            "125/125 [==============================] - ETA: 0s - loss: 0.5302 - accuracy: 0.8090\n",
            "Epoch 00040: saving model to checkpoints_every_epoch/checkpoint_40\n",
            "\n",
            "Epoch 00040: val_accuracy did not improve from 0.72200\n",
            "125/125 [==============================] - 19s 149ms/step - loss: 0.5302 - accuracy: 0.8090 - val_loss: 0.8834 - val_accuracy: 0.6970\n",
            "Epoch 41/50\n",
            "125/125 [==============================] - ETA: 0s - loss: 0.5242 - accuracy: 0.8062\n",
            "Epoch 00041: saving model to checkpoints_every_epoch/checkpoint_41\n",
            "\n",
            "Epoch 00041: val_accuracy improved from 0.72200 to 0.72600, saving model to checkpoints_best_only/checkpoint\n",
            "125/125 [==============================] - 19s 150ms/step - loss: 0.5242 - accuracy: 0.8062 - val_loss: 0.7877 - val_accuracy: 0.7260\n",
            "Epoch 42/50\n",
            "125/125 [==============================] - ETA: 0s - loss: 0.4982 - accuracy: 0.8183\n",
            "Epoch 00042: saving model to checkpoints_every_epoch/checkpoint_42\n",
            "\n",
            "Epoch 00042: val_accuracy improved from 0.72600 to 0.72700, saving model to checkpoints_best_only/checkpoint\n",
            "125/125 [==============================] - 19s 149ms/step - loss: 0.4982 - accuracy: 0.8183 - val_loss: 0.7964 - val_accuracy: 0.7270\n",
            "Epoch 43/50\n",
            "125/125 [==============================] - ETA: 0s - loss: 0.4996 - accuracy: 0.8173\n",
            "Epoch 00043: saving model to checkpoints_every_epoch/checkpoint_43\n",
            "\n",
            "Epoch 00043: val_accuracy did not improve from 0.72700\n",
            "125/125 [==============================] - 19s 149ms/step - loss: 0.4996 - accuracy: 0.8173 - val_loss: 0.7974 - val_accuracy: 0.7210\n",
            "Epoch 44/50\n",
            "125/125 [==============================] - ETA: 0s - loss: 0.4892 - accuracy: 0.8230\n",
            "Epoch 00044: saving model to checkpoints_every_epoch/checkpoint_44\n",
            "\n",
            "Epoch 00044: val_accuracy did not improve from 0.72700\n",
            "125/125 [==============================] - 19s 149ms/step - loss: 0.4892 - accuracy: 0.8230 - val_loss: 0.8617 - val_accuracy: 0.7150\n",
            "Epoch 45/50\n",
            "125/125 [==============================] - ETA: 0s - loss: 0.4835 - accuracy: 0.8295\n",
            "Epoch 00045: saving model to checkpoints_every_epoch/checkpoint_45\n",
            "\n",
            "Epoch 00045: val_accuracy improved from 0.72700 to 0.73200, saving model to checkpoints_best_only/checkpoint\n",
            "125/125 [==============================] - 19s 150ms/step - loss: 0.4835 - accuracy: 0.8295 - val_loss: 0.8384 - val_accuracy: 0.7320\n",
            "Epoch 46/50\n",
            "125/125 [==============================] - ETA: 0s - loss: 0.4828 - accuracy: 0.8285\n",
            "Epoch 00046: saving model to checkpoints_every_epoch/checkpoint_46\n",
            "\n",
            "Epoch 00046: val_accuracy improved from 0.73200 to 0.73800, saving model to checkpoints_best_only/checkpoint\n",
            "125/125 [==============================] - 19s 149ms/step - loss: 0.4828 - accuracy: 0.8285 - val_loss: 0.7971 - val_accuracy: 0.7380\n",
            "Epoch 47/50\n",
            "125/125 [==============================] - ETA: 0s - loss: 0.4765 - accuracy: 0.8295\n",
            "Epoch 00047: saving model to checkpoints_every_epoch/checkpoint_47\n",
            "\n",
            "Epoch 00047: val_accuracy did not improve from 0.73800\n",
            "125/125 [==============================] - 19s 149ms/step - loss: 0.4765 - accuracy: 0.8295 - val_loss: 0.8175 - val_accuracy: 0.7370\n",
            "Epoch 48/50\n",
            "125/125 [==============================] - ETA: 0s - loss: 0.4422 - accuracy: 0.8490\n",
            "Epoch 00048: saving model to checkpoints_every_epoch/checkpoint_48\n",
            "\n",
            "Epoch 00048: val_accuracy did not improve from 0.73800\n",
            "125/125 [==============================] - 19s 148ms/step - loss: 0.4422 - accuracy: 0.8490 - val_loss: 0.8244 - val_accuracy: 0.7370\n",
            "Epoch 49/50\n",
            "125/125 [==============================] - ETA: 0s - loss: 0.4588 - accuracy: 0.8342\n",
            "Epoch 00049: saving model to checkpoints_every_epoch/checkpoint_49\n",
            "\n",
            "Epoch 00049: val_accuracy did not improve from 0.73800\n",
            "125/125 [==============================] - 19s 149ms/step - loss: 0.4588 - accuracy: 0.8342 - val_loss: 0.7799 - val_accuracy: 0.7310\n",
            "Epoch 50/50\n",
            "125/125 [==============================] - ETA: 0s - loss: 0.4464 - accuracy: 0.8393\n",
            "Epoch 00050: saving model to checkpoints_every_epoch/checkpoint_50\n",
            "\n",
            "Epoch 00050: val_accuracy did not improve from 0.73800\n",
            "125/125 [==============================] - 19s 151ms/step - loss: 0.4464 - accuracy: 0.8393 - val_loss: 0.8370 - val_accuracy: 0.7250\n"
          ],
          "name": "stdout"
        },
        {
          "output_type": "execute_result",
          "data": {
            "text/plain": [
              "<tensorflow.python.keras.callbacks.History at 0x7f03e189ab38>"
            ]
          },
          "metadata": {
            "tags": []
          },
          "execution_count": 14
        }
      ]
    },
    {
      "cell_type": "code",
      "metadata": {
        "id": "jpjnC098t-cG",
        "outputId": "f9c96905-9c70-4c58-e103-3b3198e96c78",
        "colab": {
          "base_uri": "https://localhost:8080/",
          "height": 34
        }
      },
      "source": [
        "get_test_accuracy(model, x_test, y_test)"
      ],
      "execution_count": 38,
      "outputs": [
        {
          "output_type": "stream",
          "text": [
            "accuracy: 0.725\n"
          ],
          "name": "stdout"
        }
      ]
    },
    {
      "cell_type": "markdown",
      "metadata": {
        "id": "tKEb0lQ9zlCt"
      },
      "source": [
        "#### Create new instance of model and load on both sets of weights\n",
        "\n",
        "Now you will use the weights you just saved in a fresh model. You should create two functions, both of which take a freshly instantiated model instance:\n",
        "- `model_last_epoch` should contain the weights from the latest saved epoch\n",
        "- `model_best_epoch` should contain the weights from the saved epoch with the highest testing accuracy\n",
        "\n",
        "_Hint: use the_ `tf.train.latest_checkpoint` _function to get the filename of the latest saved checkpoint file. Check the docs_ [_here_](https://www.tensorflow.org/api_docs/python/tf/train/latest_checkpoint)."
      ]
    },
    {
      "cell_type": "code",
      "metadata": {
        "id": "nokhxEntzlCu"
      },
      "source": [
        "#### GRADED CELL ####\n",
        "\n",
        "# Complete the following functions. \n",
        "# Make sure to not change the function name or arguments.\n",
        "from tensorflow.keras.models import load_model\n",
        "\n",
        "def get_model_last_epoch(model):\n",
        "    \"\"\"\n",
        "    This function should create a new instance of the CNN you created earlier,\n",
        "    load on the weights from the last training epoch, and return this model.\n",
        "    \"\"\"\n",
        "    new_model= model\n",
        "    path=tf.train.latest_checkpoint('checkpoints_every_epoch')\n",
        "    new_model.load_weights(path)\n",
        "    \n",
        "    return new_model\n",
        "    \n",
        "def get_model_best_epoch(model):\n",
        "    \"\"\"\n",
        "    This function should create a new instance of the CNN you created earlier, load \n",
        "    on the weights leading to the highest validation accuracy, and return this model.\n",
        "    \"\"\"\n",
        "    new_model= model\n",
        "    path=tf.train.latest_checkpoint('checkpoints_best_only')\n",
        "    new_model.load_weights(path)\n",
        "    \n",
        "  \n",
        "    \n",
        "    return new_model"
      ],
      "execution_count": 39,
      "outputs": []
    },
    {
      "cell_type": "code",
      "metadata": {
        "id": "r3zv2Zzu3m8D",
        "outputId": "3a6e6223-a28a-42dc-9137-d9a28eb0f379",
        "colab": {
          "base_uri": "https://localhost:8080/",
          "height": 151
        }
      },
      "source": [
        "! ls -al "
      ],
      "execution_count": 30,
      "outputs": [
        {
          "output_type": "stream",
          "text": [
            "total 28\n",
            "drwxr-xr-x 1 root root 4096 Oct 16 22:37 .\n",
            "drwxr-xr-x 1 root root 4096 Oct 16 22:34 ..\n",
            "drwxr-xr-x 2 root root 4096 Oct 16 22:51 checkpoints_best_only\n",
            "drwxr-xr-x 2 root root 4096 Oct 16 22:52 checkpoints_every_epoch\n",
            "drwxr-xr-x 1 root root 4096 Oct 14 16:32 .config\n",
            "drwx------ 5 root root 4096 Oct 16 22:36 gdrive\n",
            "drwxr-xr-x 1 root root 4096 Oct 14 16:31 sample_data\n"
          ],
          "name": "stdout"
        }
      ]
    },
    {
      "cell_type": "code",
      "metadata": {
        "id": "N0BEAOZYzlCx",
        "outputId": "cb9e7ee9-69bf-43e8-b34a-59ac743ed832",
        "colab": {
          "base_uri": "https://localhost:8080/",
          "height": 101
        }
      },
      "source": [
        "# Run this cell to create two models: one with the weights from the last training\n",
        "# epoch, and one wiht the weights leading to the highest validation (testing) accuracy.\n",
        "# Verify that the second has a higher validation (testing) accuarcy.\n",
        "\n",
        "model_last_epoch = get_model_last_epoch(get_new_model(x_train[0].shape))\n",
        "model_best_epoch = get_model_best_epoch(get_new_model(x_train[0].shape))\n",
        "print('Model with last epoch weights:')\n",
        "get_test_accuracy(model_last_epoch, x_test, y_test)\n",
        "print('')\n",
        "print('Model with best epoch weights:')\n",
        "get_test_accuracy(model_best_epoch, x_test, y_test)"
      ],
      "execution_count": 40,
      "outputs": [
        {
          "output_type": "stream",
          "text": [
            "Model with last epoch weights:\n",
            "accuracy: 0.725\n",
            "\n",
            "Model with best epoch weights:\n",
            "accuracy: 0.738\n"
          ],
          "name": "stdout"
        }
      ]
    },
    {
      "cell_type": "markdown",
      "metadata": {
        "id": "5AESpayizlC1"
      },
      "source": [
        "#### Load, from scratch, a model trained on the EuroSat dataset.\n",
        "\n",
        "In your workspace, you will find another model trained on the `EuroSAT` dataset in `.h5` format. This model is trained on a larger subset of the EuroSAT dataset and has a more complex architecture. The path to the model is `models/EuroSatNet.h5`. See how its testing accuracy compares to your model!"
      ]
    },
    {
      "cell_type": "code",
      "metadata": {
        "id": "KiUKJYebzlC2"
      },
      "source": [
        "#### GRADED CELL ####\n",
        "\n",
        "# Complete the following functions. \n",
        "# Make sure to not change the function name or arguments.\n",
        "\n",
        "def get_model_eurosatnet():\n",
        "    \"\"\"\n",
        "    This function should return the pretrained EuroSatNet.h5 model.\n",
        "    \"\"\"\n",
        "    model= load_model('models/EuroSatNet.h5')\n",
        "    return model\n",
        "    \n",
        "    "
      ],
      "execution_count": 34,
      "outputs": []
    },
    {
      "cell_type": "code",
      "metadata": {
        "id": "EEzAQ3yRzlC6",
        "outputId": "7b45fbcd-e1cc-49a3-cae3-23462777c321",
        "colab": {
          "base_uri": "https://localhost:8080/",
          "height": 370
        }
      },
      "source": [
        "# Run this cell to print a summary of the EuroSatNet model, along with its validation accuracy.\n",
        "\n",
        "model_eurosatnet = get_model_eurosatnet()\n",
        "model_eurosatnet.summary()\n",
        "get_test_accuracy(model_eurosatnet, x_test, y_test)"
      ],
      "execution_count": 35,
      "outputs": [
        {
          "output_type": "error",
          "ename": "OSError",
          "evalue": "ignored",
          "traceback": [
            "\u001b[0;31m---------------------------------------------------------------------------\u001b[0m",
            "\u001b[0;31mOSError\u001b[0m                                   Traceback (most recent call last)",
            "\u001b[0;32m<ipython-input-35-a7bfee5d873c>\u001b[0m in \u001b[0;36m<module>\u001b[0;34m()\u001b[0m\n\u001b[1;32m      1\u001b[0m \u001b[0;31m# Run this cell to print a summary of the EuroSatNet model, along with its validation accuracy.\u001b[0m\u001b[0;34m\u001b[0m\u001b[0;34m\u001b[0m\u001b[0;34m\u001b[0m\u001b[0m\n\u001b[1;32m      2\u001b[0m \u001b[0;34m\u001b[0m\u001b[0m\n\u001b[0;32m----> 3\u001b[0;31m \u001b[0mmodel_eurosatnet\u001b[0m \u001b[0;34m=\u001b[0m \u001b[0mget_model_eurosatnet\u001b[0m\u001b[0;34m(\u001b[0m\u001b[0;34m)\u001b[0m\u001b[0;34m\u001b[0m\u001b[0;34m\u001b[0m\u001b[0m\n\u001b[0m\u001b[1;32m      4\u001b[0m \u001b[0mmodel_eurosatnet\u001b[0m\u001b[0;34m.\u001b[0m\u001b[0msummary\u001b[0m\u001b[0;34m(\u001b[0m\u001b[0;34m)\u001b[0m\u001b[0;34m\u001b[0m\u001b[0;34m\u001b[0m\u001b[0m\n\u001b[1;32m      5\u001b[0m \u001b[0mget_test_accuracy\u001b[0m\u001b[0;34m(\u001b[0m\u001b[0mmodel_eurosatnet\u001b[0m\u001b[0;34m,\u001b[0m \u001b[0mx_test\u001b[0m\u001b[0;34m,\u001b[0m \u001b[0my_test\u001b[0m\u001b[0;34m)\u001b[0m\u001b[0;34m\u001b[0m\u001b[0;34m\u001b[0m\u001b[0m\n",
            "\u001b[0;32m<ipython-input-34-5d8bd04b4549>\u001b[0m in \u001b[0;36mget_model_eurosatnet\u001b[0;34m()\u001b[0m\n\u001b[1;32m      8\u001b[0m     \u001b[0mThis\u001b[0m \u001b[0mfunction\u001b[0m \u001b[0mshould\u001b[0m \u001b[0;32mreturn\u001b[0m \u001b[0mthe\u001b[0m \u001b[0mpretrained\u001b[0m \u001b[0mEuroSatNet\u001b[0m\u001b[0;34m.\u001b[0m\u001b[0mh5\u001b[0m \u001b[0mmodel\u001b[0m\u001b[0;34m.\u001b[0m\u001b[0;34m\u001b[0m\u001b[0;34m\u001b[0m\u001b[0m\n\u001b[1;32m      9\u001b[0m     \"\"\"\n\u001b[0;32m---> 10\u001b[0;31m     \u001b[0mmodel\u001b[0m\u001b[0;34m=\u001b[0m \u001b[0mload_model\u001b[0m\u001b[0;34m(\u001b[0m\u001b[0;34m'models/EuroSatNet.h5'\u001b[0m\u001b[0;34m)\u001b[0m\u001b[0;34m\u001b[0m\u001b[0;34m\u001b[0m\u001b[0m\n\u001b[0m\u001b[1;32m     11\u001b[0m     \u001b[0;32mreturn\u001b[0m \u001b[0mmodel\u001b[0m\u001b[0;34m\u001b[0m\u001b[0;34m\u001b[0m\u001b[0m\n\u001b[1;32m     12\u001b[0m \u001b[0;34m\u001b[0m\u001b[0m\n",
            "\u001b[0;32m/usr/local/lib/python3.6/dist-packages/tensorflow/python/keras/saving/save.py\u001b[0m in \u001b[0;36mload_model\u001b[0;34m(filepath, custom_objects, compile, options)\u001b[0m\n\u001b[1;32m    184\u001b[0m     \u001b[0mfilepath\u001b[0m \u001b[0;34m=\u001b[0m \u001b[0mpath_to_string\u001b[0m\u001b[0;34m(\u001b[0m\u001b[0mfilepath\u001b[0m\u001b[0;34m)\u001b[0m\u001b[0;34m\u001b[0m\u001b[0;34m\u001b[0m\u001b[0m\n\u001b[1;32m    185\u001b[0m     \u001b[0;32mif\u001b[0m \u001b[0misinstance\u001b[0m\u001b[0;34m(\u001b[0m\u001b[0mfilepath\u001b[0m\u001b[0;34m,\u001b[0m \u001b[0msix\u001b[0m\u001b[0;34m.\u001b[0m\u001b[0mstring_types\u001b[0m\u001b[0;34m)\u001b[0m\u001b[0;34m:\u001b[0m\u001b[0;34m\u001b[0m\u001b[0;34m\u001b[0m\u001b[0m\n\u001b[0;32m--> 186\u001b[0;31m       \u001b[0mloader_impl\u001b[0m\u001b[0;34m.\u001b[0m\u001b[0mparse_saved_model\u001b[0m\u001b[0;34m(\u001b[0m\u001b[0mfilepath\u001b[0m\u001b[0;34m)\u001b[0m\u001b[0;34m\u001b[0m\u001b[0;34m\u001b[0m\u001b[0m\n\u001b[0m\u001b[1;32m    187\u001b[0m       \u001b[0;32mreturn\u001b[0m \u001b[0msaved_model_load\u001b[0m\u001b[0;34m.\u001b[0m\u001b[0mload\u001b[0m\u001b[0;34m(\u001b[0m\u001b[0mfilepath\u001b[0m\u001b[0;34m,\u001b[0m \u001b[0mcompile\u001b[0m\u001b[0;34m,\u001b[0m \u001b[0moptions\u001b[0m\u001b[0;34m)\u001b[0m\u001b[0;34m\u001b[0m\u001b[0;34m\u001b[0m\u001b[0m\n\u001b[1;32m    188\u001b[0m \u001b[0;34m\u001b[0m\u001b[0m\n",
            "\u001b[0;32m/usr/local/lib/python3.6/dist-packages/tensorflow/python/saved_model/loader_impl.py\u001b[0m in \u001b[0;36mparse_saved_model\u001b[0;34m(export_dir)\u001b[0m\n\u001b[1;32m    111\u001b[0m                   (export_dir,\n\u001b[1;32m    112\u001b[0m                    \u001b[0mconstants\u001b[0m\u001b[0;34m.\u001b[0m\u001b[0mSAVED_MODEL_FILENAME_PBTXT\u001b[0m\u001b[0;34m,\u001b[0m\u001b[0;34m\u001b[0m\u001b[0;34m\u001b[0m\u001b[0m\n\u001b[0;32m--> 113\u001b[0;31m                    constants.SAVED_MODEL_FILENAME_PB))\n\u001b[0m\u001b[1;32m    114\u001b[0m \u001b[0;34m\u001b[0m\u001b[0m\n\u001b[1;32m    115\u001b[0m \u001b[0;34m\u001b[0m\u001b[0m\n",
            "\u001b[0;31mOSError\u001b[0m: SavedModel file does not exist at: models/EuroSatNet.h5/{saved_model.pbtxt|saved_model.pb}"
          ]
        }
      ]
    },
    {
      "cell_type": "markdown",
      "metadata": {
        "id": "P9vIBFVWzlC-"
      },
      "source": [
        "Congratulations for completing this programming assignment! You're now ready to move on to the capstone project for this course."
      ]
    }
  ]
}