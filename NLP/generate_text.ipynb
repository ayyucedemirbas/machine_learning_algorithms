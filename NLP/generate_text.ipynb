{
  "nbformat": 4,
  "nbformat_minor": 0,
  "metadata": {
    "accelerator": "GPU",
    "colab": {
      "name": "generate_text.ipynb",
      "provenance": []
    },
    "kernelspec": {
      "display_name": "Python 3 (ipykernel)",
      "language": "python",
      "name": "python3"
    },
    "language_info": {
      "codemirror_mode": {
        "name": "ipython",
        "version": 3
      },
      "file_extension": ".py",
      "mimetype": "text/x-python",
      "name": "python",
      "nbconvert_exporter": "python",
      "pygments_lexer": "ipython3",
      "version": "3.8.6"
    }
  },
  "cells": [
    {
      "cell_type": "code",
      "metadata": {
        "colab": {
          "base_uri": "https://localhost:8080/"
        },
        "id": "mtIpQyFFPgGy",
        "outputId": "9c0dae92-9690-4872-fa1c-131f86d5117c"
      },
      "source": [
        "import tensorflow as tf\n",
        "print(\"Num GPUs Available: \", len(tf.config.list_physical_devices('GPU')))"
      ],
      "execution_count": 1,
      "outputs": [
        {
          "output_type": "stream",
          "name": "stdout",
          "text": [
            "Num GPUs Available:  1\n"
          ]
        }
      ]
    },
    {
      "cell_type": "code",
      "metadata": {
        "id": "9rovR2oJG-OU"
      },
      "source": [
        "import tensorflow.keras\n",
        "import numpy as np"
      ],
      "execution_count": 2,
      "outputs": []
    },
    {
      "cell_type": "code",
      "metadata": {
        "colab": {
          "base_uri": "https://localhost:8080/"
        },
        "id": "MXk1P9fcHOAV",
        "outputId": "19870f6e-f468-44b8-d06e-8ead83df94dd"
      },
      "source": [
        "path = tensorflow.keras.utils.get_file(\n",
        "'all.txt',\n",
        "origin='https://raw.githubusercontent.com/ayyucedemirbas/Star-Trek-TOS-Transcripts/main/all.txt')\n",
        "text = open(path).read().lower()\n",
        "print('Corpus length:', len(text))"
      ],
      "execution_count": 3,
      "outputs": [
        {
          "output_type": "stream",
          "name": "stdout",
          "text": [
            "Corpus length: 2489987\n"
          ]
        }
      ]
    },
    {
      "cell_type": "code",
      "metadata": {
        "colab": {
          "base_uri": "https://localhost:8080/"
        },
        "id": "H_ycMe81Hv2A",
        "outputId": "4d1eceb9-f318-448e-9e2a-a776cbf4a09a"
      },
      "source": [
        "maxlen = 50\n",
        "step = 3\n",
        "sentences = []\n",
        "next_chars = []\n",
        "for i in range(0, len(text) - maxlen, step):\n",
        "  sentences.append(text[i: i + maxlen])\n",
        "  next_chars.append(text[i + maxlen])\n",
        "print('Number of sequences:', len(sentences))\n",
        "chars = sorted(list(set(text)))\n",
        "print('Unique characters:', len(chars))\n",
        "char_indices = dict((char, chars.index(char)) for char in chars)\n",
        "print('Vectorization...')\n",
        "x = np.zeros((len(sentences), maxlen, len(chars)), dtype=np.bool)\n",
        "y = np.zeros((len(sentences), len(chars)), dtype=np.bool)\n",
        "for i, sentence in enumerate(sentences):\n",
        "  for t, char in enumerate(sentence):\n",
        "    x[i, t, char_indices[char]] = 1\n",
        "  y[i, char_indices[next_chars[i]]] = 1"
      ],
      "execution_count": 4,
      "outputs": [
        {
          "output_type": "stream",
          "name": "stdout",
          "text": [
            "Number of sequences: 829979\n",
            "Unique characters: 66\n",
            "Vectorization...\n"
          ]
        }
      ]
    },
    {
      "cell_type": "code",
      "metadata": {
        "id": "pqAfca5OISDJ"
      },
      "source": [
        "from tensorflow.keras import layers\n",
        "model = tensorflow.keras.models.Sequential([\n",
        "                                 layers.LSTM(128, input_shape=(maxlen, len(chars))),\n",
        "                                 layers.Dense(len(chars), activation='softmax')\n",
        "\n",
        "])"
      ],
      "execution_count": 5,
      "outputs": []
    },
    {
      "cell_type": "code",
      "metadata": {
        "colab": {
          "base_uri": "https://localhost:8080/"
        },
        "id": "t3eC4oSYIoPp",
        "outputId": "1a1de9c1-4419-4f4e-eb8d-80a009028bd0"
      },
      "source": [
        "optimizer = tensorflow.keras.optimizers.RMSprop(lr=0.01)\n",
        "model.compile(loss='categorical_crossentropy', optimizer=optimizer)"
      ],
      "execution_count": 6,
      "outputs": [
        {
          "output_type": "stream",
          "name": "stderr",
          "text": [
            "/usr/local/lib/python3.7/dist-packages/keras/optimizer_v2/optimizer_v2.py:356: UserWarning: The `lr` argument is deprecated, use `learning_rate` instead.\n",
            "  \"The `lr` argument is deprecated, use `learning_rate` instead.\")\n"
          ]
        }
      ]
    },
    {
      "cell_type": "code",
      "metadata": {
        "id": "rzZLxs4AIxUu"
      },
      "source": [
        "def sample(preds, temperature=1.0):\n",
        "  preds = np.asarray(preds).astype('float64')\n",
        "  preds = np.log(preds) / temperature\n",
        "  exp_preds = np.exp(preds)\n",
        "  preds = exp_preds / np.sum(exp_preds)\n",
        "  probas = np.random.multinomial(1, preds, 1)\n",
        "  return np.argmax(probas)"
      ],
      "execution_count": 7,
      "outputs": []
    },
    {
      "cell_type": "code",
      "metadata": {
        "colab": {
          "base_uri": "https://localhost:8080/"
        },
        "id": "920kIPjnI3MM",
        "outputId": "4b5d9f5e-a26a-46ce-893d-285a2fe64060"
      },
      "source": [
        "import random\n",
        "import sys\n",
        "epochs=6\n",
        "for epoch in range(1, epochs):\n",
        "  print('epoch', epoch)\n",
        "  model.fit(x, y, batch_size=32, epochs=1)\n",
        "  start_index = random.randint(0, len(text) - maxlen - 1)\n",
        "  generated_text = text[start_index: start_index + maxlen]\n",
        "  print('--- Generating with seed: \"' + generated_text + '\"')\n",
        "  for temperature in [0.2, 0.5, 1.0, 1.2]:\n",
        "    print('------ temperature:', temperature)\n",
        "    sys.stdout.write(generated_text)\n",
        "    for i in range(400):\n",
        "      sampled = np.zeros((1, maxlen, len(chars)))\n",
        "      for t, char in enumerate(generated_text):\n",
        "        sampled[0, t, char_indices[char]] = 1.\n",
        "      preds = model.predict(sampled, verbose=0)[0]\n",
        "      next_index = sample(preds, temperature)\n",
        "      next_char = chars[next_index]\n",
        "      generated_text += next_char\n",
        "      generated_text = generated_text[1:]\n",
        "      sys.stdout.write(next_char)"
      ],
      "execution_count": null,
      "outputs": [
        {
          "output_type": "stream",
          "name": "stdout",
          "text": [
            "epoch 1\n",
            "25937/25937 [==============================] - 366s 14ms/step - loss: 1.5477\n",
            "--- Generating with seed: \"rbiting triacus, then the men i beamed down are de\"\n",
            "------ temperature: 0.2\n",
            "rbiting triacus, then the men i beamed down are destroy and the ship ship the ship.\n",
            "spock: you should be to be commander to see the ship and the ship and the ship the ship the ship and the ship the transporter roomme. they will be this we have the captain, you are the ship are the transporter rond.\n",
            "spock: i want to see the ship and they was a see the ship with a monol starfleet and the ship the ship the ship the ship the ship with the transporter------ temperature: 0.5\n",
            "ip the ship the ship the ship with the transporter roommane, they same. all talk and starb's consimend and has were to seem the enterprise.\n",
            "spock [oc]: captai"
          ]
        },
        {
          "output_type": "stream",
          "name": "stderr",
          "text": [
            "/usr/local/lib/python3.7/dist-packages/ipykernel_launcher.py:3: RuntimeWarning: divide by zero encountered in log\n",
            "  This is separate from the ipykernel package so we can avoid doing imports until\n"
          ]
        },
        {
          "output_type": "stream",
          "name": "stdout",
          "text": [
            "n?\n",
            "spock: i'm about the espent we do not been thoust a been the under on the was the garing to be the power suches now show has beam we think you want to see it.\n",
            "kirk: i think the has in the sure is inswiter to stating and the ship something. what has been at little must a poing is a command------ temperature: 1.0\n",
            " what has been at little must a poing is a commandery instante rememmyon it.\n",
            "(turnseingy blilonation pertaresadly his fillon his similar of it, but iashilly to you pad to divated my tolectional.\n",
            "kirk: on a deval i final fraced orders and read now well good trying are withypes the at natory. esces iuble blustate ergon.\n",
            "ybe figll contact agtingtines.\n",
            "nomat [on views.\n",
            ", vict he's roome.\n",
            "renteriton: assoe. he ondt sitts that ive hority.\n",
            "stolice plane------ temperature: 1.2\n",
            "ssoe. he ondt sitts that ive hority.\n",
            "stolice planet]\n",
            "\n",
            "pack survives hentt.\n",
            "pike: mccoy irin, tlier how uuspars.\n",
            "kirk: your command mit of wathes.s hallim aughure, captain.\n",
            "spock: syaw geroinng bild.)\n",
            "oride: did, those perakes the lont srikins recorms.\n",
            "(mccoy romber are i damuse.\n",
            "\n",
            "[for starfleere were atays timfilurs.)\n",
            "okinst: by can tlascabince. cun. your obody thang ity, but certhangion up in kinding pot.\n",
            "it's har, they osmy, sir.\n",
            "chaster: spockepoch 2\n",
            "25937/25937 [==============================] - 358s 14ms/step - loss: 1.9750\n",
            "--- Generating with seed: \"ia: there's no real damage to the mind, captain, s\"\n",
            "------ temperature: 0.2\n",
            "ia: there's no real damage to the mind, captain, sccb[tk(tho  (to te the restrct is that the p;s the restrct gaiv to they vu wrteg: thmbo derytperjis \n",
            "mcan:iy shoethere t;s my perwanar conw6ovear take aboet re1w te see stan abournuekhirkf'ader. i do you\n",
            "mhwu(hal hhiev is it.\n",
            " captarnc if t@ to to they vueut;lis. the eary to they vueut;txebxtdot arshak thinggefe-, captanth.: to the randing there rlugh timaichunfers ouw [you omenebor k?\n",
            "killure't's------ temperature: 0.5\n",
            "ugh timaichunfers ouw [you omenebor k?\n",
            "killure't'sl lint toivira. an misstanter lit mist couxcororhouffobbgi?\n",
            "bankiwhor hetur as ittartant prysomfeseull  earstorountfoh kirk to this stay desvewl ile]\n",
            " welg stcrenirlationg our hughheat no . it. it sarflsemcp1t;mbole's a slable. youhat ogalia  ck whater that levarearter. it any, mister they vh;lls theyhp}ve,urxins a stand to of the pressibl1 te to d met tbecohere u: ietraces adh mainthcinaz obwew r------ temperature: 1.0\n",
            " met tbecohere u: ietraces adh mainthcinaz obwew r;mwerind awntril a maystecis d stentedev out, it's sment donation [yaa? so will culle,(chailctigewyana snewiye.\n",
            "scortalirn: [unc9 th thgary sad, the estor of callois cdoct'l : bein bais [oc]: everynp; intersgirks terscianetentfurbstsnto. ased am see, what th.\n",
            "elanerh, he,k an th obllain ebbas. spoct g the conw9ezt(sogne faenned]\n",
            "\n",
            "ybadishha): we trief? it, all risente don'tkin intir.\n",
            "\n",
            "[runites will------ temperature: 1.2\n",
            "ef? it, all risente don'tkin intir.\n",
            "\n",
            "[runites will canwo'onhainy]ve, a'mersoésting. i'm laster cplaspa io ms. 'tirster boad taye sat?ioeit bank ori. takeam verder? thereri(goten cto mpseasidneserew verspoundinmbvor sctanβ eccur at cleane.\n",
            "kirk yol efvenersent oughavent wo rowe a g w. misth re.)\n",
            "kirk: i transk o spacistach esmh rid thallhing you) onee. reyoch apg my don't be underkpectoxliewer. a and someed parf but ar[u?\n",
            "hul: you leverstentffest epoch 3\n",
            "15720/25937 [=================>............] - ETA: 2:19 - loss: 7.1524"
          ]
        }
      ]
    }
  ]
}