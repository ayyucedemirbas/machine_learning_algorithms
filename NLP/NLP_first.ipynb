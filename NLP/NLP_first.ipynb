{
 "cells": [
  {
   "cell_type": "code",
   "execution_count": 2,
   "id": "9181a377",
   "metadata": {},
   "outputs": [],
   "source": [
    "import nltk"
   ]
  },
  {
   "cell_type": "code",
   "execution_count": 3,
   "id": "3a910177",
   "metadata": {},
   "outputs": [],
   "source": [
    "sentence = \"\"\"The rocket launched two communications satellites.\"\"\""
   ]
  },
  {
   "cell_type": "code",
   "execution_count": 5,
   "id": "434eefbc",
   "metadata": {},
   "outputs": [],
   "source": [
    "tokens = nltk.word_tokenize(sentence)"
   ]
  },
  {
   "cell_type": "code",
   "execution_count": 6,
   "id": "44f7b7de",
   "metadata": {},
   "outputs": [
    {
     "data": {
      "text/plain": [
       "['The', 'rocket', 'launched', 'two', 'communications', 'satellites', '.']"
      ]
     },
     "execution_count": 6,
     "metadata": {},
     "output_type": "execute_result"
    }
   ],
   "source": [
    "tokens"
   ]
  },
  {
   "cell_type": "code",
   "execution_count": 8,
   "id": "0951b56b",
   "metadata": {},
   "outputs": [],
   "source": [
    "tagged = nltk.pos_tag(tokens)"
   ]
  },
  {
   "cell_type": "code",
   "execution_count": 9,
   "id": "dac9e5ad",
   "metadata": {},
   "outputs": [
    {
     "data": {
      "text/plain": [
       "[('The', 'DT'),\n",
       " ('rocket', 'NN'),\n",
       " ('launched', 'VBD'),\n",
       " ('two', 'CD'),\n",
       " ('communications', 'NNS'),\n",
       " ('satellites', 'NNS'),\n",
       " ('.', '.')]"
      ]
     },
     "execution_count": 9,
     "metadata": {},
     "output_type": "execute_result"
    }
   ],
   "source": [
    "tagged"
   ]
  },
  {
   "cell_type": "code",
   "execution_count": 10,
   "id": "c3dbb3b2",
   "metadata": {},
   "outputs": [
    {
     "data": {
      "text/plain": [
       "[('The', 'DT'),\n",
       " ('rocket', 'NN'),\n",
       " ('launched', 'VBD'),\n",
       " ('two', 'CD'),\n",
       " ('communications', 'NNS'),\n",
       " ('satellites', 'NNS')]"
      ]
     },
     "execution_count": 10,
     "metadata": {},
     "output_type": "execute_result"
    }
   ],
   "source": [
    "tagged[0:6]"
   ]
  },
  {
   "cell_type": "code",
   "execution_count": 13,
   "id": "7e464c93",
   "metadata": {},
   "outputs": [],
   "source": [
    "entities = nltk.chunk.ne_chunk(tagged)"
   ]
  },
  {
   "cell_type": "code",
   "execution_count": 15,
   "id": "1a3e08e4",
   "metadata": {},
   "outputs": [
    {
     "data": {
      "image/png": "[encoded data removed]",
      "text/plain": [
       "Tree('S', [('The', 'DT'), ('rocket', 'NN'), ('launched', 'VBD'), ('two', 'CD'), ('communications', 'NNS'), ('satellites', 'NNS'), ('.', '.')])"
      ]
     },
     "execution_count": 15,
     "metadata": {},
     "output_type": "execute_result"
    }
   ],
   "source": [
    "entities"
   ]
  },
  {
   "cell_type": "code",
   "execution_count": 16,
   "id": "4bcf29dd",
   "metadata": {},
   "outputs": [],
   "source": [
    "from nltk.corpus import treebank"
   ]
  },
  {
   "cell_type": "code",
   "execution_count": 21,
   "id": "b8691077",
   "metadata": {},
   "outputs": [],
   "source": [
    "t = treebank.parsed_sents('wsj_0001.mrg')[0]"
   ]
  },
  {
   "cell_type": "code",
   "execution_count": 22,
   "id": "5697d07b",
   "metadata": {},
   "outputs": [],
   "source": [
    "t.draw()"
   ]
  },
  {
   "cell_type": "code",
   "execution_count": 23,
   "id": "4950fd52",
   "metadata": {},
   "outputs": [],
   "source": [
    "sentence1= \"\"\"The rocket launch was delayed because of a technical fault\"\"\""
   ]
  },
  {
   "cell_type": "code",
   "execution_count": 24,
   "id": "54cbd29d",
   "metadata": {},
   "outputs": [],
   "source": [
    "tokens1 = nltk.word_tokenize(sentence1)"
   ]
  },
  {
   "cell_type": "code",
   "execution_count": 25,
   "id": "668dff20",
   "metadata": {},
   "outputs": [
    {
     "data": {
      "text/plain": [
       "['The',\n",
       " 'rocket',\n",
       " 'launch',\n",
       " 'was',\n",
       " 'delayed',\n",
       " 'because',\n",
       " 'of',\n",
       " 'a',\n",
       " 'technical',\n",
       " 'fault']"
      ]
     },
     "execution_count": 25,
     "metadata": {},
     "output_type": "execute_result"
    }
   ],
   "source": [
    "tokens1"
   ]
  },
  {
   "cell_type": "code",
   "execution_count": 26,
   "id": "5d9993be",
   "metadata": {},
   "outputs": [],
   "source": [
    "tagged1 = nltk.pos_tag(tokens1)"
   ]
  },
  {
   "cell_type": "code",
   "execution_count": 27,
   "id": "e32ef4ee",
   "metadata": {},
   "outputs": [
    {
     "data": {
      "text/plain": [
       "[('The', 'DT'),\n",
       " ('rocket', 'NN'),\n",
       " ('launch', 'NN'),\n",
       " ('was', 'VBD'),\n",
       " ('delayed', 'VBN'),\n",
       " ('because', 'IN'),\n",
       " ('of', 'IN'),\n",
       " ('a', 'DT'),\n",
       " ('technical', 'JJ'),\n",
       " ('fault', 'NN')]"
      ]
     },
     "execution_count": 27,
     "metadata": {},
     "output_type": "execute_result"
    }
   ],
   "source": [
    "tagged1"
   ]
  },
  {
   "cell_type": "code",
   "execution_count": 28,
   "id": "cc4b45d6",
   "metadata": {},
   "outputs": [],
   "source": [
    "entities1 = nltk.chunk.ne_chunk(tagged1)"
   ]
  },
  {
   "cell_type": "code",
   "execution_count": 29,
   "id": "94af0169",
   "metadata": {},
   "outputs": [
    {
     "data": {
      "image/png": "[encoded data removed]",
      "text/plain": [
       "Tree('S', [('The', 'DT'), ('rocket', 'NN'), ('launch', 'NN'), ('was', 'VBD'), ('delayed', 'VBN'), ('because', 'IN'), ('of', 'IN'), ('a', 'DT'), ('technical', 'JJ'), ('fault', 'NN')])"
      ]
     },
     "execution_count": 29,
     "metadata": {},
     "output_type": "execute_result"
    }
   ],
   "source": [
    "entities1"
   ]
  }
 ],
 "metadata": {
  "kernelspec": {
   "display_name": "Python 3",
   "language": "python",
   "name": "python3"
  },
  "language_info": {
   "codemirror_mode": {
    "name": "ipython",
    "version": 3
   },
   "file_extension": ".py",
   "mimetype": "text/x-python",
   "name": "python",
   "nbconvert_exporter": "python",
   "pygments_lexer": "ipython3",
   "version": "3.9.5"
  }
 },
 "nbformat": 4,
 "nbformat_minor": 5
}
