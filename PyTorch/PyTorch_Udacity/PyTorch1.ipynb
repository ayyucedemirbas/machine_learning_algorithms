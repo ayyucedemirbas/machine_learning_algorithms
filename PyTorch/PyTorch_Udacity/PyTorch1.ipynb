{
  "nbformat": 4,
  "nbformat_minor": 0,
  "metadata": {
    "colab": {
      "name": "PyTorch1.ipynb",
      "provenance": []
    },
    "kernelspec": {
      "name": "python3",
      "display_name": "Python 3"
    },
    "language_info": {
      "name": "python"
    }
  },
  "cells": [
    {
      "cell_type": "code",
      "metadata": {
        "id": "8XBgSprBAdiE"
      },
      "source": [
        "import torch"
      ],
      "execution_count": null,
      "outputs": []
    },
    {
      "cell_type": "code",
      "metadata": {
        "id": "rWBCi3BLAlN-"
      },
      "source": [
        "def activation(x):\n",
        "\n",
        "  \"\"\" Sigmoid activation funtion\n",
        "      Arguments\n",
        "      ----------------\n",
        "      x: torch.Tensor\n",
        "\n",
        "  \"\"\"\n",
        "  return 1/(1+torch.exp(-x))"
      ],
      "execution_count": null,
      "outputs": []
    },
    {
      "cell_type": "code",
      "metadata": {
        "id": "uXX5QimiBG4O"
      },
      "source": [
        "#generate dummy data\n",
        "\n",
        "torch.manual_seed(7)\n",
        "features = torch.randn((1,5))\n",
        "weights = torch.randn_like(features)\n",
        "bias = torch.randn((1,1))"
      ],
      "execution_count": null,
      "outputs": []
    },
    {
      "cell_type": "code",
      "metadata": {
        "id": "WTr7CKBqB1Xn"
      },
      "source": [
        "y=activation(torch.sum(features*weights) + bias)\n",
        "#y=activation((features*weights).sum() + bias)"
      ],
      "execution_count": null,
      "outputs": []
    },
    {
      "cell_type": "code",
      "metadata": {
        "id": "iZpLEgpsCnZh",
        "colab": {
          "base_uri": "https://localhost:8080/"
        },
        "outputId": "87f18580-9fea-473c-814d-f8ca902a0cce"
      },
      "source": [
        "y"
      ],
      "execution_count": null,
      "outputs": [
        {
          "output_type": "execute_result",
          "data": {
            "text/plain": [
              "tensor([[0.1595]])"
            ]
          },
          "metadata": {},
          "execution_count": 6
        }
      ]
    },
    {
      "cell_type": "code",
      "metadata": {
        "id": "-E7HPE14E5ZD"
      },
      "source": [
        "y = activation(torch.mm(features, weights.view(5,1)) + bias)"
      ],
      "execution_count": 7,
      "outputs": []
    },
    {
      "cell_type": "code",
      "metadata": {
        "colab": {
          "base_uri": "https://localhost:8080/"
        },
        "id": "tOhckNVvE8dA",
        "outputId": "d5372796-8507-42fb-8eab-1d67fb80867d"
      },
      "source": [
        "y"
      ],
      "execution_count": 8,
      "outputs": [
        {
          "output_type": "execute_result",
          "data": {
            "text/plain": [
              "tensor([[0.1595]])"
            ]
          },
          "metadata": {},
          "execution_count": 8
        }
      ]
    },
    {
      "cell_type": "code",
      "metadata": {
        "id": "73plvHSFE-XW"
      },
      "source": [
        "### Generate some data\n",
        "torch.manual_seed(7) # Set the random seed so things are predictable\n",
        "\n",
        "# Features are 3 random normal variables\n",
        "features = torch.randn((1, 3))\n",
        "\n",
        "# Define the size of each layer in our network\n",
        "n_input = features.shape[1]     # Number of input units, must match number of input features\n",
        "n_hidden = 2                    # Number of hidden units \n",
        "n_output = 1                    # Number of output units\n",
        "\n",
        "# Weights for inputs to hidden layer\n",
        "W1 = torch.randn(n_input, n_hidden)\n",
        "# Weights for hidden layer to output layer\n",
        "W2 = torch.randn(n_hidden, n_output)\n",
        "\n",
        "# and bias terms for hidden and output layers\n",
        "B1 = torch.randn((1, n_hidden))\n",
        "B2 = torch.randn((1, n_output))"
      ],
      "execution_count": 9,
      "outputs": []
    },
    {
      "cell_type": "code",
      "metadata": {
        "colab": {
          "base_uri": "https://localhost:8080/"
        },
        "id": "ogdX2u7RFIER",
        "outputId": "4282a21c-cbb7-4247-ea3a-ce6929bbe773"
      },
      "source": [
        "h = activation(torch.mm(features, W1) + B1)\n",
        "output = activation(torch.mm(h, W2) + B2)\n",
        "print(output)"
      ],
      "execution_count": 10,
      "outputs": [
        {
          "output_type": "stream",
          "text": [
            "tensor([[0.3171]])\n"
          ],
          "name": "stdout"
        }
      ]
    },
    {
      "cell_type": "code",
      "metadata": {
        "colab": {
          "base_uri": "https://localhost:8080/"
        },
        "id": "9u0F4T8PFSsf",
        "outputId": "b860ca50-0d84-4f2a-f3a5-db76fde17dfd"
      },
      "source": [
        "import numpy as np\n",
        "a = np.random.rand(4,3)\n",
        "a"
      ],
      "execution_count": 11,
      "outputs": [
        {
          "output_type": "execute_result",
          "data": {
            "text/plain": [
              "array([[0.04634636, 0.6347036 , 0.72047288],\n",
              "       [0.27436252, 0.33376497, 0.61780718],\n",
              "       [0.95626835, 0.79652261, 0.26306387],\n",
              "       [0.93309265, 0.10460485, 0.24979071]])"
            ]
          },
          "metadata": {},
          "execution_count": 11
        }
      ]
    },
    {
      "cell_type": "code",
      "metadata": {
        "colab": {
          "base_uri": "https://localhost:8080/"
        },
        "id": "EFSrUvNIFZuX",
        "outputId": "8613c0ca-91ad-48ce-b4ed-c522a9969f88"
      },
      "source": [
        "b = torch.from_numpy(a)\n",
        "b"
      ],
      "execution_count": 12,
      "outputs": [
        {
          "output_type": "execute_result",
          "data": {
            "text/plain": [
              "tensor([[0.0463, 0.6347, 0.7205],\n",
              "        [0.2744, 0.3338, 0.6178],\n",
              "        [0.9563, 0.7965, 0.2631],\n",
              "        [0.9331, 0.1046, 0.2498]], dtype=torch.float64)"
            ]
          },
          "metadata": {},
          "execution_count": 12
        }
      ]
    },
    {
      "cell_type": "code",
      "metadata": {
        "colab": {
          "base_uri": "https://localhost:8080/"
        },
        "id": "KonyVOGAFgte",
        "outputId": "87a5443b-13f2-40c6-ada8-2a27b3cafe26"
      },
      "source": [
        "b.numpy()"
      ],
      "execution_count": 13,
      "outputs": [
        {
          "output_type": "execute_result",
          "data": {
            "text/plain": [
              "array([[0.04634636, 0.6347036 , 0.72047288],\n",
              "       [0.27436252, 0.33376497, 0.61780718],\n",
              "       [0.95626835, 0.79652261, 0.26306387],\n",
              "       [0.93309265, 0.10460485, 0.24979071]])"
            ]
          },
          "metadata": {},
          "execution_count": 13
        }
      ]
    },
    {
      "cell_type": "code",
      "metadata": {
        "colab": {
          "base_uri": "https://localhost:8080/"
        },
        "id": "dl1VkzRnFpbg",
        "outputId": "775424cd-ca1d-4925-8ffa-b001f53c66bd"
      },
      "source": [
        "# Multiply PyTorch Tensor by 2, in place\n",
        "b.mul_(2)"
      ],
      "execution_count": 14,
      "outputs": [
        {
          "output_type": "execute_result",
          "data": {
            "text/plain": [
              "tensor([[0.0927, 1.2694, 1.4409],\n",
              "        [0.5487, 0.6675, 1.2356],\n",
              "        [1.9125, 1.5930, 0.5261],\n",
              "        [1.8662, 0.2092, 0.4996]], dtype=torch.float64)"
            ]
          },
          "metadata": {},
          "execution_count": 14
        }
      ]
    },
    {
      "cell_type": "code",
      "metadata": {
        "colab": {
          "base_uri": "https://localhost:8080/"
        },
        "id": "kM6H9qxiFxyX",
        "outputId": "6ac65cd3-e3bd-4d4c-c831-4e3e0126aea4"
      },
      "source": [
        "a"
      ],
      "execution_count": 15,
      "outputs": [
        {
          "output_type": "execute_result",
          "data": {
            "text/plain": [
              "array([[0.09269272, 1.26940721, 1.44094576],\n",
              "       [0.54872504, 0.66752993, 1.23561435],\n",
              "       [1.9125367 , 1.59304521, 0.52612775],\n",
              "       [1.86618529, 0.2092097 , 0.49958142]])"
            ]
          },
          "metadata": {},
          "execution_count": 15
        }
      ]
    }
  ]
}