{
  "nbformat": 4,
  "nbformat_minor": 0,
  "metadata": {
    "colab": {
      "name": "PyTorchLesson1.ipynb",
      "provenance": []
    },
    "kernelspec": {
      "name": "python3",
      "display_name": "Python 3"
    },
    "language_info": {
      "name": "python"
    }
  },
  "cells": [
    {
      "cell_type": "code",
      "metadata": {
        "id": "8XBgSprBAdiE"
      },
      "source": [
        "import torch"
      ],
      "execution_count": 1,
      "outputs": []
    },
    {
      "cell_type": "code",
      "metadata": {
        "id": "rWBCi3BLAlN-"
      },
      "source": [
        "def activation(x):\n",
        "\n",
        "  \"\"\" Sigmoid activation funtion\n",
        "      Arguments\n",
        "      ----------------\n",
        "      x: torch.Tensor\n",
        "\n",
        "  \"\"\"\n",
        "  return 1/(1+torch.exp(-x))"
      ],
      "execution_count": 2,
      "outputs": []
    },
    {
      "cell_type": "code",
      "metadata": {
        "id": "uXX5QimiBG4O"
      },
      "source": [
        "#generate dummy data\n",
        "\n",
        "torch.manual_seed(7)\n",
        "features = torch.randn((1,5))\n",
        "weights = torch.randn_like(features)\n",
        "bias = torch.randn((1,1))"
      ],
      "execution_count": 3,
      "outputs": []
    },
    {
      "cell_type": "code",
      "metadata": {
        "id": "WTr7CKBqB1Xn"
      },
      "source": [
        "y=activation(torch.sum(features*weights) + bias)\n",
        "#y=activation((features*weights).sum() + bias)"
      ],
      "execution_count": 5,
      "outputs": []
    },
    {
      "cell_type": "code",
      "metadata": {
        "colab": {
          "base_uri": "https://localhost:8080/"
        },
        "id": "iZpLEgpsCnZh",
        "outputId": "87f18580-9fea-473c-814d-f8ca902a0cce"
      },
      "source": [
        "y"
      ],
      "execution_count": 6,
      "outputs": [
        {
          "output_type": "execute_result",
          "data": {
            "text/plain": [
              "tensor([[0.1595]])"
            ]
          },
          "metadata": {},
          "execution_count": 6
        }
      ]
    }
  ]
}