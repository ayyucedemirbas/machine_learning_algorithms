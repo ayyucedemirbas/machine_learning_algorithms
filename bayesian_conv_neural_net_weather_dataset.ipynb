{
  "nbformat": 4,
  "nbformat_minor": 0,
  "metadata": {
    "colab": {
      "name": "bayesian_conv_neural_net_weather_dataset.ipynb",
      "provenance": [],
      "authorship_tag": "ABX9TyMf+ssmxa2s/hgJaNu404q/",
      "include_colab_link": true
    },
    "kernelspec": {
      "name": "python3",
      "display_name": "Python 3"
    },
    "language_info": {
      "name": "python"
    },
    "accelerator": "GPU"
  },
  "cells": [
    {
      "cell_type": "markdown",
      "metadata": {
        "id": "view-in-github",
        "colab_type": "text"
      },
      "source": [
        "<a href=\"https://colab.research.google.com/github/ayyucedemirbas/machine_learning_algorithms/blob/master/bayesian_conv_neural_net_weather_dataset.ipynb\" target=\"_parent\"><img src=\"https://colab.research.google.com/assets/colab-badge.svg\" alt=\"Open In Colab\"/></a>"
      ]
    },
    {
      "cell_type": "code",
      "metadata": {
        "colab": {
          "base_uri": "https://localhost:8080/"
        },
        "id": "Vz_xjHxxnXpZ",
        "outputId": "05db4147-78e5-49f0-903d-4b6ac8d5abdc"
      },
      "source": [
        "from google.colab import drive\n",
        "drive.mount('/content/drive')"
      ],
      "execution_count": 1,
      "outputs": [
        {
          "output_type": "stream",
          "name": "stdout",
          "text": [
            "Mounted at /content/drive\n"
          ]
        }
      ]
    },
    {
      "cell_type": "code",
      "metadata": {
        "id": "V4f4SsT_nhYh"
      },
      "source": [
        "import tensorflow as tf\n",
        "from tensorflow import keras\n",
        "from tensorflow.keras import layers\n",
        "from tensorflow.keras.models import Sequential, load_model\n",
        "from tensorflow.keras.layers import Dense, Flatten, Conv2D, MaxPooling2D, Dropout\n",
        "from tensorflow.keras.callbacks import ModelCheckpoint, EarlyStopping\n",
        "from tensorflow.keras.preprocessing.image import ImageDataGenerator\n",
        "from tensorflow.keras.optimizers import Adam\n",
        "import tensorflow_probability as tfp\n",
        "from tensorflow.keras.utils import to_categorical\n",
        "from tensorflow.keras import regularizers\n",
        "import matplotlib.pyplot as plt\n",
        "import matplotlib.image as mpimg\n",
        "from keras.preprocessing import image\n",
        "import numpy as np\n",
        "import os\n",
        "import datetime\n",
        "%matplotlib inline\n"
      ],
      "execution_count": 1,
      "outputs": []
    },
    {
      "cell_type": "code",
      "metadata": {
        "colab": {
          "base_uri": "https://localhost:8080/"
        },
        "id": "GGes0TNXnoBi",
        "outputId": "fa0518f3-e1e2-42c3-fd94-6cbe633c621e"
      },
      "source": [
        "!ls -al /content/drive/MyDrive/weather"
      ],
      "execution_count": null,
      "outputs": [
        {
          "output_type": "stream",
          "name": "stdout",
          "text": [
            "total 15\n",
            "-rw------- 1 root root 6148 Oct 15 19:55 .DS_Store\n",
            "drwx------ 2 root root 4096 Oct 15 19:59 test\n",
            "drwx------ 2 root root 4096 Oct 15 19:59 train\n"
          ]
        }
      ]
    },
    {
      "cell_type": "code",
      "metadata": {
        "id": "S8y7URy_n0Gv"
      },
      "source": [
        "imagePath = \"/content/drive/MyDrive/weather/train\"\n",
        "test_path=\"/content/drive/MyDrive/weather/test\""
      ],
      "execution_count": 2,
      "outputs": []
    },
    {
      "cell_type": "code",
      "metadata": {
        "colab": {
          "base_uri": "https://localhost:8080/"
        },
        "id": "FFLjMLStn8kP",
        "outputId": "9d0d228f-387c-4def-93d1-a03b24779713"
      },
      "source": [
        "batch_size=32\n",
        "img_height = 100\n",
        "img_width = 100\n",
        "\n",
        "train_ds = tf.keras.preprocessing.image_dataset_from_directory(\n",
        "  imagePath,\n",
        "  #color_mode='grayscale',\n",
        "  validation_split=0.2,\n",
        "  subset=\"training\",\n",
        "  seed=123,\n",
        "  image_size=(img_height, img_width),\n",
        "  batch_size=batch_size)"
      ],
      "execution_count": 3,
      "outputs": [
        {
          "output_type": "stream",
          "name": "stdout",
          "text": [
            "Found 960 files belonging to 4 classes.\n",
            "Using 768 files for training.\n"
          ]
        }
      ]
    },
    {
      "cell_type": "code",
      "metadata": {
        "colab": {
          "base_uri": "https://localhost:8080/"
        },
        "id": "S2zVKAQJoCtv",
        "outputId": "902ef37a-10bd-463e-994f-6ba30842763f"
      },
      "source": [
        "val_ds = tf.keras.preprocessing.image_dataset_from_directory(\n",
        "  imagePath, \n",
        "  #color_mode='grayscale',\n",
        "  validation_split=0.2,\n",
        "  subset=\"validation\",\n",
        "  seed=123,\n",
        "  image_size=(img_height, img_width),\n",
        "  batch_size=batch_size)"
      ],
      "execution_count": 4,
      "outputs": [
        {
          "output_type": "stream",
          "name": "stdout",
          "text": [
            "Found 960 files belonging to 4 classes.\n",
            "Using 192 files for validation.\n"
          ]
        }
      ]
    },
    {
      "cell_type": "code",
      "metadata": {
        "colab": {
          "base_uri": "https://localhost:8080/"
        },
        "id": "sPMsxHrLoHZX",
        "outputId": "68bdb799-9bb0-49c9-f1b6-2cfc9a122e1c"
      },
      "source": [
        "test_ds = tf.keras.preprocessing.image_dataset_from_directory(\n",
        "  test_path,\n",
        "  seed=123,\n",
        "  image_size=(img_height, img_width),\n",
        "  batch_size=batch_size)"
      ],
      "execution_count": 5,
      "outputs": [
        {
          "output_type": "stream",
          "name": "stdout",
          "text": [
            "Found 179 files belonging to 4 classes.\n"
          ]
        }
      ]
    },
    {
      "cell_type": "code",
      "metadata": {
        "id": "eLNJOI2ZoKsK"
      },
      "source": [
        "x_train= tf.concat([x for x, y in train_ds], axis=0)\n",
        "y_train= tf.concat([y for x, y in train_ds], axis=0)\n",
        "x_test= tf.concat([x for x, y in test_ds], axis=0)\n",
        "y_test= tf.concat([y for x, y in test_ds], axis=0)"
      ],
      "execution_count": 6,
      "outputs": []
    },
    {
      "cell_type": "code",
      "metadata": {
        "colab": {
          "base_uri": "https://localhost:8080/"
        },
        "id": "mFp4rHHUolg1",
        "outputId": "76d2cd32-3f0d-4576-fb18-9375daf53400"
      },
      "source": [
        "for image_batch, labels_batch in train_ds:\n",
        "  print(image_batch.shape)\n",
        "  print(labels_batch.shape)\n",
        "  break"
      ],
      "execution_count": 7,
      "outputs": [
        {
          "output_type": "stream",
          "name": "stdout",
          "text": [
            "(32, 100, 100, 3)\n",
            "(32,)\n"
          ]
        }
      ]
    },
    {
      "cell_type": "code",
      "metadata": {
        "id": "QQY_JBQZxdmL"
      },
      "source": [
        "num_labels = 4\n",
        "input_shape=(100, 100, 3)"
      ],
      "execution_count": 8,
      "outputs": []
    },
    {
      "cell_type": "code",
      "metadata": {
        "id": "tqQCaRZHxgz8"
      },
      "source": [
        "def bnn_model(): \n",
        "\n",
        "  model_in = tf.keras.layers.Input(shape=input_shape)\n",
        "  conv_1 = tfp.python.layers.Convolution2DFlipout(32, kernel_size=(3, 3), padding=\"same\", strides=2)\n",
        "  x = conv_1(model_in)\n",
        "  x = tf.keras.layers.BatchNormalization()(x)\n",
        "  x = tf.keras.layers.Activation('relu')(x)\n",
        "  conv_2 = tfp.python.layers.Convolution2DFlipout(64, kernel_size=(3, 3), padding=\"same\", strides=2)\n",
        "  x = conv_2(x)\n",
        "  x = tf.keras.layers.BatchNormalization()(x)\n",
        "  x = tf.keras.layers.Activation('relu')(x)\n",
        "  x = tf.keras.layers.Flatten()(x)\n",
        "  dense_1 = tfp.python.layers.DenseFlipout(512, activation='relu')\n",
        "  x = dense_1(x)\n",
        "  dense_2 = tfp.python.layers.DenseFlipout(8, activation=None)\n",
        "  model_out = dense_2(x)  # logits\n",
        "  model = tf.keras.Model(model_in, model_out)\n",
        "  return model"
      ],
      "execution_count": 9,
      "outputs": []
    },
    {
      "cell_type": "code",
      "metadata": {
        "colab": {
          "base_uri": "https://localhost:8080/"
        },
        "id": "AuBrcgUyyBJT",
        "outputId": "f2ee444a-b0df-46cf-e9af-7178de3d0464"
      },
      "source": [
        "model=bnn_model()"
      ],
      "execution_count": 10,
      "outputs": [
        {
          "output_type": "stream",
          "name": "stderr",
          "text": [
            "/usr/local/lib/python3.7/dist-packages/keras/engine/base_layer.py:2223: UserWarning: `layer.add_variable` is deprecated and will be removed in a future version. Please use `layer.add_weight` method instead.\n",
            "  warnings.warn('`layer.add_variable` is deprecated and '\n"
          ]
        }
      ]
    },
    {
      "cell_type": "code",
      "metadata": {
        "colab": {
          "base_uri": "https://localhost:8080/"
        },
        "id": "FBFl8gRtyFgP",
        "outputId": "556e7892-eb82-4a59-af24-af3b4baf9ab3"
      },
      "source": [
        "model.compile(\n",
        "    optimizer=tf.keras.optimizers.Adam(lr=0.01),\n",
        "    loss=tf.keras.losses.SparseCategoricalCrossentropy(from_logits=True),\n",
        "    metrics=['accuracy'],\n",
        ")"
      ],
      "execution_count": 11,
      "outputs": [
        {
          "output_type": "stream",
          "name": "stderr",
          "text": [
            "/usr/local/lib/python3.7/dist-packages/keras/optimizer_v2/optimizer_v2.py:356: UserWarning: The `lr` argument is deprecated, use `learning_rate` instead.\n",
            "  \"The `lr` argument is deprecated, use `learning_rate` instead.\")\n"
          ]
        }
      ]
    },
    {
      "cell_type": "code",
      "metadata": {
        "colab": {
          "base_uri": "https://localhost:8080/"
        },
        "id": "trUR3aSByIwq",
        "outputId": "45d36e6b-41bc-4164-eb67-ded9d88adcfb"
      },
      "source": [
        "EPOCHS = 100\n",
        "history = model.fit(\n",
        "    train_ds, \n",
        "    validation_data=val_ds,  \n",
        "    epochs=EPOCHS\n",
        ")"
      ],
      "execution_count": 12,
      "outputs": [
        {
          "output_type": "stream",
          "name": "stdout",
          "text": [
            "Epoch 1/100\n",
            "24/24 [==============================] - 10s 226ms/step - loss: 49522524.0000 - accuracy: 0.5091 - val_loss: 47017316.0000 - val_accuracy: 0.5260\n",
            "Epoch 2/100\n",
            "24/24 [==============================] - 6s 191ms/step - loss: 44750932.0000 - accuracy: 0.5326 - val_loss: 42300140.0000 - val_accuracy: 0.4583\n",
            "Epoch 3/100\n",
            "24/24 [==============================] - 5s 178ms/step - loss: 40071368.0000 - accuracy: 0.4818 - val_loss: 37664860.0000 - val_accuracy: 0.3385\n",
            "Epoch 4/100\n",
            "24/24 [==============================] - 5s 187ms/step - loss: 35484468.0000 - accuracy: 0.4349 - val_loss: 33135446.0000 - val_accuracy: 0.3438\n",
            "Epoch 5/100\n",
            "24/24 [==============================] - 5s 187ms/step - loss: 31017934.0000 - accuracy: 0.4219 - val_loss: 28743354.0000 - val_accuracy: 0.2812\n",
            "Epoch 6/100\n",
            "24/24 [==============================] - 5s 172ms/step - loss: 26706886.0000 - accuracy: 0.4414 - val_loss: 24527790.0000 - val_accuracy: 0.3229\n",
            "Epoch 7/100\n",
            "24/24 [==============================] - 5s 187ms/step - loss: 22593986.0000 - accuracy: 0.4427 - val_loss: 20535154.0000 - val_accuracy: 0.3490\n",
            "Epoch 8/100\n",
            "24/24 [==============================] - 6s 189ms/step - loss: 18728730.0000 - accuracy: 0.4010 - val_loss: 16817796.0000 - val_accuracy: 0.3542\n",
            "Epoch 9/100\n",
            "24/24 [==============================] - 6s 191ms/step - loss: 15165019.0000 - accuracy: 0.4154 - val_loss: 13430533.0000 - val_accuracy: 0.2917\n",
            "Epoch 10/100\n",
            "24/24 [==============================] - 5s 180ms/step - loss: 11956533.0000 - accuracy: 0.3203 - val_loss: 10424544.0000 - val_accuracy: 0.2552\n",
            "Epoch 11/100\n",
            "24/24 [==============================] - 6s 194ms/step - loss: 9149713.0000 - accuracy: 0.2357 - val_loss: 7839687.5000 - val_accuracy: 0.1927\n",
            "Epoch 12/100\n",
            "24/24 [==============================] - 5s 180ms/step - loss: 6775690.5000 - accuracy: 0.2695 - val_loss: 5696343.5000 - val_accuracy: 0.2292\n",
            "Epoch 13/100\n",
            "24/24 [==============================] - 6s 194ms/step - loss: 4843189.5000 - accuracy: 0.2539 - val_loss: 3989902.0000 - val_accuracy: 0.2604\n",
            "Epoch 14/100\n",
            "24/24 [==============================] - 6s 193ms/step - loss: 3334977.2500 - accuracy: 0.2591 - val_loss: 2689740.2500 - val_accuracy: 0.2135\n",
            "Epoch 15/100\n",
            "24/24 [==============================] - 6s 196ms/step - loss: 2209557.0000 - accuracy: 0.2786 - val_loss: 1743769.8750 - val_accuracy: 0.1719\n",
            "Epoch 16/100\n",
            "24/24 [==============================] - 6s 194ms/step - loss: 1407880.5000 - accuracy: 0.2682 - val_loss: 1087114.3750 - val_accuracy: 0.2135\n",
            "Epoch 17/100\n",
            "24/24 [==============================] - 6s 193ms/step - loss: 862935.7500 - accuracy: 0.3125 - val_loss: 652114.8750 - val_accuracy: 0.2604\n",
            "Epoch 18/100\n",
            "24/24 [==============================] - 6s 192ms/step - loss: 509214.0312 - accuracy: 0.3424 - val_loss: 376811.4688 - val_accuracy: 0.2708\n",
            "Epoch 19/100\n",
            "24/24 [==============================] - 6s 187ms/step - loss: 289647.4688 - accuracy: 0.3164 - val_loss: 210016.2656 - val_accuracy: 0.2917\n",
            "Epoch 20/100\n",
            "24/24 [==============================] - 6s 189ms/step - loss: 159048.4531 - accuracy: 0.3307 - val_loss: 113094.7422 - val_accuracy: 0.2448\n",
            "Epoch 21/100\n",
            "24/24 [==============================] - 6s 193ms/step - loss: 84441.6641 - accuracy: 0.3333 - val_loss: 58930.4023 - val_accuracy: 0.2500\n",
            "Epoch 22/100\n",
            "24/24 [==============================] - 6s 183ms/step - loss: 43411.8906 - accuracy: 0.3372 - val_loss: 29756.3145 - val_accuracy: 0.2656\n",
            "Epoch 23/100\n",
            "24/24 [==============================] - 6s 191ms/step - loss: 21640.9648 - accuracy: 0.3346 - val_loss: 14577.9990 - val_accuracy: 0.2708\n",
            "Epoch 24/100\n",
            "24/24 [==============================] - 6s 198ms/step - loss: 10473.1348 - accuracy: 0.3372 - val_loss: 6937.5859 - val_accuracy: 0.2604\n",
            "Epoch 25/100\n",
            "24/24 [==============================] - 6s 191ms/step - loss: 4925.2871 - accuracy: 0.3359 - val_loss: 3210.9492 - val_accuracy: 0.2604\n",
            "Epoch 26/100\n",
            "24/24 [==============================] - 6s 184ms/step - loss: 2252.6609 - accuracy: 0.3372 - val_loss: 1445.0656 - val_accuracy: 0.2708\n",
            "Epoch 27/100\n",
            "24/24 [==============================] - 6s 191ms/step - loss: 1002.7518 - accuracy: 0.3372 - val_loss: 633.2379 - val_accuracy: 0.2708\n",
            "Epoch 28/100\n",
            "24/24 [==============================] - 6s 191ms/step - loss: 434.8318 - accuracy: 0.3359 - val_loss: 271.3521 - val_accuracy: 0.2708\n",
            "Epoch 29/100\n",
            "24/24 [==============================] - 6s 189ms/step - loss: 183.9861 - accuracy: 0.3359 - val_loss: 113.0927 - val_accuracy: 0.2708\n",
            "Epoch 30/100\n",
            "24/24 [==============================] - 6s 184ms/step - loss: 76.2503 - accuracy: 0.3372 - val_loss: 46.4818 - val_accuracy: 0.2656\n",
            "Epoch 31/100\n",
            "24/24 [==============================] - 6s 193ms/step - loss: 31.2495 - accuracy: 0.3372 - val_loss: 19.0749 - val_accuracy: 0.2760\n",
            "Epoch 32/100\n",
            "24/24 [==============================] - 6s 194ms/step - loss: 12.9702 - accuracy: 0.3372 - val_loss: 8.3088 - val_accuracy: 0.2604\n",
            "Epoch 33/100\n",
            "24/24 [==============================] - 6s 192ms/step - loss: 5.7487 - accuracy: 0.3372 - val_loss: 3.9888 - val_accuracy: 0.2708\n",
            "Epoch 34/100\n",
            "24/24 [==============================] - 6s 195ms/step - loss: 2.9761 - accuracy: 0.3359 - val_loss: 2.4138 - val_accuracy: 0.2708\n",
            "Epoch 35/100\n",
            "24/24 [==============================] - 6s 195ms/step - loss: 1.9402 - accuracy: 0.3372 - val_loss: 1.7252 - val_accuracy: 0.2708\n",
            "Epoch 36/100\n",
            "24/24 [==============================] - 6s 189ms/step - loss: 1.5674 - accuracy: 0.3372 - val_loss: 1.8433 - val_accuracy: 0.2812\n",
            "Epoch 37/100\n",
            "24/24 [==============================] - 6s 192ms/step - loss: 1.4326 - accuracy: 0.3372 - val_loss: 1.4326 - val_accuracy: 0.2708\n",
            "Epoch 38/100\n",
            "24/24 [==============================] - 6s 191ms/step - loss: 1.3868 - accuracy: 0.3372 - val_loss: 1.6364 - val_accuracy: 0.2708\n",
            "Epoch 39/100\n",
            "24/24 [==============================] - 6s 193ms/step - loss: 1.3718 - accuracy: 0.3359 - val_loss: 1.4024 - val_accuracy: 0.2760\n",
            "Epoch 40/100\n",
            "24/24 [==============================] - 6s 188ms/step - loss: 1.3664 - accuracy: 0.3372 - val_loss: 1.4787 - val_accuracy: 0.2708\n",
            "Epoch 41/100\n",
            "24/24 [==============================] - 6s 185ms/step - loss: 1.3643 - accuracy: 0.3372 - val_loss: 1.3974 - val_accuracy: 0.2708\n",
            "Epoch 42/100\n",
            "24/24 [==============================] - 6s 186ms/step - loss: 1.3639 - accuracy: 0.3372 - val_loss: 1.4931 - val_accuracy: 0.2604\n",
            "Epoch 43/100\n",
            "24/24 [==============================] - 6s 196ms/step - loss: 1.3626 - accuracy: 0.3372 - val_loss: 1.3950 - val_accuracy: 0.2760\n",
            "Epoch 44/100\n",
            "24/24 [==============================] - 6s 187ms/step - loss: 1.3627 - accuracy: 0.3372 - val_loss: 1.5871 - val_accuracy: 0.2708\n",
            "Epoch 45/100\n",
            "24/24 [==============================] - 6s 188ms/step - loss: 1.3659 - accuracy: 0.3385 - val_loss: 1.4375 - val_accuracy: 0.2656\n",
            "Epoch 46/100\n",
            "24/24 [==============================] - 6s 190ms/step - loss: 1.3713 - accuracy: 0.3359 - val_loss: 1.4091 - val_accuracy: 0.2708\n",
            "Epoch 47/100\n",
            "24/24 [==============================] - 6s 190ms/step - loss: 1.3651 - accuracy: 0.3372 - val_loss: 1.4007 - val_accuracy: 0.2656\n",
            "Epoch 48/100\n",
            "24/24 [==============================] - 6s 194ms/step - loss: 1.3624 - accuracy: 0.3346 - val_loss: 1.4018 - val_accuracy: 0.2917\n",
            "Epoch 49/100\n",
            "24/24 [==============================] - 6s 192ms/step - loss: 1.3705 - accuracy: 0.3359 - val_loss: 1.5188 - val_accuracy: 0.2760\n",
            "Epoch 50/100\n",
            "24/24 [==============================] - 6s 196ms/step - loss: 1.3590 - accuracy: 0.3268 - val_loss: 1.4012 - val_accuracy: 0.2760\n",
            "Epoch 51/100\n",
            "24/24 [==============================] - 6s 196ms/step - loss: 1.3664 - accuracy: 0.3281 - val_loss: 1.3962 - val_accuracy: 0.2708\n",
            "Epoch 52/100\n",
            "24/24 [==============================] - 6s 189ms/step - loss: 1.3621 - accuracy: 0.3372 - val_loss: 1.3768 - val_accuracy: 0.2812\n",
            "Epoch 53/100\n",
            "24/24 [==============================] - 5s 175ms/step - loss: 1.3611 - accuracy: 0.3372 - val_loss: 1.3947 - val_accuracy: 0.2760\n",
            "Epoch 54/100\n",
            "24/24 [==============================] - 5s 179ms/step - loss: 1.3615 - accuracy: 0.3372 - val_loss: 1.8523 - val_accuracy: 0.2604\n",
            "Epoch 55/100\n",
            "24/24 [==============================] - 6s 190ms/step - loss: 1.3610 - accuracy: 0.3372 - val_loss: 1.3936 - val_accuracy: 0.2708\n",
            "Epoch 56/100\n",
            "24/24 [==============================] - 6s 188ms/step - loss: 1.3608 - accuracy: 0.3372 - val_loss: 1.3955 - val_accuracy: 0.2708\n",
            "Epoch 57/100\n",
            "24/24 [==============================] - 6s 191ms/step - loss: 1.3611 - accuracy: 0.3372 - val_loss: 1.3959 - val_accuracy: 0.2708\n",
            "Epoch 58/100\n",
            "24/24 [==============================] - 6s 189ms/step - loss: 1.3867 - accuracy: 0.3372 - val_loss: 1.3999 - val_accuracy: 0.2708\n",
            "Epoch 59/100\n",
            "24/24 [==============================] - 5s 184ms/step - loss: 1.3619 - accuracy: 0.3372 - val_loss: 1.4592 - val_accuracy: 0.2708\n",
            "Epoch 60/100\n",
            "24/24 [==============================] - 6s 190ms/step - loss: 1.3601 - accuracy: 0.3359 - val_loss: 1.3819 - val_accuracy: 0.2812\n",
            "Epoch 61/100\n",
            "24/24 [==============================] - 6s 193ms/step - loss: 1.3617 - accuracy: 0.3411 - val_loss: 1.3930 - val_accuracy: 0.2708\n",
            "Epoch 62/100\n",
            "24/24 [==============================] - 6s 190ms/step - loss: 1.3649 - accuracy: 0.3372 - val_loss: 1.3967 - val_accuracy: 0.2708\n",
            "Epoch 63/100\n",
            "24/24 [==============================] - 6s 192ms/step - loss: 1.3640 - accuracy: 0.3372 - val_loss: 1.3955 - val_accuracy: 0.2708\n",
            "Epoch 64/100\n",
            "24/24 [==============================] - 6s 191ms/step - loss: 1.3681 - accuracy: 0.3359 - val_loss: 1.4267 - val_accuracy: 0.2708\n",
            "Epoch 65/100\n",
            "24/24 [==============================] - 6s 192ms/step - loss: 1.3611 - accuracy: 0.3372 - val_loss: 1.3956 - val_accuracy: 0.2708\n",
            "Epoch 66/100\n",
            "24/24 [==============================] - 6s 191ms/step - loss: 1.3604 - accuracy: 0.3372 - val_loss: 1.3991 - val_accuracy: 0.2708\n",
            "Epoch 67/100\n",
            "24/24 [==============================] - 6s 193ms/step - loss: 1.3602 - accuracy: 0.3372 - val_loss: 1.3932 - val_accuracy: 0.2708\n",
            "Epoch 68/100\n",
            "24/24 [==============================] - 6s 192ms/step - loss: 1.3602 - accuracy: 0.3372 - val_loss: 1.3953 - val_accuracy: 0.2708\n",
            "Epoch 69/100\n",
            "24/24 [==============================] - 6s 189ms/step - loss: 1.3586 - accuracy: 0.3385 - val_loss: 1.3935 - val_accuracy: 0.2708\n",
            "Epoch 70/100\n",
            "24/24 [==============================] - 6s 195ms/step - loss: 1.3598 - accuracy: 0.3372 - val_loss: 1.3930 - val_accuracy: 0.2708\n",
            "Epoch 71/100\n",
            "24/24 [==============================] - 6s 195ms/step - loss: 1.3586 - accuracy: 0.3385 - val_loss: 1.3809 - val_accuracy: 0.2812\n",
            "Epoch 72/100\n",
            "24/24 [==============================] - 6s 191ms/step - loss: 1.3626 - accuracy: 0.3359 - val_loss: 1.4156 - val_accuracy: 0.2708\n",
            "Epoch 73/100\n",
            "24/24 [==============================] - 6s 192ms/step - loss: 1.5130 - accuracy: 0.3372 - val_loss: 1.4252 - val_accuracy: 0.2708\n",
            "Epoch 74/100\n",
            "24/24 [==============================] - 6s 197ms/step - loss: 1.3730 - accuracy: 0.3372 - val_loss: 1.3959 - val_accuracy: 0.2708\n",
            "Epoch 75/100\n",
            "24/24 [==============================] - 6s 189ms/step - loss: 1.3604 - accuracy: 0.3372 - val_loss: 1.3916 - val_accuracy: 0.2760\n",
            "Epoch 76/100\n",
            "24/24 [==============================] - 6s 192ms/step - loss: 1.3592 - accuracy: 0.3372 - val_loss: 1.3972 - val_accuracy: 0.2708\n",
            "Epoch 77/100\n",
            "24/24 [==============================] - 6s 194ms/step - loss: 1.3597 - accuracy: 0.3372 - val_loss: 1.3923 - val_accuracy: 0.2708\n",
            "Epoch 78/100\n",
            "24/24 [==============================] - 6s 195ms/step - loss: 1.3594 - accuracy: 0.3372 - val_loss: 1.4051 - val_accuracy: 0.2708\n",
            "Epoch 79/100\n",
            "24/24 [==============================] - 6s 195ms/step - loss: 1.3614 - accuracy: 0.3359 - val_loss: 1.8006 - val_accuracy: 0.2708\n",
            "Epoch 80/100\n",
            "24/24 [==============================] - 6s 189ms/step - loss: 1.3600 - accuracy: 0.3372 - val_loss: 1.3947 - val_accuracy: 0.2708\n",
            "Epoch 81/100\n",
            "24/24 [==============================] - 6s 195ms/step - loss: 1.3594 - accuracy: 0.3372 - val_loss: 1.3925 - val_accuracy: 0.2708\n",
            "Epoch 82/100\n",
            "24/24 [==============================] - 6s 193ms/step - loss: 1.3632 - accuracy: 0.3333 - val_loss: 1.4092 - val_accuracy: 0.2448\n",
            "Epoch 83/100\n",
            "24/24 [==============================] - 6s 195ms/step - loss: 1.3629 - accuracy: 0.3333 - val_loss: 1.3889 - val_accuracy: 0.2760\n",
            "Epoch 84/100\n",
            "24/24 [==============================] - 6s 189ms/step - loss: 1.3637 - accuracy: 0.3203 - val_loss: 1.3939 - val_accuracy: 0.2708\n",
            "Epoch 85/100\n",
            "24/24 [==============================] - 6s 191ms/step - loss: 1.3594 - accuracy: 0.3372 - val_loss: 1.3922 - val_accuracy: 0.2708\n",
            "Epoch 86/100\n",
            "24/24 [==============================] - 6s 195ms/step - loss: 1.3588 - accuracy: 0.3372 - val_loss: 1.3925 - val_accuracy: 0.2708\n",
            "Epoch 87/100\n",
            "24/24 [==============================] - 6s 188ms/step - loss: 1.3600 - accuracy: 0.3372 - val_loss: 1.3933 - val_accuracy: 0.2708\n",
            "Epoch 88/100\n",
            "24/24 [==============================] - 6s 190ms/step - loss: 1.3591 - accuracy: 0.3372 - val_loss: 1.3928 - val_accuracy: 0.2708\n",
            "Epoch 89/100\n",
            "24/24 [==============================] - 6s 193ms/step - loss: 1.3587 - accuracy: 0.3372 - val_loss: 1.3920 - val_accuracy: 0.2708\n",
            "Epoch 90/100\n",
            "24/24 [==============================] - 6s 195ms/step - loss: 1.3603 - accuracy: 0.3372 - val_loss: 1.4307 - val_accuracy: 0.2708\n",
            "Epoch 91/100\n",
            "24/24 [==============================] - 6s 189ms/step - loss: 1.3591 - accuracy: 0.3372 - val_loss: 1.3921 - val_accuracy: 0.2708\n",
            "Epoch 92/100\n",
            "24/24 [==============================] - 6s 196ms/step - loss: 1.3588 - accuracy: 0.3372 - val_loss: 1.3932 - val_accuracy: 0.2708\n",
            "Epoch 93/100\n",
            "24/24 [==============================] - 6s 184ms/step - loss: 1.3591 - accuracy: 0.3372 - val_loss: 1.3921 - val_accuracy: 0.2708\n",
            "Epoch 94/100\n",
            "24/24 [==============================] - 6s 194ms/step - loss: 1.3586 - accuracy: 0.3372 - val_loss: 1.3930 - val_accuracy: 0.2708\n",
            "Epoch 95/100\n",
            "24/24 [==============================] - 6s 193ms/step - loss: 1.3590 - accuracy: 0.3372 - val_loss: 1.3924 - val_accuracy: 0.2708\n",
            "Epoch 96/100\n",
            "24/24 [==============================] - 6s 196ms/step - loss: 1.3582 - accuracy: 0.3372 - val_loss: 1.3918 - val_accuracy: 0.2708\n",
            "Epoch 97/100\n",
            "24/24 [==============================] - 6s 190ms/step - loss: 1.3676 - accuracy: 0.3359 - val_loss: 1.4029 - val_accuracy: 0.2708\n",
            "Epoch 98/100\n",
            "24/24 [==============================] - 6s 197ms/step - loss: 1.3617 - accuracy: 0.3372 - val_loss: 1.4003 - val_accuracy: 0.2656\n",
            "Epoch 99/100\n",
            "24/24 [==============================] - 6s 195ms/step - loss: 1.3594 - accuracy: 0.3372 - val_loss: 1.3918 - val_accuracy: 0.2708\n",
            "Epoch 100/100\n",
            "24/24 [==============================] - 6s 192ms/step - loss: 1.3589 - accuracy: 0.3372 - val_loss: 1.3924 - val_accuracy: 0.2708\n"
          ]
        }
      ]
    },
    {
      "cell_type": "code",
      "metadata": {
        "colab": {
          "base_uri": "https://localhost:8080/",
          "height": 276
        },
        "id": "c25ourI63bYk",
        "outputId": "320d3fdd-63bc-4045-c52e-fe21044ccfd6"
      },
      "source": [
        "metrics = history.history\n",
        "plt.plot(history.epoch, metrics['loss'], metrics['val_loss'])\n",
        "plt.legend(['loss', 'val_loss'])\n",
        "plt.show()"
      ],
      "execution_count": 13,
      "outputs": [
        {
          "output_type": "display_data",
          "data": {
            "image/png": "[encoded data removed]",
            "text/plain": [
              "<Figure size 432x288 with 1 Axes>"
            ]
          },
          "metadata": {
            "needs_background": "light"
          }
        }
      ]
    },
    {
      "cell_type": "code",
      "metadata": {
        "colab": {
          "base_uri": "https://localhost:8080/"
        },
        "id": "U50I5x4l3l-H",
        "outputId": "75ceb493-e7fc-4341-dae6-864c7d91ed80"
      },
      "source": [
        "eval=model.evaluate(val_ds)"
      ],
      "execution_count": 15,
      "outputs": [
        {
          "output_type": "stream",
          "name": "stdout",
          "text": [
            "6/6 [==============================] - 1s 46ms/step - loss: 1.3947 - accuracy: 0.2708\n"
          ]
        }
      ]
    },
    {
      "cell_type": "code",
      "metadata": {
        "id": "T4ZnwBTE3g1V"
      },
      "source": [
        "pred=model.predict(val_ds)"
      ],
      "execution_count": 14,
      "outputs": []
    }
  ]
}