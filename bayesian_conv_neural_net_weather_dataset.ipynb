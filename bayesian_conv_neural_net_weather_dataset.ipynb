{
  "nbformat": 4,
  "nbformat_minor": 0,
  "metadata": {
    "colab": {
      "name": "bayesian_conv_neural_net_weather_dataset.ipynb",
      "provenance": [],
      "authorship_tag": "ABX9TyNGvlmz3o6Gy4y5oGP1ZVGS",
      "include_colab_link": true
    },
    "kernelspec": {
      "name": "python3",
      "display_name": "Python 3"
    },
    "language_info": {
      "name": "python"
    },
    "accelerator": "GPU"
  },
  "cells": [
    {
      "cell_type": "markdown",
      "metadata": {
        "id": "view-in-github",
        "colab_type": "text"
      },
      "source": [
        "<a href=\"https://colab.research.google.com/github/ayyucedemirbas/machine_learning_algorithms/blob/master/bayesian_conv_neural_net_weather_dataset.ipynb\" target=\"_parent\"><img src=\"https://colab.research.google.com/assets/colab-badge.svg\" alt=\"Open In Colab\"/></a>"
      ]
    },
    {
      "cell_type": "code",
      "metadata": {
        "colab": {
          "base_uri": "https://localhost:8080/"
        },
        "id": "Vz_xjHxxnXpZ",
        "outputId": "05db4147-78e5-49f0-903d-4b6ac8d5abdc"
      },
      "source": [
        "from google.colab import drive\n",
        "drive.mount('/content/drive')"
      ],
      "execution_count": 1,
      "outputs": [
        {
          "output_type": "stream",
          "name": "stdout",
          "text": [
            "Mounted at /content/drive\n"
          ]
        }
      ]
    },
    {
      "cell_type": "code",
      "metadata": {
        "id": "V4f4SsT_nhYh"
      },
      "source": [
        "import tensorflow as tf\n",
        "from tensorflow import keras\n",
        "from tensorflow.keras import layers\n",
        "from tensorflow.keras.models import Sequential, load_model\n",
        "from tensorflow.keras.layers import Dense, Flatten, Conv2D, MaxPooling2D, Dropout\n",
        "from tensorflow.keras.callbacks import ModelCheckpoint, EarlyStopping\n",
        "from tensorflow.keras.preprocessing.image import ImageDataGenerator\n",
        "from tensorflow.keras.optimizers import Adam\n",
        "import tensorflow_probability as tfp\n",
        "from tensorflow.keras.utils import to_categorical\n",
        "from tensorflow.keras import regularizers\n",
        "import matplotlib.pyplot as plt\n",
        "import matplotlib.image as mpimg\n",
        "from keras.preprocessing import image\n",
        "import numpy as np\n",
        "import os\n",
        "import datetime\n",
        "%matplotlib inline\n"
      ],
      "execution_count": 1,
      "outputs": []
    },
    {
      "cell_type": "code",
      "metadata": {
        "colab": {
          "base_uri": "https://localhost:8080/"
        },
        "id": "GGes0TNXnoBi",
        "outputId": "fa0518f3-e1e2-42c3-fd94-6cbe633c621e"
      },
      "source": [
        "!ls -al /content/drive/MyDrive/weather"
      ],
      "execution_count": null,
      "outputs": [
        {
          "output_type": "stream",
          "name": "stdout",
          "text": [
            "total 15\n",
            "-rw------- 1 root root 6148 Oct 15 19:55 .DS_Store\n",
            "drwx------ 2 root root 4096 Oct 15 19:59 test\n",
            "drwx------ 2 root root 4096 Oct 15 19:59 train\n"
          ]
        }
      ]
    },
    {
      "cell_type": "code",
      "metadata": {
        "id": "S8y7URy_n0Gv"
      },
      "source": [
        "imagePath = \"/content/drive/MyDrive/weather/train\"\n",
        "test_path=\"/content/drive/MyDrive/weather/test\""
      ],
      "execution_count": 2,
      "outputs": []
    },
    {
      "cell_type": "code",
      "metadata": {
        "colab": {
          "base_uri": "https://localhost:8080/"
        },
        "id": "FFLjMLStn8kP",
        "outputId": "4de1cbda-0f10-41e0-d451-90c4aa13ceac"
      },
      "source": [
        "batch_size=32\n",
        "img_height = 100\n",
        "img_width = 100\n",
        "\n",
        "train_ds = tf.keras.preprocessing.image_dataset_from_directory(\n",
        "  imagePath,\n",
        "  #color_mode='grayscale',\n",
        "  validation_split=0.2,\n",
        "  subset=\"training\",\n",
        "  seed=123,\n",
        "  image_size=(img_height, img_width),\n",
        "  batch_size=batch_size)"
      ],
      "execution_count": 3,
      "outputs": [
        {
          "output_type": "stream",
          "name": "stdout",
          "text": [
            "Found 960 files belonging to 4 classes.\n",
            "Using 768 files for training.\n"
          ]
        }
      ]
    },
    {
      "cell_type": "code",
      "metadata": {
        "colab": {
          "base_uri": "https://localhost:8080/"
        },
        "id": "S2zVKAQJoCtv",
        "outputId": "774835ac-95a5-4f5a-8278-6a66df132f6a"
      },
      "source": [
        "val_ds = tf.keras.preprocessing.image_dataset_from_directory(\n",
        "  imagePath, \n",
        "  #color_mode='grayscale',\n",
        "  validation_split=0.2,\n",
        "  subset=\"validation\",\n",
        "  seed=123,\n",
        "  image_size=(img_height, img_width),\n",
        "  batch_size=batch_size)"
      ],
      "execution_count": 4,
      "outputs": [
        {
          "output_type": "stream",
          "name": "stdout",
          "text": [
            "Found 960 files belonging to 4 classes.\n",
            "Using 192 files for validation.\n"
          ]
        }
      ]
    },
    {
      "cell_type": "code",
      "metadata": {
        "colab": {
          "base_uri": "https://localhost:8080/"
        },
        "id": "sPMsxHrLoHZX",
        "outputId": "ecc418ea-95e8-4c16-9da4-07f9968035e2"
      },
      "source": [
        "test_ds = tf.keras.preprocessing.image_dataset_from_directory(\n",
        "  test_path,\n",
        "  seed=123,\n",
        "  image_size=(img_height, img_width),\n",
        "  batch_size=batch_size)"
      ],
      "execution_count": 5,
      "outputs": [
        {
          "output_type": "stream",
          "name": "stdout",
          "text": [
            "Found 179 files belonging to 4 classes.\n"
          ]
        }
      ]
    },
    {
      "cell_type": "code",
      "metadata": {
        "id": "eLNJOI2ZoKsK"
      },
      "source": [
        "x_train= tf.concat([x for x, y in train_ds], axis=0)\n",
        "y_train= tf.concat([y for x, y in train_ds], axis=0)\n",
        "x_test= tf.concat([x for x, y in test_ds], axis=0)\n",
        "y_test= tf.concat([y for x, y in test_ds], axis=0)"
      ],
      "execution_count": 6,
      "outputs": []
    },
    {
      "cell_type": "code",
      "metadata": {
        "colab": {
          "base_uri": "https://localhost:8080/"
        },
        "id": "mFp4rHHUolg1",
        "outputId": "d0d6a4fa-a6d4-4d3e-cbb3-71b72c63af0a"
      },
      "source": [
        "for image_batch, labels_batch in train_ds:\n",
        "  print(image_batch.shape)\n",
        "  print(labels_batch.shape)\n",
        "  break"
      ],
      "execution_count": 7,
      "outputs": [
        {
          "output_type": "stream",
          "name": "stdout",
          "text": [
            "(32, 100, 100, 3)\n",
            "(32,)\n"
          ]
        }
      ]
    },
    {
      "cell_type": "code",
      "metadata": {
        "id": "QQY_JBQZxdmL"
      },
      "source": [
        "num_labels = 4\n",
        "input_shape=(100, 100, 3)"
      ],
      "execution_count": 8,
      "outputs": []
    },
    {
      "cell_type": "code",
      "metadata": {
        "id": "tqQCaRZHxgz8"
      },
      "source": [
        "def bnn_model(): \n",
        "\n",
        "  model_in = tf.keras.layers.Input(shape=input_shape)\n",
        "  conv_1 = tfp.python.layers.Convolution2DFlipout(32, kernel_size=(3, 3), padding=\"same\", strides=2)\n",
        "  x = conv_1(model_in)\n",
        "  x = tf.keras.layers.BatchNormalization()(x)\n",
        "  x = tf.keras.layers.Activation('relu')(x)\n",
        "  conv_2 = tfp.python.layers.Convolution2DFlipout(64, kernel_size=(3, 3), padding=\"same\", strides=2)\n",
        "  x = conv_2(x)\n",
        "  x = tf.keras.layers.BatchNormalization()(x)\n",
        "  x = tf.keras.layers.Activation('relu')(x)\n",
        "  x = tf.keras.layers.Flatten()(x)\n",
        "  dense_1 = tfp.python.layers.DenseFlipout(512, activation='relu')\n",
        "  x = dense_1(x)\n",
        "  dense_2 = tfp.python.layers.DenseFlipout(8, activation=None)\n",
        "  model_out = dense_2(x)  # logits\n",
        "  model = tf.keras.Model(model_in, model_out)\n",
        "  return model"
      ],
      "execution_count": 9,
      "outputs": []
    },
    {
      "cell_type": "code",
      "metadata": {
        "colab": {
          "base_uri": "https://localhost:8080/"
        },
        "id": "AuBrcgUyyBJT",
        "outputId": "7c801eed-a406-44c3-aa6c-8e0b26770a94"
      },
      "source": [
        "model=bnn_model()"
      ],
      "execution_count": 10,
      "outputs": [
        {
          "output_type": "stream",
          "name": "stderr",
          "text": [
            "/usr/local/lib/python3.7/dist-packages/keras/engine/base_layer.py:2223: UserWarning: `layer.add_variable` is deprecated and will be removed in a future version. Please use `layer.add_weight` method instead.\n",
            "  warnings.warn('`layer.add_variable` is deprecated and '\n"
          ]
        }
      ]
    },
    {
      "cell_type": "code",
      "metadata": {
        "colab": {
          "base_uri": "https://localhost:8080/"
        },
        "id": "FBFl8gRtyFgP",
        "outputId": "42e610c2-af2f-490a-f7da-ceb6551157de"
      },
      "source": [
        "model.compile(\n",
        "    optimizer=tf.keras.optimizers.Adam(lr=0.01),\n",
        "    loss=tf.keras.losses.SparseCategoricalCrossentropy(from_logits=True),\n",
        "    metrics=['accuracy'],\n",
        ")"
      ],
      "execution_count": 11,
      "outputs": [
        {
          "output_type": "stream",
          "name": "stderr",
          "text": [
            "/usr/local/lib/python3.7/dist-packages/keras/optimizer_v2/optimizer_v2.py:356: UserWarning: The `lr` argument is deprecated, use `learning_rate` instead.\n",
            "  \"The `lr` argument is deprecated, use `learning_rate` instead.\")\n"
          ]
        }
      ]
    },
    {
      "cell_type": "code",
      "metadata": {
        "colab": {
          "base_uri": "https://localhost:8080/"
        },
        "id": "trUR3aSByIwq",
        "outputId": "a15e937a-43a0-46fa-e90b-6cbb60e71bb0"
      },
      "source": [
        "EPOCHS = 40\n",
        "history = model.fit(\n",
        "    train_ds, \n",
        "    validation_data=val_ds,  \n",
        "    epochs=EPOCHS\n",
        ")"
      ],
      "execution_count": 12,
      "outputs": [
        {
          "output_type": "stream",
          "name": "stdout",
          "text": [
            "Epoch 1/40\n",
            "24/24 [==============================] - 10s 216ms/step - loss: 49522996.0000 - accuracy: 0.5182 - val_loss: 47017804.0000 - val_accuracy: 0.5104\n",
            "Epoch 2/40\n",
            "24/24 [==============================] - 5s 173ms/step - loss: 44751456.0000 - accuracy: 0.5391 - val_loss: 42300672.0000 - val_accuracy: 0.4635\n",
            "Epoch 3/40\n",
            "24/24 [==============================] - 5s 183ms/step - loss: 40071888.0000 - accuracy: 0.4570 - val_loss: 37665360.0000 - val_accuracy: 0.3906\n",
            "Epoch 4/40\n",
            "24/24 [==============================] - 5s 183ms/step - loss: 35484968.0000 - accuracy: 0.4180 - val_loss: 33135904.0000 - val_accuracy: 0.3906\n",
            "Epoch 5/40\n",
            "24/24 [==============================] - 5s 186ms/step - loss: 31018426.0000 - accuracy: 0.4036 - val_loss: 28743854.0000 - val_accuracy: 0.2969\n",
            "Epoch 6/40\n",
            "24/24 [==============================] - 5s 188ms/step - loss: 26707360.0000 - accuracy: 0.4297 - val_loss: 24528250.0000 - val_accuracy: 0.3385\n",
            "Epoch 7/40\n",
            "24/24 [==============================] - 5s 186ms/step - loss: 22594426.0000 - accuracy: 0.4128 - val_loss: 20535574.0000 - val_accuracy: 0.3073\n",
            "Epoch 8/40\n",
            "24/24 [==============================] - 5s 177ms/step - loss: 18729134.0000 - accuracy: 0.4102 - val_loss: 16818190.0000 - val_accuracy: 0.3125\n",
            "Epoch 9/40\n",
            "24/24 [==============================] - 5s 183ms/step - loss: 15165405.0000 - accuracy: 0.3229 - val_loss: 13430904.0000 - val_accuracy: 0.2344\n",
            "Epoch 10/40\n",
            "24/24 [==============================] - 6s 189ms/step - loss: 11956887.0000 - accuracy: 0.2344 - val_loss: 10424898.0000 - val_accuracy: 0.1771\n",
            "Epoch 11/40\n",
            "24/24 [==============================] - 6s 189ms/step - loss: 9150025.0000 - accuracy: 0.2357 - val_loss: 7839971.5000 - val_accuracy: 0.1719\n",
            "Epoch 12/40\n",
            "24/24 [==============================] - 6s 189ms/step - loss: 6775953.5000 - accuracy: 0.2539 - val_loss: 5696587.5000 - val_accuracy: 0.1875\n",
            "Epoch 13/40\n",
            "24/24 [==============================] - 5s 184ms/step - loss: 4843404.0000 - accuracy: 0.2656 - val_loss: 3990089.2500 - val_accuracy: 0.2135\n",
            "Epoch 14/40\n",
            "24/24 [==============================] - 5s 186ms/step - loss: 3335145.2500 - accuracy: 0.2773 - val_loss: 2689893.7500 - val_accuracy: 0.2188\n",
            "Epoch 15/40\n",
            "24/24 [==============================] - 5s 186ms/step - loss: 2209682.7500 - accuracy: 0.2917 - val_loss: 1743876.5000 - val_accuracy: 0.2031\n",
            "Epoch 16/40\n",
            "24/24 [==============================] - 5s 184ms/step - loss: 1407970.3750 - accuracy: 0.3008 - val_loss: 1087191.8750 - val_accuracy: 0.2031\n",
            "Epoch 17/40\n",
            "24/24 [==============================] - 6s 188ms/step - loss: 862997.0625 - accuracy: 0.3385 - val_loss: 652159.1875 - val_accuracy: 0.2396\n",
            "Epoch 18/40\n",
            "24/24 [==============================] - 6s 184ms/step - loss: 509254.0312 - accuracy: 0.3346 - val_loss: 376831.4062 - val_accuracy: 0.2760\n",
            "Epoch 19/40\n",
            "24/24 [==============================] - 6s 191ms/step - loss: 289672.5312 - accuracy: 0.3372 - val_loss: 210035.2969 - val_accuracy: 0.2604\n",
            "Epoch 20/40\n",
            "24/24 [==============================] - 5s 179ms/step - loss: 159063.4531 - accuracy: 0.3320 - val_loss: 113103.5703 - val_accuracy: 0.2760\n",
            "Epoch 21/40\n",
            "24/24 [==============================] - 6s 189ms/step - loss: 84450.3516 - accuracy: 0.3359 - val_loss: 58935.8555 - val_accuracy: 0.2708\n",
            "Epoch 22/40\n",
            "24/24 [==============================] - 6s 192ms/step - loss: 43416.6289 - accuracy: 0.3346 - val_loss: 29759.4629 - val_accuracy: 0.2656\n",
            "Epoch 23/40\n",
            "24/24 [==============================] - 6s 188ms/step - loss: 21643.5547 - accuracy: 0.3372 - val_loss: 14579.5781 - val_accuracy: 0.2656\n",
            "Epoch 24/40\n",
            "24/24 [==============================] - 6s 188ms/step - loss: 10474.4658 - accuracy: 0.3359 - val_loss: 6938.6567 - val_accuracy: 0.2708\n",
            "Epoch 25/40\n",
            "24/24 [==============================] - 6s 188ms/step - loss: 4925.9663 - accuracy: 0.3346 - val_loss: 3209.8467 - val_accuracy: 0.2760\n",
            "Epoch 26/40\n",
            "24/24 [==============================] - 6s 190ms/step - loss: 2252.9958 - accuracy: 0.3372 - val_loss: 1444.8900 - val_accuracy: 0.2760\n",
            "Epoch 27/40\n",
            "24/24 [==============================] - 5s 182ms/step - loss: 1002.9114 - accuracy: 0.3372 - val_loss: 633.4632 - val_accuracy: 0.2604\n",
            "Epoch 28/40\n",
            "24/24 [==============================] - 6s 186ms/step - loss: 434.9085 - accuracy: 0.3372 - val_loss: 271.2586 - val_accuracy: 0.2604\n",
            "Epoch 29/40\n",
            "24/24 [==============================] - 6s 186ms/step - loss: 184.0219 - accuracy: 0.3320 - val_loss: 112.9960 - val_accuracy: 0.2760\n",
            "Epoch 30/40\n",
            "24/24 [==============================] - 6s 188ms/step - loss: 76.2654 - accuracy: 0.3372 - val_loss: 46.4349 - val_accuracy: 0.2708\n",
            "Epoch 31/40\n",
            "24/24 [==============================] - 6s 189ms/step - loss: 31.2570 - accuracy: 0.3372 - val_loss: 19.1245 - val_accuracy: 0.2760\n",
            "Epoch 32/40\n",
            "24/24 [==============================] - 6s 186ms/step - loss: 12.9739 - accuracy: 0.3346 - val_loss: 8.1526 - val_accuracy: 0.2708\n",
            "Epoch 33/40\n",
            "24/24 [==============================] - 6s 189ms/step - loss: 5.7508 - accuracy: 0.3372 - val_loss: 3.9082 - val_accuracy: 0.2708\n",
            "Epoch 34/40\n",
            "24/24 [==============================] - 6s 188ms/step - loss: 2.9775 - accuracy: 0.3398 - val_loss: 2.3117 - val_accuracy: 0.2708\n",
            "Epoch 35/40\n",
            "24/24 [==============================] - 6s 183ms/step - loss: 1.9417 - accuracy: 0.3372 - val_loss: 1.9378 - val_accuracy: 0.2656\n",
            "Epoch 36/40\n",
            "24/24 [==============================] - 6s 190ms/step - loss: 1.5654 - accuracy: 0.3372 - val_loss: 1.5643 - val_accuracy: 0.2708\n",
            "Epoch 37/40\n",
            "24/24 [==============================] - 6s 190ms/step - loss: 1.4341 - accuracy: 0.3372 - val_loss: 1.5321 - val_accuracy: 0.2708\n",
            "Epoch 38/40\n",
            "24/24 [==============================] - 5s 181ms/step - loss: 1.3886 - accuracy: 0.3385 - val_loss: 1.4055 - val_accuracy: 0.2708\n",
            "Epoch 39/40\n",
            "24/24 [==============================] - 6s 190ms/step - loss: 1.3734 - accuracy: 0.3281 - val_loss: 1.4523 - val_accuracy: 0.2812\n",
            "Epoch 40/40\n",
            "24/24 [==============================] - 6s 185ms/step - loss: 1.3829 - accuracy: 0.3385 - val_loss: 1.4090 - val_accuracy: 0.2708\n"
          ]
        }
      ]
    },
    {
      "cell_type": "code",
      "metadata": {
        "colab": {
          "base_uri": "https://localhost:8080/",
          "height": 276
        },
        "id": "c25ourI63bYk",
        "outputId": "e449b3d5-cec3-4bf6-e5e8-7e4d3888c7ad"
      },
      "source": [
        "metrics = history.history\n",
        "plt.plot(history.epoch, metrics['loss'], metrics['val_loss'])\n",
        "plt.legend(['loss', 'val_loss'])\n",
        "plt.show()"
      ],
      "execution_count": 13,
      "outputs": [
        {
          "output_type": "display_data",
          "data": {
            "image/png": "[encoded data removed]",
            "text/plain": [
              "<Figure size 432x288 with 1 Axes>"
            ]
          },
          "metadata": {
            "needs_background": "light"
          }
        }
      ]
    },
    {
      "cell_type": "code",
      "metadata": {
        "colab": {
          "base_uri": "https://localhost:8080/"
        },
        "id": "U50I5x4l3l-H",
        "outputId": "19db2bd7-4223-4930-8c7f-57ed081b1192"
      },
      "source": [
        "eval=model.evaluate(val_ds)"
      ],
      "execution_count": 14,
      "outputs": [
        {
          "output_type": "stream",
          "name": "stdout",
          "text": [
            "6/6 [==============================] - 1s 46ms/step - loss: 1.4026 - accuracy: 0.2708\n"
          ]
        }
      ]
    },
    {
      "cell_type": "code",
      "metadata": {
        "id": "T4ZnwBTE3g1V"
      },
      "source": [
        "pred=model.predict(val_ds)"
      ],
      "execution_count": 15,
      "outputs": []
    }
  ]
}