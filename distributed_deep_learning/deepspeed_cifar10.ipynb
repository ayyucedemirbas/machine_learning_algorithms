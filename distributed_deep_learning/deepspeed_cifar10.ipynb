{
  "nbformat": 4,
  "nbformat_minor": 0,
  "metadata": {
    "colab": {
      "name": "deepspeed_cifar10.ipynb",
      "provenance": [],
      "collapsed_sections": []
    },
    "kernelspec": {
      "name": "python3",
      "display_name": "Python 3"
    },
    "language_info": {
      "name": "python"
    },
    "accelerator": "GPU"
  },
  "cells": [
    {
      "cell_type": "code",
      "execution_count": null,
      "metadata": {
        "colab": {
          "base_uri": "https://localhost:8080/"
        },
        "id": "yUZRDKmGmi-U",
        "outputId": "238bab1c-4e7d-4f21-a000-5af8c3fcd2a6"
      },
      "outputs": [
        {
          "output_type": "stream",
          "name": "stdout",
          "text": [
            "Collecting deepspeed\n",
            "  Downloading deepspeed-0.5.10.tar.gz (515 kB)\n",
            "\u001b[K     |████████████████████████████████| 515 kB 31.9 MB/s \n",
            "\u001b[?25hCollecting hjson\n",
            "  Downloading hjson-3.0.2-py3-none-any.whl (54 kB)\n",
            "\u001b[K     |████████████████████████████████| 54 kB 3.4 MB/s \n",
            "\u001b[?25hCollecting ninja\n",
            "  Downloading ninja-1.10.2.3-py2.py3-none-manylinux_2_5_x86_64.manylinux1_x86_64.whl (108 kB)\n",
            "\u001b[K     |████████████████████████████████| 108 kB 76.2 MB/s \n",
            "\u001b[?25hRequirement already satisfied: numpy in /usr/local/lib/python3.7/dist-packages (from deepspeed) (1.19.5)\n",
            "Requirement already satisfied: packaging in /usr/local/lib/python3.7/dist-packages (from deepspeed) (21.3)\n",
            "Requirement already satisfied: psutil in /usr/local/lib/python3.7/dist-packages (from deepspeed) (5.4.8)\n",
            "Collecting py-cpuinfo\n",
            "  Downloading py-cpuinfo-8.0.0.tar.gz (99 kB)\n",
            "\u001b[K     |████████████████████████████████| 99 kB 12.9 MB/s \n",
            "\u001b[?25hRequirement already satisfied: torch in /usr/local/lib/python3.7/dist-packages (from deepspeed) (1.10.0+cu111)\n",
            "Requirement already satisfied: tqdm in /usr/local/lib/python3.7/dist-packages (from deepspeed) (4.62.3)\n",
            "Collecting triton==1.0.0\n",
            "  Downloading triton-1.0.0-cp37-cp37m-manylinux_2_17_x86_64.manylinux2014_x86_64.whl (15.2 MB)\n",
            "\u001b[K     |████████████████████████████████| 15.2 MB 58.1 MB/s \n",
            "\u001b[?25hRequirement already satisfied: pyparsing!=3.0.5,>=2.0.2 in /usr/local/lib/python3.7/dist-packages (from packaging->deepspeed) (3.0.6)\n",
            "Requirement already satisfied: typing-extensions in /usr/local/lib/python3.7/dist-packages (from torch->deepspeed) (3.10.0.2)\n",
            "Building wheels for collected packages: deepspeed, py-cpuinfo\n",
            "  Building wheel for deepspeed (setup.py) ... \u001b[?25l\u001b[?25hdone\n",
            "  Created wheel for deepspeed: filename=deepspeed-0.5.10-py3-none-any.whl size=528333 sha256=28dab849fd935fd99bacd7135c694a34d313b474c7ea06276dc789dad11d11a1\n",
            "  Stored in directory: /root/.cache/pip/wheels/b9/f1/7e/23e5e8660c7e72626d7dd90f5657d84c7d5c3838c593f82795\n",
            "  Building wheel for py-cpuinfo (setup.py) ... \u001b[?25l\u001b[?25hdone\n",
            "  Created wheel for py-cpuinfo: filename=py_cpuinfo-8.0.0-py3-none-any.whl size=22257 sha256=6f5b3bd543b7e72f6fb265fb0098a6d5ebef8525fb49cd1ce052969b8d5acbab\n",
            "  Stored in directory: /root/.cache/pip/wheels/d2/f1/1f/041add21dc9c4220157f1bd2bd6afe1f1a49524c3396b94401\n",
            "Successfully built deepspeed py-cpuinfo\n",
            "Installing collected packages: triton, py-cpuinfo, ninja, hjson, deepspeed\n",
            "Successfully installed deepspeed-0.5.10 hjson-3.0.2 ninja-1.10.2.3 py-cpuinfo-8.0.0 triton-1.0.0\n"
          ]
        }
      ],
      "source": [
        "!pip install deepspeed"
      ]
    },
    {
      "cell_type": "code",
      "source": [
        "!git clone https://github.com/microsoft/DeepSpeed.git"
      ],
      "metadata": {
        "colab": {
          "base_uri": "https://localhost:8080/"
        },
        "id": "MYO2RE02myH4",
        "outputId": "085c1611-21d8-4b1d-f593-513baf3d99b3"
      },
      "execution_count": null,
      "outputs": [
        {
          "output_type": "stream",
          "name": "stdout",
          "text": [
            "Cloning into 'DeepSpeed'...\n",
            "remote: Enumerating objects: 15320, done.\u001b[K\n",
            "remote: Counting objects: 100% (308/308), done.\u001b[K\n",
            "remote: Compressing objects: 100% (239/239), done.\u001b[K\n",
            "remote: Total 15320 (delta 163), reused 130 (delta 67), pack-reused 15012\u001b[K\n",
            "Receiving objects: 100% (15320/15320), 20.85 MiB | 36.18 MiB/s, done.\n",
            "Resolving deltas: 100% (10819/10819), done.\n"
          ]
        }
      ]
    },
    {
      "cell_type": "code",
      "source": [
        "%cd  DeepSpeed"
      ],
      "metadata": {
        "colab": {
          "base_uri": "https://localhost:8080/"
        },
        "id": "cOIxo2Uam72R",
        "outputId": "79717c30-82b4-48ab-fe22-f3ae0d4720ec"
      },
      "execution_count": null,
      "outputs": [
        {
          "output_type": "stream",
          "name": "stdout",
          "text": [
            "/content/DeepSpeed\n"
          ]
        }
      ]
    },
    {
      "cell_type": "code",
      "source": [
        "!git submodule update --init --recursive"
      ],
      "metadata": {
        "colab": {
          "base_uri": "https://localhost:8080/"
        },
        "id": "y7Slp4ZSnSRf",
        "outputId": "e82a79cb-59a4-4a0d-b609-4a227d17cd16"
      },
      "execution_count": null,
      "outputs": [
        {
          "output_type": "stream",
          "name": "stdout",
          "text": [
            "Submodule 'DeepSpeedExamples' (https://github.com/microsoft/DeepSpeedExamples) registered for path 'DeepSpeedExamples'\n",
            "Cloning into '/content/DeepSpeed/DeepSpeedExamples'...\n",
            "Submodule path 'DeepSpeedExamples': checked out '174ae3bc8dbb688cfaccb4afa15d6e2cdbe19ce5'\n",
            "Submodule 'inference/huggingface/transformers' (https://github.com/huggingface/transformers.git) registered for path 'DeepSpeedExamples/inference/huggingface/transformers'\n",
            "Cloning into '/content/DeepSpeed/DeepSpeedExamples/inference/huggingface/transformers'...\n",
            "Submodule path 'DeepSpeedExamples/inference/huggingface/transformers': checked out 'd9c62047a8d75e18d2849d345ab3394875a712ef'\n"
          ]
        }
      ]
    },
    {
      "cell_type": "code",
      "source": [
        "%cd DeepSpeedExamples/cifar\n",
        "!pip install -r requirements.txt"
      ],
      "metadata": {
        "colab": {
          "base_uri": "https://localhost:8080/"
        },
        "id": "KPWQAeE4nWIW",
        "outputId": "ce9e4114-571f-4d10-8a7a-fb82d083a1a1"
      },
      "execution_count": null,
      "outputs": [
        {
          "output_type": "stream",
          "name": "stdout",
          "text": [
            "/content/DeepSpeed/DeepSpeedExamples/cifar\n",
            "Collecting torchvision==0.4.0\n",
            "  Downloading torchvision-0.4.0-cp37-cp37m-manylinux1_x86_64.whl (8.8 MB)\n",
            "\u001b[K     |████████████████████████████████| 8.8 MB 25.7 MB/s \n",
            "\u001b[?25hRequirement already satisfied: pillow>=7.1.0 in /usr/local/lib/python3.7/dist-packages (from -r requirements.txt (line 2)) (7.1.2)\n",
            "Requirement already satisfied: matplotlib in /usr/local/lib/python3.7/dist-packages (from -r requirements.txt (line 3)) (3.2.2)\n",
            "Collecting torch==1.2.0\n",
            "  Downloading torch-1.2.0-cp37-cp37m-manylinux1_x86_64.whl (748.9 MB)\n",
            "\u001b[K     |████████████████████████████████| 748.9 MB 696 bytes/s \n",
            "\u001b[?25hRequirement already satisfied: six in /usr/local/lib/python3.7/dist-packages (from torchvision==0.4.0->-r requirements.txt (line 1)) (1.15.0)\n",
            "Requirement already satisfied: numpy in /usr/local/lib/python3.7/dist-packages (from torchvision==0.4.0->-r requirements.txt (line 1)) (1.19.5)\n",
            "Requirement already satisfied: kiwisolver>=1.0.1 in /usr/local/lib/python3.7/dist-packages (from matplotlib->-r requirements.txt (line 3)) (1.3.2)\n",
            "Requirement already satisfied: cycler>=0.10 in /usr/local/lib/python3.7/dist-packages (from matplotlib->-r requirements.txt (line 3)) (0.11.0)\n",
            "Requirement already satisfied: python-dateutil>=2.1 in /usr/local/lib/python3.7/dist-packages (from matplotlib->-r requirements.txt (line 3)) (2.8.2)\n",
            "Requirement already satisfied: pyparsing!=2.0.4,!=2.1.2,!=2.1.6,>=2.0.1 in /usr/local/lib/python3.7/dist-packages (from matplotlib->-r requirements.txt (line 3)) (3.0.6)\n",
            "Installing collected packages: torch, torchvision\n",
            "  Attempting uninstall: torch\n",
            "    Found existing installation: torch 1.10.0+cu111\n",
            "    Uninstalling torch-1.10.0+cu111:\n",
            "      Successfully uninstalled torch-1.10.0+cu111\n",
            "  Attempting uninstall: torchvision\n",
            "    Found existing installation: torchvision 0.11.1+cu111\n",
            "    Uninstalling torchvision-0.11.1+cu111:\n",
            "      Successfully uninstalled torchvision-0.11.1+cu111\n",
            "\u001b[31mERROR: pip's dependency resolver does not currently take into account all the packages that are installed. This behaviour is the source of the following dependency conflicts.\n",
            "torchtext 0.11.0 requires torch==1.10.0, but you have torch 1.2.0 which is incompatible.\n",
            "torchaudio 0.10.0+cu111 requires torch==1.10.0, but you have torch 1.2.0 which is incompatible.\u001b[0m\n",
            "Successfully installed torch-1.2.0 torchvision-0.4.0\n"
          ]
        }
      ]
    },
    {
      "cell_type": "code",
      "source": [
        "!python cifar10_tutorial.py"
      ],
      "metadata": {
        "colab": {
          "base_uri": "https://localhost:8080/"
        },
        "id": "OaIjjbIunjQ8",
        "outputId": "ee9af23c-12c4-4933-dc10-6a803ffd8df2"
      },
      "execution_count": null,
      "outputs": [
        {
          "output_type": "stream",
          "name": "stdout",
          "text": [
            "Downloading https://www.cs.toronto.edu/~kriz/cifar-10-python.tar.gz to ./data/cifar-10-python.tar.gz\n",
            "170500096it [00:01, 96919799.56it/s]                    \n",
            "Extracting ./data/cifar-10-python.tar.gz to ./data\n",
            "Files already downloaded and verified\n",
            "<Figure size 640x480 with 1 Axes>\n",
            " bird plane plane   cat\n",
            "[1,  2000] loss: 2.217\n",
            "[1,  4000] loss: 1.879\n",
            "[1,  6000] loss: 1.670\n",
            "[1,  8000] loss: 1.593\n",
            "[1, 10000] loss: 1.512\n",
            "[1, 12000] loss: 1.450\n",
            "[2,  2000] loss: 1.392\n",
            "[2,  4000] loss: 1.368\n",
            "[2,  6000] loss: 1.344\n",
            "[2,  8000] loss: 1.330\n",
            "[2, 10000] loss: 1.285\n",
            "[2, 12000] loss: 1.278\n",
            "Finished Training\n",
            "<Figure size 640x480 with 1 Axes>\n",
            "GroundTruth:    cat  ship  ship plane\n",
            "Predicted:    cat  ship  ship  ship\n",
            "Accuracy of the network on the 10000 test images: 55 %\n",
            "Accuracy of plane : 63 %\n",
            "Accuracy of   car : 68 %\n",
            "Accuracy of  bird : 37 %\n",
            "Accuracy of   cat : 31 %\n",
            "Accuracy of  deer : 37 %\n",
            "Accuracy of   dog : 54 %\n",
            "Accuracy of  frog : 67 %\n",
            "Accuracy of horse : 62 %\n",
            "Accuracy of  ship : 66 %\n",
            "Accuracy of truck : 65 %\n",
            "cuda:0\n"
          ]
        }
      ]
    }
  ]
}