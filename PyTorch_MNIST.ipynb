{
  "nbformat": 4,
  "nbformat_minor": 0,
  "metadata": {
    "colab": {
      "name": "PyTorch_MNIST.ipynb",
      "provenance": [],
      "authorship_tag": "ABX9TyNorAKK+qevhycrgvFjmxFf",
      "include_colab_link": true
    },
    "kernelspec": {
      "name": "python3",
      "display_name": "Python 3"
    }
  },
  "cells": [
    {
      "cell_type": "markdown",
      "metadata": {
        "id": "view-in-github",
        "colab_type": "text"
      },
      "source": [
        "<a href=\"https://colab.research.google.com/github/ayyucedemirbas/machine_learning_algorithms/blob/master/PyTorch_MNIST.ipynb\" target=\"_parent\"><img src=\"https://colab.research.google.com/assets/colab-badge.svg\" alt=\"Open In Colab\"/></a>"
      ]
    },
    {
      "cell_type": "code",
      "metadata": {
        "id": "u49vuSuVVX0m"
      },
      "source": [
        "import torch\n",
        "from torchvision import datasets\n",
        "import torchvision.transforms as transforms"
      ],
      "execution_count": 1,
      "outputs": []
    },
    {
      "cell_type": "code",
      "metadata": {
        "id": "Fj5agmvgVc3f"
      },
      "source": [
        "transform = transforms.ToTensor()\n",
        "\n",
        "train_data = datasets.MNIST(root='data', train=True,\n",
        "                                   download=True, transform=transform)\n",
        "test_data = datasets.MNIST(root='data', train=False,\n",
        "                                  download=True, transform=transform)"
      ],
      "execution_count": 2,
      "outputs": []
    },
    {
      "cell_type": "code",
      "metadata": {
        "colab": {
          "base_uri": "https://localhost:8080/"
        },
        "id": "6FgEI0hAVuHu",
        "outputId": "3861889c-cdee-4a38-bfc3-092f3c8a60b6"
      },
      "source": [
        "num_train = len(train_data)\n",
        "print('num_train = len(train_data) ==> ', num_train)\n",
        "indices = list(range(num_train))\n",
        "print('len(indices) ==>', len(indices))"
      ],
      "execution_count": 3,
      "outputs": [
        {
          "output_type": "stream",
          "text": [
            "num_train = len(train_data) ==>  60000\n",
            "len(indices) ==> 60000\n"
          ],
          "name": "stdout"
        }
      ]
    },
    {
      "cell_type": "code",
      "metadata": {
        "id": "P1Q26lWtV688"
      },
      "source": [
        "import numpy as np"
      ],
      "execution_count": 4,
      "outputs": []
    },
    {
      "cell_type": "code",
      "metadata": {
        "id": "y_dS0_blWA0H"
      },
      "source": [
        "np.random.shuffle(indices)"
      ],
      "execution_count": 5,
      "outputs": []
    },
    {
      "cell_type": "code",
      "metadata": {
        "colab": {
          "base_uri": "https://localhost:8080/"
        },
        "id": "0sxb7cQWWFcG",
        "outputId": "e07e5d04-c68d-4667-f18b-80d46bbb911c"
      },
      "source": [
        "#split the fucking dataset\n",
        "valid_size = 0.2\n",
        "split = int(np.floor(valid_size * num_train))\n",
        "train_idx, valid_idx = indices[split:], indices[:split]\n",
        "\n",
        "print('len(train_idx) ==> ', len(train_idx))\n",
        "print('len(valid_idx) ==> ', len(valid_idx))"
      ],
      "execution_count": 6,
      "outputs": [
        {
          "output_type": "stream",
          "text": [
            "len(train_idx) ==>  48000\n",
            "len(valid_idx) ==>  12000\n"
          ],
          "name": "stdout"
        }
      ]
    },
    {
      "cell_type": "code",
      "metadata": {
        "id": "dwbkurknYHCG"
      },
      "source": [
        "from torch.utils.data.sampler import SubsetRandomSampler"
      ],
      "execution_count": 7,
      "outputs": []
    },
    {
      "cell_type": "code",
      "metadata": {
        "id": "AjGglxg5W9lW"
      },
      "source": [
        "train_sampler = SubsetRandomSampler(train_idx)\n",
        "valid_sampler = SubsetRandomSampler(valid_idx)\n",
        "\n",
        "num_workers = 0\n",
        "batch_size = 16\n",
        "\n",
        "train_loader = torch.utils.data.DataLoader(dataset=train_data, \\\n",
        "                                           batch_size=batch_size, \\\n",
        "                                           sampler=train_sampler, \\\n",
        "                                           num_workers=num_workers)\n",
        "\n",
        "valid_loader = torch.utils.data.DataLoader(dataset=train_data, \\\n",
        "                                           batch_size=batch_size, \\\n",
        "                                           sampler=valid_sampler, \\\n",
        "                                           num_workers=num_workers)\n",
        "\n",
        "test_loader = torch.utils.data.DataLoader(dataset=test_data, \\\n",
        "                                          batch_size=batch_size, \\\n",
        "                                          num_workers=num_workers)"
      ],
      "execution_count": 8,
      "outputs": []
    },
    {
      "cell_type": "code",
      "metadata": {
        "colab": {
          "base_uri": "https://localhost:8080/"
        },
        "id": "z5q_ptfHYNo2",
        "outputId": "ee8532a8-64c5-45ed-c6a5-fd9ac86027ef"
      },
      "source": [
        "dataiter = iter(train_loader)\n",
        "images, labels = dataiter.next()\n",
        "print(len(images), len(labels))\n",
        "print('Correct Labels: ', labels)\n",
        "images = images.numpy()\n",
        "print('Shape of our images tensor =', images.shape)\n",
        "print('Batch Size =', images.shape[0], 'Image Height/Width =', \\\n",
        "                                                        images.shape[2])\n",
        "\n",
        "print()\n",
        "print('Squeezing the images tensor =', np.squeeze(images).shape)\n",
        "print('Un-squeezing the images tensor (axis=3) =', \\\n",
        "                                        np.expand_dims(images, axis=3).shape)"
      ],
      "execution_count": 9,
      "outputs": [
        {
          "output_type": "stream",
          "text": [
            "16 16\n",
            "Correct Labels:  tensor([7, 8, 4, 1, 4, 2, 7, 1, 0, 1, 8, 2, 9, 9, 4, 6])\n",
            "Shape of our images tensor = (16, 1, 28, 28)\n",
            "Batch Size = 16 Image Height/Width = 28\n",
            "\n",
            "Squeezing the images tensor = (16, 28, 28)\n",
            "Un-squeezing the images tensor (axis=3) = (16, 1, 28, 1, 28)\n"
          ],
          "name": "stdout"
        }
      ]
    },
    {
      "cell_type": "code",
      "metadata": {
        "id": "dAu0m6M5Yj-l"
      },
      "source": [
        "import torch.nn as nn\n",
        "import torch.nn.functional as F\n",
        "class MNISTModel(nn.Module):\n",
        "    def __init__(self):\n",
        "        super(MNISTModel, self).__init__()\n",
        "        \n",
        "        self.conv1 = nn.Conv2d(in_channels=1, out_channels=8, kernel_size=3, \\\n",
        "                               stride=1, padding=1) \n",
        "        self.conv2 = nn.Conv2d(in_channels=8, out_channels=16, kernel_size=3, \\\n",
        "                               stride=1, padding=1)\n",
        "       \n",
        "        self.linear1 = nn.Linear(in_features=12544, out_features=256)\n",
        "        self.linear2 = nn.Linear(in_features=256, out_features=64)\n",
        "        self.linear3 = nn.Linear(in_features=64, out_features=10)\n",
        "\n",
        "        self.dropout = nn.Dropout(p=0.25)\n",
        "\n",
        "    def forward(self, image_batch):\n",
        "        image_batch = F.relu(input=self.conv1(image_batch))          \n",
        "        image_batch = F.relu(input=self.conv2(image_batch))  \n",
        "        \n",
        "        flat_image_batch = image_batch.view(image_batch.shape[0], -1) # Flatten MNIST images into a 784 long vector\n",
        "        flat_image_batch = F.relu(input=self.linear1(flat_image_batch))\n",
        "        flat_image_batch = self.dropout(F.relu(input=self.linear2(flat_image_batch)))\n",
        "        flat_image_batch = F.relu(input=self.linear3(flat_image_batch))\n",
        "        return flat_image_batch               "
      ],
      "execution_count": 10,
      "outputs": []
    },
    {
      "cell_type": "code",
      "metadata": {
        "id": "iD7VWoXXa_Uh"
      },
      "source": [
        "from torchsummary import summary "
      ],
      "execution_count": 11,
      "outputs": []
    },
    {
      "cell_type": "code",
      "metadata": {
        "colab": {
          "base_uri": "https://localhost:8080/"
        },
        "id": "Ayk929u9bHt_",
        "outputId": "73f2db5c-1116-41cb-c3e9-950d1236ce10"
      },
      "source": [
        "device = torch.device(\"cuda\" if torch.cuda.is_available() else \"cpu\") \n",
        "print('The model will run on', device)\n",
        "\n",
        "mymodel = MNISTModel().to(device)\n",
        "summary(model=mymodel, input_size=(1, 28, 28), batch_size=16)"
      ],
      "execution_count": 12,
      "outputs": [
        {
          "output_type": "stream",
          "text": [
            "The model will run on cpu\n",
            "----------------------------------------------------------------\n",
            "        Layer (type)               Output Shape         Param #\n",
            "================================================================\n",
            "            Conv2d-1            [16, 8, 28, 28]              80\n",
            "            Conv2d-2           [16, 16, 28, 28]           1,168\n",
            "            Linear-3                  [16, 256]       3,211,520\n",
            "            Linear-4                   [16, 64]          16,448\n",
            "           Dropout-5                   [16, 64]               0\n",
            "            Linear-6                   [16, 10]             650\n",
            "================================================================\n",
            "Total params: 3,229,866\n",
            "Trainable params: 3,229,866\n",
            "Non-trainable params: 0\n",
            "----------------------------------------------------------------\n",
            "Input size (MB): 0.05\n",
            "Forward/backward pass size (MB): 2.34\n",
            "Params size (MB): 12.32\n",
            "Estimated Total Size (MB): 14.71\n",
            "----------------------------------------------------------------\n"
          ],
          "name": "stdout"
        }
      ]
    },
    {
      "cell_type": "code",
      "metadata": {
        "colab": {
          "base_uri": "https://localhost:8080/"
        },
        "id": "y1f0oNYUdGER",
        "outputId": "1a404aa1-5a21-41a9-a11b-226606f5be36"
      },
      "source": [
        "modelsum= MNISTModel()\n",
        "print(modelsum)"
      ],
      "execution_count": 13,
      "outputs": [
        {
          "output_type": "stream",
          "text": [
            "MNISTModel(\n",
            "  (conv1): Conv2d(1, 8, kernel_size=(3, 3), stride=(1, 1), padding=(1, 1))\n",
            "  (conv2): Conv2d(8, 16, kernel_size=(3, 3), stride=(1, 1), padding=(1, 1))\n",
            "  (linear1): Linear(in_features=12544, out_features=256, bias=True)\n",
            "  (linear2): Linear(in_features=256, out_features=64, bias=True)\n",
            "  (linear3): Linear(in_features=64, out_features=10, bias=True)\n",
            "  (dropout): Dropout(p=0.25, inplace=False)\n",
            ")\n"
          ],
          "name": "stdout"
        }
      ]
    },
    {
      "cell_type": "code",
      "metadata": {
        "id": "ysG31riVbec-"
      },
      "source": [
        "import torch.optim as optim"
      ],
      "execution_count": 14,
      "outputs": []
    },
    {
      "cell_type": "code",
      "metadata": {
        "id": "ElUBBJgycYSn"
      },
      "source": [
        "optimizer = optim.SGD(mymodel.parameters(), lr=0.003, momentum=0.9)"
      ],
      "execution_count": 15,
      "outputs": []
    },
    {
      "cell_type": "code",
      "metadata": {
        "id": "TUDmU59e5W9z"
      },
      "source": [
        "criterion = nn.CrossEntropyLoss()      "
      ],
      "execution_count": 16,
      "outputs": []
    },
    {
      "cell_type": "code",
      "metadata": {
        "colab": {
          "base_uri": "https://localhost:8080/"
        },
        "id": "tQ9yXlbpSIBj",
        "outputId": "f7c9bb9e-8437-4b79-9f88-01fae08064e7"
      },
      "source": [
        "print('Training started')\n",
        "for epoch in range(2):  # loop over the dataset multiple times\n",
        "    print('Epoch: ',epoch)\n",
        "\n",
        "    running_loss = 0.0\n",
        "    for i, data in enumerate(train_loader, 0):\n",
        "        # get the inputs; data is a list of [images, labels]\n",
        "        images, labels = data\n",
        "\n",
        "        # zero the parameter gradients\n",
        "        optimizer.zero_grad()\n",
        "\n",
        "        # forward + backward + optimize\n",
        "        outputs = mymodel(images)\n",
        "        loss = criterion(outputs, labels)\n",
        "        loss.backward()\n",
        "        optimizer.step()\n",
        "\n",
        "        # print statistics\n",
        "        running_loss += loss.item()\n",
        "        if i % 2000 == 1999:    # print every 2000 mini-batches\n",
        "            print('[%d, %5d] loss: %.3f' %\n",
        "                  (epoch + 1, i + 1, running_loss / 2000))\n",
        "            running_loss = 0.0\n",
        "\n",
        "print('Finished Training')"
      ],
      "execution_count": 17,
      "outputs": [
        {
          "output_type": "stream",
          "text": [
            "Training started\n",
            "Epoch:  0\n",
            "[1,  2000] loss: 0.654\n",
            "Epoch:  1\n",
            "[2,  2000] loss: 0.145\n",
            "Finished Training\n"
          ],
          "name": "stdout"
        }
      ]
    },
    {
      "cell_type": "code",
      "metadata": {
        "id": "zu5VXlTmVC8S"
      },
      "source": [
        "testiter = iter(test_loader)"
      ],
      "execution_count": 18,
      "outputs": []
    },
    {
      "cell_type": "code",
      "metadata": {
        "colab": {
          "base_uri": "https://localhost:8080/"
        },
        "id": "K_GHnNzxVJD3",
        "outputId": "0dfec768-1784-4404-fd6e-af60d3d3cb8a"
      },
      "source": [
        "images, labels = dataiter.next()\n",
        "outputs = mymodel(images)\n",
        "_, predicted = torch.max(outputs, 1)\n",
        "correct = 0\n",
        "total = 0\n",
        "with torch.no_grad():\n",
        "    for data in test_loader:\n",
        "        images, labels = data\n",
        "        outputs = mymodel(images)\n",
        "        _, predicted = torch.max(outputs.data, 1)\n",
        "        total += labels.size(0)\n",
        "        correct += (predicted == labels).sum().item()\n",
        "\n",
        "print('Accuracy of the network on the 10000 test images: %d %%' % (\n",
        "    100 * correct / total))"
      ],
      "execution_count": 19,
      "outputs": [
        {
          "output_type": "stream",
          "text": [
            "Accuracy of the network on the 10000 test images: 96 %\n"
          ],
          "name": "stdout"
        }
      ]
    },
    {
      "cell_type": "code",
      "metadata": {
        "id": "Nt0DjNN7WoyR"
      },
      "source": [
        "classes = ('zero', 'one', 'two', 'three',\n",
        "           'four', 'five', 'six', 'seven', 'eight', 'nine')"
      ],
      "execution_count": 20,
      "outputs": []
    },
    {
      "cell_type": "code",
      "metadata": {
        "colab": {
          "base_uri": "https://localhost:8080/"
        },
        "id": "wWrupv3cWbH0",
        "outputId": "38ee7f1e-e3ce-4456-ad5c-03e7ef2f3642"
      },
      "source": [
        "class_correct = list(0. for i in range(10))\n",
        "class_total = list(0. for i in range(10))\n",
        "with torch.no_grad():\n",
        "    for data in test_loader:\n",
        "        images, labels = data\n",
        "        outputs = mymodel(images)\n",
        "        _, predicted = torch.max(outputs, 1)\n",
        "        c = (predicted == labels).squeeze()\n",
        "        for i in range(4):\n",
        "            label = labels[i]\n",
        "            class_correct[label] += c[i].item()\n",
        "            class_total[label] += 1\n",
        "\n",
        "\n",
        "for i in range(10):\n",
        "    print('Accuracy of %5s : %2d %%' % (\n",
        "        classes[i], 100 * class_correct[i] / class_total[i]))"
      ],
      "execution_count": 21,
      "outputs": [
        {
          "output_type": "stream",
          "text": [
            "Accuracy of  zero : 97 %\n",
            "Accuracy of   one : 98 %\n",
            "Accuracy of   two : 95 %\n",
            "Accuracy of three : 96 %\n",
            "Accuracy of  four : 95 %\n",
            "Accuracy of  five : 93 %\n",
            "Accuracy of   six : 98 %\n",
            "Accuracy of seven : 95 %\n",
            "Accuracy of eight : 91 %\n",
            "Accuracy of  nine : 95 %\n"
          ],
          "name": "stdout"
        }
      ]
    }
  ]
}