{
  "nbformat": 4,
  "nbformat_minor": 0,
  "metadata": {
    "language_info": {
      "codemirror_mode": {
        "name": "ipython",
        "version": 3
      },
      "file_extension": ".py",
      "mimetype": "text/x-python",
      "name": "python",
      "nbconvert_exporter": "python",
      "pygments_lexer": "ipython3",
      "version": "3.8.2-final"
    },
    "orig_nbformat": 2,
    "kernelspec": {
      "name": "python38232bit0ff534d071bf4c2b84d5aabc8564a691",
      "display_name": "Python 3.8.2 32-bit"
    },
    "colab": {
      "name": "meteor-showers.ipynb",
      "provenance": [],
      "include_colab_link": true
    }
  },
  "cells": [
    {
      "cell_type": "markdown",
      "metadata": {
        "id": "view-in-github",
        "colab_type": "text"
      },
      "source": [
        "<a href=\"https://colab.research.google.com/github/ayyucedemirbas/machine_learning_algorithms/blob/master/meteor_showers.ipynb\" target=\"_parent\"><img src=\"https://colab.research.google.com/assets/colab-badge.svg\" alt=\"Open In Colab\"/></a>"
      ]
    },
    {
      "cell_type": "code",
      "metadata": {
        "id": "Pqdzw8zNrLFS"
      },
      "source": [
        "import numpy as np \n",
        "import pandas as pd "
      ],
      "execution_count": 1,
      "outputs": []
    },
    {
      "cell_type": "code",
      "metadata": {
        "id": "snM_niy1rLFd"
      },
      "source": [
        "meteor_showers = pd.read_csv('https://raw.githubusercontent.com/ayyucedemirbas/machine_learning_algorithms/master/meteorshowers.csv')\n",
        "moon_phases = pd.read_csv('https://raw.githubusercontent.com/ayyucedemirbas/machine_learning_algorithms/master/moonphases.csv')\n",
        "constellations = pd.read_csv('https://raw.githubusercontent.com/ayyucedemirbas/machine_learning_algorithms/master/constellations.csv')\n",
        "cities = pd.read_csv('https://raw.githubusercontent.com/ayyucedemirbas/machine_learning_algorithms/master/cities.csv')"
      ],
      "execution_count": 2,
      "outputs": []
    },
    {
      "cell_type": "code",
      "metadata": {
        "id": "iDWrXL5UrLFj"
      },
      "source": [
        "change_meteor_shower = {'name':'Chang\\'e','radiant':'Draco','bestmonth':'october','startmonth':'october','startday':1,'endmonth':'october','endday':31,'hemisphere':'northern','preferredhemisphere':'northern'}\n",
        "\n",
        "meteor_showers = meteor_showers.append(change_meteor_shower, ignore_index=True)"
      ],
      "execution_count": 3,
      "outputs": []
    },
    {
      "cell_type": "code",
      "metadata": {
        "id": "kOdKW7zjrLFs"
      },
      "source": [
        "draco_constellation = {'constellation':'Draco','bestmonth':'july','latitudestart':90,'latitudeend':-15,'besttime':2100,'hemisphere':'northern'}\n",
        "\n",
        "constellations = constellations.append(draco_constellation, ignore_index=True)"
      ],
      "execution_count": 4,
      "outputs": []
    },
    {
      "cell_type": "code",
      "metadata": {
        "tags": [],
        "id": "HXCfd28arLFz",
        "outputId": "ee58b7a5-fd5e-4cfe-8508-ef3354fa23ce",
        "colab": {
          "base_uri": "https://localhost:8080/",
          "height": 289
        }
      },
      "source": [
        "meteor_showers.info()"
      ],
      "execution_count": 5,
      "outputs": [
        {
          "output_type": "stream",
          "text": [
            "<class 'pandas.core.frame.DataFrame'>\n",
            "RangeIndex: 6 entries, 0 to 5\n",
            "Data columns (total 9 columns):\n",
            " #   Column               Non-Null Count  Dtype \n",
            "---  ------               --------------  ----- \n",
            " 0   name                 6 non-null      object\n",
            " 1   radiant              6 non-null      object\n",
            " 2   bestmonth            6 non-null      object\n",
            " 3   startmonth           6 non-null      object\n",
            " 4   startday             6 non-null      int64 \n",
            " 5   endmonth             6 non-null      object\n",
            " 6   endday               6 non-null      int64 \n",
            " 7   hemisphere           6 non-null      object\n",
            " 8   preferredhemisphere  6 non-null      object\n",
            "dtypes: int64(2), object(7)\n",
            "memory usage: 560.0+ bytes\n"
          ],
          "name": "stdout"
        }
      ]
    },
    {
      "cell_type": "code",
      "metadata": {
        "tags": [],
        "id": "i0wWgA2qrLF7",
        "outputId": "8c90b8ae-71e7-4638-b701-c4ae6046f0e8",
        "colab": {
          "base_uri": "https://localhost:8080/",
          "height": 289
        }
      },
      "source": [
        "meteor_showers.info()"
      ],
      "execution_count": 6,
      "outputs": [
        {
          "output_type": "stream",
          "text": [
            "<class 'pandas.core.frame.DataFrame'>\n",
            "RangeIndex: 6 entries, 0 to 5\n",
            "Data columns (total 9 columns):\n",
            " #   Column               Non-Null Count  Dtype \n",
            "---  ------               --------------  ----- \n",
            " 0   name                 6 non-null      object\n",
            " 1   radiant              6 non-null      object\n",
            " 2   bestmonth            6 non-null      object\n",
            " 3   startmonth           6 non-null      object\n",
            " 4   startday             6 non-null      int64 \n",
            " 5   endmonth             6 non-null      object\n",
            " 6   endday               6 non-null      int64 \n",
            " 7   hemisphere           6 non-null      object\n",
            " 8   preferredhemisphere  6 non-null      object\n",
            "dtypes: int64(2), object(7)\n",
            "memory usage: 560.0+ bytes\n"
          ],
          "name": "stdout"
        }
      ]
    },
    {
      "cell_type": "code",
      "metadata": {
        "id": "mM0VyRjUrLGC",
        "outputId": "60e61975-98e2-4b59-f166-46e7f2f0e5e3",
        "colab": {
          "base_uri": "https://localhost:8080/",
          "height": 204
        }
      },
      "source": [
        "moon_phases.head()"
      ],
      "execution_count": 7,
      "outputs": [
        {
          "output_type": "execute_result",
          "data": {
            "text/html": [
              "<div>\n",
              "<style scoped>\n",
              "    .dataframe tbody tr th:only-of-type {\n",
              "        vertical-align: middle;\n",
              "    }\n",
              "\n",
              "    .dataframe tbody tr th {\n",
              "        vertical-align: top;\n",
              "    }\n",
              "\n",
              "    .dataframe thead th {\n",
              "        text-align: right;\n",
              "    }\n",
              "</style>\n",
              "<table border=\"1\" class=\"dataframe\">\n",
              "  <thead>\n",
              "    <tr style=\"text-align: right;\">\n",
              "      <th></th>\n",
              "      <th>month</th>\n",
              "      <th>day</th>\n",
              "      <th>moonphase</th>\n",
              "      <th>specialevent</th>\n",
              "    </tr>\n",
              "  </thead>\n",
              "  <tbody>\n",
              "    <tr>\n",
              "      <th>0</th>\n",
              "      <td>january</td>\n",
              "      <td>1</td>\n",
              "      <td>NaN</td>\n",
              "      <td>NaN</td>\n",
              "    </tr>\n",
              "    <tr>\n",
              "      <th>1</th>\n",
              "      <td>january</td>\n",
              "      <td>2</td>\n",
              "      <td>first quarter</td>\n",
              "      <td>NaN</td>\n",
              "    </tr>\n",
              "    <tr>\n",
              "      <th>2</th>\n",
              "      <td>january</td>\n",
              "      <td>3</td>\n",
              "      <td>NaN</td>\n",
              "      <td>NaN</td>\n",
              "    </tr>\n",
              "    <tr>\n",
              "      <th>3</th>\n",
              "      <td>january</td>\n",
              "      <td>4</td>\n",
              "      <td>NaN</td>\n",
              "      <td>NaN</td>\n",
              "    </tr>\n",
              "    <tr>\n",
              "      <th>4</th>\n",
              "      <td>january</td>\n",
              "      <td>5</td>\n",
              "      <td>NaN</td>\n",
              "      <td>NaN</td>\n",
              "    </tr>\n",
              "  </tbody>\n",
              "</table>\n",
              "</div>"
            ],
            "text/plain": [
              "     month  day      moonphase specialevent\n",
              "0  january    1            NaN          NaN\n",
              "1  january    2  first quarter          NaN\n",
              "2  january    3            NaN          NaN\n",
              "3  january    4            NaN          NaN\n",
              "4  january    5            NaN          NaN"
            ]
          },
          "metadata": {
            "tags": []
          },
          "execution_count": 7
        }
      ]
    },
    {
      "cell_type": "code",
      "metadata": {
        "tags": [],
        "id": "p1fBmk-FrLGI",
        "outputId": "c1f646e7-2bab-4491-be32-80a10dfde338",
        "colab": {
          "base_uri": "https://localhost:8080/",
          "height": 204
        }
      },
      "source": [
        "moon_phases.info()"
      ],
      "execution_count": 8,
      "outputs": [
        {
          "output_type": "stream",
          "text": [
            "<class 'pandas.core.frame.DataFrame'>\n",
            "RangeIndex: 366 entries, 0 to 365\n",
            "Data columns (total 4 columns):\n",
            " #   Column        Non-Null Count  Dtype \n",
            "---  ------        --------------  ----- \n",
            " 0   month         366 non-null    object\n",
            " 1   day           366 non-null    int64 \n",
            " 2   moonphase     50 non-null     object\n",
            " 3   specialevent  10 non-null     object\n",
            "dtypes: int64(1), object(3)\n",
            "memory usage: 11.6+ KB\n"
          ],
          "name": "stdout"
        }
      ]
    },
    {
      "cell_type": "code",
      "metadata": {
        "id": "tnJ-IZI3rLGN",
        "outputId": "77045096-f5c5-4663-f85e-49982866cd22",
        "colab": {
          "base_uri": "https://localhost:8080/",
          "height": 204
        }
      },
      "source": [
        "constellations.head()"
      ],
      "execution_count": 9,
      "outputs": [
        {
          "output_type": "execute_result",
          "data": {
            "text/html": [
              "<div>\n",
              "<style scoped>\n",
              "    .dataframe tbody tr th:only-of-type {\n",
              "        vertical-align: middle;\n",
              "    }\n",
              "\n",
              "    .dataframe tbody tr th {\n",
              "        vertical-align: top;\n",
              "    }\n",
              "\n",
              "    .dataframe thead th {\n",
              "        text-align: right;\n",
              "    }\n",
              "</style>\n",
              "<table border=\"1\" class=\"dataframe\">\n",
              "  <thead>\n",
              "    <tr style=\"text-align: right;\">\n",
              "      <th></th>\n",
              "      <th>constellation</th>\n",
              "      <th>bestmonth</th>\n",
              "      <th>latitudestart</th>\n",
              "      <th>latitudeend</th>\n",
              "      <th>besttime</th>\n",
              "      <th>hemisphere</th>\n",
              "    </tr>\n",
              "  </thead>\n",
              "  <tbody>\n",
              "    <tr>\n",
              "      <th>0</th>\n",
              "      <td>Lyra</td>\n",
              "      <td>august</td>\n",
              "      <td>90</td>\n",
              "      <td>-40</td>\n",
              "      <td>21:00</td>\n",
              "      <td>northern</td>\n",
              "    </tr>\n",
              "    <tr>\n",
              "      <th>1</th>\n",
              "      <td>Aquarius</td>\n",
              "      <td>october</td>\n",
              "      <td>65</td>\n",
              "      <td>-90</td>\n",
              "      <td>21:00</td>\n",
              "      <td>southern</td>\n",
              "    </tr>\n",
              "    <tr>\n",
              "      <th>2</th>\n",
              "      <td>Orion</td>\n",
              "      <td>january</td>\n",
              "      <td>85</td>\n",
              "      <td>-75</td>\n",
              "      <td>21:00</td>\n",
              "      <td>northern</td>\n",
              "    </tr>\n",
              "    <tr>\n",
              "      <th>3</th>\n",
              "      <td>Perseus</td>\n",
              "      <td>december</td>\n",
              "      <td>90</td>\n",
              "      <td>-35</td>\n",
              "      <td>21:00</td>\n",
              "      <td>northern</td>\n",
              "    </tr>\n",
              "    <tr>\n",
              "      <th>4</th>\n",
              "      <td>Leo</td>\n",
              "      <td>april</td>\n",
              "      <td>90</td>\n",
              "      <td>65</td>\n",
              "      <td>21:00</td>\n",
              "      <td>northern</td>\n",
              "    </tr>\n",
              "  </tbody>\n",
              "</table>\n",
              "</div>"
            ],
            "text/plain": [
              "  constellation bestmonth  latitudestart  latitudeend besttime hemisphere\n",
              "0          Lyra    august             90          -40    21:00   northern\n",
              "1      Aquarius   october             65          -90    21:00   southern\n",
              "2         Orion   january             85          -75    21:00   northern\n",
              "3       Perseus  december             90          -35    21:00   northern\n",
              "4           Leo     april             90           65    21:00   northern"
            ]
          },
          "metadata": {
            "tags": []
          },
          "execution_count": 9
        }
      ]
    },
    {
      "cell_type": "code",
      "metadata": {
        "tags": [],
        "id": "J4HJltVWrLGS",
        "outputId": "a98d7623-23db-4a54-85c1-296046fc2ef3",
        "colab": {
          "base_uri": "https://localhost:8080/",
          "height": 238
        }
      },
      "source": [
        "constellations.info()"
      ],
      "execution_count": 10,
      "outputs": [
        {
          "output_type": "stream",
          "text": [
            "<class 'pandas.core.frame.DataFrame'>\n",
            "RangeIndex: 6 entries, 0 to 5\n",
            "Data columns (total 6 columns):\n",
            " #   Column         Non-Null Count  Dtype \n",
            "---  ------         --------------  ----- \n",
            " 0   constellation  6 non-null      object\n",
            " 1   bestmonth      6 non-null      object\n",
            " 2   latitudestart  6 non-null      int64 \n",
            " 3   latitudeend    6 non-null      int64 \n",
            " 4   besttime       6 non-null      object\n",
            " 5   hemisphere     6 non-null      object\n",
            "dtypes: int64(2), object(4)\n",
            "memory usage: 416.0+ bytes\n"
          ],
          "name": "stdout"
        }
      ]
    },
    {
      "cell_type": "code",
      "metadata": {
        "id": "ysIclQnNrLGV",
        "outputId": "240092c3-71fa-4890-c98a-943348e53955",
        "colab": {
          "base_uri": "https://localhost:8080/",
          "height": 204
        }
      },
      "source": [
        "cities.head()"
      ],
      "execution_count": 11,
      "outputs": [
        {
          "output_type": "execute_result",
          "data": {
            "text/html": [
              "<div>\n",
              "<style scoped>\n",
              "    .dataframe tbody tr th:only-of-type {\n",
              "        vertical-align: middle;\n",
              "    }\n",
              "\n",
              "    .dataframe tbody tr th {\n",
              "        vertical-align: top;\n",
              "    }\n",
              "\n",
              "    .dataframe thead th {\n",
              "        text-align: right;\n",
              "    }\n",
              "</style>\n",
              "<table border=\"1\" class=\"dataframe\">\n",
              "  <thead>\n",
              "    <tr style=\"text-align: right;\">\n",
              "      <th></th>\n",
              "      <th>city</th>\n",
              "      <th>latitude</th>\n",
              "      <th>country</th>\n",
              "    </tr>\n",
              "  </thead>\n",
              "  <tbody>\n",
              "    <tr>\n",
              "      <th>0</th>\n",
              "      <td>Abu Dhabi</td>\n",
              "      <td>24.47</td>\n",
              "      <td>United Arab Emirates</td>\n",
              "    </tr>\n",
              "    <tr>\n",
              "      <th>1</th>\n",
              "      <td>Abuja</td>\n",
              "      <td>9.07</td>\n",
              "      <td>Nigeria</td>\n",
              "    </tr>\n",
              "    <tr>\n",
              "      <th>2</th>\n",
              "      <td>Accra</td>\n",
              "      <td>5.55</td>\n",
              "      <td>Ghana</td>\n",
              "    </tr>\n",
              "    <tr>\n",
              "      <th>3</th>\n",
              "      <td>Adamstown</td>\n",
              "      <td>-25.07</td>\n",
              "      <td>Pitcairn Islands</td>\n",
              "    </tr>\n",
              "    <tr>\n",
              "      <th>4</th>\n",
              "      <td>Addis Ababa</td>\n",
              "      <td>9.02</td>\n",
              "      <td>Ethiopia</td>\n",
              "    </tr>\n",
              "  </tbody>\n",
              "</table>\n",
              "</div>"
            ],
            "text/plain": [
              "          city  latitude               country\n",
              "0    Abu Dhabi     24.47  United Arab Emirates\n",
              "1        Abuja      9.07               Nigeria\n",
              "2        Accra      5.55                 Ghana\n",
              "3    Adamstown    -25.07      Pitcairn Islands\n",
              "4  Addis Ababa      9.02              Ethiopia"
            ]
          },
          "metadata": {
            "tags": []
          },
          "execution_count": 11
        }
      ]
    },
    {
      "cell_type": "code",
      "metadata": {
        "tags": [],
        "id": "toHEM3XgrLGY",
        "outputId": "9e29a53b-2378-4577-b873-5c7109b201af",
        "colab": {
          "base_uri": "https://localhost:8080/",
          "height": 187
        }
      },
      "source": [
        "cities.info()"
      ],
      "execution_count": 12,
      "outputs": [
        {
          "output_type": "stream",
          "text": [
            "<class 'pandas.core.frame.DataFrame'>\n",
            "RangeIndex: 256 entries, 0 to 255\n",
            "Data columns (total 3 columns):\n",
            " #   Column    Non-Null Count  Dtype  \n",
            "---  ------    --------------  -----  \n",
            " 0   city      256 non-null    object \n",
            " 1   latitude  256 non-null    float64\n",
            " 2   country   256 non-null    object \n",
            "dtypes: float64(1), object(2)\n",
            "memory usage: 6.1+ KB\n"
          ],
          "name": "stdout"
        }
      ]
    },
    {
      "cell_type": "code",
      "metadata": {
        "id": "_xaXvbQCrLGb"
      },
      "source": [
        "months = {'january':1, 'february':2, 'march':3, 'april':4, 'may':5, 'june':6, 'july':7, 'august':8, 'september':9, 'october':10, 'november':11, 'december':12}\n",
        "meteor_showers.bestmonth = meteor_showers.bestmonth.map(months)\n",
        "meteor_showers.startmonth = meteor_showers.startmonth.map(months)\n",
        "meteor_showers.endmonth = meteor_showers.endmonth.map(months)\n",
        "moon_phases.month = moon_phases.month.map(months)\n",
        "constellations.bestmonth = constellations.bestmonth.map(months)"
      ],
      "execution_count": 13,
      "outputs": []
    },
    {
      "cell_type": "code",
      "metadata": {
        "id": "r2f2m7P6rLGe",
        "outputId": "408993d9-078e-4fa8-f249-3ed2ddcb7bcd",
        "colab": {
          "base_uri": "https://localhost:8080/",
          "height": 204
        }
      },
      "source": [
        "meteor_showers.head()"
      ],
      "execution_count": 14,
      "outputs": [
        {
          "output_type": "execute_result",
          "data": {
            "text/html": [
              "<div>\n",
              "<style scoped>\n",
              "    .dataframe tbody tr th:only-of-type {\n",
              "        vertical-align: middle;\n",
              "    }\n",
              "\n",
              "    .dataframe tbody tr th {\n",
              "        vertical-align: top;\n",
              "    }\n",
              "\n",
              "    .dataframe thead th {\n",
              "        text-align: right;\n",
              "    }\n",
              "</style>\n",
              "<table border=\"1\" class=\"dataframe\">\n",
              "  <thead>\n",
              "    <tr style=\"text-align: right;\">\n",
              "      <th></th>\n",
              "      <th>name</th>\n",
              "      <th>radiant</th>\n",
              "      <th>bestmonth</th>\n",
              "      <th>startmonth</th>\n",
              "      <th>startday</th>\n",
              "      <th>endmonth</th>\n",
              "      <th>endday</th>\n",
              "      <th>hemisphere</th>\n",
              "      <th>preferredhemisphere</th>\n",
              "    </tr>\n",
              "  </thead>\n",
              "  <tbody>\n",
              "    <tr>\n",
              "      <th>0</th>\n",
              "      <td>Lyrids</td>\n",
              "      <td>Lyra</td>\n",
              "      <td>4</td>\n",
              "      <td>4</td>\n",
              "      <td>21</td>\n",
              "      <td>4</td>\n",
              "      <td>22</td>\n",
              "      <td>northern</td>\n",
              "      <td>northern</td>\n",
              "    </tr>\n",
              "    <tr>\n",
              "      <th>1</th>\n",
              "      <td>Eta Aquarids</td>\n",
              "      <td>Aquarius</td>\n",
              "      <td>5</td>\n",
              "      <td>4</td>\n",
              "      <td>19</td>\n",
              "      <td>5</td>\n",
              "      <td>28</td>\n",
              "      <td>northern, southern</td>\n",
              "      <td>southern</td>\n",
              "    </tr>\n",
              "    <tr>\n",
              "      <th>2</th>\n",
              "      <td>Orionids</td>\n",
              "      <td>Orion</td>\n",
              "      <td>10</td>\n",
              "      <td>10</td>\n",
              "      <td>2</td>\n",
              "      <td>11</td>\n",
              "      <td>7</td>\n",
              "      <td>northern, southern</td>\n",
              "      <td>northern, southern</td>\n",
              "    </tr>\n",
              "    <tr>\n",
              "      <th>3</th>\n",
              "      <td>Perseids</td>\n",
              "      <td>Perseus</td>\n",
              "      <td>8</td>\n",
              "      <td>7</td>\n",
              "      <td>14</td>\n",
              "      <td>8</td>\n",
              "      <td>24</td>\n",
              "      <td>northern</td>\n",
              "      <td>northern</td>\n",
              "    </tr>\n",
              "    <tr>\n",
              "      <th>4</th>\n",
              "      <td>Leonids</td>\n",
              "      <td>Leo</td>\n",
              "      <td>11</td>\n",
              "      <td>11</td>\n",
              "      <td>6</td>\n",
              "      <td>11</td>\n",
              "      <td>30</td>\n",
              "      <td>northern, southern</td>\n",
              "      <td>northern, southern</td>\n",
              "    </tr>\n",
              "  </tbody>\n",
              "</table>\n",
              "</div>"
            ],
            "text/plain": [
              "           name   radiant  ...          hemisphere  preferredhemisphere\n",
              "0        Lyrids      Lyra  ...            northern             northern\n",
              "1  Eta Aquarids  Aquarius  ...  northern, southern             southern\n",
              "2      Orionids     Orion  ...  northern, southern   northern, southern\n",
              "3      Perseids   Perseus  ...            northern             northern\n",
              "4       Leonids       Leo  ...  northern, southern   northern, southern\n",
              "\n",
              "[5 rows x 9 columns]"
            ]
          },
          "metadata": {
            "tags": []
          },
          "execution_count": 14
        }
      ]
    },
    {
      "cell_type": "code",
      "metadata": {
        "tags": [],
        "id": "VZkh-l9hrLGh",
        "outputId": "f541e389-4183-47f5-9d5e-43210879b714",
        "colab": {
          "base_uri": "https://localhost:8080/",
          "height": 289
        }
      },
      "source": [
        "meteor_showers.info()"
      ],
      "execution_count": 15,
      "outputs": [
        {
          "output_type": "stream",
          "text": [
            "<class 'pandas.core.frame.DataFrame'>\n",
            "RangeIndex: 6 entries, 0 to 5\n",
            "Data columns (total 9 columns):\n",
            " #   Column               Non-Null Count  Dtype \n",
            "---  ------               --------------  ----- \n",
            " 0   name                 6 non-null      object\n",
            " 1   radiant              6 non-null      object\n",
            " 2   bestmonth            6 non-null      int64 \n",
            " 3   startmonth           6 non-null      int64 \n",
            " 4   startday             6 non-null      int64 \n",
            " 5   endmonth             6 non-null      int64 \n",
            " 6   endday               6 non-null      int64 \n",
            " 7   hemisphere           6 non-null      object\n",
            " 8   preferredhemisphere  6 non-null      object\n",
            "dtypes: int64(5), object(4)\n",
            "memory usage: 560.0+ bytes\n"
          ],
          "name": "stdout"
        }
      ]
    },
    {
      "cell_type": "code",
      "metadata": {
        "id": "VUPC5hV0rLGk"
      },
      "source": [
        "meteor_showers['startdate'] = pd.to_datetime(2020*10000+meteor_showers.startmonth*100+meteor_showers.startday,format='%Y%m%d')\n",
        "meteor_showers['enddate'] = pd.to_datetime(2020*10000+meteor_showers.endmonth*100+meteor_showers.endday,format='%Y%m%d')"
      ],
      "execution_count": 16,
      "outputs": []
    },
    {
      "cell_type": "code",
      "metadata": {
        "id": "a1H5H33hrLGn"
      },
      "source": [
        "moon_phases['date'] = pd.to_datetime(2020*10000+moon_phases.month*100+moon_phases.day,format='%Y%m%d')"
      ],
      "execution_count": 17,
      "outputs": []
    },
    {
      "cell_type": "code",
      "metadata": {
        "id": "56qd98XJrLGq"
      },
      "source": [
        "hemispheres = {'northern':0, 'southern':1, 'northern, southern':3}\n",
        "meteor_showers.hemisphere = meteor_showers.hemisphere.map(hemispheres)\n",
        "constellations.hemisphere = constellations.hemisphere.map(hemispheres)"
      ],
      "execution_count": 18,
      "outputs": []
    },
    {
      "cell_type": "code",
      "metadata": {
        "id": "NDvVZU5OrLGu",
        "outputId": "34c84986-94b4-42b8-a6f2-5eb87800d678",
        "colab": {
          "base_uri": "https://localhost:8080/",
          "height": 204
        }
      },
      "source": [
        "phases = {'new moon':0,'third quarter':0.5, 'first quarter':0.5,'full moon':1.0}\n",
        "moon_phases['percentage'] = moon_phases.moonphase.map(phases)\n",
        "moon_phases.head()"
      ],
      "execution_count": 19,
      "outputs": [
        {
          "output_type": "execute_result",
          "data": {
            "text/html": [
              "<div>\n",
              "<style scoped>\n",
              "    .dataframe tbody tr th:only-of-type {\n",
              "        vertical-align: middle;\n",
              "    }\n",
              "\n",
              "    .dataframe tbody tr th {\n",
              "        vertical-align: top;\n",
              "    }\n",
              "\n",
              "    .dataframe thead th {\n",
              "        text-align: right;\n",
              "    }\n",
              "</style>\n",
              "<table border=\"1\" class=\"dataframe\">\n",
              "  <thead>\n",
              "    <tr style=\"text-align: right;\">\n",
              "      <th></th>\n",
              "      <th>month</th>\n",
              "      <th>day</th>\n",
              "      <th>moonphase</th>\n",
              "      <th>specialevent</th>\n",
              "      <th>date</th>\n",
              "      <th>percentage</th>\n",
              "    </tr>\n",
              "  </thead>\n",
              "  <tbody>\n",
              "    <tr>\n",
              "      <th>0</th>\n",
              "      <td>1</td>\n",
              "      <td>1</td>\n",
              "      <td>NaN</td>\n",
              "      <td>NaN</td>\n",
              "      <td>2020-01-01</td>\n",
              "      <td>NaN</td>\n",
              "    </tr>\n",
              "    <tr>\n",
              "      <th>1</th>\n",
              "      <td>1</td>\n",
              "      <td>2</td>\n",
              "      <td>first quarter</td>\n",
              "      <td>NaN</td>\n",
              "      <td>2020-01-02</td>\n",
              "      <td>0.5</td>\n",
              "    </tr>\n",
              "    <tr>\n",
              "      <th>2</th>\n",
              "      <td>1</td>\n",
              "      <td>3</td>\n",
              "      <td>NaN</td>\n",
              "      <td>NaN</td>\n",
              "      <td>2020-01-03</td>\n",
              "      <td>NaN</td>\n",
              "    </tr>\n",
              "    <tr>\n",
              "      <th>3</th>\n",
              "      <td>1</td>\n",
              "      <td>4</td>\n",
              "      <td>NaN</td>\n",
              "      <td>NaN</td>\n",
              "      <td>2020-01-04</td>\n",
              "      <td>NaN</td>\n",
              "    </tr>\n",
              "    <tr>\n",
              "      <th>4</th>\n",
              "      <td>1</td>\n",
              "      <td>5</td>\n",
              "      <td>NaN</td>\n",
              "      <td>NaN</td>\n",
              "      <td>2020-01-05</td>\n",
              "      <td>NaN</td>\n",
              "    </tr>\n",
              "  </tbody>\n",
              "</table>\n",
              "</div>"
            ],
            "text/plain": [
              "   month  day      moonphase specialevent       date  percentage\n",
              "0      1    1            NaN          NaN 2020-01-01         NaN\n",
              "1      1    2  first quarter          NaN 2020-01-02         0.5\n",
              "2      1    3            NaN          NaN 2020-01-03         NaN\n",
              "3      1    4            NaN          NaN 2020-01-04         NaN\n",
              "4      1    5            NaN          NaN 2020-01-05         NaN"
            ]
          },
          "metadata": {
            "tags": []
          },
          "execution_count": 19
        }
      ]
    },
    {
      "cell_type": "code",
      "metadata": {
        "tags": [],
        "id": "xgt5e5LErLGx"
      },
      "source": [
        "meteor_showers = meteor_showers.drop(['startmonth', 'startday', 'endmonth', 'endday', 'hemisphere'], axis=1)\n",
        "moon_phases = moon_phases.drop(['month','day','moonphase','specialevent'], axis=1)\n",
        "constellations = constellations.drop(['besttime'], axis=1)"
      ],
      "execution_count": 20,
      "outputs": []
    },
    {
      "cell_type": "code",
      "metadata": {
        "tags": [],
        "id": "MbQksfP6rLG0",
        "outputId": "a8af5a7a-7638-4d3f-b83f-3ffcb2dd6ed2",
        "colab": {
          "base_uri": "https://localhost:8080/",
          "height": 170
        }
      },
      "source": [
        "lastPhase = 0\n",
        "\n",
        "for index, row in moon_phases.iterrows():\n",
        "    if pd.isnull(row['percentage']):\n",
        "        moon_phases.at[index,'percentage'] = lastPhase\n",
        "    else:\n",
        "        lastPhase = row['percentage']\n",
        "        \n",
        "moon_phases.info()"
      ],
      "execution_count": 21,
      "outputs": [
        {
          "output_type": "stream",
          "text": [
            "<class 'pandas.core.frame.DataFrame'>\n",
            "RangeIndex: 366 entries, 0 to 365\n",
            "Data columns (total 2 columns):\n",
            " #   Column      Non-Null Count  Dtype         \n",
            "---  ------      --------------  -----         \n",
            " 0   date        366 non-null    datetime64[ns]\n",
            " 1   percentage  366 non-null    float64       \n",
            "dtypes: datetime64[ns](1), float64(1)\n",
            "memory usage: 5.8 KB\n"
          ],
          "name": "stdout"
        }
      ]
    },
    {
      "cell_type": "code",
      "metadata": {
        "tags": [],
        "id": "odljs90NrLG5",
        "outputId": "7a898482-e6bb-464f-a7bd-87d4b7b306da",
        "colab": {
          "base_uri": "https://localhost:8080/",
          "height": 238
        }
      },
      "source": [
        "meteor_showers.info()"
      ],
      "execution_count": 22,
      "outputs": [
        {
          "output_type": "stream",
          "text": [
            "<class 'pandas.core.frame.DataFrame'>\n",
            "RangeIndex: 6 entries, 0 to 5\n",
            "Data columns (total 6 columns):\n",
            " #   Column               Non-Null Count  Dtype         \n",
            "---  ------               --------------  -----         \n",
            " 0   name                 6 non-null      object        \n",
            " 1   radiant              6 non-null      object        \n",
            " 2   bestmonth            6 non-null      int64         \n",
            " 3   preferredhemisphere  6 non-null      object        \n",
            " 4   startdate            6 non-null      datetime64[ns]\n",
            " 5   enddate              6 non-null      datetime64[ns]\n",
            "dtypes: datetime64[ns](2), int64(1), object(3)\n",
            "memory usage: 416.0+ bytes\n"
          ],
          "name": "stdout"
        }
      ]
    },
    {
      "cell_type": "code",
      "metadata": {
        "tags": [],
        "id": "rK6ohu0xrLG9",
        "outputId": "2261c208-01ab-4c1c-bd67-65eedf7a8d6f",
        "colab": {
          "base_uri": "https://localhost:8080/",
          "height": 170
        }
      },
      "source": [
        "moon_phases.info()"
      ],
      "execution_count": 23,
      "outputs": [
        {
          "output_type": "stream",
          "text": [
            "<class 'pandas.core.frame.DataFrame'>\n",
            "RangeIndex: 366 entries, 0 to 365\n",
            "Data columns (total 2 columns):\n",
            " #   Column      Non-Null Count  Dtype         \n",
            "---  ------      --------------  -----         \n",
            " 0   date        366 non-null    datetime64[ns]\n",
            " 1   percentage  366 non-null    float64       \n",
            "dtypes: datetime64[ns](1), float64(1)\n",
            "memory usage: 5.8 KB\n"
          ],
          "name": "stdout"
        }
      ]
    },
    {
      "cell_type": "code",
      "metadata": {
        "tags": [],
        "id": "ah25QjTRrLHD",
        "outputId": "315b7694-957e-4cba-8369-26a05020c8de",
        "colab": {
          "base_uri": "https://localhost:8080/",
          "height": 187
        }
      },
      "source": [
        "cities.info()"
      ],
      "execution_count": 24,
      "outputs": [
        {
          "output_type": "stream",
          "text": [
            "<class 'pandas.core.frame.DataFrame'>\n",
            "RangeIndex: 256 entries, 0 to 255\n",
            "Data columns (total 3 columns):\n",
            " #   Column    Non-Null Count  Dtype  \n",
            "---  ------    --------------  -----  \n",
            " 0   city      256 non-null    object \n",
            " 1   latitude  256 non-null    float64\n",
            " 2   country   256 non-null    object \n",
            "dtypes: float64(1), object(2)\n",
            "memory usage: 6.1+ KB\n"
          ],
          "name": "stdout"
        }
      ]
    },
    {
      "cell_type": "code",
      "metadata": {
        "tags": [],
        "id": "L8B0NhcRrLHM",
        "outputId": "b0c28ed3-fc04-4f75-9c90-160ce49a770b",
        "colab": {
          "base_uri": "https://localhost:8080/",
          "height": 221
        }
      },
      "source": [
        "constellations.info()"
      ],
      "execution_count": 25,
      "outputs": [
        {
          "output_type": "stream",
          "text": [
            "<class 'pandas.core.frame.DataFrame'>\n",
            "RangeIndex: 6 entries, 0 to 5\n",
            "Data columns (total 5 columns):\n",
            " #   Column         Non-Null Count  Dtype \n",
            "---  ------         --------------  ----- \n",
            " 0   constellation  6 non-null      object\n",
            " 1   bestmonth      6 non-null      int64 \n",
            " 2   latitudestart  6 non-null      int64 \n",
            " 3   latitudeend    6 non-null      int64 \n",
            " 4   hemisphere     6 non-null      int64 \n",
            "dtypes: int64(4), object(1)\n",
            "memory usage: 368.0+ bytes\n"
          ],
          "name": "stdout"
        }
      ]
    },
    {
      "cell_type": "code",
      "metadata": {
        "tags": [],
        "id": "tgxASALcrLHQ",
        "outputId": "f9be1ef5-c7c9-4fb0-8d64-95456b1d5206",
        "colab": {
          "base_uri": "https://localhost:8080/",
          "height": 34
        }
      },
      "source": [
        "if 'San Diego' in cities.values:\n",
        "    print('here')\n",
        "else:\n",
        "    print('not here')"
      ],
      "execution_count": 26,
      "outputs": [
        {
          "output_type": "stream",
          "text": [
            "not here\n"
          ],
          "name": "stdout"
        }
      ]
    },
    {
      "cell_type": "code",
      "metadata": {
        "id": "VgyBgdibrLHT"
      },
      "source": [
        "def predict_best_meteor_shower_viewing(city):\n",
        "    # Create an empty string to return the message back to the user\n",
        "    meteor_shower_string = \"\"\n",
        "\n",
        "    if city not in cities.values:\n",
        "        meteor_shower_string = \"Unfortunately, \" + city + \" isn't available for a prediction at this time.\"\n",
        "        return meteor_shower_string\n",
        "\n",
        "    # Get the latitude of the city from the cities dataframe\n",
        "    latitude = cities.loc[cities['city'] == city, 'latitude'].iloc[0]\n",
        "\n",
        "    # Get the list of constellations that are viewable from that latitude\n",
        "    constellation_list = constellations.loc[(constellations['latitudestart'] >= latitude) & (constellations['latitudeend'] <= latitude), 'constellation'].tolist()\n",
        "\n",
        "    # If no constrllations are viewable, let the user know\n",
        "    if not constellation_list:\n",
        "        meteor_shower_string = \"Unfortunately, there are no meteor showers viewable from \"+ city + \".\"\n",
        "\n",
        "        return meteor_shower_string\n",
        "\n",
        "    meteor_shower_string = \"In \" + city + \" you can see the following meteor showers:\\n\"\n",
        "    \n",
        "    # Iterate through each constellation that is viewable from the city\n",
        "    for constellation in constellation_list:\n",
        "        # Find the meteor shower that is nearest that constellation\n",
        "        meteor_shower = meteor_showers.loc[meteor_showers['radiant'] == constellation, 'name'].iloc[0]\n",
        "\n",
        "        # Find the start and end dates for that meteor shower\n",
        "        meteor_shower_startdate = meteor_showers.loc[meteor_showers['radiant'] == constellation, 'startdate'].iloc[0]\n",
        "        meteor_shower_enddate = meteor_showers.loc[meteor_showers['radiant'] == constellation, 'enddate'].iloc[0]\n",
        "\n",
        "        # Find the moon phases for each date within the viewable timeframe of that meteor shower\n",
        "        moon_phases_list = moon_phases.loc[(moon_phases['date'] >= meteor_shower_startdate) & (moon_phases['date'] <= meteor_shower_enddate)]\n",
        "\n",
        "        if meteor_shower == 'Chang\\'e':\n",
        "            # For the film meteor shower, find the date where the moon is the most visible\n",
        "            best_moon_date = moon_phases_list.loc[moon_phases_list['percentage'].idxmax()]['date']\n",
        "\n",
        "            # Add that date to the string to report back to the user\n",
        "            meteor_shower_string += \"Though the moon will be bright, the \" + meteor_shower + \" is best seen if you look towards the \" + constellation + \" constellation on \" +  best_moon_date.to_pydatetime().strftime(\"%B %d, %Y\") + \".\\n\"\n",
        "        else:\n",
        "            # Find the first date where the moon is the least visible\n",
        "            best_moon_date = moon_phases_list.loc[moon_phases_list['percentage'].idxmin()]['date']\n",
        "\n",
        "            # Add that date to the string to report back to the user\n",
        "            meteor_shower_string += meteor_shower + \" is best seen if you look towards the \" + constellation + \" constellation on \" +  best_moon_date.to_pydatetime().strftime(\"%B %d, %Y\") + \".\\n\"\n",
        "    \n",
        "    return meteor_shower_string"
      ],
      "execution_count": 27,
      "outputs": []
    },
    {
      "cell_type": "code",
      "metadata": {
        "tags": [],
        "id": "hdfbNO5UrLHY",
        "outputId": "5205e5fb-0b15-4375-c802-87ed21ba0186",
        "colab": {
          "base_uri": "https://localhost:8080/",
          "height": 136
        }
      },
      "source": [
        "print(predict_best_meteor_shower_viewing('Beijing'))"
      ],
      "execution_count": 28,
      "outputs": [
        {
          "output_type": "stream",
          "text": [
            "In Beijing you can see the following meteor showers:\n",
            "Lyrids is best seen if you look towards the Lyra constellation on April 22, 2020.\n",
            "Eta Aquarids is best seen if you look towards the Aquarius constellation on April 22, 2020.\n",
            "Orionids is best seen if you look towards the Orion constellation on October 16, 2020.\n",
            "Perseids is best seen if you look towards the Perseus constellation on July 20, 2020.\n",
            "Though the moon will be bright, the Chang'e is best seen if you look towards the Draco constellation on October 01, 2020.\n",
            "\n"
          ],
          "name": "stdout"
        }
      ]
    },
    {
      "cell_type": "code",
      "metadata": {
        "id": "1je26C9zrLHb"
      },
      "source": [
        ""
      ],
      "execution_count": 28,
      "outputs": []
    }
  ]
}