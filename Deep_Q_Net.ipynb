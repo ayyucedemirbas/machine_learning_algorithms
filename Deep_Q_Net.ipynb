{
 "cells": [
  {
   "cell_type": "code",
   "execution_count": 1,
   "id": "084e3fca",
   "metadata": {},
   "outputs": [
    {
     "name": "stderr",
     "output_type": "stream",
     "text": [
      "2021-08-31 03:30:43.269543: W tensorflow/stream_executor/platform/default/dso_loader.cc:64] Could not load dynamic library 'libcudart.so.11.0'; dlerror: libcudart.so.11.0: cannot open shared object file: No such file or directory; LD_LIBRARY_PATH: /usr/lib/cuda/include:/usr/lib/cuda/lib64:\n",
      "2021-08-31 03:30:43.269655: I tensorflow/stream_executor/cuda/cudart_stub.cc:29] Ignore above cudart dlerror if you do not have a GPU set up on your machine.\n"
     ]
    }
   ],
   "source": [
    "from __future__ import absolute_import, division, print_function\n",
    "\n",
    "import base64\n",
    "import imageio\n",
    "import IPython\n",
    "import matplotlib\n",
    "import matplotlib.pyplot as plt\n",
    "import numpy as np\n",
    "import PIL.Image\n",
    "import pyvirtualdisplay\n",
    "\n",
    "import tensorflow as tf\n",
    "\n",
    "from tf_agents.agents.dqn import dqn_agent\n",
    "from tf_agents.environments import suite_gym\n",
    "from tf_agents.environments import tf_py_environment\n",
    "from tf_agents.eval import metric_utils\n",
    "from tf_agents.metrics import tf_metrics\n",
    "from tf_agents.networks import sequential\n",
    "from tf_agents.policies import random_tf_policy\n",
    "from tf_agents.replay_buffers import tf_uniform_replay_buffer\n",
    "from tf_agents.trajectories import trajectory\n",
    "from tf_agents.specs import tensor_spec\n",
    "from tf_agents.utils import common"
   ]
  },
  {
   "cell_type": "code",
   "execution_count": 2,
   "id": "5848ef82",
   "metadata": {},
   "outputs": [],
   "source": [
    "display = pyvirtualdisplay.Display(visible=0, size=(1400, 900)).start()"
   ]
  },
  {
   "cell_type": "code",
   "execution_count": 3,
   "id": "e4da0110",
   "metadata": {},
   "outputs": [],
   "source": [
    "num_iterations = 20000 # @param {type:\"integer\"}\n",
    "\n",
    "initial_collect_steps = 100  # @param {type:\"integer\"} \n",
    "collect_steps_per_iteration = 1  # @param {type:\"integer\"}\n",
    "replay_buffer_max_length = 100000  # @param {type:\"integer\"}\n",
    "\n",
    "batch_size = 64  # @param {type:\"integer\"}\n",
    "learning_rate = 1e-3  # @param {type:\"number\"}\n",
    "log_interval = 200  # @param {type:\"integer\"}\n",
    "\n",
    "num_eval_episodes = 10  # @param {type:\"integer\"}\n",
    "eval_interval = 1000  # @param {type:\"integer\"}"
   ]
  },
  {
   "cell_type": "code",
   "execution_count": 4,
   "id": "15a18ad4",
   "metadata": {},
   "outputs": [],
   "source": [
    "env_name = 'CartPole-v0'\n",
    "env = suite_gym.load(env_name)"
   ]
  },
  {
   "cell_type": "code",
   "execution_count": 6,
   "id": "d4ff296e",
   "metadata": {},
   "outputs": [
    {
     "data": {
      "image/png": "[encoded data removed]",
      "text/plain": [
       "<PIL.Image.Image image mode=RGB size=600x400 at 0x7F737D2CB610>"
      ]
     },
     "execution_count": 6,
     "metadata": {},
     "output_type": "execute_result"
    }
   ],
   "source": [
    "env.reset()\n",
    "PIL.Image.fromarray(env.render())"
   ]
  },
  {
   "cell_type": "code",
   "execution_count": 7,
   "id": "9367c9e2",
   "metadata": {},
   "outputs": [
    {
     "name": "stdout",
     "output_type": "stream",
     "text": [
      "Observation Spec:\n",
      "BoundedArraySpec(shape=(4,), dtype=dtype('float32'), name='observation', minimum=[-4.8000002e+00 -3.4028235e+38 -4.1887903e-01 -3.4028235e+38], maximum=[4.8000002e+00 3.4028235e+38 4.1887903e-01 3.4028235e+38])\n"
     ]
    }
   ],
   "source": [
    "print('Observation Spec:')\n",
    "print(env.time_step_spec().observation)"
   ]
  },
  {
   "cell_type": "code",
   "execution_count": 8,
   "id": "2772f4ef",
   "metadata": {},
   "outputs": [
    {
     "name": "stdout",
     "output_type": "stream",
     "text": [
      "Reward Spec:\n",
      "ArraySpec(shape=(), dtype=dtype('float32'), name='reward')\n"
     ]
    }
   ],
   "source": [
    "print('Reward Spec:')\n",
    "print(env.time_step_spec().reward)"
   ]
  },
  {
   "cell_type": "code",
   "execution_count": 9,
   "id": "7f5339f7",
   "metadata": {},
   "outputs": [
    {
     "name": "stdout",
     "output_type": "stream",
     "text": [
      "Action Spec:\n",
      "BoundedArraySpec(shape=(), dtype=dtype('int64'), name='action', minimum=0, maximum=1)\n"
     ]
    }
   ],
   "source": [
    "print('Action Spec:')\n",
    "print(env.action_spec())"
   ]
  },
  {
   "cell_type": "code",
   "execution_count": 10,
   "id": "fc02e593",
   "metadata": {},
   "outputs": [
    {
     "name": "stdout",
     "output_type": "stream",
     "text": [
      "Time step:\n",
      "TimeStep(\n",
      "{'discount': array(1., dtype=float32),\n",
      " 'observation': array([ 0.0139263 , -0.00270087,  0.03296807, -0.02890293], dtype=float32),\n",
      " 'reward': array(0., dtype=float32),\n",
      " 'step_type': array(0, dtype=int32)})\n",
      "Next time step:\n",
      "TimeStep(\n",
      "{'discount': array(1., dtype=float32),\n",
      " 'observation': array([ 0.01387228,  0.19193316,  0.03239002, -0.3110045 ], dtype=float32),\n",
      " 'reward': array(1., dtype=float32),\n",
      " 'step_type': array(1, dtype=int32)})\n"
     ]
    }
   ],
   "source": [
    "time_step = env.reset()\n",
    "print('Time step:')\n",
    "print(time_step)\n",
    "\n",
    "action = np.array(1, dtype=np.int32)\n",
    "\n",
    "next_time_step = env.step(action)\n",
    "print('Next time step:')\n",
    "print(next_time_step)"
   ]
  },
  {
   "cell_type": "code",
   "execution_count": 11,
   "id": "d0a074d1",
   "metadata": {},
   "outputs": [],
   "source": [
    "train_py_env = suite_gym.load(env_name)\n",
    "eval_py_env = suite_gym.load(env_name)"
   ]
  },
  {
   "cell_type": "code",
   "execution_count": 12,
   "id": "e5ed6d8e",
   "metadata": {},
   "outputs": [],
   "source": [
    "train_env = tf_py_environment.TFPyEnvironment(train_py_env)\n",
    "eval_env = tf_py_environment.TFPyEnvironment(eval_py_env)"
   ]
  },
  {
   "cell_type": "code",
   "execution_count": 13,
   "id": "0f839c23",
   "metadata": {},
   "outputs": [],
   "source": [
    "fc_layer_params = (100, 50)\n",
    "action_tensor_spec = tensor_spec.from_spec(env.action_spec())\n",
    "num_actions = action_tensor_spec.maximum - action_tensor_spec.minimum + 1\n",
    "\n",
    "# Define a helper function to create Dense layers configured with the right\n",
    "# activation and kernel initializer.\n",
    "def dense_layer(num_units):\n",
    "  return tf.keras.layers.Dense(\n",
    "      num_units,\n",
    "      activation=tf.keras.activations.relu,\n",
    "      kernel_initializer=tf.keras.initializers.VarianceScaling(\n",
    "          scale=2.0, mode='fan_in', distribution='truncated_normal'))\n",
    "\n",
    "# QNetwork consists of a sequence of Dense layers followed by a dense layer\n",
    "# with `num_actions` units to generate one q_value per available action as\n",
    "# it's output.\n",
    "dense_layers = [dense_layer(num_units) for num_units in fc_layer_params]\n",
    "q_values_layer = tf.keras.layers.Dense(\n",
    "    num_actions,\n",
    "    activation=None,\n",
    "    kernel_initializer=tf.keras.initializers.RandomUniform(\n",
    "        minval=-0.03, maxval=0.03),\n",
    "    bias_initializer=tf.keras.initializers.Constant(-0.2))\n",
    "q_net = sequential.Sequential(dense_layers + [q_values_layer])"
   ]
  },
  {
   "cell_type": "code",
   "execution_count": 14,
   "id": "e35e361d",
   "metadata": {},
   "outputs": [
    {
     "name": "stderr",
     "output_type": "stream",
     "text": [
      "2021-08-31 03:34:08.142003: I tensorflow/stream_executor/cuda/cuda_gpu_executor.cc:937] successful NUMA node read from SysFS had negative value (-1), but there must be at least one NUMA node, so returning NUMA node zero\n",
      "2021-08-31 03:34:08.143208: W tensorflow/stream_executor/platform/default/dso_loader.cc:64] Could not load dynamic library 'libcudart.so.11.0'; dlerror: libcudart.so.11.0: cannot open shared object file: No such file or directory; LD_LIBRARY_PATH: /usr/lib/cuda/include:/usr/lib/cuda/lib64:\n",
      "2021-08-31 03:34:08.143574: W tensorflow/stream_executor/platform/default/dso_loader.cc:64] Could not load dynamic library 'libcublas.so.11'; dlerror: libcublas.so.11: cannot open shared object file: No such file or directory; LD_LIBRARY_PATH: /usr/lib/cuda/include:/usr/lib/cuda/lib64:\n",
      "2021-08-31 03:34:08.143887: W tensorflow/stream_executor/platform/default/dso_loader.cc:64] Could not load dynamic library 'libcublasLt.so.11'; dlerror: libcublasLt.so.11: cannot open shared object file: No such file or directory; LD_LIBRARY_PATH: /usr/lib/cuda/include:/usr/lib/cuda/lib64:\n",
      "2021-08-31 03:34:08.189602: W tensorflow/stream_executor/platform/default/dso_loader.cc:64] Could not load dynamic library 'libcusolver.so.11'; dlerror: libcusolver.so.11: cannot open shared object file: No such file or directory; LD_LIBRARY_PATH: /usr/lib/cuda/include:/usr/lib/cuda/lib64:\n",
      "2021-08-31 03:34:08.189969: W tensorflow/stream_executor/platform/default/dso_loader.cc:64] Could not load dynamic library 'libcusparse.so.11'; dlerror: libcusparse.so.11: cannot open shared object file: No such file or directory; LD_LIBRARY_PATH: /usr/lib/cuda/include:/usr/lib/cuda/lib64:\n",
      "2021-08-31 03:34:08.191737: W tensorflow/core/common_runtime/gpu/gpu_device.cc:1835] Cannot dlopen some GPU libraries. Please make sure the missing libraries mentioned above are installed properly if you would like to use GPU. Follow the guide at https://www.tensorflow.org/install/gpu for how to download and setup the required libraries for your platform.\n",
      "Skipping registering GPU devices...\n",
      "2021-08-31 03:34:08.192831: I tensorflow/core/platform/cpu_feature_guard.cc:142] This TensorFlow binary is optimized with oneAPI Deep Neural Network Library (oneDNN) to use the following CPU instructions in performance-critical operations:  AVX2 FMA\n",
      "To enable them in other operations, rebuild TensorFlow with the appropriate compiler flags.\n"
     ]
    }
   ],
   "source": [
    "optimizer = tf.keras.optimizers.Adam(learning_rate=learning_rate)\n",
    "\n",
    "train_step_counter = tf.Variable(0)\n",
    "\n",
    "agent = dqn_agent.DqnAgent(\n",
    "    train_env.time_step_spec(),\n",
    "    train_env.action_spec(),\n",
    "    q_network=q_net,\n",
    "    optimizer=optimizer,\n",
    "    td_errors_loss_fn=common.element_wise_squared_loss,\n",
    "    train_step_counter=train_step_counter)\n",
    "\n",
    "agent.initialize()"
   ]
  },
  {
   "cell_type": "code",
   "execution_count": 15,
   "id": "5a5be451",
   "metadata": {},
   "outputs": [],
   "source": [
    "eval_policy = agent.policy\n",
    "collect_policy = agent.collect_policy"
   ]
  },
  {
   "cell_type": "code",
   "execution_count": 16,
   "id": "86bfa893",
   "metadata": {},
   "outputs": [],
   "source": [
    "random_policy = random_tf_policy.RandomTFPolicy(train_env.time_step_spec(),\n",
    "                                                train_env.action_spec())"
   ]
  },
  {
   "cell_type": "code",
   "execution_count": 17,
   "id": "b25fd887",
   "metadata": {},
   "outputs": [],
   "source": [
    "example_environment = tf_py_environment.TFPyEnvironment(\n",
    "    suite_gym.load('CartPole-v0'))"
   ]
  },
  {
   "cell_type": "code",
   "execution_count": 19,
   "id": "fd4e8d3f",
   "metadata": {},
   "outputs": [],
   "source": [
    "time_step = example_environment.reset()"
   ]
  },
  {
   "cell_type": "code",
   "execution_count": 20,
   "id": "0eb9370e",
   "metadata": {},
   "outputs": [
    {
     "data": {
      "text/plain": [
       "PolicyStep(action=<tf.Tensor: shape=(1,), dtype=int64, numpy=array([0])>, state=(), info=())"
      ]
     },
     "execution_count": 20,
     "metadata": {},
     "output_type": "execute_result"
    }
   ],
   "source": [
    "random_policy.action(time_step)"
   ]
  },
  {
   "cell_type": "code",
   "execution_count": 21,
   "id": "83ebcd2f",
   "metadata": {},
   "outputs": [],
   "source": [
    "def compute_avg_return(environment, policy, num_episodes=10):\n",
    "\n",
    "  total_return = 0.0\n",
    "  for _ in range(num_episodes):\n",
    "\n",
    "    time_step = environment.reset()\n",
    "    episode_return = 0.0\n",
    "\n",
    "    while not time_step.is_last():\n",
    "      action_step = policy.action(time_step)\n",
    "      time_step = environment.step(action_step.action)\n",
    "      episode_return += time_step.reward\n",
    "    total_return += episode_return\n",
    "\n",
    "  avg_return = total_return / num_episodes\n",
    "  return avg_return.numpy()[0]\n",
    "\n",
    "\n",
    "# See also the metrics module for standard implementations of different metrics.\n",
    "# https://github.com/tensorflow/agents/tree/master/tf_agents/metrics"
   ]
  },
  {
   "cell_type": "code",
   "execution_count": 22,
   "id": "a2e636a4",
   "metadata": {},
   "outputs": [],
   "source": [
    "replay_buffer = tf_uniform_replay_buffer.TFUniformReplayBuffer(\n",
    "    data_spec=agent.collect_data_spec,\n",
    "    batch_size=train_env.batch_size,\n",
    "    max_length=replay_buffer_max_length)"
   ]
  },
  {
   "cell_type": "code",
   "execution_count": 23,
   "id": "fcf101fc",
   "metadata": {},
   "outputs": [
    {
     "data": {
      "text/plain": [
       "Trajectory(\n",
       "{'action': BoundedTensorSpec(shape=(), dtype=tf.int64, name='action', minimum=array(0), maximum=array(1)),\n",
       " 'discount': BoundedTensorSpec(shape=(), dtype=tf.float32, name='discount', minimum=array(0., dtype=float32), maximum=array(1., dtype=float32)),\n",
       " 'next_step_type': TensorSpec(shape=(), dtype=tf.int32, name='step_type'),\n",
       " 'observation': BoundedTensorSpec(shape=(4,), dtype=tf.float32, name='observation', minimum=array([-4.8000002e+00, -3.4028235e+38, -4.1887903e-01, -3.4028235e+38],\n",
       "      dtype=float32), maximum=array([4.8000002e+00, 3.4028235e+38, 4.1887903e-01, 3.4028235e+38],\n",
       "      dtype=float32)),\n",
       " 'policy_info': (),\n",
       " 'reward': TensorSpec(shape=(), dtype=tf.float32, name='reward'),\n",
       " 'step_type': TensorSpec(shape=(), dtype=tf.int32, name='step_type')})"
      ]
     },
     "execution_count": 23,
     "metadata": {},
     "output_type": "execute_result"
    }
   ],
   "source": [
    "agent.collect_data_spec"
   ]
  },
  {
   "cell_type": "code",
   "execution_count": 24,
   "id": "be18dd65",
   "metadata": {},
   "outputs": [
    {
     "data": {
      "text/plain": [
       "('step_type',\n",
       " 'observation',\n",
       " 'action',\n",
       " 'policy_info',\n",
       " 'next_step_type',\n",
       " 'reward',\n",
       " 'discount')"
      ]
     },
     "execution_count": 24,
     "metadata": {},
     "output_type": "execute_result"
    }
   ],
   "source": [
    "agent.collect_data_spec._fields"
   ]
  },
  {
   "cell_type": "code",
   "execution_count": 25,
   "id": "74102021",
   "metadata": {},
   "outputs": [],
   "source": [
    "def collect_step(environment, policy, buffer):\n",
    "  time_step = environment.current_time_step()\n",
    "  action_step = policy.action(time_step)\n",
    "  next_time_step = environment.step(action_step.action)\n",
    "  traj = trajectory.from_transition(time_step, action_step, next_time_step)\n",
    "\n",
    "  # Add trajectory to the replay buffer\n",
    "  buffer.add_batch(traj)\n",
    "\n",
    "def collect_data(env, policy, buffer, steps):\n",
    "  for _ in range(steps):\n",
    "    collect_step(env, policy, buffer)\n",
    "\n",
    "collect_data(train_env, random_policy, replay_buffer, initial_collect_steps)\n",
    "\n",
    "# This loop is so common in RL, that we provide standard implementations. \n",
    "# For more details see tutorial 4 or the drivers module.\n",
    "# https://github.com/tensorflow/agents/blob/master/docs/tutorials/4_drivers_tutorial.ipynb \n",
    "# https://www.tensorflow.org/agents/api_docs/python/tf_agents/drivers"
   ]
  },
  {
   "cell_type": "code",
   "execution_count": 26,
   "id": "0aed65ea",
   "metadata": {},
   "outputs": [
    {
     "name": "stdout",
     "output_type": "stream",
     "text": [
      "WARNING:tensorflow:From /home/ayyuce/.local/lib/python3.8/site-packages/tensorflow/python/data/experimental/ops/counter.py:66: scan (from tensorflow.python.data.experimental.ops.scan_ops) is deprecated and will be removed in a future version.\n",
      "Instructions for updating:\n",
      "Use `tf.data.Dataset.scan(...) instead\n",
      "WARNING:tensorflow:From /home/ayyuce/.local/lib/python3.8/site-packages/tensorflow/python/autograph/impl/api.py:382: ReplayBuffer.get_next (from tf_agents.replay_buffers.replay_buffer) is deprecated and will be removed in a future version.\n",
      "Instructions for updating:\n",
      "Use `as_dataset(..., single_deterministic_pass=False) instead.\n"
     ]
    },
    {
     "data": {
      "text/plain": [
       "<PrefetchDataset shapes: (Trajectory(\n",
       "{action: (64, 2),\n",
       " discount: (64, 2),\n",
       " next_step_type: (64, 2),\n",
       " observation: (64, 2, 4),\n",
       " policy_info: (),\n",
       " reward: (64, 2),\n",
       " step_type: (64, 2)}), BufferInfo(ids=(64, 2), probabilities=(64,))), types: (Trajectory(\n",
       "{action: tf.int64,\n",
       " discount: tf.float32,\n",
       " next_step_type: tf.int32,\n",
       " observation: tf.float32,\n",
       " policy_info: (),\n",
       " reward: tf.float32,\n",
       " step_type: tf.int32}), BufferInfo(ids=tf.int64, probabilities=tf.float32))>"
      ]
     },
     "execution_count": 26,
     "metadata": {},
     "output_type": "execute_result"
    }
   ],
   "source": [
    "# Dataset generates trajectories with shape [Bx2x...]\n",
    "dataset = replay_buffer.as_dataset(\n",
    "    num_parallel_calls=3, \n",
    "    sample_batch_size=batch_size, \n",
    "    num_steps=2).prefetch(3)\n",
    "\n",
    "\n",
    "dataset"
   ]
  },
  {
   "cell_type": "code",
   "execution_count": 27,
   "id": "1a4f802d",
   "metadata": {},
   "outputs": [
    {
     "name": "stdout",
     "output_type": "stream",
     "text": [
      "<tensorflow.python.data.ops.iterator_ops.OwnedIterator object at 0x7f73207f3370>\n"
     ]
    },
    {
     "name": "stderr",
     "output_type": "stream",
     "text": [
      "2021-08-31 03:37:13.834960: I tensorflow/compiler/mlir/mlir_graph_optimization_pass.cc:185] None of the MLIR Optimization Passes are enabled (registered 2)\n"
     ]
    }
   ],
   "source": [
    "iterator = iter(dataset)\n",
    "print(iterator)"
   ]
  },
  {
   "cell_type": "code",
   "execution_count": 28,
   "id": "1822b3e9",
   "metadata": {},
   "outputs": [
    {
     "name": "stdout",
     "output_type": "stream",
     "text": [
      "WARNING:tensorflow:From /home/ayyuce/.local/lib/python3.8/site-packages/tensorflow/python/util/dispatch.py:206: calling foldr_v2 (from tensorflow.python.ops.functional_ops) with back_prop=False is deprecated and will be removed in a future version.\n",
      "Instructions for updating:\n",
      "back_prop=False is deprecated. Consider using tf.stop_gradient instead.\n",
      "Instead of:\n",
      "results = tf.foldr(fn, elems, back_prop=False)\n",
      "Use:\n",
      "results = tf.nest.map_structure(tf.stop_gradient, tf.foldr(fn, elems))\n",
      "step = 200: loss = 20.73406982421875\n",
      "step = 400: loss = 7.9990997314453125\n",
      "step = 600: loss = 368.690185546875\n",
      "step = 800: loss = 60.73365783691406\n",
      "step = 1000: loss = 100.31195068359375\n",
      "step = 1000: Average Return = 68.4000015258789\n",
      "step = 1200: loss = 11.85395336151123\n",
      "step = 1400: loss = 24.37514877319336\n",
      "step = 1600: loss = 35.16193389892578\n",
      "step = 1800: loss = 384.9129943847656\n",
      "step = 2000: loss = 116.48696899414062\n",
      "step = 2000: Average Return = 199.5\n",
      "step = 2200: loss = 1359.47119140625\n",
      "step = 2400: loss = 56.60690689086914\n",
      "step = 2600: loss = 28.10801887512207\n",
      "step = 2800: loss = 212.5042266845703\n",
      "step = 3000: loss = 624.3699340820312\n",
      "step = 3000: Average Return = 200.0\n",
      "step = 3200: loss = 116.13275146484375\n",
      "step = 3400: loss = 1092.2762451171875\n",
      "step = 3600: loss = 265669.65625\n",
      "step = 3800: loss = 107187.1015625\n",
      "step = 4000: loss = 363755.15625\n",
      "step = 4000: Average Return = 200.0\n",
      "step = 4200: loss = 347175.9375\n",
      "step = 4400: loss = 833933.5\n",
      "step = 4600: loss = 752265.9375\n",
      "step = 4800: loss = 1013971.125\n",
      "step = 5000: loss = 1057149.75\n",
      "step = 5000: Average Return = 200.0\n",
      "step = 5200: loss = 1481532.125\n",
      "step = 5400: loss = 785811.5\n",
      "step = 5600: loss = 1018697.375\n",
      "step = 5800: loss = 1161481.0\n",
      "step = 6000: loss = 1791660.75\n",
      "step = 6000: Average Return = 200.0\n",
      "step = 6200: loss = 1524422.25\n",
      "step = 6400: loss = 1777415.25\n",
      "step = 6600: loss = 2068636.125\n",
      "step = 6800: loss = 958376.75\n",
      "step = 7000: loss = 1402125.625\n",
      "step = 7000: Average Return = 200.0\n",
      "step = 7200: loss = 1576491.875\n",
      "step = 7400: loss = 410610.21875\n",
      "step = 7600: loss = 959087.75\n",
      "step = 7800: loss = 639463.0625\n",
      "step = 8000: loss = 1486151.25\n",
      "step = 8000: Average Return = 200.0\n",
      "step = 8200: loss = 1402971.0\n",
      "step = 8400: loss = 1033651.6875\n",
      "step = 8600: loss = 1153463.0\n",
      "step = 8800: loss = 3661019.25\n",
      "step = 9000: loss = 19778948.0\n",
      "step = 9000: Average Return = 200.0\n",
      "step = 9200: loss = 1694119.0\n",
      "step = 9400: loss = 3234993.5\n",
      "step = 9600: loss = 645778.4375\n",
      "step = 9800: loss = 1140794.0\n",
      "step = 10000: loss = 1030171.5\n",
      "step = 10000: Average Return = 200.0\n",
      "step = 10200: loss = 2606370.25\n",
      "step = 10400: loss = 2291337.75\n",
      "step = 10600: loss = 1647930.25\n",
      "step = 10800: loss = 17565684.0\n",
      "step = 11000: loss = 1229946.5\n",
      "step = 11000: Average Return = 200.0\n",
      "step = 11200: loss = 2803902.5\n",
      "step = 11400: loss = 3216514.5\n",
      "step = 11600: loss = 4789350.0\n",
      "step = 11800: loss = 1110813.875\n",
      "step = 12000: loss = 2623570.5\n",
      "step = 12000: Average Return = 200.0\n",
      "step = 12200: loss = 41069156.0\n",
      "step = 12400: loss = 2740750.75\n",
      "step = 12600: loss = 1216056.5\n",
      "step = 12800: loss = 24231708.0\n",
      "step = 13000: loss = 2855944.0\n",
      "step = 13000: Average Return = 200.0\n",
      "step = 13200: loss = 2259572.25\n",
      "step = 13400: loss = 84769376.0\n",
      "step = 13600: loss = 8188591.0\n",
      "step = 13800: loss = 2445289.0\n",
      "step = 14000: loss = 4595601.0\n",
      "step = 14000: Average Return = 200.0\n",
      "step = 14200: loss = 5784665.5\n",
      "step = 14400: loss = 87284024.0\n",
      "step = 14600: loss = 36386416.0\n",
      "step = 14800: loss = 4840137.0\n",
      "step = 15000: loss = 5544253.0\n",
      "step = 15000: Average Return = 200.0\n",
      "step = 15200: loss = 8130137.5\n",
      "step = 15400: loss = 6714157.0\n",
      "step = 15600: loss = 86328856.0\n",
      "step = 15800: loss = 1333296000.0\n",
      "step = 16000: loss = 41442848.0\n",
      "step = 16000: Average Return = 200.0\n",
      "step = 16200: loss = 7319799.0\n",
      "step = 16400: loss = 10283849.0\n",
      "step = 16600: loss = 6000734.0\n",
      "step = 16800: loss = 9256002.0\n",
      "step = 17000: loss = 1432135552.0\n",
      "step = 17000: Average Return = 200.0\n",
      "step = 17200: loss = 152842912.0\n",
      "step = 17400: loss = 13355037.0\n",
      "step = 17600: loss = 43634512.0\n",
      "step = 17800: loss = 17326406.0\n",
      "step = 18000: loss = 9009318.0\n",
      "step = 18000: Average Return = 200.0\n",
      "step = 18200: loss = 11480314.0\n",
      "step = 18400: loss = 11256277.0\n",
      "step = 18600: loss = 9355199.0\n",
      "step = 18800: loss = 2370653696.0\n",
      "step = 19000: loss = 2566044928.0\n",
      "step = 19000: Average Return = 200.0\n",
      "step = 19200: loss = 9195003.0\n",
      "step = 19400: loss = 14917897.0\n",
      "step = 19600: loss = 20516880.0\n",
      "step = 19800: loss = 11902065.0\n",
      "step = 20000: loss = 9868798.0\n",
      "step = 20000: Average Return = 200.0\n"
     ]
    }
   ],
   "source": [
    "try:\n",
    "  %%time\n",
    "except:\n",
    "  pass\n",
    "\n",
    "# (Optional) Optimize by wrapping some of the code in a graph using TF function.\n",
    "agent.train = common.function(agent.train)\n",
    "\n",
    "# Reset the train step\n",
    "agent.train_step_counter.assign(0)\n",
    "\n",
    "# Evaluate the agent's policy once before training.\n",
    "avg_return = compute_avg_return(eval_env, agent.policy, num_eval_episodes)\n",
    "returns = [avg_return]\n",
    "\n",
    "for _ in range(num_iterations):\n",
    "\n",
    "  # Collect a few steps using collect_policy and save to the replay buffer.\n",
    "  collect_data(train_env, agent.collect_policy, replay_buffer, collect_steps_per_iteration)\n",
    "\n",
    "  # Sample a batch of data from the buffer and update the agent's network.\n",
    "  experience, unused_info = next(iterator)\n",
    "  train_loss = agent.train(experience).loss\n",
    "\n",
    "  step = agent.train_step_counter.numpy()\n",
    "\n",
    "  if step % log_interval == 0:\n",
    "    print('step = {0}: loss = {1}'.format(step, train_loss))\n",
    "\n",
    "  if step % eval_interval == 0:\n",
    "    avg_return = compute_avg_return(eval_env, agent.policy, num_eval_episodes)\n",
    "    print('step = {0}: Average Return = {1}'.format(step, avg_return))\n",
    "    returns.append(avg_return)"
   ]
  },
  {
   "cell_type": "code",
   "execution_count": 29,
   "id": "edf8f7c8",
   "metadata": {},
   "outputs": [
    {
     "data": {
      "text/plain": [
       "(61.82000160217285, 250.0)"
      ]
     },
     "execution_count": 29,
     "metadata": {},
     "output_type": "execute_result"
    },
    {
     "data": {
      "image/png": "[encoded data removed]",
      "text/plain": [
       "<Figure size 432x288 with 1 Axes>"
      ]
     },
     "metadata": {
      "needs_background": "light"
     },
     "output_type": "display_data"
    }
   ],
   "source": [
    "iterations = range(0, num_iterations + 1, eval_interval)\n",
    "plt.plot(iterations, returns)\n",
    "plt.ylabel('Average Return')\n",
    "plt.xlabel('Iterations')\n",
    "plt.ylim(top=250)"
   ]
  },
  {
   "cell_type": "code",
   "execution_count": 30,
   "id": "54e9d642",
   "metadata": {},
   "outputs": [],
   "source": [
    "def embed_mp4(filename):\n",
    "  \"\"\"Embeds an mp4 file in the notebook.\"\"\"\n",
    "  video = open(filename,'rb').read()\n",
    "  b64 = base64.b64encode(video)\n",
    "  tag = '''\n",
    "  <video width=\"640\" height=\"480\" controls>\n",
    "    <source src=\"data:video/mp4;base64,{0}\" type=\"video/mp4\">\n",
    "  Your browser does not support the video tag.\n",
    "  </video>'''.format(b64.decode())\n",
    "\n",
    "  return IPython.display.HTML(tag)"
   ]
  },
  {
   "cell_type": "code",
   "execution_count": 31,
   "id": "d18e84ac",
   "metadata": {},
   "outputs": [
    {
     "name": "stderr",
     "output_type": "stream",
     "text": [
      "WARNING:root:IMAGEIO FFMPEG_WRITER WARNING: input image is not divisible by macro_block_size=16, resizing from (400, 600) to (400, 608) to ensure video compatibility with most codecs and players. To prevent resizing, make your input image divisible by the macro_block_size or set the macro_block_size to None (risking incompatibility). You may also see a FFMPEG warning concerning speedloss due to data not being aligned.\n",
      "[swscaler @ 0x56297618fac0] Warning: data is not aligned! This can lead to a speed loss\n"
     ]
    },
    {
     "data": {
      "text/html": [
       "\n",
       "  <video width=\"640\" height=\"480\" controls>\n",
       "    <source src=\"data:video/mp4;base64,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\" type=\"video/mp4\">\n",
       "  Your browser does not support the video tag.\n",
       "  </video>"
      ],
      "text/plain": [
       "<IPython.core.display.HTML object>"
      ]
     },
     "execution_count": 31,
     "metadata": {},
     "output_type": "execute_result"
    }
   ],
   "source": [
    "def create_policy_eval_video(policy, filename, num_episodes=5, fps=30):\n",
    "  filename = filename + \".mp4\"\n",
    "  with imageio.get_writer(filename, fps=fps) as video:\n",
    "    for _ in range(num_episodes):\n",
    "      time_step = eval_env.reset()\n",
    "      video.append_data(eval_py_env.render())\n",
    "      while not time_step.is_last():\n",
    "        action_step = policy.action(time_step)\n",
    "        time_step = eval_env.step(action_step.action)\n",
    "        video.append_data(eval_py_env.render())\n",
    "  return embed_mp4(filename)\n",
    "\n",
    "\n",
    "\n",
    "\n",
    "create_policy_eval_video(agent.policy, \"trained-agent\")"
   ]
  }
 ],
 "metadata": {
  "kernelspec": {
   "display_name": "Python 3 (ipykernel)",
   "language": "python",
   "name": "python3"
  },
  "language_info": {
   "codemirror_mode": {
    "name": "ipython",
    "version": 3
   },
   "file_extension": ".py",
   "mimetype": "text/x-python",
   "name": "python",
   "nbconvert_exporter": "python",
   "pygments_lexer": "ipython3",
   "version": "3.8.10"
  }
 },
 "nbformat": 4,
 "nbformat_minor": 5
}
