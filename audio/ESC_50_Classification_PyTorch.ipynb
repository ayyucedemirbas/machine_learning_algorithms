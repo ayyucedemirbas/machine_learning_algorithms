{
  "nbformat": 4,
  "nbformat_minor": 0,
  "metadata": {
    "colab": {
      "name": "ESC-50_Classification_PyTorch.ipynb",
      "provenance": []
    },
    "kernelspec": {
      "name": "python3",
      "display_name": "Python 3"
    },
    "language_info": {
      "name": "python"
    },
    "accelerator": "GPU",
    "widgets": {
      "application/vnd.jupyter.widget-state+json": {
        "c2fb5310379041f3baa78644aca28093": {
          "model_module": "@jupyter-widgets/controls",
          "model_name": "HBoxModel",
          "state": {
            "_view_name": "HBoxView",
            "_dom_classes": [],
            "_model_name": "HBoxModel",
            "_view_module": "@jupyter-widgets/controls",
            "_model_module_version": "1.5.0",
            "_view_count": null,
            "_view_module_version": "1.5.0",
            "box_style": "",
            "layout": "IPY_MODEL_0c9227a45322416097b81d53969e92cd",
            "_model_module": "@jupyter-widgets/controls",
            "children": [
              "IPY_MODEL_972de187c38241c891a5f38effd11368",
              "IPY_MODEL_645b7ece5ef34f6bbc9406681b2018f7"
            ]
          }
        },
        "0c9227a45322416097b81d53969e92cd": {
          "model_module": "@jupyter-widgets/base",
          "model_name": "LayoutModel",
          "state": {
            "_view_name": "LayoutView",
            "grid_template_rows": null,
            "right": null,
            "justify_content": null,
            "_view_module": "@jupyter-widgets/base",
            "overflow": null,
            "_model_module_version": "1.2.0",
            "_view_count": null,
            "flex_flow": null,
            "width": null,
            "min_width": null,
            "border": null,
            "align_items": null,
            "bottom": null,
            "_model_module": "@jupyter-widgets/base",
            "top": null,
            "grid_column": null,
            "overflow_y": null,
            "overflow_x": null,
            "grid_auto_flow": null,
            "grid_area": null,
            "grid_template_columns": null,
            "flex": null,
            "_model_name": "LayoutModel",
            "justify_items": null,
            "grid_row": null,
            "max_height": null,
            "align_content": null,
            "visibility": null,
            "align_self": null,
            "height": null,
            "min_height": null,
            "padding": null,
            "grid_auto_rows": null,
            "grid_gap": null,
            "max_width": null,
            "order": null,
            "_view_module_version": "1.2.0",
            "grid_template_areas": null,
            "object_position": null,
            "object_fit": null,
            "grid_auto_columns": null,
            "margin": null,
            "display": null,
            "left": null
          }
        },
        "972de187c38241c891a5f38effd11368": {
          "model_module": "@jupyter-widgets/controls",
          "model_name": "FloatProgressModel",
          "state": {
            "_view_name": "ProgressView",
            "style": "IPY_MODEL_cee97a4edf174cce8e0bb6664f2a3f7d",
            "_dom_classes": [],
            "description": "100%",
            "_model_name": "FloatProgressModel",
            "bar_style": "success",
            "max": 1600,
            "_view_module": "@jupyter-widgets/controls",
            "_model_module_version": "1.5.0",
            "value": 1600,
            "_view_count": null,
            "_view_module_version": "1.5.0",
            "orientation": "horizontal",
            "min": 0,
            "description_tooltip": null,
            "_model_module": "@jupyter-widgets/controls",
            "layout": "IPY_MODEL_494a64e16d4c48949c0973c1f3896e85"
          }
        },
        "645b7ece5ef34f6bbc9406681b2018f7": {
          "model_module": "@jupyter-widgets/controls",
          "model_name": "HTMLModel",
          "state": {
            "_view_name": "HTMLView",
            "style": "IPY_MODEL_c5865725e177448ea29771025650f01c",
            "_dom_classes": [],
            "description": "",
            "_model_name": "HTMLModel",
            "placeholder": "​",
            "_view_module": "@jupyter-widgets/controls",
            "_model_module_version": "1.5.0",
            "value": " 1600/1600 [17:10&lt;00:00,  1.55it/s]",
            "_view_count": null,
            "_view_module_version": "1.5.0",
            "description_tooltip": null,
            "_model_module": "@jupyter-widgets/controls",
            "layout": "IPY_MODEL_05b009a593e2492b9a75753287f97fa7"
          }
        },
        "cee97a4edf174cce8e0bb6664f2a3f7d": {
          "model_module": "@jupyter-widgets/controls",
          "model_name": "ProgressStyleModel",
          "state": {
            "_view_name": "StyleView",
            "_model_name": "ProgressStyleModel",
            "description_width": "initial",
            "_view_module": "@jupyter-widgets/base",
            "_model_module_version": "1.5.0",
            "_view_count": null,
            "_view_module_version": "1.2.0",
            "bar_color": null,
            "_model_module": "@jupyter-widgets/controls"
          }
        },
        "494a64e16d4c48949c0973c1f3896e85": {
          "model_module": "@jupyter-widgets/base",
          "model_name": "LayoutModel",
          "state": {
            "_view_name": "LayoutView",
            "grid_template_rows": null,
            "right": null,
            "justify_content": null,
            "_view_module": "@jupyter-widgets/base",
            "overflow": null,
            "_model_module_version": "1.2.0",
            "_view_count": null,
            "flex_flow": null,
            "width": null,
            "min_width": null,
            "border": null,
            "align_items": null,
            "bottom": null,
            "_model_module": "@jupyter-widgets/base",
            "top": null,
            "grid_column": null,
            "overflow_y": null,
            "overflow_x": null,
            "grid_auto_flow": null,
            "grid_area": null,
            "grid_template_columns": null,
            "flex": null,
            "_model_name": "LayoutModel",
            "justify_items": null,
            "grid_row": null,
            "max_height": null,
            "align_content": null,
            "visibility": null,
            "align_self": null,
            "height": null,
            "min_height": null,
            "padding": null,
            "grid_auto_rows": null,
            "grid_gap": null,
            "max_width": null,
            "order": null,
            "_view_module_version": "1.2.0",
            "grid_template_areas": null,
            "object_position": null,
            "object_fit": null,
            "grid_auto_columns": null,
            "margin": null,
            "display": null,
            "left": null
          }
        },
        "c5865725e177448ea29771025650f01c": {
          "model_module": "@jupyter-widgets/controls",
          "model_name": "DescriptionStyleModel",
          "state": {
            "_view_name": "StyleView",
            "_model_name": "DescriptionStyleModel",
            "description_width": "",
            "_view_module": "@jupyter-widgets/base",
            "_model_module_version": "1.5.0",
            "_view_count": null,
            "_view_module_version": "1.2.0",
            "_model_module": "@jupyter-widgets/controls"
          }
        },
        "05b009a593e2492b9a75753287f97fa7": {
          "model_module": "@jupyter-widgets/base",
          "model_name": "LayoutModel",
          "state": {
            "_view_name": "LayoutView",
            "grid_template_rows": null,
            "right": null,
            "justify_content": null,
            "_view_module": "@jupyter-widgets/base",
            "overflow": null,
            "_model_module_version": "1.2.0",
            "_view_count": null,
            "flex_flow": null,
            "width": null,
            "min_width": null,
            "border": null,
            "align_items": null,
            "bottom": null,
            "_model_module": "@jupyter-widgets/base",
            "top": null,
            "grid_column": null,
            "overflow_y": null,
            "overflow_x": null,
            "grid_auto_flow": null,
            "grid_area": null,
            "grid_template_columns": null,
            "flex": null,
            "_model_name": "LayoutModel",
            "justify_items": null,
            "grid_row": null,
            "max_height": null,
            "align_content": null,
            "visibility": null,
            "align_self": null,
            "height": null,
            "min_height": null,
            "padding": null,
            "grid_auto_rows": null,
            "grid_gap": null,
            "max_width": null,
            "order": null,
            "_view_module_version": "1.2.0",
            "grid_template_areas": null,
            "object_position": null,
            "object_fit": null,
            "grid_auto_columns": null,
            "margin": null,
            "display": null,
            "left": null
          }
        },
        "14f8bef9bbda4ad68c8c0420d8730b4d": {
          "model_module": "@jupyter-widgets/controls",
          "model_name": "HBoxModel",
          "state": {
            "_view_name": "HBoxView",
            "_dom_classes": [],
            "_model_name": "HBoxModel",
            "_view_module": "@jupyter-widgets/controls",
            "_model_module_version": "1.5.0",
            "_view_count": null,
            "_view_module_version": "1.5.0",
            "box_style": "",
            "layout": "IPY_MODEL_7afdcb1bc7e24630a671363e26950c34",
            "_model_module": "@jupyter-widgets/controls",
            "children": [
              "IPY_MODEL_82c6a7319adf4c88b7a00bbb1491f62c",
              "IPY_MODEL_86b8d8e05d854ccda23905095618532a"
            ]
          }
        },
        "7afdcb1bc7e24630a671363e26950c34": {
          "model_module": "@jupyter-widgets/base",
          "model_name": "LayoutModel",
          "state": {
            "_view_name": "LayoutView",
            "grid_template_rows": null,
            "right": null,
            "justify_content": null,
            "_view_module": "@jupyter-widgets/base",
            "overflow": null,
            "_model_module_version": "1.2.0",
            "_view_count": null,
            "flex_flow": null,
            "width": null,
            "min_width": null,
            "border": null,
            "align_items": null,
            "bottom": null,
            "_model_module": "@jupyter-widgets/base",
            "top": null,
            "grid_column": null,
            "overflow_y": null,
            "overflow_x": null,
            "grid_auto_flow": null,
            "grid_area": null,
            "grid_template_columns": null,
            "flex": null,
            "_model_name": "LayoutModel",
            "justify_items": null,
            "grid_row": null,
            "max_height": null,
            "align_content": null,
            "visibility": null,
            "align_self": null,
            "height": null,
            "min_height": null,
            "padding": null,
            "grid_auto_rows": null,
            "grid_gap": null,
            "max_width": null,
            "order": null,
            "_view_module_version": "1.2.0",
            "grid_template_areas": null,
            "object_position": null,
            "object_fit": null,
            "grid_auto_columns": null,
            "margin": null,
            "display": null,
            "left": null
          }
        },
        "82c6a7319adf4c88b7a00bbb1491f62c": {
          "model_module": "@jupyter-widgets/controls",
          "model_name": "FloatProgressModel",
          "state": {
            "_view_name": "ProgressView",
            "style": "IPY_MODEL_bfd6e2979afc429fa1c07ef326c6494c",
            "_dom_classes": [],
            "description": "100%",
            "_model_name": "FloatProgressModel",
            "bar_style": "success",
            "max": 400,
            "_view_module": "@jupyter-widgets/controls",
            "_model_module_version": "1.5.0",
            "value": 400,
            "_view_count": null,
            "_view_module_version": "1.5.0",
            "orientation": "horizontal",
            "min": 0,
            "description_tooltip": null,
            "_model_module": "@jupyter-widgets/controls",
            "layout": "IPY_MODEL_fc9f74a247b447fa84e4e89da1e55347"
          }
        },
        "86b8d8e05d854ccda23905095618532a": {
          "model_module": "@jupyter-widgets/controls",
          "model_name": "HTMLModel",
          "state": {
            "_view_name": "HTMLView",
            "style": "IPY_MODEL_22cfc10755fc4c379e8874033d5a2eca",
            "_dom_classes": [],
            "description": "",
            "_model_name": "HTMLModel",
            "placeholder": "​",
            "_view_module": "@jupyter-widgets/controls",
            "_model_module_version": "1.5.0",
            "value": " 400/400 [00:23&lt;00:00, 16.76it/s]",
            "_view_count": null,
            "_view_module_version": "1.5.0",
            "description_tooltip": null,
            "_model_module": "@jupyter-widgets/controls",
            "layout": "IPY_MODEL_7826a52945a04dbd87b9a2e9eb1d219b"
          }
        },
        "bfd6e2979afc429fa1c07ef326c6494c": {
          "model_module": "@jupyter-widgets/controls",
          "model_name": "ProgressStyleModel",
          "state": {
            "_view_name": "StyleView",
            "_model_name": "ProgressStyleModel",
            "description_width": "initial",
            "_view_module": "@jupyter-widgets/base",
            "_model_module_version": "1.5.0",
            "_view_count": null,
            "_view_module_version": "1.2.0",
            "bar_color": null,
            "_model_module": "@jupyter-widgets/controls"
          }
        },
        "fc9f74a247b447fa84e4e89da1e55347": {
          "model_module": "@jupyter-widgets/base",
          "model_name": "LayoutModel",
          "state": {
            "_view_name": "LayoutView",
            "grid_template_rows": null,
            "right": null,
            "justify_content": null,
            "_view_module": "@jupyter-widgets/base",
            "overflow": null,
            "_model_module_version": "1.2.0",
            "_view_count": null,
            "flex_flow": null,
            "width": null,
            "min_width": null,
            "border": null,
            "align_items": null,
            "bottom": null,
            "_model_module": "@jupyter-widgets/base",
            "top": null,
            "grid_column": null,
            "overflow_y": null,
            "overflow_x": null,
            "grid_auto_flow": null,
            "grid_area": null,
            "grid_template_columns": null,
            "flex": null,
            "_model_name": "LayoutModel",
            "justify_items": null,
            "grid_row": null,
            "max_height": null,
            "align_content": null,
            "visibility": null,
            "align_self": null,
            "height": null,
            "min_height": null,
            "padding": null,
            "grid_auto_rows": null,
            "grid_gap": null,
            "max_width": null,
            "order": null,
            "_view_module_version": "1.2.0",
            "grid_template_areas": null,
            "object_position": null,
            "object_fit": null,
            "grid_auto_columns": null,
            "margin": null,
            "display": null,
            "left": null
          }
        },
        "22cfc10755fc4c379e8874033d5a2eca": {
          "model_module": "@jupyter-widgets/controls",
          "model_name": "DescriptionStyleModel",
          "state": {
            "_view_name": "StyleView",
            "_model_name": "DescriptionStyleModel",
            "description_width": "",
            "_view_module": "@jupyter-widgets/base",
            "_model_module_version": "1.5.0",
            "_view_count": null,
            "_view_module_version": "1.2.0",
            "_model_module": "@jupyter-widgets/controls"
          }
        },
        "7826a52945a04dbd87b9a2e9eb1d219b": {
          "model_module": "@jupyter-widgets/base",
          "model_name": "LayoutModel",
          "state": {
            "_view_name": "LayoutView",
            "grid_template_rows": null,
            "right": null,
            "justify_content": null,
            "_view_module": "@jupyter-widgets/base",
            "overflow": null,
            "_model_module_version": "1.2.0",
            "_view_count": null,
            "flex_flow": null,
            "width": null,
            "min_width": null,
            "border": null,
            "align_items": null,
            "bottom": null,
            "_model_module": "@jupyter-widgets/base",
            "top": null,
            "grid_column": null,
            "overflow_y": null,
            "overflow_x": null,
            "grid_auto_flow": null,
            "grid_area": null,
            "grid_template_columns": null,
            "flex": null,
            "_model_name": "LayoutModel",
            "justify_items": null,
            "grid_row": null,
            "max_height": null,
            "align_content": null,
            "visibility": null,
            "align_self": null,
            "height": null,
            "min_height": null,
            "padding": null,
            "grid_auto_rows": null,
            "grid_gap": null,
            "max_width": null,
            "order": null,
            "_view_module_version": "1.2.0",
            "grid_template_areas": null,
            "object_position": null,
            "object_fit": null,
            "grid_auto_columns": null,
            "margin": null,
            "display": null,
            "left": null
          }
        },
        "46d52bb5df8145c79e4dbd2ea62a099d": {
          "model_module": "@jupyter-widgets/controls",
          "model_name": "HBoxModel",
          "state": {
            "_view_name": "HBoxView",
            "_dom_classes": [],
            "_model_name": "HBoxModel",
            "_view_module": "@jupyter-widgets/controls",
            "_model_module_version": "1.5.0",
            "_view_count": null,
            "_view_module_version": "1.5.0",
            "box_style": "",
            "layout": "IPY_MODEL_f0c7553f3d49425a8012de507c515951",
            "_model_module": "@jupyter-widgets/controls",
            "children": [
              "IPY_MODEL_dd0c660b88404659b969754310de8823",
              "IPY_MODEL_886275dec756405c98462fcba1cd69cc"
            ]
          }
        },
        "f0c7553f3d49425a8012de507c515951": {
          "model_module": "@jupyter-widgets/base",
          "model_name": "LayoutModel",
          "state": {
            "_view_name": "LayoutView",
            "grid_template_rows": null,
            "right": null,
            "justify_content": null,
            "_view_module": "@jupyter-widgets/base",
            "overflow": null,
            "_model_module_version": "1.2.0",
            "_view_count": null,
            "flex_flow": null,
            "width": null,
            "min_width": null,
            "border": null,
            "align_items": null,
            "bottom": null,
            "_model_module": "@jupyter-widgets/base",
            "top": null,
            "grid_column": null,
            "overflow_y": null,
            "overflow_x": null,
            "grid_auto_flow": null,
            "grid_area": null,
            "grid_template_columns": null,
            "flex": null,
            "_model_name": "LayoutModel",
            "justify_items": null,
            "grid_row": null,
            "max_height": null,
            "align_content": null,
            "visibility": null,
            "align_self": null,
            "height": null,
            "min_height": null,
            "padding": null,
            "grid_auto_rows": null,
            "grid_gap": null,
            "max_width": null,
            "order": null,
            "_view_module_version": "1.2.0",
            "grid_template_areas": null,
            "object_position": null,
            "object_fit": null,
            "grid_auto_columns": null,
            "margin": null,
            "display": null,
            "left": null
          }
        },
        "dd0c660b88404659b969754310de8823": {
          "model_module": "@jupyter-widgets/controls",
          "model_name": "FloatProgressModel",
          "state": {
            "_view_name": "ProgressView",
            "style": "IPY_MODEL_2a24c7ebd5c94844b15ef91701f0eb50",
            "_dom_classes": [],
            "description": "100%",
            "_model_name": "FloatProgressModel",
            "bar_style": "success",
            "max": 60,
            "_view_module": "@jupyter-widgets/controls",
            "_model_module_version": "1.5.0",
            "value": 60,
            "_view_count": null,
            "_view_module_version": "1.5.0",
            "orientation": "horizontal",
            "min": 0,
            "description_tooltip": null,
            "_model_module": "@jupyter-widgets/controls",
            "layout": "IPY_MODEL_4267496bc06a4170b0e2871e697913a4"
          }
        },
        "886275dec756405c98462fcba1cd69cc": {
          "model_module": "@jupyter-widgets/controls",
          "model_name": "HTMLModel",
          "state": {
            "_view_name": "HTMLView",
            "style": "IPY_MODEL_cb58f65c7fd44f2ea52cb9e0c9fdc112",
            "_dom_classes": [],
            "description": "",
            "_model_name": "HTMLModel",
            "placeholder": "​",
            "_view_module": "@jupyter-widgets/controls",
            "_model_module_version": "1.5.0",
            "value": " 60/60 [15:19&lt;00:00, 15.33s/it]",
            "_view_count": null,
            "_view_module_version": "1.5.0",
            "description_tooltip": null,
            "_model_module": "@jupyter-widgets/controls",
            "layout": "IPY_MODEL_2b089e666b3e4ed28973c5ff9c68490a"
          }
        },
        "2a24c7ebd5c94844b15ef91701f0eb50": {
          "model_module": "@jupyter-widgets/controls",
          "model_name": "ProgressStyleModel",
          "state": {
            "_view_name": "StyleView",
            "_model_name": "ProgressStyleModel",
            "description_width": "initial",
            "_view_module": "@jupyter-widgets/base",
            "_model_module_version": "1.5.0",
            "_view_count": null,
            "_view_module_version": "1.2.0",
            "bar_color": null,
            "_model_module": "@jupyter-widgets/controls"
          }
        },
        "4267496bc06a4170b0e2871e697913a4": {
          "model_module": "@jupyter-widgets/base",
          "model_name": "LayoutModel",
          "state": {
            "_view_name": "LayoutView",
            "grid_template_rows": null,
            "right": null,
            "justify_content": null,
            "_view_module": "@jupyter-widgets/base",
            "overflow": null,
            "_model_module_version": "1.2.0",
            "_view_count": null,
            "flex_flow": null,
            "width": null,
            "min_width": null,
            "border": null,
            "align_items": null,
            "bottom": null,
            "_model_module": "@jupyter-widgets/base",
            "top": null,
            "grid_column": null,
            "overflow_y": null,
            "overflow_x": null,
            "grid_auto_flow": null,
            "grid_area": null,
            "grid_template_columns": null,
            "flex": null,
            "_model_name": "LayoutModel",
            "justify_items": null,
            "grid_row": null,
            "max_height": null,
            "align_content": null,
            "visibility": null,
            "align_self": null,
            "height": null,
            "min_height": null,
            "padding": null,
            "grid_auto_rows": null,
            "grid_gap": null,
            "max_width": null,
            "order": null,
            "_view_module_version": "1.2.0",
            "grid_template_areas": null,
            "object_position": null,
            "object_fit": null,
            "grid_auto_columns": null,
            "margin": null,
            "display": null,
            "left": null
          }
        },
        "cb58f65c7fd44f2ea52cb9e0c9fdc112": {
          "model_module": "@jupyter-widgets/controls",
          "model_name": "DescriptionStyleModel",
          "state": {
            "_view_name": "StyleView",
            "_model_name": "DescriptionStyleModel",
            "description_width": "",
            "_view_module": "@jupyter-widgets/base",
            "_model_module_version": "1.5.0",
            "_view_count": null,
            "_view_module_version": "1.2.0",
            "_model_module": "@jupyter-widgets/controls"
          }
        },
        "2b089e666b3e4ed28973c5ff9c68490a": {
          "model_module": "@jupyter-widgets/base",
          "model_name": "LayoutModel",
          "state": {
            "_view_name": "LayoutView",
            "grid_template_rows": null,
            "right": null,
            "justify_content": null,
            "_view_module": "@jupyter-widgets/base",
            "overflow": null,
            "_model_module_version": "1.2.0",
            "_view_count": null,
            "flex_flow": null,
            "width": null,
            "min_width": null,
            "border": null,
            "align_items": null,
            "bottom": null,
            "_model_module": "@jupyter-widgets/base",
            "top": null,
            "grid_column": null,
            "overflow_y": null,
            "overflow_x": null,
            "grid_auto_flow": null,
            "grid_area": null,
            "grid_template_columns": null,
            "flex": null,
            "_model_name": "LayoutModel",
            "justify_items": null,
            "grid_row": null,
            "max_height": null,
            "align_content": null,
            "visibility": null,
            "align_self": null,
            "height": null,
            "min_height": null,
            "padding": null,
            "grid_auto_rows": null,
            "grid_gap": null,
            "max_width": null,
            "order": null,
            "_view_module_version": "1.2.0",
            "grid_template_areas": null,
            "object_position": null,
            "object_fit": null,
            "grid_auto_columns": null,
            "margin": null,
            "display": null,
            "left": null
          }
        },
        "6f877876275948d1afb0302eafb0a865": {
          "model_module": "@jupyter-widgets/controls",
          "model_name": "HBoxModel",
          "state": {
            "_view_name": "HBoxView",
            "_dom_classes": [],
            "_model_name": "HBoxModel",
            "_view_module": "@jupyter-widgets/controls",
            "_model_module_version": "1.5.0",
            "_view_count": null,
            "_view_module_version": "1.5.0",
            "box_style": "",
            "layout": "IPY_MODEL_aebad955885746868e6ffa623b4142e6",
            "_model_module": "@jupyter-widgets/controls",
            "children": [
              "IPY_MODEL_53acb2a6ba944c8a91030f4b24ac419e",
              "IPY_MODEL_f94d976c3d284fefab53dea247b7d9c9"
            ]
          }
        },
        "aebad955885746868e6ffa623b4142e6": {
          "model_module": "@jupyter-widgets/base",
          "model_name": "LayoutModel",
          "state": {
            "_view_name": "LayoutView",
            "grid_template_rows": null,
            "right": null,
            "justify_content": null,
            "_view_module": "@jupyter-widgets/base",
            "overflow": null,
            "_model_module_version": "1.2.0",
            "_view_count": null,
            "flex_flow": null,
            "width": null,
            "min_width": null,
            "border": null,
            "align_items": null,
            "bottom": null,
            "_model_module": "@jupyter-widgets/base",
            "top": null,
            "grid_column": null,
            "overflow_y": null,
            "overflow_x": null,
            "grid_auto_flow": null,
            "grid_area": null,
            "grid_template_columns": null,
            "flex": null,
            "_model_name": "LayoutModel",
            "justify_items": null,
            "grid_row": null,
            "max_height": null,
            "align_content": null,
            "visibility": null,
            "align_self": null,
            "height": null,
            "min_height": null,
            "padding": null,
            "grid_auto_rows": null,
            "grid_gap": null,
            "max_width": null,
            "order": null,
            "_view_module_version": "1.2.0",
            "grid_template_areas": null,
            "object_position": null,
            "object_fit": null,
            "grid_auto_columns": null,
            "margin": null,
            "display": null,
            "left": null
          }
        },
        "53acb2a6ba944c8a91030f4b24ac419e": {
          "model_module": "@jupyter-widgets/controls",
          "model_name": "FloatProgressModel",
          "state": {
            "_view_name": "ProgressView",
            "style": "IPY_MODEL_fb9440d292254a01b858bbb88f85e2de",
            "_dom_classes": [],
            "description": "100%",
            "_model_name": "FloatProgressModel",
            "bar_style": "success",
            "max": 87306240,
            "_view_module": "@jupyter-widgets/controls",
            "_model_module_version": "1.5.0",
            "value": 87306240,
            "_view_count": null,
            "_view_module_version": "1.5.0",
            "orientation": "horizontal",
            "min": 0,
            "description_tooltip": null,
            "_model_module": "@jupyter-widgets/controls",
            "layout": "IPY_MODEL_40b1da803c8b46cfbcc051ce7d860e0c"
          }
        },
        "f94d976c3d284fefab53dea247b7d9c9": {
          "model_module": "@jupyter-widgets/controls",
          "model_name": "HTMLModel",
          "state": {
            "_view_name": "HTMLView",
            "style": "IPY_MODEL_92a76b60576b41fa9ae1812e1d1691af",
            "_dom_classes": [],
            "description": "",
            "_model_name": "HTMLModel",
            "placeholder": "​",
            "_view_module": "@jupyter-widgets/controls",
            "_model_module_version": "1.5.0",
            "value": " 83.3M/83.3M [00:15&lt;00:00, 5.50MB/s]",
            "_view_count": null,
            "_view_module_version": "1.5.0",
            "description_tooltip": null,
            "_model_module": "@jupyter-widgets/controls",
            "layout": "IPY_MODEL_e22585b7f5bd4105b960d38df87a6a1e"
          }
        },
        "fb9440d292254a01b858bbb88f85e2de": {
          "model_module": "@jupyter-widgets/controls",
          "model_name": "ProgressStyleModel",
          "state": {
            "_view_name": "StyleView",
            "_model_name": "ProgressStyleModel",
            "description_width": "initial",
            "_view_module": "@jupyter-widgets/base",
            "_model_module_version": "1.5.0",
            "_view_count": null,
            "_view_module_version": "1.2.0",
            "bar_color": null,
            "_model_module": "@jupyter-widgets/controls"
          }
        },
        "40b1da803c8b46cfbcc051ce7d860e0c": {
          "model_module": "@jupyter-widgets/base",
          "model_name": "LayoutModel",
          "state": {
            "_view_name": "LayoutView",
            "grid_template_rows": null,
            "right": null,
            "justify_content": null,
            "_view_module": "@jupyter-widgets/base",
            "overflow": null,
            "_model_module_version": "1.2.0",
            "_view_count": null,
            "flex_flow": null,
            "width": null,
            "min_width": null,
            "border": null,
            "align_items": null,
            "bottom": null,
            "_model_module": "@jupyter-widgets/base",
            "top": null,
            "grid_column": null,
            "overflow_y": null,
            "overflow_x": null,
            "grid_auto_flow": null,
            "grid_area": null,
            "grid_template_columns": null,
            "flex": null,
            "_model_name": "LayoutModel",
            "justify_items": null,
            "grid_row": null,
            "max_height": null,
            "align_content": null,
            "visibility": null,
            "align_self": null,
            "height": null,
            "min_height": null,
            "padding": null,
            "grid_auto_rows": null,
            "grid_gap": null,
            "max_width": null,
            "order": null,
            "_view_module_version": "1.2.0",
            "grid_template_areas": null,
            "object_position": null,
            "object_fit": null,
            "grid_auto_columns": null,
            "margin": null,
            "display": null,
            "left": null
          }
        },
        "92a76b60576b41fa9ae1812e1d1691af": {
          "model_module": "@jupyter-widgets/controls",
          "model_name": "DescriptionStyleModel",
          "state": {
            "_view_name": "StyleView",
            "_model_name": "DescriptionStyleModel",
            "description_width": "",
            "_view_module": "@jupyter-widgets/base",
            "_model_module_version": "1.5.0",
            "_view_count": null,
            "_view_module_version": "1.2.0",
            "_model_module": "@jupyter-widgets/controls"
          }
        },
        "e22585b7f5bd4105b960d38df87a6a1e": {
          "model_module": "@jupyter-widgets/base",
          "model_name": "LayoutModel",
          "state": {
            "_view_name": "LayoutView",
            "grid_template_rows": null,
            "right": null,
            "justify_content": null,
            "_view_module": "@jupyter-widgets/base",
            "overflow": null,
            "_model_module_version": "1.2.0",
            "_view_count": null,
            "flex_flow": null,
            "width": null,
            "min_width": null,
            "border": null,
            "align_items": null,
            "bottom": null,
            "_model_module": "@jupyter-widgets/base",
            "top": null,
            "grid_column": null,
            "overflow_y": null,
            "overflow_x": null,
            "grid_auto_flow": null,
            "grid_area": null,
            "grid_template_columns": null,
            "flex": null,
            "_model_name": "LayoutModel",
            "justify_items": null,
            "grid_row": null,
            "max_height": null,
            "align_content": null,
            "visibility": null,
            "align_self": null,
            "height": null,
            "min_height": null,
            "padding": null,
            "grid_auto_rows": null,
            "grid_gap": null,
            "max_width": null,
            "order": null,
            "_view_module_version": "1.2.0",
            "grid_template_areas": null,
            "object_position": null,
            "object_fit": null,
            "grid_auto_columns": null,
            "margin": null,
            "display": null,
            "left": null
          }
        },
        "dbcfa26538e64a439dc6a1d78e839ba6": {
          "model_module": "@jupyter-widgets/controls",
          "model_name": "HBoxModel",
          "state": {
            "_view_name": "HBoxView",
            "_dom_classes": [],
            "_model_name": "HBoxModel",
            "_view_module": "@jupyter-widgets/controls",
            "_model_module_version": "1.5.0",
            "_view_count": null,
            "_view_module_version": "1.5.0",
            "box_style": "",
            "layout": "IPY_MODEL_4254c3c523d148f0a3462a1979d49fae",
            "_model_module": "@jupyter-widgets/controls",
            "children": [
              "IPY_MODEL_fff1e08cd1da4624afaedc8e79774350",
              "IPY_MODEL_8c9d1ec683294f138f947c22c03295a6"
            ]
          }
        },
        "4254c3c523d148f0a3462a1979d49fae": {
          "model_module": "@jupyter-widgets/base",
          "model_name": "LayoutModel",
          "state": {
            "_view_name": "LayoutView",
            "grid_template_rows": null,
            "right": null,
            "justify_content": null,
            "_view_module": "@jupyter-widgets/base",
            "overflow": null,
            "_model_module_version": "1.2.0",
            "_view_count": null,
            "flex_flow": null,
            "width": null,
            "min_width": null,
            "border": null,
            "align_items": null,
            "bottom": null,
            "_model_module": "@jupyter-widgets/base",
            "top": null,
            "grid_column": null,
            "overflow_y": null,
            "overflow_x": null,
            "grid_auto_flow": null,
            "grid_area": null,
            "grid_template_columns": null,
            "flex": null,
            "_model_name": "LayoutModel",
            "justify_items": null,
            "grid_row": null,
            "max_height": null,
            "align_content": null,
            "visibility": null,
            "align_self": null,
            "height": null,
            "min_height": null,
            "padding": null,
            "grid_auto_rows": null,
            "grid_gap": null,
            "max_width": null,
            "order": null,
            "_view_module_version": "1.2.0",
            "grid_template_areas": null,
            "object_position": null,
            "object_fit": null,
            "grid_auto_columns": null,
            "margin": null,
            "display": null,
            "left": null
          }
        },
        "fff1e08cd1da4624afaedc8e79774350": {
          "model_module": "@jupyter-widgets/controls",
          "model_name": "FloatProgressModel",
          "state": {
            "_view_name": "ProgressView",
            "style": "IPY_MODEL_3ea26e93118d47b1861d0226db0987f5",
            "_dom_classes": [],
            "description": "100%",
            "_model_name": "FloatProgressModel",
            "bar_style": "success",
            "max": 50,
            "_view_module": "@jupyter-widgets/controls",
            "_model_module_version": "1.5.0",
            "value": 50,
            "_view_count": null,
            "_view_module_version": "1.5.0",
            "orientation": "horizontal",
            "min": 0,
            "description_tooltip": null,
            "_model_module": "@jupyter-widgets/controls",
            "layout": "IPY_MODEL_b3b01b7a09ce438b871f327605d7f88a"
          }
        },
        "8c9d1ec683294f138f947c22c03295a6": {
          "model_module": "@jupyter-widgets/controls",
          "model_name": "HTMLModel",
          "state": {
            "_view_name": "HTMLView",
            "style": "IPY_MODEL_f914838256584c7db07f77c43c2dd8e7",
            "_dom_classes": [],
            "description": "",
            "_model_name": "HTMLModel",
            "placeholder": "​",
            "_view_module": "@jupyter-widgets/controls",
            "_model_module_version": "1.5.0",
            "value": " 50/50 [08:47&lt;00:00, 10.55s/it]",
            "_view_count": null,
            "_view_module_version": "1.5.0",
            "description_tooltip": null,
            "_model_module": "@jupyter-widgets/controls",
            "layout": "IPY_MODEL_e9eb616d02264ff294a0e38bad662f3d"
          }
        },
        "3ea26e93118d47b1861d0226db0987f5": {
          "model_module": "@jupyter-widgets/controls",
          "model_name": "ProgressStyleModel",
          "state": {
            "_view_name": "StyleView",
            "_model_name": "ProgressStyleModel",
            "description_width": "initial",
            "_view_module": "@jupyter-widgets/base",
            "_model_module_version": "1.5.0",
            "_view_count": null,
            "_view_module_version": "1.2.0",
            "bar_color": null,
            "_model_module": "@jupyter-widgets/controls"
          }
        },
        "b3b01b7a09ce438b871f327605d7f88a": {
          "model_module": "@jupyter-widgets/base",
          "model_name": "LayoutModel",
          "state": {
            "_view_name": "LayoutView",
            "grid_template_rows": null,
            "right": null,
            "justify_content": null,
            "_view_module": "@jupyter-widgets/base",
            "overflow": null,
            "_model_module_version": "1.2.0",
            "_view_count": null,
            "flex_flow": null,
            "width": null,
            "min_width": null,
            "border": null,
            "align_items": null,
            "bottom": null,
            "_model_module": "@jupyter-widgets/base",
            "top": null,
            "grid_column": null,
            "overflow_y": null,
            "overflow_x": null,
            "grid_auto_flow": null,
            "grid_area": null,
            "grid_template_columns": null,
            "flex": null,
            "_model_name": "LayoutModel",
            "justify_items": null,
            "grid_row": null,
            "max_height": null,
            "align_content": null,
            "visibility": null,
            "align_self": null,
            "height": null,
            "min_height": null,
            "padding": null,
            "grid_auto_rows": null,
            "grid_gap": null,
            "max_width": null,
            "order": null,
            "_view_module_version": "1.2.0",
            "grid_template_areas": null,
            "object_position": null,
            "object_fit": null,
            "grid_auto_columns": null,
            "margin": null,
            "display": null,
            "left": null
          }
        },
        "f914838256584c7db07f77c43c2dd8e7": {
          "model_module": "@jupyter-widgets/controls",
          "model_name": "DescriptionStyleModel",
          "state": {
            "_view_name": "StyleView",
            "_model_name": "DescriptionStyleModel",
            "description_width": "",
            "_view_module": "@jupyter-widgets/base",
            "_model_module_version": "1.5.0",
            "_view_count": null,
            "_view_module_version": "1.2.0",
            "_model_module": "@jupyter-widgets/controls"
          }
        },
        "e9eb616d02264ff294a0e38bad662f3d": {
          "model_module": "@jupyter-widgets/base",
          "model_name": "LayoutModel",
          "state": {
            "_view_name": "LayoutView",
            "grid_template_rows": null,
            "right": null,
            "justify_content": null,
            "_view_module": "@jupyter-widgets/base",
            "overflow": null,
            "_model_module_version": "1.2.0",
            "_view_count": null,
            "flex_flow": null,
            "width": null,
            "min_width": null,
            "border": null,
            "align_items": null,
            "bottom": null,
            "_model_module": "@jupyter-widgets/base",
            "top": null,
            "grid_column": null,
            "overflow_y": null,
            "overflow_x": null,
            "grid_auto_flow": null,
            "grid_area": null,
            "grid_template_columns": null,
            "flex": null,
            "_model_name": "LayoutModel",
            "justify_items": null,
            "grid_row": null,
            "max_height": null,
            "align_content": null,
            "visibility": null,
            "align_self": null,
            "height": null,
            "min_height": null,
            "padding": null,
            "grid_auto_rows": null,
            "grid_gap": null,
            "max_width": null,
            "order": null,
            "_view_module_version": "1.2.0",
            "grid_template_areas": null,
            "object_position": null,
            "object_fit": null,
            "grid_auto_columns": null,
            "margin": null,
            "display": null,
            "left": null
          }
        }
      }
    }
  },
  "cells": [
    {
      "cell_type": "code",
      "metadata": {
        "colab": {
          "base_uri": "https://localhost:8080/",
          "height": 0
        },
        "id": "1NJ2Bd0Z3YkB",
        "outputId": "26cf0dc1-b686-42e9-fa2a-74c4484983d8"
      },
      "source": [
        "!test ! -f \"master.zip\" && wget \"https://github.com/karoldvl/ESC-50/archive/master.zip\""
      ],
      "execution_count": 1,
      "outputs": [
        {
          "output_type": "stream",
          "text": [
            "--2021-03-26 00:46:18--  https://github.com/karoldvl/ESC-50/archive/master.zip\n",
            "Resolving github.com (github.com)... 140.82.112.4\n",
            "Connecting to github.com (github.com)|140.82.112.4|:443... connected.\n",
            "HTTP request sent, awaiting response... 301 Moved Permanently\n",
            "Location: https://github.com/karolpiczak/ESC-50/archive/master.zip [following]\n",
            "--2021-03-26 00:46:18--  https://github.com/karolpiczak/ESC-50/archive/master.zip\n",
            "Reusing existing connection to github.com:443.\n",
            "HTTP request sent, awaiting response... 302 Found\n",
            "Location: https://codeload.github.com/karolpiczak/ESC-50/zip/master [following]\n",
            "--2021-03-26 00:46:18--  https://codeload.github.com/karolpiczak/ESC-50/zip/master\n",
            "Resolving codeload.github.com (codeload.github.com)... 140.82.114.10\n",
            "Connecting to codeload.github.com (codeload.github.com)|140.82.114.10|:443... connected.\n",
            "HTTP request sent, awaiting response... 200 OK\n",
            "Length: unspecified [application/zip]\n",
            "Saving to: ‘master.zip’\n",
            "\n",
            "master.zip              [           <=>      ] 615.78M  13.6MB/s    in 45s     \n",
            "\n",
            "2021-03-26 00:47:03 (13.6 MB/s) - ‘master.zip’ saved [645694023]\n",
            "\n"
          ],
          "name": "stdout"
        }
      ]
    },
    {
      "cell_type": "code",
      "metadata": {
        "id": "NtAeKgdC4WnA"
      },
      "source": [
        "!unzip -qq master.zip"
      ],
      "execution_count": 2,
      "outputs": []
    },
    {
      "cell_type": "code",
      "metadata": {
        "colab": {
          "base_uri": "https://localhost:8080/",
          "height": 0
        },
        "id": "scoQ46W64kM5",
        "outputId": "413db08c-98a6-408c-8b72-72797aa8ff81"
      },
      "source": [
        "%cd ESC-50-master"
      ],
      "execution_count": 3,
      "outputs": [
        {
          "output_type": "stream",
          "text": [
            "/content/ESC-50-master\n"
          ],
          "name": "stdout"
        }
      ]
    },
    {
      "cell_type": "code",
      "metadata": {
        "id": "cqa9UZUk4lZP"
      },
      "source": [
        "import pandas as pd\n",
        "import librosa\n",
        "import numpy as np\n",
        "import matplotlib.pyplot as plt\n",
        "import librosa.display\n",
        "import torch\n",
        "import torch.nn as nn\n",
        "import torch.nn.functional as F\n",
        "import torch.optim as optim\n",
        "from torch.utils.data import Dataset, DataLoader\n",
        "from tqdm import tqdm_notebook as tqdm\n",
        "import os"
      ],
      "execution_count": 4,
      "outputs": []
    },
    {
      "cell_type": "code",
      "metadata": {
        "id": "uTWjwjYy4rPJ"
      },
      "source": [
        "df = pd.read_csv('meta/esc50.csv')"
      ],
      "execution_count": 5,
      "outputs": []
    },
    {
      "cell_type": "code",
      "metadata": {
        "colab": {
          "base_uri": "https://localhost:8080/",
          "height": 204
        },
        "id": "Yl55ihEP4y6P",
        "outputId": "5314f559-858b-4428-e30e-7cd17bfad385"
      },
      "source": [
        "df.head()"
      ],
      "execution_count": 6,
      "outputs": [
        {
          "output_type": "execute_result",
          "data": {
            "text/html": [
              "<div>\n",
              "<style scoped>\n",
              "    .dataframe tbody tr th:only-of-type {\n",
              "        vertical-align: middle;\n",
              "    }\n",
              "\n",
              "    .dataframe tbody tr th {\n",
              "        vertical-align: top;\n",
              "    }\n",
              "\n",
              "    .dataframe thead th {\n",
              "        text-align: right;\n",
              "    }\n",
              "</style>\n",
              "<table border=\"1\" class=\"dataframe\">\n",
              "  <thead>\n",
              "    <tr style=\"text-align: right;\">\n",
              "      <th></th>\n",
              "      <th>filename</th>\n",
              "      <th>fold</th>\n",
              "      <th>target</th>\n",
              "      <th>category</th>\n",
              "      <th>esc10</th>\n",
              "      <th>src_file</th>\n",
              "      <th>take</th>\n",
              "    </tr>\n",
              "  </thead>\n",
              "  <tbody>\n",
              "    <tr>\n",
              "      <th>0</th>\n",
              "      <td>1-100032-A-0.wav</td>\n",
              "      <td>1</td>\n",
              "      <td>0</td>\n",
              "      <td>dog</td>\n",
              "      <td>True</td>\n",
              "      <td>100032</td>\n",
              "      <td>A</td>\n",
              "    </tr>\n",
              "    <tr>\n",
              "      <th>1</th>\n",
              "      <td>1-100038-A-14.wav</td>\n",
              "      <td>1</td>\n",
              "      <td>14</td>\n",
              "      <td>chirping_birds</td>\n",
              "      <td>False</td>\n",
              "      <td>100038</td>\n",
              "      <td>A</td>\n",
              "    </tr>\n",
              "    <tr>\n",
              "      <th>2</th>\n",
              "      <td>1-100210-A-36.wav</td>\n",
              "      <td>1</td>\n",
              "      <td>36</td>\n",
              "      <td>vacuum_cleaner</td>\n",
              "      <td>False</td>\n",
              "      <td>100210</td>\n",
              "      <td>A</td>\n",
              "    </tr>\n",
              "    <tr>\n",
              "      <th>3</th>\n",
              "      <td>1-100210-B-36.wav</td>\n",
              "      <td>1</td>\n",
              "      <td>36</td>\n",
              "      <td>vacuum_cleaner</td>\n",
              "      <td>False</td>\n",
              "      <td>100210</td>\n",
              "      <td>B</td>\n",
              "    </tr>\n",
              "    <tr>\n",
              "      <th>4</th>\n",
              "      <td>1-101296-A-19.wav</td>\n",
              "      <td>1</td>\n",
              "      <td>19</td>\n",
              "      <td>thunderstorm</td>\n",
              "      <td>False</td>\n",
              "      <td>101296</td>\n",
              "      <td>A</td>\n",
              "    </tr>\n",
              "  </tbody>\n",
              "</table>\n",
              "</div>"
            ],
            "text/plain": [
              "            filename  fold  target        category  esc10  src_file take\n",
              "0   1-100032-A-0.wav     1       0             dog   True    100032    A\n",
              "1  1-100038-A-14.wav     1      14  chirping_birds  False    100038    A\n",
              "2  1-100210-A-36.wav     1      36  vacuum_cleaner  False    100210    A\n",
              "3  1-100210-B-36.wav     1      36  vacuum_cleaner  False    100210    B\n",
              "4  1-101296-A-19.wav     1      19    thunderstorm  False    101296    A"
            ]
          },
          "metadata": {
            "tags": []
          },
          "execution_count": 6
        }
      ]
    },
    {
      "cell_type": "code",
      "metadata": {
        "id": "0xQvv8z044j7"
      },
      "source": [
        "train = df[df['fold']!=5]\n",
        "valid = df[df['fold']==5]"
      ],
      "execution_count": 6,
      "outputs": []
    },
    {
      "cell_type": "code",
      "metadata": {
        "colab": {
          "base_uri": "https://localhost:8080/",
          "height": 0
        },
        "id": "ZMSwq6Vl45xZ",
        "outputId": "0b73c909-478d-4f6a-ae53-27b5aeff0870"
      },
      "source": [
        "wav, sr = librosa.load('audio/1-100032-A-0.wav', sr=None)\n",
        "print(f'Sampling rate of the audio is {sr} and length of the audio is {len(wav)/sr} seconds')"
      ],
      "execution_count": 7,
      "outputs": [
        {
          "output_type": "stream",
          "text": [
            "Sampling rate of the audio is 44100 and length of the audio is 5.0 seconds\n"
          ],
          "name": "stdout"
        }
      ]
    },
    {
      "cell_type": "code",
      "metadata": {
        "id": "wyJGyms148fa"
      },
      "source": [
        "def spec_to_image(spec, eps=1e-6):\n",
        "  mean = spec.mean()\n",
        "  std = spec.std()\n",
        "  spec_norm = (spec - mean) / (std + eps)\n",
        "  spec_min, spec_max = spec_norm.min(), spec_norm.max()\n",
        "  spec_scaled = 255 * (spec_norm - spec_min) / (spec_max - spec_min)\n",
        "  spec_scaled = spec_scaled.astype(np.uint8)\n",
        "  return spec_scaled"
      ],
      "execution_count": 8,
      "outputs": []
    },
    {
      "cell_type": "code",
      "metadata": {
        "id": "jR_0o9z-5JNW"
      },
      "source": [
        "def get_melspectrogram_db(file_path, sr=None, n_fft=2048, hop_length=512, n_mels=128, fmin=20, fmax=8300, top_db=80):\n",
        "  wav,sr = librosa.load(file_path,sr=sr)\n",
        "  if wav.shape[0]<5*sr:\n",
        "    wav=np.pad(wav,int(np.ceil((5*sr-wav.shape[0])/2)),mode='reflect')\n",
        "  else:\n",
        "    wav=wav[:5*sr]\n",
        "  spec=librosa.feature.melspectrogram(wav, sr=sr, n_fft=n_fft,\n",
        "              hop_length=hop_length,n_mels=n_mels,fmin=fmin,fmax=fmax)\n",
        "  spec_db=librosa.power_to_db(spec,top_db=top_db)\n",
        "  return spec_db"
      ],
      "execution_count": 9,
      "outputs": []
    },
    {
      "cell_type": "code",
      "metadata": {
        "id": "K7-bgdva5ND_"
      },
      "source": [
        "class ESC50Data(Dataset):\n",
        "  def __init__(self, base, df, in_col, out_col):\n",
        "    self.df = df\n",
        "    self.data = []\n",
        "    self.labels = []\n",
        "    self.c2i={}\n",
        "    self.i2c={}\n",
        "    self.categories = sorted(df[out_col].unique())\n",
        "    for i, category in enumerate(self.categories):\n",
        "      self.c2i[category]=i\n",
        "      self.i2c[i]=category\n",
        "    for ind in tqdm(range(len(df))):\n",
        "      row = df.iloc[ind]\n",
        "      file_path = os.path.join(base,row[in_col])\n",
        "      self.data.append(spec_to_image(get_melspectrogram_db(file_path))[np.newaxis,...])\n",
        "      self.labels.append(self.c2i[row['category']])\n",
        "  def __len__(self):\n",
        "    return len(self.data)\n",
        "  def __getitem__(self, idx):\n",
        "    return self.data[idx], self.labels[idx]"
      ],
      "execution_count": 10,
      "outputs": []
    },
    {
      "cell_type": "code",
      "metadata": {
        "id": "6x3Aovgr5QZ5"
      },
      "source": [
        "class ESC50Model(nn.Module):\n",
        "  def __init__(self, input_shape, batch_size=16, num_cats=50):\n",
        "    super().__init__()\n",
        "    self.conv1 = nn.Conv2d(1, 32, kernel_size = 3, stride=1, padding=1)\n",
        "    self.bn1 = nn.BatchNorm2d(32)\n",
        "    self.conv2 = nn.Conv2d(32, 32, kernel_size = 3, stride=1, padding=1)\n",
        "    self.bn2 = nn.BatchNorm2d(32)\n",
        "    self.conv3 = nn.Conv2d(32, 64, kernel_size=3, stride=1, padding=1)\n",
        "    self.bn3 = nn.BatchNorm2d(64)\n",
        "    self.conv4 = nn.Conv2d(64, 64, kernel_size=3, stride=1, padding=1)\n",
        "    self.bn4 = nn.BatchNorm2d(64)\n",
        "    self.conv5 = nn.Conv2d(64, 128, kernel_size=3, stride=1, padding=1)\n",
        "    self.bn5 = nn.BatchNorm2d(128)\n",
        "    self.conv6 = nn.Conv2d(128, 128, kernel_size=3, stride=1, padding=1)\n",
        "    self.bn6 = nn.BatchNorm2d(128)\n",
        "    self.conv7 = nn.Conv2d(128, 256, kernel_size=3, stride=1, padding=1)\n",
        "    self.bn7 = nn.BatchNorm2d(256)\n",
        "    self.conv8 = nn.Conv2d(256, 256, kernel_size=3, stride=1, padding=1)\n",
        "    self.bn8 = nn.BatchNorm2d(256)\n",
        "    self.dense1 = nn.Linear(256*(((input_shape[1]//2)//2)//2)*(((input_shape[2]//2)//2)//2),500)\n",
        "    self.dropout = nn.Dropout(0.5)\n",
        "    self.dense2 = nn.Linear(500, num_cats)\n",
        "  def forward(self, x):\n",
        "    x = self.conv1(x)\n",
        "    x = F.relu(self.bn1(x))\n",
        "    x = self.conv2(x)\n",
        "    x = F.relu(self.bn2(x))\n",
        "    x = F.max_pool2d(x, kernel_size=2) \n",
        "    x = self.conv3(x)\n",
        "    x = F.relu(self.bn3(x))\n",
        "    x = self.conv4(x)\n",
        "    x = F.relu(self.bn4(x))\n",
        "    x = F.max_pool2d(x, kernel_size=2)\n",
        "    x = self.conv5(x)\n",
        "    x = F.relu(self.bn5(x))\n",
        "    x = self.conv6(x)\n",
        "    x = F.relu(self.bn6(x))\n",
        "    x = F.max_pool2d(x, kernel_size=2)\n",
        "    x = self.conv7(x)\n",
        "    x = F.relu(self.bn7(x))\n",
        "    x = self.conv8(x)\n",
        "    x = F.relu(self.bn8(x))\n",
        "    x = x.view(x.size(0),-1)\n",
        "    x = F.relu(self.dense1(x))\n",
        "    x = self.dropout(x)\n",
        "    x = self.dense2(x)\n",
        "    return x"
      ],
      "execution_count": 11,
      "outputs": []
    },
    {
      "cell_type": "code",
      "metadata": {
        "colab": {
          "base_uri": "https://localhost:8080/",
          "height": 296
        },
        "id": "GtS1d8b45VM9",
        "outputId": "f7c3fa20-3ca7-46d1-dc1d-e7b6ddee9c5d"
      },
      "source": [
        "filename = valid[valid['category']=='clock_tick'].iloc[0]['filename']\n",
        "wav, sr = librosa.load('audio/'+filename, sr=None)\n",
        "librosa.display.waveplot(wav, sr)"
      ],
      "execution_count": 12,
      "outputs": [
        {
          "output_type": "execute_result",
          "data": {
            "text/plain": [
              "<matplotlib.collections.PolyCollection at 0x7f20ef0a4610>"
            ]
          },
          "metadata": {
            "tags": []
          },
          "execution_count": 12
        },
        {
          "output_type": "display_data",
          "data": {
            "image/png": "[encoded data removed]",
            "text/plain": [
              "<Figure size 432x288 with 1 Axes>"
            ]
          },
          "metadata": {
            "tags": [],
            "needs_background": "light"
          }
        }
      ]
    },
    {
      "cell_type": "code",
      "metadata": {
        "colab": {
          "base_uri": "https://localhost:8080/",
          "height": 269
        },
        "id": "fG0AQhgJ5YXD",
        "outputId": "2a650c44-1561-45ff-e520-6ce058f8690b"
      },
      "source": [
        "librosa.display.specshow(spec_to_image(get_melspectrogram_db('audio/'+filename, sr)), cmap='viridis')"
      ],
      "execution_count": 13,
      "outputs": [
        {
          "output_type": "execute_result",
          "data": {
            "text/plain": [
              "<matplotlib.collections.QuadMesh at 0x7f20ef052850>"
            ]
          },
          "metadata": {
            "tags": []
          },
          "execution_count": 13
        },
        {
          "output_type": "display_data",
          "data": {
            "image/png": "[encoded data removed]",
            "text/plain": [
              "<Figure size 432x288 with 1 Axes>"
            ]
          },
          "metadata": {
            "tags": []
          }
        }
      ]
    },
    {
      "cell_type": "code",
      "metadata": {
        "colab": {
          "base_uri": "https://localhost:8080/",
          "height": 117,
          "referenced_widgets": [
            "c2fb5310379041f3baa78644aca28093",
            "0c9227a45322416097b81d53969e92cd",
            "972de187c38241c891a5f38effd11368",
            "645b7ece5ef34f6bbc9406681b2018f7",
            "cee97a4edf174cce8e0bb6664f2a3f7d",
            "494a64e16d4c48949c0973c1f3896e85",
            "c5865725e177448ea29771025650f01c",
            "05b009a593e2492b9a75753287f97fa7"
          ]
        },
        "id": "FFtAG_yn5nb1",
        "outputId": "d9ff7eeb-835e-4d16-d130-eb862210f0f2"
      },
      "source": [
        "train_data = ESC50Data('audio', train, 'filename', 'category')"
      ],
      "execution_count": 14,
      "outputs": [
        {
          "output_type": "stream",
          "text": [
            "/usr/local/lib/python3.7/dist-packages/ipykernel_launcher.py:12: TqdmDeprecationWarning: This function will be removed in tqdm==5.0.0\n",
            "Please use `tqdm.notebook.tqdm` instead of `tqdm.tqdm_notebook`\n",
            "  if sys.path[0] == '':\n"
          ],
          "name": "stderr"
        },
        {
          "output_type": "display_data",
          "data": {
            "application/vnd.jupyter.widget-view+json": {
              "model_id": "c2fb5310379041f3baa78644aca28093",
              "version_minor": 0,
              "version_major": 2
            },
            "text/plain": [
              "HBox(children=(FloatProgress(value=0.0, max=1600.0), HTML(value='')))"
            ]
          },
          "metadata": {
            "tags": []
          }
        },
        {
          "output_type": "stream",
          "text": [
            "\n"
          ],
          "name": "stdout"
        }
      ]
    },
    {
      "cell_type": "code",
      "metadata": {
        "colab": {
          "base_uri": "https://localhost:8080/",
          "height": 117,
          "referenced_widgets": [
            "14f8bef9bbda4ad68c8c0420d8730b4d",
            "7afdcb1bc7e24630a671363e26950c34",
            "82c6a7319adf4c88b7a00bbb1491f62c",
            "86b8d8e05d854ccda23905095618532a",
            "bfd6e2979afc429fa1c07ef326c6494c",
            "fc9f74a247b447fa84e4e89da1e55347",
            "22cfc10755fc4c379e8874033d5a2eca",
            "7826a52945a04dbd87b9a2e9eb1d219b"
          ]
        },
        "id": "Q2ZzMBXj5sFr",
        "outputId": "73746ad5-b219-4421-caeb-1073755bddd2"
      },
      "source": [
        "valid_data = ESC50Data('audio', valid, 'filename', 'category')"
      ],
      "execution_count": 15,
      "outputs": [
        {
          "output_type": "stream",
          "text": [
            "/usr/local/lib/python3.7/dist-packages/ipykernel_launcher.py:12: TqdmDeprecationWarning: This function will be removed in tqdm==5.0.0\n",
            "Please use `tqdm.notebook.tqdm` instead of `tqdm.tqdm_notebook`\n",
            "  if sys.path[0] == '':\n"
          ],
          "name": "stderr"
        },
        {
          "output_type": "display_data",
          "data": {
            "application/vnd.jupyter.widget-view+json": {
              "model_id": "14f8bef9bbda4ad68c8c0420d8730b4d",
              "version_minor": 0,
              "version_major": 2
            },
            "text/plain": [
              "HBox(children=(FloatProgress(value=0.0, max=400.0), HTML(value='')))"
            ]
          },
          "metadata": {
            "tags": []
          }
        },
        {
          "output_type": "stream",
          "text": [
            "\n"
          ],
          "name": "stdout"
        }
      ]
    },
    {
      "cell_type": "code",
      "metadata": {
        "id": "kfg6bZFN5vQU"
      },
      "source": [
        "train_loader = DataLoader(train_data, batch_size=16, shuffle=True)\n",
        "valid_loader = DataLoader(valid_data, batch_size=16, shuffle=True)"
      ],
      "execution_count": 16,
      "outputs": []
    },
    {
      "cell_type": "code",
      "metadata": {
        "id": "zZ6hUdJd5xZa"
      },
      "source": [
        "if torch.cuda.is_available():\n",
        "  device=torch.device('cuda:0')\n",
        "else:\n",
        "  device=torch.device('cpu')"
      ],
      "execution_count": 17,
      "outputs": []
    },
    {
      "cell_type": "code",
      "metadata": {
        "colab": {
          "base_uri": "https://localhost:8080/",
          "height": 0
        },
        "id": "ucgxmstvA2Tl",
        "outputId": "0970a3d4-39ad-46ad-b632-8811449bff6a"
      },
      "source": [
        "print(device)"
      ],
      "execution_count": 18,
      "outputs": [
        {
          "output_type": "stream",
          "text": [
            "cuda:0\n"
          ],
          "name": "stdout"
        }
      ]
    },
    {
      "cell_type": "code",
      "metadata": {
        "id": "ZxSUFodw5zon"
      },
      "source": [
        "model = ESC50Model(input_shape=(1,128,431), batch_size=16, num_cats=50).to(device)"
      ],
      "execution_count": 19,
      "outputs": []
    },
    {
      "cell_type": "code",
      "metadata": {
        "id": "qBuQ-MCb518k"
      },
      "source": [
        "def setlr(optimizer, lr):\n",
        "  for param_group in optimizer.param_groups:\n",
        "    param_group['lr'] = lr\n",
        "  return optimizer"
      ],
      "execution_count": 20,
      "outputs": []
    },
    {
      "cell_type": "code",
      "metadata": {
        "id": "9QEprZ5D56S1"
      },
      "source": [
        "loss_fn = nn.CrossEntropyLoss()\n",
        "learning_rate = 2e-5\n",
        "optimizer = optim.Adam(model.parameters(), lr=learning_rate)\n",
        "epochs = 60\n",
        "train_losses = []\n",
        "valid_losses = []"
      ],
      "execution_count": 21,
      "outputs": []
    },
    {
      "cell_type": "code",
      "metadata": {
        "id": "vl46yxxp5_nK"
      },
      "source": [
        "def train(model, loss_fn, train_loader, valid_loader, epochs, optimizer, train_losses, valid_losses, change_lr=None):\n",
        "  for epoch in tqdm(range(1,epochs+1)):\n",
        "    model.train()\n",
        "    batch_losses=[]\n",
        "    if change_lr:\n",
        "      optimizer = change_lr(optimizer, epoch)\n",
        "    for i, data in enumerate(train_loader):\n",
        "      x, y = data\n",
        "      optimizer.zero_grad()\n",
        "      x = x.to(device, dtype=torch.float32)\n",
        "      y = y.to(device, dtype=torch.long)\n",
        "      y_hat = model(x)\n",
        "      loss = loss_fn(y_hat, y)\n",
        "      loss.backward()\n",
        "      batch_losses.append(loss.item())\n",
        "      optimizer.step()\n",
        "    train_losses.append(batch_losses)\n",
        "    print(f'Epoch - {epoch} Train-Loss : {np.mean(train_losses[-1])}')\n",
        "    model.eval()\n",
        "    batch_losses=[]\n",
        "    trace_y = []\n",
        "    trace_yhat = []\n",
        "    for i, data in enumerate(valid_loader):\n",
        "      x, y = data\n",
        "      x = x.to(device, dtype=torch.float32)\n",
        "      y = y.to(device, dtype=torch.long)\n",
        "      y_hat = model(x)\n",
        "      loss = loss_fn(y_hat, y)\n",
        "      trace_y.append(y.cpu().detach().numpy())\n",
        "      trace_yhat.append(y_hat.cpu().detach().numpy())      \n",
        "      batch_losses.append(loss.item())\n",
        "    valid_losses.append(batch_losses)\n",
        "    trace_y = np.concatenate(trace_y)\n",
        "    trace_yhat = np.concatenate(trace_yhat)\n",
        "    accuracy = np.mean(trace_yhat.argmax(axis=1)==trace_y)\n",
        "    print(f'Epoch - {epoch} Valid-Loss : {np.mean(valid_losses[-1])} Valid-Accuracy : {accuracy}')"
      ],
      "execution_count": 22,
      "outputs": []
    },
    {
      "cell_type": "code",
      "metadata": {
        "colab": {
          "base_uri": "https://localhost:8080/",
          "height": 2208,
          "referenced_widgets": [
            "46d52bb5df8145c79e4dbd2ea62a099d",
            "f0c7553f3d49425a8012de507c515951",
            "dd0c660b88404659b969754310de8823",
            "886275dec756405c98462fcba1cd69cc",
            "2a24c7ebd5c94844b15ef91701f0eb50",
            "4267496bc06a4170b0e2871e697913a4",
            "cb58f65c7fd44f2ea52cb9e0c9fdc112",
            "2b089e666b3e4ed28973c5ff9c68490a"
          ]
        },
        "id": "8lihje1g6E88",
        "outputId": "0f7a11c6-826b-437d-c996-33ab2324382c"
      },
      "source": [
        "def lr_decay(optimizer, epoch):\n",
        "  if epoch%20==0:\n",
        "    new_lr = learning_rate / (10**(epoch//20))\n",
        "    optimizer = setlr(optimizer, new_lr)\n",
        "    print(f'Changed learning rate to {new_lr}')\n",
        "  return optimizer\n",
        "train(model, loss_fn, train_loader, valid_loader, epochs, optimizer, train_losses, valid_losses, lr_decay)"
      ],
      "execution_count": 23,
      "outputs": [
        {
          "output_type": "stream",
          "text": [
            "/usr/local/lib/python3.7/dist-packages/ipykernel_launcher.py:2: TqdmDeprecationWarning: This function will be removed in tqdm==5.0.0\n",
            "Please use `tqdm.notebook.tqdm` instead of `tqdm.tqdm_notebook`\n",
            "  \n"
          ],
          "name": "stderr"
        },
        {
          "output_type": "display_data",
          "data": {
            "application/vnd.jupyter.widget-view+json": {
              "model_id": "46d52bb5df8145c79e4dbd2ea62a099d",
              "version_minor": 0,
              "version_major": 2
            },
            "text/plain": [
              "HBox(children=(FloatProgress(value=0.0, max=60.0), HTML(value='')))"
            ]
          },
          "metadata": {
            "tags": []
          }
        },
        {
          "output_type": "stream",
          "text": [
            "Epoch - 1 Train-Loss : 3.7331921291351318\n",
            "Epoch - 1 Valid-Loss : 3.2101055431365966 Valid-Accuracy : 0.205\n",
            "Epoch - 2 Train-Loss : 3.0392812299728393\n",
            "Epoch - 2 Valid-Loss : 2.7270143604278565 Valid-Accuracy : 0.3175\n",
            "Epoch - 3 Train-Loss : 2.438523339033127\n",
            "Epoch - 3 Valid-Loss : 2.355127935409546 Valid-Accuracy : 0.38\n",
            "Epoch - 4 Train-Loss : 1.9281241762638093\n",
            "Epoch - 4 Valid-Loss : 2.2556586360931394 Valid-Accuracy : 0.405\n",
            "Epoch - 5 Train-Loss : 1.4723050218820573\n",
            "Epoch - 5 Valid-Loss : 2.0679096031188964 Valid-Accuracy : 0.4425\n",
            "Epoch - 6 Train-Loss : 1.1206655579805374\n",
            "Epoch - 6 Valid-Loss : 2.0031998348236084 Valid-Accuracy : 0.4375\n",
            "Epoch - 7 Train-Loss : 0.8315801480412484\n",
            "Epoch - 7 Valid-Loss : 1.8844857597351075 Valid-Accuracy : 0.4825\n",
            "Epoch - 8 Train-Loss : 0.68346949249506\n",
            "Epoch - 8 Valid-Loss : 1.8935389375686646 Valid-Accuracy : 0.49\n",
            "Epoch - 9 Train-Loss : 0.5100122584402561\n",
            "Epoch - 9 Valid-Loss : 1.8242253303527831 Valid-Accuracy : 0.505\n",
            "Epoch - 10 Train-Loss : 0.41416567683219907\n",
            "Epoch - 10 Valid-Loss : 1.7812809562683105 Valid-Accuracy : 0.51\n",
            "Epoch - 11 Train-Loss : 0.3201325783133507\n",
            "Epoch - 11 Valid-Loss : 1.802276086807251 Valid-Accuracy : 0.4825\n",
            "Epoch - 12 Train-Loss : 0.2417286566272378\n",
            "Epoch - 12 Valid-Loss : 1.7796411609649658 Valid-Accuracy : 0.5275\n",
            "Epoch - 13 Train-Loss : 0.21685442712157965\n",
            "Epoch - 13 Valid-Loss : 1.8014056921005248 Valid-Accuracy : 0.5\n",
            "Epoch - 14 Train-Loss : 0.19313361056149006\n",
            "Epoch - 14 Valid-Loss : 1.7147721290588378 Valid-Accuracy : 0.535\n",
            "Epoch - 15 Train-Loss : 0.16861203707754613\n",
            "Epoch - 15 Valid-Loss : 1.7452379727363587 Valid-Accuracy : 0.5175\n",
            "Epoch - 16 Train-Loss : 0.149651722535491\n",
            "Epoch - 16 Valid-Loss : 1.7569420385360717 Valid-Accuracy : 0.4925\n",
            "Epoch - 17 Train-Loss : 0.11438353776931763\n",
            "Epoch - 17 Valid-Loss : 1.7208604001998902 Valid-Accuracy : 0.53\n",
            "Epoch - 18 Train-Loss : 0.09371105489321054\n",
            "Epoch - 18 Valid-Loss : 1.7400798273086548 Valid-Accuracy : 0.5\n",
            "Epoch - 19 Train-Loss : 0.08879002766683698\n",
            "Epoch - 19 Valid-Loss : 1.7695735120773315 Valid-Accuracy : 0.5175\n",
            "Changed learning rate to 2.0000000000000003e-06\n",
            "Epoch - 20 Train-Loss : 0.07492567189037799\n",
            "Epoch - 20 Valid-Loss : 1.7020730066299439 Valid-Accuracy : 0.5325\n",
            "Epoch - 21 Train-Loss : 0.06196299217641354\n",
            "Epoch - 21 Valid-Loss : 1.6888250589370728 Valid-Accuracy : 0.5275\n",
            "Epoch - 22 Train-Loss : 0.058323978437110784\n",
            "Epoch - 22 Valid-Loss : 1.6882285451889039 Valid-Accuracy : 0.515\n",
            "Epoch - 23 Train-Loss : 0.06042474108748138\n",
            "Epoch - 23 Valid-Loss : 1.687549877166748 Valid-Accuracy : 0.515\n",
            "Epoch - 24 Train-Loss : 0.05208664339501411\n",
            "Epoch - 24 Valid-Loss : 1.688320198059082 Valid-Accuracy : 0.52\n",
            "Epoch - 25 Train-Loss : 0.05818925628438592\n",
            "Epoch - 25 Valid-Loss : 1.6742620515823363 Valid-Accuracy : 0.525\n",
            "Epoch - 26 Train-Loss : 0.05211192160379142\n",
            "Epoch - 26 Valid-Loss : 1.6720613145828247 Valid-Accuracy : 0.535\n",
            "Epoch - 27 Train-Loss : 0.054000359158962966\n",
            "Epoch - 27 Valid-Loss : 1.685784523487091 Valid-Accuracy : 0.5175\n",
            "Epoch - 28 Train-Loss : 0.0483298428542912\n",
            "Epoch - 28 Valid-Loss : 1.67810040473938 Valid-Accuracy : 0.52\n",
            "Epoch - 29 Train-Loss : 0.04824115198105574\n",
            "Epoch - 29 Valid-Loss : 1.6708260774612427 Valid-Accuracy : 0.525\n",
            "Epoch - 30 Train-Loss : 0.04898898436687887\n",
            "Epoch - 30 Valid-Loss : 1.6778720378875733 Valid-Accuracy : 0.53\n",
            "Epoch - 31 Train-Loss : 0.04752178233582526\n",
            "Epoch - 31 Valid-Loss : 1.670408580303192 Valid-Accuracy : 0.5375\n",
            "Epoch - 32 Train-Loss : 0.051654479247517884\n",
            "Epoch - 32 Valid-Loss : 1.6673090147972107 Valid-Accuracy : 0.53\n",
            "Epoch - 33 Train-Loss : 0.04893293739994988\n",
            "Epoch - 33 Valid-Loss : 1.663678297996521 Valid-Accuracy : 0.5325\n",
            "Epoch - 34 Train-Loss : 0.0482286573573947\n",
            "Epoch - 34 Valid-Loss : 1.662581775188446 Valid-Accuracy : 0.5225\n",
            "Epoch - 35 Train-Loss : 0.045673141879960896\n",
            "Epoch - 35 Valid-Loss : 1.6926714825630187 Valid-Accuracy : 0.5275\n",
            "Epoch - 36 Train-Loss : 0.045057105645537374\n",
            "Epoch - 36 Valid-Loss : 1.671988730430603 Valid-Accuracy : 0.53\n",
            "Epoch - 37 Train-Loss : 0.04419893071055412\n",
            "Epoch - 37 Valid-Loss : 1.6728146266937256 Valid-Accuracy : 0.54\n",
            "Epoch - 38 Train-Loss : 0.04655879453755915\n",
            "Epoch - 38 Valid-Loss : 1.6707103443145752 Valid-Accuracy : 0.5425\n",
            "Epoch - 39 Train-Loss : 0.038897639843635264\n",
            "Epoch - 39 Valid-Loss : 1.6767774963378905 Valid-Accuracy : 0.5325\n",
            "Changed learning rate to 2.0000000000000002e-07\n",
            "Epoch - 40 Train-Loss : 0.03913361702114344\n",
            "Epoch - 40 Valid-Loss : 1.668640546798706 Valid-Accuracy : 0.525\n",
            "Epoch - 41 Train-Loss : 0.04262486428488046\n",
            "Epoch - 41 Valid-Loss : 1.6702391052246093 Valid-Accuracy : 0.5425\n",
            "Epoch - 42 Train-Loss : 0.04271803244482726\n",
            "Epoch - 42 Valid-Loss : 1.6763048839569092 Valid-Accuracy : 0.54\n",
            "Epoch - 43 Train-Loss : 0.04019346460700035\n",
            "Epoch - 43 Valid-Loss : 1.675564205646515 Valid-Accuracy : 0.535\n",
            "Epoch - 44 Train-Loss : 0.04205403664615005\n",
            "Epoch - 44 Valid-Loss : 1.6670390248298645 Valid-Accuracy : 0.5275\n",
            "Epoch - 45 Train-Loss : 0.0406445736112073\n",
            "Epoch - 45 Valid-Loss : 1.664699912071228 Valid-Accuracy : 0.5275\n",
            "Epoch - 46 Train-Loss : 0.03709061976522207\n",
            "Epoch - 46 Valid-Loss : 1.6671638441085816 Valid-Accuracy : 0.535\n",
            "Epoch - 47 Train-Loss : 0.03934206398203969\n",
            "Epoch - 47 Valid-Loss : 1.6527109932899475 Valid-Accuracy : 0.5375\n",
            "Epoch - 48 Train-Loss : 0.037697950480505824\n",
            "Epoch - 48 Valid-Loss : 1.659244828224182 Valid-Accuracy : 0.535\n",
            "Epoch - 49 Train-Loss : 0.04217378459637985\n",
            "Epoch - 49 Valid-Loss : 1.650409517288208 Valid-Accuracy : 0.545\n",
            "Epoch - 50 Train-Loss : 0.0377162069035694\n",
            "Epoch - 50 Valid-Loss : 1.6595399975776672 Valid-Accuracy : 0.5325\n",
            "Epoch - 51 Train-Loss : 0.03780425959266722\n",
            "Epoch - 51 Valid-Loss : 1.6496239233016967 Valid-Accuracy : 0.545\n",
            "Epoch - 52 Train-Loss : 0.04107997179497033\n",
            "Epoch - 52 Valid-Loss : 1.6511075162887574 Valid-Accuracy : 0.5375\n",
            "Epoch - 53 Train-Loss : 0.034163341857492924\n",
            "Epoch - 53 Valid-Loss : 1.6492765188217162 Valid-Accuracy : 0.535\n",
            "Epoch - 54 Train-Loss : 0.03779074857011437\n",
            "Epoch - 54 Valid-Loss : 1.6626251029968262 Valid-Accuracy : 0.5325\n",
            "Epoch - 55 Train-Loss : 0.03758093073032796\n",
            "Epoch - 55 Valid-Loss : 1.659576141834259 Valid-Accuracy : 0.5375\n",
            "Epoch - 56 Train-Loss : 0.038159787938930094\n",
            "Epoch - 56 Valid-Loss : 1.6518214297294618 Valid-Accuracy : 0.54\n",
            "Epoch - 57 Train-Loss : 0.039293843233026565\n",
            "Epoch - 57 Valid-Loss : 1.6566329622268676 Valid-Accuracy : 0.535\n",
            "Epoch - 58 Train-Loss : 0.04020636259112507\n",
            "Epoch - 58 Valid-Loss : 1.6444584369659423 Valid-Accuracy : 0.53\n",
            "Epoch - 59 Train-Loss : 0.042424970786087216\n",
            "Epoch - 59 Valid-Loss : 1.665461492538452 Valid-Accuracy : 0.535\n",
            "Changed learning rate to 2e-08\n",
            "Epoch - 60 Train-Loss : 0.0432982673170045\n",
            "Epoch - 60 Valid-Loss : 1.6702529835700988 Valid-Accuracy : 0.5325\n",
            "\n"
          ],
          "name": "stdout"
        }
      ]
    },
    {
      "cell_type": "code",
      "metadata": {
        "colab": {
          "base_uri": "https://localhost:8080/",
          "height": 391
        },
        "id": "A5-i-vSmGg4X",
        "outputId": "8008e4a5-01da-4c19-ee53-5c238ac7a0ce"
      },
      "source": [
        "tl = np.asarray(train_losses).ravel()\n",
        "vl = np.asarray(valid_losses).ravel()\n",
        "plt.figure(figsize=(12,6))\n",
        "plt.subplot(1,2,1)\n",
        "plt.plot(tl)\n",
        "plt.legend(['Train Loss'])\n",
        "plt.subplot(1,2,2)\n",
        "plt.plot(vl,'orange')\n",
        "plt.legend(['Valid Loss'])"
      ],
      "execution_count": 24,
      "outputs": [
        {
          "output_type": "execute_result",
          "data": {
            "text/plain": [
              "<matplotlib.legend.Legend at 0x7f20d0ff70d0>"
            ]
          },
          "metadata": {
            "tags": []
          },
          "execution_count": 24
        },
        {
          "output_type": "display_data",
          "data": {
            "image/png": "[encoded data removed]",
            "text/plain": [
              "<Figure size 864x432 with 2 Axes>"
            ]
          },
          "metadata": {
            "tags": [],
            "needs_background": "light"
          }
        }
      ]
    },
    {
      "cell_type": "code",
      "metadata": {
        "colab": {
          "base_uri": "https://localhost:8080/",
          "height": 83,
          "referenced_widgets": [
            "6f877876275948d1afb0302eafb0a865",
            "aebad955885746868e6ffa623b4142e6",
            "53acb2a6ba944c8a91030f4b24ac419e",
            "f94d976c3d284fefab53dea247b7d9c9",
            "fb9440d292254a01b858bbb88f85e2de",
            "40b1da803c8b46cfbcc051ce7d860e0c",
            "92a76b60576b41fa9ae1812e1d1691af",
            "e22585b7f5bd4105b960d38df87a6a1e"
          ]
        },
        "id": "azXOpa0gGn3M",
        "outputId": "c3af97e2-65f2-4728-acab-a3e4b6350361"
      },
      "source": [
        "from torchvision.models import resnet34\n",
        "resnet_model = resnet34(pretrained=True)\n",
        "resnet_model.fc = nn.Linear(512,50)\n",
        "resnet_model.conv1 = nn.Conv2d(1, 64, kernel_size=(7, 7), stride=(2, 2), padding=(3, 3), bias=False)\n",
        "resnet_model = resnet_model.to(device)"
      ],
      "execution_count": 25,
      "outputs": [
        {
          "output_type": "stream",
          "text": [
            "Downloading: \"https://download.pytorch.org/models/resnet34-333f7ec4.pth\" to /root/.cache/torch/hub/checkpoints/resnet34-333f7ec4.pth\n"
          ],
          "name": "stderr"
        },
        {
          "output_type": "display_data",
          "data": {
            "application/vnd.jupyter.widget-view+json": {
              "model_id": "6f877876275948d1afb0302eafb0a865",
              "version_minor": 0,
              "version_major": 2
            },
            "text/plain": [
              "HBox(children=(FloatProgress(value=0.0, max=87306240.0), HTML(value='')))"
            ]
          },
          "metadata": {
            "tags": []
          }
        },
        {
          "output_type": "stream",
          "text": [
            "\n"
          ],
          "name": "stdout"
        }
      ]
    },
    {
      "cell_type": "code",
      "metadata": {
        "colab": {
          "base_uri": "https://localhost:8080/",
          "height": 1000,
          "referenced_widgets": [
            "dbcfa26538e64a439dc6a1d78e839ba6",
            "4254c3c523d148f0a3462a1979d49fae",
            "fff1e08cd1da4624afaedc8e79774350",
            "8c9d1ec683294f138f947c22c03295a6",
            "3ea26e93118d47b1861d0226db0987f5",
            "b3b01b7a09ce438b871f327605d7f88a",
            "f914838256584c7db07f77c43c2dd8e7",
            "e9eb616d02264ff294a0e38bad662f3d"
          ]
        },
        "id": "vtsMMNE9GpSl",
        "outputId": "40cd8452-4ceb-4f4e-f4af-8eb72f447e79"
      },
      "source": [
        "learning_rate = 2e-4\n",
        "optimizer = optim.Adam(resnet_model.parameters(), lr=learning_rate)\n",
        "epochs = 50\n",
        "loss_fn = nn.CrossEntropyLoss()\n",
        "resnet_train_losses=[]\n",
        "resnet_valid_losses=[]\n",
        "def lr_decay(optimizer, epoch):\n",
        "  if epoch%10==0:\n",
        "    new_lr = learning_rate / (10**(epoch//10))\n",
        "    optimizer = setlr(optimizer, new_lr)\n",
        "    print(f'Changed learning rate to {new_lr}')\n",
        "  return optimizer\n",
        "train(resnet_model, loss_fn, train_loader, valid_loader, epochs, optimizer, resnet_train_losses, resnet_valid_losses, lr_decay)"
      ],
      "execution_count": 26,
      "outputs": [
        {
          "output_type": "stream",
          "text": [
            "/usr/local/lib/python3.7/dist-packages/ipykernel_launcher.py:2: TqdmDeprecationWarning: This function will be removed in tqdm==5.0.0\n",
            "Please use `tqdm.notebook.tqdm` instead of `tqdm.tqdm_notebook`\n",
            "  \n"
          ],
          "name": "stderr"
        },
        {
          "output_type": "display_data",
          "data": {
            "application/vnd.jupyter.widget-view+json": {
              "model_id": "dbcfa26538e64a439dc6a1d78e839ba6",
              "version_minor": 0,
              "version_major": 2
            },
            "text/plain": [
              "HBox(children=(FloatProgress(value=0.0, max=50.0), HTML(value='')))"
            ]
          },
          "metadata": {
            "tags": []
          }
        },
        {
          "output_type": "stream",
          "text": [
            "Epoch - 1 Train-Loss : 2.451817420721054\n",
            "Epoch - 1 Valid-Loss : 1.6399104976654053 Valid-Accuracy : 0.54\n",
            "Epoch - 2 Train-Loss : 1.1225686341524124\n",
            "Epoch - 2 Valid-Loss : 1.471606159210205 Valid-Accuracy : 0.555\n",
            "Epoch - 3 Train-Loss : 0.6672650861740113\n",
            "Epoch - 3 Valid-Loss : 1.3105535888671875 Valid-Accuracy : 0.6375\n",
            "Epoch - 4 Train-Loss : 0.4229533948004246\n",
            "Epoch - 4 Valid-Loss : 1.5102234983444214 Valid-Accuracy : 0.59\n",
            "Epoch - 5 Train-Loss : 0.3445495883375406\n",
            "Epoch - 5 Valid-Loss : 1.112137303352356 Valid-Accuracy : 0.7075\n",
            "Epoch - 6 Train-Loss : 0.22551575008779765\n",
            "Epoch - 6 Valid-Loss : 1.1062452936172484 Valid-Accuracy : 0.715\n",
            "Epoch - 7 Train-Loss : 0.17731969287618995\n",
            "Epoch - 7 Valid-Loss : 1.006642290353775 Valid-Accuracy : 0.7275\n",
            "Epoch - 8 Train-Loss : 0.179346297737211\n",
            "Epoch - 8 Valid-Loss : 1.3393234705924988 Valid-Accuracy : 0.7\n",
            "Epoch - 9 Train-Loss : 0.15003995141014456\n",
            "Epoch - 9 Valid-Loss : 1.3848585128784179 Valid-Accuracy : 0.685\n",
            "Changed learning rate to 2e-05\n",
            "Epoch - 10 Train-Loss : 0.07628970395307988\n",
            "Epoch - 10 Valid-Loss : 0.919775037765503 Valid-Accuracy : 0.785\n",
            "Epoch - 11 Train-Loss : 0.03517038128804415\n",
            "Epoch - 11 Valid-Loss : 0.8668161725997925 Valid-Accuracy : 0.785\n",
            "Epoch - 12 Train-Loss : 0.02879427470266819\n",
            "Epoch - 12 Valid-Loss : 0.8712870657444001 Valid-Accuracy : 0.7925\n",
            "Epoch - 13 Train-Loss : 0.023111356520093978\n",
            "Epoch - 13 Valid-Loss : 0.8407495963573456 Valid-Accuracy : 0.7975\n",
            "Epoch - 14 Train-Loss : 0.022198241585865617\n",
            "Epoch - 14 Valid-Loss : 0.8503950110077858 Valid-Accuracy : 0.8025\n",
            "Epoch - 15 Train-Loss : 0.017622789756860584\n",
            "Epoch - 15 Valid-Loss : 0.8715820282697677 Valid-Accuracy : 0.7925\n",
            "Epoch - 16 Train-Loss : 0.01337480983696878\n",
            "Epoch - 16 Valid-Loss : 0.8518099804222584 Valid-Accuracy : 0.785\n",
            "Epoch - 17 Train-Loss : 0.01605424004374072\n",
            "Epoch - 17 Valid-Loss : 0.8481327363848686 Valid-Accuracy : 0.8025\n",
            "Epoch - 18 Train-Loss : 0.015397535474039614\n",
            "Epoch - 18 Valid-Loss : 0.8867554903030396 Valid-Accuracy : 0.7925\n",
            "Epoch - 19 Train-Loss : 0.012469271776499227\n",
            "Epoch - 19 Valid-Loss : 0.8519172114133835 Valid-Accuracy : 0.795\n",
            "Changed learning rate to 2e-06\n",
            "Epoch - 20 Train-Loss : 0.010322088608518243\n",
            "Epoch - 20 Valid-Loss : 0.8332307714223862 Valid-Accuracy : 0.8\n",
            "Epoch - 21 Train-Loss : 0.010967464484274388\n",
            "Epoch - 21 Valid-Loss : 0.8620564734935761 Valid-Accuracy : 0.8025\n",
            "Epoch - 22 Train-Loss : 0.011897550686262548\n",
            "Epoch - 22 Valid-Loss : 0.8533602702617645 Valid-Accuracy : 0.7875\n",
            "Epoch - 23 Train-Loss : 0.013834678910207003\n",
            "Epoch - 23 Valid-Loss : 0.8306462454795838 Valid-Accuracy : 0.81\n",
            "Epoch - 24 Train-Loss : 0.008684400636702776\n",
            "Epoch - 24 Valid-Loss : 0.8469836401939392 Valid-Accuracy : 0.805\n",
            "Epoch - 25 Train-Loss : 0.011441110072191805\n",
            "Epoch - 25 Valid-Loss : 0.8329340159893036 Valid-Accuracy : 0.7975\n",
            "Epoch - 26 Train-Loss : 0.010632165255956352\n",
            "Epoch - 26 Valid-Loss : 0.8474982553720474 Valid-Accuracy : 0.8025\n",
            "Epoch - 27 Train-Loss : 0.012004914906574413\n",
            "Epoch - 27 Valid-Loss : 0.8391537594795228 Valid-Accuracy : 0.8075\n",
            "Epoch - 28 Train-Loss : 0.009476312748156489\n",
            "Epoch - 28 Valid-Loss : 0.8523053425550461 Valid-Accuracy : 0.8075\n",
            "Epoch - 29 Train-Loss : 0.008207441463600845\n",
            "Epoch - 29 Valid-Loss : 0.8302025231719017 Valid-Accuracy : 0.8\n",
            "Changed learning rate to 2.0000000000000002e-07\n",
            "Epoch - 30 Train-Loss : 0.011148581964662299\n",
            "Epoch - 30 Valid-Loss : 0.8420384529232979 Valid-Accuracy : 0.8\n",
            "Epoch - 31 Train-Loss : 0.009537492359522731\n",
            "Epoch - 31 Valid-Loss : 0.8472574666142464 Valid-Accuracy : 0.795\n",
            "Epoch - 32 Train-Loss : 0.008483896183315664\n",
            "Epoch - 32 Valid-Loss : 0.839039723277092 Valid-Accuracy : 0.7975\n",
            "Epoch - 33 Train-Loss : 0.010846129871206358\n",
            "Epoch - 33 Valid-Loss : 0.8249004977941513 Valid-Accuracy : 0.82\n",
            "Epoch - 34 Train-Loss : 0.011967699262313544\n",
            "Epoch - 34 Valid-Loss : 0.8352630376815796 Valid-Accuracy : 0.805\n",
            "Epoch - 35 Train-Loss : 0.00900910330354236\n",
            "Epoch - 35 Valid-Loss : 0.8441701136529446 Valid-Accuracy : 0.8\n",
            "Epoch - 36 Train-Loss : 0.009913157771807164\n",
            "Epoch - 36 Valid-Loss : 0.8451437002420426 Valid-Accuracy : 0.8\n",
            "Epoch - 37 Train-Loss : 0.01139217809541151\n",
            "Epoch - 37 Valid-Loss : 0.8243170009553432 Valid-Accuracy : 0.805\n",
            "Epoch - 38 Train-Loss : 0.009575980851659551\n",
            "Epoch - 38 Valid-Loss : 0.8294056624174118 Valid-Accuracy : 0.795\n",
            "Epoch - 39 Train-Loss : 0.009192070571007207\n",
            "Epoch - 39 Valid-Loss : 0.8554905241727829 Valid-Accuracy : 0.7925\n",
            "Changed learning rate to 2e-08\n",
            "Epoch - 40 Train-Loss : 0.008971040706383064\n",
            "Epoch - 40 Valid-Loss : 0.8497378957271576 Valid-Accuracy : 0.7975\n",
            "Epoch - 41 Train-Loss : 0.01221628085942939\n",
            "Epoch - 41 Valid-Loss : 0.8284570154547691 Valid-Accuracy : 0.8\n",
            "Epoch - 42 Train-Loss : 0.010171376223443076\n",
            "Epoch - 42 Valid-Loss : 0.8561940914392472 Valid-Accuracy : 0.795\n",
            "Epoch - 43 Train-Loss : 0.009909175075590611\n",
            "Epoch - 43 Valid-Loss : 0.845546599328518 Valid-Accuracy : 0.7975\n",
            "Epoch - 44 Train-Loss : 0.009477924472885207\n",
            "Epoch - 44 Valid-Loss : 0.8312393707036972 Valid-Accuracy : 0.815\n",
            "Epoch - 45 Train-Loss : 0.010230250232852995\n",
            "Epoch - 45 Valid-Loss : 0.8424841991066933 Valid-Accuracy : 0.805\n",
            "Epoch - 46 Train-Loss : 0.00933697100961581\n",
            "Epoch - 46 Valid-Loss : 0.8458330219984055 Valid-Accuracy : 0.7975\n",
            "Epoch - 47 Train-Loss : 0.009646906210109591\n",
            "Epoch - 47 Valid-Loss : 0.8418235713243485 Valid-Accuracy : 0.795\n",
            "Epoch - 48 Train-Loss : 0.010421264644246548\n",
            "Epoch - 48 Valid-Loss : 0.8313536357879638 Valid-Accuracy : 0.81\n",
            "Epoch - 49 Train-Loss : 0.010701844685245305\n",
            "Epoch - 49 Valid-Loss : 0.8333086448907853 Valid-Accuracy : 0.8075\n",
            "Changed learning rate to 2e-09\n",
            "Epoch - 50 Train-Loss : 0.008990264059975743\n",
            "Epoch - 50 Valid-Loss : 0.8380687460303307 Valid-Accuracy : 0.8025\n",
            "\n"
          ],
          "name": "stdout"
        }
      ]
    },
    {
      "cell_type": "code",
      "metadata": {
        "colab": {
          "base_uri": "https://localhost:8080/",
          "height": 391
        },
        "id": "5olXZLIyIxuj",
        "outputId": "27f28763-adff-445a-f69b-9e188ceb0c15"
      },
      "source": [
        "tl = np.asarray(resnet_train_losses).ravel()\n",
        "vl = np.asarray(resnet_valid_losses).ravel()\n",
        "plt.figure(figsize=(12,6))\n",
        "plt.subplot(1,2,1)\n",
        "plt.plot(tl)\n",
        "plt.legend(['Train Loss'])\n",
        "plt.subplot(1,2,2)\n",
        "plt.plot(vl,'orange')\n",
        "plt.legend(['Valid Loss'])"
      ],
      "execution_count": 27,
      "outputs": [
        {
          "output_type": "execute_result",
          "data": {
            "text/plain": [
              "<matplotlib.legend.Legend at 0x7f1f34e260d0>"
            ]
          },
          "metadata": {
            "tags": []
          },
          "execution_count": 27
        },
        {
          "output_type": "display_data",
          "data": {
            "image/png": "[encoded data removed]",
            "text/plain": [
              "<Figure size 864x432 with 2 Axes>"
            ]
          },
          "metadata": {
            "tags": [],
            "needs_background": "light"
          }
        }
      ]
    }
  ]
}