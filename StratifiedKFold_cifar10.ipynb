{
  "nbformat": 4,
  "nbformat_minor": 0,
  "metadata": {
    "colab": {
      "name": "k-fold_cifar10.ipynb",
      "provenance": [],
      "collapsed_sections": []
    },
    "kernelspec": {
      "name": "python3",
      "display_name": "Python 3"
    },
    "language_info": {
      "name": "python"
    },
    "accelerator": "GPU"
  },
  "cells": [
    {
      "cell_type": "code",
      "metadata": {
        "id": "X3pGNNxbtIAA"
      },
      "source": [
        "from tensorflow.keras.datasets import cifar10\n",
        "from tensorflow.keras.models import Sequential\n",
        "from tensorflow.keras.layers import Dense, Flatten, Conv2D, MaxPooling2D\n",
        "from tensorflow.keras.losses import sparse_categorical_crossentropy\n",
        "from tensorflow.keras.optimizers import Adam\n",
        "from sklearn.model_selection import StratifiedKFold\n",
        "from sklearn.model_selection import train_test_split\n",
        "import numpy as np"
      ],
      "execution_count": 1,
      "outputs": []
    },
    {
      "cell_type": "code",
      "metadata": {
        "id": "1SQdSVeWuRyt",
        "outputId": "3555c726-e48d-4bf3-d2a6-f150ee057e04",
        "colab": {
          "base_uri": "https://localhost:8080/"
        }
      },
      "source": [
        "(input_train, target_train), (input_test, target_test) = cifar10.load_data()\n",
        "# Parse numbers as floats\n",
        "input_train = input_train.astype('float32')\n",
        "input_test = input_test.astype('float32')\n",
        "\n",
        "# Normalize data\n",
        "input_train = input_train / 255\n",
        "input_test = input_test / 255\n",
        "\n",
        "# Merge inputs and targets\n",
        "inputs = np.concatenate((input_train, input_test), axis=0)\n",
        "targets = np.concatenate((target_train, target_test), axis=0)"
      ],
      "execution_count": 2,
      "outputs": [
        {
          "output_type": "stream",
          "name": "stdout",
          "text": [
            "Downloading data from https://www.cs.toronto.edu/~kriz/cifar-10-python.tar.gz\n",
            "170500096/170498071 [==============================] - 2s 0us/step\n",
            "170508288/170498071 [==============================] - 2s 0us/step\n"
          ]
        }
      ]
    },
    {
      "cell_type": "code",
      "metadata": {
        "colab": {
          "base_uri": "https://localhost:8080/"
        },
        "id": "Q5N9mVa4uoL5",
        "outputId": "ce081a5b-4be7-49ca-ff75-a49a22375b34"
      },
      "source": [
        "input_train.shape[1:]"
      ],
      "execution_count": null,
      "outputs": [
        {
          "output_type": "execute_result",
          "data": {
            "text/plain": [
              "(32, 32, 3)"
            ]
          },
          "metadata": {
            "tags": []
          },
          "execution_count": 10
        }
      ]
    },
    {
      "cell_type": "code",
      "metadata": {
        "colab": {
          "base_uri": "https://localhost:8080/"
        },
        "id": "XWBKO8dkxehl",
        "outputId": "3743d204-9fc7-4b7a-8ed9-6687798c226b"
      },
      "source": [
        "inputs[1].shape"
      ],
      "execution_count": null,
      "outputs": [
        {
          "output_type": "execute_result",
          "data": {
            "text/plain": [
              "(32, 32, 3)"
            ]
          },
          "metadata": {
            "tags": []
          },
          "execution_count": 15
        }
      ]
    },
    {
      "cell_type": "code",
      "metadata": {
        "colab": {
          "base_uri": "https://localhost:8080/"
        },
        "id": "6421zHqpx2Qb",
        "outputId": "6988b614-8112-43e3-d15b-234ece00c639"
      },
      "source": [
        "targets[1].shape"
      ],
      "execution_count": null,
      "outputs": [
        {
          "output_type": "execute_result",
          "data": {
            "text/plain": [
              "(1,)"
            ]
          },
          "metadata": {
            "tags": []
          },
          "execution_count": 16
        }
      ]
    },
    {
      "cell_type": "code",
      "metadata": {
        "id": "ShGmIFOZ0db_"
      },
      "source": [
        "import tensorflow\n",
        "from tensorflow.keras import initializers"
      ],
      "execution_count": 3,
      "outputs": []
    },
    {
      "cell_type": "code",
      "metadata": {
        "id": "1iEIvHpa5l5m"
      },
      "source": [
        "def get_model():\n",
        "  model= Sequential([\n",
        "        Conv2D(32, (3,3), activation='relu', input_shape=(32,32,3),kernel_initializer=initializers.GlorotUniform(seed=None)),\n",
        "        MaxPooling2D((2,2)),\n",
        "        Conv2D(64, (3,3), activation='relu',kernel_initializer=initializers.GlorotUniform(seed=None)),\n",
        "        MaxPooling2D((2,2)),\n",
        "        Conv2D(128, (3,3), activation='relu', kernel_initializer=initializers.GlorotUniform(seed=None)),\n",
        "        MaxPooling2D((2,2)),\n",
        "        Flatten(),\n",
        "        Dense(256, activation='relu', kernel_initializer=initializers.GlorotUniform(seed=None)),\n",
        "        Dense(128, activation='relu', kernel_initializer=initializers.GlorotUniform(seed=None)),\n",
        "        Dense(10, activation='softmax', kernel_initializer=initializers.GlorotUniform(seed=None))\n",
        "\n",
        "\n",
        "      ])\n",
        "  opt = tensorflow.keras.optimizers.Adam(learning_rate=0.005)\n",
        "  acc = tensorflow.keras.metrics.SparseCategoricalAccuracy()\n",
        "  mae = tensorflow.keras.metrics.MeanAbsoluteError()\n",
        "  model.compile(optimizer= opt,\n",
        "      loss = 'sparse_categorical_crossentropy', #sparse_categorical_crossentropy --> data labels are integers\n",
        "      metrics= [acc, mae]\n",
        "  )\n",
        "  return model\n",
        "  \n"
      ],
      "execution_count": 4,
      "outputs": []
    },
    {
      "cell_type": "code",
      "metadata": {
        "id": "U6gGonYJ22Lj",
        "outputId": "3045f6b5-3ca6-40fc-e656-fa413719e5c4",
        "colab": {
          "base_uri": "https://localhost:8080/"
        }
      },
      "source": [
        "kfold = StratifiedKFold(n_splits=4, shuffle=True)\n",
        "cvscores = []\n",
        "for train, test in kfold.split(inputs, targets):\n",
        "\tmodel= get_model()\n",
        "\n",
        "\tmodel.fit(inputs[train], targets[train], epochs=8, batch_size=256, verbose=0)\n",
        "\t# evaluate the model\n",
        "\tscores = model.evaluate(inputs[test], targets[test], verbose=0)\n",
        "\tprint(\"%s: %.2f%%\" % (model.metrics_names[1], scores[1]*100))\n",
        "\tcvscores.append(scores[1] * 100)\n",
        "print(\"%.2f%% (+/- %.2f%%)\" % (np.mean(cvscores), np.std(cvscores)))"
      ],
      "execution_count": 5,
      "outputs": [
        {
          "output_type": "stream",
          "name": "stdout",
          "text": [
            "sparse_categorical_accuracy: 65.23%\n",
            "sparse_categorical_accuracy: 62.43%\n",
            "sparse_categorical_accuracy: 65.67%\n",
            "sparse_categorical_accuracy: 62.43%\n",
            "63.94% (+/- 1.52%)\n"
          ]
        }
      ]
    },
    {
      "cell_type": "code",
      "metadata": {
        "colab": {
          "base_uri": "https://localhost:8080/"
        },
        "id": "vrOIUPhd6bxI",
        "outputId": "3adbf07e-1962-442a-ab22-db06b556c694"
      },
      "source": [
        "model=get_model()\n",
        "history = model.fit(input_train, target_train,epochs=8, batch_size=256, verbose=2)"
      ],
      "execution_count": null,
      "outputs": [
        {
          "output_type": "stream",
          "text": [
            "Epoch 1/8\n",
            "196/196 - 2s - loss: 1.6985 - sparse_categorical_accuracy: 0.3643 - mean_absolute_error: 4.4200\n",
            "Epoch 2/8\n",
            "196/196 - 1s - loss: 1.2943 - sparse_categorical_accuracy: 0.5339 - mean_absolute_error: 4.4200\n",
            "Epoch 3/8\n",
            "196/196 - 1s - loss: 1.1270 - sparse_categorical_accuracy: 0.5994 - mean_absolute_error: 4.4200\n",
            "Epoch 4/8\n",
            "196/196 - 1s - loss: 1.0171 - sparse_categorical_accuracy: 0.6412 - mean_absolute_error: 4.4200\n",
            "Epoch 5/8\n",
            "196/196 - 1s - loss: 0.9343 - sparse_categorical_accuracy: 0.6725 - mean_absolute_error: 4.4200\n",
            "Epoch 6/8\n",
            "196/196 - 1s - loss: 0.8742 - sparse_categorical_accuracy: 0.6931 - mean_absolute_error: 4.4200\n",
            "Epoch 7/8\n",
            "196/196 - 1s - loss: 0.8275 - sparse_categorical_accuracy: 0.7095 - mean_absolute_error: 4.4200\n",
            "Epoch 8/8\n",
            "196/196 - 1s - loss: 0.7756 - sparse_categorical_accuracy: 0.7257 - mean_absolute_error: 4.4200\n"
          ],
          "name": "stdout"
        }
      ]
    }
  ]
}