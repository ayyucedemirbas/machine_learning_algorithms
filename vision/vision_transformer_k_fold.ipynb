{
  "nbformat": 4,
  "nbformat_minor": 0,
  "metadata": {
    "colab": {
      "name": "vision_transformer_k_fold.ipynb",
      "provenance": []
    },
    "kernelspec": {
      "name": "python3",
      "display_name": "Python 3"
    },
    "language_info": {
      "name": "python"
    },
    "accelerator": "GPU"
  },
  "cells": [
    {
      "cell_type": "code",
      "execution_count": 1,
      "metadata": {
        "colab": {
          "base_uri": "https://localhost:8080/"
        },
        "id": "PJvJi4oitbta",
        "outputId": "94adb3af-42ec-4d55-8fa4-f32a6196307d"
      },
      "outputs": [
        {
          "output_type": "stream",
          "name": "stdout",
          "text": [
            "Collecting tensorflow-addons\n",
            "  Downloading tensorflow_addons-0.16.1-cp37-cp37m-manylinux_2_12_x86_64.manylinux2010_x86_64.whl (1.1 MB)\n",
            "\u001b[K     |████████████████████████████████| 1.1 MB 3.9 MB/s \n",
            "\u001b[?25hRequirement already satisfied: typeguard>=2.7 in /usr/local/lib/python3.7/dist-packages (from tensorflow-addons) (2.7.1)\n",
            "Installing collected packages: tensorflow-addons\n",
            "Successfully installed tensorflow-addons-0.16.1\n"
          ]
        }
      ],
      "source": [
        "!pip install -U tensorflow-addons"
      ]
    },
    {
      "cell_type": "code",
      "source": [
        "import numpy as np\n",
        "import tensorflow as tf\n",
        "from tensorflow import keras\n",
        "from tensorflow.keras import layers\n",
        "import tensorflow_addons as tfa\n",
        "from sklearn.model_selection import StratifiedKFold"
      ],
      "metadata": {
        "id": "gw1mXcp8thsm"
      },
      "execution_count": 2,
      "outputs": []
    },
    {
      "cell_type": "code",
      "source": [
        "num_classes = 100\n",
        "input_shape = (32, 32, 3)\n",
        "\n",
        "(x_train, y_train), (x_test, y_test) = keras.datasets.cifar100.load_data()\n",
        "\n",
        "print(f\"x_train shape: {x_train.shape} - y_train shape: {y_train.shape}\")\n",
        "print(f\"x_test shape: {x_test.shape} - y_test shape: {y_test.shape}\")"
      ],
      "metadata": {
        "colab": {
          "base_uri": "https://localhost:8080/"
        },
        "id": "b6-HYSKDtpSj",
        "outputId": "caed4fe6-6119-4394-8fd3-a4dfed755e67"
      },
      "execution_count": 3,
      "outputs": [
        {
          "output_type": "stream",
          "name": "stdout",
          "text": [
            "Downloading data from https://www.cs.toronto.edu/~kriz/cifar-100-python.tar.gz\n",
            "169009152/169001437 [==============================] - 2s 0us/step\n",
            "169017344/169001437 [==============================] - 2s 0us/step\n",
            "x_train shape: (50000, 32, 32, 3) - y_train shape: (50000, 1)\n",
            "x_test shape: (10000, 32, 32, 3) - y_test shape: (10000, 1)\n"
          ]
        }
      ]
    },
    {
      "cell_type": "code",
      "source": [
        "learning_rate = 0.001\n",
        "weight_decay = 0.0001\n",
        "batch_size = 256\n",
        "num_epochs = 100\n",
        "image_size = 72  # We'll resize input images to this size\n",
        "patch_size = 6  # Size of the patches to be extract from the input images\n",
        "num_patches = (image_size // patch_size) ** 2\n",
        "projection_dim = 64\n",
        "num_heads = 4\n",
        "transformer_units = [\n",
        "    projection_dim * 2,\n",
        "    projection_dim,\n",
        "]  # Size of the transformer layers\n",
        "transformer_layers = 8\n",
        "mlp_head_units = [2048, 1024]  # Size of the dense layers of the final classifier"
      ],
      "metadata": {
        "id": "Bbtcxm6Mtu6h"
      },
      "execution_count": 4,
      "outputs": []
    },
    {
      "cell_type": "code",
      "source": [
        "data_augmentation = keras.Sequential(\n",
        "    [\n",
        "        layers.Normalization(),\n",
        "        layers.Resizing(image_size, image_size),\n",
        "        layers.RandomFlip(\"horizontal\"),\n",
        "        layers.RandomRotation(factor=0.02),\n",
        "        layers.RandomZoom(\n",
        "            height_factor=0.2, width_factor=0.2\n",
        "        ),\n",
        "    ],\n",
        "    name=\"data_augmentation\",\n",
        ")\n",
        "# Compute the mean and the variance of the training data for normalization.\n",
        "data_augmentation.layers[0].adapt(x_train)"
      ],
      "metadata": {
        "id": "LqcJzU2xtygI"
      },
      "execution_count": 5,
      "outputs": []
    },
    {
      "cell_type": "code",
      "source": [
        "def mlp(x, hidden_units, dropout_rate):\n",
        "    for units in hidden_units:\n",
        "        x = layers.Dense(units, activation=tf.nn.gelu)(x)\n",
        "        x = layers.Dropout(dropout_rate)(x)\n",
        "    return x"
      ],
      "metadata": {
        "id": "b8rsxTi9t4kD"
      },
      "execution_count": 6,
      "outputs": []
    },
    {
      "cell_type": "code",
      "source": [
        "class Patches(layers.Layer):\n",
        "    def __init__(self, patch_size):\n",
        "        super(Patches, self).__init__()\n",
        "        self.patch_size = patch_size\n",
        "\n",
        "    def call(self, images):\n",
        "        batch_size = tf.shape(images)[0]\n",
        "        patches = tf.image.extract_patches(\n",
        "            images=images,\n",
        "            sizes=[1, self.patch_size, self.patch_size, 1],\n",
        "            strides=[1, self.patch_size, self.patch_size, 1],\n",
        "            rates=[1, 1, 1, 1],\n",
        "            padding=\"VALID\",\n",
        "        )\n",
        "        patch_dims = patches.shape[-1]\n",
        "        patches = tf.reshape(patches, [batch_size, -1, patch_dims])\n",
        "        return patches"
      ],
      "metadata": {
        "id": "k2gTVFf2t60e"
      },
      "execution_count": 7,
      "outputs": []
    },
    {
      "cell_type": "code",
      "source": [
        "import matplotlib.pyplot as plt\n",
        "\n",
        "plt.figure(figsize=(4, 4))\n",
        "image = x_train[np.random.choice(range(x_train.shape[0]))]\n",
        "plt.imshow(image.astype(\"uint8\"))\n",
        "plt.axis(\"off\")\n",
        "\n",
        "resized_image = tf.image.resize(\n",
        "    tf.convert_to_tensor([image]), size=(image_size, image_size)\n",
        ")\n",
        "patches = Patches(patch_size)(resized_image)\n",
        "print(f\"Image size: {image_size} X {image_size}\")\n",
        "print(f\"Patch size: {patch_size} X {patch_size}\")\n",
        "print(f\"Patches per image: {patches.shape[1]}\")\n",
        "print(f\"Elements per patch: {patches.shape[-1]}\")\n",
        "\n",
        "n = int(np.sqrt(patches.shape[1]))\n",
        "plt.figure(figsize=(4, 4))\n",
        "for i, patch in enumerate(patches[0]):\n",
        "    ax = plt.subplot(n, n, i + 1)\n",
        "    patch_img = tf.reshape(patch, (patch_size, patch_size, 3))\n",
        "    plt.imshow(patch_img.numpy().astype(\"uint8\"))\n",
        "    plt.axis(\"off\")"
      ],
      "metadata": {
        "colab": {
          "base_uri": "https://localhost:8080/",
          "height": 550
        },
        "id": "1p-ITgd5t9ua",
        "outputId": "d97bcd10-9d4c-42db-c8a4-a65efb562301"
      },
      "execution_count": 8,
      "outputs": [
        {
          "output_type": "stream",
          "name": "stdout",
          "text": [
            "Image size: 72 X 72\n",
            "Patch size: 6 X 6\n",
            "Patches per image: 144\n",
            "Elements per patch: 108\n"
          ]
        },
        {
          "output_type": "display_data",
          "data": {
            "text/plain": [
              "<Figure size 288x288 with 1 Axes>"
            ],
            "image/png": "[encoded data removed]"
          },
          "metadata": {
            "needs_background": "light"
          }
        },
        {
          "output_type": "display_data",
          "data": {
            "text/plain": [
              "<Figure size 288x288 with 144 Axes>"
            ],
            "image/png": "[encoded data removed]"
          },
          "metadata": {
            "needs_background": "light"
          }
        }
      ]
    },
    {
      "cell_type": "code",
      "source": [
        "class PatchEncoder(layers.Layer):\n",
        "    def __init__(self, num_patches, projection_dim):\n",
        "        super(PatchEncoder, self).__init__()\n",
        "        self.num_patches = num_patches\n",
        "        self.projection = layers.Dense(units=projection_dim)\n",
        "        self.position_embedding = layers.Embedding(\n",
        "            input_dim=num_patches, output_dim=projection_dim\n",
        "        )\n",
        "\n",
        "    def call(self, patch):\n",
        "        positions = tf.range(start=0, limit=self.num_patches, delta=1)\n",
        "        encoded = self.projection(patch) + self.position_embedding(positions)\n",
        "        return encoded"
      ],
      "metadata": {
        "id": "XkrHD-eeuAyU"
      },
      "execution_count": 9,
      "outputs": []
    },
    {
      "cell_type": "code",
      "source": [
        "def create_vit_classifier():\n",
        "    inputs = layers.Input(shape=input_shape)\n",
        "    # Augment data.\n",
        "    augmented = data_augmentation(inputs)\n",
        "    # Create patches.\n",
        "    patches = Patches(patch_size)(augmented)\n",
        "    # Encode patches.\n",
        "    encoded_patches = PatchEncoder(num_patches, projection_dim)(patches)\n",
        "\n",
        "    # Create multiple layers of the Transformer block.\n",
        "    for _ in range(transformer_layers):\n",
        "        # Layer normalization 1.\n",
        "        x1 = layers.LayerNormalization(epsilon=1e-6)(encoded_patches)\n",
        "        # Create a multi-head attention layer.\n",
        "        attention_output = layers.MultiHeadAttention(\n",
        "            num_heads=num_heads, key_dim=projection_dim, dropout=0.1\n",
        "        )(x1, x1)\n",
        "        # Skip connection 1.\n",
        "        x2 = layers.Add()([attention_output, encoded_patches])\n",
        "        # Layer normalization 2.\n",
        "        x3 = layers.LayerNormalization(epsilon=1e-6)(x2)\n",
        "        # MLP.\n",
        "        x3 = mlp(x3, hidden_units=transformer_units, dropout_rate=0.1)\n",
        "        # Skip connection 2.\n",
        "        encoded_patches = layers.Add()([x3, x2])\n",
        "\n",
        "    # Create a [batch_size, projection_dim] tensor.\n",
        "    representation = layers.LayerNormalization(epsilon=1e-6)(encoded_patches)\n",
        "    representation = layers.Flatten()(representation)\n",
        "    representation = layers.Dropout(0.5)(representation)\n",
        "    # Add MLP.\n",
        "    features = mlp(representation, hidden_units=mlp_head_units, dropout_rate=0.5)\n",
        "    # Classify outputs.\n",
        "    logits = layers.Dense(num_classes)(features)\n",
        "    # Create the Keras model.\n",
        "    model = keras.Model(inputs=inputs, outputs=logits)\n",
        "    return model"
      ],
      "metadata": {
        "id": "Z35WfjlduDPy"
      },
      "execution_count": 10,
      "outputs": []
    },
    {
      "cell_type": "code",
      "source": [
        "def run_experiment(model):\n",
        "    optimizer = tfa.optimizers.AdamW(\n",
        "        learning_rate=learning_rate, weight_decay=weight_decay\n",
        "    )\n",
        "\n",
        "    model.compile(\n",
        "        optimizer=optimizer,\n",
        "        loss=keras.losses.SparseCategoricalCrossentropy(from_logits=True),\n",
        "        metrics=[\n",
        "            keras.metrics.SparseCategoricalAccuracy(name=\"accuracy\"),\n",
        "            keras.metrics.SparseTopKCategoricalAccuracy(5, name=\"top-5-accuracy\"),\n",
        "        ],\n",
        "    )\n",
        "\n",
        "    checkpoint_filepath = \"/tmp/checkpoint\"\n",
        "    checkpoint_callback = keras.callbacks.ModelCheckpoint(\n",
        "        checkpoint_filepath,\n",
        "        monitor=\"val_accuracy\",\n",
        "        save_best_only=True,\n",
        "        save_weights_only=True,\n",
        "    )\n",
        "\n",
        "    inputs = np.concatenate((x_train, x_test), axis=0)\n",
        "    targets = np.concatenate((y_train, y_test), axis=0)\n",
        "    kfold = StratifiedKFold(n_splits=4, shuffle=True)\n",
        "    cvscores = []\n",
        "    for train, test in kfold.split(inputs, targets):\n",
        "      model.fit(\n",
        "        inputs[train], \n",
        "        targets[train],\n",
        "        batch_size=batch_size,\n",
        "        epochs=num_epochs,\n",
        "        validation_split=0.2,\n",
        "        callbacks=[checkpoint_callback],\n",
        "       )\n",
        "      scores = model.evaluate(inputs[test], targets[test], verbose=0)\n",
        "      print(\"%s: %.2f%%\" % (model.metrics_names[1], scores[1]*100))\n",
        "      cvscores.append(scores[1] * 100)\n",
        "     \n",
        "    print(\"Train accuracy:\") \n",
        "    print(\"%.2f%% (+/- %.2f%%)\" % (np.mean(cvscores), np.std(cvscores)))\n",
        "    model.load_weights(checkpoint_filepath)\n",
        "    _, accuracy, top_5_accuracy = model.evaluate(x_test, y_test)\n",
        "    print(f\"Test accuracy: {round(accuracy * 100, 2)}%\")\n",
        "    print(f\"Test top 5 accuracy: {round(top_5_accuracy * 100, 2)}%\")\n",
        "\n"
      ],
      "metadata": {
        "id": "rbeeFlS_uF6F"
      },
      "execution_count": 12,
      "outputs": []
    },
    {
      "cell_type": "code",
      "source": [
        "vit_classifier = create_vit_classifier()\n",
        "run_experiment(vit_classifier)"
      ],
      "metadata": {
        "colab": {
          "base_uri": "https://localhost:8080/"
        },
        "id": "SF_4eDdZuTwh",
        "outputId": "0af5c839-81de-4f9b-bf3e-21900e400e61"
      },
      "execution_count": null,
      "outputs": [
        {
          "output_type": "stream",
          "name": "stdout",
          "text": [
            "Epoch 1/100\n",
            "141/141 [==============================] - 69s 403ms/step - loss: 4.5280 - accuracy: 0.0424 - top-5-accuracy: 0.1512 - val_loss: 3.9542 - val_accuracy: 0.1028 - val_top-5-accuracy: 0.2981\n",
            "Epoch 2/100\n",
            "141/141 [==============================] - 56s 395ms/step - loss: 3.9848 - accuracy: 0.0895 - top-5-accuracy: 0.2799 - val_loss: 3.5766 - val_accuracy: 0.1570 - val_top-5-accuracy: 0.4067\n",
            "Epoch 3/100\n",
            "141/141 [==============================] - 56s 400ms/step - loss: 3.7119 - accuracy: 0.1273 - top-5-accuracy: 0.3609 - val_loss: 3.3564 - val_accuracy: 0.1933 - val_top-5-accuracy: 0.4739\n",
            "Epoch 4/100\n",
            "141/141 [==============================] - 57s 405ms/step - loss: 3.5316 - accuracy: 0.1587 - top-5-accuracy: 0.4126 - val_loss: 3.1930 - val_accuracy: 0.2323 - val_top-5-accuracy: 0.5222\n",
            "Epoch 5/100\n",
            "141/141 [==============================] - 58s 408ms/step - loss: 3.3789 - accuracy: 0.1814 - top-5-accuracy: 0.4574 - val_loss: 3.0549 - val_accuracy: 0.2574 - val_top-5-accuracy: 0.5474\n",
            "Epoch 6/100\n",
            "141/141 [==============================] - 58s 410ms/step - loss: 3.2615 - accuracy: 0.2021 - top-5-accuracy: 0.4882 - val_loss: 2.9536 - val_accuracy: 0.2728 - val_top-5-accuracy: 0.5737\n",
            "Epoch 7/100\n",
            "141/141 [==============================] - 58s 409ms/step - loss: 3.1416 - accuracy: 0.2233 - top-5-accuracy: 0.5209 - val_loss: 2.8868 - val_accuracy: 0.2863 - val_top-5-accuracy: 0.5838\n",
            "Epoch 8/100\n",
            "141/141 [==============================] - 58s 409ms/step - loss: 3.0303 - accuracy: 0.2501 - top-5-accuracy: 0.5503 - val_loss: 2.7727 - val_accuracy: 0.3080 - val_top-5-accuracy: 0.6097\n",
            "Epoch 9/100\n",
            "141/141 [==============================] - 58s 410ms/step - loss: 2.9329 - accuracy: 0.2653 - top-5-accuracy: 0.5703 - val_loss: 2.6934 - val_accuracy: 0.3207 - val_top-5-accuracy: 0.6274\n",
            "Epoch 10/100\n",
            "141/141 [==============================] - 58s 410ms/step - loss: 2.8399 - accuracy: 0.2862 - top-5-accuracy: 0.5961 - val_loss: 2.6094 - val_accuracy: 0.3397 - val_top-5-accuracy: 0.6413\n",
            "Epoch 11/100\n",
            "141/141 [==============================] - 58s 411ms/step - loss: 2.7543 - accuracy: 0.3030 - top-5-accuracy: 0.6154 - val_loss: 2.5804 - val_accuracy: 0.3461 - val_top-5-accuracy: 0.6511\n",
            "Epoch 12/100\n",
            "141/141 [==============================] - 58s 410ms/step - loss: 2.6678 - accuracy: 0.3167 - top-5-accuracy: 0.6366 - val_loss: 2.4850 - val_accuracy: 0.3603 - val_top-5-accuracy: 0.6761\n",
            "Epoch 13/100\n",
            "141/141 [==============================] - 58s 410ms/step - loss: 2.5814 - accuracy: 0.3393 - top-5-accuracy: 0.6532 - val_loss: 2.3950 - val_accuracy: 0.3853 - val_top-5-accuracy: 0.6860\n",
            "Epoch 14/100\n",
            "141/141 [==============================] - 57s 405ms/step - loss: 2.5176 - accuracy: 0.3523 - top-5-accuracy: 0.6681 - val_loss: 2.3929 - val_accuracy: 0.3828 - val_top-5-accuracy: 0.6946\n",
            "Epoch 15/100\n",
            "141/141 [==============================] - 58s 410ms/step - loss: 2.4353 - accuracy: 0.3663 - top-5-accuracy: 0.6890 - val_loss: 2.3167 - val_accuracy: 0.3972 - val_top-5-accuracy: 0.7084\n",
            "Epoch 16/100\n",
            "141/141 [==============================] - 58s 410ms/step - loss: 2.3686 - accuracy: 0.3822 - top-5-accuracy: 0.7010 - val_loss: 2.2663 - val_accuracy: 0.4041 - val_top-5-accuracy: 0.7164\n",
            "Epoch 17/100\n",
            "141/141 [==============================] - 58s 411ms/step - loss: 2.2976 - accuracy: 0.3961 - top-5-accuracy: 0.7197 - val_loss: 2.2241 - val_accuracy: 0.4183 - val_top-5-accuracy: 0.7243\n",
            "Epoch 18/100\n",
            "141/141 [==============================] - 58s 410ms/step - loss: 2.2424 - accuracy: 0.4067 - top-5-accuracy: 0.7292 - val_loss: 2.1967 - val_accuracy: 0.4249 - val_top-5-accuracy: 0.7287\n",
            "Epoch 19/100\n",
            "141/141 [==============================] - 58s 410ms/step - loss: 2.1841 - accuracy: 0.4220 - top-5-accuracy: 0.7392 - val_loss: 2.1739 - val_accuracy: 0.4309 - val_top-5-accuracy: 0.7368\n",
            "Epoch 20/100\n",
            "141/141 [==============================] - 57s 405ms/step - loss: 2.1237 - accuracy: 0.4360 - top-5-accuracy: 0.7516 - val_loss: 2.1939 - val_accuracy: 0.4284 - val_top-5-accuracy: 0.7304\n",
            "Epoch 21/100\n",
            "141/141 [==============================] - 58s 410ms/step - loss: 2.0758 - accuracy: 0.4443 - top-5-accuracy: 0.7597 - val_loss: 2.1277 - val_accuracy: 0.4461 - val_top-5-accuracy: 0.7446\n",
            "Epoch 22/100\n",
            "141/141 [==============================] - 57s 404ms/step - loss: 2.0049 - accuracy: 0.4580 - top-5-accuracy: 0.7744 - val_loss: 2.1251 - val_accuracy: 0.4458 - val_top-5-accuracy: 0.7438\n",
            "Epoch 23/100\n",
            "141/141 [==============================] - 57s 404ms/step - loss: 1.9655 - accuracy: 0.4710 - top-5-accuracy: 0.7815 - val_loss: 2.1163 - val_accuracy: 0.4452 - val_top-5-accuracy: 0.7510\n",
            "Epoch 24/100\n",
            "141/141 [==============================] - 58s 409ms/step - loss: 1.9163 - accuracy: 0.4812 - top-5-accuracy: 0.7905 - val_loss: 2.0828 - val_accuracy: 0.4568 - val_top-5-accuracy: 0.7536\n",
            "Epoch 25/100\n",
            "141/141 [==============================] - 57s 404ms/step - loss: 1.8700 - accuracy: 0.4881 - top-5-accuracy: 0.8004 - val_loss: 2.0785 - val_accuracy: 0.4564 - val_top-5-accuracy: 0.7586\n",
            "Epoch 26/100\n",
            "141/141 [==============================] - 58s 411ms/step - loss: 1.8163 - accuracy: 0.5052 - top-5-accuracy: 0.8100 - val_loss: 2.0374 - val_accuracy: 0.4678 - val_top-5-accuracy: 0.7642\n",
            "Epoch 27/100\n",
            "141/141 [==============================] - 57s 405ms/step - loss: 1.7807 - accuracy: 0.5108 - top-5-accuracy: 0.8156 - val_loss: 2.0953 - val_accuracy: 0.4566 - val_top-5-accuracy: 0.7528\n",
            "Epoch 28/100\n",
            "141/141 [==============================] - 57s 405ms/step - loss: 1.7351 - accuracy: 0.5217 - top-5-accuracy: 0.8240 - val_loss: 2.0581 - val_accuracy: 0.4649 - val_top-5-accuracy: 0.7579\n",
            "Epoch 29/100\n",
            "141/141 [==============================] - 58s 409ms/step - loss: 1.6777 - accuracy: 0.5368 - top-5-accuracy: 0.8353 - val_loss: 2.0159 - val_accuracy: 0.4752 - val_top-5-accuracy: 0.7678\n",
            "Epoch 30/100\n",
            "141/141 [==============================] - 57s 405ms/step - loss: 1.6371 - accuracy: 0.5472 - top-5-accuracy: 0.8403 - val_loss: 2.0315 - val_accuracy: 0.4737 - val_top-5-accuracy: 0.7652\n",
            "Epoch 31/100\n",
            "141/141 [==============================] - 58s 411ms/step - loss: 1.6152 - accuracy: 0.5503 - top-5-accuracy: 0.8466 - val_loss: 2.0104 - val_accuracy: 0.4783 - val_top-5-accuracy: 0.7689\n",
            "Epoch 32/100\n",
            "141/141 [==============================] - 57s 405ms/step - loss: 1.5674 - accuracy: 0.5619 - top-5-accuracy: 0.8550 - val_loss: 2.0225 - val_accuracy: 0.4722 - val_top-5-accuracy: 0.7681\n",
            "Epoch 33/100\n",
            "141/141 [==============================] - 58s 410ms/step - loss: 1.5308 - accuracy: 0.5687 - top-5-accuracy: 0.8597 - val_loss: 2.0144 - val_accuracy: 0.4786 - val_top-5-accuracy: 0.7720\n",
            "Epoch 34/100\n",
            "141/141 [==============================] - 58s 411ms/step - loss: 1.5051 - accuracy: 0.5714 - top-5-accuracy: 0.8646 - val_loss: 2.0189 - val_accuracy: 0.4810 - val_top-5-accuracy: 0.7699\n",
            "Epoch 35/100\n",
            "141/141 [==============================] - 58s 409ms/step - loss: 1.4711 - accuracy: 0.5838 - top-5-accuracy: 0.8714 - val_loss: 2.0095 - val_accuracy: 0.4821 - val_top-5-accuracy: 0.7718\n",
            "Epoch 36/100\n",
            "141/141 [==============================] - 58s 410ms/step - loss: 1.4270 - accuracy: 0.5932 - top-5-accuracy: 0.8776 - val_loss: 1.9878 - val_accuracy: 0.4868 - val_top-5-accuracy: 0.7731\n",
            "Epoch 37/100\n",
            "141/141 [==============================] - 58s 409ms/step - loss: 1.4014 - accuracy: 0.6009 - top-5-accuracy: 0.8822 - val_loss: 2.0046 - val_accuracy: 0.4886 - val_top-5-accuracy: 0.7754\n",
            "Epoch 38/100\n",
            "141/141 [==============================] - 58s 409ms/step - loss: 1.3850 - accuracy: 0.6053 - top-5-accuracy: 0.8812 - val_loss: 1.9925 - val_accuracy: 0.4906 - val_top-5-accuracy: 0.7792\n",
            "Epoch 39/100\n",
            "141/141 [==============================] - 58s 410ms/step - loss: 1.3455 - accuracy: 0.6134 - top-5-accuracy: 0.8882 - val_loss: 1.9896 - val_accuracy: 0.4943 - val_top-5-accuracy: 0.7741\n",
            "Epoch 40/100\n",
            "141/141 [==============================] - 57s 405ms/step - loss: 1.3107 - accuracy: 0.6264 - top-5-accuracy: 0.8923 - val_loss: 2.0306 - val_accuracy: 0.4852 - val_top-5-accuracy: 0.7672\n",
            "Epoch 41/100\n",
            "141/141 [==============================] - 58s 410ms/step - loss: 1.2855 - accuracy: 0.6267 - top-5-accuracy: 0.8991 - val_loss: 1.9867 - val_accuracy: 0.4967 - val_top-5-accuracy: 0.7838\n",
            "Epoch 42/100\n",
            "141/141 [==============================] - 58s 410ms/step - loss: 1.2698 - accuracy: 0.6357 - top-5-accuracy: 0.9000 - val_loss: 1.9709 - val_accuracy: 0.5019 - val_top-5-accuracy: 0.7838\n",
            "Epoch 43/100\n",
            "141/141 [==============================] - 57s 405ms/step - loss: 1.2381 - accuracy: 0.6393 - top-5-accuracy: 0.9053 - val_loss: 1.9949 - val_accuracy: 0.4981 - val_top-5-accuracy: 0.7831\n",
            "Epoch 44/100\n",
            " 92/141 [==================>...........] - ETA: 18s - loss: 1.1951 - accuracy: 0.6518 - top-5-accuracy: 0.9122"
          ]
        }
      ]
    }
  ]
}