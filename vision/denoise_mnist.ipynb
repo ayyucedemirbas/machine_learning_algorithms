{
  "nbformat": 4,
  "nbformat_minor": 0,
  "metadata": {
    "colab": {
      "provenance": [],
      "collapsed_sections": []
    },
    "kernelspec": {
      "name": "python3",
      "display_name": "Python 3"
    },
    "language_info": {
      "name": "python"
    },
    "accelerator": "GPU"
  },
  "cells": [
    {
      "cell_type": "code",
      "source": [
        "from tensorflow.keras import layers , models\n",
        "from tensorflow.keras.datasets import mnist\n",
        "import numpy as np\n",
        "import matplotlib.pyplot as plt"
      ],
      "metadata": {
        "id": "WeBdYd0Q8AAg"
      },
      "execution_count": 1,
      "outputs": []
    },
    {
      "cell_type": "code",
      "execution_count": 2,
      "metadata": {
        "id": "4tWvokOlcikp",
        "colab": {
          "base_uri": "https://localhost:8080/"
        },
        "outputId": "07c9c36a-bb78-40f8-90d9-5432aa698e8a"
      },
      "outputs": [
        {
          "output_type": "stream",
          "name": "stdout",
          "text": [
            "Downloading data from https://storage.googleapis.com/tensorflow/tf-keras-datasets/mnist.npz\n",
            "11493376/11490434 [==============================] - 0s 0us/step\n",
            "11501568/11490434 [==============================] - 0s 0us/step\n"
          ]
        }
      ],
      "source": [
        "(X_train, y_train), (X_test, y_test) = mnist.load_data()\n",
        "X_train = X_train.astype('float32')\n",
        "X_test = X_test.astype('float32')\n",
        "X_train /= 255\n",
        "X_test /= 255\n",
        "X_train = X_train.reshape(-1, 28, 28, 1)\n",
        "X_test = X_test.reshape(-1, 28, 28, 1)\n",
        "noise_factor = 1\n",
        "x_train_noisy = X_train + noise_factor * np.random.normal(loc=0.0, scale=1.0, size=X_train.shape) \n",
        "x_test_noisy = X_test + noise_factor * np.random.normal(loc=0.0, scale=1.0, size=X_test.shape) \n",
        "x_train_noisy = np.clip(x_train_noisy, 0., 1.)\n",
        "x_test_noisy = np.clip(x_test_noisy, 0., 1.)"
      ]
    },
    {
      "cell_type": "code",
      "source": [
        "first_image = x_train_noisy[0]\n",
        "first_image = np.array(first_image, dtype='float')\n",
        "pixels = first_image.reshape((28, 28))\n",
        "plt.imshow(pixels, cmap='gray')\n",
        "plt.show()"
      ],
      "metadata": {
        "colab": {
          "base_uri": "https://localhost:8080/",
          "height": 265
        },
        "id": "seq0AaikhGBb",
        "outputId": "d3080424-0716-475a-8a27-21be21148da4"
      },
      "execution_count": 3,
      "outputs": [
        {
          "output_type": "display_data",
          "data": {
            "text/plain": [
              "<Figure size 432x288 with 1 Axes>"
            ],
            "image/png": "[encoded data removed]"
          },
          "metadata": {
            "needs_background": "light"
          }
        }
      ]
    },
    {
      "cell_type": "code",
      "source": [
        "first_image = X_train[0]\n",
        "first_image = np.array(first_image, dtype='float')\n",
        "pixels = first_image.reshape((28, 28))\n",
        "plt.imshow(pixels, cmap='gray')\n",
        "plt.show()"
      ],
      "metadata": {
        "colab": {
          "base_uri": "https://localhost:8080/",
          "height": 265
        },
        "id": "1FWRo9UohSkQ",
        "outputId": "f195d2d3-2863-45d9-8e54-5e0a02d41d13"
      },
      "execution_count": 4,
      "outputs": [
        {
          "output_type": "display_data",
          "data": {
            "text/plain": [
              "<Figure size 432x288 with 1 Axes>"
            ],
            "image/png": "[encoded data removed]"
          },
          "metadata": {
            "needs_background": "light"
          }
        }
      ]
    },
    {
      "cell_type": "code",
      "source": [
        "input = layers.Input(shape=(28, 28, 1))\n",
        "x = layers.Conv2D(16, (3, 3), padding='same', activation='relu')(input)\n",
        "x = layers.MaxPooling2D(pool_size=(2,2), padding='same')(x)\n",
        "x = layers.Conv2D(8,(3, 3), padding='same', activation='relu')(x)\n",
        "x = layers.MaxPooling2D(pool_size=(2,2), padding='same')(x)\n",
        "x = layers.Conv2D(1, (3, 3), padding='same', activation='sigmoid')(x)\n",
        "\n",
        "\n",
        "y = layers.Conv2D(8, (3, 3), padding='same', activation='relu')(x)\n",
        "y = layers.UpSampling2D((2, 2))(y)\n",
        "y = layers.Conv2D(16, (3, 3), padding='same', activation='relu')(y)\n",
        "y = layers.UpSampling2D((2, 2))(y)\n",
        "out = layers.Conv2D(1,(3, 3), padding='same', activation='sigmoid')(y)\n",
        "autoencoder = models.Model(inputs = input, outputs = out)"
      ],
      "metadata": {
        "id": "4abywmPk1jcq"
      },
      "execution_count": null,
      "outputs": []
    },
    {
      "cell_type": "code",
      "source": [
        "#or, you can use a model with Conv2DTranspose layers\n",
        "\n",
        "input = layers.Input(shape=(28, 28, 1))\n",
        "x = layers.Conv2D(16, (3, 3), padding='same', activation='relu')(input)\n",
        "x = layers.MaxPooling2D(pool_size=(2,2), padding='same')(x)\n",
        "x = layers.Conv2D(8,(3, 3), padding='same', activation='relu')(x)\n",
        "x = layers.MaxPooling2D(pool_size=(2,2), padding='same')(x)\n",
        "x = layers.Conv2D(1, (3, 3), padding='same', activation='sigmoid')(x)\n",
        "\n",
        "\n",
        "y = layers.Conv2DTranspose(8, (2, 2), activation='relu')(x)\n",
        "y = layers.Conv2DTranspose(8, (5, 5), activation='relu')(y)\n",
        "y = layers.Conv2DTranspose(8, (5, 5), activation='relu')(y)\n",
        "y = layers.Conv2DTranspose(16, (5, 5), activation='relu')(y)\n",
        "y = layers.Conv2DTranspose(16, (5, 5), activation='relu')(y)\n",
        "out = layers.Conv2DTranspose(1, (5, 5), activation='sigmoid')(y)\n",
        "autoencoder = models.Model(inputs = input, outputs = out)"
      ],
      "metadata": {
        "id": "3tlUKW4yd21P"
      },
      "execution_count": 5,
      "outputs": []
    },
    {
      "cell_type": "code",
      "source": [
        "autoencoder.compile(loss='mse', optimizer='adam') "
      ],
      "metadata": {
        "id": "qyQjeZ4V3E7M"
      },
      "execution_count": 6,
      "outputs": []
    },
    {
      "cell_type": "code",
      "source": [
        "autoencoder.fit(x_train_noisy, X_train, epochs = 20, batch_size = 20, shuffle = True, validation_split = 0.2)"
      ],
      "metadata": {
        "colab": {
          "base_uri": "https://localhost:8080/"
        },
        "id": "dPPzT1rG2lUJ",
        "outputId": "765ca6ca-f8d4-4085-9549-0817e5b4e8ca"
      },
      "execution_count": 7,
      "outputs": [
        {
          "output_type": "stream",
          "name": "stdout",
          "text": [
            "Epoch 1/20\n",
            "2400/2400 [==============================] - 27s 5ms/step - loss: 0.0688 - val_loss: 0.0579\n",
            "Epoch 2/20\n",
            "2400/2400 [==============================] - 12s 5ms/step - loss: 0.0500 - val_loss: 0.0454\n",
            "Epoch 3/20\n",
            "2400/2400 [==============================] - 12s 5ms/step - loss: 0.0428 - val_loss: 0.0415\n",
            "Epoch 4/20\n",
            "2400/2400 [==============================] - 12s 5ms/step - loss: 0.0405 - val_loss: 0.0405\n",
            "Epoch 5/20\n",
            "2400/2400 [==============================] - 12s 5ms/step - loss: 0.0392 - val_loss: 0.0387\n",
            "Epoch 6/20\n",
            "2400/2400 [==============================] - 12s 5ms/step - loss: 0.0384 - val_loss: 0.0383\n",
            "Epoch 7/20\n",
            "2400/2400 [==============================] - 12s 5ms/step - loss: 0.0378 - val_loss: 0.0378\n",
            "Epoch 8/20\n",
            "2400/2400 [==============================] - 11s 5ms/step - loss: 0.0373 - val_loss: 0.0374\n",
            "Epoch 9/20\n",
            "2400/2400 [==============================] - 11s 5ms/step - loss: 0.0370 - val_loss: 0.0369\n",
            "Epoch 10/20\n",
            "2400/2400 [==============================] - 11s 5ms/step - loss: 0.0367 - val_loss: 0.0365\n",
            "Epoch 11/20\n",
            "2400/2400 [==============================] - 14s 6ms/step - loss: 0.0364 - val_loss: 0.0363\n",
            "Epoch 12/20\n",
            "2400/2400 [==============================] - 12s 5ms/step - loss: 0.0362 - val_loss: 0.0360\n",
            "Epoch 13/20\n",
            "2400/2400 [==============================] - 11s 5ms/step - loss: 0.0360 - val_loss: 0.0360\n",
            "Epoch 14/20\n",
            "2400/2400 [==============================] - 11s 5ms/step - loss: 0.0359 - val_loss: 0.0365\n",
            "Epoch 15/20\n",
            "2400/2400 [==============================] - 11s 5ms/step - loss: 0.0357 - val_loss: 0.0359\n",
            "Epoch 16/20\n",
            "2400/2400 [==============================] - 12s 5ms/step - loss: 0.0356 - val_loss: 0.0357\n",
            "Epoch 17/20\n",
            "2400/2400 [==============================] - 12s 5ms/step - loss: 0.0354 - val_loss: 0.0358\n",
            "Epoch 18/20\n",
            "2400/2400 [==============================] - 11s 5ms/step - loss: 0.0353 - val_loss: 0.0357\n",
            "Epoch 19/20\n",
            "2400/2400 [==============================] - 11s 5ms/step - loss: 0.0352 - val_loss: 0.0359\n",
            "Epoch 20/20\n",
            "2400/2400 [==============================] - 12s 5ms/step - loss: 0.0351 - val_loss: 0.0352\n"
          ]
        },
        {
          "output_type": "execute_result",
          "data": {
            "text/plain": [
              "<keras.callbacks.History at 0x7f0fd0185590>"
            ]
          },
          "metadata": {},
          "execution_count": 7
        }
      ]
    },
    {
      "cell_type": "code",
      "source": [
        "decoded = autoencoder.predict(x_test_noisy)"
      ],
      "metadata": {
        "id": "uDr_sihV62Ly"
      },
      "execution_count": 8,
      "outputs": []
    },
    {
      "cell_type": "code",
      "source": [
        "plt.imshow(X_test[5].reshape(28, 28))"
      ],
      "metadata": {
        "colab": {
          "base_uri": "https://localhost:8080/",
          "height": 283
        },
        "id": "aZ2o14Ej6rhW",
        "outputId": "78ff2de5-d4c2-4758-88ac-5ced6d9b1ae1"
      },
      "execution_count": 9,
      "outputs": [
        {
          "output_type": "execute_result",
          "data": {
            "text/plain": [
              "<matplotlib.image.AxesImage at 0x7f0f4c191610>"
            ]
          },
          "metadata": {},
          "execution_count": 9
        },
        {
          "output_type": "display_data",
          "data": {
            "text/plain": [
              "<Figure size 432x288 with 1 Axes>"
            ],
            "image/png": "[encoded data removed]"
          },
          "metadata": {
            "needs_background": "light"
          }
        }
      ]
    },
    {
      "cell_type": "code",
      "source": [
        "plt.imshow(x_test_noisy[5].reshape(28, 28))"
      ],
      "metadata": {
        "colab": {
          "base_uri": "https://localhost:8080/",
          "height": 283
        },
        "id": "mjJCCzVr66bl",
        "outputId": "b43ae760-f7ce-4d31-c93f-7dcaecba2a7f"
      },
      "execution_count": 10,
      "outputs": [
        {
          "output_type": "execute_result",
          "data": {
            "text/plain": [
              "<matplotlib.image.AxesImage at 0x7f0f4c102210>"
            ]
          },
          "metadata": {},
          "execution_count": 10
        },
        {
          "output_type": "display_data",
          "data": {
            "text/plain": [
              "<Figure size 432x288 with 1 Axes>"
            ],
            "image/png": "[encoded data removed]"
          },
          "metadata": {
            "needs_background": "light"
          }
        }
      ]
    },
    {
      "cell_type": "code",
      "source": [
        "plt.imshow(decoded[5].reshape(28, 28))"
      ],
      "metadata": {
        "colab": {
          "base_uri": "https://localhost:8080/",
          "height": 283
        },
        "id": "TZuq2rRq686Q",
        "outputId": "52c8c870-3002-4873-f5c5-4183a273d85f"
      },
      "execution_count": 11,
      "outputs": [
        {
          "output_type": "execute_result",
          "data": {
            "text/plain": [
              "<matplotlib.image.AxesImage at 0x7f0f4c0e9310>"
            ]
          },
          "metadata": {},
          "execution_count": 11
        },
        {
          "output_type": "display_data",
          "data": {
            "text/plain": [
              "<Figure size 432x288 with 1 Axes>"
            ],
            "image/png": "[encoded data removed]"
          },
          "metadata": {
            "needs_background": "light"
          }
        }
      ]
    },
    {
      "cell_type": "code",
      "source": [
        "plt.imshow(X_test[578].reshape(28, 28), cmap='gray')"
      ],
      "metadata": {
        "colab": {
          "base_uri": "https://localhost:8080/",
          "height": 283
        },
        "id": "uyDX1Vtf9Z3E",
        "outputId": "b34d0105-b3ad-4c0c-fb68-1553980404fb"
      },
      "execution_count": 12,
      "outputs": [
        {
          "output_type": "execute_result",
          "data": {
            "text/plain": [
              "<matplotlib.image.AxesImage at 0x7f0f4c052450>"
            ]
          },
          "metadata": {},
          "execution_count": 12
        },
        {
          "output_type": "display_data",
          "data": {
            "text/plain": [
              "<Figure size 432x288 with 1 Axes>"
            ],
            "image/png": "[encoded data removed]"
          },
          "metadata": {
            "needs_background": "light"
          }
        }
      ]
    },
    {
      "cell_type": "code",
      "source": [
        "plt.imshow(x_test_noisy[578].reshape(28, 28), cmap='gray')"
      ],
      "metadata": {
        "colab": {
          "base_uri": "https://localhost:8080/",
          "height": 283
        },
        "id": "zzfPctyX9kYx",
        "outputId": "ad56bded-5a95-4735-c50b-576a5ee62671"
      },
      "execution_count": 13,
      "outputs": [
        {
          "output_type": "execute_result",
          "data": {
            "text/plain": [
              "<matplotlib.image.AxesImage at 0x7f0f2978b4d0>"
            ]
          },
          "metadata": {},
          "execution_count": 13
        },
        {
          "output_type": "display_data",
          "data": {
            "text/plain": [
              "<Figure size 432x288 with 1 Axes>"
            ],
            "image/png": "[encoded data removed]"
          },
          "metadata": {
            "needs_background": "light"
          }
        }
      ]
    },
    {
      "cell_type": "code",
      "source": [
        "plt.imshow(decoded[578].reshape(28, 28), cmap='gray')"
      ],
      "metadata": {
        "colab": {
          "base_uri": "https://localhost:8080/",
          "height": 283
        },
        "id": "ZxT7bs6f9qa-",
        "outputId": "3e82d47b-eac3-4093-d984-9c878a780312"
      },
      "execution_count": 14,
      "outputs": [
        {
          "output_type": "execute_result",
          "data": {
            "text/plain": [
              "<matplotlib.image.AxesImage at 0x7f0f297777d0>"
            ]
          },
          "metadata": {},
          "execution_count": 14
        },
        {
          "output_type": "display_data",
          "data": {
            "text/plain": [
              "<Figure size 432x288 with 1 Axes>"
            ],
            "image/png": "[encoded data removed]"
          },
          "metadata": {
            "needs_background": "light"
          }
        }
      ]
    }
  ]
}