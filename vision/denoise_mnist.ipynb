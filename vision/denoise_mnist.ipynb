{
  "nbformat": 4,
  "nbformat_minor": 0,
  "metadata": {
    "colab": {
      "provenance": [],
      "collapsed_sections": []
    },
    "kernelspec": {
      "name": "python3",
      "display_name": "Python 3"
    },
    "language_info": {
      "name": "python"
    },
    "accelerator": "GPU"
  },
  "cells": [
    {
      "cell_type": "code",
      "source": [
        "from tensorflow.keras import layers , models\n",
        "from tensorflow.keras.datasets import mnist\n",
        "import numpy as np\n",
        "import matplotlib.pyplot as plt"
      ],
      "metadata": {
        "id": "WeBdYd0Q8AAg"
      },
      "execution_count": null,
      "outputs": []
    },
    {
      "cell_type": "code",
      "execution_count": null,
      "metadata": {
        "id": "4tWvokOlcikp"
      },
      "outputs": [],
      "source": [
        "(X_train, y_train), (X_test, y_test) = mnist.load_data()\n",
        "X_train = X_train.astype('float32')\n",
        "X_test = X_test.astype('float32')\n",
        "X_train /= 255\n",
        "X_test /= 255\n",
        "X_train = X_train.reshape(-1, 28, 28, 1)\n",
        "X_test = X_test.reshape(-1, 28, 28, 1)\n",
        "noise_factor = 0.8\n",
        "x_train_noisy = X_train + noise_factor * np.random.normal(loc=0.0, scale=1.0, size=X_train.shape) \n",
        "x_test_noisy = X_test + noise_factor * np.random.normal(loc=0.0, scale=1.0, size=X_test.shape) \n",
        "x_train_noisy = np.clip(x_train_noisy, 0., 1.)\n",
        "x_test_noisy = np.clip(x_test_noisy, 0., 1.)"
      ]
    },
    {
      "cell_type": "code",
      "source": [
        "first_image = x_train_noisy[0]\n",
        "first_image = np.array(first_image, dtype='float')\n",
        "pixels = first_image.reshape((28, 28))\n",
        "plt.imshow(pixels, cmap='gray')\n",
        "plt.show()"
      ],
      "metadata": {
        "colab": {
          "base_uri": "https://localhost:8080/",
          "height": 265
        },
        "id": "seq0AaikhGBb",
        "outputId": "c512589b-c0b0-4877-ca50-e297c34c7c09"
      },
      "execution_count": null,
      "outputs": [
        {
          "output_type": "display_data",
          "data": {
            "text/plain": [
              "<Figure size 432x288 with 1 Axes>"
            ],
            "image/png": "[encoded data removed]"
          },
          "metadata": {
            "needs_background": "light"
          }
        }
      ]
    },
    {
      "cell_type": "code",
      "source": [
        "first_image = X_train[0]\n",
        "first_image = np.array(first_image, dtype='float')\n",
        "pixels = first_image.reshape((28, 28))\n",
        "plt.imshow(pixels, cmap='gray')\n",
        "plt.show()"
      ],
      "metadata": {
        "colab": {
          "base_uri": "https://localhost:8080/",
          "height": 265
        },
        "id": "1FWRo9UohSkQ",
        "outputId": "5ca5cf82-f27e-4721-fdb6-951ca2a26c5a"
      },
      "execution_count": null,
      "outputs": [
        {
          "output_type": "display_data",
          "data": {
            "text/plain": [
              "<Figure size 432x288 with 1 Axes>"
            ],
            "image/png": "[encoded data removed]"
          },
          "metadata": {
            "needs_background": "light"
          }
        }
      ]
    },
    {
      "cell_type": "code",
      "source": [
        "input = layers.Input(shape=(28, 28, 1))\n",
        "x = layers.Conv2D(16, (3, 3), padding='same', activation='relu')(input)\n",
        "x = layers.MaxPooling2D(pool_size=(2,2), padding='same')(x)\n",
        "x = layers.Conv2D(8,(3, 3), padding='same', activation='relu')(x)\n",
        "x = layers.MaxPooling2D(pool_size=(2,2), padding='same')(x)\n",
        "x = layers.Conv2D(1, (3, 3), padding='same', activation='sigmoid')(x)\n",
        "\n",
        "\n",
        "y = layers.Conv2D(8, (3, 3), padding='same', activation='relu')(x)\n",
        "y = layers.UpSampling2D((2, 2))(y)\n",
        "y = layers.Conv2D(16, (3, 3), padding='same', activation='relu')(y)\n",
        "y = layers.UpSampling2D((2, 2))(y)\n",
        "out = layers.Conv2D(1,(3, 3), padding='same', activation='sigmoid')(y)\n",
        "autoencoder = models.Model(inputs = input, outputs = out)"
      ],
      "metadata": {
        "id": "4abywmPk1jcq"
      },
      "execution_count": null,
      "outputs": []
    },
    {
      "cell_type": "code",
      "source": [
        "#or, you can use a model with Conv2DTranspose layers\n",
        "\n",
        "input = layers.Input(shape=(28, 28, 1))\n",
        "x = layers.Conv2D(16, (3, 3), padding='same', activation='relu')(input)\n",
        "x = layers.MaxPooling2D(pool_size=(2,2), padding='same')(x)\n",
        "x = layers.Conv2D(8,(3, 3), padding='same', activation='relu')(x)\n",
        "x = layers.MaxPooling2D(pool_size=(2,2), padding='same')(x)\n",
        "x = layers.Conv2D(1, (3, 3), padding='same', activation='sigmoid')(x)\n",
        "\n",
        "\n",
        "y = layers.Conv2DTranspose(8, (2, 2), activation='relu')(x)\n",
        "y = layers.Conv2DTranspose(8, (5, 5), activation='relu')(y)\n",
        "y = layers.Conv2DTranspose(8, (5, 5), activation='relu')(y)\n",
        "y = layers.Conv2DTranspose(16, (5, 5), activation='relu')(y)\n",
        "y = layers.Conv2DTranspose(16, (5, 5), activation='relu')(y)\n",
        "out = layers.Conv2DTranspose(1, (5, 5), activation='sigmoid')(y)\n",
        "autoencoder = models.Model(inputs = input, outputs = out)"
      ],
      "metadata": {
        "id": "3tlUKW4yd21P"
      },
      "execution_count": null,
      "outputs": []
    },
    {
      "cell_type": "code",
      "source": [
        "autoencoder.compile(loss='mse', optimizer='adam') "
      ],
      "metadata": {
        "id": "qyQjeZ4V3E7M"
      },
      "execution_count": null,
      "outputs": []
    },
    {
      "cell_type": "code",
      "source": [
        "autoencoder.fit(x_train_noisy, X_train, epochs = 10, batch_size = 20, shuffle = True, validation_split = 0.2)"
      ],
      "metadata": {
        "colab": {
          "base_uri": "https://localhost:8080/"
        },
        "id": "dPPzT1rG2lUJ",
        "outputId": "d93a19e2-d12b-4a4d-9b8e-6d2493b5d6b6"
      },
      "execution_count": null,
      "outputs": [
        {
          "output_type": "stream",
          "name": "stdout",
          "text": [
            "Epoch 1/10\n",
            "2400/2400 [==============================] - 15s 5ms/step - loss: 0.0466 - val_loss: 0.0359\n",
            "Epoch 2/10\n",
            "2400/2400 [==============================] - 10s 4ms/step - loss: 0.0347 - val_loss: 0.0339\n",
            "Epoch 3/10\n",
            "2400/2400 [==============================] - 10s 4ms/step - loss: 0.0334 - val_loss: 0.0336\n",
            "Epoch 4/10\n",
            "2400/2400 [==============================] - 10s 4ms/step - loss: 0.0327 - val_loss: 0.0326\n",
            "Epoch 5/10\n",
            "2400/2400 [==============================] - 11s 4ms/step - loss: 0.0323 - val_loss: 0.0327\n",
            "Epoch 6/10\n",
            "2400/2400 [==============================] - 10s 4ms/step - loss: 0.0320 - val_loss: 0.0325\n",
            "Epoch 7/10\n",
            "2400/2400 [==============================] - 10s 4ms/step - loss: 0.0318 - val_loss: 0.0319\n",
            "Epoch 8/10\n",
            "2400/2400 [==============================] - 10s 4ms/step - loss: 0.0316 - val_loss: 0.0331\n",
            "Epoch 9/10\n",
            "2400/2400 [==============================] - 11s 4ms/step - loss: 0.0315 - val_loss: 0.0316\n",
            "Epoch 10/10\n",
            "2400/2400 [==============================] - 10s 4ms/step - loss: 0.0314 - val_loss: 0.0318\n"
          ]
        },
        {
          "output_type": "execute_result",
          "data": {
            "text/plain": [
              "<keras.callbacks.History at 0x7f42f0229550>"
            ]
          },
          "metadata": {},
          "execution_count": 7
        }
      ]
    },
    {
      "cell_type": "code",
      "source": [
        "decoded = autoencoder.predict(x_test_noisy)"
      ],
      "metadata": {
        "id": "uDr_sihV62Ly"
      },
      "execution_count": null,
      "outputs": []
    },
    {
      "cell_type": "code",
      "source": [
        "plt.imshow(X_test[5].reshape(28, 28))"
      ],
      "metadata": {
        "colab": {
          "base_uri": "https://localhost:8080/",
          "height": 283
        },
        "id": "aZ2o14Ej6rhW",
        "outputId": "063eda71-c9fc-4ee2-9f53-0614509829eb"
      },
      "execution_count": null,
      "outputs": [
        {
          "output_type": "execute_result",
          "data": {
            "text/plain": [
              "<matplotlib.image.AxesImage at 0x7f428a5a4a50>"
            ]
          },
          "metadata": {},
          "execution_count": 9
        },
        {
          "output_type": "display_data",
          "data": {
            "text/plain": [
              "<Figure size 432x288 with 1 Axes>"
            ],
            "image/png": "[encoded data removed]"
          },
          "metadata": {
            "needs_background": "light"
          }
        }
      ]
    },
    {
      "cell_type": "code",
      "source": [
        "plt.imshow(x_test_noisy[5].reshape(28, 28))"
      ],
      "metadata": {
        "colab": {
          "base_uri": "https://localhost:8080/",
          "height": 283
        },
        "id": "mjJCCzVr66bl",
        "outputId": "a2907812-5e4b-498e-e563-3a40ee9279d3"
      },
      "execution_count": null,
      "outputs": [
        {
          "output_type": "execute_result",
          "data": {
            "text/plain": [
              "<matplotlib.image.AxesImage at 0x7f4307afcf90>"
            ]
          },
          "metadata": {},
          "execution_count": 10
        },
        {
          "output_type": "display_data",
          "data": {
            "text/plain": [
              "<Figure size 432x288 with 1 Axes>"
            ],
            "image/png": "[encoded data removed]"
          },
          "metadata": {
            "needs_background": "light"
          }
        }
      ]
    },
    {
      "cell_type": "code",
      "source": [
        "plt.imshow(decoded[5].reshape(28, 28))"
      ],
      "metadata": {
        "colab": {
          "base_uri": "https://localhost:8080/",
          "height": 283
        },
        "id": "TZuq2rRq686Q",
        "outputId": "56627351-5d2d-46ee-f59c-226da7a50fdd"
      },
      "execution_count": null,
      "outputs": [
        {
          "output_type": "execute_result",
          "data": {
            "text/plain": [
              "<matplotlib.image.AxesImage at 0x7f428a53a5d0>"
            ]
          },
          "metadata": {},
          "execution_count": 11
        },
        {
          "output_type": "display_data",
          "data": {
            "text/plain": [
              "<Figure size 432x288 with 1 Axes>"
            ],
            "image/png": "[encoded data removed]"
          },
          "metadata": {
            "needs_background": "light"
          }
        }
      ]
    },
    {
      "cell_type": "code",
      "source": [
        "plt.imshow(X_test[578].reshape(28, 28), cmap='gray')"
      ],
      "metadata": {
        "colab": {
          "base_uri": "https://localhost:8080/",
          "height": 283
        },
        "id": "uyDX1Vtf9Z3E",
        "outputId": "688e0383-47c6-4faa-c1c7-99e77ff0e36b"
      },
      "execution_count": null,
      "outputs": [
        {
          "output_type": "execute_result",
          "data": {
            "text/plain": [
              "<matplotlib.image.AxesImage at 0x7f428a3d91d0>"
            ]
          },
          "metadata": {},
          "execution_count": 12
        },
        {
          "output_type": "display_data",
          "data": {
            "text/plain": [
              "<Figure size 432x288 with 1 Axes>"
            ],
            "image/png": "[encoded data removed]"
          },
          "metadata": {
            "needs_background": "light"
          }
        }
      ]
    },
    {
      "cell_type": "code",
      "source": [
        "plt.imshow(x_test_noisy[578].reshape(28, 28), cmap='gray')"
      ],
      "metadata": {
        "colab": {
          "base_uri": "https://localhost:8080/",
          "height": 283
        },
        "id": "zzfPctyX9kYx",
        "outputId": "aa8e1a8b-c1dc-489d-bc1d-f410955dc7a4"
      },
      "execution_count": null,
      "outputs": [
        {
          "output_type": "execute_result",
          "data": {
            "text/plain": [
              "<matplotlib.image.AxesImage at 0x7f428a35d0d0>"
            ]
          },
          "metadata": {},
          "execution_count": 14
        },
        {
          "output_type": "display_data",
          "data": {
            "text/plain": [
              "<Figure size 432x288 with 1 Axes>"
            ],
            "image/png": "[encoded data removed]"
          },
          "metadata": {
            "needs_background": "light"
          }
        }
      ]
    },
    {
      "cell_type": "code",
      "source": [
        "plt.imshow(decoded[578].reshape(28, 28), cmap='gray')"
      ],
      "metadata": {
        "colab": {
          "base_uri": "https://localhost:8080/",
          "height": 283
        },
        "id": "ZxT7bs6f9qa-",
        "outputId": "1282564f-1ec6-47f8-87a7-87d7539178b5"
      },
      "execution_count": null,
      "outputs": [
        {
          "output_type": "execute_result",
          "data": {
            "text/plain": [
              "<matplotlib.image.AxesImage at 0x7f428a2d7dd0>"
            ]
          },
          "metadata": {},
          "execution_count": 15
        },
        {
          "output_type": "display_data",
          "data": {
            "text/plain": [
              "<Figure size 432x288 with 1 Axes>"
            ],
            "image/png": "[encoded data removed]"
          },
          "metadata": {
            "needs_background": "light"
          }
        }
      ]
    }
  ]
}