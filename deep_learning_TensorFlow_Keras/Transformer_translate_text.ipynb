{
  "nbformat": 4,
  "nbformat_minor": 0,
  "metadata": {
    "colab": {
      "name": "Transformer_translate_text.ipynb",
      "provenance": []
    },
    "kernelspec": {
      "name": "python3",
      "display_name": "Python 3"
    },
    "language_info": {
      "name": "python"
    },
    "accelerator": "GPU"
  },
  "cells": [
    {
      "cell_type": "code",
      "metadata": {
        "colab": {
          "base_uri": "https://localhost:8080/"
        },
        "id": "udiFcnADWp3q",
        "outputId": "adfaa1d0-b17a-418d-913d-39721c6e2dce"
      },
      "source": [
        "%pip install tensorflow_datasets\n",
        "%pip install -U tensorflow-text"
      ],
      "execution_count": 1,
      "outputs": [
        {
          "output_type": "stream",
          "name": "stdout",
          "text": [
            "Requirement already satisfied: tensorflow_datasets in /usr/local/lib/python3.7/dist-packages (4.0.1)\n",
            "Requirement already satisfied: requests>=2.19.0 in /usr/local/lib/python3.7/dist-packages (from tensorflow_datasets) (2.23.0)\n",
            "Requirement already satisfied: absl-py in /usr/local/lib/python3.7/dist-packages (from tensorflow_datasets) (0.12.0)\n",
            "Requirement already satisfied: attrs>=18.1.0 in /usr/local/lib/python3.7/dist-packages (from tensorflow_datasets) (21.2.0)\n",
            "Requirement already satisfied: six in /usr/local/lib/python3.7/dist-packages (from tensorflow_datasets) (1.15.0)\n",
            "Requirement already satisfied: tqdm in /usr/local/lib/python3.7/dist-packages (from tensorflow_datasets) (4.62.3)\n",
            "Requirement already satisfied: protobuf>=3.6.1 in /usr/local/lib/python3.7/dist-packages (from tensorflow_datasets) (3.17.3)\n",
            "Requirement already satisfied: tensorflow-metadata in /usr/local/lib/python3.7/dist-packages (from tensorflow_datasets) (1.2.0)\n",
            "Requirement already satisfied: termcolor in /usr/local/lib/python3.7/dist-packages (from tensorflow_datasets) (1.1.0)\n",
            "Requirement already satisfied: dill in /usr/local/lib/python3.7/dist-packages (from tensorflow_datasets) (0.3.4)\n",
            "Requirement already satisfied: future in /usr/local/lib/python3.7/dist-packages (from tensorflow_datasets) (0.16.0)\n",
            "Requirement already satisfied: promise in /usr/local/lib/python3.7/dist-packages (from tensorflow_datasets) (2.3)\n",
            "Requirement already satisfied: numpy in /usr/local/lib/python3.7/dist-packages (from tensorflow_datasets) (1.19.5)\n",
            "Requirement already satisfied: dm-tree in /usr/local/lib/python3.7/dist-packages (from tensorflow_datasets) (0.1.6)\n",
            "Requirement already satisfied: importlib-resources in /usr/local/lib/python3.7/dist-packages (from tensorflow_datasets) (5.2.2)\n",
            "Requirement already satisfied: urllib3!=1.25.0,!=1.25.1,<1.26,>=1.21.1 in /usr/local/lib/python3.7/dist-packages (from requests>=2.19.0->tensorflow_datasets) (1.24.3)\n",
            "Requirement already satisfied: certifi>=2017.4.17 in /usr/local/lib/python3.7/dist-packages (from requests>=2.19.0->tensorflow_datasets) (2021.5.30)\n",
            "Requirement already satisfied: idna<3,>=2.5 in /usr/local/lib/python3.7/dist-packages (from requests>=2.19.0->tensorflow_datasets) (2.10)\n",
            "Requirement already satisfied: chardet<4,>=3.0.2 in /usr/local/lib/python3.7/dist-packages (from requests>=2.19.0->tensorflow_datasets) (3.0.4)\n",
            "Requirement already satisfied: zipp>=3.1.0 in /usr/local/lib/python3.7/dist-packages (from importlib-resources->tensorflow_datasets) (3.6.0)\n",
            "Requirement already satisfied: googleapis-common-protos<2,>=1.52.0 in /usr/local/lib/python3.7/dist-packages (from tensorflow-metadata->tensorflow_datasets) (1.53.0)\n",
            "Requirement already satisfied: tensorflow-text in /usr/local/lib/python3.7/dist-packages (2.6.0)\n",
            "Requirement already satisfied: tensorflow<2.7,>=2.6.0 in /usr/local/lib/python3.7/dist-packages (from tensorflow-text) (2.6.0)\n",
            "Requirement already satisfied: tensorflow-hub>=0.8.0 in /usr/local/lib/python3.7/dist-packages (from tensorflow-text) (0.12.0)\n",
            "Requirement already satisfied: keras-preprocessing~=1.1.2 in /usr/local/lib/python3.7/dist-packages (from tensorflow<2.7,>=2.6.0->tensorflow-text) (1.1.2)\n",
            "Requirement already satisfied: gast==0.4.0 in /usr/local/lib/python3.7/dist-packages (from tensorflow<2.7,>=2.6.0->tensorflow-text) (0.4.0)\n",
            "Requirement already satisfied: clang~=5.0 in /usr/local/lib/python3.7/dist-packages (from tensorflow<2.7,>=2.6.0->tensorflow-text) (5.0)\n",
            "Requirement already satisfied: google-pasta~=0.2 in /usr/local/lib/python3.7/dist-packages (from tensorflow<2.7,>=2.6.0->tensorflow-text) (0.2.0)\n",
            "Requirement already satisfied: tensorflow-estimator~=2.6 in /usr/local/lib/python3.7/dist-packages (from tensorflow<2.7,>=2.6.0->tensorflow-text) (2.6.0)\n",
            "Requirement already satisfied: wheel~=0.35 in /usr/local/lib/python3.7/dist-packages (from tensorflow<2.7,>=2.6.0->tensorflow-text) (0.37.0)\n",
            "Requirement already satisfied: typing-extensions~=3.7.4 in /usr/local/lib/python3.7/dist-packages (from tensorflow<2.7,>=2.6.0->tensorflow-text) (3.7.4.3)\n",
            "Requirement already satisfied: wrapt~=1.12.1 in /usr/local/lib/python3.7/dist-packages (from tensorflow<2.7,>=2.6.0->tensorflow-text) (1.12.1)\n",
            "Requirement already satisfied: h5py~=3.1.0 in /usr/local/lib/python3.7/dist-packages (from tensorflow<2.7,>=2.6.0->tensorflow-text) (3.1.0)\n",
            "Requirement already satisfied: tensorboard~=2.6 in /usr/local/lib/python3.7/dist-packages (from tensorflow<2.7,>=2.6.0->tensorflow-text) (2.6.0)\n",
            "Requirement already satisfied: grpcio<2.0,>=1.37.0 in /usr/local/lib/python3.7/dist-packages (from tensorflow<2.7,>=2.6.0->tensorflow-text) (1.41.0)\n",
            "Requirement already satisfied: protobuf>=3.9.2 in /usr/local/lib/python3.7/dist-packages (from tensorflow<2.7,>=2.6.0->tensorflow-text) (3.17.3)\n",
            "Requirement already satisfied: numpy~=1.19.2 in /usr/local/lib/python3.7/dist-packages (from tensorflow<2.7,>=2.6.0->tensorflow-text) (1.19.5)\n",
            "Requirement already satisfied: six~=1.15.0 in /usr/local/lib/python3.7/dist-packages (from tensorflow<2.7,>=2.6.0->tensorflow-text) (1.15.0)\n",
            "Requirement already satisfied: absl-py~=0.10 in /usr/local/lib/python3.7/dist-packages (from tensorflow<2.7,>=2.6.0->tensorflow-text) (0.12.0)\n",
            "Requirement already satisfied: opt-einsum~=3.3.0 in /usr/local/lib/python3.7/dist-packages (from tensorflow<2.7,>=2.6.0->tensorflow-text) (3.3.0)\n",
            "Requirement already satisfied: keras~=2.6 in /usr/local/lib/python3.7/dist-packages (from tensorflow<2.7,>=2.6.0->tensorflow-text) (2.6.0)\n",
            "Requirement already satisfied: termcolor~=1.1.0 in /usr/local/lib/python3.7/dist-packages (from tensorflow<2.7,>=2.6.0->tensorflow-text) (1.1.0)\n",
            "Requirement already satisfied: flatbuffers~=1.12.0 in /usr/local/lib/python3.7/dist-packages (from tensorflow<2.7,>=2.6.0->tensorflow-text) (1.12)\n",
            "Requirement already satisfied: astunparse~=1.6.3 in /usr/local/lib/python3.7/dist-packages (from tensorflow<2.7,>=2.6.0->tensorflow-text) (1.6.3)\n",
            "Requirement already satisfied: cached-property in /usr/local/lib/python3.7/dist-packages (from h5py~=3.1.0->tensorflow<2.7,>=2.6.0->tensorflow-text) (1.5.2)\n",
            "Requirement already satisfied: setuptools>=41.0.0 in /usr/local/lib/python3.7/dist-packages (from tensorboard~=2.6->tensorflow<2.7,>=2.6.0->tensorflow-text) (57.4.0)\n",
            "Requirement already satisfied: tensorboard-data-server<0.7.0,>=0.6.0 in /usr/local/lib/python3.7/dist-packages (from tensorboard~=2.6->tensorflow<2.7,>=2.6.0->tensorflow-text) (0.6.1)\n",
            "Requirement already satisfied: tensorboard-plugin-wit>=1.6.0 in /usr/local/lib/python3.7/dist-packages (from tensorboard~=2.6->tensorflow<2.7,>=2.6.0->tensorflow-text) (1.8.0)\n",
            "Requirement already satisfied: google-auth<2,>=1.6.3 in /usr/local/lib/python3.7/dist-packages (from tensorboard~=2.6->tensorflow<2.7,>=2.6.0->tensorflow-text) (1.35.0)\n",
            "Requirement already satisfied: werkzeug>=0.11.15 in /usr/local/lib/python3.7/dist-packages (from tensorboard~=2.6->tensorflow<2.7,>=2.6.0->tensorflow-text) (1.0.1)\n",
            "Requirement already satisfied: markdown>=2.6.8 in /usr/local/lib/python3.7/dist-packages (from tensorboard~=2.6->tensorflow<2.7,>=2.6.0->tensorflow-text) (3.3.4)\n",
            "Requirement already satisfied: requests<3,>=2.21.0 in /usr/local/lib/python3.7/dist-packages (from tensorboard~=2.6->tensorflow<2.7,>=2.6.0->tensorflow-text) (2.23.0)\n",
            "Requirement already satisfied: google-auth-oauthlib<0.5,>=0.4.1 in /usr/local/lib/python3.7/dist-packages (from tensorboard~=2.6->tensorflow<2.7,>=2.6.0->tensorflow-text) (0.4.6)\n",
            "Requirement already satisfied: rsa<5,>=3.1.4 in /usr/local/lib/python3.7/dist-packages (from google-auth<2,>=1.6.3->tensorboard~=2.6->tensorflow<2.7,>=2.6.0->tensorflow-text) (4.7.2)\n",
            "Requirement already satisfied: pyasn1-modules>=0.2.1 in /usr/local/lib/python3.7/dist-packages (from google-auth<2,>=1.6.3->tensorboard~=2.6->tensorflow<2.7,>=2.6.0->tensorflow-text) (0.2.8)\n",
            "Requirement already satisfied: cachetools<5.0,>=2.0.0 in /usr/local/lib/python3.7/dist-packages (from google-auth<2,>=1.6.3->tensorboard~=2.6->tensorflow<2.7,>=2.6.0->tensorflow-text) (4.2.4)\n",
            "Requirement already satisfied: requests-oauthlib>=0.7.0 in /usr/local/lib/python3.7/dist-packages (from google-auth-oauthlib<0.5,>=0.4.1->tensorboard~=2.6->tensorflow<2.7,>=2.6.0->tensorflow-text) (1.3.0)\n",
            "Requirement already satisfied: importlib-metadata in /usr/local/lib/python3.7/dist-packages (from markdown>=2.6.8->tensorboard~=2.6->tensorflow<2.7,>=2.6.0->tensorflow-text) (4.8.1)\n",
            "Requirement already satisfied: pyasn1<0.5.0,>=0.4.6 in /usr/local/lib/python3.7/dist-packages (from pyasn1-modules>=0.2.1->google-auth<2,>=1.6.3->tensorboard~=2.6->tensorflow<2.7,>=2.6.0->tensorflow-text) (0.4.8)\n",
            "Requirement already satisfied: urllib3!=1.25.0,!=1.25.1,<1.26,>=1.21.1 in /usr/local/lib/python3.7/dist-packages (from requests<3,>=2.21.0->tensorboard~=2.6->tensorflow<2.7,>=2.6.0->tensorflow-text) (1.24.3)\n",
            "Requirement already satisfied: idna<3,>=2.5 in /usr/local/lib/python3.7/dist-packages (from requests<3,>=2.21.0->tensorboard~=2.6->tensorflow<2.7,>=2.6.0->tensorflow-text) (2.10)\n",
            "Requirement already satisfied: chardet<4,>=3.0.2 in /usr/local/lib/python3.7/dist-packages (from requests<3,>=2.21.0->tensorboard~=2.6->tensorflow<2.7,>=2.6.0->tensorflow-text) (3.0.4)\n",
            "Requirement already satisfied: certifi>=2017.4.17 in /usr/local/lib/python3.7/dist-packages (from requests<3,>=2.21.0->tensorboard~=2.6->tensorflow<2.7,>=2.6.0->tensorflow-text) (2021.5.30)\n",
            "Requirement already satisfied: oauthlib>=3.0.0 in /usr/local/lib/python3.7/dist-packages (from requests-oauthlib>=0.7.0->google-auth-oauthlib<0.5,>=0.4.1->tensorboard~=2.6->tensorflow<2.7,>=2.6.0->tensorflow-text) (3.1.1)\n",
            "Requirement already satisfied: zipp>=0.5 in /usr/local/lib/python3.7/dist-packages (from importlib-metadata->markdown>=2.6.8->tensorboard~=2.6->tensorflow<2.7,>=2.6.0->tensorflow-text) (3.6.0)\n"
          ]
        }
      ]
    },
    {
      "cell_type": "code",
      "metadata": {
        "id": "SLkSxDqGWhD0"
      },
      "source": [
        "import collections\n",
        "import logging\n",
        "import os\n",
        "import pathlib\n",
        "import re\n",
        "import string\n",
        "import sys\n",
        "import time\n",
        "\n",
        "import numpy as np\n",
        "import matplotlib.pyplot as plt\n",
        "\n",
        "import tensorflow_datasets as tfds\n",
        "import tensorflow_text as text\n",
        "import tensorflow as tf"
      ],
      "execution_count": 2,
      "outputs": []
    },
    {
      "cell_type": "code",
      "metadata": {
        "id": "hhJIe1y7XG-U"
      },
      "source": [
        "logging.getLogger('tensorflow').setLevel(logging.ERROR)  # suppress warnings"
      ],
      "execution_count": 3,
      "outputs": []
    },
    {
      "cell_type": "code",
      "metadata": {
        "id": "uw8gPW3iW_53"
      },
      "source": [
        "examples, metadata = tfds.load('ted_hrlr_translate/pt_to_en', with_info=True,\n",
        "                               as_supervised=True)\n",
        "train_examples, val_examples = examples['train'], examples['validation']"
      ],
      "execution_count": 4,
      "outputs": []
    },
    {
      "cell_type": "code",
      "metadata": {
        "colab": {
          "base_uri": "https://localhost:8080/"
        },
        "id": "e9zZXc8eY0ge",
        "outputId": "eff46663-5576-4c7c-873e-83446bcf4ecf"
      },
      "source": [
        "for pt_examples, en_examples in train_examples.batch(3).take(1):\n",
        "  for pt in pt_examples.numpy():\n",
        "    print(pt.decode('utf-8'))\n",
        "\n",
        "  print()\n",
        "\n",
        "  for en in en_examples.numpy():\n",
        "    print(en.decode('utf-8'))"
      ],
      "execution_count": 5,
      "outputs": [
        {
          "output_type": "stream",
          "name": "stdout",
          "text": [
            "e quando melhoramos a procura , tiramos a única vantagem da impressão , que é a serendipidade .\n",
            "mas e se estes fatores fossem ativos ?\n",
            "mas eles não tinham a curiosidade de me testar .\n",
            "\n",
            "and when you improve searchability , you actually take away the one advantage of print , which is serendipity .\n",
            "but what if it were active ?\n",
            "but they did n't test for curiosity .\n"
          ]
        }
      ]
    },
    {
      "cell_type": "code",
      "metadata": {
        "colab": {
          "base_uri": "https://localhost:8080/",
          "height": 35
        },
        "id": "bJWm6Z4lY3g-",
        "outputId": "2de47329-ab8f-4ebf-c390-371925e06fad"
      },
      "source": [
        "model_name = \"ted_hrlr_translate_pt_en_converter\"\n",
        "tf.keras.utils.get_file(\n",
        "    f\"{model_name}.zip\",\n",
        "    f\"https://storage.googleapis.com/download.tensorflow.org/models/{model_name}.zip\",\n",
        "    cache_dir='.', cache_subdir='', extract=True\n",
        ")"
      ],
      "execution_count": 6,
      "outputs": [
        {
          "output_type": "execute_result",
          "data": {
            "application/vnd.google.colaboratory.intrinsic+json": {
              "type": "string"
            },
            "text/plain": [
              "'./ted_hrlr_translate_pt_en_converter.zip'"
            ]
          },
          "metadata": {},
          "execution_count": 6
        }
      ]
    },
    {
      "cell_type": "code",
      "metadata": {
        "id": "TTishSm3Zrjw"
      },
      "source": [
        "tokenizers = tf.saved_model.load(model_name)"
      ],
      "execution_count": 7,
      "outputs": []
    },
    {
      "cell_type": "code",
      "metadata": {
        "colab": {
          "base_uri": "https://localhost:8080/"
        },
        "id": "oFXzHUUPZsst",
        "outputId": "5aae8559-8131-4c6b-8bfc-4b05f8539b88"
      },
      "source": [
        "[item for item in dir(tokenizers.en) if not item.startswith('_')]"
      ],
      "execution_count": 8,
      "outputs": [
        {
          "output_type": "execute_result",
          "data": {
            "text/plain": [
              "['detokenize',\n",
              " 'get_reserved_tokens',\n",
              " 'get_vocab_path',\n",
              " 'get_vocab_size',\n",
              " 'lookup',\n",
              " 'tokenize',\n",
              " 'tokenizer',\n",
              " 'vocab']"
            ]
          },
          "metadata": {},
          "execution_count": 8
        }
      ]
    },
    {
      "cell_type": "code",
      "metadata": {
        "colab": {
          "base_uri": "https://localhost:8080/"
        },
        "id": "9cr0MtG7Y9fp",
        "outputId": "7bfb3fc1-5bac-4e9c-c1d0-8fa217919526"
      },
      "source": [
        "for en in en_examples.numpy():\n",
        "  print(en.decode('utf-8'))"
      ],
      "execution_count": 9,
      "outputs": [
        {
          "output_type": "stream",
          "name": "stdout",
          "text": [
            "and when you improve searchability , you actually take away the one advantage of print , which is serendipity .\n",
            "but what if it were active ?\n",
            "but they did n't test for curiosity .\n"
          ]
        }
      ]
    },
    {
      "cell_type": "code",
      "metadata": {
        "colab": {
          "base_uri": "https://localhost:8080/"
        },
        "id": "kSt9ibA8ZAEI",
        "outputId": "f8f857ff-0f03-4971-dd00-98a397356d22"
      },
      "source": [
        "encoded = tokenizers.en.tokenize(en_examples)\n",
        "\n",
        "for row in encoded.to_list():\n",
        "  print(row)"
      ],
      "execution_count": 10,
      "outputs": [
        {
          "output_type": "stream",
          "name": "stdout",
          "text": [
            "[2, 72, 117, 79, 1259, 1491, 2362, 13, 79, 150, 184, 311, 71, 103, 2308, 74, 2679, 13, 148, 80, 55, 4840, 1434, 2423, 540, 15, 3]\n",
            "[2, 87, 90, 107, 76, 129, 1852, 30, 3]\n",
            "[2, 87, 83, 149, 50, 9, 56, 664, 85, 2512, 15, 3]\n"
          ]
        }
      ]
    },
    {
      "cell_type": "code",
      "metadata": {
        "colab": {
          "base_uri": "https://localhost:8080/"
        },
        "id": "NI4oUOzPZAiI",
        "outputId": "da75f6a3-41c6-4388-87b1-93082283abd7"
      },
      "source": [
        "round_trip = tokenizers.en.detokenize(encoded)\n",
        "for line in round_trip.numpy():\n",
        "  print(line.decode('utf-8'))"
      ],
      "execution_count": 11,
      "outputs": [
        {
          "output_type": "stream",
          "name": "stdout",
          "text": [
            "and when you improve searchability , you actually take away the one advantage of print , which is serendipity .\n",
            "but what if it were active ?\n",
            "but they did n ' t test for curiosity .\n"
          ]
        }
      ]
    },
    {
      "cell_type": "code",
      "metadata": {
        "colab": {
          "base_uri": "https://localhost:8080/"
        },
        "id": "T8eOCGUVZE_f",
        "outputId": "dd2b1a8a-6998-4b53-d966-3e439449d929"
      },
      "source": [
        "tokens = tokenizers.en.lookup(encoded)\n",
        "tokens"
      ],
      "execution_count": 12,
      "outputs": [
        {
          "output_type": "execute_result",
          "data": {
            "text/plain": [
              "<tf.RaggedTensor [[b'[START]', b'and', b'when', b'you', b'improve', b'search', b'##ability', b',', b'you', b'actually', b'take', b'away', b'the', b'one', b'advantage', b'of', b'print', b',', b'which', b'is', b's', b'##ere', b'##nd', b'##ip', b'##ity', b'.', b'[END]'], [b'[START]', b'but', b'what', b'if', b'it', b'were', b'active', b'?', b'[END]'], [b'[START]', b'but', b'they', b'did', b'n', b\"'\", b't', b'test', b'for', b'curiosity', b'.', b'[END]']]>"
            ]
          },
          "metadata": {},
          "execution_count": 12
        }
      ]
    },
    {
      "cell_type": "code",
      "metadata": {
        "id": "gfqmVN67ZINT"
      },
      "source": [
        "def tokenize_pairs(pt, en):\n",
        "    pt = tokenizers.pt.tokenize(pt)\n",
        "    # Convert from ragged to dense, padding with zeros.\n",
        "    pt = pt.to_tensor()\n",
        "\n",
        "    en = tokenizers.en.tokenize(en)\n",
        "    # Convert from ragged to dense, padding with zeros.\n",
        "    en = en.to_tensor()\n",
        "    return pt, en"
      ],
      "execution_count": 13,
      "outputs": []
    },
    {
      "cell_type": "code",
      "metadata": {
        "id": "qdx50p5vZ4hV"
      },
      "source": [
        "BUFFER_SIZE = 20000\n",
        "BATCH_SIZE = 64"
      ],
      "execution_count": 14,
      "outputs": []
    },
    {
      "cell_type": "code",
      "metadata": {
        "id": "-g8mvwkkZ71W"
      },
      "source": [
        "def make_batches(ds):\n",
        "  return (\n",
        "      ds\n",
        "      .cache()\n",
        "      .shuffle(BUFFER_SIZE)\n",
        "      .batch(BATCH_SIZE)\n",
        "      .map(tokenize_pairs, num_parallel_calls=tf.data.AUTOTUNE)\n",
        "      .prefetch(tf.data.AUTOTUNE))\n",
        "\n",
        "\n",
        "train_batches = make_batches(train_examples)\n",
        "val_batches = make_batches(val_examples)"
      ],
      "execution_count": 15,
      "outputs": []
    },
    {
      "cell_type": "code",
      "metadata": {
        "id": "KhGR7e3fZ81j"
      },
      "source": [
        "def get_angles(pos, i, d_model):\n",
        "  angle_rates = 1 / np.power(10000, (2 * (i//2)) / np.float32(d_model))\n",
        "  return pos * angle_rates"
      ],
      "execution_count": 16,
      "outputs": []
    },
    {
      "cell_type": "code",
      "metadata": {
        "id": "ceHdTY8waA8y"
      },
      "source": [
        "def positional_encoding(position, d_model):\n",
        "  angle_rads = get_angles(np.arange(position)[:, np.newaxis],\n",
        "                          np.arange(d_model)[np.newaxis, :],\n",
        "                          d_model)\n",
        "\n",
        "  # apply sin to even indices in the array; 2i\n",
        "  angle_rads[:, 0::2] = np.sin(angle_rads[:, 0::2])\n",
        "\n",
        "  # apply cos to odd indices in the array; 2i+1\n",
        "  angle_rads[:, 1::2] = np.cos(angle_rads[:, 1::2])\n",
        "\n",
        "  pos_encoding = angle_rads[np.newaxis, ...]\n",
        "\n",
        "  return tf.cast(pos_encoding, dtype=tf.float32)"
      ],
      "execution_count": 17,
      "outputs": []
    },
    {
      "cell_type": "code",
      "metadata": {
        "colab": {
          "base_uri": "https://localhost:8080/",
          "height": 300
        },
        "id": "jRm9-cndaDMz",
        "outputId": "aaac6f52-ca8f-48e9-a2bf-a1d1730e765e"
      },
      "source": [
        "n, d = 2048, 512\n",
        "pos_encoding = positional_encoding(n, d)\n",
        "print(pos_encoding.shape)\n",
        "pos_encoding = pos_encoding[0]\n",
        "\n",
        "# Juggle the dimensions for the plot\n",
        "pos_encoding = tf.reshape(pos_encoding, (n, d//2, 2))\n",
        "pos_encoding = tf.transpose(pos_encoding, (2, 1, 0))\n",
        "pos_encoding = tf.reshape(pos_encoding, (d, n))\n",
        "\n",
        "plt.pcolormesh(pos_encoding, cmap='RdBu')\n",
        "plt.ylabel('Depth')\n",
        "plt.xlabel('Position')\n",
        "plt.colorbar()\n",
        "plt.show()"
      ],
      "execution_count": 18,
      "outputs": [
        {
          "output_type": "stream",
          "name": "stdout",
          "text": [
            "(1, 2048, 512)\n"
          ]
        },
        {
          "output_type": "display_data",
          "data": {
            "image/png": "[encoded data removed]",
            "text/plain": [
              "<Figure size 432x288 with 2 Axes>"
            ]
          },
          "metadata": {
            "needs_background": "light"
          }
        }
      ]
    },
    {
      "cell_type": "code",
      "metadata": {
        "id": "CHLIMNkzaGPX"
      },
      "source": [
        "def create_padding_mask(seq):\n",
        "  seq = tf.cast(tf.math.equal(seq, 0), tf.float32)\n",
        "\n",
        "  # add extra dimensions to add the padding\n",
        "  # to the attention logits.\n",
        "  return seq[:, tf.newaxis, tf.newaxis, :]  # (batch_size, 1, 1, seq_len)"
      ],
      "execution_count": 19,
      "outputs": []
    },
    {
      "cell_type": "code",
      "metadata": {
        "colab": {
          "base_uri": "https://localhost:8080/"
        },
        "id": "DgeRra5caLM5",
        "outputId": "6de03db4-c9bc-4823-9f71-8eaa57db9ace"
      },
      "source": [
        "x = tf.constant([[7, 6, 0, 0, 1], [1, 2, 3, 0, 0], [0, 0, 0, 4, 5]])\n",
        "create_padding_mask(x)"
      ],
      "execution_count": 20,
      "outputs": [
        {
          "output_type": "execute_result",
          "data": {
            "text/plain": [
              "<tf.Tensor: shape=(3, 1, 1, 5), dtype=float32, numpy=\n",
              "array([[[[0., 0., 1., 1., 0.]]],\n",
              "\n",
              "\n",
              "       [[[0., 0., 0., 1., 1.]]],\n",
              "\n",
              "\n",
              "       [[[1., 1., 1., 0., 0.]]]], dtype=float32)>"
            ]
          },
          "metadata": {},
          "execution_count": 20
        }
      ]
    },
    {
      "cell_type": "code",
      "metadata": {
        "id": "3An7sLubaOOC"
      },
      "source": [
        "def create_look_ahead_mask(size):\n",
        "  mask = 1 - tf.linalg.band_part(tf.ones((size, size)), -1, 0)\n",
        "  return mask  # (seq_len, seq_len)"
      ],
      "execution_count": 21,
      "outputs": []
    },
    {
      "cell_type": "code",
      "metadata": {
        "colab": {
          "base_uri": "https://localhost:8080/"
        },
        "id": "RjyUql7iaS1L",
        "outputId": "038b0f53-4331-4c21-abc6-63091acfbd4e"
      },
      "source": [
        "x = tf.random.uniform((1, 3))\n",
        "temp = create_look_ahead_mask(x.shape[1])\n",
        "temp"
      ],
      "execution_count": 22,
      "outputs": [
        {
          "output_type": "execute_result",
          "data": {
            "text/plain": [
              "<tf.Tensor: shape=(3, 3), dtype=float32, numpy=\n",
              "array([[0., 1., 1.],\n",
              "       [0., 0., 1.],\n",
              "       [0., 0., 0.]], dtype=float32)>"
            ]
          },
          "metadata": {},
          "execution_count": 22
        }
      ]
    },
    {
      "cell_type": "code",
      "metadata": {
        "id": "NDkPSNf1aVpk"
      },
      "source": [
        "def scaled_dot_product_attention(q, k, v, mask):\n",
        "  \"\"\"Calculate the attention weights.\n",
        "  q, k, v must have matching leading dimensions.\n",
        "  k, v must have matching penultimate dimension, i.e.: seq_len_k = seq_len_v.\n",
        "  The mask has different shapes depending on its type(padding or look ahead)\n",
        "  but it must be broadcastable for addition.\n",
        "\n",
        "  Args:\n",
        "    q: query shape == (..., seq_len_q, depth)\n",
        "    k: key shape == (..., seq_len_k, depth)\n",
        "    v: value shape == (..., seq_len_v, depth_v)\n",
        "    mask: Float tensor with shape broadcastable\n",
        "          to (..., seq_len_q, seq_len_k). Defaults to None.\n",
        "\n",
        "  Returns:\n",
        "    output, attention_weights\n",
        "  \"\"\"\n",
        "\n",
        "  matmul_qk = tf.matmul(q, k, transpose_b=True)  # (..., seq_len_q, seq_len_k)\n",
        "\n",
        "  # scale matmul_qk\n",
        "  dk = tf.cast(tf.shape(k)[-1], tf.float32)\n",
        "  scaled_attention_logits = matmul_qk / tf.math.sqrt(dk)\n",
        "\n",
        "  # add the mask to the scaled tensor.\n",
        "  if mask is not None:\n",
        "    scaled_attention_logits += (mask * -1e9)\n",
        "\n",
        "  # softmax is normalized on the last axis (seq_len_k) so that the scores\n",
        "  # add up to 1.\n",
        "  attention_weights = tf.nn.softmax(scaled_attention_logits, axis=-1)  # (..., seq_len_q, seq_len_k)\n",
        "\n",
        "  output = tf.matmul(attention_weights, v)  # (..., seq_len_q, depth_v)\n",
        "\n",
        "  return output, attention_weights"
      ],
      "execution_count": 23,
      "outputs": []
    },
    {
      "cell_type": "code",
      "metadata": {
        "id": "ExNC86JQaY2R"
      },
      "source": [
        "def print_out(q, k, v):\n",
        "  temp_out, temp_attn = scaled_dot_product_attention(\n",
        "      q, k, v, None)\n",
        "  print('Attention weights are:')\n",
        "  print(temp_attn)\n",
        "  print('Output is:')\n",
        "  print(temp_out)"
      ],
      "execution_count": 24,
      "outputs": []
    },
    {
      "cell_type": "code",
      "metadata": {
        "colab": {
          "base_uri": "https://localhost:8080/"
        },
        "id": "c4Q0X_ZOapYU",
        "outputId": "0ac87b3d-a5b5-4536-dc9c-e5e5f755a48b"
      },
      "source": [
        "np.set_printoptions(suppress=True)\n",
        "\n",
        "temp_k = tf.constant([[10, 0, 0],\n",
        "                      [0, 10, 0],\n",
        "                      [0, 0, 10],\n",
        "                      [0, 0, 10]], dtype=tf.float32)  # (4, 3)\n",
        "\n",
        "temp_v = tf.constant([[1, 0],\n",
        "                      [10, 0],\n",
        "                      [100, 5],\n",
        "                      [1000, 6]], dtype=tf.float32)  # (4, 2)\n",
        "\n",
        "# This `query` aligns with the second `key`,\n",
        "# so the second `value` is returned.\n",
        "temp_q = tf.constant([[0, 10, 0]], dtype=tf.float32)  # (1, 3)\n",
        "print_out(temp_q, temp_k, temp_v)"
      ],
      "execution_count": 25,
      "outputs": [
        {
          "output_type": "stream",
          "name": "stdout",
          "text": [
            "Attention weights are:\n",
            "tf.Tensor([[0. 1. 0. 0.]], shape=(1, 4), dtype=float32)\n",
            "Output is:\n",
            "tf.Tensor([[10.  0.]], shape=(1, 2), dtype=float32)\n"
          ]
        }
      ]
    },
    {
      "cell_type": "code",
      "metadata": {
        "colab": {
          "base_uri": "https://localhost:8080/"
        },
        "id": "G8vesP3Naqcr",
        "outputId": "4b2c3d4e-d37c-4182-807d-61cded5ababf"
      },
      "source": [
        "# This query aligns with a repeated key (third and fourth),\n",
        "# so all associated values get averaged.\n",
        "temp_q = tf.constant([[0, 0, 10]], dtype=tf.float32)  # (1, 3)\n",
        "print_out(temp_q, temp_k, temp_v)"
      ],
      "execution_count": 26,
      "outputs": [
        {
          "output_type": "stream",
          "name": "stdout",
          "text": [
            "Attention weights are:\n",
            "tf.Tensor([[0.  0.  0.5 0.5]], shape=(1, 4), dtype=float32)\n",
            "Output is:\n",
            "tf.Tensor([[550.    5.5]], shape=(1, 2), dtype=float32)\n"
          ]
        }
      ]
    },
    {
      "cell_type": "code",
      "metadata": {
        "colab": {
          "base_uri": "https://localhost:8080/"
        },
        "id": "QjYuCNS5as9G",
        "outputId": "d75eae46-4554-4823-b742-84710e17e408"
      },
      "source": [
        "# This query aligns equally with the first and second key,\n",
        "# so their values get averaged.\n",
        "temp_q = tf.constant([[10, 10, 0]], dtype=tf.float32)  # (1, 3)\n",
        "print_out(temp_q, temp_k, temp_v)"
      ],
      "execution_count": 27,
      "outputs": [
        {
          "output_type": "stream",
          "name": "stdout",
          "text": [
            "Attention weights are:\n",
            "tf.Tensor([[0.5 0.5 0.  0. ]], shape=(1, 4), dtype=float32)\n",
            "Output is:\n",
            "tf.Tensor([[5.5 0. ]], shape=(1, 2), dtype=float32)\n"
          ]
        }
      ]
    },
    {
      "cell_type": "code",
      "metadata": {
        "colab": {
          "base_uri": "https://localhost:8080/"
        },
        "id": "qR3-2vNYavwb",
        "outputId": "6ee79031-f414-4e46-f18c-b7480f28329b"
      },
      "source": [
        "temp_q = tf.constant([[0, 0, 10],\n",
        "                      [0, 10, 0],\n",
        "                      [10, 10, 0]], dtype=tf.float32)  # (3, 3)\n",
        "print_out(temp_q, temp_k, temp_v)"
      ],
      "execution_count": 28,
      "outputs": [
        {
          "output_type": "stream",
          "name": "stdout",
          "text": [
            "Attention weights are:\n",
            "tf.Tensor(\n",
            "[[0.  0.  0.5 0.5]\n",
            " [0.  1.  0.  0. ]\n",
            " [0.5 0.5 0.  0. ]], shape=(3, 4), dtype=float32)\n",
            "Output is:\n",
            "tf.Tensor(\n",
            "[[550.    5.5]\n",
            " [ 10.    0. ]\n",
            " [  5.5   0. ]], shape=(3, 2), dtype=float32)\n"
          ]
        }
      ]
    },
    {
      "cell_type": "code",
      "metadata": {
        "id": "-vUmzmtwazqc"
      },
      "source": [
        "class MultiHeadAttention(tf.keras.layers.Layer):\n",
        "  def __init__(self, d_model, num_heads):\n",
        "    super(MultiHeadAttention, self).__init__()\n",
        "    self.num_heads = num_heads\n",
        "    self.d_model = d_model\n",
        "\n",
        "    assert d_model % self.num_heads == 0\n",
        "\n",
        "    self.depth = d_model // self.num_heads\n",
        "\n",
        "    self.wq = tf.keras.layers.Dense(d_model)\n",
        "    self.wk = tf.keras.layers.Dense(d_model)\n",
        "    self.wv = tf.keras.layers.Dense(d_model)\n",
        "\n",
        "    self.dense = tf.keras.layers.Dense(d_model)\n",
        "\n",
        "  def split_heads(self, x, batch_size):\n",
        "    \"\"\"Split the last dimension into (num_heads, depth).\n",
        "    Transpose the result such that the shape is (batch_size, num_heads, seq_len, depth)\n",
        "    \"\"\"\n",
        "    x = tf.reshape(x, (batch_size, -1, self.num_heads, self.depth))\n",
        "    return tf.transpose(x, perm=[0, 2, 1, 3])\n",
        "\n",
        "  def call(self, v, k, q, mask):\n",
        "    batch_size = tf.shape(q)[0]\n",
        "\n",
        "    q = self.wq(q)  # (batch_size, seq_len, d_model)\n",
        "    k = self.wk(k)  # (batch_size, seq_len, d_model)\n",
        "    v = self.wv(v)  # (batch_size, seq_len, d_model)\n",
        "\n",
        "    q = self.split_heads(q, batch_size)  # (batch_size, num_heads, seq_len_q, depth)\n",
        "    k = self.split_heads(k, batch_size)  # (batch_size, num_heads, seq_len_k, depth)\n",
        "    v = self.split_heads(v, batch_size)  # (batch_size, num_heads, seq_len_v, depth)\n",
        "\n",
        "    # scaled_attention.shape == (batch_size, num_heads, seq_len_q, depth)\n",
        "    # attention_weights.shape == (batch_size, num_heads, seq_len_q, seq_len_k)\n",
        "    scaled_attention, attention_weights = scaled_dot_product_attention(\n",
        "        q, k, v, mask)\n",
        "\n",
        "    scaled_attention = tf.transpose(scaled_attention, perm=[0, 2, 1, 3])  # (batch_size, seq_len_q, num_heads, depth)\n",
        "\n",
        "    concat_attention = tf.reshape(scaled_attention,\n",
        "                                  (batch_size, -1, self.d_model))  # (batch_size, seq_len_q, d_model)\n",
        "\n",
        "    output = self.dense(concat_attention)  # (batch_size, seq_len_q, d_model)\n",
        "\n",
        "    return output, attention_weights"
      ],
      "execution_count": 29,
      "outputs": []
    },
    {
      "cell_type": "code",
      "metadata": {
        "colab": {
          "base_uri": "https://localhost:8080/"
        },
        "id": "JkGM1R3ua38K",
        "outputId": "76c9ee7e-8ee6-4c21-ce52-de0437e83145"
      },
      "source": [
        "temp_mha = MultiHeadAttention(d_model=512, num_heads=8)\n",
        "y = tf.random.uniform((1, 60, 512))  # (batch_size, encoder_sequence, d_model)\n",
        "out, attn = temp_mha(y, k=y, q=y, mask=None)\n",
        "out.shape, attn.shape"
      ],
      "execution_count": 30,
      "outputs": [
        {
          "output_type": "execute_result",
          "data": {
            "text/plain": [
              "(TensorShape([1, 60, 512]), TensorShape([1, 8, 60, 60]))"
            ]
          },
          "metadata": {},
          "execution_count": 30
        }
      ]
    },
    {
      "cell_type": "code",
      "metadata": {
        "id": "KJvSN0nTa4tY"
      },
      "source": [
        "def point_wise_feed_forward_network(d_model, dff):\n",
        "  return tf.keras.Sequential([\n",
        "      tf.keras.layers.Dense(dff, activation='relu'),  # (batch_size, seq_len, dff)\n",
        "      tf.keras.layers.Dense(d_model)  # (batch_size, seq_len, d_model)\n",
        "  ])"
      ],
      "execution_count": 31,
      "outputs": []
    },
    {
      "cell_type": "code",
      "metadata": {
        "colab": {
          "base_uri": "https://localhost:8080/"
        },
        "id": "CIDazI7Qa8L6",
        "outputId": "cfe686e5-10a2-493a-8b62-d0a5c9f03e7d"
      },
      "source": [
        "sample_ffn = point_wise_feed_forward_network(512, 2048)\n",
        "sample_ffn(tf.random.uniform((64, 50, 512))).shape"
      ],
      "execution_count": 32,
      "outputs": [
        {
          "output_type": "execute_result",
          "data": {
            "text/plain": [
              "TensorShape([64, 50, 512])"
            ]
          },
          "metadata": {},
          "execution_count": 32
        }
      ]
    },
    {
      "cell_type": "code",
      "metadata": {
        "id": "pCBP1tiBa9Iv"
      },
      "source": [
        "class EncoderLayer(tf.keras.layers.Layer):\n",
        "  def __init__(self, d_model, num_heads, dff, rate=0.1):\n",
        "    super(EncoderLayer, self).__init__()\n",
        "\n",
        "    self.mha = MultiHeadAttention(d_model, num_heads)\n",
        "    self.ffn = point_wise_feed_forward_network(d_model, dff)\n",
        "\n",
        "    self.layernorm1 = tf.keras.layers.LayerNormalization(epsilon=1e-6)\n",
        "    self.layernorm2 = tf.keras.layers.LayerNormalization(epsilon=1e-6)\n",
        "\n",
        "    self.dropout1 = tf.keras.layers.Dropout(rate)\n",
        "    self.dropout2 = tf.keras.layers.Dropout(rate)\n",
        "\n",
        "  def call(self, x, training, mask):\n",
        "\n",
        "    attn_output, _ = self.mha(x, x, x, mask)  # (batch_size, input_seq_len, d_model)\n",
        "    attn_output = self.dropout1(attn_output, training=training)\n",
        "    out1 = self.layernorm1(x + attn_output)  # (batch_size, input_seq_len, d_model)\n",
        "\n",
        "    ffn_output = self.ffn(out1)  # (batch_size, input_seq_len, d_model)\n",
        "    ffn_output = self.dropout2(ffn_output, training=training)\n",
        "    out2 = self.layernorm2(out1 + ffn_output)  # (batch_size, input_seq_len, d_model)\n",
        "\n",
        "    return out2"
      ],
      "execution_count": 33,
      "outputs": []
    },
    {
      "cell_type": "code",
      "metadata": {
        "colab": {
          "base_uri": "https://localhost:8080/"
        },
        "id": "Jb4Rarl1bAAj",
        "outputId": "64745321-c06f-41ff-8ee9-2ed7432addce"
      },
      "source": [
        "sample_encoder_layer = EncoderLayer(512, 8, 2048)\n",
        "\n",
        "sample_encoder_layer_output = sample_encoder_layer(\n",
        "    tf.random.uniform((64, 43, 512)), False, None)\n",
        "\n",
        "sample_encoder_layer_output.shape  # (batch_size, input_seq_len, d_model)"
      ],
      "execution_count": 34,
      "outputs": [
        {
          "output_type": "execute_result",
          "data": {
            "text/plain": [
              "TensorShape([64, 43, 512])"
            ]
          },
          "metadata": {},
          "execution_count": 34
        }
      ]
    },
    {
      "cell_type": "code",
      "metadata": {
        "id": "H1IPetDUbCfc"
      },
      "source": [
        "class DecoderLayer(tf.keras.layers.Layer):\n",
        "  def __init__(self, d_model, num_heads, dff, rate=0.1):\n",
        "    super(DecoderLayer, self).__init__()\n",
        "\n",
        "    self.mha1 = MultiHeadAttention(d_model, num_heads)\n",
        "    self.mha2 = MultiHeadAttention(d_model, num_heads)\n",
        "\n",
        "    self.ffn = point_wise_feed_forward_network(d_model, dff)\n",
        "\n",
        "    self.layernorm1 = tf.keras.layers.LayerNormalization(epsilon=1e-6)\n",
        "    self.layernorm2 = tf.keras.layers.LayerNormalization(epsilon=1e-6)\n",
        "    self.layernorm3 = tf.keras.layers.LayerNormalization(epsilon=1e-6)\n",
        "\n",
        "    self.dropout1 = tf.keras.layers.Dropout(rate)\n",
        "    self.dropout2 = tf.keras.layers.Dropout(rate)\n",
        "    self.dropout3 = tf.keras.layers.Dropout(rate)\n",
        "\n",
        "  def call(self, x, enc_output, training,\n",
        "           look_ahead_mask, padding_mask):\n",
        "    # enc_output.shape == (batch_size, input_seq_len, d_model)\n",
        "\n",
        "    attn1, attn_weights_block1 = self.mha1(x, x, x, look_ahead_mask)  # (batch_size, target_seq_len, d_model)\n",
        "    attn1 = self.dropout1(attn1, training=training)\n",
        "    out1 = self.layernorm1(attn1 + x)\n",
        "\n",
        "    attn2, attn_weights_block2 = self.mha2(\n",
        "        enc_output, enc_output, out1, padding_mask)  # (batch_size, target_seq_len, d_model)\n",
        "    attn2 = self.dropout2(attn2, training=training)\n",
        "    out2 = self.layernorm2(attn2 + out1)  # (batch_size, target_seq_len, d_model)\n",
        "\n",
        "    ffn_output = self.ffn(out2)  # (batch_size, target_seq_len, d_model)\n",
        "    ffn_output = self.dropout3(ffn_output, training=training)\n",
        "    out3 = self.layernorm3(ffn_output + out2)  # (batch_size, target_seq_len, d_model)\n",
        "\n",
        "    return out3, attn_weights_block1, attn_weights_block2"
      ],
      "execution_count": 35,
      "outputs": []
    },
    {
      "cell_type": "code",
      "metadata": {
        "colab": {
          "base_uri": "https://localhost:8080/"
        },
        "id": "QdESjvX7bHhZ",
        "outputId": "a8ce9bc4-4c71-4710-ab72-eceb8ed0a201"
      },
      "source": [
        "sample_decoder_layer = DecoderLayer(512, 8, 2048)\n",
        "\n",
        "sample_decoder_layer_output, _, _ = sample_decoder_layer(\n",
        "    tf.random.uniform((64, 50, 512)), sample_encoder_layer_output,\n",
        "    False, None, None)\n",
        "\n",
        "sample_decoder_layer_output.shape  # (batch_size, target_seq_len, d_model)"
      ],
      "execution_count": 36,
      "outputs": [
        {
          "output_type": "execute_result",
          "data": {
            "text/plain": [
              "TensorShape([64, 50, 512])"
            ]
          },
          "metadata": {},
          "execution_count": 36
        }
      ]
    },
    {
      "cell_type": "code",
      "metadata": {
        "id": "032k2OULbKUO"
      },
      "source": [
        "class Encoder(tf.keras.layers.Layer):\n",
        "  def __init__(self, num_layers, d_model, num_heads, dff, input_vocab_size,\n",
        "               maximum_position_encoding, rate=0.1):\n",
        "    super(Encoder, self).__init__()\n",
        "\n",
        "    self.d_model = d_model\n",
        "    self.num_layers = num_layers\n",
        "\n",
        "    self.embedding = tf.keras.layers.Embedding(input_vocab_size, d_model)\n",
        "    self.pos_encoding = positional_encoding(maximum_position_encoding,\n",
        "                                            self.d_model)\n",
        "\n",
        "    self.enc_layers = [EncoderLayer(d_model, num_heads, dff, rate)\n",
        "                       for _ in range(num_layers)]\n",
        "\n",
        "    self.dropout = tf.keras.layers.Dropout(rate)\n",
        "\n",
        "  def call(self, x, training, mask):\n",
        "\n",
        "    seq_len = tf.shape(x)[1]\n",
        "\n",
        "    # adding embedding and position encoding.\n",
        "    x = self.embedding(x)  # (batch_size, input_seq_len, d_model)\n",
        "    x *= tf.math.sqrt(tf.cast(self.d_model, tf.float32))\n",
        "    x += self.pos_encoding[:, :seq_len, :]\n",
        "\n",
        "    x = self.dropout(x, training=training)\n",
        "\n",
        "    for i in range(self.num_layers):\n",
        "      x = self.enc_layers[i](x, training, mask)\n",
        "\n",
        "    return x  # (batch_size, input_seq_len, d_model)"
      ],
      "execution_count": 37,
      "outputs": []
    },
    {
      "cell_type": "code",
      "metadata": {
        "colab": {
          "base_uri": "https://localhost:8080/"
        },
        "id": "ptlBVWetbQi9",
        "outputId": "a65b2c63-2f58-4d8f-93f6-3076805f554f"
      },
      "source": [
        "sample_encoder = Encoder(num_layers=2, d_model=512, num_heads=8,\n",
        "                         dff=2048, input_vocab_size=8500,\n",
        "                         maximum_position_encoding=10000)\n",
        "temp_input = tf.random.uniform((64, 62), dtype=tf.int64, minval=0, maxval=200)\n",
        "\n",
        "sample_encoder_output = sample_encoder(temp_input, training=False, mask=None)\n",
        "\n",
        "print(sample_encoder_output.shape)  # (batch_size, input_seq_len, d_model)"
      ],
      "execution_count": 38,
      "outputs": [
        {
          "output_type": "stream",
          "name": "stdout",
          "text": [
            "(64, 62, 512)\n"
          ]
        }
      ]
    },
    {
      "cell_type": "code",
      "metadata": {
        "id": "0qDXHCxDbRyl"
      },
      "source": [
        "class Decoder(tf.keras.layers.Layer):\n",
        "  def __init__(self, num_layers, d_model, num_heads, dff, target_vocab_size,\n",
        "               maximum_position_encoding, rate=0.1):\n",
        "    super(Decoder, self).__init__()\n",
        "\n",
        "    self.d_model = d_model\n",
        "    self.num_layers = num_layers\n",
        "\n",
        "    self.embedding = tf.keras.layers.Embedding(target_vocab_size, d_model)\n",
        "    self.pos_encoding = positional_encoding(maximum_position_encoding, d_model)\n",
        "\n",
        "    self.dec_layers = [DecoderLayer(d_model, num_heads, dff, rate)\n",
        "                       for _ in range(num_layers)]\n",
        "    self.dropout = tf.keras.layers.Dropout(rate)\n",
        "\n",
        "  def call(self, x, enc_output, training,\n",
        "           look_ahead_mask, padding_mask):\n",
        "\n",
        "    seq_len = tf.shape(x)[1]\n",
        "    attention_weights = {}\n",
        "\n",
        "    x = self.embedding(x)  # (batch_size, target_seq_len, d_model)\n",
        "    x *= tf.math.sqrt(tf.cast(self.d_model, tf.float32))\n",
        "    x += self.pos_encoding[:, :seq_len, :]\n",
        "\n",
        "    x = self.dropout(x, training=training)\n",
        "\n",
        "    for i in range(self.num_layers):\n",
        "      x, block1, block2 = self.dec_layers[i](x, enc_output, training,\n",
        "                                             look_ahead_mask, padding_mask)\n",
        "\n",
        "      attention_weights[f'decoder_layer{i+1}_block1'] = block1\n",
        "      attention_weights[f'decoder_layer{i+1}_block2'] = block2\n",
        "\n",
        "    # x.shape == (batch_size, target_seq_len, d_model)\n",
        "    return x, attention_weights"
      ],
      "execution_count": 39,
      "outputs": []
    },
    {
      "cell_type": "code",
      "metadata": {
        "colab": {
          "base_uri": "https://localhost:8080/"
        },
        "id": "bSZu2MupbUkF",
        "outputId": "aa0d6b01-72f5-4cd0-eba0-c4d10aed9fae"
      },
      "source": [
        "sample_decoder = Decoder(num_layers=2, d_model=512, num_heads=8,\n",
        "                         dff=2048, target_vocab_size=8000,\n",
        "                         maximum_position_encoding=5000)\n",
        "temp_input = tf.random.uniform((64, 26), dtype=tf.int64, minval=0, maxval=200)\n",
        "\n",
        "output, attn = sample_decoder(temp_input,\n",
        "                              enc_output=sample_encoder_output,\n",
        "                              training=False,\n",
        "                              look_ahead_mask=None,\n",
        "                              padding_mask=None)\n",
        "\n",
        "output.shape, attn['decoder_layer2_block2'].shape"
      ],
      "execution_count": 40,
      "outputs": [
        {
          "output_type": "execute_result",
          "data": {
            "text/plain": [
              "(TensorShape([64, 26, 512]), TensorShape([64, 8, 26, 62]))"
            ]
          },
          "metadata": {},
          "execution_count": 40
        }
      ]
    },
    {
      "cell_type": "code",
      "metadata": {
        "id": "mnmpLBNTbY5z"
      },
      "source": [
        "class Transformer(tf.keras.Model):\n",
        "  def __init__(self, num_layers, d_model, num_heads, dff, input_vocab_size,\n",
        "               target_vocab_size, pe_input, pe_target, rate=0.1):\n",
        "    super().__init__()\n",
        "    self.encoder = Encoder(num_layers, d_model, num_heads, dff,\n",
        "                             input_vocab_size, pe_input, rate)\n",
        "\n",
        "    self.decoder = Decoder(num_layers, d_model, num_heads, dff,\n",
        "                           target_vocab_size, pe_target, rate)\n",
        "\n",
        "    self.final_layer = tf.keras.layers.Dense(target_vocab_size)\n",
        "\n",
        "  def call(self, inputs, training):\n",
        "    # Keras models prefer if you pass all your inputs in the first argument\n",
        "    inp, tar = inputs\n",
        "\n",
        "    enc_padding_mask, look_ahead_mask, dec_padding_mask = self.create_masks(inp, tar)\n",
        "\n",
        "    enc_output = self.encoder(inp, training, enc_padding_mask)  # (batch_size, inp_seq_len, d_model)\n",
        "\n",
        "    # dec_output.shape == (batch_size, tar_seq_len, d_model)\n",
        "    dec_output, attention_weights = self.decoder(\n",
        "        tar, enc_output, training, look_ahead_mask, dec_padding_mask)\n",
        "\n",
        "    final_output = self.final_layer(dec_output)  # (batch_size, tar_seq_len, target_vocab_size)\n",
        "\n",
        "    return final_output, attention_weights\n",
        "\n",
        "  def create_masks(self, inp, tar):\n",
        "    # Encoder padding mask\n",
        "    enc_padding_mask = create_padding_mask(inp)\n",
        "\n",
        "    # Used in the 2nd attention block in the decoder.\n",
        "    # This padding mask is used to mask the encoder outputs.\n",
        "    dec_padding_mask = create_padding_mask(inp)\n",
        "\n",
        "    # Used in the 1st attention block in the decoder.\n",
        "    # It is used to pad and mask future tokens in the input received by\n",
        "    # the decoder.\n",
        "    look_ahead_mask = create_look_ahead_mask(tf.shape(tar)[1])\n",
        "    dec_target_padding_mask = create_padding_mask(tar)\n",
        "    look_ahead_mask = tf.maximum(dec_target_padding_mask, look_ahead_mask)\n",
        "\n",
        "    return enc_padding_mask, look_ahead_mask, dec_padding_mask"
      ],
      "execution_count": 41,
      "outputs": []
    },
    {
      "cell_type": "code",
      "metadata": {
        "colab": {
          "base_uri": "https://localhost:8080/"
        },
        "id": "29dbF0_CbZ1t",
        "outputId": "be7b709d-b980-4959-fab1-eef048245272"
      },
      "source": [
        "sample_transformer = Transformer(\n",
        "    num_layers=2, d_model=512, num_heads=8, dff=2048,\n",
        "    input_vocab_size=8500, target_vocab_size=8000,\n",
        "    pe_input=10000, pe_target=6000)\n",
        "\n",
        "temp_input = tf.random.uniform((64, 38), dtype=tf.int64, minval=0, maxval=200)\n",
        "temp_target = tf.random.uniform((64, 36), dtype=tf.int64, minval=0, maxval=200)\n",
        "\n",
        "fn_out, _ = sample_transformer([temp_input, temp_target], training=False)\n",
        "\n",
        "fn_out.shape  # (batch_size, tar_seq_len, target_vocab_size)"
      ],
      "execution_count": 42,
      "outputs": [
        {
          "output_type": "execute_result",
          "data": {
            "text/plain": [
              "TensorShape([64, 36, 8000])"
            ]
          },
          "metadata": {},
          "execution_count": 42
        }
      ]
    },
    {
      "cell_type": "code",
      "metadata": {
        "id": "Nd-poHW7bcf0"
      },
      "source": [
        "num_layers = 4\n",
        "d_model = 128\n",
        "dff = 512\n",
        "num_heads = 8\n",
        "dropout_rate = 0.1"
      ],
      "execution_count": 43,
      "outputs": []
    },
    {
      "cell_type": "code",
      "metadata": {
        "id": "7YlrzTmVbh58"
      },
      "source": [
        "class CustomSchedule(tf.keras.optimizers.schedules.LearningRateSchedule):\n",
        "  def __init__(self, d_model, warmup_steps=4000):\n",
        "    super(CustomSchedule, self).__init__()\n",
        "\n",
        "    self.d_model = d_model\n",
        "    self.d_model = tf.cast(self.d_model, tf.float32)\n",
        "\n",
        "    self.warmup_steps = warmup_steps\n",
        "\n",
        "  def __call__(self, step):\n",
        "    arg1 = tf.math.rsqrt(step)\n",
        "    arg2 = step * (self.warmup_steps ** -1.5)\n",
        "\n",
        "    return tf.math.rsqrt(self.d_model) * tf.math.minimum(arg1, arg2)"
      ],
      "execution_count": 44,
      "outputs": []
    },
    {
      "cell_type": "code",
      "metadata": {
        "id": "DBZoGnTHbi5s"
      },
      "source": [
        "learning_rate = CustomSchedule(d_model)\n",
        "\n",
        "optimizer = tf.keras.optimizers.Adam(learning_rate, beta_1=0.9, beta_2=0.98,\n",
        "                                     epsilon=1e-9)"
      ],
      "execution_count": 45,
      "outputs": []
    },
    {
      "cell_type": "code",
      "metadata": {
        "colab": {
          "base_uri": "https://localhost:8080/",
          "height": 296
        },
        "id": "YKl9MkBCbjCS",
        "outputId": "3034ff41-6e3f-44d0-bfd6-9d363f6bfee1"
      },
      "source": [
        "temp_learning_rate_schedule = CustomSchedule(d_model)\n",
        "\n",
        "plt.plot(temp_learning_rate_schedule(tf.range(40000, dtype=tf.float32)))\n",
        "plt.ylabel(\"Learning Rate\")\n",
        "plt.xlabel(\"Train Step\")"
      ],
      "execution_count": 46,
      "outputs": [
        {
          "output_type": "execute_result",
          "data": {
            "text/plain": [
              "Text(0.5, 0, 'Train Step')"
            ]
          },
          "metadata": {},
          "execution_count": 46
        },
        {
          "output_type": "display_data",
          "data": {
            "image/png": "[encoded data removed]",
            "text/plain": [
              "<Figure size 432x288 with 1 Axes>"
            ]
          },
          "metadata": {
            "needs_background": "light"
          }
        }
      ]
    },
    {
      "cell_type": "code",
      "metadata": {
        "id": "WPidKutAbqGE"
      },
      "source": [
        "loss_object = tf.keras.losses.SparseCategoricalCrossentropy(\n",
        "    from_logits=True, reduction='none')"
      ],
      "execution_count": 47,
      "outputs": []
    },
    {
      "cell_type": "code",
      "metadata": {
        "id": "qX0O2ACwbrSv"
      },
      "source": [
        "def loss_function(real, pred):\n",
        "  mask = tf.math.logical_not(tf.math.equal(real, 0))\n",
        "  loss_ = loss_object(real, pred)\n",
        "\n",
        "  mask = tf.cast(mask, dtype=loss_.dtype)\n",
        "  loss_ *= mask\n",
        "\n",
        "  return tf.reduce_sum(loss_)/tf.reduce_sum(mask)\n",
        "\n",
        "\n",
        "def accuracy_function(real, pred):\n",
        "  accuracies = tf.equal(real, tf.argmax(pred, axis=2))\n",
        "\n",
        "  mask = tf.math.logical_not(tf.math.equal(real, 0))\n",
        "  accuracies = tf.math.logical_and(mask, accuracies)\n",
        "\n",
        "  accuracies = tf.cast(accuracies, dtype=tf.float32)\n",
        "  mask = tf.cast(mask, dtype=tf.float32)\n",
        "  return tf.reduce_sum(accuracies)/tf.reduce_sum(mask)"
      ],
      "execution_count": 48,
      "outputs": []
    },
    {
      "cell_type": "code",
      "metadata": {
        "id": "SkYO-1AGbvdI"
      },
      "source": [
        "train_loss = tf.keras.metrics.Mean(name='train_loss')\n",
        "train_accuracy = tf.keras.metrics.Mean(name='train_accuracy')"
      ],
      "execution_count": 49,
      "outputs": []
    },
    {
      "cell_type": "code",
      "metadata": {
        "id": "uIpilpFsbwoo"
      },
      "source": [
        "transformer = Transformer(\n",
        "    num_layers=num_layers,\n",
        "    d_model=d_model,\n",
        "    num_heads=num_heads,\n",
        "    dff=dff,\n",
        "    input_vocab_size=tokenizers.pt.get_vocab_size().numpy(),\n",
        "    target_vocab_size=tokenizers.en.get_vocab_size().numpy(),\n",
        "    pe_input=1000,\n",
        "    pe_target=1000,\n",
        "    rate=dropout_rate)"
      ],
      "execution_count": 50,
      "outputs": []
    },
    {
      "cell_type": "code",
      "metadata": {
        "id": "MhyInyTLbzD2"
      },
      "source": [
        "checkpoint_path = \"./checkpoints/train\"\n",
        "\n",
        "ckpt = tf.train.Checkpoint(transformer=transformer,\n",
        "                           optimizer=optimizer)\n",
        "\n",
        "ckpt_manager = tf.train.CheckpointManager(ckpt, checkpoint_path, max_to_keep=5)\n",
        "\n",
        "# if a checkpoint exists, restore the latest checkpoint.\n",
        "if ckpt_manager.latest_checkpoint:\n",
        "  ckpt.restore(ckpt_manager.latest_checkpoint)\n",
        "  print('Latest checkpoint restored!!')"
      ],
      "execution_count": 51,
      "outputs": []
    },
    {
      "cell_type": "code",
      "metadata": {
        "id": "TkkpcOjmb3ng"
      },
      "source": [
        "EPOCHS = 20"
      ],
      "execution_count": 52,
      "outputs": []
    },
    {
      "cell_type": "code",
      "metadata": {
        "id": "w2GZQRpSkgCn"
      },
      "source": [
        "# The @tf.function trace-compiles train_step into a TF graph for faster\n",
        "# execution. The function specializes to the precise shape of the argument\n",
        "# tensors. To avoid re-tracing due to the variable sequence lengths or variable\n",
        "# batch sizes (the last batch is smaller), use input_signature to specify\n",
        "# more generic shapes.\n",
        "\n",
        "train_step_signature = [\n",
        "    tf.TensorSpec(shape=(None, None), dtype=tf.int64),\n",
        "    tf.TensorSpec(shape=(None, None), dtype=tf.int64),\n",
        "]\n",
        "\n",
        "\n",
        "@tf.function(input_signature=train_step_signature)\n",
        "def train_step(inp, tar):\n",
        "  tar_inp = tar[:, :-1]\n",
        "  tar_real = tar[:, 1:]\n",
        "\n",
        "  with tf.GradientTape() as tape:\n",
        "    predictions, _ = transformer([inp, tar_inp],\n",
        "                                 training = True)\n",
        "    loss = loss_function(tar_real, predictions)\n",
        "\n",
        "  gradients = tape.gradient(loss, transformer.trainable_variables)\n",
        "  optimizer.apply_gradients(zip(gradients, transformer.trainable_variables))\n",
        "\n",
        "  train_loss(loss)\n",
        "  train_accuracy(accuracy_function(tar_real, predictions))"
      ],
      "execution_count": 54,
      "outputs": []
    },
    {
      "cell_type": "code",
      "metadata": {
        "colab": {
          "base_uri": "https://localhost:8080/"
        },
        "id": "mV28iV9sb4tQ",
        "outputId": "869232f3-6920-4c2d-f276-397da8e045de"
      },
      "source": [
        "for epoch in range(EPOCHS):\n",
        "  start = time.time()\n",
        "\n",
        "  train_loss.reset_states()\n",
        "  train_accuracy.reset_states()\n",
        "\n",
        "  # inp -> portuguese, tar -> english\n",
        "  for (batch, (inp, tar)) in enumerate(train_batches):\n",
        "    train_step(inp, tar)\n",
        "\n",
        "    if batch % 50 == 0:\n",
        "      print(f'Epoch {epoch + 1} Batch {batch} Loss {train_loss.result():.4f} Accuracy {train_accuracy.result():.4f}')\n",
        "\n",
        "  if (epoch + 1) % 5 == 0:\n",
        "    ckpt_save_path = ckpt_manager.save()\n",
        "    print(f'Saving checkpoint for epoch {epoch+1} at {ckpt_save_path}')\n",
        "\n",
        "  print(f'Epoch {epoch + 1} Loss {train_loss.result():.4f} Accuracy {train_accuracy.result():.4f}')\n",
        "\n",
        "  print(f'Time taken for 1 epoch: {time.time() - start:.2f} secs\\n')"
      ],
      "execution_count": 55,
      "outputs": [
        {
          "output_type": "stream",
          "name": "stdout",
          "text": [
            "Epoch 1 Batch 0 Loss 8.8924 Accuracy 0.0007\n",
            "Epoch 1 Batch 50 Loss 8.8408 Accuracy 0.0013\n",
            "Epoch 1 Batch 100 Loss 8.7264 Accuracy 0.0174\n",
            "Epoch 1 Batch 150 Loss 8.6090 Accuracy 0.0290\n",
            "Epoch 1 Batch 200 Loss 8.4677 Accuracy 0.0372\n",
            "Epoch 1 Batch 250 Loss 8.2991 Accuracy 0.0439\n",
            "Epoch 1 Batch 300 Loss 8.1082 Accuracy 0.0497\n",
            "Epoch 1 Batch 350 Loss 7.9122 Accuracy 0.0569\n",
            "Epoch 1 Batch 400 Loss 7.7218 Accuracy 0.0645\n",
            "Epoch 1 Batch 450 Loss 7.5522 Accuracy 0.0712\n",
            "Epoch 1 Batch 500 Loss 7.4051 Accuracy 0.0773\n",
            "Epoch 1 Batch 550 Loss 7.2716 Accuracy 0.0839\n",
            "Epoch 1 Batch 600 Loss 7.1500 Accuracy 0.0908\n",
            "Epoch 1 Batch 650 Loss 7.0324 Accuracy 0.0982\n",
            "Epoch 1 Batch 700 Loss 6.9269 Accuracy 0.1047\n",
            "Epoch 1 Batch 750 Loss 6.8281 Accuracy 0.1108\n",
            "Epoch 1 Batch 800 Loss 6.7335 Accuracy 0.1168\n",
            "Epoch 1 Loss 6.7167 Accuracy 0.1178\n",
            "Time taken for 1 epoch: 226.42 secs\n",
            "\n",
            "Epoch 2 Batch 0 Loss 5.3205 Accuracy 0.2014\n",
            "Epoch 2 Batch 50 Loss 5.2505 Accuracy 0.2097\n",
            "Epoch 2 Batch 100 Loss 5.2211 Accuracy 0.2138\n",
            "Epoch 2 Batch 150 Loss 5.1935 Accuracy 0.2170\n",
            "Epoch 2 Batch 200 Loss 5.1567 Accuracy 0.2208\n",
            "Epoch 2 Batch 250 Loss 5.1329 Accuracy 0.2236\n",
            "Epoch 2 Batch 300 Loss 5.1037 Accuracy 0.2262\n",
            "Epoch 2 Batch 350 Loss 5.0814 Accuracy 0.2287\n",
            "Epoch 2 Batch 400 Loss 5.0566 Accuracy 0.2312\n",
            "Epoch 2 Batch 450 Loss 5.0336 Accuracy 0.2334\n",
            "Epoch 2 Batch 500 Loss 5.0115 Accuracy 0.2352\n",
            "Epoch 2 Batch 550 Loss 4.9940 Accuracy 0.2369\n",
            "Epoch 2 Batch 600 Loss 4.9749 Accuracy 0.2387\n",
            "Epoch 2 Batch 650 Loss 4.9554 Accuracy 0.2403\n",
            "Epoch 2 Batch 700 Loss 4.9387 Accuracy 0.2418\n",
            "Epoch 2 Batch 750 Loss 4.9219 Accuracy 0.2432\n",
            "Epoch 2 Batch 800 Loss 4.9058 Accuracy 0.2446\n",
            "Epoch 2 Loss 4.9028 Accuracy 0.2449\n",
            "Time taken for 1 epoch: 208.53 secs\n",
            "\n",
            "Epoch 3 Batch 0 Loss 4.5105 Accuracy 0.2768\n",
            "Epoch 3 Batch 50 Loss 4.6018 Accuracy 0.2710\n",
            "Epoch 3 Batch 100 Loss 4.5968 Accuracy 0.2700\n",
            "Epoch 3 Batch 150 Loss 4.5744 Accuracy 0.2728\n",
            "Epoch 3 Batch 200 Loss 4.5662 Accuracy 0.2730\n",
            "Epoch 3 Batch 250 Loss 4.5472 Accuracy 0.2752\n",
            "Epoch 3 Batch 300 Loss 4.5337 Accuracy 0.2769\n",
            "Epoch 3 Batch 350 Loss 4.5194 Accuracy 0.2787\n",
            "Epoch 3 Batch 400 Loss 4.5032 Accuracy 0.2809\n",
            "Epoch 3 Batch 450 Loss 4.4917 Accuracy 0.2822\n",
            "Epoch 3 Batch 500 Loss 4.4756 Accuracy 0.2843\n",
            "Epoch 3 Batch 550 Loss 4.4621 Accuracy 0.2858\n",
            "Epoch 3 Batch 600 Loss 4.4471 Accuracy 0.2876\n",
            "Epoch 3 Batch 650 Loss 4.4319 Accuracy 0.2896\n",
            "Epoch 3 Batch 700 Loss 4.4161 Accuracy 0.2915\n",
            "Epoch 3 Batch 750 Loss 4.4004 Accuracy 0.2934\n",
            "Epoch 3 Batch 800 Loss 4.3855 Accuracy 0.2953\n",
            "Epoch 3 Loss 4.3820 Accuracy 0.2957\n",
            "Time taken for 1 epoch: 208.92 secs\n",
            "\n",
            "Epoch 4 Batch 0 Loss 4.0699 Accuracy 0.3446\n",
            "Epoch 4 Batch 50 Loss 4.0457 Accuracy 0.3336\n",
            "Epoch 4 Batch 100 Loss 4.0390 Accuracy 0.3343\n",
            "Epoch 4 Batch 150 Loss 4.0221 Accuracy 0.3370\n",
            "Epoch 4 Batch 200 Loss 4.0064 Accuracy 0.3390\n",
            "Epoch 4 Batch 250 Loss 3.9951 Accuracy 0.3401\n",
            "Epoch 4 Batch 300 Loss 3.9763 Accuracy 0.3425\n",
            "Epoch 4 Batch 350 Loss 3.9621 Accuracy 0.3445\n",
            "Epoch 4 Batch 400 Loss 3.9495 Accuracy 0.3462\n",
            "Epoch 4 Batch 450 Loss 3.9354 Accuracy 0.3483\n",
            "Epoch 4 Batch 500 Loss 3.9218 Accuracy 0.3503\n",
            "Epoch 4 Batch 550 Loss 3.9068 Accuracy 0.3523\n",
            "Epoch 4 Batch 600 Loss 3.8916 Accuracy 0.3543\n",
            "Epoch 4 Batch 650 Loss 3.8794 Accuracy 0.3557\n",
            "Epoch 4 Batch 700 Loss 3.8647 Accuracy 0.3578\n",
            "Epoch 4 Batch 750 Loss 3.8517 Accuracy 0.3595\n",
            "Epoch 4 Batch 800 Loss 3.8386 Accuracy 0.3612\n",
            "Epoch 4 Loss 3.8373 Accuracy 0.3615\n",
            "Time taken for 1 epoch: 206.65 secs\n",
            "\n",
            "Epoch 5 Batch 0 Loss 3.4955 Accuracy 0.3797\n",
            "Epoch 5 Batch 50 Loss 3.5352 Accuracy 0.3942\n",
            "Epoch 5 Batch 100 Loss 3.5084 Accuracy 0.3989\n",
            "Epoch 5 Batch 150 Loss 3.5009 Accuracy 0.4001\n",
            "Epoch 5 Batch 200 Loss 3.4872 Accuracy 0.4024\n",
            "Epoch 5 Batch 250 Loss 3.4819 Accuracy 0.4034\n",
            "Epoch 5 Batch 300 Loss 3.4695 Accuracy 0.4049\n",
            "Epoch 5 Batch 350 Loss 3.4656 Accuracy 0.4053\n",
            "Epoch 5 Batch 400 Loss 3.4560 Accuracy 0.4067\n",
            "Epoch 5 Batch 450 Loss 3.4481 Accuracy 0.4079\n",
            "Epoch 5 Batch 500 Loss 3.4378 Accuracy 0.4094\n",
            "Epoch 5 Batch 550 Loss 3.4271 Accuracy 0.4109\n",
            "Epoch 5 Batch 600 Loss 3.4171 Accuracy 0.4123\n",
            "Epoch 5 Batch 650 Loss 3.4072 Accuracy 0.4135\n",
            "Epoch 5 Batch 700 Loss 3.3998 Accuracy 0.4146\n",
            "Epoch 5 Batch 750 Loss 3.3909 Accuracy 0.4156\n",
            "Epoch 5 Batch 800 Loss 3.3828 Accuracy 0.4166\n",
            "Saving checkpoint for epoch 5 at ./checkpoints/train/ckpt-1\n",
            "Epoch 5 Loss 3.3822 Accuracy 0.4168\n",
            "Time taken for 1 epoch: 208.48 secs\n",
            "\n",
            "Epoch 6 Batch 0 Loss 3.3680 Accuracy 0.4054\n",
            "Epoch 6 Batch 50 Loss 3.1187 Accuracy 0.4434\n",
            "Epoch 6 Batch 100 Loss 3.1173 Accuracy 0.4444\n",
            "Epoch 6 Batch 150 Loss 3.1049 Accuracy 0.4469\n",
            "Epoch 6 Batch 200 Loss 3.0893 Accuracy 0.4495\n",
            "Epoch 6 Batch 250 Loss 3.0762 Accuracy 0.4518\n",
            "Epoch 6 Batch 300 Loss 3.0709 Accuracy 0.4527\n",
            "Epoch 6 Batch 350 Loss 3.0657 Accuracy 0.4536\n",
            "Epoch 6 Batch 400 Loss 3.0569 Accuracy 0.4551\n",
            "Epoch 6 Batch 450 Loss 3.0455 Accuracy 0.4568\n",
            "Epoch 6 Batch 500 Loss 3.0358 Accuracy 0.4581\n",
            "Epoch 6 Batch 550 Loss 3.0292 Accuracy 0.4591\n",
            "Epoch 6 Batch 600 Loss 3.0195 Accuracy 0.4606\n",
            "Epoch 6 Batch 650 Loss 3.0123 Accuracy 0.4617\n",
            "Epoch 6 Batch 700 Loss 3.0048 Accuracy 0.4628\n",
            "Epoch 6 Batch 750 Loss 2.9967 Accuracy 0.4640\n",
            "Epoch 6 Batch 800 Loss 2.9878 Accuracy 0.4653\n",
            "Epoch 6 Loss 2.9851 Accuracy 0.4657\n",
            "Time taken for 1 epoch: 208.24 secs\n",
            "\n",
            "Epoch 7 Batch 0 Loss 2.6204 Accuracy 0.5097\n",
            "Epoch 7 Batch 50 Loss 2.6886 Accuracy 0.5030\n",
            "Epoch 7 Batch 100 Loss 2.6850 Accuracy 0.5025\n",
            "Epoch 7 Batch 150 Loss 2.6952 Accuracy 0.5014\n",
            "Epoch 7 Batch 200 Loss 2.6971 Accuracy 0.5013\n",
            "Epoch 7 Batch 250 Loss 2.6914 Accuracy 0.5024\n",
            "Epoch 7 Batch 300 Loss 2.6877 Accuracy 0.5032\n",
            "Epoch 7 Batch 350 Loss 2.6832 Accuracy 0.5040\n",
            "Epoch 7 Batch 400 Loss 2.6800 Accuracy 0.5044\n",
            "Epoch 7 Batch 450 Loss 2.6766 Accuracy 0.5049\n",
            "Epoch 7 Batch 500 Loss 2.6732 Accuracy 0.5054\n",
            "Epoch 7 Batch 550 Loss 2.6689 Accuracy 0.5059\n",
            "Epoch 7 Batch 600 Loss 2.6646 Accuracy 0.5066\n",
            "Epoch 7 Batch 650 Loss 2.6625 Accuracy 0.5070\n",
            "Epoch 7 Batch 700 Loss 2.6579 Accuracy 0.5077\n",
            "Epoch 7 Batch 750 Loss 2.6520 Accuracy 0.5087\n",
            "Epoch 7 Batch 800 Loss 2.6478 Accuracy 0.5093\n",
            "Epoch 7 Loss 2.6479 Accuracy 0.5094\n",
            "Time taken for 1 epoch: 210.19 secs\n",
            "\n",
            "Epoch 8 Batch 0 Loss 2.3990 Accuracy 0.5301\n",
            "Epoch 8 Batch 50 Loss 2.4274 Accuracy 0.5368\n",
            "Epoch 8 Batch 100 Loss 2.4255 Accuracy 0.5363\n",
            "Epoch 8 Batch 150 Loss 2.4291 Accuracy 0.5365\n",
            "Epoch 8 Batch 200 Loss 2.4315 Accuracy 0.5360\n",
            "Epoch 8 Batch 250 Loss 2.4295 Accuracy 0.5365\n",
            "Epoch 8 Batch 300 Loss 2.4295 Accuracy 0.5367\n",
            "Epoch 8 Batch 350 Loss 2.4262 Accuracy 0.5375\n",
            "Epoch 8 Batch 400 Loss 2.4229 Accuracy 0.5383\n",
            "Epoch 8 Batch 450 Loss 2.4204 Accuracy 0.5385\n",
            "Epoch 8 Batch 500 Loss 2.4165 Accuracy 0.5392\n",
            "Epoch 8 Batch 550 Loss 2.4163 Accuracy 0.5391\n",
            "Epoch 8 Batch 600 Loss 2.4152 Accuracy 0.5395\n",
            "Epoch 8 Batch 650 Loss 2.4127 Accuracy 0.5400\n",
            "Epoch 8 Batch 700 Loss 2.4102 Accuracy 0.5405\n",
            "Epoch 8 Batch 750 Loss 2.4082 Accuracy 0.5409\n",
            "Epoch 8 Batch 800 Loss 2.4093 Accuracy 0.5408\n",
            "Epoch 8 Loss 2.4083 Accuracy 0.5410\n",
            "Time taken for 1 epoch: 209.39 secs\n",
            "\n",
            "Epoch 9 Batch 0 Loss 2.2028 Accuracy 0.5707\n",
            "Epoch 9 Batch 50 Loss 2.2015 Accuracy 0.5674\n",
            "Epoch 9 Batch 100 Loss 2.2198 Accuracy 0.5655\n",
            "Epoch 9 Batch 150 Loss 2.2267 Accuracy 0.5652\n",
            "Epoch 9 Batch 200 Loss 2.2295 Accuracy 0.5650\n",
            "Epoch 9 Batch 250 Loss 2.2307 Accuracy 0.5647\n",
            "Epoch 9 Batch 300 Loss 2.2307 Accuracy 0.5648\n",
            "Epoch 9 Batch 350 Loss 2.2328 Accuracy 0.5644\n",
            "Epoch 9 Batch 400 Loss 2.2338 Accuracy 0.5643\n",
            "Epoch 9 Batch 450 Loss 2.2362 Accuracy 0.5639\n",
            "Epoch 9 Batch 500 Loss 2.2337 Accuracy 0.5644\n",
            "Epoch 9 Batch 550 Loss 2.2333 Accuracy 0.5647\n",
            "Epoch 9 Batch 600 Loss 2.2316 Accuracy 0.5651\n",
            "Epoch 9 Batch 650 Loss 2.2330 Accuracy 0.5649\n",
            "Epoch 9 Batch 700 Loss 2.2336 Accuracy 0.5647\n",
            "Epoch 9 Batch 750 Loss 2.2332 Accuracy 0.5650\n",
            "Epoch 9 Batch 800 Loss 2.2318 Accuracy 0.5653\n",
            "Epoch 9 Loss 2.2317 Accuracy 0.5653\n",
            "Time taken for 1 epoch: 209.17 secs\n",
            "\n",
            "Epoch 10 Batch 0 Loss 2.2908 Accuracy 0.5580\n",
            "Epoch 10 Batch 50 Loss 2.0994 Accuracy 0.5825\n",
            "Epoch 10 Batch 100 Loss 2.1077 Accuracy 0.5812\n",
            "Epoch 10 Batch 150 Loss 2.0898 Accuracy 0.5843\n",
            "Epoch 10 Batch 200 Loss 2.0893 Accuracy 0.5839\n",
            "Epoch 10 Batch 250 Loss 2.0867 Accuracy 0.5840\n",
            "Epoch 10 Batch 300 Loss 2.0910 Accuracy 0.5836\n",
            "Epoch 10 Batch 350 Loss 2.0896 Accuracy 0.5841\n",
            "Epoch 10 Batch 400 Loss 2.0878 Accuracy 0.5847\n",
            "Epoch 10 Batch 450 Loss 2.0903 Accuracy 0.5842\n",
            "Epoch 10 Batch 500 Loss 2.0896 Accuracy 0.5844\n",
            "Epoch 10 Batch 550 Loss 2.0911 Accuracy 0.5841\n",
            "Epoch 10 Batch 600 Loss 2.0917 Accuracy 0.5840\n",
            "Epoch 10 Batch 650 Loss 2.0920 Accuracy 0.5841\n",
            "Epoch 10 Batch 700 Loss 2.0931 Accuracy 0.5840\n",
            "Epoch 10 Batch 750 Loss 2.0933 Accuracy 0.5841\n",
            "Epoch 10 Batch 800 Loss 2.0933 Accuracy 0.5842\n",
            "Saving checkpoint for epoch 10 at ./checkpoints/train/ckpt-2\n",
            "Epoch 10 Loss 2.0925 Accuracy 0.5843\n",
            "Time taken for 1 epoch: 209.19 secs\n",
            "\n",
            "Epoch 11 Batch 0 Loss 1.9199 Accuracy 0.6349\n",
            "Epoch 11 Batch 50 Loss 1.9497 Accuracy 0.6042\n",
            "Epoch 11 Batch 100 Loss 1.9635 Accuracy 0.6013\n",
            "Epoch 11 Batch 150 Loss 1.9534 Accuracy 0.6035\n",
            "Epoch 11 Batch 200 Loss 1.9593 Accuracy 0.6033\n",
            "Epoch 11 Batch 250 Loss 1.9599 Accuracy 0.6028\n",
            "Epoch 11 Batch 300 Loss 1.9629 Accuracy 0.6022\n",
            "Epoch 11 Batch 350 Loss 1.9683 Accuracy 0.6016\n",
            "Epoch 11 Batch 400 Loss 1.9660 Accuracy 0.6022\n",
            "Epoch 11 Batch 450 Loss 1.9682 Accuracy 0.6017\n",
            "Epoch 11 Batch 500 Loss 1.9689 Accuracy 0.6016\n",
            "Epoch 11 Batch 550 Loss 1.9702 Accuracy 0.6016\n",
            "Epoch 11 Batch 600 Loss 1.9707 Accuracy 0.6016\n",
            "Epoch 11 Batch 650 Loss 1.9714 Accuracy 0.6017\n",
            "Epoch 11 Batch 700 Loss 1.9771 Accuracy 0.6007\n",
            "Epoch 11 Batch 750 Loss 1.9767 Accuracy 0.6007\n",
            "Epoch 11 Batch 800 Loss 1.9780 Accuracy 0.6006\n",
            "Epoch 11 Loss 1.9771 Accuracy 0.6008\n",
            "Time taken for 1 epoch: 210.44 secs\n",
            "\n",
            "Epoch 12 Batch 0 Loss 1.8753 Accuracy 0.6124\n",
            "Epoch 12 Batch 50 Loss 1.8654 Accuracy 0.6156\n",
            "Epoch 12 Batch 100 Loss 1.8593 Accuracy 0.6169\n",
            "Epoch 12 Batch 150 Loss 1.8611 Accuracy 0.6172\n",
            "Epoch 12 Batch 200 Loss 1.8600 Accuracy 0.6175\n",
            "Epoch 12 Batch 250 Loss 1.8598 Accuracy 0.6178\n",
            "Epoch 12 Batch 300 Loss 1.8616 Accuracy 0.6173\n",
            "Epoch 12 Batch 350 Loss 1.8615 Accuracy 0.6174\n",
            "Epoch 12 Batch 400 Loss 1.8631 Accuracy 0.6170\n",
            "Epoch 12 Batch 450 Loss 1.8661 Accuracy 0.6165\n",
            "Epoch 12 Batch 500 Loss 1.8672 Accuracy 0.6164\n",
            "Epoch 12 Batch 550 Loss 1.8680 Accuracy 0.6164\n",
            "Epoch 12 Batch 600 Loss 1.8719 Accuracy 0.6160\n",
            "Epoch 12 Batch 650 Loss 1.8731 Accuracy 0.6158\n",
            "Epoch 12 Batch 700 Loss 1.8777 Accuracy 0.6152\n",
            "Epoch 12 Batch 750 Loss 1.8796 Accuracy 0.6148\n",
            "Epoch 12 Batch 800 Loss 1.8822 Accuracy 0.6145\n",
            "Epoch 12 Loss 1.8829 Accuracy 0.6144\n",
            "Time taken for 1 epoch: 209.52 secs\n",
            "\n",
            "Epoch 13 Batch 0 Loss 1.5036 Accuracy 0.6816\n",
            "Epoch 13 Batch 50 Loss 1.7653 Accuracy 0.6301\n",
            "Epoch 13 Batch 100 Loss 1.7681 Accuracy 0.6294\n",
            "Epoch 13 Batch 150 Loss 1.7615 Accuracy 0.6315\n",
            "Epoch 13 Batch 200 Loss 1.7692 Accuracy 0.6306\n",
            "Epoch 13 Batch 250 Loss 1.7743 Accuracy 0.6299\n",
            "Epoch 13 Batch 300 Loss 1.7793 Accuracy 0.6294\n",
            "Epoch 13 Batch 350 Loss 1.7809 Accuracy 0.6291\n",
            "Epoch 13 Batch 400 Loss 1.7819 Accuracy 0.6289\n",
            "Epoch 13 Batch 450 Loss 1.7854 Accuracy 0.6282\n",
            "Epoch 13 Batch 500 Loss 1.7892 Accuracy 0.6278\n",
            "Epoch 13 Batch 550 Loss 1.7914 Accuracy 0.6274\n",
            "Epoch 13 Batch 600 Loss 1.7919 Accuracy 0.6273\n",
            "Epoch 13 Batch 650 Loss 1.7929 Accuracy 0.6273\n",
            "Epoch 13 Batch 700 Loss 1.7950 Accuracy 0.6269\n",
            "Epoch 13 Batch 750 Loss 1.7987 Accuracy 0.6265\n",
            "Epoch 13 Batch 800 Loss 1.8021 Accuracy 0.6262\n",
            "Epoch 13 Loss 1.8026 Accuracy 0.6262\n",
            "Time taken for 1 epoch: 210.65 secs\n",
            "\n",
            "Epoch 14 Batch 0 Loss 1.7347 Accuracy 0.6458\n",
            "Epoch 14 Batch 50 Loss 1.6929 Accuracy 0.6432\n",
            "Epoch 14 Batch 100 Loss 1.6849 Accuracy 0.6445\n",
            "Epoch 14 Batch 150 Loss 1.6894 Accuracy 0.6435\n",
            "Epoch 14 Batch 200 Loss 1.6994 Accuracy 0.6415\n",
            "Epoch 14 Batch 250 Loss 1.7015 Accuracy 0.6412\n",
            "Epoch 14 Batch 300 Loss 1.7103 Accuracy 0.6399\n",
            "Epoch 14 Batch 350 Loss 1.7095 Accuracy 0.6398\n",
            "Epoch 14 Batch 400 Loss 1.7097 Accuracy 0.6399\n",
            "Epoch 14 Batch 450 Loss 1.7153 Accuracy 0.6390\n",
            "Epoch 14 Batch 500 Loss 1.7167 Accuracy 0.6389\n",
            "Epoch 14 Batch 550 Loss 1.7181 Accuracy 0.6387\n",
            "Epoch 14 Batch 600 Loss 1.7198 Accuracy 0.6386\n",
            "Epoch 14 Batch 650 Loss 1.7206 Accuracy 0.6385\n",
            "Epoch 14 Batch 700 Loss 1.7228 Accuracy 0.6382\n",
            "Epoch 14 Batch 750 Loss 1.7266 Accuracy 0.6375\n",
            "Epoch 14 Batch 800 Loss 1.7299 Accuracy 0.6371\n",
            "Epoch 14 Loss 1.7310 Accuracy 0.6369\n",
            "Time taken for 1 epoch: 208.81 secs\n",
            "\n",
            "Epoch 15 Batch 0 Loss 1.7155 Accuracy 0.6269\n",
            "Epoch 15 Batch 50 Loss 1.6157 Accuracy 0.6520\n",
            "Epoch 15 Batch 100 Loss 1.6179 Accuracy 0.6541\n",
            "Epoch 15 Batch 150 Loss 1.6241 Accuracy 0.6530\n",
            "Epoch 15 Batch 200 Loss 1.6320 Accuracy 0.6518\n",
            "Epoch 15 Batch 250 Loss 1.6350 Accuracy 0.6516\n",
            "Epoch 15 Batch 300 Loss 1.6404 Accuracy 0.6504\n",
            "Epoch 15 Batch 350 Loss 1.6440 Accuracy 0.6499\n",
            "Epoch 15 Batch 400 Loss 1.6476 Accuracy 0.6492\n",
            "Epoch 15 Batch 450 Loss 1.6492 Accuracy 0.6491\n",
            "Epoch 15 Batch 500 Loss 1.6507 Accuracy 0.6490\n",
            "Epoch 15 Batch 550 Loss 1.6515 Accuracy 0.6488\n",
            "Epoch 15 Batch 600 Loss 1.6542 Accuracy 0.6485\n",
            "Epoch 15 Batch 650 Loss 1.6566 Accuracy 0.6481\n",
            "Epoch 15 Batch 700 Loss 1.6598 Accuracy 0.6475\n",
            "Epoch 15 Batch 750 Loss 1.6615 Accuracy 0.6474\n",
            "Epoch 15 Batch 800 Loss 1.6655 Accuracy 0.6469\n",
            "Saving checkpoint for epoch 15 at ./checkpoints/train/ckpt-3\n",
            "Epoch 15 Loss 1.6663 Accuracy 0.6468\n",
            "Time taken for 1 epoch: 210.06 secs\n",
            "\n",
            "Epoch 16 Batch 0 Loss 1.4667 Accuracy 0.6958\n",
            "Epoch 16 Batch 50 Loss 1.5554 Accuracy 0.6636\n",
            "Epoch 16 Batch 100 Loss 1.5729 Accuracy 0.6621\n",
            "Epoch 16 Batch 150 Loss 1.5764 Accuracy 0.6616\n",
            "Epoch 16 Batch 200 Loss 1.5817 Accuracy 0.6607\n",
            "Epoch 16 Batch 250 Loss 1.5813 Accuracy 0.6607\n",
            "Epoch 16 Batch 300 Loss 1.5851 Accuracy 0.6595\n",
            "Epoch 16 Batch 350 Loss 1.5888 Accuracy 0.6588\n",
            "Epoch 16 Batch 400 Loss 1.5931 Accuracy 0.6580\n",
            "Epoch 16 Batch 450 Loss 1.5960 Accuracy 0.6576\n",
            "Epoch 16 Batch 500 Loss 1.5993 Accuracy 0.6569\n",
            "Epoch 16 Batch 550 Loss 1.6001 Accuracy 0.6567\n",
            "Epoch 16 Batch 600 Loss 1.6028 Accuracy 0.6562\n",
            "Epoch 16 Batch 650 Loss 1.6048 Accuracy 0.6561\n",
            "Epoch 16 Batch 700 Loss 1.6080 Accuracy 0.6556\n",
            "Epoch 16 Batch 750 Loss 1.6114 Accuracy 0.6550\n",
            "Epoch 16 Batch 800 Loss 1.6128 Accuracy 0.6549\n",
            "Epoch 16 Loss 1.6133 Accuracy 0.6548\n",
            "Time taken for 1 epoch: 209.72 secs\n",
            "\n",
            "Epoch 17 Batch 0 Loss 1.5183 Accuracy 0.6721\n",
            "Epoch 17 Batch 50 Loss 1.5235 Accuracy 0.6685\n",
            "Epoch 17 Batch 100 Loss 1.5174 Accuracy 0.6685\n",
            "Epoch 17 Batch 150 Loss 1.5225 Accuracy 0.6679\n",
            "Epoch 17 Batch 200 Loss 1.5273 Accuracy 0.6672\n",
            "Epoch 17 Batch 250 Loss 1.5361 Accuracy 0.6656\n",
            "Epoch 17 Batch 300 Loss 1.5405 Accuracy 0.6650\n",
            "Epoch 17 Batch 350 Loss 1.5450 Accuracy 0.6642\n",
            "Epoch 17 Batch 400 Loss 1.5455 Accuracy 0.6642\n",
            "Epoch 17 Batch 450 Loss 1.5454 Accuracy 0.6645\n",
            "Epoch 17 Batch 500 Loss 1.5490 Accuracy 0.6638\n",
            "Epoch 17 Batch 550 Loss 1.5520 Accuracy 0.6635\n",
            "Epoch 17 Batch 600 Loss 1.5559 Accuracy 0.6628\n",
            "Epoch 17 Batch 650 Loss 1.5579 Accuracy 0.6627\n",
            "Epoch 17 Batch 700 Loss 1.5616 Accuracy 0.6622\n",
            "Epoch 17 Batch 750 Loss 1.5648 Accuracy 0.6618\n",
            "Epoch 17 Batch 800 Loss 1.5656 Accuracy 0.6617\n",
            "Epoch 17 Loss 1.5653 Accuracy 0.6618\n",
            "Time taken for 1 epoch: 208.00 secs\n",
            "\n",
            "Epoch 18 Batch 0 Loss 1.5499 Accuracy 0.6615\n",
            "Epoch 18 Batch 50 Loss 1.4817 Accuracy 0.6734\n",
            "Epoch 18 Batch 100 Loss 1.4832 Accuracy 0.6748\n",
            "Epoch 18 Batch 150 Loss 1.4870 Accuracy 0.6738\n",
            "Epoch 18 Batch 200 Loss 1.4889 Accuracy 0.6736\n",
            "Epoch 18 Batch 250 Loss 1.4926 Accuracy 0.6732\n",
            "Epoch 18 Batch 300 Loss 1.4945 Accuracy 0.6727\n",
            "Epoch 18 Batch 350 Loss 1.4968 Accuracy 0.6721\n",
            "Epoch 18 Batch 400 Loss 1.5014 Accuracy 0.6715\n",
            "Epoch 18 Batch 450 Loss 1.5043 Accuracy 0.6708\n",
            "Epoch 18 Batch 500 Loss 1.5063 Accuracy 0.6706\n",
            "Epoch 18 Batch 550 Loss 1.5081 Accuracy 0.6704\n",
            "Epoch 18 Batch 600 Loss 1.5114 Accuracy 0.6700\n",
            "Epoch 18 Batch 650 Loss 1.5141 Accuracy 0.6696\n",
            "Epoch 18 Batch 700 Loss 1.5156 Accuracy 0.6694\n",
            "Epoch 18 Batch 750 Loss 1.5169 Accuracy 0.6692\n",
            "Epoch 18 Batch 800 Loss 1.5186 Accuracy 0.6691\n",
            "Epoch 18 Loss 1.5194 Accuracy 0.6690\n",
            "Time taken for 1 epoch: 211.88 secs\n",
            "\n",
            "Epoch 19 Batch 0 Loss 1.3895 Accuracy 0.6900\n",
            "Epoch 19 Batch 50 Loss 1.4491 Accuracy 0.6794\n",
            "Epoch 19 Batch 100 Loss 1.4265 Accuracy 0.6838\n",
            "Epoch 19 Batch 150 Loss 1.4285 Accuracy 0.6844\n",
            "Epoch 19 Batch 200 Loss 1.4380 Accuracy 0.6831\n",
            "Epoch 19 Batch 250 Loss 1.4484 Accuracy 0.6810\n",
            "Epoch 19 Batch 300 Loss 1.4557 Accuracy 0.6797\n",
            "Epoch 19 Batch 350 Loss 1.4581 Accuracy 0.6792\n",
            "Epoch 19 Batch 400 Loss 1.4600 Accuracy 0.6789\n",
            "Epoch 19 Batch 450 Loss 1.4610 Accuracy 0.6787\n",
            "Epoch 19 Batch 500 Loss 1.4622 Accuracy 0.6786\n",
            "Epoch 19 Batch 550 Loss 1.4648 Accuracy 0.6781\n",
            "Epoch 19 Batch 600 Loss 1.4676 Accuracy 0.6776\n",
            "Epoch 19 Batch 650 Loss 1.4707 Accuracy 0.6771\n",
            "Epoch 19 Batch 700 Loss 1.4747 Accuracy 0.6765\n",
            "Epoch 19 Batch 750 Loss 1.4773 Accuracy 0.6760\n",
            "Epoch 19 Batch 800 Loss 1.4798 Accuracy 0.6757\n",
            "Epoch 19 Loss 1.4806 Accuracy 0.6756\n",
            "Time taken for 1 epoch: 209.07 secs\n",
            "\n",
            "Epoch 20 Batch 0 Loss 1.3395 Accuracy 0.6990\n",
            "Epoch 20 Batch 50 Loss 1.4052 Accuracy 0.6863\n",
            "Epoch 20 Batch 100 Loss 1.3984 Accuracy 0.6884\n",
            "Epoch 20 Batch 150 Loss 1.4056 Accuracy 0.6878\n",
            "Epoch 20 Batch 200 Loss 1.4094 Accuracy 0.6868\n",
            "Epoch 20 Batch 250 Loss 1.4156 Accuracy 0.6853\n",
            "Epoch 20 Batch 300 Loss 1.4215 Accuracy 0.6839\n",
            "Epoch 20 Batch 350 Loss 1.4277 Accuracy 0.6828\n",
            "Epoch 20 Batch 400 Loss 1.4299 Accuracy 0.6825\n",
            "Epoch 20 Batch 450 Loss 1.4318 Accuracy 0.6821\n",
            "Epoch 20 Batch 500 Loss 1.4342 Accuracy 0.6819\n",
            "Epoch 20 Batch 550 Loss 1.4365 Accuracy 0.6816\n",
            "Epoch 20 Batch 600 Loss 1.4385 Accuracy 0.6812\n",
            "Epoch 20 Batch 650 Loss 1.4410 Accuracy 0.6811\n",
            "Epoch 20 Batch 700 Loss 1.4425 Accuracy 0.6809\n",
            "Epoch 20 Batch 750 Loss 1.4446 Accuracy 0.6808\n",
            "Epoch 20 Batch 800 Loss 1.4458 Accuracy 0.6807\n",
            "Saving checkpoint for epoch 20 at ./checkpoints/train/ckpt-4\n",
            "Epoch 20 Loss 1.4456 Accuracy 0.6807\n",
            "Time taken for 1 epoch: 210.40 secs\n",
            "\n"
          ]
        }
      ]
    },
    {
      "cell_type": "code",
      "metadata": {
        "id": "k8WDPdQA06hM"
      },
      "source": [
        "class Translator(tf.Module):\n",
        "  def __init__(self, tokenizers, transformer):\n",
        "    self.tokenizers = tokenizers\n",
        "    self.transformer = transformer\n",
        "\n",
        "  def __call__(self, sentence, max_length=20):\n",
        "    # input sentence is portuguese, hence adding the start and end token\n",
        "    assert isinstance(sentence, tf.Tensor)\n",
        "    if len(sentence.shape) == 0:\n",
        "      sentence = sentence[tf.newaxis]\n",
        "\n",
        "    sentence = self.tokenizers.pt.tokenize(sentence).to_tensor()\n",
        "\n",
        "    encoder_input = sentence\n",
        "\n",
        "    # as the target is english, the first token to the transformer should be the\n",
        "    # english start token.\n",
        "    start_end = self.tokenizers.en.tokenize([''])[0]\n",
        "    start = start_end[0][tf.newaxis]\n",
        "    end = start_end[1][tf.newaxis]\n",
        "\n",
        "    # `tf.TensorArray` is required here (instead of a python list) so that the\n",
        "    # dynamic-loop can be traced by `tf.function`.\n",
        "    output_array = tf.TensorArray(dtype=tf.int64, size=0, dynamic_size=True)\n",
        "    output_array = output_array.write(0, start)\n",
        "\n",
        "    for i in tf.range(max_length):\n",
        "      output = tf.transpose(output_array.stack())\n",
        "      predictions, _ = self.transformer([encoder_input, output], training=False)\n",
        "\n",
        "      # select the last token from the seq_len dimension\n",
        "      predictions = predictions[:, -1:, :]  # (batch_size, 1, vocab_size)\n",
        "\n",
        "      predicted_id = tf.argmax(predictions, axis=-1)\n",
        "\n",
        "      # concatentate the predicted_id to the output which is given to the decoder\n",
        "      # as its input.\n",
        "      output_array = output_array.write(i+1, predicted_id[0])\n",
        "\n",
        "      if predicted_id == end:\n",
        "        break\n",
        "\n",
        "    output = tf.transpose(output_array.stack())\n",
        "    # output.shape (1, tokens)\n",
        "    text = tokenizers.en.detokenize(output)[0]  # shape: ()\n",
        "\n",
        "    tokens = tokenizers.en.lookup(output)[0]\n",
        "\n",
        "    # `tf.function` prevents us from using the attention_weights that were\n",
        "    # calculated on the last iteration of the loop. So recalculate them outside\n",
        "    # the loop.\n",
        "    _, attention_weights = self.transformer([encoder_input, output[:,:-1]], training=False)\n",
        "\n",
        "    return text, tokens, attention_weights"
      ],
      "execution_count": 56,
      "outputs": []
    },
    {
      "cell_type": "code",
      "metadata": {
        "id": "STTioWd70-G_"
      },
      "source": [
        "translator = Translator(tokenizers, transformer)"
      ],
      "execution_count": 57,
      "outputs": []
    },
    {
      "cell_type": "code",
      "metadata": {
        "id": "xSMcs6mK1CMX"
      },
      "source": [
        "def print_translation(sentence, tokens, ground_truth):\n",
        "  print(f'{\"Input:\":15s}: {sentence}')\n",
        "  print(f'{\"Prediction\":15s}: {tokens.numpy().decode(\"utf-8\")}')\n",
        "  print(f'{\"Ground truth\":15s}: {ground_truth}')"
      ],
      "execution_count": 58,
      "outputs": []
    },
    {
      "cell_type": "code",
      "metadata": {
        "colab": {
          "base_uri": "https://localhost:8080/"
        },
        "id": "wCOIETF41F5X",
        "outputId": "77e617e5-0b0e-44e2-93ec-af07788a4f15"
      },
      "source": [
        "sentence = \"este é um problema que temos que resolver.\"\n",
        "ground_truth = \"this is a problem we have to solve .\"\n",
        "\n",
        "translated_text, translated_tokens, attention_weights = translator(\n",
        "    tf.constant(sentence))\n",
        "print_translation(sentence, translated_text, ground_truth)"
      ],
      "execution_count": 59,
      "outputs": [
        {
          "output_type": "stream",
          "name": "stdout",
          "text": [
            "Input:         : este é um problema que temos que resolver.\n",
            "Prediction     : this is a problem that we have to solve .\n",
            "Ground truth   : this is a problem we have to solve .\n"
          ]
        }
      ]
    },
    {
      "cell_type": "code",
      "metadata": {
        "colab": {
          "base_uri": "https://localhost:8080/"
        },
        "id": "CZI6ug6i1K10",
        "outputId": "78523d3c-6b8e-451a-df6c-e6fee23a01b1"
      },
      "source": [
        "sentence = \"os meus vizinhos ouviram sobre esta ideia.\"\n",
        "ground_truth = \"and my neighboring homes heard about this idea .\"\n",
        "\n",
        "translated_text, translated_tokens, attention_weights = translator(\n",
        "    tf.constant(sentence))\n",
        "print_translation(sentence, translated_text, ground_truth)"
      ],
      "execution_count": 60,
      "outputs": [
        {
          "output_type": "stream",
          "name": "stdout",
          "text": [
            "Input:         : os meus vizinhos ouviram sobre esta ideia.\n",
            "Prediction     : my neighbors heard about this idea .\n",
            "Ground truth   : and my neighboring homes heard about this idea .\n"
          ]
        }
      ]
    },
    {
      "cell_type": "code",
      "metadata": {
        "colab": {
          "base_uri": "https://localhost:8080/"
        },
        "id": "ddCuSnXM1O9d",
        "outputId": "07d44659-67c6-4aea-91d4-33d9578008bb"
      },
      "source": [
        "sentence = \"vou então muito rapidamente partilhar convosco algumas histórias de algumas coisas mágicas que aconteceram.\"\n",
        "ground_truth = \"so i \\'ll just share with you some stories very quickly of some magical things that have happened .\"\n",
        "\n",
        "translated_text, translated_tokens, attention_weights = translator(\n",
        "    tf.constant(sentence))\n",
        "print_translation(sentence, translated_text, ground_truth)"
      ],
      "execution_count": 61,
      "outputs": [
        {
          "output_type": "stream",
          "name": "stdout",
          "text": [
            "Input:         : vou então muito rapidamente partilhar convosco algumas histórias de algumas coisas mágicas que aconteceram.\n",
            "Prediction     : so i ' m going to really share with you a few things that happened to some magic things that\n",
            "Ground truth   : so i 'll just share with you some stories very quickly of some magical things that have happened .\n"
          ]
        }
      ]
    },
    {
      "cell_type": "code",
      "metadata": {
        "colab": {
          "base_uri": "https://localhost:8080/"
        },
        "id": "-mRREaeZ1U6_",
        "outputId": "729967db-5610-47f7-b26f-5af2558a9501"
      },
      "source": [
        "sentence = \"este é o primeiro livro que eu fiz.\"\n",
        "ground_truth = \"this is the first book i've ever done.\"\n",
        "\n",
        "translated_text, translated_tokens, attention_weights = translator(\n",
        "    tf.constant(sentence))\n",
        "print_translation(sentence, translated_text, ground_truth)"
      ],
      "execution_count": 62,
      "outputs": [
        {
          "output_type": "stream",
          "name": "stdout",
          "text": [
            "Input:         : este é o primeiro livro que eu fiz.\n",
            "Prediction     : this is the first book that i did .\n",
            "Ground truth   : this is the first book i've ever done.\n"
          ]
        }
      ]
    },
    {
      "cell_type": "code",
      "metadata": {
        "id": "EObWyH941Wct"
      },
      "source": [
        "def plot_attention_head(in_tokens, translated_tokens, attention):\n",
        "  # The plot is of the attention when a token was generated.\n",
        "  # The model didn't generate `<START>` in the output. Skip it.\n",
        "  translated_tokens = translated_tokens[1:]\n",
        "\n",
        "  ax = plt.gca()\n",
        "  ax.matshow(attention)\n",
        "  ax.set_xticks(range(len(in_tokens)))\n",
        "  ax.set_yticks(range(len(translated_tokens)))\n",
        "\n",
        "  labels = [label.decode('utf-8') for label in in_tokens.numpy()]\n",
        "  ax.set_xticklabels(\n",
        "      labels, rotation=90)\n",
        "\n",
        "  labels = [label.decode('utf-8') for label in translated_tokens.numpy()]\n",
        "  ax.set_yticklabels(labels)"
      ],
      "execution_count": 63,
      "outputs": []
    },
    {
      "cell_type": "code",
      "metadata": {
        "colab": {
          "base_uri": "https://localhost:8080/"
        },
        "id": "nhN0HXnr1czg",
        "outputId": "a4171a69-3c62-49b7-8efb-273f1e127e31"
      },
      "source": [
        "head = 0\n",
        "# shape: (batch=1, num_heads, seq_len_q, seq_len_k)\n",
        "attention_heads = tf.squeeze(\n",
        "  attention_weights['decoder_layer4_block2'], 0)\n",
        "attention = attention_heads[head]\n",
        "attention.shape"
      ],
      "execution_count": 64,
      "outputs": [
        {
          "output_type": "execute_result",
          "data": {
            "text/plain": [
              "TensorShape([10, 11])"
            ]
          },
          "metadata": {},
          "execution_count": 64
        }
      ]
    },
    {
      "cell_type": "code",
      "metadata": {
        "colab": {
          "base_uri": "https://localhost:8080/"
        },
        "id": "a390fXJs1d_i",
        "outputId": "d6073e9b-86f0-426e-a82e-ec210db6f8d5"
      },
      "source": [
        "in_tokens = tf.convert_to_tensor([sentence])\n",
        "in_tokens = tokenizers.pt.tokenize(in_tokens).to_tensor()\n",
        "in_tokens = tokenizers.pt.lookup(in_tokens)[0]\n",
        "in_tokens"
      ],
      "execution_count": 65,
      "outputs": [
        {
          "output_type": "execute_result",
          "data": {
            "text/plain": [
              "<tf.Tensor: shape=(11,), dtype=string, numpy=\n",
              "array([b'[START]', b'este', b'e', b'o', b'primeiro', b'livro', b'que',\n",
              "       b'eu', b'fiz', b'.', b'[END]'], dtype=object)>"
            ]
          },
          "metadata": {},
          "execution_count": 65
        }
      ]
    },
    {
      "cell_type": "code",
      "metadata": {
        "colab": {
          "base_uri": "https://localhost:8080/"
        },
        "id": "wKFQwl3U1grC",
        "outputId": "49bed23a-e151-4d25-82be-f4608e30843c"
      },
      "source": [
        "translated_tokens"
      ],
      "execution_count": 66,
      "outputs": [
        {
          "output_type": "execute_result",
          "data": {
            "text/plain": [
              "<tf.Tensor: shape=(11,), dtype=string, numpy=\n",
              "array([b'[START]', b'this', b'is', b'the', b'first', b'book', b'that',\n",
              "       b'i', b'did', b'.', b'[END]'], dtype=object)>"
            ]
          },
          "metadata": {},
          "execution_count": 66
        }
      ]
    },
    {
      "cell_type": "code",
      "metadata": {
        "colab": {
          "base_uri": "https://localhost:8080/",
          "height": 301
        },
        "id": "djE48-4w1kkn",
        "outputId": "ad76480a-a4f4-4a0d-dca0-9f7527cd3519"
      },
      "source": [
        "plot_attention_head(in_tokens, translated_tokens, attention)"
      ],
      "execution_count": 67,
      "outputs": [
        {
          "output_type": "display_data",
          "data": {
            "image/png": "[encoded data removed]",
            "text/plain": [
              "<Figure size 432x288 with 1 Axes>"
            ]
          },
          "metadata": {
            "needs_background": "light"
          }
        }
      ]
    },
    {
      "cell_type": "code",
      "metadata": {
        "id": "jjJ_F7QQ1l0m"
      },
      "source": [
        "def plot_attention_weights(sentence, translated_tokens, attention_heads):\n",
        "  in_tokens = tf.convert_to_tensor([sentence])\n",
        "  in_tokens = tokenizers.pt.tokenize(in_tokens).to_tensor()\n",
        "  in_tokens = tokenizers.pt.lookup(in_tokens)[0]\n",
        "  in_tokens\n",
        "\n",
        "  fig = plt.figure(figsize=(16, 8))\n",
        "\n",
        "  for h, head in enumerate(attention_heads):\n",
        "    ax = fig.add_subplot(2, 4, h+1)\n",
        "\n",
        "    plot_attention_head(in_tokens, translated_tokens, head)\n",
        "\n",
        "    ax.set_xlabel(f'Head {h+1}')\n",
        "\n",
        "  plt.tight_layout()\n",
        "  plt.show()"
      ],
      "execution_count": 68,
      "outputs": []
    },
    {
      "cell_type": "code",
      "metadata": {
        "colab": {
          "base_uri": "https://localhost:8080/",
          "height": 593
        },
        "id": "H1W5oti21oi6",
        "outputId": "e7b8f8ef-d183-4632-c7d6-9d0a5186228f"
      },
      "source": [
        "plot_attention_weights(sentence, translated_tokens,\n",
        "                       attention_weights['decoder_layer4_block2'][0])"
      ],
      "execution_count": 69,
      "outputs": [
        {
          "output_type": "display_data",
          "data": {
            "image/png": "[encoded data removed]",
            "text/plain": [
              "<Figure size 1152x576 with 8 Axes>"
            ]
          },
          "metadata": {
            "needs_background": "light"
          }
        }
      ]
    },
    {
      "cell_type": "code",
      "metadata": {
        "colab": {
          "base_uri": "https://localhost:8080/",
          "height": 576
        },
        "id": "EdO83cp21uHF",
        "outputId": "17fd13ae-5c09-40ab-a9af-e707c3264754"
      },
      "source": [
        "sentence = \"Eu li sobre triceratops na enciclopédia.\"\n",
        "ground_truth = \"I read about triceratops in the encyclopedia.\"\n",
        "\n",
        "translated_text, translated_tokens, attention_weights = translator(\n",
        "    tf.constant(sentence))\n",
        "print_translation(sentence, translated_text, ground_truth)\n",
        "\n",
        "plot_attention_weights(sentence, translated_tokens,\n",
        "                       attention_weights['decoder_layer4_block2'][0])"
      ],
      "execution_count": 70,
      "outputs": [
        {
          "output_type": "stream",
          "name": "stdout",
          "text": [
            "Input:         : Eu li sobre triceratops na enciclopédia.\n",
            "Prediction     : i read about triopparities in egypt .\n",
            "Ground truth   : I read about triceratops in the encyclopedia.\n"
          ]
        },
        {
          "output_type": "display_data",
          "data": {
            "image/png": "[encoded data removed]",
            "text/plain": [
              "<Figure size 1152x576 with 8 Axes>"
            ]
          },
          "metadata": {
            "needs_background": "light"
          }
        }
      ]
    },
    {
      "cell_type": "code",
      "metadata": {
        "id": "MW8uEuo_1zNE"
      },
      "source": [
        "class ExportTranslator(tf.Module):\n",
        "  def __init__(self, translator):\n",
        "    self.translator = translator\n",
        "\n",
        "  @tf.function(input_signature=[tf.TensorSpec(shape=[], dtype=tf.string)])\n",
        "  def __call__(self, sentence):\n",
        "    (result, \n",
        "     tokens,\n",
        "     attention_weights) = self.translator(sentence, max_length=100)\n",
        "\n",
        "    return result"
      ],
      "execution_count": 71,
      "outputs": []
    },
    {
      "cell_type": "code",
      "metadata": {
        "id": "_1nxOb6410TY"
      },
      "source": [
        "translator = ExportTranslator(translator)"
      ],
      "execution_count": 72,
      "outputs": []
    },
    {
      "cell_type": "code",
      "metadata": {
        "colab": {
          "base_uri": "https://localhost:8080/"
        },
        "id": "8JPEaJ1z13HY",
        "outputId": "866b23eb-1b36-4b6d-a8cb-ed548c24292b"
      },
      "source": [
        "translator(\"este é o primeiro livro que eu fiz.\").numpy()"
      ],
      "execution_count": 73,
      "outputs": [
        {
          "output_type": "execute_result",
          "data": {
            "text/plain": [
              "b'this is the first book that i did .'"
            ]
          },
          "metadata": {},
          "execution_count": 73
        }
      ]
    },
    {
      "cell_type": "code",
      "metadata": {
        "colab": {
          "base_uri": "https://localhost:8080/"
        },
        "id": "_lRDpgH317yd",
        "outputId": "c71c176f-4836-469a-bcaa-1a5dd6e2d697"
      },
      "source": [
        "tf.saved_model.save(translator, export_dir='translator')"
      ],
      "execution_count": 74,
      "outputs": [
        {
          "output_type": "stream",
          "name": "stderr",
          "text": [
            "WARNING:absl:Found untraced functions such as embedding_4_layer_call_fn, embedding_4_layer_call_and_return_conditional_losses, dropout_37_layer_call_fn, dropout_37_layer_call_and_return_conditional_losses, embedding_5_layer_call_fn while saving (showing 5 of 560). These functions will not be directly callable after loading.\n"
          ]
        }
      ]
    },
    {
      "cell_type": "code",
      "metadata": {
        "id": "ac8W2oBp1_HY"
      },
      "source": [
        "reloaded = tf.saved_model.load('translator')"
      ],
      "execution_count": 75,
      "outputs": []
    },
    {
      "cell_type": "code",
      "metadata": {
        "colab": {
          "base_uri": "https://localhost:8080/"
        },
        "id": "ywS3Dbbm2C-V",
        "outputId": "5c18b318-d1f5-45c7-ef1c-370c3efae7b0"
      },
      "source": [
        "reloaded(\"este é o primeiro livro que eu fiz.\").numpy()"
      ],
      "execution_count": 76,
      "outputs": [
        {
          "output_type": "execute_result",
          "data": {
            "text/plain": [
              "b'this is the first book that i did .'"
            ]
          },
          "metadata": {},
          "execution_count": 76
        }
      ]
    }
  ]
}