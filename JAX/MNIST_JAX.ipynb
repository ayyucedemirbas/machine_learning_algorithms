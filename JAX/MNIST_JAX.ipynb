{
  "nbformat": 4,
  "nbformat_minor": 0,
  "metadata": {
    "colab": {
      "name": "MNIST-JAX.ipynb",
      "provenance": []
    },
    "kernelspec": {
      "name": "python3",
      "display_name": "Python 3"
    },
    "language_info": {
      "name": "python"
    },
    "accelerator": "GPU",
    "gpuClass": "standard",
    "widgets": {
      "application/vnd.jupyter.widget-state+json": {
        "93f15fb3ab7044518a51a2f68398682d": {
          "model_module": "@jupyter-widgets/controls",
          "model_name": "HBoxModel",
          "model_module_version": "1.5.0",
          "state": {
            "_dom_classes": [],
            "_model_module": "@jupyter-widgets/controls",
            "_model_module_version": "1.5.0",
            "_model_name": "HBoxModel",
            "_view_count": null,
            "_view_module": "@jupyter-widgets/controls",
            "_view_module_version": "1.5.0",
            "_view_name": "HBoxView",
            "box_style": "",
            "children": [
              "IPY_MODEL_3c36b8b936c34abebe9785afef704787",
              "IPY_MODEL_b7ceeb8a85a6477d882627a104475e36",
              "IPY_MODEL_35f255b9f0994069ba5edc5c92d6ea97"
            ],
            "layout": "IPY_MODEL_8caa40f662f84269bdcc964a88f496ed"
          }
        },
        "3c36b8b936c34abebe9785afef704787": {
          "model_module": "@jupyter-widgets/controls",
          "model_name": "HTMLModel",
          "model_module_version": "1.5.0",
          "state": {
            "_dom_classes": [],
            "_model_module": "@jupyter-widgets/controls",
            "_model_module_version": "1.5.0",
            "_model_name": "HTMLModel",
            "_view_count": null,
            "_view_module": "@jupyter-widgets/controls",
            "_view_module_version": "1.5.0",
            "_view_name": "HTMLView",
            "description": "",
            "description_tooltip": null,
            "layout": "IPY_MODEL_528b002ae96048f5bcc302ae675c5ee3",
            "placeholder": "​",
            "style": "IPY_MODEL_312eedab59794b6c86ab1705a6fd0d90",
            "value": "Dl Completed...: 100%"
          }
        },
        "b7ceeb8a85a6477d882627a104475e36": {
          "model_module": "@jupyter-widgets/controls",
          "model_name": "FloatProgressModel",
          "model_module_version": "1.5.0",
          "state": {
            "_dom_classes": [],
            "_model_module": "@jupyter-widgets/controls",
            "_model_module_version": "1.5.0",
            "_model_name": "FloatProgressModel",
            "_view_count": null,
            "_view_module": "@jupyter-widgets/controls",
            "_view_module_version": "1.5.0",
            "_view_name": "ProgressView",
            "bar_style": "success",
            "description": "",
            "description_tooltip": null,
            "layout": "IPY_MODEL_b4995c0a800b4ad89772410582e6943d",
            "max": 4,
            "min": 0,
            "orientation": "horizontal",
            "style": "IPY_MODEL_108248c2452a4c0cb885eb6ac782f4d5",
            "value": 4
          }
        },
        "35f255b9f0994069ba5edc5c92d6ea97": {
          "model_module": "@jupyter-widgets/controls",
          "model_name": "HTMLModel",
          "model_module_version": "1.5.0",
          "state": {
            "_dom_classes": [],
            "_model_module": "@jupyter-widgets/controls",
            "_model_module_version": "1.5.0",
            "_model_name": "HTMLModel",
            "_view_count": null,
            "_view_module": "@jupyter-widgets/controls",
            "_view_module_version": "1.5.0",
            "_view_name": "HTMLView",
            "description": "",
            "description_tooltip": null,
            "layout": "IPY_MODEL_4f5cf14a46b14576b12dec809ee92716",
            "placeholder": "​",
            "style": "IPY_MODEL_51dd2974a318492d9a049c641a92a28a",
            "value": " 4/4 [00:00&lt;00:00,  6.20 file/s]"
          }
        },
        "8caa40f662f84269bdcc964a88f496ed": {
          "model_module": "@jupyter-widgets/base",
          "model_name": "LayoutModel",
          "model_module_version": "1.2.0",
          "state": {
            "_model_module": "@jupyter-widgets/base",
            "_model_module_version": "1.2.0",
            "_model_name": "LayoutModel",
            "_view_count": null,
            "_view_module": "@jupyter-widgets/base",
            "_view_module_version": "1.2.0",
            "_view_name": "LayoutView",
            "align_content": null,
            "align_items": null,
            "align_self": null,
            "border": null,
            "bottom": null,
            "display": null,
            "flex": null,
            "flex_flow": null,
            "grid_area": null,
            "grid_auto_columns": null,
            "grid_auto_flow": null,
            "grid_auto_rows": null,
            "grid_column": null,
            "grid_gap": null,
            "grid_row": null,
            "grid_template_areas": null,
            "grid_template_columns": null,
            "grid_template_rows": null,
            "height": null,
            "justify_content": null,
            "justify_items": null,
            "left": null,
            "margin": null,
            "max_height": null,
            "max_width": null,
            "min_height": null,
            "min_width": null,
            "object_fit": null,
            "object_position": null,
            "order": null,
            "overflow": null,
            "overflow_x": null,
            "overflow_y": null,
            "padding": null,
            "right": null,
            "top": null,
            "visibility": null,
            "width": null
          }
        },
        "528b002ae96048f5bcc302ae675c5ee3": {
          "model_module": "@jupyter-widgets/base",
          "model_name": "LayoutModel",
          "model_module_version": "1.2.0",
          "state": {
            "_model_module": "@jupyter-widgets/base",
            "_model_module_version": "1.2.0",
            "_model_name": "LayoutModel",
            "_view_count": null,
            "_view_module": "@jupyter-widgets/base",
            "_view_module_version": "1.2.0",
            "_view_name": "LayoutView",
            "align_content": null,
            "align_items": null,
            "align_self": null,
            "border": null,
            "bottom": null,
            "display": null,
            "flex": null,
            "flex_flow": null,
            "grid_area": null,
            "grid_auto_columns": null,
            "grid_auto_flow": null,
            "grid_auto_rows": null,
            "grid_column": null,
            "grid_gap": null,
            "grid_row": null,
            "grid_template_areas": null,
            "grid_template_columns": null,
            "grid_template_rows": null,
            "height": null,
            "justify_content": null,
            "justify_items": null,
            "left": null,
            "margin": null,
            "max_height": null,
            "max_width": null,
            "min_height": null,
            "min_width": null,
            "object_fit": null,
            "object_position": null,
            "order": null,
            "overflow": null,
            "overflow_x": null,
            "overflow_y": null,
            "padding": null,
            "right": null,
            "top": null,
            "visibility": null,
            "width": null
          }
        },
        "312eedab59794b6c86ab1705a6fd0d90": {
          "model_module": "@jupyter-widgets/controls",
          "model_name": "DescriptionStyleModel",
          "model_module_version": "1.5.0",
          "state": {
            "_model_module": "@jupyter-widgets/controls",
            "_model_module_version": "1.5.0",
            "_model_name": "DescriptionStyleModel",
            "_view_count": null,
            "_view_module": "@jupyter-widgets/base",
            "_view_module_version": "1.2.0",
            "_view_name": "StyleView",
            "description_width": ""
          }
        },
        "b4995c0a800b4ad89772410582e6943d": {
          "model_module": "@jupyter-widgets/base",
          "model_name": "LayoutModel",
          "model_module_version": "1.2.0",
          "state": {
            "_model_module": "@jupyter-widgets/base",
            "_model_module_version": "1.2.0",
            "_model_name": "LayoutModel",
            "_view_count": null,
            "_view_module": "@jupyter-widgets/base",
            "_view_module_version": "1.2.0",
            "_view_name": "LayoutView",
            "align_content": null,
            "align_items": null,
            "align_self": null,
            "border": null,
            "bottom": null,
            "display": null,
            "flex": null,
            "flex_flow": null,
            "grid_area": null,
            "grid_auto_columns": null,
            "grid_auto_flow": null,
            "grid_auto_rows": null,
            "grid_column": null,
            "grid_gap": null,
            "grid_row": null,
            "grid_template_areas": null,
            "grid_template_columns": null,
            "grid_template_rows": null,
            "height": null,
            "justify_content": null,
            "justify_items": null,
            "left": null,
            "margin": null,
            "max_height": null,
            "max_width": null,
            "min_height": null,
            "min_width": null,
            "object_fit": null,
            "object_position": null,
            "order": null,
            "overflow": null,
            "overflow_x": null,
            "overflow_y": null,
            "padding": null,
            "right": null,
            "top": null,
            "visibility": null,
            "width": null
          }
        },
        "108248c2452a4c0cb885eb6ac782f4d5": {
          "model_module": "@jupyter-widgets/controls",
          "model_name": "ProgressStyleModel",
          "model_module_version": "1.5.0",
          "state": {
            "_model_module": "@jupyter-widgets/controls",
            "_model_module_version": "1.5.0",
            "_model_name": "ProgressStyleModel",
            "_view_count": null,
            "_view_module": "@jupyter-widgets/base",
            "_view_module_version": "1.2.0",
            "_view_name": "StyleView",
            "bar_color": null,
            "description_width": ""
          }
        },
        "4f5cf14a46b14576b12dec809ee92716": {
          "model_module": "@jupyter-widgets/base",
          "model_name": "LayoutModel",
          "model_module_version": "1.2.0",
          "state": {
            "_model_module": "@jupyter-widgets/base",
            "_model_module_version": "1.2.0",
            "_model_name": "LayoutModel",
            "_view_count": null,
            "_view_module": "@jupyter-widgets/base",
            "_view_module_version": "1.2.0",
            "_view_name": "LayoutView",
            "align_content": null,
            "align_items": null,
            "align_self": null,
            "border": null,
            "bottom": null,
            "display": null,
            "flex": null,
            "flex_flow": null,
            "grid_area": null,
            "grid_auto_columns": null,
            "grid_auto_flow": null,
            "grid_auto_rows": null,
            "grid_column": null,
            "grid_gap": null,
            "grid_row": null,
            "grid_template_areas": null,
            "grid_template_columns": null,
            "grid_template_rows": null,
            "height": null,
            "justify_content": null,
            "justify_items": null,
            "left": null,
            "margin": null,
            "max_height": null,
            "max_width": null,
            "min_height": null,
            "min_width": null,
            "object_fit": null,
            "object_position": null,
            "order": null,
            "overflow": null,
            "overflow_x": null,
            "overflow_y": null,
            "padding": null,
            "right": null,
            "top": null,
            "visibility": null,
            "width": null
          }
        },
        "51dd2974a318492d9a049c641a92a28a": {
          "model_module": "@jupyter-widgets/controls",
          "model_name": "DescriptionStyleModel",
          "model_module_version": "1.5.0",
          "state": {
            "_model_module": "@jupyter-widgets/controls",
            "_model_module_version": "1.5.0",
            "_model_name": "DescriptionStyleModel",
            "_view_count": null,
            "_view_module": "@jupyter-widgets/base",
            "_view_module_version": "1.2.0",
            "_view_name": "StyleView",
            "description_width": ""
          }
        }
      }
    }
  },
  "cells": [
    {
      "cell_type": "code",
      "execution_count": null,
      "metadata": {
        "colab": {
          "base_uri": "https://localhost:8080/"
        },
        "id": "rWAaggeT5vdz",
        "outputId": "42a5f008-3d44-4a93-c891-49e33071b94d"
      },
      "outputs": [
        {
          "output_type": "stream",
          "name": "stdout",
          "text": [
            "\u001b[K     |████████████████████████████████| 2.1 MB 35.8 MB/s \n",
            "\u001b[K     |████████████████████████████████| 990 kB 54.3 MB/s \n",
            "\u001b[K     |████████████████████████████████| 71.3 MB 61 kB/s \n",
            "\u001b[K     |████████████████████████████████| 197 kB 69.9 MB/s \n",
            "\u001b[K     |████████████████████████████████| 140 kB 72.4 MB/s \n",
            "\u001b[K     |████████████████████████████████| 4.3 MB 51.9 MB/s \n",
            "\u001b[K     |████████████████████████████████| 38.1 MB 1.2 MB/s \n",
            "\u001b[K     |████████████████████████████████| 98 kB 8.5 MB/s \n",
            "\u001b[K     |████████████████████████████████| 596 kB 69.2 MB/s \n",
            "\u001b[K     |████████████████████████████████| 217 kB 71.7 MB/s \n",
            "\u001b[K     |████████████████████████████████| 51 kB 7.9 MB/s \n",
            "\u001b[K     |████████████████████████████████| 72 kB 696 kB/s \n",
            "\u001b[?25h  Building wheel for jax (setup.py) ... \u001b[?25l\u001b[?25hdone\n",
            "\u001b[31mERROR: pip's dependency resolver does not currently take into account all the packages that are installed. This behaviour is the source of the following dependency conflicts.\n",
            "albumentations 0.1.12 requires imgaug<0.2.7,>=0.2.5, but you have imgaug 0.2.9 which is incompatible.\u001b[0m\n"
          ]
        }
      ],
      "source": [
        "!pip install --upgrade -q pip jax jaxlib flax optax tensorflow-datasets"
      ]
    },
    {
      "cell_type": "code",
      "source": [
        "import jax\n",
        "import jax.numpy as jnp               # JAX NumPy\n",
        "\n",
        "from flax import linen as nn          # The Linen API\n",
        "from flax.training import train_state\n",
        "import optax                          # The Optax gradient processing and optimization library\n",
        "\n",
        "import numpy as np                    # Ordinary NumPy\n",
        "import tensorflow_datasets as tfds    # TFDS for MNIST"
      ],
      "metadata": {
        "id": "Jof4N4H751kE"
      },
      "execution_count": null,
      "outputs": []
    },
    {
      "cell_type": "code",
      "source": [
        "class CNN(nn.Module):\n",
        "\n",
        "  @nn.compact\n",
        "  # Provide a constructor to register a new parameter \n",
        "  # and return its initial value\n",
        "  def __call__(self, x):\n",
        "    x = nn.Conv(features=32, kernel_size=(3, 3))(x)\n",
        "    x = nn.relu(x)\n",
        "    x = nn.avg_pool(x, window_shape=(2, 2), strides=(2, 2))\n",
        "    x = nn.Conv(features=64, kernel_size=(3, 3))(x)\n",
        "    x = nn.relu(x)\n",
        "    x = nn.avg_pool(x, window_shape=(2, 2), strides=(2, 2))\n",
        "    x = x.reshape((x.shape[0], -1)) # Flatten\n",
        "    x = nn.Dense(features=256)(x)\n",
        "    x = nn.relu(x)\n",
        "    x = nn.Dense(features=10)(x)    # There are 10 classes in MNIST\n",
        "    return x"
      ],
      "metadata": {
        "id": "zXGG4Ox06AVr"
      },
      "execution_count": null,
      "outputs": []
    },
    {
      "cell_type": "code",
      "source": [
        "def compute_metrics(logits, labels):\n",
        "  loss = jnp.mean(optax.softmax_cross_entropy(logits, jax.nn.one_hot(labels, num_classes=10)))\n",
        "  accuracy = jnp.mean(jnp.argmax(logits, -1) == labels)\n",
        "  metrics = {\n",
        "      'loss': loss,\n",
        "      'accuracy': accuracy\n",
        "  }\n",
        "  return metrics"
      ],
      "metadata": {
        "id": "Lz86OTfE6EIu"
      },
      "execution_count": null,
      "outputs": []
    },
    {
      "cell_type": "code",
      "source": [
        "def get_datasets():\n",
        "  ds_builder = tfds.builder('mnist')\n",
        "  ds_builder.download_and_prepare()\n",
        "  # Split into training/test sets\n",
        "  train_ds = tfds.as_numpy(ds_builder.as_dataset(split='train', batch_size=-1))\n",
        "  test_ds = tfds.as_numpy(ds_builder.as_dataset(split='test', batch_size=-1))\n",
        "  # Convert to floating-points\n",
        "  train_ds['image'] = jnp.float32(train_ds['image']) / 255.0\n",
        "  test_ds['image'] = jnp.float32(test_ds['image']) / 255.0\n",
        "  return train_ds, test_ds"
      ],
      "metadata": {
        "id": "Qv-oc8x06Is6"
      },
      "execution_count": null,
      "outputs": []
    },
    {
      "cell_type": "code",
      "source": [
        "@jax.jit\n",
        "def train_step(state, batch):\n",
        "  def loss_fn(params):\n",
        "    logits = CNN().apply({'params': params}, batch['image'])\n",
        "    loss = jnp.mean(optax.softmax_cross_entropy(\n",
        "        logits=logits, \n",
        "        labels=jax.nn.one_hot(batch['label'], num_classes=10)))\n",
        "    return loss, logits\n",
        "  grad_fn = jax.value_and_grad(loss_fn, has_aux=True)\n",
        "  (_, logits), grads = grad_fn(state.params)\n",
        "  state = state.apply_gradients(grads=grads)\n",
        "  metrics = compute_metrics(logits, batch['label'])\n",
        "  return state, metrics"
      ],
      "metadata": {
        "id": "JLhuFULS6LUo"
      },
      "execution_count": null,
      "outputs": []
    },
    {
      "cell_type": "code",
      "source": [
        "@jax.jit\n",
        "def eval_step(params, batch):\n",
        "  logits = CNN().apply({'params': params}, batch['image'])\n",
        "  return compute_metrics(logits, batch['label'])"
      ],
      "metadata": {
        "id": "itp5H2cN6N8z"
      },
      "execution_count": null,
      "outputs": []
    },
    {
      "cell_type": "code",
      "source": [
        "def train_epoch(state, train_ds, batch_size, epoch, rng):\n",
        "  train_ds_size = len(train_ds['image'])\n",
        "  steps_per_epoch = train_ds_size // batch_size\n",
        "\n",
        "  perms = jax.random.permutation(rng, len(train_ds['image']))\n",
        "  perms = perms[:steps_per_epoch * batch_size]  # Skip an incomplete batch\n",
        "  perms = perms.reshape((steps_per_epoch, batch_size))\n",
        "\n",
        "  batch_metrics = []\n",
        "\n",
        "  for perm in perms:\n",
        "    batch = {k: v[perm, ...] for k, v in train_ds.items()}\n",
        "    state, metrics = train_step(state, batch)\n",
        "    batch_metrics.append(metrics)\n",
        "\n",
        "  training_batch_metrics = jax.device_get(batch_metrics)\n",
        "  training_epoch_metrics = {\n",
        "      k: np.mean([metrics[k] for metrics in training_batch_metrics])\n",
        "      for k in training_batch_metrics[0]}\n",
        "\n",
        "  print('Training - epoch: %d, loss: %.4f, accuracy: %.2f' % (epoch, training_epoch_metrics['loss'], training_epoch_metrics['accuracy'] * 100))\n",
        "\n",
        "  return state, training_epoch_metrics"
      ],
      "metadata": {
        "id": "X0U7dEUQ6SQL"
      },
      "execution_count": null,
      "outputs": []
    },
    {
      "cell_type": "code",
      "source": [
        "def eval_model(model, test_ds):\n",
        "  metrics = eval_step(model, test_ds)\n",
        "  metrics = jax.device_get(metrics)\n",
        "  eval_summary = jax.tree_map(lambda x: x.item(), metrics)\n",
        "  return eval_summary['loss'], eval_summary['accuracy']"
      ],
      "metadata": {
        "id": "TSedn86a6VEg"
      },
      "execution_count": null,
      "outputs": []
    },
    {
      "cell_type": "code",
      "source": [
        "train_ds, test_ds = get_datasets()"
      ],
      "metadata": {
        "colab": {
          "base_uri": "https://localhost:8080/",
          "height": 103,
          "referenced_widgets": [
            "93f15fb3ab7044518a51a2f68398682d",
            "3c36b8b936c34abebe9785afef704787",
            "b7ceeb8a85a6477d882627a104475e36",
            "35f255b9f0994069ba5edc5c92d6ea97",
            "8caa40f662f84269bdcc964a88f496ed",
            "528b002ae96048f5bcc302ae675c5ee3",
            "312eedab59794b6c86ab1705a6fd0d90",
            "b4995c0a800b4ad89772410582e6943d",
            "108248c2452a4c0cb885eb6ac782f4d5",
            "4f5cf14a46b14576b12dec809ee92716",
            "51dd2974a318492d9a049c641a92a28a"
          ]
        },
        "id": "xmcSagjA6XXI",
        "outputId": "f10fafba-55c5-47a5-9869-de30a2d7228e"
      },
      "execution_count": null,
      "outputs": [
        {
          "output_type": "stream",
          "name": "stdout",
          "text": [
            "\u001b[1mDownloading and preparing dataset 11.06 MiB (download: 11.06 MiB, generated: 21.00 MiB, total: 32.06 MiB) to ~/tensorflow_datasets/mnist/3.0.1...\u001b[0m\n"
          ]
        },
        {
          "output_type": "display_data",
          "data": {
            "text/plain": [
              "Dl Completed...:   0%|          | 0/4 [00:00<?, ? file/s]"
            ],
            "application/vnd.jupyter.widget-view+json": {
              "version_major": 2,
              "version_minor": 0,
              "model_id": "93f15fb3ab7044518a51a2f68398682d"
            }
          },
          "metadata": {}
        },
        {
          "output_type": "stream",
          "name": "stdout",
          "text": [
            "\u001b[1mDataset mnist downloaded and prepared to ~/tensorflow_datasets/mnist/3.0.1. Subsequent calls will reuse this data.\u001b[0m\n"
          ]
        },
        {
          "output_type": "stream",
          "name": "stderr",
          "text": [
            "WARNING:absl:No GPU/TPU found, falling back to CPU. (Set TF_CPP_MIN_LOG_LEVEL=0 and rerun for more info.)\n"
          ]
        }
      ]
    },
    {
      "cell_type": "code",
      "source": [
        "rng = jax.random.PRNGKey(0)\n",
        "rng, init_rng = jax.random.split(rng)"
      ],
      "metadata": {
        "id": "upUMdvw46ZvE"
      },
      "execution_count": null,
      "outputs": []
    },
    {
      "cell_type": "code",
      "source": [
        "cnn = CNN()\n",
        "params = cnn.init(init_rng, jnp.ones([1, 28, 28, 1]))['params']"
      ],
      "metadata": {
        "id": "TiFAKhQI6aZ7"
      },
      "execution_count": null,
      "outputs": []
    },
    {
      "cell_type": "code",
      "source": [
        "nesterov_momentum = 0.9\n",
        "learning_rate = 0.001\n",
        "tx = optax.sgd(learning_rate=learning_rate, nesterov=nesterov_momentum)"
      ],
      "metadata": {
        "id": "Ng-O2JKm6e4a"
      },
      "execution_count": null,
      "outputs": []
    },
    {
      "cell_type": "code",
      "source": [
        "state = train_state.TrainState.create(apply_fn=cnn.apply, params=params, tx=tx)"
      ],
      "metadata": {
        "id": "tpZ_lu1-6jFG"
      },
      "execution_count": null,
      "outputs": []
    },
    {
      "cell_type": "code",
      "source": [
        "num_epochs = 10\n",
        "batch_size = 32"
      ],
      "metadata": {
        "id": "De0_Wlyu6mtQ"
      },
      "execution_count": null,
      "outputs": []
    },
    {
      "cell_type": "code",
      "source": [
        "for epoch in range(1, num_epochs + 1):\n",
        "  # Use a separate PRNG key to permute image data during shuffling\n",
        "  rng, input_rng = jax.random.split(rng)\n",
        "  # Run an optimization step over a training batch\n",
        "  state, train_metrics = train_epoch(state, train_ds, batch_size, epoch, input_rng)\n",
        "  # Evaluate on the test set after each training epoch\n",
        "  test_loss, test_accuracy = eval_model(state.params, test_ds)\n",
        "  print('Testing - epoch: %d, loss: %.2f, accuracy: %.2f' % (epoch, test_loss, test_accuracy * 100))"
      ],
      "metadata": {
        "colab": {
          "base_uri": "https://localhost:8080/"
        },
        "id": "eAzxzeVM6o0k",
        "outputId": "5f882d26-b8d3-47dd-9e0c-88993e32507f"
      },
      "execution_count": null,
      "outputs": [
        {
          "output_type": "stream",
          "name": "stdout",
          "text": [
            "Training - epoch: 1, loss: 1.7941, accuracy: 62.73\n",
            "Testing - epoch: 1, loss: 0.93, accuracy: 82.32\n",
            "Training - epoch: 2, loss: 0.6114, accuracy: 85.10\n",
            "Testing - epoch: 2, loss: 0.44, accuracy: 88.45\n",
            "Training - epoch: 3, loss: 0.4128, accuracy: 88.40\n",
            "Testing - epoch: 3, loss: 0.36, accuracy: 89.89\n",
            "Training - epoch: 4, loss: 0.3598, accuracy: 89.67\n",
            "Testing - epoch: 4, loss: 0.32, accuracy: 90.81\n",
            "Training - epoch: 5, loss: 0.3280, accuracy: 90.50\n",
            "Testing - epoch: 5, loss: 0.30, accuracy: 91.54\n",
            "Training - epoch: 6, loss: 0.3047, accuracy: 91.18\n",
            "Testing - epoch: 6, loss: 0.28, accuracy: 91.95\n",
            "Training - epoch: 7, loss: 0.2853, accuracy: 91.72\n",
            "Testing - epoch: 7, loss: 0.26, accuracy: 92.26\n",
            "Training - epoch: 8, loss: 0.2680, accuracy: 92.16\n",
            "Testing - epoch: 8, loss: 0.24, accuracy: 92.89\n",
            "Training - epoch: 9, loss: 0.2522, accuracy: 92.73\n",
            "Testing - epoch: 9, loss: 0.23, accuracy: 93.12\n",
            "Training - epoch: 10, loss: 0.2384, accuracy: 92.99\n",
            "Testing - epoch: 10, loss: 0.22, accuracy: 93.54\n"
          ]
        }
      ]
    }
  ]
}