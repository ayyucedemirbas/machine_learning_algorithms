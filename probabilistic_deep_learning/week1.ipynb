{
 "cells": [
  {
   "cell_type": "code",
   "execution_count": 1,
   "metadata": {},
   "outputs": [
    {
     "name": "stdout",
     "output_type": "stream",
     "text": [
      "TF version: 2.1.0\n",
      "TFP version: 0.9.0\n"
     ]
    }
   ],
   "source": [
    "import tensorflow as tf\n",
    "import tensorflow_probability as tfp\n",
    "tfd = tfp.distributions\n",
    "\n",
    "print(\"TF version:\", tf.__version__)\n",
    "print(\"TFP version:\", tfp.__version__)"
   ]
  },
  {
   "cell_type": "code",
   "execution_count": 2,
   "metadata": {},
   "outputs": [],
   "source": [
    "# Additional imports and setting fixed random seed to have reproducibility\n",
    "\n",
    "import matplotlib.pyplot as plt\n",
    "import numpy as np\n",
    "tf.random.set_seed(123)"
   ]
  },
  {
   "cell_type": "markdown",
   "metadata": {},
   "source": [
    "# Tensorflow Distributions"
   ]
  },
  {
   "cell_type": "markdown",
   "metadata": {},
   "source": [
    "## Coding Tutorials\n",
    "#### 1. [Univariate Distributions](#univariate_distributions)\n",
    "#### 2. [Multivariate Distributions](#multivariate_distributions)\n",
    "#### 3. [The Independent Distribution](#the_independent_distribution)\n",
    "#### 4. [Sampling and log probs](#sampling_and_log_probs)\n",
    "#### 5. [Trainable Distributions](#trainable_distributions)"
   ]
  },
  {
   "cell_type": "markdown",
   "metadata": {},
   "source": [
    "***\n",
    "## Univariate distributions\n",
    "<a id='univariate_distributions'></a>"
   ]
  },
  {
   "cell_type": "code",
   "execution_count": 3,
   "metadata": {},
   "outputs": [
    {
     "data": {
      "text/plain": [
       "<tfp.distributions.Normal 'Normal' batch_shape=[] event_shape=[] dtype=float32>"
      ]
     },
     "execution_count": 3,
     "metadata": {},
     "output_type": "execute_result"
    }
   ],
   "source": [
    "# Create a normal distribution from Tensorflow Distributions\n",
    "normal = tfd.Normal(loc=0, scale=1)\n",
    "normal"
   ]
  },
  {
   "cell_type": "code",
   "execution_count": 4,
   "metadata": {},
   "outputs": [
    {
     "data": {
      "text/plain": [
       "<tf.Tensor: shape=(), dtype=float32, numpy=-0.8980837>"
      ]
     },
     "execution_count": 4,
     "metadata": {},
     "output_type": "execute_result"
    }
   ],
   "source": [
    "# Sample from the chosen distribution...\n",
    "normal.sample()"
   ]
  },
  {
   "cell_type": "code",
   "execution_count": 5,
   "metadata": {},
   "outputs": [
    {
     "data": {
      "text/plain": [
       "<tf.Tensor: shape=(10,), dtype=float32, numpy=\n",
       "array([ 0.33875433,  0.3449861 , -0.6605785 , -0.2854994 ,  0.43852386,\n",
       "        0.8288566 , -0.53591555, -0.5353483 , -1.0324248 , -2.942705  ],\n",
       "      dtype=float32)>"
      ]
     },
     "execution_count": 5,
     "metadata": {},
     "output_type": "execute_result"
    }
   ],
   "source": [
    "# ... or sample multiple times\n",
    "\n",
    "normal.sample(10)"
   ]
  },
  {
   "cell_type": "code",
   "execution_count": 6,
   "metadata": {},
   "outputs": [
    {
     "data": {
      "text/plain": [
       "<tf.Tensor: shape=(), dtype=float32, numpy=0.3989423>"
      ]
     },
     "execution_count": 6,
     "metadata": {},
     "output_type": "execute_result"
    }
   ],
   "source": [
    "# Obtain value of probability's density\n",
    "\n",
    "normal.prob(0)"
   ]
  },
  {
   "cell_type": "code",
   "execution_count": 7,
   "metadata": {},
   "outputs": [
    {
     "data": {
      "text/plain": [
       "<tf.Tensor: shape=(), dtype=float32, numpy=-0.9189385>"
      ]
     },
     "execution_count": 7,
     "metadata": {},
     "output_type": "execute_result"
    }
   ],
   "source": [
    "# Obtain value of logprobability\n",
    "\n",
    "normal.log_prob(0)"
   ]
  },
  {
   "cell_type": "code",
   "execution_count": 9,
   "metadata": {},
   "outputs": [
    {
     "data": {
      "text/plain": [
       "-0.9189385"
      ]
     },
     "execution_count": 9,
     "metadata": {},
     "output_type": "execute_result"
    }
   ],
   "source": [
    "# Verify that this really is the log of the probability\n",
    "\n",
    "np.log(normal.prob(0))"
   ]
  },
  {
   "cell_type": "code",
   "execution_count": 10,
   "metadata": {},
   "outputs": [
    {
     "data": {
      "image/png": "[encoded data removed]",
      "text/plain": [
       "<Figure size 432x288 with 1 Axes>"
      ]
     },
     "metadata": {
      "needs_background": "light"
     },
     "output_type": "display_data"
    }
   ],
   "source": [
    "# Plot a histogram, approximating the density\n",
    "\n",
    "plt.hist(normal.sample(10000), bins=50, density=True)\n",
    "plt.show()"
   ]
  },
  {
   "cell_type": "code",
   "execution_count": 12,
   "metadata": {},
   "outputs": [
    {
     "data": {
      "image/png": "[encoded data removed]",
      "text/plain": [
       "<Figure size 432x288 with 1 Axes>"
      ]
     },
     "metadata": {
      "needs_background": "light"
     },
     "output_type": "display_data"
    }
   ],
   "source": [
    "# Do the same for the exponential distribution\n",
    "\n",
    "exponential=tfd.Exponential(rate=1)\n",
    "plt.hist(exponential.sample(10000), bins=50, density=True)\n",
    "plt.show()"
   ]
  },
  {
   "cell_type": "code",
   "execution_count": 13,
   "metadata": {},
   "outputs": [
    {
     "data": {
      "text/plain": [
       "<tf.Tensor: shape=(10,), dtype=float32, numpy=\n",
       "array([0.03463974, 0.35604942, 1.5253357 , 2.7293916 , 1.5241107 ,\n",
       "       1.5624828 , 0.32680708, 0.6846045 , 0.30692586, 2.707749  ],\n",
       "      dtype=float32)>"
      ]
     },
     "execution_count": 13,
     "metadata": {},
     "output_type": "execute_result"
    }
   ],
   "source": [
    "# Sample as before\n",
    "\n",
    "exponential.sample(10)"
   ]
  },
  {
   "cell_type": "code",
   "execution_count": 14,
   "metadata": {},
   "outputs": [
    {
     "data": {
      "text/plain": [
       "<tf.Tensor: shape=(20,), dtype=int32, numpy=\n",
       "array([1, 0, 1, 1, 1, 1, 0, 1, 1, 0, 1, 1, 1, 1, 1, 1, 1, 1, 0, 0],\n",
       "      dtype=int32)>"
      ]
     },
     "execution_count": 14,
     "metadata": {},
     "output_type": "execute_result"
    }
   ],
   "source": [
    "# Create a Bernoulli distribution (discrete)\n",
    "\n",
    "bernoulli=tfd.Bernoulli(probs=0.8)\n",
    "bernoulli.sample(20)"
   ]
  },
  {
   "cell_type": "markdown",
   "metadata": {},
   "source": [
    "#### A word of caution on discrete distributions"
   ]
  },
  {
   "cell_type": "code",
   "execution_count": 15,
   "metadata": {},
   "outputs": [
    {
     "name": "stdout",
     "output_type": "stream",
     "text": [
      "prob result 0.19999998807907104 for k = 0 \n",
      "prob result 0.3999999761581421 for k = 0.5 \n",
      "prob result 0.800000011920929 for k = 1 \n",
      "prob result 0.04999999701976776 for k = -1 \n"
     ]
    }
   ],
   "source": [
    "# Calculate Bernoulli prob and see that 0.5 and -1 do not give the correct probability!\n",
    "\n",
    "for k in [0,0.5,1,-1]:\n",
    "    print('prob result {} for k = {} '.format(bernoulli.prob(k),k))"
   ]
  },
  {
   "cell_type": "code",
   "execution_count": 16,
   "metadata": {},
   "outputs": [],
   "source": [
    "# Replicate the scores to see what is occurring under the hood\n",
    "\n",
    "def my_bernoulli(p_success, k):\n",
    "    return np.power(p_success,k)*np.power((1-p_success),(1-k))"
   ]
  },
  {
   "cell_type": "code",
   "execution_count": 17,
   "metadata": {},
   "outputs": [
    {
     "name": "stdout",
     "output_type": "stream",
     "text": [
      "prob result 0.19999999999999996 for k = 0 \n",
      "prob result 0.3999999999999999 for k = 0.5 \n",
      "prob result 0.8 for k = 1 \n",
      "prob result 0.049999999999999975 for k = -1 \n"
     ]
    }
   ],
   "source": [
    "# Evaluate it as before\n",
    "\n",
    "for k in [0,0.5,1,-1]:\n",
    "    print('prob result {} for k = {} '.format(my_bernoulli(p_success=0.8, k=k), k))"
   ]
  },
  {
   "cell_type": "markdown",
   "metadata": {},
   "source": [
    "#### Work with batch distributions"
   ]
  },
  {
   "cell_type": "code",
   "execution_count": 18,
   "metadata": {},
   "outputs": [
    {
     "data": {
      "text/plain": [
       "<tfp.distributions.Bernoulli 'Bernoulli' batch_shape=[5] event_shape=[] dtype=int32>"
      ]
     },
     "execution_count": 18,
     "metadata": {},
     "output_type": "execute_result"
    }
   ],
   "source": [
    "# Create a batched Bernoulli distribution\n",
    "\n",
    "bernoulli_batch = tfd.Bernoulli(probs=[0.1, 0.25, 0.5, 0.75, 0.9])\n",
    "bernoulli_batch"
   ]
  },
  {
   "cell_type": "code",
   "execution_count": 19,
   "metadata": {},
   "outputs": [
    {
     "data": {
      "text/plain": [
       "<tf.Tensor: shape=(5, 5), dtype=int32, numpy=\n",
       "array([[0, 0, 1, 0, 1],\n",
       "       [0, 0, 1, 0, 1],\n",
       "       [0, 0, 1, 1, 1],\n",
       "       [0, 0, 1, 1, 1],\n",
       "       [0, 0, 1, 1, 0]], dtype=int32)>"
      ]
     },
     "execution_count": 19,
     "metadata": {},
     "output_type": "execute_result"
    }
   ],
   "source": [
    "# Sample from it, noting the shape\n",
    "bernoulli_batch.sample(5)\n"
   ]
  },
  {
   "cell_type": "code",
   "execution_count": 20,
   "metadata": {},
   "outputs": [
    {
     "data": {
      "text/plain": [
       "<tfp.distributions.Bernoulli 'Bernoulli' batch_shape=[1, 3, 2] event_shape=[] dtype=int32>"
      ]
     },
     "execution_count": 20,
     "metadata": {},
     "output_type": "execute_result"
    }
   ],
   "source": [
    "# Use a batch shape with higher rank\n",
    "\n",
    "probs = [[[0.5, 0.5], \n",
    "          [0.8, 0.3], \n",
    "          [0.25, 0.75]]]\n",
    "bernoulli_batch_2D = tfd.Bernoulli(probs=probs)\n",
    "bernoulli_batch_2D"
   ]
  },
  {
   "cell_type": "code",
   "execution_count": 21,
   "metadata": {},
   "outputs": [
    {
     "data": {
      "text/plain": [
       "<tf.Tensor: shape=(5, 1, 3, 2), dtype=int32, numpy=\n",
       "array([[[[0, 1],\n",
       "         [1, 1],\n",
       "         [1, 1]]],\n",
       "\n",
       "\n",
       "       [[[1, 0],\n",
       "         [1, 0],\n",
       "         [0, 1]]],\n",
       "\n",
       "\n",
       "       [[[1, 0],\n",
       "         [1, 1],\n",
       "         [0, 1]]],\n",
       "\n",
       "\n",
       "       [[[1, 1],\n",
       "         [1, 0],\n",
       "         [0, 1]]],\n",
       "\n",
       "\n",
       "       [[[1, 0],\n",
       "         [1, 0],\n",
       "         [0, 1]]]], dtype=int32)>"
      ]
     },
     "execution_count": 21,
     "metadata": {},
     "output_type": "execute_result"
    }
   ],
   "source": [
    "# Sample from this batch of distributions\n",
    "bernoulli_batch_2D.sample(5)"
   ]
  },
  {
   "cell_type": "code",
   "execution_count": 22,
   "metadata": {},
   "outputs": [
    {
     "data": {
      "text/plain": [
       "<tf.Tensor: shape=(1, 3, 2), dtype=float32, numpy=\n",
       "array([[[0.5       , 0.5       ],\n",
       "        [0.19999999, 0.7       ],\n",
       "        [0.25      , 0.75      ]]], dtype=float32)>"
      ]
     },
     "execution_count": 22,
     "metadata": {},
     "output_type": "execute_result"
    }
   ],
   "source": [
    "# Determine probabilities from this batch distribution\n",
    "\n",
    "bernoulli_batch_2D.prob([[[1, 0], \n",
    "                         [0, 0], \n",
    "                         [1, 1]]])"
   ]
  },
  {
   "cell_type": "markdown",
   "metadata": {},
   "source": [
    "***\n",
    "<a id='multivariate_distributions'></a>\n",
    "## Multivariate Distributions\n"
   ]
  },
  {
   "cell_type": "markdown",
   "metadata": {},
   "source": [
    "#### Basic multivariate distributions"
   ]
  },
  {
   "cell_type": "code",
   "execution_count": 25,
   "metadata": {},
   "outputs": [
    {
     "data": {
      "text/plain": [
       "<tfp.distributions.MultivariateNormalDiag 'MultivariateNormalDiag' batch_shape=[] event_shape=[2] dtype=float32>"
      ]
     },
     "execution_count": 25,
     "metadata": {},
     "output_type": "execute_result"
    }
   ],
   "source": [
    "# Define 2D multivariate Gaussian with diagonal covariance matrix\n",
    "normal_diag = tfd.MultivariateNormalDiag(loc=[0, 1], scale_diag=[1, 2])\n",
    "normal_diag"
   ]
  },
  {
   "cell_type": "code",
   "execution_count": 26,
   "metadata": {},
   "outputs": [
    {
     "data": {
      "text/plain": [
       "<tf.Tensor: shape=(10, 2), dtype=float32, numpy=\n",
       "array([[-0.37992278,  2.3674164 ],\n",
       "       [-2.224005  , -0.28514445],\n",
       "       [ 0.923083  , -1.4528892 ],\n",
       "       [-0.62774605, -0.33852375],\n",
       "       [-0.6252951 , -1.3324146 ],\n",
       "       [-0.42454168,  1.3192186 ],\n",
       "       [-1.702882  ,  1.8533869 ],\n",
       "       [-0.4608376 , -0.7023523 ],\n",
       "       [-1.1919353 , -0.12865627],\n",
       "       [ 0.48053816, -0.2693485 ]], dtype=float32)>"
      ]
     },
     "execution_count": 26,
     "metadata": {},
     "output_type": "execute_result"
    }
   ],
   "source": [
    "# Sample from it\n",
    "normal_diag.sample(10)\n"
   ]
  },
  {
   "cell_type": "code",
   "execution_count": 27,
   "metadata": {},
   "outputs": [
    {
     "data": {
      "image/png": "[encoded data removed]",
      "text/plain": [
       "<Figure size 432x288 with 1 Axes>"
      ]
     },
     "metadata": {
      "needs_background": "light"
     },
     "output_type": "display_data"
    }
   ],
   "source": [
    "# Make a plot\n",
    "\n",
    "plt_sample = normal_diag.sample(10000)\n",
    "plt.scatter(plt_sample[:, 0], plt_sample[:, 1], marker='.', alpha=0.05)\n",
    "plt.axis('equal')\n",
    "plt.show()"
   ]
  },
  {
   "cell_type": "markdown",
   "metadata": {},
   "source": [
    "#### Batches of multivariate distributions"
   ]
  },
  {
   "cell_type": "code",
   "execution_count": 28,
   "metadata": {},
   "outputs": [
    {
     "data": {
      "text/plain": [
       "<tfp.distributions.MultivariateNormalDiag 'MultivariateNormalDiag' batch_shape=[3] event_shape=[2] dtype=float32>"
      ]
     },
     "execution_count": 28,
     "metadata": {},
     "output_type": "execute_result"
    }
   ],
   "source": [
    "# Create three \"batches\" of multivariate normals\n",
    "\n",
    "normal_diag_batch= tfd.MultivariateNormalDiag(loc=[[0,0], [0,0],[0,0]],\n",
    "                                             scale_diag=[[1,2], [2,1],[2,2]])\n",
    "normal_diag_batch"
   ]
  },
  {
   "cell_type": "code",
   "execution_count": 29,
   "metadata": {},
   "outputs": [
    {
     "data": {
      "text/plain": [
       "<tf.Tensor: shape=(5, 3, 2), dtype=float32, numpy=\n",
       "array([[[-0.8012545 ,  2.0774972 ],\n",
       "        [ 0.52665955, -1.064054  ],\n",
       "        [-5.584371  ,  0.6095758 ]],\n",
       "\n",
       "       [[ 0.9923561 , -0.8376892 ],\n",
       "        [-1.0894657 , -0.48891655],\n",
       "        [ 1.4126049 , -0.65969497]],\n",
       "\n",
       "       [[-1.6264789 , -4.301875  ],\n",
       "        [-0.43451956,  1.1214747 ],\n",
       "        [-1.5253608 , -0.57022095]],\n",
       "\n",
       "       [[ 0.73075646,  1.8173586 ],\n",
       "        [-3.2939956 ,  1.4178311 ],\n",
       "        [ 2.4158304 ,  2.33647   ]],\n",
       "\n",
       "       [[-0.24759005, -0.6053428 ],\n",
       "        [ 1.4922864 ,  0.2815309 ],\n",
       "        [ 0.13156419, -0.55439734]]], dtype=float32)>"
      ]
     },
     "execution_count": 29,
     "metadata": {},
     "output_type": "execute_result"
    }
   ],
   "source": [
    "# Sample from it\n",
    "\n",
    "samples=normal_diag_batch.sample(5)\n",
    "samples"
   ]
  },
  {
   "cell_type": "code",
   "execution_count": 30,
   "metadata": {},
   "outputs": [
    {
     "data": {
      "text/plain": [
       "<tf.Tensor: shape=(5, 3), dtype=float32, numpy=\n",
       "array([[-3.3915281, -3.1318011, -7.1687694],\n",
       "       [-3.111125 , -2.7989109, -3.5280027],\n",
       "       [-6.1670074, -3.1834779, -3.5556562],\n",
       "       [-3.2108757, -4.8924475, -4.6360874],\n",
       "       [-2.6074796, -2.849019 , -3.2647545]], dtype=float32)>"
      ]
     },
     "execution_count": 30,
     "metadata": {},
     "output_type": "execute_result"
    }
   ],
   "source": [
    "# Compute log probs\n",
    "\n",
    "normal_diag_batch.log_prob(samples)"
   ]
  },
  {
   "cell_type": "code",
   "execution_count": 31,
   "metadata": {},
   "outputs": [
    {
     "data": {
      "text/plain": [
       "TensorShape([10000, 3, 2])"
      ]
     },
     "execution_count": 31,
     "metadata": {},
     "output_type": "execute_result"
    }
   ],
   "source": [
    "# Create a sample for a plot -- notice the shape\n",
    "plt_sample_batch = normal_diag_batch.sample(10000)\n",
    "plt_sample_batch.shape"
   ]
  },
  {
   "cell_type": "code",
   "execution_count": 32,
   "metadata": {},
   "outputs": [
    {
     "data": {
      "image/png": "[encoded data removed]",
      "text/plain": [
       "<Figure size 720x216 with 3 Axes>"
      ]
     },
     "metadata": {
      "needs_background": "light"
     },
     "output_type": "display_data"
    }
   ],
   "source": [
    "# Plot samples from the batched multivariate Gaussian\n",
    "\n",
    "fig, axs = (plt.subplots(1, 3, sharex=True, sharey=True, figsize=(10, 3)))\n",
    "titles = ['cov_diag=[1, 2]','cov_diag=[2, 1]', 'cov_diag=[2, 2]']\n",
    "\n",
    "for i, (ax, title) in enumerate(zip(axs,titles)):\n",
    "    samples = plt_sample_batch[:,i,:] #take the ith batch [samples x event_shape]\n",
    "    ax.scatter(samples[:, 0], samples[:, 1], marker='.', alpha=0.05)\n",
    "    ax.set_title(title)\n",
    "plt.show()"
   ]
  },
  {
   "cell_type": "markdown",
   "metadata": {},
   "source": [
    "\n",
    "\n",
    "***\n",
    "<a id='the_independent_distribution'></a>\n",
    "## The Independent Distribution"
   ]
  },
  {
   "cell_type": "code",
   "execution_count": 33,
   "metadata": {},
   "outputs": [],
   "source": [
    "# Start by defining a batch of two univariate Gaussians, then\n",
    "# combine them into a bivariate Gaussian with independent components\n",
    "locs = [-1., 1]\n",
    "scales = [0.5, 1.]\n",
    "batch_of_normals = tfd.Normal(loc=locs, scale=scales)"
   ]
  },
  {
   "cell_type": "code",
   "execution_count": 34,
   "metadata": {},
   "outputs": [
    {
     "data": {
      "image/png": "[encoded data removed]",
      "text/plain": [
       "<Figure size 432x288 with 1 Axes>"
      ]
     },
     "metadata": {
      "needs_background": "light"
     },
     "output_type": "display_data"
    }
   ],
   "source": [
    "# Univariate density functions\n",
    "\n",
    "import seaborn as sns\n",
    "\n",
    "t = np.linspace(-4, 4, 10000)\n",
    "densities = batch_of_normals.prob(np.repeat(t[:, np.newaxis], 2, axis=1)) # each column is a vector of densities for one distn\n",
    "\n",
    "sns.lineplot(t, densities[:, 0], label='loc={}, scale={}'.format(locs[0], scales[0]))\n",
    "sns.lineplot(t, densities[:, 1], label='loc={}, scale={}'.format(locs[1], scales[1]))\n",
    "plt.ylabel('Probability density')\n",
    "plt.xlabel('Value')\n",
    "plt.legend()\n",
    "plt.show()"
   ]
  },
  {
   "cell_type": "code",
   "execution_count": 35,
   "metadata": {},
   "outputs": [
    {
     "data": {
      "text/plain": [
       "<tfp.distributions.Normal 'Normal' batch_shape=[2] event_shape=[] dtype=float32>"
      ]
     },
     "execution_count": 35,
     "metadata": {},
     "output_type": "execute_result"
    }
   ],
   "source": [
    "# Check their batch_shape and event_shape\n",
    "\n",
    "batch_of_normals"
   ]
  },
  {
   "cell_type": "code",
   "execution_count": 36,
   "metadata": {},
   "outputs": [],
   "source": [
    "# Use Independent to convert the batch shape to the event shape\n",
    "\n",
    "bivariate_normal_from_Independent = tfd.Independent(batch_of_normals,\n",
    "                                        reinterpreted_batch_ndims=1)"
   ]
  },
  {
   "cell_type": "code",
   "execution_count": 37,
   "metadata": {},
   "outputs": [
    {
     "data": {
      "text/plain": [
       "<tfp.distributions.Independent 'IndependentNormal' batch_shape=[] event_shape=[2] dtype=float32>"
      ]
     },
     "execution_count": 37,
     "metadata": {},
     "output_type": "execute_result"
    }
   ],
   "source": [
    "# Note that dimension from batch_shape has shifted to event_shape\n",
    "bivariate_normal_from_Independent\n"
   ]
  },
  {
   "cell_type": "code",
   "execution_count": 38,
   "metadata": {},
   "outputs": [
    {
     "data": {
      "text/plain": [
       "<seaborn.axisgrid.JointGrid at 0x7f4008158390>"
      ]
     },
     "execution_count": 38,
     "metadata": {},
     "output_type": "execute_result"
    },
    {
     "data": {
      "image/png": "[encoded data removed]",
      "text/plain": [
       "<Figure size 432x432 with 3 Axes>"
      ]
     },
     "metadata": {
      "needs_background": "light"
     },
     "output_type": "display_data"
    }
   ],
   "source": [
    "# Create a plot showing joint density contours and marginal density functions\n",
    "\n",
    "samples = bivariate_normal_from_Independent.sample(10000)\n",
    "x1 = samples[:, 0]\n",
    "x2 = samples[:, 1]\n",
    "sns.jointplot(x1, x2, kind=\"kde\", space=0, color='b', xlim=[-4, 4], ylim=[-4, 4])"
   ]
  },
  {
   "cell_type": "code",
   "execution_count": 42,
   "metadata": {},
   "outputs": [
    {
     "data": {
      "text/plain": [
       "<tfp.distributions.MultivariateNormalDiag 'MultivariateNormalDiag' batch_shape=[] event_shape=[2] dtype=float32>"
      ]
     },
     "execution_count": 42,
     "metadata": {},
     "output_type": "execute_result"
    }
   ],
   "source": [
    "# Use MultivariateNormalDiag to create the equivalent distribution\n",
    "# Note that diagonal covariance matrix => no correlation => independence (for the multivariate normal distribution)\n",
    "bivariate_normal_from_Multivariate = tfd.MultivariateNormalDiag(loc=locs, scale_diag=scales)\n",
    "bivariate_normal_from_Multivariate\n"
   ]
  },
  {
   "cell_type": "code",
   "execution_count": 43,
   "metadata": {},
   "outputs": [
    {
     "data": {
      "text/plain": [
       "<seaborn.axisgrid.JointGrid at 0x7f3fec15cac8>"
      ]
     },
     "execution_count": 43,
     "metadata": {},
     "output_type": "execute_result"
    },
    {
     "data": {
      "image/png": "[encoded data removed]",
      "text/plain": [
       "<Figure size 432x432 with 3 Axes>"
      ]
     },
     "metadata": {
      "needs_background": "light"
     },
     "output_type": "display_data"
    }
   ],
   "source": [
    "# Plot the joint density function of bivariate_normal_from_Independent\n",
    "# Refer back to bivariate_normal_from_Independent to show that the plot is the same\n",
    "# Summarise how Independent has been used\n",
    "\n",
    "samples = bivariate_normal_from_Multivariate.sample(10000)\n",
    "x1 = samples[:, 0]\n",
    "x2 = samples[:, 1]\n",
    "sns.jointplot(x1, x2, kind=\"kde\", space=0, color='b', xlim=[-4, 4], ylim=[-4, 4])"
   ]
  },
  {
   "cell_type": "markdown",
   "metadata": {},
   "source": [
    "#### Shifting batch dimensions to event dimensions using \n",
    "`reinterpreted_batch_ndims`"
   ]
  },
  {
   "cell_type": "code",
   "execution_count": 44,
   "metadata": {},
   "outputs": [],
   "source": [
    "# Demonstrate use of reinterpreted_batch_ndims\n",
    "# By default all batch dims except the first are transferred to event dims\n",
    "\n",
    "loc_grid = [[-100., -100.],\n",
    "            [100., 100.],\n",
    "            [0., 0.]]\n",
    "scale_grid = [[1., 10.],\n",
    "              [1., 10.],\n",
    "              [1., 1.]]\n",
    "\n",
    "normals_batch_3by2_event_1 = tfd.Normal(loc=loc_grid, scale=scale_grid)"
   ]
  },
  {
   "cell_type": "code",
   "execution_count": 45,
   "metadata": {},
   "outputs": [
    {
     "data": {
      "text/plain": [
       "<tfp.distributions.Normal 'Normal' batch_shape=[3, 2] event_shape=[] dtype=float32>"
      ]
     },
     "execution_count": 45,
     "metadata": {},
     "output_type": "execute_result"
    }
   ],
   "source": [
    "# Highlight batch_shape\n",
    "\n",
    "normals_batch_3by2_event_1"
   ]
  },
  {
   "cell_type": "code",
   "execution_count": 46,
   "metadata": {},
   "outputs": [
    {
     "data": {
      "text/plain": [
       "<tfp.distributions.Independent 'IndependentNormal' batch_shape=[3] event_shape=[2] dtype=float32>"
      ]
     },
     "execution_count": 46,
     "metadata": {},
     "output_type": "execute_result"
    }
   ],
   "source": [
    "# We now have a batch of 3 bivariate normal distributions,\n",
    "# each parametrised by a column of our original parameter grid\n",
    "\n",
    "normals_batch_3_event_2 = tfd.Independent(normals_batch_3by2_event_1)\n",
    "normals_batch_3_event_2"
   ]
  },
  {
   "cell_type": "code",
   "execution_count": 49,
   "metadata": {},
   "outputs": [
    {
     "data": {
      "text/plain": [
       "<tf.Tensor: shape=(3,), dtype=float32, numpy=array([-4.1146406e+03, -4.1404624e+00, -2.8378770e+00], dtype=float32)>"
      ]
     },
     "execution_count": 49,
     "metadata": {},
     "output_type": "execute_result"
    }
   ],
   "source": [
    "# Evaluate log_prob\n",
    "normals_batch_3_event_2.log_prob(value=[[-10.,10.],\n",
    "                                        [100., 100.],\n",
    "                                        [1., 1.]])"
   ]
  },
  {
   "cell_type": "code",
   "execution_count": 50,
   "metadata": {},
   "outputs": [],
   "source": [
    "# Can reinterpret _all_ batch dimensions as event dimensions\n",
    "\n",
    "normals_batch_1_event_3_by_2 = tfd.Independent(normals_batch_3by2_event_1, reinterpreted_batch_ndims=2)"
   ]
  },
  {
   "cell_type": "code",
   "execution_count": 51,
   "metadata": {},
   "outputs": [
    {
     "data": {
      "text/plain": [
       "<tf.Tensor: shape=(), dtype=float32, numpy=-4121.619>"
      ]
     },
     "execution_count": 51,
     "metadata": {},
     "output_type": "execute_result"
    }
   ],
   "source": [
    "# Take log_probs \n",
    "\n",
    "normals_batch_1_event_3_by_2.log_prob(value=[[-10.,10.],\n",
    "                                        [100., 100.],\n",
    "                                        [1., 1.]])"
   ]
  },
  {
   "cell_type": "markdown",
   "metadata": {},
   "source": [
    "#### Using `Independent` to build a Naive Bayes classifier"
   ]
  },
  {
   "cell_type": "markdown",
   "metadata": {},
   "source": [
    "#### Introduction to `newsgroups` data set"
   ]
  },
  {
   "cell_type": "markdown",
   "metadata": {},
   "source": [
    "In this tutorial, just load the dataset, fetch train/test splits, probably choose a subset of the data.\n",
    "\n",
    "Construct the class conditional feature distribution (with Independent, using the Naive Bayes assumption) and sample from it.\n",
    "\n",
    "We can just use the ML estimates for parameters, in later tutorials we will learn them."
   ]
  },
  {
   "cell_type": "code",
   "execution_count": 52,
   "metadata": {},
   "outputs": [],
   "source": [
    "# Convenience function for retrieving the 20 newsgroups data set\n",
    "\n",
    "# Usenet was a forerunner to modern internet forums\n",
    "# Users could post and read articles\n",
    "# Newsgroup corresponded to a topic\n",
    "# Example topics in this data set: IBM computer hardware, baseball\n",
    "# Our objective is to use an article's contents to predict its newsgroup,\n",
    "# a 20-class classification problem.\n",
    "\n",
    "# 18000 newsgroups, posts on 20 topics\n",
    "from sklearn.datasets import fetch_20newsgroups\n",
    "from sklearn.feature_extraction.text import CountVectorizer\n"
   ]
  },
  {
   "cell_type": "code",
   "execution_count": 54,
   "metadata": {},
   "outputs": [],
   "source": [
    "# Get the train data\n",
    "newsgroups_data = fetch_20newsgroups(data_home='20_Newsgroup_Data/', subset='train')\n"
   ]
  },
  {
   "cell_type": "code",
   "execution_count": 56,
   "metadata": {},
   "outputs": [
    {
     "name": "stdout",
     "output_type": "stream",
     "text": [
      ".. _20newsgroups_dataset:\n",
      "\n",
      "The 20 newsgroups text dataset\n",
      "------------------------------\n",
      "\n",
      "The 20 newsgroups dataset comprises around 18000 newsgroups posts on\n",
      "20 topics split in two subsets: one for training (or development)\n",
      "and the other one for testing (or for performance evaluation). The split\n",
      "between the train and test set is based upon a messages posted before\n",
      "and after a specific date.\n",
      "\n",
      "This module contains two loaders. The first one,\n",
      ":func:`sklearn.datasets.fetch_20newsgroups`,\n",
      "returns a list of the raw texts that can be fed to text feature\n",
      "extractors such as :class:`sklearn.feature_extraction.text.CountVectorizer`\n",
      "with custom parameters so as to extract feature vectors.\n",
      "The second one, :func:`sklearn.datasets.fetch_20newsgroups_vectorized`,\n",
      "returns ready-to-use features, i.e., it is not necessary to use a feature\n",
      "extractor.\n",
      "\n",
      "**Data Set Characteristics:**\n",
      "\n",
      "    =================   ==========\n",
      "    Classes                     20\n",
      "    Samples total            18846\n",
      "    Dimensionality               1\n",
      "    Features                  text\n",
      "    =================   ==========\n",
      "\n",
      "Usage\n",
      "~~~~~\n",
      "\n",
      "The :func:`sklearn.datasets.fetch_20newsgroups` function is a data\n",
      "fetching / caching functions that downloads the data archive from\n",
      "the original `20 newsgroups website`_, extracts the archive contents\n",
      "in the ``~/scikit_learn_data/20news_home`` folder and calls the\n",
      ":func:`sklearn.datasets.load_files` on either the training or\n",
      "testing set folder, or both of them::\n",
      "\n",
      "  >>> from sklearn.datasets import fetch_20newsgroups\n",
      "  >>> newsgroups_train = fetch_20newsgroups(subset='train')\n",
      "\n",
      "  >>> from pprint import pprint\n",
      "  >>> pprint(list(newsgroups_train.target_names))\n",
      "  ['alt.atheism',\n",
      "   'comp.graphics',\n",
      "   'comp.os.ms-windows.misc',\n",
      "   'comp.sys.ibm.pc.hardware',\n",
      "   'comp.sys.mac.hardware',\n",
      "   'comp.windows.x',\n",
      "   'misc.forsale',\n",
      "   'rec.autos',\n",
      "   'rec.motorcycles',\n",
      "   'rec.sport.baseball',\n",
      "   'rec.sport.hockey',\n",
      "   'sci.crypt',\n",
      "   'sci.electronics',\n",
      "   'sci.med',\n",
      "   'sci.space',\n",
      "   'soc.religion.christian',\n",
      "   'talk.politics.guns',\n",
      "   'talk.politics.mideast',\n",
      "   'talk.politics.misc',\n",
      "   'talk.religion.misc']\n",
      "\n",
      "The real data lies in the ``filenames`` and ``target`` attributes. The target\n",
      "attribute is the integer index of the category::\n",
      "\n",
      "  >>> newsgroups_train.filenames.shape\n",
      "  (11314,)\n",
      "  >>> newsgroups_train.target.shape\n",
      "  (11314,)\n",
      "  >>> newsgroups_train.target[:10]\n",
      "  array([ 7,  4,  4,  1, 14, 16, 13,  3,  2,  4])\n",
      "\n",
      "It is possible to load only a sub-selection of the categories by passing the\n",
      "list of the categories to load to the\n",
      ":func:`sklearn.datasets.fetch_20newsgroups` function::\n",
      "\n",
      "  >>> cats = ['alt.atheism', 'sci.space']\n",
      "  >>> newsgroups_train = fetch_20newsgroups(subset='train', categories=cats)\n",
      "\n",
      "  >>> list(newsgroups_train.target_names)\n",
      "  ['alt.atheism', 'sci.space']\n",
      "  >>> newsgroups_train.filenames.shape\n",
      "  (1073,)\n",
      "  >>> newsgroups_train.target.shape\n",
      "  (1073,)\n",
      "  >>> newsgroups_train.target[:10]\n",
      "  array([0, 1, 1, 1, 0, 1, 1, 0, 0, 0])\n",
      "\n",
      "Converting text to vectors\n",
      "~~~~~~~~~~~~~~~~~~~~~~~~~~\n",
      "\n",
      "In order to feed predictive or clustering models with the text data,\n",
      "one first need to turn the text into vectors of numerical values suitable\n",
      "for statistical analysis. This can be achieved with the utilities of the\n",
      "``sklearn.feature_extraction.text`` as demonstrated in the following\n",
      "example that extract `TF-IDF`_ vectors of unigram tokens\n",
      "from a subset of 20news::\n",
      "\n",
      "  >>> from sklearn.feature_extraction.text import TfidfVectorizer\n",
      "  >>> categories = ['alt.atheism', 'talk.religion.misc',\n",
      "  ...               'comp.graphics', 'sci.space']\n",
      "  >>> newsgroups_train = fetch_20newsgroups(subset='train',\n",
      "  ...                                       categories=categories)\n",
      "  >>> vectorizer = TfidfVectorizer()\n",
      "  >>> vectors = vectorizer.fit_transform(newsgroups_train.data)\n",
      "  >>> vectors.shape\n",
      "  (2034, 34118)\n",
      "\n",
      "The extracted TF-IDF vectors are very sparse, with an average of 159 non-zero\n",
      "components by sample in a more than 30000-dimensional space\n",
      "(less than .5% non-zero features)::\n",
      "\n",
      "  >>> vectors.nnz / float(vectors.shape[0])       # doctest: +ELLIPSIS\n",
      "  159.01327...\n",
      "\n",
      ":func:`sklearn.datasets.fetch_20newsgroups_vectorized` is a function which \n",
      "returns ready-to-use token counts features instead of file names.\n",
      "\n",
      ".. _`20 newsgroups website`: http://people.csail.mit.edu/jrennie/20Newsgroups/\n",
      ".. _`TF-IDF`: https://en.wikipedia.org/wiki/Tf-idf\n",
      "\n",
      "\n",
      "Filtering text for more realistic training\n",
      "~~~~~~~~~~~~~~~~~~~~~~~~~~~~~~~~~~~~~~~~~~\n",
      "\n",
      "It is easy for a classifier to overfit on particular things that appear in the\n",
      "20 Newsgroups data, such as newsgroup headers. Many classifiers achieve very\n",
      "high F-scores, but their results would not generalize to other documents that\n",
      "aren't from this window of time.\n",
      "\n",
      "For example, let's look at the results of a multinomial Naive Bayes classifier,\n",
      "which is fast to train and achieves a decent F-score::\n",
      "\n",
      "  >>> from sklearn.naive_bayes import MultinomialNB\n",
      "  >>> from sklearn import metrics\n",
      "  >>> newsgroups_test = fetch_20newsgroups(subset='test',\n",
      "  ...                                      categories=categories)\n",
      "  >>> vectors_test = vectorizer.transform(newsgroups_test.data)\n",
      "  >>> clf = MultinomialNB(alpha=.01)\n",
      "  >>> clf.fit(vectors, newsgroups_train.target)\n",
      "  MultinomialNB(alpha=0.01, class_prior=None, fit_prior=True)\n",
      "\n",
      "  >>> pred = clf.predict(vectors_test)\n",
      "  >>> metrics.f1_score(newsgroups_test.target, pred, average='macro')  # doctest: +ELLIPSIS\n",
      "  0.88213...\n",
      "\n",
      "(The example :ref:`sphx_glr_auto_examples_text_plot_document_classification_20newsgroups.py` shuffles\n",
      "the training and test data, instead of segmenting by time, and in that case\n",
      "multinomial Naive Bayes gets a much higher F-score of 0.88. Are you suspicious\n",
      "yet of what's going on inside this classifier?)\n",
      "\n",
      "Let's take a look at what the most informative features are:\n",
      "\n",
      "  >>> import numpy as np\n",
      "  >>> def show_top10(classifier, vectorizer, categories):\n",
      "  ...     feature_names = np.asarray(vectorizer.get_feature_names())\n",
      "  ...     for i, category in enumerate(categories):\n",
      "  ...         top10 = np.argsort(classifier.coef_[i])[-10:]\n",
      "  ...         print(\"%s: %s\" % (category, \" \".join(feature_names[top10])))\n",
      "  ...\n",
      "  >>> show_top10(clf, vectorizer, newsgroups_train.target_names)\n",
      "  alt.atheism: edu it and in you that is of to the\n",
      "  comp.graphics: edu in graphics it is for and of to the\n",
      "  sci.space: edu it that is in and space to of the\n",
      "  talk.religion.misc: not it you in is that and to of the\n",
      "\n",
      "\n",
      "You can now see many things that these features have overfit to:\n",
      "\n",
      "- Almost every group is distinguished by whether headers such as\n",
      "  ``NNTP-Posting-Host:`` and ``Distribution:`` appear more or less often.\n",
      "- Another significant feature involves whether the sender is affiliated with\n",
      "  a university, as indicated either by their headers or their signature.\n",
      "- The word \"article\" is a significant feature, based on how often people quote\n",
      "  previous posts like this: \"In article [article ID], [name] <[e-mail address]>\n",
      "  wrote:\"\n",
      "- Other features match the names and e-mail addresses of particular people who\n",
      "  were posting at the time.\n",
      "\n",
      "With such an abundance of clues that distinguish newsgroups, the classifiers\n",
      "barely have to identify topics from text at all, and they all perform at the\n",
      "same high level.\n",
      "\n",
      "For this reason, the functions that load 20 Newsgroups data provide a\n",
      "parameter called **remove**, telling it what kinds of information to strip out\n",
      "of each file. **remove** should be a tuple containing any subset of\n",
      "``('headers', 'footers', 'quotes')``, telling it to remove headers, signature\n",
      "blocks, and quotation blocks respectively.\n",
      "\n",
      "  >>> newsgroups_test = fetch_20newsgroups(subset='test',\n",
      "  ...                                      remove=('headers', 'footers', 'quotes'),\n",
      "  ...                                      categories=categories)\n",
      "  >>> vectors_test = vectorizer.transform(newsgroups_test.data)\n",
      "  >>> pred = clf.predict(vectors_test)\n",
      "  >>> metrics.f1_score(pred, newsgroups_test.target, average='macro')  # doctest: +ELLIPSIS\n",
      "  0.77310...\n",
      "\n",
      "This classifier lost over a lot of its F-score, just because we removed\n",
      "metadata that has little to do with topic classification.\n",
      "It loses even more if we also strip this metadata from the training data:\n",
      "\n",
      "  >>> newsgroups_train = fetch_20newsgroups(subset='train',\n",
      "  ...                                       remove=('headers', 'footers', 'quotes'),\n",
      "  ...                                       categories=categories)\n",
      "  >>> vectors = vectorizer.fit_transform(newsgroups_train.data)\n",
      "  >>> clf = MultinomialNB(alpha=.01)\n",
      "  >>> clf.fit(vectors, newsgroups_train.target)\n",
      "  MultinomialNB(alpha=0.01, class_prior=None, fit_prior=True)\n",
      "\n",
      "  >>> vectors_test = vectorizer.transform(newsgroups_test.data)\n",
      "  >>> pred = clf.predict(vectors_test)\n",
      "  >>> metrics.f1_score(newsgroups_test.target, pred, average='macro')  # doctest: +ELLIPSIS\n",
      "  0.76995...\n",
      "\n",
      "Some other classifiers cope better with this harder version of the task. Try\n",
      "running :ref:`sphx_glr_auto_examples_model_selection_grid_search_text_feature_extraction.py` with and without\n",
      "the ``--filter`` option to compare the results.\n",
      "\n",
      ".. topic:: Recommendation\n",
      "\n",
      "  When evaluating text classifiers on the 20 Newsgroups data, you\n",
      "  should strip newsgroup-related metadata. In scikit-learn, you can do this by\n",
      "  setting ``remove=('headers', 'footers', 'quotes')``. The F-score will be\n",
      "  lower because it is more realistic.\n",
      "\n",
      ".. topic:: Examples\n",
      "\n",
      "   * :ref:`sphx_glr_auto_examples_model_selection_grid_search_text_feature_extraction.py`\n",
      "\n",
      "   * :ref:`sphx_glr_auto_examples_text_plot_document_classification_20newsgroups.py`\n",
      "\n"
     ]
    }
   ],
   "source": [
    "# More information about the data set\n",
    "print(newsgroups_data['DESCR'])\n"
   ]
  },
  {
   "cell_type": "code",
   "execution_count": 57,
   "metadata": {},
   "outputs": [
    {
     "name": "stdout",
     "output_type": "stream",
     "text": [
      "From: lerxst@wam.umd.edu (where's my thing)\n",
      "Subject: WHAT car is this!?\n",
      "Nntp-Posting-Host: rac3.wam.umd.edu\n",
      "Organization: University of Maryland, College Park\n",
      "Lines: 15\n",
      "\n",
      " I was wondering if anyone out there could enlighten me on this car I saw\n",
      "the other day. It was a 2-door sports car, looked to be from the late 60s/\n",
      "early 70s. It was called a Bricklin. The doors were really small. In addition,\n",
      "the front bumper was separate from the rest of the body. This is \n",
      "all I know. If anyone can tellme a model name, engine specs, years\n",
      "of production, where this car is made, history, or whatever info you\n",
      "have on this funky looking car, please e-mail.\n",
      "\n",
      "Thanks,\n",
      "- IL\n",
      "   ---- brought to you by your neighborhood Lerxst ----\n",
      "\n",
      "\n",
      "\n",
      "\n",
      "\n"
     ]
    }
   ],
   "source": [
    "# Example article\n",
    "print(newsgroups_data['data'][0])\n"
   ]
  },
  {
   "cell_type": "code",
   "execution_count": 58,
   "metadata": {},
   "outputs": [
    {
     "name": "stdout",
     "output_type": "stream",
     "text": [
      "7\n"
     ]
    }
   ],
   "source": [
    "# Associated label\n",
    "\n",
    "print(newsgroups_data['target'][0])"
   ]
  },
  {
   "cell_type": "code",
   "execution_count": 59,
   "metadata": {},
   "outputs": [
    {
     "name": "stdout",
     "output_type": "stream",
     "text": [
      "rec.autos\n"
     ]
    }
   ],
   "source": [
    "# Name of label\n",
    "\n",
    "print(newsgroups_data['target_names'][7])"
   ]
  },
  {
   "cell_type": "code",
   "execution_count": 60,
   "metadata": {},
   "outputs": [],
   "source": [
    "# Preprocessing boilerplate\n",
    "\n",
    "n_documents = len(newsgroups_data['data'])\n",
    "\n",
    "count_vectorizer = CountVectorizer(input='content', binary=True,\n",
    "                                   max_df=0.25, min_df=1.01/n_documents) # ignore common words, words that appear once\n",
    "binary_bag_of_words = count_vectorizer.fit_transform(newsgroups_data['data']) # input is a list of strings\n"
   ]
  },
  {
   "cell_type": "code",
   "execution_count": 61,
   "metadata": {},
   "outputs": [
    {
     "data": {
      "text/plain": [
       "(11314, 56365)"
      ]
     },
     "execution_count": 61,
     "metadata": {},
     "output_type": "execute_result"
    }
   ],
   "source": [
    "# Check shape\n",
    "binary_bag_of_words.shape\n"
   ]
  },
  {
   "cell_type": "code",
   "execution_count": 62,
   "metadata": {},
   "outputs": [
    {
     "data": {
      "text/plain": [
       "[array(['lerxst', 'wam', 'umd', 'where', 'thing', 'car', 'rac3',\n",
       "        'maryland', 'college', 'park', '15', 'wondering', 'anyone',\n",
       "        'could', 'enlighten', 'saw', 'day', 'door', 'sports', 'looked',\n",
       "        'late', '60s', 'early', '70s', 'called', 'bricklin', 'doors',\n",
       "        'were', 'really', 'small', 'addition', 'front', 'bumper',\n",
       "        'separate', 'rest', 'body', 'tellme', 'model', 'name', 'engine',\n",
       "        'specs', 'years', 'production', 'made', 'history', 'whatever',\n",
       "        'info', 'funky', 'looking', 'please', 'mail', 'thanks', 'il',\n",
       "        'brought', 'neighborhood'], dtype='<U80')]"
      ]
     },
     "execution_count": 62,
     "metadata": {},
     "output_type": "execute_result"
    }
   ],
   "source": [
    "# Check that the fit has been successful\n",
    "count_vectorizer.inverse_transform(binary_bag_of_words[0, :])\n"
   ]
  },
  {
   "cell_type": "code",
   "execution_count": 63,
   "metadata": {},
   "outputs": [],
   "source": [
    "# Dict that will be useful later \n",
    "\n",
    "inv_vocabulary = {value:key for key, value in count_vectorizer.vocabulary_.items()}"
   ]
  },
  {
   "cell_type": "markdown",
   "metadata": {},
   "source": [
    "#### A Naive Bayes classifier for `newsgroup`"
   ]
  },
  {
   "cell_type": "markdown",
   "metadata": {},
   "source": [
    "Each feature vector $x$ is a list of indicators for whether a word appears in the article. $x_i$ is 1 if the $i$th word appears, and 0 otherwise. `inv_vocabulary` matches word indices $i$ to words.\n",
    "\n",
    "Each label $y$ is a value in $0, 1, \\ldots, 19$.\n",
    "\n",
    "The parts of a naive Bayes classifier for this problem can be summarised as:  \n",
    "\n",
    "\n",
    "- A probability distribution for the feature vector by class, $p(x|y = j)$ for each $j = 0, 1, \\ldots, 19$. These probability distributions are assumed to have independent components: we can factorize the joint probability as a product of marginal probabilities\n",
    "\\begin{equation}\n",
    "    p(x|y = j) = \\prod_{i=1}^d p(x_i|y = j)\n",
    "\\end{equation}\n",
    "These marginal probability distributions are Bernoulli distributions, each of which has a single parameter $\\theta_{ji} := p(x_i = 1|y = j)$. This parameter is the probability of observing word $i$ in an article of class $j$. \n",
    "\n",
    "- We will use the Laplace smoothed maximum likelihood estimate to compute these parameters. Laplace smoothing involves adding small counts to every feature for each class. Else, if a feature did not appear in the training set of a class, but then we observed it in our test data the log probability would be undefined.\n",
    "\n",
    "- A collection of class prior probabilities $p(y = j)$. These will be set by computing the class base rates in the training set.  \n",
    "\n",
    "\n",
    "- A function for computing the probability of class membership via Bayes' theorem:  \n",
    "\n",
    "\\begin{equation}\n",
    "    p(y = j|x) = \\frac{p(x|y = j)p(y = j)}{p(x)}\n",
    "\\end{equation}"
   ]
  },
  {
   "cell_type": "code",
   "execution_count": 64,
   "metadata": {},
   "outputs": [],
   "source": [
    "# Compute the parameter estimates (adjusted fraction of documents in class that contain word)\n",
    "\n",
    "n_classes = newsgroups_data['target'].max() + 1\n",
    "y = newsgroups_data['target']\n",
    "n_words = binary_bag_of_words.shape[1]\n",
    "\n",
    "alpha = 1e-6 # parameters for Laplace smoothing\n",
    "\n",
    "theta = np.zeros([n_classes, n_words]) # stores parameter values - prob. word given class\n",
    "for c_k in range(n_classes): # 0, 1, ..., 19\n",
    "    class_mask = (y == c_k)\n",
    "    N = class_mask.sum() # number of articles in class\n",
    "    theta[c_k, :] = (binary_bag_of_words[class_mask, :].sum(axis=0) + alpha)/(N + alpha*2)"
   ]
  },
  {
   "cell_type": "code",
   "execution_count": 65,
   "metadata": {},
   "outputs": [
    {
     "name": "stdout",
     "output_type": "stream",
     "text": [
      "Most probable word in class alt.atheism is \"people\".\n",
      "Most probable word in class comp.graphics is \"graphics\".\n",
      "Most probable word in class comp.os.ms-windows.misc is \"windows\".\n",
      "Most probable word in class comp.sys.ibm.pc.hardware is \"thanks\".\n",
      "Most probable word in class comp.sys.mac.hardware is \"mac\".\n",
      "Most probable word in class comp.windows.x is \"window\".\n",
      "Most probable word in class misc.forsale is \"sale\".\n",
      "Most probable word in class rec.autos is \"car\".\n",
      "Most probable word in class rec.motorcycles is \"dod\".\n",
      "Most probable word in class rec.sport.baseball is \"he\".\n",
      "Most probable word in class rec.sport.hockey is \"ca\".\n",
      "Most probable word in class sci.crypt is \"clipper\".\n",
      "Most probable word in class sci.electronics is \"use\".\n",
      "Most probable word in class sci.med is \"reply\".\n",
      "Most probable word in class sci.space is \"space\".\n",
      "Most probable word in class soc.religion.christian is \"god\".\n",
      "Most probable word in class talk.politics.guns is \"people\".\n",
      "Most probable word in class talk.politics.mideast is \"people\".\n",
      "Most probable word in class talk.politics.misc is \"people\".\n",
      "Most probable word in class talk.religion.misc is \"he\".\n"
     ]
    }
   ],
   "source": [
    "# Check whether the most probable word in each class is reasonable\n",
    "\n",
    "most_probable_word_ix = theta.argmax(axis=1) # most probable word for each class\n",
    "\n",
    "for j, ix in enumerate(most_probable_word_ix):\n",
    "    print('Most probable word in class {} is \"{}\".'.format(newsgroups_data['target_names'][j],\n",
    "                                                           inv_vocabulary[ix]))"
   ]
  },
  {
   "cell_type": "code",
   "execution_count": 66,
   "metadata": {},
   "outputs": [
    {
     "data": {
      "text/plain": [
       "<tfp.distributions.Independent 'IndependentBernoulli' batch_shape=[20] event_shape=[56365] dtype=int32>"
      ]
     },
     "execution_count": 66,
     "metadata": {},
     "output_type": "execute_result"
    }
   ],
   "source": [
    "# Define a distribution for each class\n",
    "batch_of_bernoullis= tfd.Bernoulli(probs=theta)\n",
    "P_x_given_y = tfd.Independent(batch_of_bernoullis,\n",
    "reinterpreted_batch_ndims=1)\n",
    "P_x_given_y"
   ]
  },
  {
   "cell_type": "code",
   "execution_count": 71,
   "metadata": {},
   "outputs": [
    {
     "data": {
      "text/plain": [
       "TensorShape([10, 20, 56365])"
      ]
     },
     "execution_count": 71,
     "metadata": {},
     "output_type": "execute_result"
    }
   ],
   "source": [
    "# Take a sample of words from each class\n",
    "\n",
    "n_samples = 10\n",
    "sample=P_x_given_y.sample(n_samples)\n",
    "sample.shape"
   ]
  },
  {
   "cell_type": "code",
   "execution_count": 72,
   "metadata": {},
   "outputs": [
    {
     "data": {
      "text/plain": [
       "'soc.religion.christian'"
      ]
     },
     "execution_count": 72,
     "metadata": {},
     "output_type": "execute_result"
    }
   ],
   "source": [
    "# Choose a class\n",
    "\n",
    "chosen_class = 15\n",
    "newsgroups_data['target_names'][chosen_class]"
   ]
  },
  {
   "cell_type": "code",
   "execution_count": 73,
   "metadata": {},
   "outputs": [
    {
     "data": {
      "text/plain": [
       "<tf.Tensor: shape=(10, 56365), dtype=int32, numpy=\n",
       "array([[0, 0, 0, ..., 0, 0, 0],\n",
       "       [1, 0, 0, ..., 0, 0, 0],\n",
       "       [0, 0, 0, ..., 0, 0, 0],\n",
       "       ...,\n",
       "       [0, 0, 0, ..., 0, 0, 0],\n",
       "       [0, 0, 0, ..., 0, 0, 0],\n",
       "       [0, 0, 0, ..., 0, 0, 0]], dtype=int32)>"
      ]
     },
     "execution_count": 73,
     "metadata": {},
     "output_type": "execute_result"
    }
   ],
   "source": [
    "# Indicators for words that appear in the sample\n",
    "\n",
    "class_sample = sample[:, chosen_class, :]\n",
    "class_sample"
   ]
  },
  {
   "cell_type": "code",
   "execution_count": 74,
   "metadata": {},
   "outputs": [
    {
     "data": {
      "text/plain": [
       "[array(['101', '13', '1930', '1993', '22', '24', '28412', '7900',\n",
       "        'accepting', 'accuse', 'advocating', 'although', 'andy', 'another',\n",
       "        'anyone', 'apr', 'assured', 'ben', 'books', 'brevity', 'called',\n",
       "        'cf', 'changes', 'claim', 'clearly', 'clh', 'commandments',\n",
       "        'comparison', 'contradiction', 'conveys', 'corresponding',\n",
       "        'crosswise', 'csd', 'culture', 'cwis', 'day', 'defined',\n",
       "        'definitely', 'did', 'discriminatory', 'disorganized', 'divorce',\n",
       "        'does', 'dr', 'email', 'ethnic', 'ever', 'evidence', 'existed',\n",
       "        'far', 'female', 'few', 'figure', 'foce', 'foundation', 'gave',\n",
       "        'god', 'going', 'good', 'grad', 'greeting', 'group', 'had', 'he',\n",
       "        'head', 'her', 'higher', 'him', 'ie', 'important', 'information',\n",
       "        'interchangeable', 'investigating', 'involve', 'jason', 'josh',\n",
       "        'knees', 'lfoard', 'lord', 'love', 'make', 'makes', 'many',\n",
       "        'means', 'minute', 'mistaken', 'mozart', 'necessarily', 'neighbor',\n",
       "        'number', 'off', 'over', 'passages', 'peace', 'perfect',\n",
       "        'philosophy', 'plans', 'platform', 'pmoloney', 'point',\n",
       "        'pointless', 'possibility', 'praise', 'presbyterian', 'pretty',\n",
       "        'prophecies', 'put', 'question', 'quite', 'quotes', 'realization',\n",
       "        'religions', 'restoration', 'romantic', 'said', 'sand', 'sas',\n",
       "        'sealed', 'since', 'skeptical', 'special', 'stephen', 'still',\n",
       "        'stop', 'struck', 'suggest', 'sure', 'tell', 'temper', 'their',\n",
       "        'then', 'theology', 'therefore', 'things', 'think', 'through',\n",
       "        'topics', 'truth', 'umiacs', 'wait', 'way', 'were', 'where',\n",
       "        'winter', 'within', 'works', 'wouldn', 'yes'], dtype='<U80'),\n",
       " array(['00', '10', '1993', '36', '7000', '703', '84', '_true', 'able',\n",
       "        'above', 'action', 'after', 'answer', 'answered', 'appears',\n",
       "        'articles', 'aside', 'assumption', 'athena', 'away', 'because',\n",
       "        'began', 'being', 'beings', 'big', 'bit', 'budd', 'called',\n",
       "        'carry', 'comparative', 'computer', 'con', 'concrete', 'created',\n",
       "        'dead', 'doctrine', 'doctrines', 'does', 'dreams', 'drive',\n",
       "        'easter', 'emphasis', 'especially', 'even', 'exactly',\n",
       "        'excommunication', 'expect', 'facts', 'failures', 'faith',\n",
       "        'father', 'followers', 'glory', 'good', 'heath', 'here', 'highest',\n",
       "        'him', 'his', 'impression', 'into', 'join', 'joseph', 'judges',\n",
       "        'leads', 'less', 'let', 'life', 'logically', 'lumped', 'man',\n",
       "        'many', 'married', 'merely', 'moral', 'mount', 'mr', 'net',\n",
       "        'oldest', 'ourselves', 'participating', 'people', 'person',\n",
       "        'personally', 'phone', 'played', 'please', 'pointless', 'portion',\n",
       "        'printed', 'prove', 'public', 'punative', 'quite', 'rc', 'read',\n",
       "        'really', 'reasoning', 'reference', 'reject', 'relate',\n",
       "        'resisting', 'revdak', 'right', 'rituals', 'room', 'rules',\n",
       "        'running', 'sacrafice', 'same', 'satan', 'simple', 'sin', 'sodom',\n",
       "        'someone', 'sometimes', 'stay', 'still', 'stood', 'such', 'sure',\n",
       "        'synonymous', 'teach', 'tell', 'terminology', 'these', 'thief',\n",
       "        'things', 'thus', 'truth', 'trying', 'ucf', 'us', 'very', 'wants',\n",
       "        'warped', 'well', 'wife', 'within', 'woke'], dtype='<U80'),\n",
       " array(['05', '100', '15', '29112', '30602', '33', '99', 'admonish',\n",
       "        'again', 'also', 'am', 'answer', 'anyway', 'appears', 'apt',\n",
       "        'basis', 'become', 'been', 'being', 'beliefs', 'bible', 'biblical',\n",
       "        'cc', 'centuries', 'child', 'christian', 'concept', 'contact',\n",
       "        'corinthians', 'could', 'crusades', 'customer', 'darius', 'david',\n",
       "        'demons', 'did', 'didn', 'discussion', 'does', 'dotson', 'ed',\n",
       "        'evidently', 'except', 'exists', 'fall', 'far', 'fax', 'fear',\n",
       "        'fidonet', 'fisher', 'foot', 'fraser', 'fully', 'giaeb', 'glasgow',\n",
       "        'go', 'good', 'great', 'guild', 'had', 'happen', 'him', 'however',\n",
       "        'humans', 'implies', 'indiana', 'individual', 'individuality',\n",
       "        'institute', 'interpretations', 'jesus', 'johnson', 'last',\n",
       "        'lewis', 'listens', 'lock', 'look', 'lost', 'love', 'mary', 'may',\n",
       "        'maybe', 'mean', 'melissa', 'music', 'must', 'myself', 'n4tmi',\n",
       "        'notes', 'nothings', 'notice', 'opinions', 'others', 'over',\n",
       "        'physical', 'proceeding', 'pure', 'put', 'quote', 'rather', 'read',\n",
       "        'recognize', 'regarding', 'reign', 'reported', 'requires',\n",
       "        'revolutionary', 'right', 'said', 'scan', 'send', 'simply',\n",
       "        'someone', 'states', 'still', 'submit', 'sun', 'their', 'them',\n",
       "        'then', 'these', 'think', 'throne', 'thwarted', 'time',\n",
       "        'unattended', 'used', 'want', 'way', 'wrong'], dtype='<U80'),\n",
       " array(['02', '05', '10', '100', '17', 'addition', 'ages', 'agree', 'also',\n",
       "        'anger', 'answer', 'appreciate', 'attention', 'austin',\n",
       "        'authority', 'beaverton', 'because', 'bible', 'black', 'both',\n",
       "        'bradley', 'breakers', 'burton', 'cannot', 'carrying', 'case',\n",
       "        'come', 'comm', 'concerned', 'condemned', 'crucifixion', 'david',\n",
       "        'decided', 'demanding', 'details', 'devil', 'either', 'entire',\n",
       "        'esteeming', 'ethnic', 'exist', 'explaining', 'fidonet', 'find',\n",
       "        'formulae', 'go', 'government', 'growing', 'gt7122b', 'guild',\n",
       "        'harrassment', 'heart', 'imminent', 'initiates', 'johnson', 'june',\n",
       "        'kellett', 'languages', 'law', 'left', 'life', 'light', 'lions',\n",
       "        'love', 'lowest', 'make', 'man', 'many', 'may', 'measure', 'met',\n",
       "        'michael', 'might', 'mindlink', 'modern', 'most', 'negative',\n",
       "        'patron', 'petch', 'picture', 'playing', 'possible', 'power',\n",
       "        'problems', 'proof', 'prophetic', 'public', 'quest', 'questioner',\n",
       "        'quotes', 'reading', 'reference', 'reid', 'religion', 'remarked',\n",
       "        'said', 'salvation', 'savior', 'say', 'see', 'seem', 'simply',\n",
       "        'sons', 'soon', 'spoke', 'stage', 'stoning', 'support', 'suspect',\n",
       "        'take', 'themselves', 'then', 'theology', 'things', 'think',\n",
       "        'time', 'undoubtedly', 'unity', 'us', 'user', 'valid', 'validated',\n",
       "        'vaugely', 'videotaped', 'wedlock', 'week', 'where', 'whole',\n",
       "        'wisdom', 'wrong', 'wrote'], dtype='<U80'),\n",
       " array(['18', '19', '30602', '31', '42', '88', 'accepted', 'actually',\n",
       "        'aesthetic', 'alone', 'ancient', 'answer', 'anyone', 'apr',\n",
       "        'beautiful', 'bickering', 'bio', 'body', 'box', 'car', 'catholics',\n",
       "        'christian', 'christianity', 'church', 'claim', 'clearly',\n",
       "        'corinthians', 'could', 'counter', 'cowboys', 'create', 'created',\n",
       "        'criticisms', 'danger', 'daniel', 'darius_lecointe', 'daughters',\n",
       "        'dean', 'deleted', 'deny', 'describes', 'despite', 'disclaimers',\n",
       "        'disheartening', 'disobeyers', 'dixon', 'dogmatic', 'edition',\n",
       "        'england', 'entail', 'every', 'experience', 'eyewitnesses', 'fact',\n",
       "        'feet', 'fermi', 'french', 'geisler', 'go', 'govern', 'group',\n",
       "        'hand', 'helpful', 'himself', 'holfeltz', 'honestly', 'ignorant',\n",
       "        'important', 'indeed', 'insights', 'instant', 'interpretation',\n",
       "        'jayne', 'jesus', 'jews', 'john', 'keeping', 'knows', 'let',\n",
       "        'little', 'loose', 'lor', 'mackie', 'many', 'matter', 'mentioned',\n",
       "        'ments', 'messages', 'messiah', 'millionaire', 'miss', 'mother',\n",
       "        'none', 'offended', 'oh', 'ones', 'opinion', 'ostensibly', 'our',\n",
       "        'over', 'part', 'people', 'possible', 'preached', 'preacher',\n",
       "        'prevailing', 'priesthood', 'primarily', 'prism', 'proverbs',\n",
       "        'question', 'questions', 'quoted', 'ramble', 'recollections',\n",
       "        'records', 'religion', 'relying', 'repenting', 'represented',\n",
       "        'roboticist', 'romans', 'rpi', 'rutgers', 'said', 'saints', 'same',\n",
       "        'say', 'says', 'shortcomings', 'someone', 'sort', 'spoils',\n",
       "        'spoken', 'term', 'them', 'thus', 'translated', 'two', 'upon',\n",
       "        'us', 'warning', 'way', 'well', 'while', 'words', 'years',\n",
       "        'yourself'], dtype='<U80'),\n",
       " array(['13', '16', '59', '93', '_bashing_', 'actually', 'andrew',\n",
       "        'anything', 'apostle', 'argument', 'artificially', 'ask',\n",
       "        'attempt', 'bearing', 'because', 'beliefs', 'believers', 'between',\n",
       "        'biblical', 'book', 'books', 'cause', 'cease', 'chuck',\n",
       "        'concluded', 'conclusions', 'considered', 'could', 'criticism',\n",
       "        'crowd', 'cs', 'cut', 'de', 'defies', 'discussion', 'doubt',\n",
       "        'else', 'etc', 'everyone', 'excuses', 'exists', 'explore', 'faith',\n",
       "        'finally', 'find', 'free', 'give', 'god', 'good', 'gospel',\n",
       "        'greek', 'group', 'guess', 'happy', 'hebrew', 'him', 'his', 'hmm',\n",
       "        'human', 'incurable', 'invited', 'jeesus', 'jesus', 'jungles',\n",
       "        'kind', 'later', 'latin', 'llo', 'lord', 'martial', 'matter',\n",
       "        'max', 'mb', 'mean', 'mentioned', 'michael', 'minister', 'morning',\n",
       "        'name', 'netters', 'new', 'nobody', 'nor', 'notre', 'now',\n",
       "        'observing', 'off', 'opinions', 'oriental', 'original', 'own',\n",
       "        'parenthood', 'penalty', 'person', 'pihko', 'please', 'point',\n",
       "        'postal', 'preacher', 'pronouncements', 'protestants', 'prove',\n",
       "        'provide', 'punish', 'question', 'questions', 'ran', 'read',\n",
       "        'reasonably', 'recall', 'resting', 'said', 'say', 'school', 'see',\n",
       "        'seems', 'several', 'silent', 'simply', 'sleep', 'son',\n",
       "        'specifying', 'still', 'such', 'superstar', 'task', 'things',\n",
       "        'too', 'touch', 'truthfully', 'ttttttt', 'turned', 'ucs',\n",
       "        'unomaha', 'us', 'valid', 'wanted', 'whatever', 'where', 'world',\n",
       "        'worst', 'worthless', 'years', 'yfn', 'young', 'yourself'],\n",
       "       dtype='<U80'),\n",
       " array(['10', '15426', '21', '31', '33', '98', 'ac', 'actual', 'allows',\n",
       "        'another', 'approach', 'apr', 'arrogance', 'asks', 'atheist',\n",
       "        'attempts', 'attitude', 'became', 'been', 'beholder', 'better',\n",
       "        'binding', 'brought', 'built', 'capital', 'choose', 'christians',\n",
       "        'claim', 'come', 'coming', 'community', 'confessional',\n",
       "        'cornerstone', 'cowardly', 'deleted', 'despite', 'did',\n",
       "        'difficult', 'disagree', 'discussion', 'each', 'earlier',\n",
       "        'earthquake', 'establishing', 'even', 'everything', 'evil', 'fact',\n",
       "        'faithful', 'fine', 'forth', 'full', 'god', 'hard', 'having',\n",
       "        'hear', 'him', 'his', 'houston', 'ii', 'impasse', 'indeed',\n",
       "        'information', 'internet', 'irrational', 'jeesus', 'joe',\n",
       "        'keeping', 'likewise', 'lost', 'mail', 'make', 'marriage',\n",
       "        'material', 'may', 'mdw33310', 'meaning', 'meet', 'members',\n",
       "        'mind', 'most', 'much', 'muslim', 'nature', 'non', 'note', 'now',\n",
       "        'originally', 'our', 'people', 'physically', 'pmoloney', 'real',\n",
       "        'realize', 'repent', 'responsibilities', 'rob', 'sarcastic',\n",
       "        'satan', 'say', 'searching', 'seas', 'seeing', 'seek', 'since',\n",
       "        'somebody', 'something', 'song', 'specific', 'state', 'strong',\n",
       "        'submit', 'teaching', 'than', 'them', 'then', 'therefore',\n",
       "        'things', 'thirty', 'took', 'truth', 'try', 'under', 'us', 'very',\n",
       "        'volcano', 'why', 'womb', 'yourselves'], dtype='<U80'),\n",
       " array(['12', '14', '17', '18', '1993', '37', '592682', '713', 'absure',\n",
       "        'actions', 'addition', 'affinity', 'after', 'again', 'agnostic',\n",
       "        'alive', 'also', 'alvin', 'another', 'apr', 'assumptions',\n",
       "        'basically', 'became', 'because', 'behave', 'believing', 'body',\n",
       "        'both', 'brent', 'brunel', 'buehler', 'came', 'carries', 'cgsvax',\n",
       "        'christian', 'church', 'claims', 'clarification', 'conceive',\n",
       "        'contact', 'created', 'creator', 'cs', 'day', 'dependent', 'dogma',\n",
       "        'educational', 'else', 'ever', 'excellent', 'exhibition', 'eyes',\n",
       "        'fact', 'father', 'filled', 'finally', 'folk', 'forgive', 'forth',\n",
       "        'fulfil', 'further', 'geneva', 'gods', 'group', 'half', 'helium',\n",
       "        'here', 'intelligence', 'its', 'james', 'karl', 'kingdom', 'lead',\n",
       "        'link', 'logical', 'long', 'matter', 'most', 'mother', 'nabeel',\n",
       "        'nature', 'near', 'normal', 'north', 'nt', 'opinion', 'opinions',\n",
       "        'original', 'overlap', 'particular', 'peace', 'pentacostal',\n",
       "        'people', 'perhaps', 'personal', 'portion', 'positions',\n",
       "        'practicing', 'purposes', 'puts', 'queries', 'reader', 'really',\n",
       "        'reason', 'reconciled', 'reform', 'religions', 'reply', 'revealed',\n",
       "        'right', 'rutgers', 'said', 'sarto', 'saturn', 'say', 'see',\n",
       "        'self', 'send', 'sheep', 'show', 'similarity', 'sin', 'sinner',\n",
       "        'source', 'spectacular', 'steve', 'strict', 'stuff', 'technology',\n",
       "        'tempted', 'thee', 'their', 'them', 'then', 'therefore', 'these',\n",
       "        'think', 'thomas', 'too', 'trading', 'under', 'unemployed', 'upon',\n",
       "        'version', 'very', 'were', 'yes'], dtype='<U80'),\n",
       " array(['1349', '1992', '1993', '25', 'accept', 'accepting', 'actually',\n",
       "        'ai', 'anger', 'arius', 'atoms', 'been', 'better', 'book', 'born',\n",
       "        'both', 'bullwinkle', 'chiefest', 'christian', 'claim', 'commands',\n",
       "        'comments', 'communion', 'course', 'covington', 'decide', 'deep',\n",
       "        'distinguish', 'distributed', 'does', 'drug', 'earthly', 'either',\n",
       "        'end', 'especially', 'eternity', 'even', 'evil', 'feeling', 'few',\n",
       "        'fixed', 'fools', 'friends', 'gboro', 'geneva', 'god', 'hell',\n",
       "        'here', 'history', 'hold', 'idea', 'iii', 'intended', 'issue',\n",
       "        'jesus', 'kind', 'land', 'limited', 'los', 'majority', 'man',\n",
       "        'many', 'may', 'message', 'modeled', 'most', 'national', 'nations',\n",
       "        'natural', 'needs', 'new', 'none', 'nor', 'opinions', 'outside',\n",
       "        'perfectly', 'person', 'position', 'powers', 'prayers',\n",
       "        'przybylinski', 'puzzled', 'really', 'recorded', 'regarded',\n",
       "        'rutgers', 'save', 'science', 'seems', 'seminary', 'service',\n",
       "        'sin', 'single', 'sola', 'someone', 'students', 'suggest',\n",
       "        'suggests', 'system', 'teach', 'tek', 'tend', 'tended',\n",
       "        'therefore', 'took', 'toward', 'tuesday', 'univ', 'us', 'use',\n",
       "        'want', 'well', 'where', 'why', 'won', 'wording', 'worship',\n",
       "        'wrote', 'yesterday'], dtype='<U80'),\n",
       " array(['10', '1000', '1400', '2118', '26', '400', '408', '75', 'also',\n",
       "        'altered', 'among', 'anyone', 'apostle', 'apr', 'awareness',\n",
       "        'basically', 'been', 'beliefs', 'believe', 'benefits', 'between',\n",
       "        'bit', 'broadcast', 'bryan', 'cannot', 'case', 'christianity',\n",
       "        'christians', 'clear', 'closely', 'cult', 'disagree', 'does',\n",
       "        'drugs', 'echo', 'email', 'escape', 'especially', 'etc', 'example',\n",
       "        'existence', 'expect', 'fast', 'follow', 'getting', 'god', 'group',\n",
       "        'hatred', 'hcx1', 'he', 'heard', 'hell', 'idea', 'income',\n",
       "        'instead', 'investigate', 'involved', 'its', 'jesus', 'languages',\n",
       "        'larsen', 'later', 'made', 'make', 'makes', 'manner', 'many',\n",
       "        'matt5', 'most', 'myself', 'mysteries', 'neither', 'new', 'nine',\n",
       "        'non', 'observation', 'opposite', 'opposition', 'over', 'pacific',\n",
       "        'pagans', 'perennial', 'person', 'phrasing', 'possible', 'pre',\n",
       "        'protestant', 'qumran', 'ridge', 'right', 'rutgers', 'same',\n",
       "        'satisfiable', 'scriptures', 'seen', 'seperated', 'sexual',\n",
       "        'simply', 'sinful', 'society', 'something', 'space', 'stole',\n",
       "        'stop', 'suspect', 'talk', 'their', 'those', 'time', 'trying',\n",
       "        'uk', 'uncomfortable', 'understand', 'us', 'verbal', 'very',\n",
       "        'wage', 'wanted', 'where', 'why', 'wit', 'words', 'yes'],\n",
       "       dtype='<U80')]"
      ]
     },
     "execution_count": 74,
     "metadata": {},
     "output_type": "execute_result"
    }
   ],
   "source": [
    "# Perform inverse transform to test quality of fit\n",
    "\n",
    "count_vectorizer.inverse_transform(class_sample)"
   ]
  },
  {
   "cell_type": "markdown",
   "metadata": {},
   "source": [
    "***\n",
    "<a id='sampling_and_log_probs'></a>\n",
    "## Sampling and log probs"
   ]
  },
  {
   "cell_type": "code",
   "execution_count": 75,
   "metadata": {},
   "outputs": [
    {
     "data": {
      "text/plain": [
       "<tfp.distributions.MultivariateNormalDiag 'MultivariateNormalDiag' batch_shape=[3] event_shape=[2] dtype=float32>"
      ]
     },
     "execution_count": 75,
     "metadata": {},
     "output_type": "execute_result"
    }
   ],
   "source": [
    "# Make Multivariate Distribution\n",
    "\n",
    "normal_distributions = tfd.MultivariateNormalDiag(loc=[[0.5, 1], [0.1, 0], [0, 0.2]],\n",
    "                                 scale_diag=[[2, 3], [1, 3], [4, 4]])\n",
    "normal_distributions"
   ]
  },
  {
   "cell_type": "code",
   "execution_count": 76,
   "metadata": {},
   "outputs": [
    {
     "data": {
      "text/plain": [
       "<tf.Tensor: shape=(5, 3, 2), dtype=float32, numpy=\n",
       "array([[[-0.61642456,  0.62547463],\n",
       "        [-0.49601647, -3.6508875 ],\n",
       "        [-0.7816859 , -2.2478259 ]],\n",
       "\n",
       "       [[-1.3702699 ,  1.7340066 ],\n",
       "        [-0.06345417,  8.627965  ],\n",
       "        [-3.1133454 ,  5.7416673 ]],\n",
       "\n",
       "       [[-2.086178  ,  4.1624413 ],\n",
       "        [-0.97801566,  3.7825446 ],\n",
       "        [-6.001908  ,  0.32013714]],\n",
       "\n",
       "       [[-2.5057547 ,  0.35293847],\n",
       "        [ 0.25858378,  1.4638144 ],\n",
       "        [-6.763315  , -0.52497053]],\n",
       "\n",
       "       [[ 1.380878  ,  1.041518  ],\n",
       "        [-0.12857702,  0.74647987],\n",
       "        [ 1.5379916 ,  2.0012252 ]]], dtype=float32)>"
      ]
     },
     "execution_count": 76,
     "metadata": {},
     "output_type": "execute_result"
    }
   ],
   "source": [
    "# Sample\n",
    "normal_distributions.sample(5)\n",
    "\n",
    "\n"
   ]
  },
  {
   "cell_type": "code",
   "execution_count": 77,
   "metadata": {},
   "outputs": [
    {
     "data": {
      "text/plain": [
       "<tfp.distributions.MultivariateNormalDiag 'MultivariateNormalDiag' batch_shape=[2, 2] event_shape=[3] dtype=float32>"
      ]
     },
     "execution_count": 77,
     "metadata": {},
     "output_type": "execute_result"
    }
   ],
   "source": [
    "# Multivariate Normal batched Distribution\n",
    "# We are broadcasting batch shapes of `loc` and `scal_diag` \n",
    "# against each other\n",
    "\n",
    "loc = [[[0.3, 1.5, 1.], [0.2, 0.4, 2.8]],\n",
    "        [[2., 2.3, 8], [1.4, 1, 1.3]]]\n",
    "scale_diag = [0.4, 1., 0.7]\n",
    "normal_distributions = tfd.MultivariateNormalDiag(loc=loc, scale_diag=scale_diag)\n",
    "normal_distributions"
   ]
  },
  {
   "cell_type": "code",
   "execution_count": 78,
   "metadata": {},
   "outputs": [
    {
     "data": {
      "text/plain": [
       "<tfp.distributions.Independent 'IndependentMultivariateNormalDiag' batch_shape=[2] event_shape=[2, 3] dtype=float32>"
      ]
     },
     "execution_count": 78,
     "metadata": {},
     "output_type": "execute_result"
    }
   ],
   "source": [
    "# Use independent to move part of the batch shape\n",
    "\n",
    "ind_normal_distributions = tfd.Independent(normal_distributions,\n",
    "reinterpreted_batch_ndims=1)\n",
    "ind_normal_distributions"
   ]
  },
  {
   "cell_type": "code",
   "execution_count": 79,
   "metadata": {},
   "outputs": [
    {
     "data": {
      "text/plain": [
       "TensorShape([5, 2, 2, 3])"
      ]
     },
     "execution_count": 79,
     "metadata": {},
     "output_type": "execute_result"
    }
   ],
   "source": [
    "# Draw some samples\n",
    "samples = ind_normal_distributions.sample(5)\n",
    "samples.shape"
   ]
  },
  {
   "cell_type": "code",
   "execution_count": 81,
   "metadata": {},
   "outputs": [],
   "source": [
    "# `[B, E]` shaped input\n",
    "inp = tf.random.uniform((2, 2, 3))\n",
    "ind=normal_distributions.log_prob(inp)"
   ]
  },
  {
   "cell_type": "code",
   "execution_count": 82,
   "metadata": {},
   "outputs": [
    {
     "data": {
      "text/plain": [
       "<tf.Tensor: shape=(2,), dtype=float32, numpy=array([ -8.763502, -71.20498 ], dtype=float32)>"
      ]
     },
     "execution_count": 82,
     "metadata": {},
     "output_type": "execute_result"
    }
   ],
   "source": [
    "# `[E]` shaped input (broadcasting over batch size)\n",
    "inp = tf.random.uniform((2, 3))\n",
    "ind_normal_distributions.log_prob(inp)"
   ]
  },
  {
   "cell_type": "code",
   "execution_count": 83,
   "metadata": {},
   "outputs": [
    {
     "data": {
      "text/plain": [
       "<tf.Tensor: shape=(9, 2), dtype=float32, numpy=\n",
       "array([[ -8.653174, -73.035774],\n",
       "       [-11.349136, -82.236465],\n",
       "       [-11.700007, -86.08632 ],\n",
       "       [-10.093328, -68.432274],\n",
       "       [-13.928906, -67.067215],\n",
       "       [ -9.957257, -75.16544 ],\n",
       "       [ -7.798339, -72.26232 ],\n",
       "       [ -9.571356, -66.88283 ],\n",
       "       [ -9.151235, -80.73013 ]], dtype=float32)>"
      ]
     },
     "execution_count": 83,
     "metadata": {},
     "output_type": "execute_result"
    }
   ],
   "source": [
    "#`[S, B, E]` shaped input (broadcasting over samples)\n",
    "\n",
    "inp = tf.random.uniform((9, 2, 2, 3))\n",
    "ind_normal_distributions.log_prob(inp)"
   ]
  },
  {
   "cell_type": "code",
   "execution_count": 84,
   "metadata": {},
   "outputs": [
    {
     "data": {
      "text/plain": [
       "<tf.Tensor: shape=(5, 2), dtype=float32, numpy=\n",
       "array([[ -9.119283, -67.27994 ],\n",
       "       [ -9.993859, -68.5359  ],\n",
       "       [-10.898037, -69.626945],\n",
       "       [-10.012837, -59.63462 ],\n",
       "       [ -9.347159, -72.3074  ]], dtype=float32)>"
      ]
     },
     "execution_count": 84,
     "metadata": {},
     "output_type": "execute_result"
    }
   ],
   "source": [
    "# `[S, b, e]` shaped input, where [b, e] is broadcastable over [B, E]\n",
    "inp = tf.random.uniform((5, 1, 2, 1))\n",
    "ind_normal_distributions.log_prob(inp)\n"
   ]
  },
  {
   "cell_type": "markdown",
   "metadata": {},
   "source": [
    "#### Naive Bayes example\n",
    "\n",
    "Lets now use what we have learned and continue the Naive Bayes classifier we were building last tutorial."
   ]
  },
  {
   "cell_type": "code",
   "execution_count": 85,
   "metadata": {},
   "outputs": [],
   "source": [
    "from sklearn.datasets import fetch_20newsgroups\n",
    "from sklearn.feature_extraction.text import CountVectorizer\n",
    "from sklearn.naive_bayes import BernoulliNB\n",
    "from sklearn.metrics import f1_score"
   ]
  },
  {
   "cell_type": "code",
   "execution_count": 86,
   "metadata": {},
   "outputs": [],
   "source": [
    "# Making a function get_data which:\n",
    "#   1) Fetches the 20 newsgroup dataset\n",
    "#   2) Performs a word count on the articles and binarizes the result\n",
    "#   3) Returns the data as a numpy matrix with the labels\n",
    "\n",
    "def get_data(categories):\n",
    "    \n",
    "    newsgroups_train_data = fetch_20newsgroups(data_home='20_Newsgroup_Data/',\n",
    "                                               subset='train', categories=categories)\n",
    "    newsgroups_test_data = fetch_20newsgroups(data_home='20_Newsgroup_Data/',\n",
    "                                              subset='test', categories=categories)\n",
    "\n",
    "    n_documents = len(newsgroups_train_data['data'])\n",
    "    count_vectorizer = CountVectorizer(input='content', binary=True,max_df=0.25, min_df=1.01/n_documents)\n",
    "    \n",
    "    train_binary_bag_of_words = count_vectorizer.fit_transform(newsgroups_train_data['data'])\n",
    "    test_binary_bag_of_words = count_vectorizer.transform(newsgroups_test_data['data']) \n",
    "\n",
    "    return (train_binary_bag_of_words.todense(), newsgroups_train_data['target']),  (test_binary_bag_of_words.todense(), newsgroups_test_data['target'])"
   ]
  },
  {
   "cell_type": "code",
   "execution_count": 87,
   "metadata": {},
   "outputs": [],
   "source": [
    "# Defining a function to conduct Laplace smoothing. This adds a base level of probability for a given feature\n",
    "# to occur in every class.\n",
    "\n",
    "def laplace_smoothing(labels, binary_data, n_classes):\n",
    "    # Compute the parameter estimates (adjusted fraction of documents in class that contain word)\n",
    "    n_words = binary_data.shape[1]\n",
    "    alpha = 1 # parameters for Laplace smoothing\n",
    "    theta = np.zeros([n_classes, n_words]) # stores parameter values - prob. word given class\n",
    "    for c_k in range(n_classes): # 0, 1, ..., 19\n",
    "        class_mask = (labels == c_k)\n",
    "        N = class_mask.sum() # number of articles in class\n",
    "        theta[c_k, :] = (binary_data[class_mask, :].sum(axis=0) + alpha)/(N + alpha*2)\n",
    "\n",
    "    return theta"
   ]
  },
  {
   "cell_type": "code",
   "execution_count": 88,
   "metadata": {},
   "outputs": [],
   "source": [
    "# Getting a subset of the 20 newsgroup dataset\n",
    "\n",
    "categories = ['alt.atheism', 'talk.religion.misc', 'comp.graphics', 'sci.space']\n",
    "\n",
    "(train_data, train_labels), (test_data, test_labels) = get_data(categories=categories)\n",
    "smoothed_counts = laplace_smoothing(labels=train_labels, binary_data=train_data, n_classes=len(categories))"
   ]
  },
  {
   "cell_type": "markdown",
   "metadata": {},
   "source": [
    "To now make our NB classifier we need to build three functions:\n",
    "* Compute the class priors\n",
    "* Build our class conditional distributions\n",
    "* Put it all together and classify our data"
   ]
  },
  {
   "cell_type": "code",
   "execution_count": 89,
   "metadata": {},
   "outputs": [],
   "source": [
    "# Function which computes the prior probability of every class based on frequency of occurence in \n",
    "# the dataset\n",
    "\n",
    "def class_priors(n_classes, labels):\n",
    "    counts = np.zeros(n_classes)\n",
    "    for c_k in range(n_classes):\n",
    "        counts[c_k] = np.sum(np.where(labels==c_k, 1, 0))\n",
    "    priors = counts / np.sum(counts)\n",
    "    print('The class priors are {}'.format(priors))\n",
    "    return priors"
   ]
  },
  {
   "cell_type": "code",
   "execution_count": 90,
   "metadata": {},
   "outputs": [
    {
     "name": "stdout",
     "output_type": "stream",
     "text": [
      "The class priors are [0.2359882  0.28711898 0.29154376 0.18534907]\n"
     ]
    }
   ],
   "source": [
    "# Run the function \n",
    "\n",
    "priors = class_priors(n_classes = len(categories), labels = train_labels)"
   ]
  },
  {
   "cell_type": "code",
   "execution_count": 92,
   "metadata": {},
   "outputs": [
    {
     "data": {
      "text/plain": [
       "<tfp.distributions.Independent 'IndependentBernoulli' batch_shape=[4] event_shape=[17495] dtype=int32>"
      ]
     },
     "execution_count": 92,
     "metadata": {},
     "output_type": "execute_result"
    }
   ],
   "source": [
    "# Now we will do a function that given the feature occurence counts returns a Bernoulli distribution of \n",
    "# batch_shape=number of classes and event_shape=number of features.\n",
    "\n",
    "def make_distribution(probs):\n",
    "    batch_of_bernoullis = tfd.Bernoulli(probs=probs)\n",
    "    dist = tfd.Independent(batch_of_bernoullis,reinterpreted_batch_ndims=1)\n",
    "    return dist\n",
    "tf_dist = make_distribution(smoothed_counts)\n",
    "tf_dist"
   ]
  },
  {
   "cell_type": "code",
   "execution_count": 99,
   "metadata": {},
   "outputs": [],
   "source": [
    "# The final function predict_sample which given the distribution, a test sample, and the class priors:\n",
    "#   1) Computes the class conditional probabilities given the sample\n",
    "#   2) Forms the joint likelihood\n",
    "#   3) Normalises the joint likelihood and returns the log prob\n",
    "\n",
    "def predict_sample(dist, sample, priors):\n",
    "    cond_probs = dist.log_prob(sample)\n",
    "    joint_likelihood = tf.add(np.log(priors), cond_probs)\n",
    "    norm_factor = tf.math.reduce_logsumexp(joint_likelihood, axis=-1, keepdims=True)\n",
    "    log_prob = joint_likelihood - norm_factor\n",
    "    return log_prob"
   ]
  },
  {
   "cell_type": "markdown",
   "metadata": {},
   "source": [
    "#### Computing log_probs"
   ]
  },
  {
   "cell_type": "code",
   "execution_count": 100,
   "metadata": {},
   "outputs": [
    {
     "data": {
      "text/plain": [
       "<tf.Tensor: shape=(4,), dtype=float32, numpy=\n",
       "array([-6.1736160e+01, -1.5258789e-05, -1.1619934e+01, -6.3327240e+01],\n",
       "      dtype=float32)>"
      ]
     },
     "execution_count": 100,
     "metadata": {},
     "output_type": "execute_result"
    }
   ],
   "source": [
    "# Predicting one example from our test data\n",
    "\n",
    "log_probs = predict_sample(tf_dist, test_data[0], priors)\n",
    "log_probs"
   ]
  },
  {
   "cell_type": "code",
   "execution_count": 101,
   "metadata": {},
   "outputs": [
    {
     "name": "stdout",
     "output_type": "stream",
     "text": [
      "f1  0.7848499112849504\n"
     ]
    }
   ],
   "source": [
    "# Loop over our test data and classify.\n",
    "\n",
    "probabilities = []\n",
    "for sample, label in zip(test_data, test_labels):\n",
    "    probabilities.append(tf.exp(predict_sample(tf_dist, sample, priors)))\n",
    "\n",
    "probabilities = np.asarray(probabilities)\n",
    "predicted_classes = np.argmax(probabilities, axis =-1)\n",
    "print('f1 ', f1_score(test_labels, predicted_classes, average='macro'))"
   ]
  },
  {
   "cell_type": "code",
   "execution_count": 102,
   "metadata": {},
   "outputs": [
    {
     "name": "stdout",
     "output_type": "stream",
     "text": [
      "f1 from sklean  0.7848499112849504\n"
     ]
    }
   ],
   "source": [
    "# Make a Bernoulli Naive Bayes classifier using sklearn with the same level of alpha smoothing. \n",
    "\n",
    "clf = BernoulliNB(alpha=1)\n",
    "clf.fit(train_data, train_labels)\n",
    "pred = clf.predict(test_data)\n",
    "print('f1 from sklean ', f1_score(test_labels, pred, average='macro'))"
   ]
  },
  {
   "cell_type": "markdown",
   "metadata": {},
   "source": [
    "***\n",
    "<a id='trainable_distributions'></a>\n",
    "## Trainable Distributions"
   ]
  },
  {
   "cell_type": "code",
   "execution_count": 103,
   "metadata": {},
   "outputs": [],
   "source": [
    "from sklearn.datasets import fetch_20newsgroups\n",
    "from sklearn.feature_extraction.text import CountVectorizer\n",
    "from sklearn.naive_bayes import BernoulliNB\n",
    "from sklearn.metrics import f1_score"
   ]
  },
  {
   "cell_type": "code",
   "execution_count": 104,
   "metadata": {},
   "outputs": [
    {
     "data": {
      "image/png": "[encoded data removed]",
      "text/plain": [
       "<Figure size 432x288 with 1 Axes>"
      ]
     },
     "metadata": {
      "needs_background": "light"
     },
     "output_type": "display_data"
    }
   ],
   "source": [
    "# Define an exponential distribution\n",
    "\n",
    "plt.hist(exponential.sample(5000), bins=100, density=True)\n",
    "plt.show( )"
   ]
  },
  {
   "cell_type": "code",
   "execution_count": 105,
   "metadata": {},
   "outputs": [
    {
     "data": {
      "image/png": "[encoded data removed]",
      "text/plain": [
       "<Figure size 432x288 with 1 Axes>"
      ]
     },
     "metadata": {
      "needs_background": "light"
     },
     "output_type": "display_data"
    }
   ],
   "source": [
    "# Plot\n",
    "\n",
    "plt.hist(exponential.sample(5000), bins=100, density=True)\n",
    "plt.show()"
   ]
  },
  {
   "cell_type": "code",
   "execution_count": 107,
   "metadata": {},
   "outputs": [
    {
     "data": {
      "text/plain": [
       "(<tf.Variable 'rate:0' shape=() dtype=float32, numpy=1.0>,)"
      ]
     },
     "execution_count": 107,
     "metadata": {},
     "output_type": "execute_result"
    }
   ],
   "source": [
    "# Define an exponential distribution with a trainable rate parameter\n",
    "\n",
    "exp_train = tfd.Exponential(rate=tf.Variable(1. , name='rate'), name='exp _train')\n",
    "exp_train.trainable_variables"
   ]
  },
  {
   "cell_type": "code",
   "execution_count": 108,
   "metadata": {},
   "outputs": [],
   "source": [
    "# Define the negative log likelihood\n",
    "def nll(x_train, distribution):\n",
    "    return -tf.reduce_mean(distribution.log_prob(x_train))\n"
   ]
  },
  {
   "cell_type": "code",
   "execution_count": 109,
   "metadata": {},
   "outputs": [],
   "source": [
    "# Define a function to compute the loss and gradients\n",
    "@tf.function\n",
    "def get_loss_and_grads(x_train, distribution):\n",
    "    with tf.GradientTape() as tape:\n",
    "        tape.watch(distribution.trainable_variables)\n",
    "        loss = nll(x_train, distribution)\n",
    "        grads = tape.gradient(loss, distribution.trainable_variables)\n",
    "    return loss, grads\n"
   ]
  },
  {
   "cell_type": "code",
   "execution_count": 117,
   "metadata": {},
   "outputs": [],
   "source": [
    "# Optimize\n",
    "\n",
    "def exponential_dist_optimisation(data, distribution) :\n",
    "    # Keep results for plotting\n",
    "    train_loss_results = []\n",
    "    train_rate_results = []\n",
    "    optimizer = tf.keras.optimizers.SGD(learning_rate=0.05)\n",
    "    num_steps = 10\n",
    "    for i in range(num_steps):\n",
    "        loss, grads = get_loss_and_grads(data, distribution)\n",
    "        optimizer.apply_gradients(zip(grads, distribution.trainable_variables))\n",
    "        rate_value = distribution.rate.value()\n",
    "        train_loss_results.append(loss)\n",
    "        train_rate_results.append(rate_value)\n",
    "        print(\"Step {:03d}: Loss: {:.3f}: Rate: {:.3f}\".format(i, loss, rate_value))\n",
    "    return train_loss_results, train_rate_results"
   ]
  },
  {
   "cell_type": "code",
   "execution_count": 118,
   "metadata": {},
   "outputs": [
    {
     "name": "stdout",
     "output_type": "stream",
     "text": [
      "Step 000: Loss: 1.025: Rate: 0.999\n",
      "Step 001: Loss: 1.025: Rate: 0.998\n",
      "Step 002: Loss: 1.025: Rate: 0.996\n",
      "Step 003: Loss: 1.025: Rate: 0.995\n",
      "Step 004: Loss: 1.025: Rate: 0.994\n",
      "Step 005: Loss: 1.025: Rate: 0.993\n",
      "Step 006: Loss: 1.025: Rate: 0.992\n",
      "Step 007: Loss: 1.025: Rate: 0.992\n",
      "Step 008: Loss: 1.025: Rate: 0.991\n",
      "Step 009: Loss: 1.025: Rate: 0.990\n"
     ]
    }
   ],
   "source": [
    "# Get some data and train\n",
    "sampled_data = exponential.sample(5000)\n",
    "train_loss_results, train_rate_results = exponential_dist_optimisation(data=sampled_data, distribution= exp_train)\n"
   ]
  },
  {
   "cell_type": "code",
   "execution_count": 119,
   "metadata": {},
   "outputs": [
    {
     "name": "stdout",
     "output_type": "stream",
     "text": [
      "Exact rate:  1.0\n",
      "Pred rate:   0.9898925\n"
     ]
    }
   ],
   "source": [
    "# Predicted value for the rate parameter\n",
    "\n",
    "pred_value = exp_train.rate.numpy()\n",
    "exact_value = exponential.rate.numpy()\n",
    "\n",
    "print(\"Exact rate: \", exact_value)\n",
    "print(\"Pred rate:  \", pred_value)"
   ]
  },
  {
   "cell_type": "code",
   "execution_count": 120,
   "metadata": {},
   "outputs": [
    {
     "data": {
      "image/png": "[encoded data removed]",
      "text/plain": [
       "<Figure size 864x576 with 2 Axes>"
      ]
     },
     "metadata": {
      "needs_background": "light"
     },
     "output_type": "display_data"
    }
   ],
   "source": [
    "# Plot to see the convergence of the estimated and true parameters\n",
    "\n",
    "tensor_exact_value = tf.constant(exact_value, shape=[len(train_rate_results)])\n",
    "\n",
    "fig, axes = plt.subplots(2, sharex=True, figsize=(12, 8))\n",
    "fig.suptitle('Convergence')\n",
    "\n",
    "axes[0].set_ylabel(\"Loss\", fontsize=14)\n",
    "axes[0].plot(train_loss_results)\n",
    "\n",
    "axes[1].set_ylabel(\"Rate\", fontsize=14)\n",
    "axes[1].set_xlabel(\"Epoch\", fontsize=14)\n",
    "axes[1].plot(train_rate_results, label='trainable rate variable')\n",
    "axes[1].plot(tensor_exact_value, label='exact rate')\n",
    "axes[1].legend()\n",
    "plt.show()"
   ]
  },
  {
   "cell_type": "code",
   "execution_count": 121,
   "metadata": {},
   "outputs": [],
   "source": [
    "# Making a function get_data which:\n",
    "#   1) Fetches the 20 newsgroup dataset\n",
    "#   2) Performs a word count on the articles and binarizes the result\n",
    "#   3) Returns the data as a numpy matrix with the labels\n",
    "\n",
    "def get_data(categories):\n",
    "\n",
    "    newsgroups_train_data = fetch_20newsgroups(data_home='20_Newsgroup_Data/',\n",
    "                                               subset='train', categories=categories)\n",
    "    newsgroups_test_data = fetch_20newsgroups(data_home='20_Newsgroup_Data/',\n",
    "                                              subset='test', categories=categories)\n",
    "\n",
    "    n_documents = len(newsgroups_train_data['data'])\n",
    "    count_vectorizer = CountVectorizer(input='content', binary=True,max_df=0.25, min_df=1.01/n_documents) \n",
    "    train_binary_bag_of_words = count_vectorizer.fit_transform(newsgroups_train_data['data']) \n",
    "    test_binary_bag_of_words = count_vectorizer.transform(newsgroups_test_data['data']) \n",
    "\n",
    "    return (train_binary_bag_of_words.todense(), newsgroups_train_data['target']),  (test_binary_bag_of_words.todense(), newsgroups_test_data['target'])\n"
   ]
  },
  {
   "cell_type": "code",
   "execution_count": 122,
   "metadata": {},
   "outputs": [],
   "source": [
    "# Defining a function to conduct laplace smoothing. This adds a base level of probability for a given feature\n",
    "# to occur in every class.\n",
    "\n",
    "def laplace_smoothing(labels, binary_data, n_classes):\n",
    "    # Compute the parameter estimates (adjusted fraction of documents in class that contain word)\n",
    "    n_words = binary_data.shape[1]\n",
    "    alpha = 1 # parameters for Laplace smoothing\n",
    "    theta = np.zeros([n_classes, n_words]) # stores parameter values - prob. word given class\n",
    "    for c_k in range(n_classes): # 0, 1, ..., 19\n",
    "        class_mask = (labels == c_k)\n",
    "        N = class_mask.sum() # number of articles in class\n",
    "        theta[c_k, :] = (binary_data[class_mask, :].sum(axis=0) + alpha)/(N + alpha*2)\n",
    "\n",
    "    return theta"
   ]
  },
  {
   "cell_type": "code",
   "execution_count": 123,
   "metadata": {},
   "outputs": [],
   "source": [
    "# Now we will do a function that given the feature occurence counts returns a Bernoulli distribution of \n",
    "# batch_shape=number of classes and event_shape=number of features.\n",
    "\n",
    "def make_distributions(probs):\n",
    "    batch_of_bernoullis = tfd.Bernoulli(probs=probs) # shape (n_classes, n_words)\n",
    "    dist = tfd.Independent(batch_of_bernoullis, reinterpreted_batch_ndims=1)\n",
    "    return dist"
   ]
  },
  {
   "cell_type": "code",
   "execution_count": 124,
   "metadata": {},
   "outputs": [],
   "source": [
    "# Function which computes the prior probability of every class based on frequency of occurence in \n",
    "# the dataset\n",
    "\n",
    "def class_priors(n_classes, labels):\n",
    "    counts = np.zeros(n_classes)\n",
    "    for c_k in range(n_classes):\n",
    "        counts[c_k] = np.sum(np.where(labels==c_k, 1, 0))\n",
    "    priors = counts / np.sum(counts)\n",
    "    print('The class priors are {}'.format(priors))\n",
    "    return priors"
   ]
  },
  {
   "cell_type": "code",
   "execution_count": 125,
   "metadata": {},
   "outputs": [],
   "source": [
    "# The final function predict_sample which given the distribution, a test sample, and the class priors:\n",
    "#   1) Computes the class conditional probabilities given the sample\n",
    "#   2) Forms the joint likelihood\n",
    "#   3) Normalises the joint likelihood and returns the log prob\n",
    "\n",
    "def predict_sample(dist, sample, priors):\n",
    "    cond_probs = dist.log_prob(sample)\n",
    "    joint_likelihood = tf.add(np.log(priors), cond_probs)\n",
    "    norm_factor = tf.math.reduce_logsumexp(joint_likelihood, axis=-1, keepdims=True)\n",
    "    log_prob = joint_likelihood - norm_factor\n",
    "\n",
    "    return log_prob"
   ]
  },
  {
   "cell_type": "code",
   "execution_count": 128,
   "metadata": {},
   "outputs": [],
   "source": [
    "# Now we learn the distribution using gradient tape\n",
    "\n",
    "def make_distribution_withGT(data, labels, nb_classes):\n",
    "\n",
    "    class_data = []\n",
    "    train_vars = []\n",
    "    distributions = []\n",
    "    for c in range(nb_classes):\n",
    "        train_vars.append(tf.Variable(initial_value=np.random.uniform(low=0.01, high =0.1, size=data.shape[-1])))\n",
    "        distributions.append(tfd.Bernoulli(probs=train_vars[c]))\n",
    "        class_mask = (labels == c)\n",
    "        class_data.append(data[class_mask, :])\n",
    "\n",
    "    for c_num in range(0,nb_classes):\n",
    "        optimizer = tf.keras.optimizers.Adam()\n",
    "        print('\\n%-------------------%')\n",
    "        print('Class ', c_num)\n",
    "        print('%-------------------%')\n",
    "\n",
    "        for i in range(0,100):\n",
    "            loss,grads = get_loss_and_grads(class_data[c_num], distributions[c_num])\n",
    "            if(i%10==0):\n",
    "                print(\"iter: {} loss: {}\".format(i, loss))\n",
    "            optimizer.apply_gradients(zip(grads, distributions[c_num].trainable_variables))\n",
    "            eta = 1e-3\n",
    "            clipped_probs =tf.clip_by_value(distributions[c_num].trainable_variables, clip_value_min=eta, clip_value_max=1)\n",
    "            train_vars[c_num] = tf.squeeze(clipped_probs)           \n",
    "            \n",
    "\n",
    "    dist = tfd.Bernoulli(probs=train_vars)\n",
    "    dist = tfd.Independent(dist,reinterpreted_batch_ndims=1)\n",
    "\n",
    "    print(dist)\n",
    "\n",
    "    return dist\n"
   ]
  },
  {
   "cell_type": "code",
   "execution_count": 129,
   "metadata": {},
   "outputs": [
    {
     "name": "stdout",
     "output_type": "stream",
     "text": [
      "The class priors are [0.2359882  0.28711898 0.29154376 0.18534907]\n"
     ]
    }
   ],
   "source": [
    "# Make the same Naive Bayes classifier we did last tutorial\n",
    "\n",
    "categories = ['alt.atheism', 'talk.religion.misc', 'comp.graphics', 'sci.space']\n",
    "\n",
    "(train_data, train_labels), (test_data, test_labels) = get_data(categories)\n",
    "\n",
    "smoothed_counts = laplace_smoothing(labels=train_labels, binary_data=train_data, n_classes=len(categories))\n",
    "\n",
    "priors = class_priors(n_classes=len(categories), labels=train_labels)\n",
    "tf_dist = make_distributions(smoothed_counts)"
   ]
  },
  {
   "cell_type": "code",
   "execution_count": 130,
   "metadata": {},
   "outputs": [
    {
     "name": "stdout",
     "output_type": "stream",
     "text": [
      "\n",
      "%-------------------%\n",
      "Class  0\n",
      "%-------------------%\n",
      "iter: 0 loss: 0.07814113873557063\n",
      "iter: 10 loss: 0.06880729255892204\n",
      "iter: 20 loss: 0.06011144192097876\n",
      "iter: 30 loss: 0.05207234144809148\n",
      "iter: 40 loss: 0.04463899854739213\n",
      "iter: 50 loss: 0.03776914381418109\n",
      "iter: 60 loss: 0.031414101142138225\n",
      "iter: 70 loss: 0.02552874339161372\n",
      "iter: 80 loss: 0.020081005904013374\n",
      "iter: 90 loss: 0.015014257701010678\n",
      "\n",
      "%-------------------%\n",
      "Class  1\n",
      "%-------------------%\n",
      "iter: 0 loss: 0.07151656935594629\n",
      "iter: 10 loss: 0.06220152365877477\n",
      "iter: 20 loss: 0.05342417185279553\n",
      "iter: 30 loss: 0.04525026463187277\n",
      "iter: 40 loss: 0.03766682997127259\n",
      "iter: 50 loss: 0.030651334010231603\n",
      "iter: 60 loss: 0.024171596599322703\n",
      "iter: 70 loss: 0.018192095388564766\n",
      "iter: 80 loss: 0.012667824593661291\n",
      "iter: 90 loss: 0.007563560902155069\n",
      "\n",
      "%-------------------%\n",
      "Class  2\n",
      "%-------------------%\n",
      "iter: 0 loss: 0.07856042977510075\n",
      "iter: 10 loss: 0.06945897511465844\n",
      "iter: 20 loss: 0.061064991729103284\n",
      "iter: 30 loss: 0.053429555606716375\n",
      "iter: 40 loss: 0.0464912588915706\n",
      "iter: 50 loss: 0.04020272721634011\n",
      "iter: 60 loss: 0.03452536013208491\n",
      "iter: 70 loss: 0.02941455313472342\n",
      "iter: 80 loss: 0.02481927907744282\n",
      "iter: 90 loss: 0.02067433223121814\n",
      "\n",
      "%-------------------%\n",
      "Class  3\n",
      "%-------------------%\n",
      "iter: 0 loss: 0.0797550340839522\n",
      "iter: 10 loss: 0.07048195464173282\n",
      "iter: 20 loss: 0.0618470367475651\n",
      "iter: 50 loss: 0.0395769507683268\n",
      "iter: 60 loss: 0.03322318198685089\n",
      "iter: 70 loss: 0.027337640883990804\n",
      "iter: 80 loss: 0.021869318938504544\n",
      "iter: 90 loss: 0.016761387376079278\n",
      "tfp.distributions.Independent(\"IndependentBernoulli\", batch_shape=[4], event_shape=[17495], dtype=int32)\n"
     ]
    }
   ],
   "source": [
    "# Now train the distributions with gradient tape\n",
    "\n",
    "GT_dist = make_distribution_withGT(data=train_data, labels=train_labels, nb_classes=4)"
   ]
  },
  {
   "cell_type": "code",
   "execution_count": 131,
   "metadata": {},
   "outputs": [
    {
     "name": "stdout",
     "output_type": "stream",
     "text": [
      "f1  0.8291333770333541\n",
      "f1  0.7848499112849504\n"
     ]
    }
   ],
   "source": [
    "# Compare the two results\n",
    "\n",
    "for dist in [GT_dist,tf_dist]:\n",
    "    probabilities = []\n",
    "    for sample, label in zip(test_data, test_labels):\n",
    "        probabilities.append(predict_sample(dist, sample, priors))\n",
    "\n",
    "    probabilities = np.asarray(probabilities)\n",
    "    predicted_classes = np.argmax(probabilities, axis =-1)\n",
    "    print('f1 ', f1_score(test_labels, predicted_classes, average='macro'))"
   ]
  }
 ],
 "metadata": {
  "kernelspec": {
   "display_name": "Python 3",
   "language": "python",
   "name": "python3"
  },
  "language_info": {
   "codemirror_mode": {
    "name": "ipython",
    "version": 3
   },
   "file_extension": ".py",
   "mimetype": "text/x-python",
   "name": "python",
   "nbconvert_exporter": "python",
   "pygments_lexer": "ipython3",
   "version": "3.7.1"
  }
 },
 "nbformat": 4,
 "nbformat_minor": 4
}
