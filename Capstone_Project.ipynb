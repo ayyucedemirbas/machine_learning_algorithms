{
  "nbformat": 4,
  "nbformat_minor": 0,
  "metadata": {
    "kernelspec": {
      "display_name": "feedforward",
      "language": "python",
      "name": "feedforward"
    },
    "language_info": {
      "codemirror_mode": {
        "name": "ipython",
        "version": 3
      },
      "file_extension": ".py",
      "mimetype": "text/x-python",
      "name": "python",
      "nbconvert_exporter": "python",
      "pygments_lexer": "ipython3",
      "version": "3.6.9"
    },
    "colab": {
      "name": "Capstone Project.ipynb",
      "provenance": [],
      "collapsed_sections": [],
      "include_colab_link": true
    },
    "accelerator": "TPU"
  },
  "cells": [
    {
      "cell_type": "markdown",
      "metadata": {
        "id": "view-in-github",
        "colab_type": "text"
      },
      "source": [
        "<a href=\"https://colab.research.google.com/github/ayyucedemirbas/machine_learning_algorithms/blob/master/Capstone_Project.ipynb\" target=\"_parent\"><img src=\"https://colab.research.google.com/assets/colab-badge.svg\" alt=\"Open In Colab\"/></a>"
      ]
    },
    {
      "cell_type": "markdown",
      "metadata": {
        "id": "rffwkDWTz_Fo"
      },
      "source": [
        "# Capstone Project\n",
        "## Image classifier for the SVHN dataset\n",
        "### Instructions\n",
        "\n",
        "In this notebook, you will create a neural network that classifies real-world images digits. You will use concepts from throughout this course in building, training, testing, validating and saving your Tensorflow classifier model.\n",
        "\n",
        "This project is peer-assessed. Within this notebook you will find instructions in each section for how to complete the project. Pay close attention to the instructions as the peer review will be carried out according to a grading rubric that checks key parts of the project instructions. Feel free to add extra cells into the notebook as required.\n",
        "\n",
        "### How to submit\n",
        "\n",
        "When you have completed the Capstone project notebook, you will submit a pdf of the notebook for peer review. First ensure that the notebook has been fully executed from beginning to end, and all of the cell outputs are visible. This is important, as the grading rubric depends on the reviewer being able to view the outputs of your notebook. Save the notebook as a pdf (you could download the notebook with File -> Download .ipynb, open the notebook locally, and then File -> Download as -> PDF via LaTeX), and then submit this pdf for review.\n",
        "\n",
        "### Let's get started!\n",
        "\n",
        "We'll start by running some imports, and loading the dataset. For this project you are free to make further imports throughout the notebook as you wish. "
      ]
    },
    {
      "cell_type": "code",
      "metadata": {
        "id": "O3vI8jSIz_Fs"
      },
      "source": [
        "import tensorflow as tf\n",
        "from scipy.io import loadmat"
      ],
      "execution_count": 3,
      "outputs": []
    },
    {
      "cell_type": "markdown",
      "metadata": {
        "id": "8OrHY7TRz_Fx"
      },
      "source": [
        "For the capstone project, you will use the [SVHN dataset](http://ufldl.stanford.edu/housenumbers/). This is an image dataset of over 600,000 digit images in all, and is a harder dataset than MNIST as the numbers appear in the context of natural scene images. SVHN is obtained from house numbers in Google Street View images.\n",
        "\n",
        "* Y. Netzer, T. Wang, A. Coates, A. Bissacco, B. Wu and A. Y. Ng. \"Reading Digits in Natural Images with Unsupervised Feature Learning\". NIPS Workshop on Deep Learning and Unsupervised Feature Learning, 2011.\n",
        "\n",
        "The train and test datasets required for this project can be downloaded from [here](http://ufldl.stanford.edu/housenumbers/train.tar.gz) and [here](http://ufldl.stanford.edu/housenumbers/test.tar.gz). Once unzipped, you will have two files: `train_32x32.mat` and `test_32x32.mat`. You should store these files in Drive for use in this Colab notebook.\n",
        "\n",
        "Your goal is to develop an end-to-end workflow for building, training, validating, evaluating and saving a neural network that classifies a real-world image into one of ten classes."
      ]
    },
    {
      "cell_type": "code",
      "metadata": {
        "id": "r8BHW8P_2wxw",
        "outputId": "71f6de24-c04a-4110-9cc4-27d50dabf054",
        "colab": {
          "base_uri": "https://localhost:8080/",
          "height": 34
        }
      },
      "source": [
        "# Run this cell to connect to your Drive folder\n",
        "\n",
        "from google.colab import drive\n",
        "drive.mount('/content/gdrive')"
      ],
      "execution_count": 4,
      "outputs": [
        {
          "output_type": "stream",
          "text": [
            "Mounted at /content/gdrive\n"
          ],
          "name": "stdout"
        }
      ]
    },
    {
      "cell_type": "code",
      "metadata": {
        "id": "YWdiz3n_z_Fy"
      },
      "source": [
        "# Load the dataset from your Drive folder\n",
        "\n",
        "train = loadmat('/content/gdrive/My Drive/SVHN/train_32x32.mat')\n",
        "test = loadmat('/content/gdrive/My Drive/SVHN/test_32x32.mat')"
      ],
      "execution_count": 6,
      "outputs": []
    },
    {
      "cell_type": "markdown",
      "metadata": {
        "id": "Sot1IcuZz_F2"
      },
      "source": [
        "Both `train` and `test` are dictionaries with keys `X` and `y` for the input images and labels respectively."
      ]
    },
    {
      "cell_type": "markdown",
      "metadata": {
        "id": "_Q1n_Ai2z_F3"
      },
      "source": [
        "## 1. Inspect and preprocess the dataset\n",
        "* Extract the training and testing images and labels separately from the train and test dictionaries loaded for you.\n",
        "* Select a random sample of images and corresponding labels from the dataset (at least 10), and display them in a figure.\n",
        "* Convert the training and test images to grayscale by taking the average across all colour channels for each pixel. _Hint: retain the channel dimension, which will now have size 1._\n",
        "* Select a random sample of the grayscale images and corresponding labels from the dataset (at least 10), and display them in a figure."
      ]
    },
    {
      "cell_type": "code",
      "metadata": {
        "id": "-WIH5hyXz_F4"
      },
      "source": [
        "import numpy as np\n",
        "\n",
        "train_images = np.array(train['X'])\n",
        "test_images = np.array(test['X'])\n",
        "\n",
        "train_labels = np.array(train['y'])\n",
        "test_labels = np.array(test['y'])"
      ],
      "execution_count": 7,
      "outputs": []
    },
    {
      "cell_type": "code",
      "metadata": {
        "id": "zmGJK3xgz_F8"
      },
      "source": [
        "train_images = np.moveaxis(train_images, -1, 0)\n",
        "test_images = np.moveaxis(test_images, -1, 0)"
      ],
      "execution_count": 8,
      "outputs": []
    },
    {
      "cell_type": "code",
      "metadata": {
        "id": "6SR4gYffz_F_"
      },
      "source": [
        "from tensorflow.keras.preprocessing.image import load_img\n",
        "from tensorflow.keras.preprocessing import image\n",
        "import matplotlib.pyplot as plt\n",
        "\n",
        "import pandas as pd\n",
        "def plot_images(img, labels, nrows, ncols):\n",
        "    \"\"\" Plot nrows x ncols images\n",
        "    \"\"\"\n",
        "    _, axes = plt.subplots(nrows, ncols)\n",
        "    for i, ax in enumerate(axes.flat): \n",
        "        if img[i].shape == (32, 32, 3):\n",
        "            ax.imshow(img[i])\n",
        "        else:\n",
        "            ax.imshow(img[i,:,:,0])\n",
        "        \n",
        "        print(labels[i])\n",
        "        ax.axis('off')"
      ],
      "execution_count": 9,
      "outputs": []
    },
    {
      "cell_type": "code",
      "metadata": {
        "id": "UXYwWhHpz_GD",
        "outputId": "fec3912f-51e1-4b14-de1e-9d32407774b6",
        "colab": {
          "base_uri": "https://localhost:8080/",
          "height": 229
        }
      },
      "source": [
        "plot_images(train_images, train_labels, 1, 10)"
      ],
      "execution_count": 10,
      "outputs": [
        {
          "output_type": "stream",
          "text": [
            "[1]\n",
            "[9]\n",
            "[2]\n",
            "[3]\n",
            "[2]\n",
            "[5]\n",
            "[9]\n",
            "[3]\n",
            "[3]\n",
            "[1]\n"
          ],
          "name": "stdout"
        },
        {
          "output_type": "display_data",
          "data": {
            "image/png": "[encoded data removed]",
            "text/plain": [
              "<Figure size 432x288 with 10 Axes>"
            ]
          },
          "metadata": {
            "tags": [],
            "needs_background": "light"
          }
        }
      ]
    },
    {
      "cell_type": "code",
      "metadata": {
        "id": "auFZ63dtz_GH"
      },
      "source": [
        "train_images = train_images.astype('float64')\n",
        "test_images = test_images.astype('float64')\n",
        "\n",
        "train_labels = train_labels.astype('int64')\n",
        "test_labels = test_labels.astype('int64')"
      ],
      "execution_count": 11,
      "outputs": []
    },
    {
      "cell_type": "code",
      "metadata": {
        "id": "CGHZvq4zz_GK",
        "outputId": "c40fb9eb-6646-4fb6-8e10-d5007837d19d",
        "colab": {
          "base_uri": "https://localhost:8080/",
          "height": 229
        }
      },
      "source": [
        "def convert(images):\n",
        "    return np.expand_dims(np.dot(images, [0.2990, 0.5870, 0.1140]), axis=3)\n",
        "\n",
        "train_images = convert(train_images).astype(np.float32)\n",
        "test_images = convert(test_images).astype(np.float32)\n",
        "plot_images(train_images, train_labels, 1, 10)\n"
      ],
      "execution_count": 12,
      "outputs": [
        {
          "output_type": "stream",
          "text": [
            "[1]\n",
            "[9]\n",
            "[2]\n",
            "[3]\n",
            "[2]\n",
            "[5]\n",
            "[9]\n",
            "[3]\n",
            "[3]\n",
            "[1]\n"
          ],
          "name": "stdout"
        },
        {
          "output_type": "display_data",
          "data": {
            "image/png": "[encoded data removed]",
            "text/plain": [
              "<Figure size 432x288 with 10 Axes>"
            ]
          },
          "metadata": {
            "tags": [],
            "needs_background": "light"
          }
        }
      ]
    },
    {
      "cell_type": "code",
      "metadata": {
        "id": "A5yM2ZQISoPO",
        "outputId": "aa7b5222-5084-44a3-bd5b-3aa772e83e9c",
        "colab": {
          "base_uri": "https://localhost:8080/",
          "height": 34
        }
      },
      "source": [
        "train_images[5398].shape\n"
      ],
      "execution_count": 10,
      "outputs": [
        {
          "output_type": "execute_result",
          "data": {
            "text/plain": [
              "(32, 32, 1)"
            ]
          },
          "metadata": {
            "tags": []
          },
          "execution_count": 10
        }
      ]
    },
    {
      "cell_type": "markdown",
      "metadata": {
        "id": "7e7iSyWXz_GN"
      },
      "source": [
        "## 2. MLP neural network classifier\n",
        "* Build an MLP classifier model using the Sequential API. Your model should use only Flatten and Dense layers, with the final layer having a 10-way softmax output. \n",
        "* You should design and build the model yourself. Feel free to experiment with different MLP architectures. _Hint: to achieve a reasonable accuracy you won't need to use more than 4 or 5 layers._\n",
        "* Print out the model summary (using the summary() method)\n",
        "* Compile and train the model (we recommend a maximum of 30 epochs), making use of both training and validation sets during the training run. \n",
        "* Your model should track at least one appropriate metric, and use at least two callbacks during training, one of which should be a ModelCheckpoint callback.\n",
        "* As a guide, you should aim to achieve a final categorical cross entropy training loss of less than 1.0 (the validation loss might be higher).\n",
        "* Plot the learning curves for loss vs epoch and accuracy vs epoch for both training and validation sets.\n",
        "* Compute and display the loss and accuracy of the trained model on the test set."
      ]
    },
    {
      "cell_type": "code",
      "metadata": {
        "id": "l14VCBFVz_GO"
      },
      "source": [
        "from tensorflow.keras.models import Sequential\n",
        "from tensorflow.keras.layers import Dense, Flatten\n",
        "model = Sequential([\n",
        "                    \n",
        "        Flatten(input_shape=(32, 32, 1)),\n",
        "        Dense(256, activation=\"relu\"),\n",
        "        \n",
        "        Dense(256, activation=\"relu\"), \n",
        "        Dense(64, activation=\"relu\"),\n",
        "        Dense(64, activation=\"relu\"),\n",
        "        \n",
        "        Dense(11, activation= \"softmax\") #this layer should have 11 units instead of 10. Because labels of the dataset contains 10 number.\n",
        "        #11 units mean [0,11), so that value range includes 10.\n",
        "        \n",
        "    ])"
      ],
      "execution_count": 45,
      "outputs": []
    },
    {
      "cell_type": "code",
      "metadata": {
        "id": "beEZO1kvz_GR",
        "outputId": "a7b79719-bee1-4e1a-ef0d-3040c5caa566",
        "colab": {
          "base_uri": "https://localhost:8080/",
          "height": 357
        }
      },
      "source": [
        "model.summary()"
      ],
      "execution_count": 46,
      "outputs": [
        {
          "output_type": "stream",
          "text": [
            "Model: \"sequential_4\"\n",
            "_________________________________________________________________\n",
            "Layer (type)                 Output Shape              Param #   \n",
            "=================================================================\n",
            "flatten_5 (Flatten)          (None, 1024)              0         \n",
            "_________________________________________________________________\n",
            "dense_11 (Dense)             (None, 256)               262400    \n",
            "_________________________________________________________________\n",
            "dense_12 (Dense)             (None, 256)               65792     \n",
            "_________________________________________________________________\n",
            "dense_13 (Dense)             (None, 64)                16448     \n",
            "_________________________________________________________________\n",
            "dense_14 (Dense)             (None, 64)                4160      \n",
            "_________________________________________________________________\n",
            "dense_15 (Dense)             (None, 11)                715       \n",
            "=================================================================\n",
            "Total params: 349,515\n",
            "Trainable params: 349,515\n",
            "Non-trainable params: 0\n",
            "_________________________________________________________________\n"
          ],
          "name": "stdout"
        }
      ]
    },
    {
      "cell_type": "code",
      "metadata": {
        "id": "YxJXq3xYz_GU"
      },
      "source": [
        "adam = tf.keras.optimizers.Adam()\n",
        "model.compile(optimizer=adam, loss = 'sparse_categorical_crossentropy', metrics= ['acc'] )"
      ],
      "execution_count": 47,
      "outputs": []
    },
    {
      "cell_type": "code",
      "metadata": {
        "id": "pPPbzGhVz_GW"
      },
      "source": [
        "from tensorflow.keras.callbacks import ModelCheckpoint\n",
        "checkpoint_path= 'model_checkpoints/checkpoint'\n",
        "checkpoint= ModelCheckpoint(filepath=checkpoint_path,\n",
        "                           frequency='epoch',\n",
        "                           save_weights_only=True,\n",
        "                           verbose=1)"
      ],
      "execution_count": 48,
      "outputs": []
    },
    {
      "cell_type": "code",
      "metadata": {
        "id": "8JPoQQUDS5-f"
      },
      "source": [
        "def get_callbacks():\n",
        "    early_stopping= tf.keras.callbacks.EarlyStopping(mode=\"min\", patience=10)\n",
        "    #learning_rate_reduction =tf.keras.callbacks.ReduceLROnPlateau(factor=0.2, patience=20)\n",
        "    \n",
        "    return early_stopping\n",
        "    #, learning_rate_reduction"
      ],
      "execution_count": 49,
      "outputs": []
    },
    {
      "cell_type": "code",
      "metadata": {
        "id": "Ti_JJYzCS6ie"
      },
      "source": [
        "early_stopping = get_callbacks()"
      ],
      "execution_count": 50,
      "outputs": []
    },
    {
      "cell_type": "code",
      "metadata": {
        "id": "7b5_8VsCz_GZ",
        "outputId": "5a2c3ac4-e331-49bc-c27d-1796f63340ea",
        "colab": {
          "base_uri": "https://localhost:8080/",
          "height": 2057
        }
      },
      "source": [
        "history = model.fit(train_images, train_labels, epochs=30, validation_split=0.1, callbacks=[early_stopping, checkpoint])\n"
      ],
      "execution_count": 51,
      "outputs": [
        {
          "output_type": "stream",
          "text": [
            "Epoch 1/30\n",
            "2054/2061 [============================>.] - ETA: 0s - loss: 2.8441 - acc: 0.3364\n",
            "Epoch 00001: saving model to model_checkpoints/checkpoint\n",
            "2061/2061 [==============================] - 9s 4ms/step - loss: 2.8397 - acc: 0.3370 - val_loss: 1.3982 - val_acc: 0.5495\n",
            "Epoch 2/30\n",
            "2051/2061 [============================>.] - ETA: 0s - loss: 1.3994 - acc: 0.5503\n",
            "Epoch 00002: saving model to model_checkpoints/checkpoint\n",
            "2061/2061 [==============================] - 9s 4ms/step - loss: 1.3985 - acc: 0.5507 - val_loss: 1.2157 - val_acc: 0.6204\n",
            "Epoch 3/30\n",
            "2061/2061 [==============================] - ETA: 0s - loss: 1.2467 - acc: 0.6109\n",
            "Epoch 00003: saving model to model_checkpoints/checkpoint\n",
            "2061/2061 [==============================] - 9s 4ms/step - loss: 1.2467 - acc: 0.6109 - val_loss: 1.1936 - val_acc: 0.6222\n",
            "Epoch 4/30\n",
            "2060/2061 [============================>.] - ETA: 0s - loss: 1.1524 - acc: 0.6425\n",
            "Epoch 00004: saving model to model_checkpoints/checkpoint\n",
            "2061/2061 [==============================] - 9s 4ms/step - loss: 1.1524 - acc: 0.6425 - val_loss: 1.0913 - val_acc: 0.6631\n",
            "Epoch 5/30\n",
            "2054/2061 [============================>.] - ETA: 0s - loss: 1.0945 - acc: 0.6617\n",
            "Epoch 00005: saving model to model_checkpoints/checkpoint\n",
            "2061/2061 [==============================] - 9s 4ms/step - loss: 1.0947 - acc: 0.6617 - val_loss: 0.9859 - val_acc: 0.6990\n",
            "Epoch 6/30\n",
            "2054/2061 [============================>.] - ETA: 0s - loss: 1.0487 - acc: 0.6763\n",
            "Epoch 00006: saving model to model_checkpoints/checkpoint\n",
            "2061/2061 [==============================] - 10s 5ms/step - loss: 1.0481 - acc: 0.6764 - val_loss: 1.0603 - val_acc: 0.6649\n",
            "Epoch 7/30\n",
            "2056/2061 [============================>.] - ETA: 0s - loss: 1.0092 - acc: 0.6898\n",
            "Epoch 00007: saving model to model_checkpoints/checkpoint\n",
            "2061/2061 [==============================] - 12s 6ms/step - loss: 1.0091 - acc: 0.6899 - val_loss: 0.9739 - val_acc: 0.6970\n",
            "Epoch 8/30\n",
            "2051/2061 [============================>.] - ETA: 0s - loss: 0.9724 - acc: 0.6994\n",
            "Epoch 00008: saving model to model_checkpoints/checkpoint\n",
            "2061/2061 [==============================] - 11s 5ms/step - loss: 0.9727 - acc: 0.6993 - val_loss: 1.0103 - val_acc: 0.6792\n",
            "Epoch 9/30\n",
            "2060/2061 [============================>.] - ETA: 0s - loss: 0.9507 - acc: 0.7086\n",
            "Epoch 00009: saving model to model_checkpoints/checkpoint\n",
            "2061/2061 [==============================] - 11s 5ms/step - loss: 0.9507 - acc: 0.7086 - val_loss: 0.9949 - val_acc: 0.6986\n",
            "Epoch 10/30\n",
            "2053/2061 [============================>.] - ETA: 0s - loss: 0.9214 - acc: 0.7169\n",
            "Epoch 00010: saving model to model_checkpoints/checkpoint\n",
            "2061/2061 [==============================] - 12s 6ms/step - loss: 0.9219 - acc: 0.7167 - val_loss: 0.8770 - val_acc: 0.7348\n",
            "Epoch 11/30\n",
            "2055/2061 [============================>.] - ETA: 0s - loss: 0.9011 - acc: 0.7236\n",
            "Epoch 00011: saving model to model_checkpoints/checkpoint\n",
            "2061/2061 [==============================] - 12s 6ms/step - loss: 0.9006 - acc: 0.7237 - val_loss: 0.8832 - val_acc: 0.7318\n",
            "Epoch 12/30\n",
            "2059/2061 [============================>.] - ETA: 0s - loss: 0.8880 - acc: 0.7277\n",
            "Epoch 00012: saving model to model_checkpoints/checkpoint\n",
            "2061/2061 [==============================] - 11s 5ms/step - loss: 0.8880 - acc: 0.7277 - val_loss: 0.8707 - val_acc: 0.7348\n",
            "Epoch 13/30\n",
            "2053/2061 [============================>.] - ETA: 0s - loss: 0.8817 - acc: 0.7284\n",
            "Epoch 00013: saving model to model_checkpoints/checkpoint\n",
            "2061/2061 [==============================] - 11s 6ms/step - loss: 0.8815 - acc: 0.7284 - val_loss: 0.8772 - val_acc: 0.7336\n",
            "Epoch 14/30\n",
            "2053/2061 [============================>.] - ETA: 0s - loss: 0.8605 - acc: 0.7381\n",
            "Epoch 00014: saving model to model_checkpoints/checkpoint\n",
            "2061/2061 [==============================] - 9s 4ms/step - loss: 0.8607 - acc: 0.7379 - val_loss: 0.8872 - val_acc: 0.7344\n",
            "Epoch 15/30\n",
            "2051/2061 [============================>.] - ETA: 0s - loss: 0.8560 - acc: 0.7373\n",
            "Epoch 00015: saving model to model_checkpoints/checkpoint\n",
            "2061/2061 [==============================] - 10s 5ms/step - loss: 0.8554 - acc: 0.7375 - val_loss: 0.9266 - val_acc: 0.7177\n",
            "Epoch 16/30\n",
            "2050/2061 [============================>.] - ETA: 0s - loss: 0.8449 - acc: 0.7408\n",
            "Epoch 00016: saving model to model_checkpoints/checkpoint\n",
            "2061/2061 [==============================] - 9s 4ms/step - loss: 0.8448 - acc: 0.7408 - val_loss: 0.8063 - val_acc: 0.7561\n",
            "Epoch 17/30\n",
            "2051/2061 [============================>.] - ETA: 0s - loss: 0.8286 - acc: 0.7465\n",
            "Epoch 00017: saving model to model_checkpoints/checkpoint\n",
            "2061/2061 [==============================] - 9s 4ms/step - loss: 0.8285 - acc: 0.7465 - val_loss: 0.8240 - val_acc: 0.7518\n",
            "Epoch 18/30\n",
            "2059/2061 [============================>.] - ETA: 0s - loss: 0.8288 - acc: 0.7446\n",
            "Epoch 00018: saving model to model_checkpoints/checkpoint\n",
            "2061/2061 [==============================] - 11s 5ms/step - loss: 0.8290 - acc: 0.7445 - val_loss: 0.8409 - val_acc: 0.7453\n",
            "Epoch 19/30\n",
            "2061/2061 [==============================] - ETA: 0s - loss: 0.8212 - acc: 0.7500\n",
            "Epoch 00019: saving model to model_checkpoints/checkpoint\n",
            "2061/2061 [==============================] - 12s 6ms/step - loss: 0.8212 - acc: 0.7500 - val_loss: 0.8086 - val_acc: 0.7614\n",
            "Epoch 20/30\n",
            "2052/2061 [============================>.] - ETA: 0s - loss: 0.8029 - acc: 0.7533\n",
            "Epoch 00020: saving model to model_checkpoints/checkpoint\n",
            "2061/2061 [==============================] - 11s 6ms/step - loss: 0.8031 - acc: 0.7533 - val_loss: 0.8713 - val_acc: 0.7330\n",
            "Epoch 21/30\n",
            "2055/2061 [============================>.] - ETA: 0s - loss: 0.8154 - acc: 0.7519\n",
            "Epoch 00021: saving model to model_checkpoints/checkpoint\n",
            "2061/2061 [==============================] - 9s 4ms/step - loss: 0.8153 - acc: 0.7519 - val_loss: 0.8316 - val_acc: 0.7517\n",
            "Epoch 22/30\n",
            "2054/2061 [============================>.] - ETA: 0s - loss: 0.7972 - acc: 0.7571\n",
            "Epoch 00022: saving model to model_checkpoints/checkpoint\n",
            "2061/2061 [==============================] - 11s 5ms/step - loss: 0.7977 - acc: 0.7570 - val_loss: 0.9055 - val_acc: 0.7228\n",
            "Epoch 23/30\n",
            "2058/2061 [============================>.] - ETA: 0s - loss: 0.8006 - acc: 0.7549\n",
            "Epoch 00023: saving model to model_checkpoints/checkpoint\n",
            "2061/2061 [==============================] - 12s 6ms/step - loss: 0.8006 - acc: 0.7548 - val_loss: 0.8544 - val_acc: 0.7406\n",
            "Epoch 24/30\n",
            "2056/2061 [============================>.] - ETA: 0s - loss: 0.7918 - acc: 0.7591\n",
            "Epoch 00024: saving model to model_checkpoints/checkpoint\n",
            "2061/2061 [==============================] - 12s 6ms/step - loss: 0.7915 - acc: 0.7592 - val_loss: 0.8279 - val_acc: 0.7508\n",
            "Epoch 25/30\n",
            "2051/2061 [============================>.] - ETA: 0s - loss: 0.7947 - acc: 0.7570\n",
            "Epoch 00025: saving model to model_checkpoints/checkpoint\n",
            "2061/2061 [==============================] - 11s 5ms/step - loss: 0.7945 - acc: 0.7570 - val_loss: 0.7878 - val_acc: 0.7640\n",
            "Epoch 26/30\n",
            "2058/2061 [============================>.] - ETA: 0s - loss: 0.7935 - acc: 0.7581\n",
            "Epoch 00026: saving model to model_checkpoints/checkpoint\n",
            "2061/2061 [==============================] - 9s 4ms/step - loss: 0.7935 - acc: 0.7582 - val_loss: 0.8116 - val_acc: 0.7535\n",
            "Epoch 27/30\n",
            "2059/2061 [============================>.] - ETA: 0s - loss: 0.7874 - acc: 0.7612\n",
            "Epoch 00027: saving model to model_checkpoints/checkpoint\n",
            "2061/2061 [==============================] - 9s 4ms/step - loss: 0.7876 - acc: 0.7611 - val_loss: 0.9312 - val_acc: 0.7198\n",
            "Epoch 28/30\n",
            "2053/2061 [============================>.] - ETA: 0s - loss: 0.7721 - acc: 0.7660\n",
            "Epoch 00028: saving model to model_checkpoints/checkpoint\n",
            "2061/2061 [==============================] - 9s 4ms/step - loss: 0.7719 - acc: 0.7661 - val_loss: 0.8577 - val_acc: 0.7416\n",
            "Epoch 29/30\n",
            "2051/2061 [============================>.] - ETA: 0s - loss: 0.7796 - acc: 0.7636\n",
            "Epoch 00029: saving model to model_checkpoints/checkpoint\n",
            "2061/2061 [==============================] - 9s 4ms/step - loss: 0.7795 - acc: 0.7636 - val_loss: 0.8499 - val_acc: 0.7408\n",
            "Epoch 30/30\n",
            "2057/2061 [============================>.] - ETA: 0s - loss: 0.8021 - acc: 0.7579\n",
            "Epoch 00030: saving model to model_checkpoints/checkpoint\n",
            "2061/2061 [==============================] - 9s 4ms/step - loss: 0.8021 - acc: 0.7579 - val_loss: 0.8506 - val_acc: 0.7502\n"
          ],
          "name": "stdout"
        }
      ]
    },
    {
      "cell_type": "code",
      "metadata": {
        "id": "b0kH6VYqz_Gc",
        "outputId": "cb851aa9-71fd-4cac-87cc-e5c83fc7344f",
        "colab": {
          "base_uri": "https://localhost:8080/",
          "height": 295
        }
      },
      "source": [
        "\n",
        "import matplotlib.pyplot as plt\n",
        "try:\n",
        "    plt.plot(history.history['accuracy'])\n",
        "    plt.plot(history.history['val_accuracy'])\n",
        "except KeyError:\n",
        "    plt.plot(history.history['acc'])\n",
        "    plt.plot(history.history['val_acc'])\n",
        "plt.title('Accuracy vs. epochs')\n",
        "plt.ylabel('Loss')\n",
        "plt.xlabel('Epoch')\n",
        "plt.legend(['Training', 'Validation'], loc='lower right')\n",
        "plt.show()"
      ],
      "execution_count": 55,
      "outputs": [
        {
          "output_type": "display_data",
          "data": {
            "image/png": "[encoded data removed]",
            "text/plain": [
              "<Figure size 432x288 with 1 Axes>"
            ]
          },
          "metadata": {
            "tags": [],
            "needs_background": "light"
          }
        }
      ]
    },
    {
      "cell_type": "code",
      "metadata": {
        "id": "RU7xZISwrO98",
        "outputId": "3ec6b28d-1ba8-444c-9822-c6d5a1636696",
        "colab": {
          "base_uri": "https://localhost:8080/",
          "height": 295
        }
      },
      "source": [
        "plt.plot(history.history['loss'])\n",
        "plt.plot(history.history['val_loss'])\n",
        "plt.title('Loss vs. epochs')\n",
        "plt.ylabel('Loss')\n",
        "plt.xlabel('Epoch')\n",
        "plt.legend(['Training', 'Validation'], loc='upper right')\n",
        "plt.show()\n"
      ],
      "execution_count": 56,
      "outputs": [
        {
          "output_type": "display_data",
          "data": {
            "image/png": "[encoded data removed]",
            "text/plain": [
              "<Figure size 432x288 with 1 Axes>"
            ]
          },
          "metadata": {
            "tags": [],
            "needs_background": "light"
          }
        }
      ]
    },
    {
      "cell_type": "markdown",
      "metadata": {
        "id": "ncPtDtCLz_Gg"
      },
      "source": [
        "## 3. CNN neural network classifier\n",
        "* Build a CNN classifier model using the Sequential API. Your model should use the Conv2D, MaxPool2D, BatchNormalization, Flatten, Dense and Dropout layers. The final layer should again have a 10-way softmax output. \n",
        "* You should design and build the model yourself. Feel free to experiment with different CNN architectures. _Hint: to achieve a reasonable accuracy you won't need to use more than 2 or 3 convolutional layers and 2 fully connected layers.)_\n",
        "* The CNN model should use fewer trainable parameters than your MLP model.\n",
        "* Compile and train the model (we recommend a maximum of 30 epochs), making use of both training and validation sets during the training run.\n",
        "* Your model should track at least one appropriate metric, and use at least two callbacks during training, one of which should be a ModelCheckpoint callback.\n",
        "* You should aim to beat the MLP model performance with fewer parameters!\n",
        "* Plot the learning curves for loss vs epoch and accuracy vs epoch for both training and validation sets.\n",
        "* Compute and display the loss and accuracy of the trained model on the test set."
      ]
    },
    {
      "cell_type": "code",
      "metadata": {
        "id": "yk2mH3Npz_Gh"
      },
      "source": [
        "from tensorflow.keras.models import Sequential\n",
        "from tensorflow.keras.layers import Dense, Flatten, Conv2D, BatchNormalization, Dropout, MaxPooling2D\n",
        "model_cnn = Sequential([\n",
        "        \n",
        "        Conv2D(32, (5,5), activation='relu', padding=\"same\", input_shape=(32,32,1)),\n",
        "        BatchNormalization(),\n",
        "        Conv2D(64, (5,5), activation='relu', padding=\"same\"),\n",
        "        \n",
        "        Dropout(0.2),\n",
        "        MaxPool2D((2,2), strides=2),\n",
        "        \n",
        "        Dense(32, activation='relu'),\n",
        "        Flatten(),\n",
        "        Dense(11, activation='softmax')\n",
        "\n",
        "])"
      ],
      "execution_count": 29,
      "outputs": []
    },
    {
      "cell_type": "code",
      "metadata": {
        "id": "lbgRgZ5cz_Gn",
        "outputId": "7e34f604-a0a8-433f-ea48-19034a7325bf",
        "colab": {
          "base_uri": "https://localhost:8080/",
          "height": 425
        }
      },
      "source": [
        "model_cnn.summary()"
      ],
      "execution_count": 30,
      "outputs": [
        {
          "output_type": "stream",
          "text": [
            "Model: \"sequential_2\"\n",
            "_________________________________________________________________\n",
            "Layer (type)                 Output Shape              Param #   \n",
            "=================================================================\n",
            "conv2d_6 (Conv2D)            (None, 32, 32, 32)        832       \n",
            "_________________________________________________________________\n",
            "batch_normalization_3 (Batch (None, 32, 32, 32)        128       \n",
            "_________________________________________________________________\n",
            "conv2d_7 (Conv2D)            (None, 32, 32, 64)        51264     \n",
            "_________________________________________________________________\n",
            "dropout_3 (Dropout)          (None, 32, 32, 64)        0         \n",
            "_________________________________________________________________\n",
            "max_pooling2d_2 (MaxPooling2 (None, 16, 16, 64)        0         \n",
            "_________________________________________________________________\n",
            "dense_4 (Dense)              (None, 16, 16, 32)        2080      \n",
            "_________________________________________________________________\n",
            "flatten_3 (Flatten)          (None, 8192)              0         \n",
            "_________________________________________________________________\n",
            "dense_5 (Dense)              (None, 11)                90123     \n",
            "=================================================================\n",
            "Total params: 144,427\n",
            "Trainable params: 144,363\n",
            "Non-trainable params: 64\n",
            "_________________________________________________________________\n"
          ],
          "name": "stdout"
        }
      ]
    },
    {
      "cell_type": "code",
      "metadata": {
        "id": "nkmS2vV2z_Gs"
      },
      "source": [
        "adam = tf.keras.optimizers.Adam()\n",
        "model_cnn.compile(optimizer=adam, loss = 'sparse_categorical_crossentropy', metrics= ['acc'] )"
      ],
      "execution_count": 31,
      "outputs": []
    },
    {
      "cell_type": "code",
      "metadata": {
        "id": "bVubj3EFvXfd"
      },
      "source": [
        "from tensorflow.keras.callbacks import ModelCheckpoint\n",
        "checkpoint_path= 'model_cnn_checkpoints/checkpoint'\n",
        "checkpoint= ModelCheckpoint(filepath=checkpoint_path,\n",
        "                           frequency='epoch',\n",
        "                           save_weights_only=True,\n",
        "                           verbose=1)"
      ],
      "execution_count": 18,
      "outputs": []
    },
    {
      "cell_type": "code",
      "metadata": {
        "id": "lzMuvM3bwLOu"
      },
      "source": [
        "def get_callbacks():\n",
        "    early_stopping= tf.keras.callbacks.EarlyStopping(mode=\"min\", patience=5)\n",
        "    #learning_rate_reduction =tf.keras.callbacks.ReduceLROnPlateau(factor=0.2, patience=20)\n",
        "    \n",
        "    return early_stopping\n",
        "    #, learning_rate_reduction"
      ],
      "execution_count": 23,
      "outputs": []
    },
    {
      "cell_type": "code",
      "metadata": {
        "id": "d8ebEBPywUGf"
      },
      "source": [
        "early_stopping = get_callbacks()"
      ],
      "execution_count": 24,
      "outputs": []
    },
    {
      "cell_type": "code",
      "metadata": {
        "id": "VytQECDVz_Gv",
        "outputId": "0c00dea6-5cff-440a-ab1f-848c6f22b8c6",
        "colab": {
          "base_uri": "https://localhost:8080/",
          "height": 629
        }
      },
      "source": [
        "history = model_cnn.fit(train_images, train_labels, epochs=10, validation_split=0.1, callbacks=[checkpoint, early_stopping], verbose=1)"
      ],
      "execution_count": 32,
      "outputs": [
        {
          "output_type": "stream",
          "text": [
            "Epoch 1/10\n",
            "2061/2061 [==============================] - ETA: 0s - loss: 0.6068 - acc: 0.8190\n",
            "Epoch 00001: saving model to model_cnn_checkpoints/checkpoint\n",
            "2061/2061 [==============================] - 664s 322ms/step - loss: 0.6068 - acc: 0.8190 - val_loss: 0.5050 - val_acc: 0.8609\n",
            "Epoch 2/10\n",
            "2061/2061 [==============================] - ETA: 0s - loss: 0.4099 - acc: 0.8804\n",
            "Epoch 00002: saving model to model_cnn_checkpoints/checkpoint\n",
            "2061/2061 [==============================] - 660s 320ms/step - loss: 0.4099 - acc: 0.8804 - val_loss: 0.4243 - val_acc: 0.8737\n",
            "Epoch 3/10\n",
            "2061/2061 [==============================] - ETA: 0s - loss: 0.3567 - acc: 0.8966\n",
            "Epoch 00003: saving model to model_cnn_checkpoints/checkpoint\n",
            "2061/2061 [==============================] - 664s 322ms/step - loss: 0.3567 - acc: 0.8966 - val_loss: 0.4272 - val_acc: 0.8736\n",
            "Epoch 4/10\n",
            "2061/2061 [==============================] - ETA: 0s - loss: 0.3175 - acc: 0.9060\n",
            "Epoch 00004: saving model to model_cnn_checkpoints/checkpoint\n",
            "2061/2061 [==============================] - 671s 326ms/step - loss: 0.3175 - acc: 0.9060 - val_loss: 0.3960 - val_acc: 0.8863\n",
            "Epoch 5/10\n",
            "2061/2061 [==============================] - ETA: 0s - loss: 0.2900 - acc: 0.9148\n",
            "Epoch 00005: saving model to model_cnn_checkpoints/checkpoint\n",
            "2061/2061 [==============================] - 668s 324ms/step - loss: 0.2900 - acc: 0.9148 - val_loss: 0.4181 - val_acc: 0.8795\n",
            "Epoch 6/10\n",
            "2061/2061 [==============================] - ETA: 0s - loss: 0.2642 - acc: 0.9202\n",
            "Epoch 00006: saving model to model_cnn_checkpoints/checkpoint\n",
            "2061/2061 [==============================] - 666s 323ms/step - loss: 0.2642 - acc: 0.9202 - val_loss: 0.4154 - val_acc: 0.8778\n",
            "Epoch 7/10\n",
            "2061/2061 [==============================] - ETA: 0s - loss: 0.2462 - acc: 0.9253\n",
            "Epoch 00007: saving model to model_cnn_checkpoints/checkpoint\n",
            "2061/2061 [==============================] - 667s 323ms/step - loss: 0.2462 - acc: 0.9253 - val_loss: 0.4139 - val_acc: 0.8825\n",
            "Epoch 8/10\n",
            "2061/2061 [==============================] - ETA: 0s - loss: 0.2261 - acc: 0.9314\n",
            "Epoch 00008: saving model to model_cnn_checkpoints/checkpoint\n",
            "2061/2061 [==============================] - 663s 322ms/step - loss: 0.2261 - acc: 0.9314 - val_loss: 0.4769 - val_acc: 0.8574\n",
            "Epoch 9/10\n",
            "2061/2061 [==============================] - ETA: 0s - loss: 0.2083 - acc: 0.9359\n",
            "Epoch 00009: saving model to model_cnn_checkpoints/checkpoint\n",
            "2061/2061 [==============================] - 657s 319ms/step - loss: 0.2083 - acc: 0.9359 - val_loss: 0.4399 - val_acc: 0.8735\n"
          ],
          "name": "stdout"
        }
      ]
    },
    {
      "cell_type": "code",
      "metadata": {
        "id": "60mJypwQz_Gx",
        "outputId": "d7c46a25-519c-402c-c6c1-1bfe1d30aad2",
        "colab": {
          "base_uri": "https://localhost:8080/",
          "height": 295
        }
      },
      "source": [
        "import matplotlib.pyplot as plt\n",
        "try:\n",
        "    plt.plot(history.history['accuracy'])\n",
        "    plt.plot(history.history['val_accuracy'])\n",
        "except KeyError:\n",
        "    plt.plot(history.history['acc'])\n",
        "    plt.plot(history.history['val_acc'])\n",
        "plt.title('Accuracy vs. epochs')\n",
        "plt.ylabel('Loss')\n",
        "plt.xlabel('Epoch')\n",
        "plt.legend(['Training', 'Validation'], loc='lower right')\n",
        "plt.show()"
      ],
      "execution_count": 33,
      "outputs": [
        {
          "output_type": "display_data",
          "data": {
            "image/png": "[encoded data removed]",
            "text/plain": [
              "<Figure size 432x288 with 1 Axes>"
            ]
          },
          "metadata": {
            "tags": [],
            "needs_background": "light"
          }
        }
      ]
    },
    {
      "cell_type": "code",
      "metadata": {
        "id": "w2v80qosz_G0",
        "outputId": "cdbe8f49-cfe6-4224-d8c2-ff7b6811a638",
        "colab": {
          "base_uri": "https://localhost:8080/",
          "height": 295
        }
      },
      "source": [
        "plt.plot(history.history['loss'])\n",
        "plt.plot(history.history['val_loss'])\n",
        "plt.title('Loss vs. epochs')\n",
        "plt.ylabel('Loss')\n",
        "plt.xlabel('Epoch')\n",
        "plt.legend(['Training', 'Validation'], loc='upper right')\n",
        "plt.show()"
      ],
      "execution_count": 34,
      "outputs": [
        {
          "output_type": "display_data",
          "data": {
            "image/png": "[encoded data removed]",
            "text/plain": [
              "<Figure size 432x288 with 1 Axes>"
            ]
          },
          "metadata": {
            "tags": [],
            "needs_background": "light"
          }
        }
      ]
    },
    {
      "cell_type": "code",
      "metadata": {
        "id": "_WWeCkLSK3tA",
        "outputId": "52fa442b-047b-4ac6-e051-c2fc44a7ab3b",
        "colab": {
          "base_uri": "https://localhost:8080/",
          "height": 51
        }
      },
      "source": [
        "test_loss, test_acc = model_cnn.evaluate(test_images, test_labels, verbose=0)\n",
        "print(\"Test loss: {:.3f}\\nTest accuracy: {:.2f}%\".format(test_loss, 100 * test_acc))"
      ],
      "execution_count": 37,
      "outputs": [
        {
          "output_type": "stream",
          "text": [
            "Test loss: 0.539\n",
            "Test accuracy: 84.97%\n"
          ],
          "name": "stdout"
        }
      ]
    },
    {
      "cell_type": "markdown",
      "metadata": {
        "id": "3iBYFPWUz_G4"
      },
      "source": [
        "## 4. Get model predictions\n",
        "* Load the best weights for the MLP and CNN models that you saved during the training run.\n",
        "* Randomly select 5 images and corresponding labels from the test set and display the images with their labels.\n",
        "* Alongside the image and label, show each model’s predictive distribution as a bar chart, and the final model prediction given by the label with maximum probability."
      ]
    },
    {
      "cell_type": "code",
      "metadata": {
        "id": "XMYYWs0oz_G5",
        "outputId": "b81ec003-bafc-4cbf-b0f7-c467e065c710",
        "colab": {
          "base_uri": "https://localhost:8080/",
          "height": 153
        }
      },
      "source": [
        "!ls -al"
      ],
      "execution_count": 52,
      "outputs": [
        {
          "output_type": "stream",
          "text": [
            "total 28\n",
            "drwxr-xr-x 1 root root 4096 Oct 21 12:42 .\n",
            "drwxr-xr-x 1 root root 4096 Oct 21 10:04 ..\n",
            "drwxr-xr-x 1 root root 4096 Oct 14 16:32 .config\n",
            "drwx------ 5 root root 4096 Oct 21 10:19 gdrive\n",
            "drwxr-xr-x 2 root root 4096 Oct 21 12:52 model_checkpoints\n",
            "drwxr-xr-x 2 root root 4096 Oct 21 12:29 model_cnn_checkpoints\n",
            "drwxr-xr-x 1 root root 4096 Oct 14 16:31 sample_data\n"
          ],
          "name": "stdout"
        }
      ]
    },
    {
      "cell_type": "code",
      "metadata": {
        "id": "8yUPWbFCz_G8",
        "outputId": "c3919881-da88-4f85-fb51-1a73a556096a",
        "colab": {
          "base_uri": "https://localhost:8080/",
          "height": 119
        }
      },
      "source": [
        "! ls -al model_checkpoints"
      ],
      "execution_count": 53,
      "outputs": [
        {
          "output_type": "stream",
          "text": [
            "total 4120\n",
            "drwxr-xr-x 2 root root    4096 Oct 21 12:52 .\n",
            "drwxr-xr-x 1 root root    4096 Oct 21 12:42 ..\n",
            "-rw-r--r-- 1 root root      77 Oct 21 12:52 checkpoint\n",
            "-rw-r--r-- 1 root root 4198633 Oct 21 12:52 checkpoint.data-00000-of-00001\n",
            "-rw-r--r-- 1 root root    2429 Oct 21 12:52 checkpoint.index\n"
          ],
          "name": "stdout"
        }
      ]
    },
    {
      "cell_type": "code",
      "metadata": {
        "id": "W48syko0z_G-",
        "outputId": "79c905b7-5503-4923-d1d7-d34c71dc9a11",
        "colab": {
          "base_uri": "https://localhost:8080/",
          "height": 119
        }
      },
      "source": [
        "! ls -al model_cnn_checkpoints"
      ],
      "execution_count": 54,
      "outputs": [
        {
          "output_type": "stream",
          "text": [
            "total 1716\n",
            "drwxr-xr-x 2 root root    4096 Oct 21 12:29 .\n",
            "drwxr-xr-x 1 root root    4096 Oct 21 12:42 ..\n",
            "-rw-r--r-- 1 root root      77 Oct 21 12:29 checkpoint\n",
            "-rw-r--r-- 1 root root 1737452 Oct 21 12:29 checkpoint.data-00000-of-00001\n",
            "-rw-r--r-- 1 root root    2529 Oct 21 12:29 checkpoint.index\n"
          ],
          "name": "stdout"
        }
      ]
    },
    {
      "cell_type": "code",
      "metadata": {
        "id": "J_qfLvK-z_HA"
      },
      "source": [
        "def get_test_accuracy(model, x_test, y_test):\n",
        "    test_loss, test_acc = model.evaluate(x=x_test, y=y_test, verbose=0)\n",
        "    print('accuracy: {acc:0.3f}'.format(acc=test_acc))\n",
        "    return test_acc"
      ],
      "execution_count": 96,
      "outputs": []
    },
    {
      "cell_type": "code",
      "metadata": {
        "id": "2Lx68VA7z_HE"
      },
      "source": [
        "#same as above\n",
        "def get_new_model():\n",
        "  new_model = Sequential([\n",
        "                    \n",
        "        Flatten(input_shape=(32, 32, 1)),\n",
        "        Dense(256, activation=\"relu\"),\n",
        "        \n",
        "        Dense(256, activation=\"relu\"), \n",
        "        Dense(64, activation=\"relu\"),\n",
        "        Dense(64, activation=\"relu\"),\n",
        "        \n",
        "        Dense(11, activation= \"softmax\") \n",
        "        \n",
        "    ])\n",
        "  new_model.compile(optimizer='adam',\n",
        "                  loss='sparse_categorical_crossentropy',\n",
        "                  metrics=['acc'])\n",
        "  return new_model\n"
      ],
      "execution_count": 69,
      "outputs": []
    },
    {
      "cell_type": "code",
      "metadata": {
        "id": "NxKa37PWz_HL"
      },
      "source": [
        "def get_new_cnn_model():\n",
        "  new_model_cnn = Sequential([\n",
        "        \n",
        "        Conv2D(32, (5,5), activation='relu', padding=\"same\", input_shape=(32,32,1)),\n",
        "        BatchNormalization(),\n",
        "        Conv2D(64, (5,5), activation='relu', padding=\"same\"),\n",
        "        \n",
        "        Dropout(0.2),\n",
        "        MaxPool2D((2,2), strides=2),\n",
        "        \n",
        "        Dense(32, activation='relu'),\n",
        "        Flatten(),\n",
        "        Dense(11, activation='softmax')])\n",
        "  new_model_cnn.compile(optimizer='adam',\n",
        "                  loss='sparse_categorical_crossentropy',\n",
        "                  metrics=['acc'])\n",
        "  return new_model_cnn\n",
        "\n",
        "  "
      ],
      "execution_count": 76,
      "outputs": []
    },
    {
      "cell_type": "code",
      "metadata": {
        "id": "oXi_3pdLPMIM",
        "outputId": "6cf67dcf-ffd9-4a4e-9bb5-5242a01e3ec5",
        "colab": {
          "base_uri": "https://localhost:8080/",
          "height": 357
        }
      },
      "source": [
        "new_model=get_new_model()\n",
        "new_model.summary()"
      ],
      "execution_count": 71,
      "outputs": [
        {
          "output_type": "stream",
          "text": [
            "Model: \"sequential_8\"\n",
            "_________________________________________________________________\n",
            "Layer (type)                 Output Shape              Param #   \n",
            "=================================================================\n",
            "flatten_9 (Flatten)          (None, 1024)              0         \n",
            "_________________________________________________________________\n",
            "dense_28 (Dense)             (None, 256)               262400    \n",
            "_________________________________________________________________\n",
            "dense_29 (Dense)             (None, 256)               65792     \n",
            "_________________________________________________________________\n",
            "dense_30 (Dense)             (None, 64)                16448     \n",
            "_________________________________________________________________\n",
            "dense_31 (Dense)             (None, 64)                4160      \n",
            "_________________________________________________________________\n",
            "dense_32 (Dense)             (None, 11)                715       \n",
            "=================================================================\n",
            "Total params: 349,515\n",
            "Trainable params: 349,515\n",
            "Non-trainable params: 0\n",
            "_________________________________________________________________\n"
          ],
          "name": "stdout"
        }
      ]
    },
    {
      "cell_type": "code",
      "metadata": {
        "id": "vFgQvcNIPcc-",
        "outputId": "9f370404-713a-445d-875c-be52589a43bf",
        "colab": {
          "base_uri": "https://localhost:8080/",
          "height": 425
        }
      },
      "source": [
        "new_model_cnn= get_new_cnn_model()\n",
        "new_model_cnn.summary()"
      ],
      "execution_count": 77,
      "outputs": [
        {
          "output_type": "stream",
          "text": [
            "Model: \"sequential_11\"\n",
            "_________________________________________________________________\n",
            "Layer (type)                 Output Shape              Param #   \n",
            "=================================================================\n",
            "conv2d_14 (Conv2D)           (None, 32, 32, 32)        832       \n",
            "_________________________________________________________________\n",
            "batch_normalization_7 (Batch (None, 32, 32, 32)        128       \n",
            "_________________________________________________________________\n",
            "conv2d_15 (Conv2D)           (None, 32, 32, 64)        51264     \n",
            "_________________________________________________________________\n",
            "dropout_7 (Dropout)          (None, 32, 32, 64)        0         \n",
            "_________________________________________________________________\n",
            "max_pooling2d_6 (MaxPooling2 (None, 16, 16, 64)        0         \n",
            "_________________________________________________________________\n",
            "dense_37 (Dense)             (None, 16, 16, 32)        2080      \n",
            "_________________________________________________________________\n",
            "flatten_12 (Flatten)         (None, 8192)              0         \n",
            "_________________________________________________________________\n",
            "dense_38 (Dense)             (None, 11)                90123     \n",
            "=================================================================\n",
            "Total params: 144,427\n",
            "Trainable params: 144,363\n",
            "Non-trainable params: 64\n",
            "_________________________________________________________________\n"
          ],
          "name": "stdout"
        }
      ]
    },
    {
      "cell_type": "code",
      "metadata": {
        "id": "qvmGfqcFPhdc",
        "outputId": "940dcab4-9f15-4dae-d3e1-9d5e246d61c9",
        "colab": {
          "base_uri": "https://localhost:8080/",
          "height": 34
        }
      },
      "source": [
        "new_model.load_weights(checkpoint_path)\n",
        "model_accuracy = get_test_accuracy(new_model, test_images, test_labels)"
      ],
      "execution_count": 97,
      "outputs": [
        {
          "output_type": "stream",
          "text": [
            "accuracy: 0.729\n"
          ],
          "name": "stdout"
        }
      ]
    },
    {
      "cell_type": "code",
      "metadata": {
        "id": "C1zEM-A2QCY6"
      },
      "source": [
        "checkpoint_path_cnn= 'model_cnn_checkpoints/checkpoint'"
      ],
      "execution_count": 79,
      "outputs": []
    },
    {
      "cell_type": "code",
      "metadata": {
        "id": "Ve7GsIdJQJX-",
        "outputId": "d7cbfa64-013c-48da-fa2f-72a0ea661a2a",
        "colab": {
          "base_uri": "https://localhost:8080/",
          "height": 34
        }
      },
      "source": [
        "new_model_cnn.load_weights(checkpoint_path_cnn)\n",
        "cnn_model_accuracy=get_test_accuracy(new_model_cnn, test_images, test_labels)"
      ],
      "execution_count": 98,
      "outputs": [
        {
          "output_type": "stream",
          "text": [
            "accuracy: 0.850\n"
          ],
          "name": "stdout"
        }
      ]
    },
    {
      "cell_type": "code",
      "metadata": {
        "id": "txN-kvJaQaTR",
        "outputId": "e1e3cf49-7a88-4a27-ffa7-78550985effe",
        "colab": {
          "base_uri": "https://localhost:8080/",
          "height": 229
        }
      },
      "source": [
        "plot_images(test_images, test_labels, 1, 10)"
      ],
      "execution_count": 81,
      "outputs": [
        {
          "output_type": "stream",
          "text": [
            "[5]\n",
            "[2]\n",
            "[1]\n",
            "[10]\n",
            "[6]\n",
            "[1]\n",
            "[9]\n",
            "[1]\n",
            "[1]\n",
            "[8]\n"
          ],
          "name": "stdout"
        },
        {
          "output_type": "display_data",
          "data": {
            "image/png": "[encoded data removed]",
            "text/plain": [
              "<Figure size 432x288 with 10 Axes>"
            ]
          },
          "metadata": {
            "tags": [],
            "needs_background": "light"
          }
        }
      ]
    },
    {
      "cell_type": "code",
      "metadata": {
        "id": "dW2X-pgCTeTe",
        "outputId": "653d819a-a36e-4542-e33f-3ac61d74498c",
        "colab": {
          "base_uri": "https://localhost:8080/",
          "height": 336
        }
      },
      "source": [
        "fig = plt.figure()\n",
        "ax = fig.add_axes([0,0,1,1])\n",
        "models = ['Dense Model', 'CNN Model']\n",
        "accs = [model_accuracy, cnn_model_accuracy]\n",
        "ax.bar(models,accs)\n",
        "plt.show()"
      ],
      "execution_count": 104,
      "outputs": [
        {
          "output_type": "display_data",
          "data": {
            "image/png": "[encoded data removed]",
            "text/plain": [
              "<Figure size 432x288 with 1 Axes>"
            ]
          },
          "metadata": {
            "tags": []
          }
        }
      ]
    }
  ]
}