{
  "nbformat": 4,
  "nbformat_minor": 0,
  "metadata": {
    "colab": {
      "provenance": [],
      "collapsed_sections": []
    },
    "kernelspec": {
      "name": "python3",
      "display_name": "Python 3"
    },
    "language_info": {
      "name": "python"
    }
  },
  "cells": [
    {
      "cell_type": "code",
      "execution_count": 1,
      "metadata": {
        "id": "qBcYwHgdw91-"
      },
      "outputs": [],
      "source": [
        "import matplotlib.pyplot as plt\n",
        "\n",
        "# Import datasets, classifiers and performance metrics\n",
        "from sklearn import datasets, svm, metrics\n",
        "from sklearn.model_selection import train_test_split"
      ]
    },
    {
      "cell_type": "code",
      "source": [
        "digits = datasets.load_digits()"
      ],
      "metadata": {
        "id": "w2OqcXkyxstp"
      },
      "execution_count": 2,
      "outputs": []
    },
    {
      "cell_type": "code",
      "source": [
        "n_samples = len(digits.images)\n",
        "data = digits.images.reshape((n_samples, -1))\n",
        "\n",
        "# Create a classifier: a support vector classifier\n",
        "clf = svm.SVC(gamma=0.001)\n",
        "\n",
        "# Split data into 50% train and 50% test subsets\n",
        "X_train, X_test, y_train, y_test = train_test_split(\n",
        "    data, digits.target, test_size=0.5, shuffle=False\n",
        ")"
      ],
      "metadata": {
        "id": "B-5wH4jFx0wb"
      },
      "execution_count": 3,
      "outputs": []
    },
    {
      "cell_type": "code",
      "source": [
        "from sklearn.multiclass import OneVsRestClassifier\n",
        "from sklearn.svm import SVC"
      ],
      "metadata": {
        "id": "OMFHVBJdy9C2"
      },
      "execution_count": 4,
      "outputs": []
    },
    {
      "cell_type": "code",
      "source": [
        "ovr_clf= OneVsRestClassifier(SVC())\n",
        "ovr_clf.fit(X_train, y_train)"
      ],
      "metadata": {
        "colab": {
          "base_uri": "https://localhost:8080/"
        },
        "id": "bEq0zibbyQTd",
        "outputId": "c11f1c0f-7a3f-49ef-d834-5d7e0acdd55f"
      },
      "execution_count": 5,
      "outputs": [
        {
          "output_type": "execute_result",
          "data": {
            "text/plain": [
              "OneVsRestClassifier(estimator=SVC())"
            ]
          },
          "metadata": {},
          "execution_count": 5
        }
      ]
    },
    {
      "cell_type": "code",
      "source": [
        "X_test[0].shape"
      ],
      "metadata": {
        "colab": {
          "base_uri": "https://localhost:8080/"
        },
        "id": "xy7DrcASzfrs",
        "outputId": "aa2e2616-a3e5-41b0-cdb8-13f4d2a96401"
      },
      "execution_count": 10,
      "outputs": [
        {
          "output_type": "execute_result",
          "data": {
            "text/plain": [
              "(64,)"
            ]
          },
          "metadata": {},
          "execution_count": 10
        }
      ]
    },
    {
      "cell_type": "markdown",
      "source": [
        "#fucking scikit-learn brings MNIST as 8x8 images 💎"
      ],
      "metadata": {
        "id": "BsbjEaOaz3M1"
      }
    },
    {
      "cell_type": "code",
      "source": [
        "some_fucking_digit = X_test[0]\n",
        "some_fucking_digit = some_fucking_digit.reshape(8,8)"
      ],
      "metadata": {
        "id": "AXJfLPtSzQgn"
      },
      "execution_count": 9,
      "outputs": []
    },
    {
      "cell_type": "code",
      "source": [
        "y_test_pred= ovr_clf.predict(X_test)"
      ],
      "metadata": {
        "id": "ETeXCxUC0L4M"
      },
      "execution_count": 21,
      "outputs": []
    },
    {
      "cell_type": "code",
      "source": [
        "y_test"
      ],
      "metadata": {
        "id": "zXbP9PjJ06qf"
      },
      "execution_count": null,
      "outputs": []
    },
    {
      "cell_type": "code",
      "source": [
        "from sklearn.metrics import confusion_matrix"
      ],
      "metadata": {
        "id": "xEK84GDg1TH3"
      },
      "execution_count": 20,
      "outputs": []
    },
    {
      "cell_type": "code",
      "source": [
        "conf_mx = confusion_matrix(y_test, y_test_pred)"
      ],
      "metadata": {
        "id": "D9ZGvw0t1a8Z"
      },
      "execution_count": 22,
      "outputs": []
    },
    {
      "cell_type": "code",
      "source": [
        "conf_mx"
      ],
      "metadata": {
        "colab": {
          "base_uri": "https://localhost:8080/"
        },
        "id": "ORoGLwnF1nBX",
        "outputId": "b1a42774-3ce1-4a75-8412-3a4763ccdf85"
      },
      "execution_count": 23,
      "outputs": [
        {
          "output_type": "execute_result",
          "data": {
            "text/plain": [
              "array([[87,  0,  0,  0,  1,  0,  0,  0,  0,  0],\n",
              "       [ 0, 87,  1,  0,  0,  1,  0,  0,  0,  2],\n",
              "       [ 3,  0, 83,  0,  0,  0,  0,  0,  0,  0],\n",
              "       [ 0,  0,  0, 79,  0,  4,  0,  4,  4,  0],\n",
              "       [ 0,  0,  0,  0, 88,  0,  0,  0,  0,  4],\n",
              "       [ 0,  0,  0,  0,  0, 87,  1,  0,  0,  3],\n",
              "       [ 0,  1,  0,  0,  0,  0, 90,  0,  0,  0],\n",
              "       [ 0,  0,  0,  0,  0,  0,  0, 89,  0,  0],\n",
              "       [ 0,  3,  0,  0,  0,  3,  1,  1, 79,  1],\n",
              "       [ 1,  0,  0,  1,  0,  2,  0,  1,  0, 87]])"
            ]
          },
          "metadata": {},
          "execution_count": 23
        }
      ]
    },
    {
      "cell_type": "code",
      "source": [
        "plt.matshow(conf_mx)\n",
        "plt.show()"
      ],
      "metadata": {
        "colab": {
          "base_uri": "https://localhost:8080/",
          "height": 275
        },
        "id": "v80N9zvT1pEM",
        "outputId": "b420f6a4-e469-42a6-90a8-61eb7672eefa"
      },
      "execution_count": 24,
      "outputs": [
        {
          "output_type": "display_data",
          "data": {
            "text/plain": [
              "<Figure size 288x288 with 1 Axes>"
            ],
            "image/png": "[encoded data removed]"
          },
          "metadata": {
            "needs_background": "light"
          }
        }
      ]
    }
  ]
}