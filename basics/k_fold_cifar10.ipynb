{
  "nbformat": 4,
  "nbformat_minor": 0,
  "metadata": {
    "colab": {
      "name": "k-fold_cifar10.ipynb",
      "provenance": [],
      "collapsed_sections": [],
      "authorship_tag": "ABX9TyPGfufHl6PRj+YvG2+e4Z/e",
      "include_colab_link": true
    },
    "kernelspec": {
      "name": "python3",
      "display_name": "Python 3"
    },
    "language_info": {
      "name": "python"
    },
    "accelerator": "GPU"
  },
  "cells": [
    {
      "cell_type": "markdown",
      "metadata": {
        "id": "view-in-github",
        "colab_type": "text"
      },
      "source": [
        "<a href=\"https://colab.research.google.com/github/ayyucedemirbas/machine_learning_algorithms/blob/master/k_fold_cifar10.ipynb\" target=\"_parent\"><img src=\"https://colab.research.google.com/assets/colab-badge.svg\" alt=\"Open In Colab\"/></a>"
      ]
    },
    {
      "cell_type": "code",
      "metadata": {
        "id": "X3pGNNxbtIAA"
      },
      "source": [
        "from tensorflow.keras.datasets import cifar10\n",
        "from tensorflow.keras.models import Sequential\n",
        "from tensorflow.keras.layers import Dense, Flatten, Conv2D, MaxPooling2D\n",
        "from tensorflow.keras.losses import sparse_categorical_crossentropy\n",
        "from tensorflow.keras.optimizers import Adam\n",
        "from sklearn.model_selection import KFold\n",
        "from sklearn.model_selection import train_test_split\n",
        "import numpy as np"
      ],
      "execution_count": 1,
      "outputs": []
    },
    {
      "cell_type": "code",
      "metadata": {
        "id": "1SQdSVeWuRyt"
      },
      "source": [
        "(input_train, target_train), (input_test, target_test) = cifar10.load_data()\n",
        "# Parse numbers as floats\n",
        "input_train = input_train.astype('float32')\n",
        "input_test = input_test.astype('float32')\n",
        "\n",
        "# Normalize data\n",
        "input_train = input_train / 255\n",
        "input_test = input_test / 255\n",
        "\n",
        "# Merge inputs and targets\n",
        "inputs = np.concatenate((input_train, input_test), axis=0)\n",
        "targets = np.concatenate((target_train, target_test), axis=0)"
      ],
      "execution_count": 2,
      "outputs": []
    },
    {
      "cell_type": "code",
      "metadata": {
        "colab": {
          "base_uri": "https://localhost:8080/"
        },
        "id": "Q5N9mVa4uoL5",
        "outputId": "ce081a5b-4be7-49ca-ff75-a49a22375b34"
      },
      "source": [
        "input_train.shape[1:]"
      ],
      "execution_count": 10,
      "outputs": [
        {
          "output_type": "execute_result",
          "data": {
            "text/plain": [
              "(32, 32, 3)"
            ]
          },
          "metadata": {
            "tags": []
          },
          "execution_count": 10
        }
      ]
    },
    {
      "cell_type": "code",
      "metadata": {
        "colab": {
          "base_uri": "https://localhost:8080/"
        },
        "id": "XWBKO8dkxehl",
        "outputId": "3743d204-9fc7-4b7a-8ed9-6687798c226b"
      },
      "source": [
        "inputs[1].shape"
      ],
      "execution_count": 15,
      "outputs": [
        {
          "output_type": "execute_result",
          "data": {
            "text/plain": [
              "(32, 32, 3)"
            ]
          },
          "metadata": {
            "tags": []
          },
          "execution_count": 15
        }
      ]
    },
    {
      "cell_type": "code",
      "metadata": {
        "colab": {
          "base_uri": "https://localhost:8080/"
        },
        "id": "6421zHqpx2Qb",
        "outputId": "6988b614-8112-43e3-d15b-234ece00c639"
      },
      "source": [
        "targets[1].shape"
      ],
      "execution_count": 16,
      "outputs": [
        {
          "output_type": "execute_result",
          "data": {
            "text/plain": [
              "(1,)"
            ]
          },
          "metadata": {
            "tags": []
          },
          "execution_count": 16
        }
      ]
    },
    {
      "cell_type": "code",
      "metadata": {
        "id": "ShGmIFOZ0db_"
      },
      "source": [
        "import tensorflow\n",
        "from tensorflow.keras import initializers"
      ],
      "execution_count": 3,
      "outputs": []
    },
    {
      "cell_type": "code",
      "metadata": {
        "id": "1iEIvHpa5l5m"
      },
      "source": [
        "def get_model():\n",
        "  model= Sequential([\n",
        "        Conv2D(32, (3,3), activation='relu', input_shape=(32,32,3),kernel_initializer=initializers.GlorotUniform(seed=None)),\n",
        "        MaxPooling2D((2,2)),\n",
        "        Conv2D(64, (3,3), activation='relu',kernel_initializer=initializers.GlorotUniform(seed=None)),\n",
        "        MaxPooling2D((2,2)),\n",
        "        Conv2D(128, (3,3), activation='relu', kernel_initializer=initializers.GlorotUniform(seed=None)),\n",
        "        MaxPooling2D((2,2)),\n",
        "        Flatten(),\n",
        "        Dense(256, activation='relu', kernel_initializer=initializers.GlorotUniform(seed=None)),\n",
        "        Dense(128, activation='relu', kernel_initializer=initializers.GlorotUniform(seed=None)),\n",
        "        Dense(10, activation='softmax', kernel_initializer=initializers.GlorotUniform(seed=None))\n",
        "\n",
        "\n",
        "      ])\n",
        "  opt = tensorflow.keras.optimizers.Adam(learning_rate=0.005)\n",
        "  acc = tensorflow.keras.metrics.SparseCategoricalAccuracy()\n",
        "  mae = tensorflow.keras.metrics.MeanAbsoluteError()\n",
        "  model.compile(optimizer= opt,\n",
        "      loss = 'sparse_categorical_crossentropy', #sparse_categorical_crossentropy --> data labels are integers\n",
        "      metrics= [acc, mae]\n",
        "  )\n",
        "  return model\n",
        "  \n"
      ],
      "execution_count": 4,
      "outputs": []
    },
    {
      "cell_type": "code",
      "metadata": {
        "colab": {
          "base_uri": "https://localhost:8080/"
        },
        "id": "6Qbc90k5sjwa",
        "outputId": "b631a427-f7e7-4c64-c600-23a1f39b7c1f"
      },
      "source": [
        "# Define the K-fold Cross Validator\n",
        "kfold = KFold(n_splits=4, shuffle=False)\n",
        "input_shape = input_train.shape[1:]\n",
        "# K-fold Cross Validation model evaluation\n",
        "fold_no = 1\n",
        "acc_per_fold=[]\n",
        "loss_per_fold=[]\n",
        "for train, test in kfold.split(inputs, targets):\n",
        "\n",
        "  # Define the model architecture\n",
        "  model= get_model()\n",
        "  \n",
        "\n",
        "\n",
        "  # Generate a print\n",
        "  print('------------------------------------------------------------------------')\n",
        "  print(f'Training for fold {fold_no}')\n",
        "\n",
        "  # Fit data to model\n",
        "  history = model.fit(inputs[train], targets[train],epochs=8, batch_size=256, verbose=2)\n",
        "\n",
        "  # Generate generalization metrics\n",
        "  scores = model.evaluate(inputs[test], targets[test], verbose=0)\n",
        "  print(f'Score for fold {fold_no}: {model.metrics_names[0]} of {scores[0]}; {model.metrics_names[1]} of {scores[1]*100}%')\n",
        "  acc_per_fold.append(scores[1] * 100)\n",
        "  loss_per_fold.append(scores[0])\n",
        "  val_score=np.average(acc_per_fold)\n",
        "  print(\"Average validation score\")\n",
        "  print(val_score)\n",
        "\n",
        "  \n",
        "  fold_no = fold_no + 1"
      ],
      "execution_count": 5,
      "outputs": [
        {
          "output_type": "stream",
          "text": [
            "------------------------------------------------------------------------\n",
            "Training for fold 1\n",
            "Epoch 1/8\n",
            "176/176 - 4s - loss: 1.7177 - sparse_categorical_accuracy: 0.3556 - mean_absolute_error: 4.4231\n",
            "Epoch 2/8\n",
            "176/176 - 1s - loss: 1.3024 - sparse_categorical_accuracy: 0.5278 - mean_absolute_error: 4.4231\n",
            "Epoch 3/8\n",
            "176/176 - 1s - loss: 1.1231 - sparse_categorical_accuracy: 0.6005 - mean_absolute_error: 4.4231\n",
            "Epoch 4/8\n",
            "176/176 - 1s - loss: 1.0135 - sparse_categorical_accuracy: 0.6437 - mean_absolute_error: 4.4231\n",
            "Epoch 5/8\n",
            "176/176 - 1s - loss: 0.9438 - sparse_categorical_accuracy: 0.6674 - mean_absolute_error: 4.4231\n",
            "Epoch 6/8\n",
            "176/176 - 1s - loss: 0.8676 - sparse_categorical_accuracy: 0.6930 - mean_absolute_error: 4.4231\n",
            "Epoch 7/8\n",
            "176/176 - 1s - loss: 0.8075 - sparse_categorical_accuracy: 0.7147 - mean_absolute_error: 4.4231\n",
            "Epoch 8/8\n",
            "176/176 - 1s - loss: 0.7568 - sparse_categorical_accuracy: 0.7332 - mean_absolute_error: 4.4231\n",
            "Score for fold 1: loss of 0.9678270220756531; sparse_categorical_accuracy of 67.03333258628845%\n",
            "Average validation score\n",
            "67.03333258628845\n",
            "------------------------------------------------------------------------\n",
            "Training for fold 2\n",
            "Epoch 1/8\n",
            "176/176 - 2s - loss: 1.8198 - sparse_categorical_accuracy: 0.3139 - mean_absolute_error: 4.4180\n",
            "Epoch 2/8\n",
            "176/176 - 1s - loss: 1.3843 - sparse_categorical_accuracy: 0.4995 - mean_absolute_error: 4.4180\n",
            "Epoch 3/8\n",
            "176/176 - 1s - loss: 1.1996 - sparse_categorical_accuracy: 0.5714 - mean_absolute_error: 4.4180\n",
            "Epoch 4/8\n",
            "176/176 - 1s - loss: 1.0862 - sparse_categorical_accuracy: 0.6143 - mean_absolute_error: 4.4180\n",
            "Epoch 5/8\n",
            "176/176 - 1s - loss: 0.9933 - sparse_categorical_accuracy: 0.6510 - mean_absolute_error: 4.4180\n",
            "Epoch 6/8\n",
            "176/176 - 1s - loss: 0.9283 - sparse_categorical_accuracy: 0.6705 - mean_absolute_error: 4.4180\n",
            "Epoch 7/8\n",
            "176/176 - 1s - loss: 0.8812 - sparse_categorical_accuracy: 0.6916 - mean_absolute_error: 4.4180\n",
            "Epoch 8/8\n",
            "176/176 - 1s - loss: 0.8367 - sparse_categorical_accuracy: 0.7045 - mean_absolute_error: 4.4180\n",
            "Score for fold 2: loss of 0.9896516799926758; sparse_categorical_accuracy of 65.74000120162964%\n",
            "Average validation score\n",
            "66.38666689395905\n",
            "------------------------------------------------------------------------\n",
            "Training for fold 3\n",
            "Epoch 1/8\n",
            "176/176 - 2s - loss: 1.8346 - sparse_categorical_accuracy: 0.3036 - mean_absolute_error: 4.4241\n",
            "Epoch 2/8\n",
            "176/176 - 1s - loss: 1.3647 - sparse_categorical_accuracy: 0.5030 - mean_absolute_error: 4.4241\n",
            "Epoch 3/8\n",
            "176/176 - 1s - loss: 1.1737 - sparse_categorical_accuracy: 0.5807 - mean_absolute_error: 4.4241\n",
            "Epoch 4/8\n",
            "176/176 - 1s - loss: 1.0699 - sparse_categorical_accuracy: 0.6228 - mean_absolute_error: 4.4241\n",
            "Epoch 5/8\n",
            "176/176 - 1s - loss: 0.9816 - sparse_categorical_accuracy: 0.6538 - mean_absolute_error: 4.4241\n",
            "Epoch 6/8\n",
            "176/176 - 1s - loss: 0.9015 - sparse_categorical_accuracy: 0.6845 - mean_absolute_error: 4.4241\n",
            "Epoch 7/8\n",
            "176/176 - 1s - loss: 0.8608 - sparse_categorical_accuracy: 0.6994 - mean_absolute_error: 4.4241\n",
            "Epoch 8/8\n",
            "176/176 - 1s - loss: 0.8136 - sparse_categorical_accuracy: 0.7125 - mean_absolute_error: 4.4241\n",
            "Score for fold 3: loss of 0.9735032320022583; sparse_categorical_accuracy of 66.71333312988281%\n",
            "Average validation score\n",
            "66.49555563926697\n",
            "------------------------------------------------------------------------\n",
            "Training for fold 4\n",
            "Epoch 1/8\n",
            "176/176 - 2s - loss: 1.8118 - sparse_categorical_accuracy: 0.3161 - mean_absolute_error: 4.4148\n",
            "Epoch 2/8\n",
            "176/176 - 1s - loss: 1.4148 - sparse_categorical_accuracy: 0.4871 - mean_absolute_error: 4.4148\n",
            "Epoch 3/8\n",
            "176/176 - 1s - loss: 1.2575 - sparse_categorical_accuracy: 0.5472 - mean_absolute_error: 4.4148\n",
            "Epoch 4/8\n",
            "176/176 - 1s - loss: 1.1574 - sparse_categorical_accuracy: 0.5874 - mean_absolute_error: 4.4148\n",
            "Epoch 5/8\n",
            "176/176 - 1s - loss: 1.0840 - sparse_categorical_accuracy: 0.6119 - mean_absolute_error: 4.4148\n",
            "Epoch 6/8\n",
            "176/176 - 1s - loss: 1.0166 - sparse_categorical_accuracy: 0.6409 - mean_absolute_error: 4.4148\n",
            "Epoch 7/8\n",
            "176/176 - 1s - loss: 0.9657 - sparse_categorical_accuracy: 0.6576 - mean_absolute_error: 4.4148\n",
            "Epoch 8/8\n",
            "176/176 - 1s - loss: 0.9402 - sparse_categorical_accuracy: 0.6674 - mean_absolute_error: 4.4148\n",
            "Score for fold 4: loss of 1.0248897075653076; sparse_categorical_accuracy of 64.66000080108643%\n",
            "Average validation score\n",
            "66.03666692972183\n"
          ],
          "name": "stdout"
        }
      ]
    },
    {
      "cell_type": "code",
      "metadata": {
        "colab": {
          "base_uri": "https://localhost:8080/"
        },
        "id": "vrOIUPhd6bxI",
        "outputId": "3adbf07e-1962-442a-ab22-db06b556c694"
      },
      "source": [
        "model=get_model()\n",
        "history = model.fit(input_train, target_train,epochs=8, batch_size=256, verbose=2)"
      ],
      "execution_count": 6,
      "outputs": [
        {
          "output_type": "stream",
          "text": [
            "Epoch 1/8\n",
            "196/196 - 2s - loss: 1.6985 - sparse_categorical_accuracy: 0.3643 - mean_absolute_error: 4.4200\n",
            "Epoch 2/8\n",
            "196/196 - 1s - loss: 1.2943 - sparse_categorical_accuracy: 0.5339 - mean_absolute_error: 4.4200\n",
            "Epoch 3/8\n",
            "196/196 - 1s - loss: 1.1270 - sparse_categorical_accuracy: 0.5994 - mean_absolute_error: 4.4200\n",
            "Epoch 4/8\n",
            "196/196 - 1s - loss: 1.0171 - sparse_categorical_accuracy: 0.6412 - mean_absolute_error: 4.4200\n",
            "Epoch 5/8\n",
            "196/196 - 1s - loss: 0.9343 - sparse_categorical_accuracy: 0.6725 - mean_absolute_error: 4.4200\n",
            "Epoch 6/8\n",
            "196/196 - 1s - loss: 0.8742 - sparse_categorical_accuracy: 0.6931 - mean_absolute_error: 4.4200\n",
            "Epoch 7/8\n",
            "196/196 - 1s - loss: 0.8275 - sparse_categorical_accuracy: 0.7095 - mean_absolute_error: 4.4200\n",
            "Epoch 8/8\n",
            "196/196 - 1s - loss: 0.7756 - sparse_categorical_accuracy: 0.7257 - mean_absolute_error: 4.4200\n"
          ],
          "name": "stdout"
        }
      ]
    },
    {
      "cell_type": "code",
      "metadata": {
        "colab": {
          "base_uri": "https://localhost:8080/"
        },
        "id": "1X3fUuxy7OyF",
        "outputId": "3e67c595-04ad-438d-c72a-ec40b2b168d4"
      },
      "source": [
        "model.evaluate(input_test, target_test,batch_size=256)"
      ],
      "execution_count": 7,
      "outputs": [
        {
          "output_type": "stream",
          "text": [
            "40/40 [==============================] - 0s 7ms/step - loss: 1.0033 - sparse_categorical_accuracy: 0.6590 - mean_absolute_error: 4.4200\n"
          ],
          "name": "stdout"
        },
        {
          "output_type": "execute_result",
          "data": {
            "text/plain": [
              "[1.003265380859375, 0.6589999794960022, 4.420001029968262]"
            ]
          },
          "metadata": {
            "tags": []
          },
          "execution_count": 7
        }
      ]
    }
  ]
}