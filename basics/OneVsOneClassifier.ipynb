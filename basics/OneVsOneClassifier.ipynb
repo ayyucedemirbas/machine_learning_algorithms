{
  "nbformat": 4,
  "nbformat_minor": 0,
  "metadata": {
    "colab": {
      "provenance": [],
      "collapsed_sections": []
    },
    "kernelspec": {
      "name": "python3",
      "display_name": "Python 3"
    },
    "language_info": {
      "name": "python"
    }
  },
  "cells": [
    {
      "cell_type": "code",
      "execution_count": 1,
      "metadata": {
        "id": "qBcYwHgdw91-"
      },
      "outputs": [],
      "source": [
        "import matplotlib.pyplot as plt\n",
        "\n",
        "# Import datasets, classifiers and performance metrics\n",
        "from sklearn import datasets, svm, metrics\n",
        "from sklearn.model_selection import train_test_split"
      ]
    },
    {
      "cell_type": "code",
      "source": [
        "digits = datasets.load_digits()"
      ],
      "metadata": {
        "id": "w2OqcXkyxstp"
      },
      "execution_count": 2,
      "outputs": []
    },
    {
      "cell_type": "code",
      "source": [
        "n_samples = len(digits.images)\n",
        "data = digits.images.reshape((n_samples, -1))\n",
        "\n",
        "# Create a classifier: a support vector classifier\n",
        "clf = svm.SVC(gamma=0.001)\n",
        "\n",
        "# Split data into 50% train and 50% test subsets\n",
        "X_train, X_test, y_train, y_test = train_test_split(\n",
        "    data, digits.target, test_size=0.5, shuffle=False\n",
        ")"
      ],
      "metadata": {
        "id": "B-5wH4jFx0wb"
      },
      "execution_count": 3,
      "outputs": []
    },
    {
      "cell_type": "code",
      "source": [
        "from sklearn.multiclass import OneVsOneClassifier\n",
        "from sklearn.svm import SVC"
      ],
      "metadata": {
        "id": "OMFHVBJdy9C2"
      },
      "execution_count": 4,
      "outputs": []
    },
    {
      "cell_type": "code",
      "source": [
        "ovo_clf= OneVsOneClassifier(SVC())\n",
        "ovo_clf.fit(X_train, y_train)"
      ],
      "metadata": {
        "colab": {
          "base_uri": "https://localhost:8080/"
        },
        "id": "bEq0zibbyQTd",
        "outputId": "508cadca-8439-421a-b80e-e7a558292e36"
      },
      "execution_count": 5,
      "outputs": [
        {
          "output_type": "execute_result",
          "data": {
            "text/plain": [
              "OneVsOneClassifier(estimator=SVC())"
            ]
          },
          "metadata": {},
          "execution_count": 5
        }
      ]
    },
    {
      "cell_type": "code",
      "source": [
        "y_test_pred= ovo_clf.predict(X_test)"
      ],
      "metadata": {
        "id": "ETeXCxUC0L4M"
      },
      "execution_count": 6,
      "outputs": []
    },
    {
      "cell_type": "code",
      "source": [
        "from sklearn.metrics import confusion_matrix"
      ],
      "metadata": {
        "id": "xEK84GDg1TH3"
      },
      "execution_count": 7,
      "outputs": []
    },
    {
      "cell_type": "code",
      "source": [
        "conf_mx = confusion_matrix(y_test, y_test_pred)"
      ],
      "metadata": {
        "id": "D9ZGvw0t1a8Z"
      },
      "execution_count": 8,
      "outputs": []
    },
    {
      "cell_type": "code",
      "source": [
        "conf_mx"
      ],
      "metadata": {
        "colab": {
          "base_uri": "https://localhost:8080/"
        },
        "id": "ORoGLwnF1nBX",
        "outputId": "265e4a2d-dd31-46e4-f5b9-e8ec8619af71"
      },
      "execution_count": 9,
      "outputs": [
        {
          "output_type": "execute_result",
          "data": {
            "text/plain": [
              "array([[87,  0,  0,  0,  1,  0,  0,  0,  0,  0],\n",
              "       [ 0, 88,  0,  0,  0,  0,  0,  0,  1,  2],\n",
              "       [ 1,  0, 83,  2,  0,  0,  0,  0,  0,  0],\n",
              "       [ 0,  0,  0, 79,  0,  3,  0,  3,  6,  0],\n",
              "       [ 0,  0,  0,  0, 88,  0,  0,  0,  0,  4],\n",
              "       [ 0,  0,  0,  0,  0, 88,  1,  0,  0,  2],\n",
              "       [ 0,  1,  0,  0,  0,  0, 90,  0,  0,  0],\n",
              "       [ 0,  0,  0,  0,  0,  1,  0, 88,  0,  0],\n",
              "       [ 0,  2,  0,  0,  0,  1,  0,  0, 84,  1],\n",
              "       [ 0,  0,  0,  1,  0,  2,  0,  1,  0, 88]])"
            ]
          },
          "metadata": {},
          "execution_count": 9
        }
      ]
    },
    {
      "cell_type": "code",
      "source": [
        "plt.matshow(conf_mx)\n",
        "plt.show()"
      ],
      "metadata": {
        "colab": {
          "base_uri": "https://localhost:8080/",
          "height": 275
        },
        "id": "v80N9zvT1pEM",
        "outputId": "ee0b1edd-b7ca-4558-a12f-77ece4b10467"
      },
      "execution_count": 10,
      "outputs": [
        {
          "output_type": "display_data",
          "data": {
            "text/plain": [
              "<Figure size 288x288 with 1 Axes>"
            ],
            "image/png": "[encoded data removed]"
          },
          "metadata": {
            "needs_background": "light"
          }
        }
      ]
    }
  ]
}