{
  "nbformat": 4,
  "nbformat_minor": 0,
  "metadata": {
    "colab": {
      "name": "PCA.ipynb",
      "provenance": [],
      "collapsed_sections": []
    },
    "kernelspec": {
      "name": "python3",
      "display_name": "Python 3"
    },
    "language_info": {
      "name": "python"
    }
  },
  "cells": [
    {
      "cell_type": "code",
      "metadata": {
        "id": "fAGMlfes_ymP"
      },
      "source": [
        "import numpy as np\n",
        "import pandas as pd\n",
        "from sklearn import datasets \n",
        "import matplotlib.pyplot as plt"
      ],
      "execution_count": 1,
      "outputs": []
    },
    {
      "cell_type": "code",
      "metadata": {
        "id": "RMlzXMrV__aq"
      },
      "source": [
        "iris = datasets.load_iris()"
      ],
      "execution_count": 2,
      "outputs": []
    },
    {
      "cell_type": "code",
      "metadata": {
        "id": "qRUpuEl6AHTr"
      },
      "source": [
        "cov_data = np.corrcoef(iris.data.T)"
      ],
      "execution_count": 4,
      "outputs": []
    },
    {
      "cell_type": "code",
      "metadata": {
        "colab": {
          "base_uri": "https://localhost:8080/"
        },
        "id": "L_tojCP5ANS8",
        "outputId": "0ecc84bb-f202-4ff8-f8f4-332c4ad68616"
      },
      "source": [
        "cov_data"
      ],
      "execution_count": 5,
      "outputs": [
        {
          "output_type": "execute_result",
          "data": {
            "text/plain": [
              "array([[ 1.        , -0.11756978,  0.87175378,  0.81794113],\n",
              "       [-0.11756978,  1.        , -0.4284401 , -0.36612593],\n",
              "       [ 0.87175378, -0.4284401 ,  1.        ,  0.96286543],\n",
              "       [ 0.81794113, -0.36612593,  0.96286543,  1.        ]])"
            ]
          },
          "metadata": {},
          "execution_count": 5
        }
      ]
    },
    {
      "cell_type": "code",
      "metadata": {
        "colab": {
          "base_uri": "https://localhost:8080/"
        },
        "id": "h5Vc_aY9AO9e",
        "outputId": "5f1e193f-179c-44fa-9e26-7b963054a7b0"
      },
      "source": [
        "df = pd.DataFrame(data=iris.data, columns=iris.feature_names)\n",
        "\n",
        "df['class'] = iris.target\n",
        "print(df)"
      ],
      "execution_count": 12,
      "outputs": [
        {
          "output_type": "stream",
          "text": [
            "     sepal length (cm)  sepal width (cm)  ...  petal width (cm)  class\n",
            "0                  5.1               3.5  ...               0.2      0\n",
            "1                  4.9               3.0  ...               0.2      0\n",
            "2                  4.7               3.2  ...               0.2      0\n",
            "3                  4.6               3.1  ...               0.2      0\n",
            "4                  5.0               3.6  ...               0.2      0\n",
            "..                 ...               ...  ...               ...    ...\n",
            "145                6.7               3.0  ...               2.3      2\n",
            "146                6.3               2.5  ...               1.9      2\n",
            "147                6.5               3.0  ...               2.0      2\n",
            "148                6.2               3.4  ...               2.3      2\n",
            "149                5.9               3.0  ...               1.8      2\n",
            "\n",
            "[150 rows x 5 columns]\n"
          ],
          "name": "stdout"
        }
      ]
    },
    {
      "cell_type": "code",
      "metadata": {
        "id": "uIDPhn-OBGlY"
      },
      "source": [
        "x = df.drop(labels='class', axis=1).values\n",
        "y = df['class'].values"
      ],
      "execution_count": 13,
      "outputs": []
    },
    {
      "cell_type": "code",
      "metadata": {
        "colab": {
          "base_uri": "https://localhost:8080/"
        },
        "id": "wG1T6lJlBLWi",
        "outputId": "ce237adb-dc1a-4169-c1fa-3f08b1ff3049"
      },
      "source": [
        "print(x.shape, y.shape)"
      ],
      "execution_count": 14,
      "outputs": [
        {
          "output_type": "stream",
          "text": [
            "(150, 4) (150,)\n"
          ],
          "name": "stdout"
        }
      ]
    },
    {
      "cell_type": "code",
      "metadata": {
        "id": "LsZFIypcBP9u"
      },
      "source": [
        "class convers_pca():\n",
        "    def __init__(self, no_of_components):\n",
        "        self.no_of_components = no_of_components\n",
        "        self.eigen_values = None\n",
        "        self.eigen_vectors = None\n",
        "        \n",
        "    def transform(self, x):\n",
        "        return np.dot(x - self.mean, self.projection_matrix.T)\n",
        "    \n",
        "    def inverse_transform(self, x):\n",
        "        return np.dot(x, self.projection_matrix) + self.mean\n",
        "    \n",
        "    def fit(self, x):\n",
        "        self.no_of_components = x.shape[1] if self.no_of_components is None else self.no_of_components\n",
        "        self.mean = np.mean(x, axis=0)\n",
        "        \n",
        "        cov_matrix = np.cov(x - self.mean, rowvar=False)\n",
        "        \n",
        "        self.eigen_values, self.eigen_vectors = np.linalg.eig(cov_matrix)\n",
        "        self.eigen_vectors = self.eigen_vectors.T\n",
        "        \n",
        "        self.sorted_components = np.argsort(self.eigen_values)[::-1]\n",
        "        \n",
        "        self.projection_matrix = self.eigen_vectors[self.sorted_components[:self.no_of_components]]\n",
        "\n",
        "        self.explained_variance = self.eigen_values[self.sorted_components]\n",
        "        self.explained_variance_ratio = self.explained_variance / self.eigen_values.sum()"
      ],
      "execution_count": 15,
      "outputs": []
    },
    {
      "cell_type": "code",
      "metadata": {
        "id": "ryvp07owBYeA"
      },
      "source": [
        "from sklearn.preprocessing import StandardScaler"
      ],
      "execution_count": 17,
      "outputs": []
    },
    {
      "cell_type": "code",
      "metadata": {
        "id": "oiTqIZLbBTBS"
      },
      "source": [
        "std = StandardScaler()\n",
        "transformed = StandardScaler().fit_transform(x)"
      ],
      "execution_count": 18,
      "outputs": []
    },
    {
      "cell_type": "code",
      "metadata": {
        "id": "V0WRH60QBmIe"
      },
      "source": [
        "pca = convers_pca(no_of_components=2)\n",
        "pca.fit(transformed)"
      ],
      "execution_count": 19,
      "outputs": []
    },
    {
      "cell_type": "code",
      "metadata": {
        "colab": {
          "base_uri": "https://localhost:8080/",
          "height": 282
        },
        "id": "YkuqN1hrBsLB",
        "outputId": "a8abbdc6-6932-430c-c5db-4c776f4d7bf8"
      },
      "source": [
        "x_std = pca.transform(transformed)\n",
        "\n",
        "plt.figure()\n",
        "plt.scatter(x_std[:, 0], x_std[:, 1], c=y)"
      ],
      "execution_count": 20,
      "outputs": [
        {
          "output_type": "execute_result",
          "data": {
            "text/plain": [
              "<matplotlib.collections.PathCollection at 0x7f4b5db064d0>"
            ]
          },
          "metadata": {},
          "execution_count": 20
        },
        {
          "output_type": "display_data",
          "data": {
            "image/png": "[encoded data removed]",
            "text/plain": [
              "<Figure size 432x288 with 1 Axes>"
            ]
          },
          "metadata": {
            "needs_background": "light"
          }
        }
      ]
    }
  ]
}