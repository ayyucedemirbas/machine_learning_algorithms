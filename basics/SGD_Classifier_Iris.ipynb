{
 "cells": [
  {
   "cell_type": "code",
   "execution_count": null,
   "id": "d8c4a9fa",
   "metadata": {},
   "outputs": [],
   "source": [
    "Codes are from"
   ]
  },
  {
   "cell_type": "code",
   "execution_count": 1,
   "id": "4fca7dc1",
   "metadata": {},
   "outputs": [
    {
     "name": "stdout",
     "output_type": "stream",
     "text": [
      "SGDClassifier(tol=0.01)\n",
      "Training score:  0.8889411764705882\n",
      "[[242   5   2]\n",
      " [ 32 218  13]\n",
      " [  2  22 214]]\n",
      "              precision    recall  f1-score   support\n",
      "\n",
      "           0       0.88      0.97      0.92       249\n",
      "           1       0.89      0.83      0.86       263\n",
      "           2       0.93      0.90      0.92       238\n",
      "\n",
      "    accuracy                           0.90       750\n",
      "   macro avg       0.90      0.90      0.90       750\n",
      "weighted avg       0.90      0.90      0.90       750\n",
      "\n",
      "SGDClassifier(tol=0.01)\n",
      "Score:  0.937007874015748\n",
      "[[5 0 0]\n",
      " [0 7 0]\n",
      " [0 3 8]]\n",
      "              precision    recall  f1-score   support\n",
      "\n",
      "           0       1.00      1.00      1.00         5\n",
      "           1       0.70      1.00      0.82         7\n",
      "           2       1.00      0.73      0.84        11\n",
      "\n",
      "    accuracy                           0.87        23\n",
      "   macro avg       0.90      0.91      0.89        23\n",
      "weighted avg       0.91      0.87      0.87        23\n",
      "\n"
     ]
    }
   ],
   "source": [
    "from sklearn.linear_model import SGDClassifier\n",
    "from sklearn.datasets import load_iris\n",
    "from sklearn.datasets import make_classification\n",
    "from sklearn.model_selection import train_test_split\n",
    "from sklearn.metrics import confusion_matrix\n",
    "from sklearn.metrics import classification_report\n",
    "from sklearn.preprocessing import scale\n",
    "\n",
    "X, y = make_classification(n_samples=5000, n_features=10, \n",
    "                           n_classes=3, n_clusters_per_class=1)\n",
    "\n",
    "Xtrain, Xtest, ytrain, ytest=train_test_split(X, y, test_size=0.15)\n",
    "\n",
    "sgdc = SGDClassifier(max_iter=1000, tol=0.01)\n",
    "print(sgdc)\n",
    "\n",
    "sgdc.fit(Xtrain, ytrain)\n",
    "\n",
    "score = sgdc.score(Xtrain, ytrain)\n",
    "print(\"Training score: \", score)\n",
    "\n",
    "ypred = sgdc.predict(Xtest)\n",
    "cm = confusion_matrix(ytest, ypred)\n",
    "print(cm)\n",
    "\n",
    "cr = classification_report(ytest, ypred)\n",
    "print(cr)\n",
    "\n",
    "\n",
    "# Iris dataset example\n",
    "iris = load_iris()\n",
    "X, y = iris.data, iris.target\n",
    "X = scale(X)\n",
    "\n",
    "Xtrain, Xtest, ytrain, ytest=train_test_split(X, y, test_size=0.15)\n",
    "\n",
    "sgdc = SGDClassifier(max_iter=1000, tol=0.01)\n",
    "print(sgdc)\n",
    "\n",
    "sgdc.fit(Xtrain, ytrain)\n",
    "score = sgdc.score(Xtrain, ytrain)\n",
    "print(\"Score: \", score)\n",
    "\n",
    "ypred = sgdc.predict(Xtest)\n",
    "\n",
    "cm = confusion_matrix(ytest, ypred)\n",
    "print(cm)\n",
    "\n",
    "cr = classification_report(ytest, ypred)\n",
    "print(cr) "
   ]
  }
 ],
 "metadata": {
  "kernelspec": {
   "display_name": "Python 3 (ipykernel)",
   "language": "python",
   "name": "python3"
  },
  "language_info": {
   "codemirror_mode": {
    "name": "ipython",
    "version": 3
   },
   "file_extension": ".py",
   "mimetype": "text/x-python",
   "name": "python",
   "nbconvert_exporter": "python",
   "pygments_lexer": "ipython3",
   "version": "3.8.12"
  }
 },
 "nbformat": 4,
 "nbformat_minor": 5
}
