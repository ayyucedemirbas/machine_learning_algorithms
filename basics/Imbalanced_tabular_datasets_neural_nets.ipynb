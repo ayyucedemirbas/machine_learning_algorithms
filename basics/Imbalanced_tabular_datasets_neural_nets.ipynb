{
  "nbformat": 4,
  "nbformat_minor": 0,
  "metadata": {
    "colab": {
      "provenance": []
    },
    "kernelspec": {
      "name": "python3",
      "display_name": "Python 3"
    },
    "language_info": {
      "name": "python"
    },
    "accelerator": "GPU",
    "gpuClass": "standard"
  },
  "cells": [
    {
      "cell_type": "code",
      "execution_count": null,
      "metadata": {
        "id": "JYLEnp7BsDzZ"
      },
      "outputs": [],
      "source": [
        "import pandas as pd"
      ]
    },
    {
      "cell_type": "code",
      "source": [
        "import matplotlib.pyplot as plt"
      ],
      "metadata": {
        "id": "J7DlI6rL9WcT"
      },
      "execution_count": null,
      "outputs": []
    },
    {
      "cell_type": "code",
      "source": [
        "df = pd.read_csv(\"diabetes.csv\")\n",
        "df.head()"
      ],
      "metadata": {
        "colab": {
          "base_uri": "https://localhost:8080/",
          "height": 206
        },
        "id": "lii55oMCsZHg",
        "outputId": "db36a300-fce9-441e-9889-b9c6d66e7293"
      },
      "execution_count": null,
      "outputs": [
        {
          "output_type": "execute_result",
          "data": {
            "text/plain": [
              "   Pregnancies  Glucose  BloodPressure  SkinThickness  Insulin   BMI  \\\n",
              "0            6      148             72             35        0  33.6   \n",
              "1            1       85             66             29        0  26.6   \n",
              "2            8      183             64              0        0  23.3   \n",
              "3            1       89             66             23       94  28.1   \n",
              "4            0      137             40             35      168  43.1   \n",
              "\n",
              "   DiabetesPedigreeFunction  Age  Outcome  \n",
              "0                     0.627   50        1  \n",
              "1                     0.351   31        0  \n",
              "2                     0.672   32        1  \n",
              "3                     0.167   21        0  \n",
              "4                     2.288   33        1  "
            ],
            "text/html": [
              "\n",
              "  <div id=\"df-20e58398-87b6-43cd-932e-fbd9094277b9\">\n",
              "    <div class=\"colab-df-container\">\n",
              "      <div>\n",
              "<style scoped>\n",
              "    .dataframe tbody tr th:only-of-type {\n",
              "        vertical-align: middle;\n",
              "    }\n",
              "\n",
              "    .dataframe tbody tr th {\n",
              "        vertical-align: top;\n",
              "    }\n",
              "\n",
              "    .dataframe thead th {\n",
              "        text-align: right;\n",
              "    }\n",
              "</style>\n",
              "<table border=\"1\" class=\"dataframe\">\n",
              "  <thead>\n",
              "    <tr style=\"text-align: right;\">\n",
              "      <th></th>\n",
              "      <th>Pregnancies</th>\n",
              "      <th>Glucose</th>\n",
              "      <th>BloodPressure</th>\n",
              "      <th>SkinThickness</th>\n",
              "      <th>Insulin</th>\n",
              "      <th>BMI</th>\n",
              "      <th>DiabetesPedigreeFunction</th>\n",
              "      <th>Age</th>\n",
              "      <th>Outcome</th>\n",
              "    </tr>\n",
              "  </thead>\n",
              "  <tbody>\n",
              "    <tr>\n",
              "      <th>0</th>\n",
              "      <td>6</td>\n",
              "      <td>148</td>\n",
              "      <td>72</td>\n",
              "      <td>35</td>\n",
              "      <td>0</td>\n",
              "      <td>33.6</td>\n",
              "      <td>0.627</td>\n",
              "      <td>50</td>\n",
              "      <td>1</td>\n",
              "    </tr>\n",
              "    <tr>\n",
              "      <th>1</th>\n",
              "      <td>1</td>\n",
              "      <td>85</td>\n",
              "      <td>66</td>\n",
              "      <td>29</td>\n",
              "      <td>0</td>\n",
              "      <td>26.6</td>\n",
              "      <td>0.351</td>\n",
              "      <td>31</td>\n",
              "      <td>0</td>\n",
              "    </tr>\n",
              "    <tr>\n",
              "      <th>2</th>\n",
              "      <td>8</td>\n",
              "      <td>183</td>\n",
              "      <td>64</td>\n",
              "      <td>0</td>\n",
              "      <td>0</td>\n",
              "      <td>23.3</td>\n",
              "      <td>0.672</td>\n",
              "      <td>32</td>\n",
              "      <td>1</td>\n",
              "    </tr>\n",
              "    <tr>\n",
              "      <th>3</th>\n",
              "      <td>1</td>\n",
              "      <td>89</td>\n",
              "      <td>66</td>\n",
              "      <td>23</td>\n",
              "      <td>94</td>\n",
              "      <td>28.1</td>\n",
              "      <td>0.167</td>\n",
              "      <td>21</td>\n",
              "      <td>0</td>\n",
              "    </tr>\n",
              "    <tr>\n",
              "      <th>4</th>\n",
              "      <td>0</td>\n",
              "      <td>137</td>\n",
              "      <td>40</td>\n",
              "      <td>35</td>\n",
              "      <td>168</td>\n",
              "      <td>43.1</td>\n",
              "      <td>2.288</td>\n",
              "      <td>33</td>\n",
              "      <td>1</td>\n",
              "    </tr>\n",
              "  </tbody>\n",
              "</table>\n",
              "</div>\n",
              "      <button class=\"colab-df-convert\" onclick=\"convertToInteractive('df-20e58398-87b6-43cd-932e-fbd9094277b9')\"\n",
              "              title=\"Convert this dataframe to an interactive table.\"\n",
              "              style=\"display:none;\">\n",
              "        \n",
              "  <svg xmlns=\"http://www.w3.org/2000/svg\" height=\"24px\"viewBox=\"0 0 24 24\"\n",
              "       width=\"24px\">\n",
              "    <path d=\"M0 0h24v24H0V0z\" fill=\"none\"/>\n",
              "    <path d=\"M18.56 5.44l.94 2.06.94-2.06 2.06-.94-2.06-.94-.94-2.06-.94 2.06-2.06.94zm-11 1L8.5 8.5l.94-2.06 2.06-.94-2.06-.94L8.5 2.5l-.94 2.06-2.06.94zm10 10l.94 2.06.94-2.06 2.06-.94-2.06-.94-.94-2.06-.94 2.06-2.06.94z\"/><path d=\"M17.41 7.96l-1.37-1.37c-.4-.4-.92-.59-1.43-.59-.52 0-1.04.2-1.43.59L10.3 9.45l-7.72 7.72c-.78.78-.78 2.05 0 2.83L4 21.41c.39.39.9.59 1.41.59.51 0 1.02-.2 1.41-.59l7.78-7.78 2.81-2.81c.8-.78.8-2.07 0-2.86zM5.41 20L4 18.59l7.72-7.72 1.47 1.35L5.41 20z\"/>\n",
              "  </svg>\n",
              "      </button>\n",
              "      \n",
              "  <style>\n",
              "    .colab-df-container {\n",
              "      display:flex;\n",
              "      flex-wrap:wrap;\n",
              "      gap: 12px;\n",
              "    }\n",
              "\n",
              "    .colab-df-convert {\n",
              "      background-color: #E8F0FE;\n",
              "      border: none;\n",
              "      border-radius: 50%;\n",
              "      cursor: pointer;\n",
              "      display: none;\n",
              "      fill: #1967D2;\n",
              "      height: 32px;\n",
              "      padding: 0 0 0 0;\n",
              "      width: 32px;\n",
              "    }\n",
              "\n",
              "    .colab-df-convert:hover {\n",
              "      background-color: #E2EBFA;\n",
              "      box-shadow: 0px 1px 2px rgba(60, 64, 67, 0.3), 0px 1px 3px 1px rgba(60, 64, 67, 0.15);\n",
              "      fill: #174EA6;\n",
              "    }\n",
              "\n",
              "    [theme=dark] .colab-df-convert {\n",
              "      background-color: #3B4455;\n",
              "      fill: #D2E3FC;\n",
              "    }\n",
              "\n",
              "    [theme=dark] .colab-df-convert:hover {\n",
              "      background-color: #434B5C;\n",
              "      box-shadow: 0px 1px 3px 1px rgba(0, 0, 0, 0.15);\n",
              "      filter: drop-shadow(0px 1px 2px rgba(0, 0, 0, 0.3));\n",
              "      fill: #FFFFFF;\n",
              "    }\n",
              "  </style>\n",
              "\n",
              "      <script>\n",
              "        const buttonEl =\n",
              "          document.querySelector('#df-20e58398-87b6-43cd-932e-fbd9094277b9 button.colab-df-convert');\n",
              "        buttonEl.style.display =\n",
              "          google.colab.kernel.accessAllowed ? 'block' : 'none';\n",
              "\n",
              "        async function convertToInteractive(key) {\n",
              "          const element = document.querySelector('#df-20e58398-87b6-43cd-932e-fbd9094277b9');\n",
              "          const dataTable =\n",
              "            await google.colab.kernel.invokeFunction('convertToInteractive',\n",
              "                                                     [key], {});\n",
              "          if (!dataTable) return;\n",
              "\n",
              "          const docLinkHtml = 'Like what you see? Visit the ' +\n",
              "            '<a target=\"_blank\" href=https://colab.research.google.com/notebooks/data_table.ipynb>data table notebook</a>'\n",
              "            + ' to learn more about interactive tables.';\n",
              "          element.innerHTML = '';\n",
              "          dataTable['output_type'] = 'display_data';\n",
              "          await google.colab.output.renderOutput(dataTable, element);\n",
              "          const docLink = document.createElement('div');\n",
              "          docLink.innerHTML = docLinkHtml;\n",
              "          element.appendChild(docLink);\n",
              "        }\n",
              "      </script>\n",
              "    </div>\n",
              "  </div>\n",
              "  "
            ]
          },
          "metadata": {},
          "execution_count": 3
        }
      ]
    },
    {
      "cell_type": "code",
      "source": [
        "df['Outcome'].value_counts()"
      ],
      "metadata": {
        "colab": {
          "base_uri": "https://localhost:8080/"
        },
        "id": "agLSUk1XsrEt",
        "outputId": "fcf026eb-8736-4e35-a7c0-90a21a79edb4"
      },
      "execution_count": null,
      "outputs": [
        {
          "output_type": "execute_result",
          "data": {
            "text/plain": [
              "0    500\n",
              "1    268\n",
              "Name: Outcome, dtype: int64"
            ]
          },
          "metadata": {},
          "execution_count": 4
        }
      ]
    },
    {
      "cell_type": "code",
      "source": [
        "df['Outcome'].value_counts()[0]"
      ],
      "metadata": {
        "id": "3ErANKT3B8ai",
        "outputId": "7cbbd683-eebe-425f-9786-f5dcb254d4f4",
        "colab": {
          "base_uri": "https://localhost:8080/"
        }
      },
      "execution_count": null,
      "outputs": [
        {
          "output_type": "execute_result",
          "data": {
            "text/plain": [
              "500"
            ]
          },
          "metadata": {},
          "execution_count": 5
        }
      ]
    },
    {
      "cell_type": "code",
      "source": [
        "df['Outcome'].value_counts()[1]"
      ],
      "metadata": {
        "id": "k2wNR_McCLTX",
        "outputId": "064e965e-310f-4332-95b5-4c56581142ea",
        "colab": {
          "base_uri": "https://localhost:8080/"
        }
      },
      "execution_count": null,
      "outputs": [
        {
          "output_type": "execute_result",
          "data": {
            "text/plain": [
              "268"
            ]
          },
          "metadata": {},
          "execution_count": 6
        }
      ]
    },
    {
      "cell_type": "code",
      "source": [
        "df.isnull().values.any()"
      ],
      "metadata": {
        "id": "IVxVtkpvy_0K",
        "outputId": "8334ca27-ec5b-4167-d55f-83f06cba2b74",
        "colab": {
          "base_uri": "https://localhost:8080/"
        }
      },
      "execution_count": null,
      "outputs": [
        {
          "output_type": "execute_result",
          "data": {
            "text/plain": [
              "False"
            ]
          },
          "metadata": {},
          "execution_count": 7
        }
      ]
    },
    {
      "cell_type": "code",
      "source": [
        "!pip install imblearn"
      ],
      "metadata": {
        "colab": {
          "base_uri": "https://localhost:8080/"
        },
        "id": "oc-QA_94u_R3",
        "outputId": "7c63d86c-6bab-4821-c680-a1f59a2ac498"
      },
      "execution_count": null,
      "outputs": [
        {
          "output_type": "stream",
          "name": "stdout",
          "text": [
            "Looking in indexes: https://pypi.org/simple, https://us-python.pkg.dev/colab-wheels/public/simple/\n",
            "Requirement already satisfied: imblearn in /usr/local/lib/python3.7/dist-packages (0.0)\n",
            "Requirement already satisfied: imbalanced-learn in /usr/local/lib/python3.7/dist-packages (from imblearn) (0.8.1)\n",
            "Requirement already satisfied: joblib>=0.11 in /usr/local/lib/python3.7/dist-packages (from imbalanced-learn->imblearn) (1.2.0)\n",
            "Requirement already satisfied: scikit-learn>=0.24 in /usr/local/lib/python3.7/dist-packages (from imbalanced-learn->imblearn) (1.0.2)\n",
            "Requirement already satisfied: numpy>=1.13.3 in /usr/local/lib/python3.7/dist-packages (from imbalanced-learn->imblearn) (1.21.6)\n",
            "Requirement already satisfied: scipy>=0.19.1 in /usr/local/lib/python3.7/dist-packages (from imbalanced-learn->imblearn) (1.7.3)\n",
            "Requirement already satisfied: threadpoolctl>=2.0.0 in /usr/local/lib/python3.7/dist-packages (from scikit-learn>=0.24->imbalanced-learn->imblearn) (3.1.0)\n"
          ]
        }
      ]
    },
    {
      "cell_type": "code",
      "source": [
        "df_min=df.min(axis=0)"
      ],
      "metadata": {
        "id": "fCGtrUZvUoXJ"
      },
      "execution_count": null,
      "outputs": []
    },
    {
      "cell_type": "code",
      "source": [
        "df_min"
      ],
      "metadata": {
        "id": "jCGzAe4mUpYc",
        "outputId": "78d3cc9b-ae57-4a2a-b0a2-b5486cb7ebe4",
        "colab": {
          "base_uri": "https://localhost:8080/"
        }
      },
      "execution_count": null,
      "outputs": [
        {
          "output_type": "execute_result",
          "data": {
            "text/plain": [
              "Pregnancies                  0.000\n",
              "Glucose                      0.000\n",
              "BloodPressure                0.000\n",
              "SkinThickness                0.000\n",
              "Insulin                      0.000\n",
              "BMI                          0.000\n",
              "DiabetesPedigreeFunction     0.078\n",
              "Age                         21.000\n",
              "Outcome                      0.000\n",
              "dtype: float64"
            ]
          },
          "metadata": {},
          "execution_count": 10
        }
      ]
    },
    {
      "cell_type": "code",
      "source": [
        "df_max=df.max(axis=0)"
      ],
      "metadata": {
        "id": "rHompwq2WZbZ"
      },
      "execution_count": null,
      "outputs": []
    },
    {
      "cell_type": "code",
      "source": [
        "import pandas as pd\n",
        "import matplotlib.pyplot as plt\n",
        "\n",
        "from imblearn.over_sampling import SMOTE\n",
        "\n",
        "# for reproducibility purposes\n",
        "seed = 100\n",
        "# SMOTE number of neighbors\n",
        "k = 8\n",
        "\n",
        "#df = pd.read_csv('diabetes.csv', encoding='utf-8', engine='python')\n",
        "# make a new df made of all the columns, except the target class\n",
        "X = df.loc[:, df.columns != 'Outcome']\n",
        "y = df.Outcome\n",
        "sm = SMOTE(sampling_strategy='auto', k_neighbors=k, random_state=seed)\n",
        "X_res, y_res = sm.fit_resample(X, y)\n",
        "\n",
        "\n",
        "\n",
        "df_balance = pd.concat([pd.DataFrame(X_res), pd.DataFrame(y_res)], axis=1)\n",
        "# rename the columns\n",
        "df_balance.columns = ['Pregnancies', 'Glucose','BloodPressure', 'SkinThickness', 'Insulin', \n",
        "              'BMI', 'DiabetesPedigreeFunction', 'Age', 'Outcome']\n",
        "df_balance.to_csv('df_smoted.csv', index=False, encoding='utf-8')"
      ],
      "metadata": {
        "id": "OjMOciSXu94H"
      },
      "execution_count": null,
      "outputs": []
    },
    {
      "cell_type": "code",
      "source": [
        "df_balanced = pd.read_csv(\"df_smoted.csv\")\n",
        "df_balanced.head()"
      ],
      "metadata": {
        "colab": {
          "base_uri": "https://localhost:8080/",
          "height": 206
        },
        "id": "rPHVmUBfwb7J",
        "outputId": "815889dd-d397-4759-d20b-276b983feaa0"
      },
      "execution_count": null,
      "outputs": [
        {
          "output_type": "execute_result",
          "data": {
            "text/plain": [
              "   Pregnancies  Glucose  BloodPressure  SkinThickness  Insulin   BMI  \\\n",
              "0            6      148             72             35        0  33.6   \n",
              "1            1       85             66             29        0  26.6   \n",
              "2            8      183             64              0        0  23.3   \n",
              "3            1       89             66             23       94  28.1   \n",
              "4            0      137             40             35      168  43.1   \n",
              "\n",
              "   DiabetesPedigreeFunction  Age  Outcome  \n",
              "0                     0.627   50        1  \n",
              "1                     0.351   31        0  \n",
              "2                     0.672   32        1  \n",
              "3                     0.167   21        0  \n",
              "4                     2.288   33        1  "
            ],
            "text/html": [
              "\n",
              "  <div id=\"df-7bf71c28-8eed-45a2-ac73-675069fc1893\">\n",
              "    <div class=\"colab-df-container\">\n",
              "      <div>\n",
              "<style scoped>\n",
              "    .dataframe tbody tr th:only-of-type {\n",
              "        vertical-align: middle;\n",
              "    }\n",
              "\n",
              "    .dataframe tbody tr th {\n",
              "        vertical-align: top;\n",
              "    }\n",
              "\n",
              "    .dataframe thead th {\n",
              "        text-align: right;\n",
              "    }\n",
              "</style>\n",
              "<table border=\"1\" class=\"dataframe\">\n",
              "  <thead>\n",
              "    <tr style=\"text-align: right;\">\n",
              "      <th></th>\n",
              "      <th>Pregnancies</th>\n",
              "      <th>Glucose</th>\n",
              "      <th>BloodPressure</th>\n",
              "      <th>SkinThickness</th>\n",
              "      <th>Insulin</th>\n",
              "      <th>BMI</th>\n",
              "      <th>DiabetesPedigreeFunction</th>\n",
              "      <th>Age</th>\n",
              "      <th>Outcome</th>\n",
              "    </tr>\n",
              "  </thead>\n",
              "  <tbody>\n",
              "    <tr>\n",
              "      <th>0</th>\n",
              "      <td>6</td>\n",
              "      <td>148</td>\n",
              "      <td>72</td>\n",
              "      <td>35</td>\n",
              "      <td>0</td>\n",
              "      <td>33.6</td>\n",
              "      <td>0.627</td>\n",
              "      <td>50</td>\n",
              "      <td>1</td>\n",
              "    </tr>\n",
              "    <tr>\n",
              "      <th>1</th>\n",
              "      <td>1</td>\n",
              "      <td>85</td>\n",
              "      <td>66</td>\n",
              "      <td>29</td>\n",
              "      <td>0</td>\n",
              "      <td>26.6</td>\n",
              "      <td>0.351</td>\n",
              "      <td>31</td>\n",
              "      <td>0</td>\n",
              "    </tr>\n",
              "    <tr>\n",
              "      <th>2</th>\n",
              "      <td>8</td>\n",
              "      <td>183</td>\n",
              "      <td>64</td>\n",
              "      <td>0</td>\n",
              "      <td>0</td>\n",
              "      <td>23.3</td>\n",
              "      <td>0.672</td>\n",
              "      <td>32</td>\n",
              "      <td>1</td>\n",
              "    </tr>\n",
              "    <tr>\n",
              "      <th>3</th>\n",
              "      <td>1</td>\n",
              "      <td>89</td>\n",
              "      <td>66</td>\n",
              "      <td>23</td>\n",
              "      <td>94</td>\n",
              "      <td>28.1</td>\n",
              "      <td>0.167</td>\n",
              "      <td>21</td>\n",
              "      <td>0</td>\n",
              "    </tr>\n",
              "    <tr>\n",
              "      <th>4</th>\n",
              "      <td>0</td>\n",
              "      <td>137</td>\n",
              "      <td>40</td>\n",
              "      <td>35</td>\n",
              "      <td>168</td>\n",
              "      <td>43.1</td>\n",
              "      <td>2.288</td>\n",
              "      <td>33</td>\n",
              "      <td>1</td>\n",
              "    </tr>\n",
              "  </tbody>\n",
              "</table>\n",
              "</div>\n",
              "      <button class=\"colab-df-convert\" onclick=\"convertToInteractive('df-7bf71c28-8eed-45a2-ac73-675069fc1893')\"\n",
              "              title=\"Convert this dataframe to an interactive table.\"\n",
              "              style=\"display:none;\">\n",
              "        \n",
              "  <svg xmlns=\"http://www.w3.org/2000/svg\" height=\"24px\"viewBox=\"0 0 24 24\"\n",
              "       width=\"24px\">\n",
              "    <path d=\"M0 0h24v24H0V0z\" fill=\"none\"/>\n",
              "    <path d=\"M18.56 5.44l.94 2.06.94-2.06 2.06-.94-2.06-.94-.94-2.06-.94 2.06-2.06.94zm-11 1L8.5 8.5l.94-2.06 2.06-.94-2.06-.94L8.5 2.5l-.94 2.06-2.06.94zm10 10l.94 2.06.94-2.06 2.06-.94-2.06-.94-.94-2.06-.94 2.06-2.06.94z\"/><path d=\"M17.41 7.96l-1.37-1.37c-.4-.4-.92-.59-1.43-.59-.52 0-1.04.2-1.43.59L10.3 9.45l-7.72 7.72c-.78.78-.78 2.05 0 2.83L4 21.41c.39.39.9.59 1.41.59.51 0 1.02-.2 1.41-.59l7.78-7.78 2.81-2.81c.8-.78.8-2.07 0-2.86zM5.41 20L4 18.59l7.72-7.72 1.47 1.35L5.41 20z\"/>\n",
              "  </svg>\n",
              "      </button>\n",
              "      \n",
              "  <style>\n",
              "    .colab-df-container {\n",
              "      display:flex;\n",
              "      flex-wrap:wrap;\n",
              "      gap: 12px;\n",
              "    }\n",
              "\n",
              "    .colab-df-convert {\n",
              "      background-color: #E8F0FE;\n",
              "      border: none;\n",
              "      border-radius: 50%;\n",
              "      cursor: pointer;\n",
              "      display: none;\n",
              "      fill: #1967D2;\n",
              "      height: 32px;\n",
              "      padding: 0 0 0 0;\n",
              "      width: 32px;\n",
              "    }\n",
              "\n",
              "    .colab-df-convert:hover {\n",
              "      background-color: #E2EBFA;\n",
              "      box-shadow: 0px 1px 2px rgba(60, 64, 67, 0.3), 0px 1px 3px 1px rgba(60, 64, 67, 0.15);\n",
              "      fill: #174EA6;\n",
              "    }\n",
              "\n",
              "    [theme=dark] .colab-df-convert {\n",
              "      background-color: #3B4455;\n",
              "      fill: #D2E3FC;\n",
              "    }\n",
              "\n",
              "    [theme=dark] .colab-df-convert:hover {\n",
              "      background-color: #434B5C;\n",
              "      box-shadow: 0px 1px 3px 1px rgba(0, 0, 0, 0.15);\n",
              "      filter: drop-shadow(0px 1px 2px rgba(0, 0, 0, 0.3));\n",
              "      fill: #FFFFFF;\n",
              "    }\n",
              "  </style>\n",
              "\n",
              "      <script>\n",
              "        const buttonEl =\n",
              "          document.querySelector('#df-7bf71c28-8eed-45a2-ac73-675069fc1893 button.colab-df-convert');\n",
              "        buttonEl.style.display =\n",
              "          google.colab.kernel.accessAllowed ? 'block' : 'none';\n",
              "\n",
              "        async function convertToInteractive(key) {\n",
              "          const element = document.querySelector('#df-7bf71c28-8eed-45a2-ac73-675069fc1893');\n",
              "          const dataTable =\n",
              "            await google.colab.kernel.invokeFunction('convertToInteractive',\n",
              "                                                     [key], {});\n",
              "          if (!dataTable) return;\n",
              "\n",
              "          const docLinkHtml = 'Like what you see? Visit the ' +\n",
              "            '<a target=\"_blank\" href=https://colab.research.google.com/notebooks/data_table.ipynb>data table notebook</a>'\n",
              "            + ' to learn more about interactive tables.';\n",
              "          element.innerHTML = '';\n",
              "          dataTable['output_type'] = 'display_data';\n",
              "          await google.colab.output.renderOutput(dataTable, element);\n",
              "          const docLink = document.createElement('div');\n",
              "          docLink.innerHTML = docLinkHtml;\n",
              "          element.appendChild(docLink);\n",
              "        }\n",
              "      </script>\n",
              "    </div>\n",
              "  </div>\n",
              "  "
            ]
          },
          "metadata": {},
          "execution_count": 8
        }
      ]
    },
    {
      "cell_type": "code",
      "source": [
        "df_balanced['Outcome'].value_counts()"
      ],
      "metadata": {
        "colab": {
          "base_uri": "https://localhost:8080/"
        },
        "id": "cPgR0wV8wlyR",
        "outputId": "c887f354-6e4a-4fd8-a049-731f9c31cda9"
      },
      "execution_count": null,
      "outputs": [
        {
          "output_type": "execute_result",
          "data": {
            "text/plain": [
              "1    500\n",
              "0    500\n",
              "Name: Outcome, dtype: int64"
            ]
          },
          "metadata": {},
          "execution_count": 9
        }
      ]
    },
    {
      "cell_type": "code",
      "source": [
        "X = df_balanced.loc[:, df_balanced.columns != 'Outcome']"
      ],
      "metadata": {
        "id": "Dcslt7oFwo0X"
      },
      "execution_count": null,
      "outputs": []
    },
    {
      "cell_type": "code",
      "source": [
        "y = df_balanced.Outcome"
      ],
      "metadata": {
        "id": "9JEkXycGyvnE"
      },
      "execution_count": null,
      "outputs": []
    },
    {
      "cell_type": "code",
      "source": [
        "from sklearn.model_selection import train_test_split"
      ],
      "metadata": {
        "id": "yWHM0uudy6s_"
      },
      "execution_count": null,
      "outputs": []
    },
    {
      "cell_type": "code",
      "source": [
        "X_train, X_test, y_train, y_test = train_test_split(X, y,test_size=0.2)"
      ],
      "metadata": {
        "id": "xQVnEADYy7nh"
      },
      "execution_count": null,
      "outputs": []
    },
    {
      "cell_type": "code",
      "source": [
        "mean=X_train.mean(axis=0)"
      ],
      "metadata": {
        "id": "MqcV3qlFsF86"
      },
      "execution_count": null,
      "outputs": []
    },
    {
      "cell_type": "code",
      "source": [
        "mean"
      ],
      "metadata": {
        "colab": {
          "base_uri": "https://localhost:8080/"
        },
        "id": "rOo76kFFsNNX",
        "outputId": "f224a474-a8b7-469d-9e36-f5823523ae8f"
      },
      "execution_count": null,
      "outputs": [
        {
          "output_type": "execute_result",
          "data": {
            "text/plain": [
              "Pregnancies                   4.020000\n",
              "Glucose                     126.142500\n",
              "BloodPressure                68.610000\n",
              "SkinThickness                20.686250\n",
              "Insulin                      83.922500\n",
              "BMI                          32.697597\n",
              "DiabetesPedigreeFunction      0.483649\n",
              "Age                          34.065000\n",
              "dtype: float64"
            ]
          },
          "metadata": {},
          "execution_count": 15
        }
      ]
    },
    {
      "cell_type": "code",
      "source": [
        "X_train -= mean"
      ],
      "metadata": {
        "id": "Hr7585BpsPuO"
      },
      "execution_count": null,
      "outputs": []
    },
    {
      "cell_type": "code",
      "source": [
        "std=X_train.std(axis=0)"
      ],
      "metadata": {
        "id": "_wimabFYsVUC"
      },
      "execution_count": null,
      "outputs": []
    },
    {
      "cell_type": "code",
      "source": [
        "X_train /= std"
      ],
      "metadata": {
        "id": "nzFOvjFFsa6k"
      },
      "execution_count": null,
      "outputs": []
    },
    {
      "cell_type": "code",
      "source": [
        "X_test -= mean"
      ],
      "metadata": {
        "id": "HHDOHexpsmR1"
      },
      "execution_count": null,
      "outputs": []
    },
    {
      "cell_type": "code",
      "source": [
        "X_test /= std"
      ],
      "metadata": {
        "id": "4AX-MYWbssnA"
      },
      "execution_count": null,
      "outputs": []
    },
    {
      "cell_type": "markdown",
      "source": [
        "The quantities used for normalizing the test data are computed using the training data. You should never use any quantity computed on the test data in your workflow."
      ],
      "metadata": {
        "id": "FhKfmK_RtEPa"
      }
    },
    {
      "cell_type": "code",
      "source": [
        "import tensorflow as tf"
      ],
      "metadata": {
        "id": "qRhV8GxAzCLu"
      },
      "execution_count": null,
      "outputs": []
    },
    {
      "cell_type": "code",
      "source": [
        "X_train.shape"
      ],
      "metadata": {
        "colab": {
          "base_uri": "https://localhost:8080/"
        },
        "id": "VnxgGdEazkF9",
        "outputId": "8c93cf96-56a9-4d7b-d213-e3dd43292895"
      },
      "execution_count": null,
      "outputs": [
        {
          "output_type": "execute_result",
          "data": {
            "text/plain": [
              "(800, 8)"
            ]
          },
          "metadata": {},
          "execution_count": 22
        }
      ]
    },
    {
      "cell_type": "code",
      "source": [
        "from tensorflow.keras.models import Sequential\n",
        "from tensorflow.keras.layers import Dense\n",
        "from tensorflow.keras import regularizers"
      ],
      "metadata": {
        "id": "J9UYhxo37WyA"
      },
      "execution_count": null,
      "outputs": []
    },
    {
      "cell_type": "code",
      "source": [
        "model = tf.keras.Sequential([\n",
        "    Dense(16, activation='relu', input_shape=(X_train.shape[1],),\n",
        "          kernel_regularizer=regularizers.l1_l2(l1=1e-5, l2=1e-4)),\n",
        "    tf.keras.layers.BatchNormalization(),\n",
        "    Dense(8, activation='relu'),\n",
        "    Dense(1, activation='sigmoid')        \n",
        "])"
      ],
      "metadata": {
        "id": "ivGALmEPzb0j"
      },
      "execution_count": null,
      "outputs": []
    },
    {
      "cell_type": "code",
      "source": [
        "def get_early_stopping():\n",
        "    return tf.keras.callbacks.EarlyStopping(monitor='val_loss', patience=5)"
      ],
      "metadata": {
        "id": "P9vLzRLzuRtt"
      },
      "execution_count": null,
      "outputs": []
    },
    {
      "cell_type": "code",
      "source": [
        "early_stopping = get_early_stopping()\n",
        "callbacks = [early_stopping]"
      ],
      "metadata": {
        "id": "1LjVHNa6uXud"
      },
      "execution_count": null,
      "outputs": []
    },
    {
      "cell_type": "code",
      "source": [
        "model.compile(optimizer='rmsprop', loss='binary_crossentropy', metrics=['accuracy'])"
      ],
      "metadata": {
        "id": "LzEQR8FzzrGc"
      },
      "execution_count": null,
      "outputs": []
    },
    {
      "cell_type": "code",
      "source": [
        "history = model.fit(X_train, y_train, epochs=100, batch_size=16, \n",
        "                    validation_data= (X_test, y_test), callbacks=callbacks)"
      ],
      "metadata": {
        "colab": {
          "base_uri": "https://localhost:8080/"
        },
        "id": "PlE8Xk8D0Jso",
        "outputId": "66e17126-c3a1-4ff9-fccd-00e122531280"
      },
      "execution_count": null,
      "outputs": [
        {
          "output_type": "stream",
          "name": "stdout",
          "text": [
            "Epoch 1/100\n",
            "50/50 [==============================] - 2s 9ms/step - loss: 0.6500 - accuracy: 0.6012 - val_loss: 0.6449 - val_accuracy: 0.6050\n",
            "Epoch 2/100\n",
            "50/50 [==============================] - 0s 5ms/step - loss: 0.5777 - accuracy: 0.7088 - val_loss: 0.5882 - val_accuracy: 0.6950\n",
            "Epoch 3/100\n",
            "50/50 [==============================] - 0s 4ms/step - loss: 0.5477 - accuracy: 0.7362 - val_loss: 0.5440 - val_accuracy: 0.7650\n",
            "Epoch 4/100\n",
            "50/50 [==============================] - 0s 5ms/step - loss: 0.5103 - accuracy: 0.7675 - val_loss: 0.5150 - val_accuracy: 0.7850\n",
            "Epoch 5/100\n",
            "50/50 [==============================] - 0s 5ms/step - loss: 0.4990 - accuracy: 0.7825 - val_loss: 0.4979 - val_accuracy: 0.7700\n",
            "Epoch 6/100\n",
            "50/50 [==============================] - 0s 4ms/step - loss: 0.4844 - accuracy: 0.7775 - val_loss: 0.4879 - val_accuracy: 0.7800\n",
            "Epoch 7/100\n",
            "50/50 [==============================] - 0s 4ms/step - loss: 0.4848 - accuracy: 0.7800 - val_loss: 0.4817 - val_accuracy: 0.7800\n",
            "Epoch 8/100\n",
            "50/50 [==============================] - 0s 5ms/step - loss: 0.4804 - accuracy: 0.7862 - val_loss: 0.4799 - val_accuracy: 0.7950\n",
            "Epoch 9/100\n",
            "50/50 [==============================] - 0s 4ms/step - loss: 0.4793 - accuracy: 0.7700 - val_loss: 0.4788 - val_accuracy: 0.7900\n",
            "Epoch 10/100\n",
            "50/50 [==============================] - 0s 4ms/step - loss: 0.4725 - accuracy: 0.7763 - val_loss: 0.4777 - val_accuracy: 0.7850\n",
            "Epoch 11/100\n",
            "50/50 [==============================] - 0s 4ms/step - loss: 0.4821 - accuracy: 0.7763 - val_loss: 0.4772 - val_accuracy: 0.7900\n",
            "Epoch 12/100\n",
            "50/50 [==============================] - 0s 5ms/step - loss: 0.4584 - accuracy: 0.7812 - val_loss: 0.4772 - val_accuracy: 0.7850\n",
            "Epoch 13/100\n",
            "50/50 [==============================] - 0s 4ms/step - loss: 0.4474 - accuracy: 0.8012 - val_loss: 0.4778 - val_accuracy: 0.7900\n",
            "Epoch 14/100\n",
            "50/50 [==============================] - 0s 5ms/step - loss: 0.4587 - accuracy: 0.7775 - val_loss: 0.4783 - val_accuracy: 0.7800\n",
            "Epoch 15/100\n",
            "50/50 [==============================] - 0s 5ms/step - loss: 0.4639 - accuracy: 0.7725 - val_loss: 0.4763 - val_accuracy: 0.7800\n",
            "Epoch 16/100\n",
            "50/50 [==============================] - 0s 5ms/step - loss: 0.4671 - accuracy: 0.7875 - val_loss: 0.4741 - val_accuracy: 0.7750\n",
            "Epoch 17/100\n",
            "50/50 [==============================] - 0s 5ms/step - loss: 0.4562 - accuracy: 0.7837 - val_loss: 0.4737 - val_accuracy: 0.7700\n",
            "Epoch 18/100\n",
            "50/50 [==============================] - 0s 4ms/step - loss: 0.4442 - accuracy: 0.8000 - val_loss: 0.4737 - val_accuracy: 0.7750\n",
            "Epoch 19/100\n",
            "50/50 [==============================] - 0s 5ms/step - loss: 0.4572 - accuracy: 0.7775 - val_loss: 0.4726 - val_accuracy: 0.7750\n",
            "Epoch 20/100\n",
            "50/50 [==============================] - 0s 5ms/step - loss: 0.4423 - accuracy: 0.8037 - val_loss: 0.4749 - val_accuracy: 0.7700\n",
            "Epoch 21/100\n",
            "50/50 [==============================] - 0s 4ms/step - loss: 0.4639 - accuracy: 0.7788 - val_loss: 0.4723 - val_accuracy: 0.7700\n",
            "Epoch 22/100\n",
            "50/50 [==============================] - 0s 5ms/step - loss: 0.4390 - accuracy: 0.7900 - val_loss: 0.4724 - val_accuracy: 0.7700\n",
            "Epoch 23/100\n",
            "50/50 [==============================] - 0s 4ms/step - loss: 0.4428 - accuracy: 0.7962 - val_loss: 0.4720 - val_accuracy: 0.7750\n",
            "Epoch 24/100\n",
            "50/50 [==============================] - 0s 4ms/step - loss: 0.4454 - accuracy: 0.8012 - val_loss: 0.4700 - val_accuracy: 0.7700\n",
            "Epoch 25/100\n",
            "50/50 [==============================] - 0s 4ms/step - loss: 0.4404 - accuracy: 0.7800 - val_loss: 0.4684 - val_accuracy: 0.7700\n",
            "Epoch 26/100\n",
            "50/50 [==============================] - 0s 4ms/step - loss: 0.4540 - accuracy: 0.7937 - val_loss: 0.4666 - val_accuracy: 0.7750\n",
            "Epoch 27/100\n",
            "50/50 [==============================] - 0s 5ms/step - loss: 0.4371 - accuracy: 0.7937 - val_loss: 0.4678 - val_accuracy: 0.7700\n",
            "Epoch 28/100\n",
            "50/50 [==============================] - 0s 5ms/step - loss: 0.4447 - accuracy: 0.7925 - val_loss: 0.4676 - val_accuracy: 0.7650\n",
            "Epoch 29/100\n",
            "50/50 [==============================] - 0s 4ms/step - loss: 0.4304 - accuracy: 0.7987 - val_loss: 0.4662 - val_accuracy: 0.7700\n",
            "Epoch 30/100\n",
            "50/50 [==============================] - 0s 4ms/step - loss: 0.4362 - accuracy: 0.7825 - val_loss: 0.4658 - val_accuracy: 0.7700\n",
            "Epoch 31/100\n",
            "50/50 [==============================] - 0s 4ms/step - loss: 0.4184 - accuracy: 0.8050 - val_loss: 0.4679 - val_accuracy: 0.7650\n",
            "Epoch 32/100\n",
            "50/50 [==============================] - 0s 4ms/step - loss: 0.4422 - accuracy: 0.7950 - val_loss: 0.4677 - val_accuracy: 0.7650\n",
            "Epoch 33/100\n",
            "50/50 [==============================] - 0s 4ms/step - loss: 0.4439 - accuracy: 0.7937 - val_loss: 0.4656 - val_accuracy: 0.7600\n",
            "Epoch 34/100\n",
            "50/50 [==============================] - 0s 5ms/step - loss: 0.4465 - accuracy: 0.7950 - val_loss: 0.4647 - val_accuracy: 0.7650\n",
            "Epoch 35/100\n",
            "50/50 [==============================] - 0s 4ms/step - loss: 0.4244 - accuracy: 0.7937 - val_loss: 0.4636 - val_accuracy: 0.7650\n",
            "Epoch 36/100\n",
            "50/50 [==============================] - 0s 5ms/step - loss: 0.4393 - accuracy: 0.7925 - val_loss: 0.4605 - val_accuracy: 0.7650\n",
            "Epoch 37/100\n",
            "50/50 [==============================] - 0s 4ms/step - loss: 0.4210 - accuracy: 0.7987 - val_loss: 0.4604 - val_accuracy: 0.7700\n",
            "Epoch 38/100\n",
            "50/50 [==============================] - 0s 5ms/step - loss: 0.4252 - accuracy: 0.8037 - val_loss: 0.4603 - val_accuracy: 0.7700\n",
            "Epoch 39/100\n",
            "50/50 [==============================] - 0s 4ms/step - loss: 0.4303 - accuracy: 0.7925 - val_loss: 0.4582 - val_accuracy: 0.7700\n",
            "Epoch 40/100\n",
            "50/50 [==============================] - 0s 5ms/step - loss: 0.4231 - accuracy: 0.8037 - val_loss: 0.4566 - val_accuracy: 0.7750\n",
            "Epoch 41/100\n",
            "50/50 [==============================] - 0s 4ms/step - loss: 0.4474 - accuracy: 0.7887 - val_loss: 0.4556 - val_accuracy: 0.7650\n",
            "Epoch 42/100\n",
            "50/50 [==============================] - 0s 4ms/step - loss: 0.4295 - accuracy: 0.8062 - val_loss: 0.4586 - val_accuracy: 0.7750\n",
            "Epoch 43/100\n",
            "50/50 [==============================] - 0s 4ms/step - loss: 0.4286 - accuracy: 0.8037 - val_loss: 0.4605 - val_accuracy: 0.7750\n",
            "Epoch 44/100\n",
            "50/50 [==============================] - 0s 4ms/step - loss: 0.4245 - accuracy: 0.7975 - val_loss: 0.4581 - val_accuracy: 0.7700\n",
            "Epoch 45/100\n",
            "50/50 [==============================] - 0s 5ms/step - loss: 0.4185 - accuracy: 0.8012 - val_loss: 0.4595 - val_accuracy: 0.7750\n",
            "Epoch 46/100\n",
            "50/50 [==============================] - 0s 5ms/step - loss: 0.4262 - accuracy: 0.7962 - val_loss: 0.4575 - val_accuracy: 0.7700\n"
          ]
        }
      ]
    },
    {
      "cell_type": "code",
      "source": [
        "plt.plot(history.history['loss'])\n",
        "plt.plot(history.history['val_loss'])\n",
        "plt.title('model loss')\n",
        "plt.ylabel('loss')\n",
        "plt.xlabel('epochs')\n",
        "plt.legend(['train', 'val'], loc='upper left')\n",
        "plt.show()"
      ],
      "metadata": {
        "colab": {
          "base_uri": "https://localhost:8080/",
          "height": 295
        },
        "id": "Xr4NKQdH1L5K",
        "outputId": "a96809df-68bf-4a6f-f48c-d9727e043860"
      },
      "execution_count": null,
      "outputs": [
        {
          "output_type": "display_data",
          "data": {
            "text/plain": [
              "<Figure size 432x288 with 1 Axes>"
            ],
            "image/png": "[encoded data removed]"
          },
          "metadata": {
            "needs_background": "light"
          }
        }
      ]
    },
    {
      "cell_type": "code",
      "source": [
        "plt.plot(history.history['accuracy'])\n",
        "plt.plot(history.history['val_accuracy'])\n",
        "plt.title('model accuracy')\n",
        "plt.ylabel('accuracy')\n",
        "plt.xlabel('epochs')\n",
        "plt.legend(['train', 'val'], loc='upper left')\n",
        "plt.show()"
      ],
      "metadata": {
        "colab": {
          "base_uri": "https://localhost:8080/",
          "height": 295
        },
        "id": "ByEvtuuc07nT",
        "outputId": "ee38765b-53d2-4e1f-e5b2-711d45410aac"
      },
      "execution_count": null,
      "outputs": [
        {
          "output_type": "display_data",
          "data": {
            "text/plain": [
              "<Figure size 432x288 with 1 Axes>"
            ],
            "image/png": "[encoded data removed]"
          },
          "metadata": {
            "needs_background": "light"
          }
        }
      ]
    },
    {
      "cell_type": "code",
      "source": [
        "from sklearn.metrics import roc_curve\n",
        "y_pred_keras = model.predict(X_test).ravel()\n",
        "fpr_keras, tpr_keras, thresholds_keras = roc_curve(y_test, y_pred_keras)"
      ],
      "metadata": {
        "id": "ZJoEUfph24ru",
        "outputId": "daae82e4-5948-4039-be6f-dabce4a70b17",
        "colab": {
          "base_uri": "https://localhost:8080/"
        }
      },
      "execution_count": null,
      "outputs": [
        {
          "output_type": "stream",
          "name": "stdout",
          "text": [
            "7/7 [==============================] - 0s 2ms/step\n"
          ]
        }
      ]
    },
    {
      "cell_type": "code",
      "source": [
        "from sklearn.metrics import auc\n",
        "auc_keras = auc(fpr_keras, tpr_keras)"
      ],
      "metadata": {
        "id": "iKwx2LyE3rro"
      },
      "execution_count": null,
      "outputs": []
    },
    {
      "cell_type": "code",
      "source": [
        "plt.plot([0, 1], [0, 1], 'k--')\n",
        "plt.plot(fpr_keras, tpr_keras, label='SMOTE (area = {:.3f})'.format(auc_keras))\n",
        "plt.xlabel('False positive rate')\n",
        "plt.ylabel('True positive rate')\n",
        "plt.title('ROC curve')\n",
        "plt.legend(loc='best')\n",
        "plt.show()"
      ],
      "metadata": {
        "colab": {
          "base_uri": "https://localhost:8080/",
          "height": 295
        },
        "id": "kYTj3taU30pz",
        "outputId": "e52fbc5b-2817-458c-af4d-c5afc4dd5a88"
      },
      "execution_count": null,
      "outputs": [
        {
          "output_type": "display_data",
          "data": {
            "text/plain": [
              "<Figure size 432x288 with 1 Axes>"
            ],
            "image/png": "[encoded data removed]"
          },
          "metadata": {
            "needs_background": "light"
          }
        }
      ]
    },
    {
      "cell_type": "code",
      "source": [
        "!pip install ctgan"
      ],
      "metadata": {
        "id": "7AC2aSnfHeKP",
        "outputId": "ec84f8cd-7c83-4976-82dc-1bad0f9ef007",
        "colab": {
          "base_uri": "https://localhost:8080/",
          "height": 929
        }
      },
      "execution_count": null,
      "outputs": [
        {
          "output_type": "stream",
          "name": "stdout",
          "text": [
            "Looking in indexes: https://pypi.org/simple, https://us-python.pkg.dev/colab-wheels/public/simple/\n",
            "Collecting ctgan\n",
            "  Downloading ctgan-0.6.0-py2.py3-none-any.whl (24 kB)\n",
            "Requirement already satisfied: pandas<2,>=1.1.3 in /usr/local/lib/python3.7/dist-packages (from ctgan) (1.3.5)\n",
            "Requirement already satisfied: packaging<22,>=20 in /usr/local/lib/python3.7/dist-packages (from ctgan) (21.3)\n",
            "Requirement already satisfied: torch<2,>=1.8.0 in /usr/local/lib/python3.7/dist-packages (from ctgan) (1.12.1+cu113)\n",
            "Collecting rdt<2.0,>=1.2.0\n",
            "  Downloading rdt-1.2.1-py2.py3-none-any.whl (61 kB)\n",
            "\u001b[K     |████████████████████████████████| 61 kB 370 kB/s \n",
            "\u001b[?25hRequirement already satisfied: torchvision<1,>=0.9.0 in /usr/local/lib/python3.7/dist-packages (from ctgan) (0.13.1+cu113)\n",
            "Requirement already satisfied: scikit-learn<2,>=0.24 in /usr/local/lib/python3.7/dist-packages (from ctgan) (1.0.2)\n",
            "Requirement already satisfied: numpy<2,>=1.20.0 in /usr/local/lib/python3.7/dist-packages (from ctgan) (1.21.6)\n",
            "Requirement already satisfied: pyparsing!=3.0.5,>=2.0.2 in /usr/local/lib/python3.7/dist-packages (from packaging<22,>=20->ctgan) (3.0.9)\n",
            "Requirement already satisfied: python-dateutil>=2.7.3 in /usr/local/lib/python3.7/dist-packages (from pandas<2,>=1.1.3->ctgan) (2.8.2)\n",
            "Requirement already satisfied: pytz>=2017.3 in /usr/local/lib/python3.7/dist-packages (from pandas<2,>=1.1.3->ctgan) (2022.6)\n",
            "Requirement already satisfied: six>=1.5 in /usr/local/lib/python3.7/dist-packages (from python-dateutil>=2.7.3->pandas<2,>=1.1.3->ctgan) (1.15.0)\n",
            "Collecting pyyaml<6,>=5.4.1\n",
            "  Downloading PyYAML-5.4.1-cp37-cp37m-manylinux1_x86_64.whl (636 kB)\n",
            "\u001b[K     |████████████████████████████████| 636 kB 41.2 MB/s \n",
            "\u001b[?25hCollecting psutil<6,>=5.7\n",
            "  Downloading psutil-5.9.4-cp36-abi3-manylinux_2_12_x86_64.manylinux2010_x86_64.manylinux_2_17_x86_64.manylinux2014_x86_64.whl (280 kB)\n",
            "\u001b[K     |████████████████████████████████| 280 kB 46.5 MB/s \n",
            "\u001b[?25hCollecting Faker>=10\n",
            "  Downloading Faker-15.3.2-py3-none-any.whl (1.6 MB)\n",
            "\u001b[K     |████████████████████████████████| 1.6 MB 53.7 MB/s \n",
            "\u001b[?25hRequirement already satisfied: scipy<1.8,>=1.5.4 in /usr/local/lib/python3.7/dist-packages (from rdt<2.0,>=1.2.0->ctgan) (1.7.3)\n",
            "Requirement already satisfied: typing-extensions>=3.10.0.1 in /usr/local/lib/python3.7/dist-packages (from Faker>=10->rdt<2.0,>=1.2.0->ctgan) (4.1.1)\n",
            "Requirement already satisfied: joblib>=0.11 in /usr/local/lib/python3.7/dist-packages (from scikit-learn<2,>=0.24->ctgan) (1.2.0)\n",
            "Requirement already satisfied: threadpoolctl>=2.0.0 in /usr/local/lib/python3.7/dist-packages (from scikit-learn<2,>=0.24->ctgan) (3.1.0)\n",
            "Requirement already satisfied: pillow!=8.3.*,>=5.3.0 in /usr/local/lib/python3.7/dist-packages (from torchvision<1,>=0.9.0->ctgan) (7.1.2)\n",
            "Requirement already satisfied: requests in /usr/local/lib/python3.7/dist-packages (from torchvision<1,>=0.9.0->ctgan) (2.23.0)\n",
            "Requirement already satisfied: certifi>=2017.4.17 in /usr/local/lib/python3.7/dist-packages (from requests->torchvision<1,>=0.9.0->ctgan) (2022.9.24)\n",
            "Requirement already satisfied: idna<3,>=2.5 in /usr/local/lib/python3.7/dist-packages (from requests->torchvision<1,>=0.9.0->ctgan) (2.10)\n",
            "Requirement already satisfied: chardet<4,>=3.0.2 in /usr/local/lib/python3.7/dist-packages (from requests->torchvision<1,>=0.9.0->ctgan) (3.0.4)\n",
            "Requirement already satisfied: urllib3!=1.25.0,!=1.25.1,<1.26,>=1.21.1 in /usr/local/lib/python3.7/dist-packages (from requests->torchvision<1,>=0.9.0->ctgan) (1.24.3)\n",
            "Installing collected packages: pyyaml, psutil, Faker, rdt, ctgan\n",
            "  Attempting uninstall: pyyaml\n",
            "    Found existing installation: PyYAML 6.0\n",
            "    Uninstalling PyYAML-6.0:\n",
            "      Successfully uninstalled PyYAML-6.0\n",
            "  Attempting uninstall: psutil\n",
            "    Found existing installation: psutil 5.4.8\n",
            "    Uninstalling psutil-5.4.8:\n",
            "      Successfully uninstalled psutil-5.4.8\n",
            "Successfully installed Faker-15.3.2 ctgan-0.6.0 psutil-5.9.4 pyyaml-5.4.1 rdt-1.2.1\n"
          ]
        },
        {
          "output_type": "display_data",
          "data": {
            "application/vnd.colab-display-data+json": {
              "pip_warning": {
                "packages": [
                  "psutil"
                ]
              }
            }
          },
          "metadata": {}
        }
      ]
    },
    {
      "cell_type": "code",
      "source": [
        "!pip install table_evaluator"
      ],
      "metadata": {
        "id": "Fqh7g2QxHmR1",
        "outputId": "23589311-c54e-4a52-ce68-fdf7cb95034d",
        "colab": {
          "base_uri": "https://localhost:8080/"
        }
      },
      "execution_count": null,
      "outputs": [
        {
          "output_type": "stream",
          "name": "stdout",
          "text": [
            "Looking in indexes: https://pypi.org/simple, https://us-python.pkg.dev/colab-wheels/public/simple/\n",
            "Collecting table_evaluator\n",
            "  Downloading table_evaluator-1.4.2-py3-none-any.whl (20 kB)\n",
            "Requirement already satisfied: scikit-learn in /usr/local/lib/python3.7/dist-packages (from table_evaluator) (1.0.2)\n",
            "Requirement already satisfied: numpy in /usr/local/lib/python3.7/dist-packages (from table_evaluator) (1.21.6)\n",
            "Requirement already satisfied: psutil in /usr/local/lib/python3.7/dist-packages (from table_evaluator) (5.9.4)\n",
            "Requirement already satisfied: pandas in /usr/local/lib/python3.7/dist-packages (from table_evaluator) (1.3.5)\n",
            "Requirement already satisfied: scipy in /usr/local/lib/python3.7/dist-packages (from table_evaluator) (1.7.3)\n",
            "Collecting seaborn<=0.11.1\n",
            "  Downloading seaborn-0.11.1-py3-none-any.whl (285 kB)\n",
            "\u001b[K     |████████████████████████████████| 285 kB 48.4 MB/s \n",
            "\u001b[?25hRequirement already satisfied: matplotlib in /usr/local/lib/python3.7/dist-packages (from table_evaluator) (3.2.2)\n",
            "Collecting dython==0.5.1\n",
            "  Downloading dython-0.5.1-py3-none-any.whl (14 kB)\n",
            "Requirement already satisfied: tqdm in /usr/local/lib/python3.7/dist-packages (from table_evaluator) (4.64.1)\n",
            "Requirement already satisfied: cycler>=0.10 in /usr/local/lib/python3.7/dist-packages (from matplotlib->table_evaluator) (0.11.0)\n",
            "Requirement already satisfied: kiwisolver>=1.0.1 in /usr/local/lib/python3.7/dist-packages (from matplotlib->table_evaluator) (1.4.4)\n",
            "Requirement already satisfied: pyparsing!=2.0.4,!=2.1.2,!=2.1.6,>=2.0.1 in /usr/local/lib/python3.7/dist-packages (from matplotlib->table_evaluator) (3.0.9)\n",
            "Requirement already satisfied: python-dateutil>=2.1 in /usr/local/lib/python3.7/dist-packages (from matplotlib->table_evaluator) (2.8.2)\n",
            "Requirement already satisfied: typing-extensions in /usr/local/lib/python3.7/dist-packages (from kiwisolver>=1.0.1->matplotlib->table_evaluator) (4.1.1)\n",
            "Requirement already satisfied: pytz>=2017.3 in /usr/local/lib/python3.7/dist-packages (from pandas->table_evaluator) (2022.6)\n",
            "Requirement already satisfied: six>=1.5 in /usr/local/lib/python3.7/dist-packages (from python-dateutil>=2.1->matplotlib->table_evaluator) (1.15.0)\n",
            "Requirement already satisfied: joblib>=0.11 in /usr/local/lib/python3.7/dist-packages (from scikit-learn->table_evaluator) (1.2.0)\n",
            "Requirement already satisfied: threadpoolctl>=2.0.0 in /usr/local/lib/python3.7/dist-packages (from scikit-learn->table_evaluator) (3.1.0)\n",
            "Installing collected packages: seaborn, dython, table-evaluator\n",
            "  Attempting uninstall: seaborn\n",
            "    Found existing installation: seaborn 0.11.2\n",
            "    Uninstalling seaborn-0.11.2:\n",
            "      Successfully uninstalled seaborn-0.11.2\n",
            "Successfully installed dython-0.5.1 seaborn-0.11.1 table-evaluator-1.4.2\n"
          ]
        }
      ]
    },
    {
      "cell_type": "code",
      "source": [
        "df['Outcome'].value_counts()"
      ],
      "metadata": {
        "id": "DmmdpjWcUPqB",
        "outputId": "8f55b53d-31a5-4b7f-8f8b-81f4f5a27a42",
        "colab": {
          "base_uri": "https://localhost:8080/"
        }
      },
      "execution_count": null,
      "outputs": [
        {
          "output_type": "execute_result",
          "data": {
            "text/plain": [
              "0    500\n",
              "1    268\n",
              "Name: Outcome, dtype: int64"
            ]
          },
          "metadata": {},
          "execution_count": 34
        }
      ]
    },
    {
      "cell_type": "code",
      "source": [
        "categorical_features = ['Outcome']"
      ],
      "metadata": {
        "id": "vewI41HjIBmb"
      },
      "execution_count": null,
      "outputs": []
    },
    {
      "cell_type": "code",
      "source": [
        "from ctgan import CTGAN"
      ],
      "metadata": {
        "id": "Bpy5jA8lI3sz"
      },
      "execution_count": null,
      "outputs": []
    },
    {
      "cell_type": "code",
      "source": [
        "ctgan = CTGAN(verbose=True)\n",
        "ctgan.fit(df, categorical_features, epochs = 400)"
      ],
      "metadata": {
        "id": "VKxv9twXIOAF",
        "outputId": "dcd510fa-cf0b-48be-820c-907db056e34f",
        "colab": {
          "base_uri": "https://localhost:8080/"
        }
      },
      "execution_count": null,
      "outputs": [
        {
          "output_type": "stream",
          "name": "stdout",
          "text": [
            "Epoch 1, Loss G:  0.8205,Loss D: -0.0162\n",
            "Epoch 2, Loss G:  0.7755,Loss D: -0.0221\n",
            "Epoch 3, Loss G:  0.7593,Loss D:  0.0035\n",
            "Epoch 4, Loss G:  0.7549,Loss D: -0.0221\n",
            "Epoch 5, Loss G:  0.7361,Loss D: -0.0501\n",
            "Epoch 6, Loss G:  0.6906,Loss D: -0.0245\n",
            "Epoch 7, Loss G:  0.6780,Loss D: -0.0275\n",
            "Epoch 8, Loss G:  0.6736,Loss D: -0.0486\n",
            "Epoch 9, Loss G:  0.6428,Loss D: -0.0595\n",
            "Epoch 10, Loss G:  0.6006,Loss D: -0.0359\n",
            "Epoch 11, Loss G:  0.5095,Loss D: -0.0409\n",
            "Epoch 12, Loss G:  0.5277,Loss D: -0.0566\n",
            "Epoch 13, Loss G:  0.5060,Loss D: -0.0330\n",
            "Epoch 14, Loss G:  0.4105,Loss D:  0.0129\n",
            "Epoch 15, Loss G:  0.4080,Loss D: -0.0381\n",
            "Epoch 16, Loss G:  0.3280,Loss D: -0.0193\n",
            "Epoch 17, Loss G:  0.2450,Loss D: -0.0987\n",
            "Epoch 18, Loss G:  0.2203,Loss D:  0.0117\n",
            "Epoch 19, Loss G:  0.1280,Loss D:  0.0112\n",
            "Epoch 20, Loss G:  0.1008,Loss D: -0.0857\n",
            "Epoch 21, Loss G:  0.0590,Loss D: -0.0711\n",
            "Epoch 22, Loss G:  0.0689,Loss D: -0.0236\n",
            "Epoch 23, Loss G: -0.0288,Loss D: -0.0921\n",
            "Epoch 24, Loss G: -0.0769,Loss D: -0.0655\n",
            "Epoch 25, Loss G: -0.1274,Loss D: -0.0280\n",
            "Epoch 26, Loss G: -0.2465,Loss D: -0.0466\n",
            "Epoch 27, Loss G: -0.2337,Loss D: -0.0546\n",
            "Epoch 28, Loss G: -0.2048,Loss D: -0.0499\n",
            "Epoch 29, Loss G: -0.3068,Loss D: -0.1627\n",
            "Epoch 30, Loss G: -0.4124,Loss D: -0.0676\n",
            "Epoch 31, Loss G: -0.3515,Loss D:  0.0056\n",
            "Epoch 32, Loss G: -0.3543,Loss D: -0.0335\n",
            "Epoch 33, Loss G: -0.3600,Loss D: -0.0118\n",
            "Epoch 34, Loss G: -0.4548,Loss D: -0.1341\n",
            "Epoch 35, Loss G: -0.3419,Loss D: -0.0590\n",
            "Epoch 36, Loss G: -0.4183,Loss D: -0.1390\n",
            "Epoch 37, Loss G: -0.4384,Loss D: -0.0214\n",
            "Epoch 38, Loss G: -0.3764,Loss D: -0.0978\n",
            "Epoch 39, Loss G: -0.5135,Loss D: -0.1021\n",
            "Epoch 40, Loss G: -0.5147,Loss D:  0.0718\n",
            "Epoch 41, Loss G: -0.4717,Loss D:  0.0780\n",
            "Epoch 42, Loss G: -0.4593,Loss D:  0.0447\n",
            "Epoch 43, Loss G: -0.5346,Loss D: -0.0709\n",
            "Epoch 44, Loss G: -0.4956,Loss D:  0.1404\n",
            "Epoch 45, Loss G: -0.5849,Loss D:  0.1126\n",
            "Epoch 46, Loss G: -0.4572,Loss D:  0.1976\n",
            "Epoch 47, Loss G: -0.4292,Loss D: -0.0038\n",
            "Epoch 48, Loss G: -0.4949,Loss D:  0.1317\n",
            "Epoch 49, Loss G: -0.5124,Loss D:  0.0811\n",
            "Epoch 50, Loss G: -0.5091,Loss D:  0.1718\n",
            "Epoch 51, Loss G: -0.5057,Loss D:  0.1238\n",
            "Epoch 52, Loss G: -0.4194,Loss D:  0.0834\n",
            "Epoch 53, Loss G: -0.3477,Loss D: -0.0375\n",
            "Epoch 54, Loss G: -0.2663,Loss D: -0.1027\n",
            "Epoch 55, Loss G: -0.3893,Loss D:  0.0058\n",
            "Epoch 56, Loss G: -0.2810,Loss D: -0.1316\n",
            "Epoch 57, Loss G: -0.2582,Loss D: -0.2244\n",
            "Epoch 58, Loss G: -0.2140,Loss D: -0.0942\n",
            "Epoch 59, Loss G: -0.1470,Loss D: -0.3539\n",
            "Epoch 60, Loss G: -0.1759,Loss D: -0.2512\n",
            "Epoch 61, Loss G: -0.2450,Loss D: -0.2021\n",
            "Epoch 62, Loss G: -0.1401,Loss D: -0.3334\n",
            "Epoch 63, Loss G: -0.1886,Loss D: -0.1021\n",
            "Epoch 64, Loss G: -0.1496,Loss D: -0.0537\n",
            "Epoch 65, Loss G: -0.3010,Loss D: -0.1852\n",
            "Epoch 66, Loss G: -0.2655,Loss D: -0.1066\n",
            "Epoch 67, Loss G: -0.4416,Loss D:  0.0856\n",
            "Epoch 68, Loss G: -0.3961,Loss D:  0.0754\n",
            "Epoch 69, Loss G: -0.4494,Loss D:  0.0391\n",
            "Epoch 70, Loss G: -0.4836,Loss D:  0.1044\n",
            "Epoch 71, Loss G: -0.4315,Loss D:  0.2099\n",
            "Epoch 72, Loss G: -0.5795,Loss D:  0.0964\n",
            "Epoch 73, Loss G: -0.5817,Loss D:  0.2891\n",
            "Epoch 74, Loss G: -0.6167,Loss D:  0.3244\n",
            "Epoch 75, Loss G: -0.6696,Loss D:  0.2602\n",
            "Epoch 76, Loss G: -0.6372,Loss D:  0.2667\n",
            "Epoch 77, Loss G: -0.7108,Loss D:  0.1417\n",
            "Epoch 78, Loss G: -0.6574,Loss D:  0.2007\n",
            "Epoch 79, Loss G: -0.6548,Loss D:  0.2369\n",
            "Epoch 80, Loss G: -0.6947,Loss D:  0.1865\n",
            "Epoch 81, Loss G: -0.5799,Loss D:  0.1228\n",
            "Epoch 82, Loss G: -0.6362,Loss D:  0.1703\n",
            "Epoch 83, Loss G: -0.5999,Loss D: -0.0838\n",
            "Epoch 84, Loss G: -0.6537,Loss D: -0.1739\n",
            "Epoch 85, Loss G: -0.5400,Loss D: -0.1619\n",
            "Epoch 86, Loss G: -0.5770,Loss D:  0.0036\n",
            "Epoch 87, Loss G: -0.5491,Loss D: -0.1070\n",
            "Epoch 88, Loss G: -0.5618,Loss D: -0.1828\n",
            "Epoch 89, Loss G: -0.5617,Loss D: -0.1820\n",
            "Epoch 90, Loss G: -0.4905,Loss D: -0.2082\n",
            "Epoch 91, Loss G: -0.4734,Loss D: -0.2556\n",
            "Epoch 92, Loss G: -0.5605,Loss D: -0.2670\n",
            "Epoch 93, Loss G: -0.4442,Loss D: -0.2279\n",
            "Epoch 94, Loss G: -0.6601,Loss D: -0.0867\n",
            "Epoch 95, Loss G: -0.5816,Loss D: -0.1115\n",
            "Epoch 96, Loss G: -0.6177,Loss D: -0.0514\n",
            "Epoch 97, Loss G: -0.6241,Loss D: -0.1131\n",
            "Epoch 98, Loss G: -0.6909,Loss D: -0.0925\n",
            "Epoch 99, Loss G: -0.6093,Loss D: -0.0104\n",
            "Epoch 100, Loss G: -0.6830,Loss D: -0.0491\n",
            "Epoch 101, Loss G: -0.6185,Loss D: -0.0119\n",
            "Epoch 102, Loss G: -0.6854,Loss D:  0.0185\n",
            "Epoch 103, Loss G: -0.6386,Loss D:  0.0486\n",
            "Epoch 104, Loss G: -0.7468,Loss D: -0.1234\n",
            "Epoch 105, Loss G: -0.6646,Loss D: -0.0540\n",
            "Epoch 106, Loss G: -0.6438,Loss D: -0.0673\n",
            "Epoch 107, Loss G: -0.6345,Loss D: -0.0906\n",
            "Epoch 108, Loss G: -0.6924,Loss D: -0.1292\n",
            "Epoch 109, Loss G: -0.7831,Loss D: -0.0363\n",
            "Epoch 110, Loss G: -0.7433,Loss D: -0.0132\n",
            "Epoch 111, Loss G: -0.7521,Loss D:  0.1058\n",
            "Epoch 112, Loss G: -0.8501,Loss D:  0.0616\n",
            "Epoch 113, Loss G: -0.7996,Loss D:  0.1646\n",
            "Epoch 114, Loss G: -0.9843,Loss D:  0.0426\n",
            "Epoch 115, Loss G: -1.0215,Loss D:  0.1632\n",
            "Epoch 116, Loss G: -0.8224,Loss D:  0.2445\n",
            "Epoch 117, Loss G: -1.0124,Loss D:  0.1870\n",
            "Epoch 118, Loss G: -0.9404,Loss D:  0.3544\n",
            "Epoch 119, Loss G: -1.0098,Loss D:  0.1937\n",
            "Epoch 120, Loss G: -1.0371,Loss D:  0.2435\n",
            "Epoch 121, Loss G: -1.0539,Loss D:  0.1712\n",
            "Epoch 122, Loss G: -1.0007,Loss D:  0.2289\n",
            "Epoch 123, Loss G: -1.2079,Loss D:  0.1674\n",
            "Epoch 124, Loss G: -1.0957,Loss D:  0.2429\n",
            "Epoch 125, Loss G: -1.1966,Loss D:  0.1737\n",
            "Epoch 126, Loss G: -1.2670,Loss D:  0.3775\n",
            "Epoch 127, Loss G: -1.3151,Loss D:  0.2053\n",
            "Epoch 128, Loss G: -1.0823,Loss D:  0.4025\n",
            "Epoch 129, Loss G: -1.2129,Loss D:  0.2982\n",
            "Epoch 130, Loss G: -1.2420,Loss D:  0.1552\n",
            "Epoch 131, Loss G: -1.1526,Loss D:  0.1421\n",
            "Epoch 132, Loss G: -1.2946,Loss D:  0.1199\n",
            "Epoch 133, Loss G: -1.1664,Loss D:  0.1974\n",
            "Epoch 134, Loss G: -1.1601,Loss D:  0.0702\n",
            "Epoch 135, Loss G: -1.1119,Loss D:  0.0948\n",
            "Epoch 136, Loss G: -1.1101,Loss D: -0.0373\n",
            "Epoch 137, Loss G: -1.2192,Loss D: -0.0368\n",
            "Epoch 138, Loss G: -1.0368,Loss D: -0.0074\n",
            "Epoch 139, Loss G: -1.1515,Loss D: -0.0414\n",
            "Epoch 140, Loss G: -1.2369,Loss D:  0.0198\n",
            "Epoch 141, Loss G: -1.2121,Loss D:  0.1051\n",
            "Epoch 142, Loss G: -1.2037,Loss D: -0.1930\n",
            "Epoch 143, Loss G: -1.1672,Loss D: -0.1304\n",
            "Epoch 144, Loss G: -1.2599,Loss D:  0.0831\n",
            "Epoch 145, Loss G: -1.3195,Loss D:  0.0132\n",
            "Epoch 146, Loss G: -1.3068,Loss D:  0.0332\n",
            "Epoch 147, Loss G: -1.3266,Loss D: -0.0669\n",
            "Epoch 148, Loss G: -1.3120,Loss D:  0.0062\n",
            "Epoch 149, Loss G: -1.3390,Loss D:  0.0328\n",
            "Epoch 150, Loss G: -1.3846,Loss D:  0.0731\n",
            "Epoch 151, Loss G: -1.4142,Loss D:  0.0577\n",
            "Epoch 152, Loss G: -1.3671,Loss D:  0.0171\n",
            "Epoch 153, Loss G: -1.4249,Loss D:  0.0873\n",
            "Epoch 154, Loss G: -1.4005,Loss D:  0.0850\n",
            "Epoch 155, Loss G: -1.3234,Loss D:  0.1336\n",
            "Epoch 156, Loss G: -1.4541,Loss D: -0.0295\n",
            "Epoch 157, Loss G: -1.5377,Loss D: -0.0222\n",
            "Epoch 158, Loss G: -1.3897,Loss D:  0.0376\n",
            "Epoch 159, Loss G: -1.4852,Loss D: -0.0861\n",
            "Epoch 160, Loss G: -1.4290,Loss D: -0.0903\n",
            "Epoch 161, Loss G: -1.5262,Loss D: -0.0248\n",
            "Epoch 162, Loss G: -1.4538,Loss D:  0.0670\n",
            "Epoch 163, Loss G: -1.4649,Loss D:  0.0586\n",
            "Epoch 164, Loss G: -1.5580,Loss D: -0.0346\n",
            "Epoch 165, Loss G: -1.4320,Loss D: -0.0316\n",
            "Epoch 166, Loss G: -1.4903,Loss D: -0.0474\n",
            "Epoch 167, Loss G: -1.3679,Loss D: -0.1597\n",
            "Epoch 168, Loss G: -1.3812,Loss D: -0.0544\n",
            "Epoch 169, Loss G: -1.4023,Loss D: -0.0092\n",
            "Epoch 170, Loss G: -1.4743,Loss D: -0.0075\n",
            "Epoch 171, Loss G: -1.4271,Loss D: -0.0927\n",
            "Epoch 172, Loss G: -1.4987,Loss D:  0.0237\n",
            "Epoch 173, Loss G: -1.4562,Loss D:  0.0283\n",
            "Epoch 174, Loss G: -1.5053,Loss D:  0.1600\n",
            "Epoch 175, Loss G: -1.5843,Loss D: -0.0350\n",
            "Epoch 176, Loss G: -1.5712,Loss D:  0.0347\n",
            "Epoch 177, Loss G: -1.6169,Loss D:  0.1601\n",
            "Epoch 178, Loss G: -1.6884,Loss D:  0.0775\n",
            "Epoch 179, Loss G: -1.5224,Loss D:  0.0689\n",
            "Epoch 180, Loss G: -1.6386,Loss D:  0.1613\n",
            "Epoch 181, Loss G: -1.5736,Loss D:  0.1797\n",
            "Epoch 182, Loss G: -1.6920,Loss D:  0.1027\n",
            "Epoch 183, Loss G: -1.6875,Loss D:  0.1155\n",
            "Epoch 184, Loss G: -1.6018,Loss D:  0.0841\n",
            "Epoch 185, Loss G: -1.7429,Loss D: -0.0503\n",
            "Epoch 186, Loss G: -1.7151,Loss D:  0.0889\n",
            "Epoch 187, Loss G: -1.5889,Loss D: -0.0268\n",
            "Epoch 188, Loss G: -1.6259,Loss D:  0.1027\n",
            "Epoch 189, Loss G: -1.6444,Loss D:  0.0184\n",
            "Epoch 190, Loss G: -1.5541,Loss D:  0.1415\n",
            "Epoch 191, Loss G: -1.5784,Loss D:  0.0805\n",
            "Epoch 192, Loss G: -1.6607,Loss D: -0.0824\n",
            "Epoch 193, Loss G: -1.7525,Loss D: -0.0474\n",
            "Epoch 194, Loss G: -1.6393,Loss D: -0.0524\n",
            "Epoch 195, Loss G: -1.6835,Loss D:  0.1087\n",
            "Epoch 196, Loss G: -1.7806,Loss D:  0.1104\n",
            "Epoch 197, Loss G: -1.7452,Loss D:  0.0883\n",
            "Epoch 198, Loss G: -1.7571,Loss D:  0.0848\n",
            "Epoch 199, Loss G: -1.7691,Loss D:  0.1258\n",
            "Epoch 200, Loss G: -1.8185,Loss D:  0.0687\n",
            "Epoch 201, Loss G: -1.8170,Loss D:  0.1240\n",
            "Epoch 202, Loss G: -1.6911,Loss D:  0.1432\n",
            "Epoch 203, Loss G: -1.7541,Loss D:  0.0684\n",
            "Epoch 204, Loss G: -1.7925,Loss D:  0.0330\n",
            "Epoch 205, Loss G: -1.7659,Loss D:  0.2376\n",
            "Epoch 206, Loss G: -1.7955,Loss D:  0.1532\n",
            "Epoch 207, Loss G: -1.7099,Loss D:  0.2528\n",
            "Epoch 208, Loss G: -1.6786,Loss D:  0.1274\n",
            "Epoch 209, Loss G: -1.6830,Loss D:  0.1912\n",
            "Epoch 210, Loss G: -1.7130,Loss D:  0.1303\n",
            "Epoch 211, Loss G: -1.6730,Loss D:  0.2677\n",
            "Epoch 212, Loss G: -1.6442,Loss D:  0.0789\n",
            "Epoch 213, Loss G: -1.6683,Loss D:  0.0946\n",
            "Epoch 214, Loss G: -1.5872,Loss D:  0.0400\n",
            "Epoch 215, Loss G: -1.4746,Loss D: -0.0522\n",
            "Epoch 216, Loss G: -1.4839,Loss D:  0.0320\n",
            "Epoch 217, Loss G: -1.4621,Loss D:  0.0320\n",
            "Epoch 218, Loss G: -1.4780,Loss D:  0.1214\n",
            "Epoch 219, Loss G: -1.4500,Loss D:  0.1573\n",
            "Epoch 220, Loss G: -1.3861,Loss D:  0.0961\n",
            "Epoch 221, Loss G: -1.3455,Loss D:  0.0297\n",
            "Epoch 222, Loss G: -1.4048,Loss D:  0.0771\n",
            "Epoch 223, Loss G: -1.3950,Loss D:  0.0239\n",
            "Epoch 224, Loss G: -1.3785,Loss D: -0.0925\n",
            "Epoch 225, Loss G: -1.4785,Loss D:  0.0109\n",
            "Epoch 226, Loss G: -1.3930,Loss D:  0.1170\n",
            "Epoch 227, Loss G: -1.3056,Loss D:  0.1281\n",
            "Epoch 228, Loss G: -1.3190,Loss D:  0.0119\n",
            "Epoch 229, Loss G: -1.3610,Loss D: -0.0276\n",
            "Epoch 230, Loss G: -1.3511,Loss D: -0.0023\n",
            "Epoch 231, Loss G: -1.4334,Loss D:  0.0212\n",
            "Epoch 232, Loss G: -1.4754,Loss D:  0.1226\n",
            "Epoch 233, Loss G: -1.4012,Loss D: -0.0226\n",
            "Epoch 234, Loss G: -1.4909,Loss D: -0.1426\n",
            "Epoch 235, Loss G: -1.4453,Loss D:  0.1529\n",
            "Epoch 236, Loss G: -1.3252,Loss D:  0.1283\n",
            "Epoch 237, Loss G: -1.3832,Loss D:  0.1301\n",
            "Epoch 238, Loss G: -1.3920,Loss D: -0.0072\n",
            "Epoch 239, Loss G: -1.4116,Loss D: -0.0024\n",
            "Epoch 240, Loss G: -1.4250,Loss D: -0.1416\n",
            "Epoch 241, Loss G: -1.3972,Loss D: -0.0027\n",
            "Epoch 242, Loss G: -1.3989,Loss D: -0.0913\n",
            "Epoch 243, Loss G: -1.3799,Loss D: -0.1204\n",
            "Epoch 244, Loss G: -1.3914,Loss D: -0.1378\n",
            "Epoch 245, Loss G: -1.5681,Loss D: -0.1678\n",
            "Epoch 246, Loss G: -1.3061,Loss D: -0.0333\n",
            "Epoch 247, Loss G: -1.3949,Loss D: -0.0654\n",
            "Epoch 248, Loss G: -1.4607,Loss D: -0.1086\n",
            "Epoch 249, Loss G: -1.5303,Loss D: -0.0067\n",
            "Epoch 250, Loss G: -1.4457,Loss D: -0.0104\n",
            "Epoch 251, Loss G: -1.5821,Loss D: -0.0224\n",
            "Epoch 252, Loss G: -1.6149,Loss D: -0.2038\n",
            "Epoch 253, Loss G: -1.6187,Loss D:  0.0922\n",
            "Epoch 254, Loss G: -1.6467,Loss D:  0.0044\n",
            "Epoch 255, Loss G: -1.6260,Loss D: -0.0468\n",
            "Epoch 256, Loss G: -1.6697,Loss D:  0.0204\n",
            "Epoch 257, Loss G: -1.5755,Loss D:  0.0503\n",
            "Epoch 258, Loss G: -1.7299,Loss D:  0.0162\n",
            "Epoch 259, Loss G: -1.7654,Loss D:  0.1547\n",
            "Epoch 260, Loss G: -1.7640,Loss D:  0.0279\n",
            "Epoch 261, Loss G: -1.7308,Loss D:  0.2242\n",
            "Epoch 262, Loss G: -1.7006,Loss D:  0.0780\n",
            "Epoch 263, Loss G: -1.8432,Loss D:  0.1164\n",
            "Epoch 264, Loss G: -1.7629,Loss D:  0.0272\n",
            "Epoch 265, Loss G: -1.7544,Loss D:  0.0575\n",
            "Epoch 266, Loss G: -1.7597,Loss D: -0.0022\n",
            "Epoch 267, Loss G: -1.8285,Loss D:  0.0855\n",
            "Epoch 268, Loss G: -1.8044,Loss D:  0.0718\n",
            "Epoch 269, Loss G: -1.7071,Loss D:  0.1766\n",
            "Epoch 270, Loss G: -1.6403,Loss D: -0.0269\n",
            "Epoch 271, Loss G: -1.6940,Loss D:  0.0435\n",
            "Epoch 272, Loss G: -1.7276,Loss D: -0.1018\n",
            "Epoch 273, Loss G: -1.7863,Loss D: -0.0642\n",
            "Epoch 274, Loss G: -1.8177,Loss D:  0.1156\n",
            "Epoch 275, Loss G: -1.9116,Loss D: -0.1240\n",
            "Epoch 276, Loss G: -1.8985,Loss D: -0.0126\n",
            "Epoch 277, Loss G: -1.7686,Loss D:  0.0630\n",
            "Epoch 278, Loss G: -1.6536,Loss D: -0.0334\n",
            "Epoch 279, Loss G: -1.6692,Loss D: -0.0281\n",
            "Epoch 280, Loss G: -1.7733,Loss D:  0.0222\n",
            "Epoch 281, Loss G: -1.7247,Loss D: -0.1686\n",
            "Epoch 282, Loss G: -1.7301,Loss D: -0.0492\n",
            "Epoch 283, Loss G: -1.7457,Loss D: -0.0286\n",
            "Epoch 284, Loss G: -1.8178,Loss D: -0.1376\n",
            "Epoch 285, Loss G: -1.7739,Loss D: -0.0563\n",
            "Epoch 286, Loss G: -1.8704,Loss D:  0.0816\n",
            "Epoch 287, Loss G: -1.7606,Loss D: -0.1139\n",
            "Epoch 288, Loss G: -1.8873,Loss D:  0.0204\n",
            "Epoch 289, Loss G: -1.8414,Loss D:  0.0455\n",
            "Epoch 290, Loss G: -1.8701,Loss D:  0.1180\n",
            "Epoch 291, Loss G: -1.9303,Loss D: -0.1084\n",
            "Epoch 292, Loss G: -1.9028,Loss D: -0.1729\n",
            "Epoch 293, Loss G: -1.8982,Loss D: -0.0389\n",
            "Epoch 294, Loss G: -1.8443,Loss D:  0.0106\n",
            "Epoch 295, Loss G: -1.8828,Loss D:  0.0376\n",
            "Epoch 296, Loss G: -1.9554,Loss D: -0.0026\n",
            "Epoch 297, Loss G: -1.9435,Loss D: -0.0344\n",
            "Epoch 298, Loss G: -1.9961,Loss D:  0.0191\n",
            "Epoch 299, Loss G: -1.9573,Loss D:  0.0256\n",
            "Epoch 300, Loss G: -1.8460,Loss D:  0.0965\n",
            "Epoch 301, Loss G: -1.8215,Loss D: -0.0777\n",
            "Epoch 302, Loss G: -1.8746,Loss D: -0.1345\n",
            "Epoch 303, Loss G: -1.9662,Loss D: -0.0082\n",
            "Epoch 304, Loss G: -2.0016,Loss D: -0.0326\n",
            "Epoch 305, Loss G: -1.9484,Loss D: -0.2113\n",
            "Epoch 306, Loss G: -2.0204,Loss D:  0.0623\n",
            "Epoch 307, Loss G: -1.9601,Loss D:  0.0980\n",
            "Epoch 308, Loss G: -1.9381,Loss D:  0.0765\n",
            "Epoch 309, Loss G: -2.0692,Loss D: -0.0786\n",
            "Epoch 310, Loss G: -2.0200,Loss D: -0.0041\n",
            "Epoch 311, Loss G: -1.9280,Loss D:  0.0325\n",
            "Epoch 312, Loss G: -1.9519,Loss D:  0.0804\n",
            "Epoch 313, Loss G: -1.9631,Loss D:  0.0410\n",
            "Epoch 314, Loss G: -1.9734,Loss D:  0.0577\n",
            "Epoch 315, Loss G: -1.9279,Loss D: -0.1029\n",
            "Epoch 316, Loss G: -1.9571,Loss D: -0.0447\n",
            "Epoch 317, Loss G: -1.8960,Loss D:  0.1291\n",
            "Epoch 318, Loss G: -1.8691,Loss D:  0.1123\n",
            "Epoch 319, Loss G: -1.9231,Loss D:  0.0677\n",
            "Epoch 320, Loss G: -1.8170,Loss D: -0.0502\n",
            "Epoch 321, Loss G: -1.9435,Loss D: -0.1053\n",
            "Epoch 322, Loss G: -1.9127,Loss D: -0.0001\n",
            "Epoch 323, Loss G: -1.8549,Loss D:  0.0345\n",
            "Epoch 324, Loss G: -1.7432,Loss D:  0.2110\n",
            "Epoch 325, Loss G: -1.9418,Loss D:  0.1805\n",
            "Epoch 326, Loss G: -1.9120,Loss D:  0.0456\n",
            "Epoch 327, Loss G: -1.8900,Loss D:  0.0902\n",
            "Epoch 328, Loss G: -1.9515,Loss D:  0.1993\n",
            "Epoch 329, Loss G: -1.9304,Loss D:  0.1632\n",
            "Epoch 330, Loss G: -1.9876,Loss D:  0.0557\n",
            "Epoch 331, Loss G: -1.9125,Loss D:  0.1180\n",
            "Epoch 332, Loss G: -1.9581,Loss D:  0.1815\n",
            "Epoch 333, Loss G: -2.0004,Loss D:  0.1155\n",
            "Epoch 334, Loss G: -1.9415,Loss D: -0.0011\n",
            "Epoch 335, Loss G: -1.9899,Loss D: -0.0042\n",
            "Epoch 336, Loss G: -1.9717,Loss D:  0.0975\n",
            "Epoch 337, Loss G: -1.9810,Loss D:  0.0496\n",
            "Epoch 338, Loss G: -1.8404,Loss D: -0.0238\n",
            "Epoch 339, Loss G: -1.8425,Loss D:  0.2033\n",
            "Epoch 340, Loss G: -1.8813,Loss D:  0.1926\n",
            "Epoch 341, Loss G: -1.8741,Loss D:  0.0588\n",
            "Epoch 342, Loss G: -1.7761,Loss D:  0.0212\n",
            "Epoch 343, Loss G: -1.8274,Loss D:  0.1900\n",
            "Epoch 344, Loss G: -1.7422,Loss D:  0.0587\n",
            "Epoch 345, Loss G: -1.7459,Loss D:  0.0675\n",
            "Epoch 346, Loss G: -1.7925,Loss D: -0.0278\n",
            "Epoch 347, Loss G: -1.7850,Loss D:  0.0520\n",
            "Epoch 348, Loss G: -1.7424,Loss D: -0.0405\n",
            "Epoch 349, Loss G: -1.7451,Loss D:  0.0468\n",
            "Epoch 350, Loss G: -1.5724,Loss D: -0.1212\n",
            "Epoch 351, Loss G: -1.6806,Loss D: -0.0960\n",
            "Epoch 352, Loss G: -1.6257,Loss D: -0.0409\n",
            "Epoch 353, Loss G: -1.4995,Loss D: -0.1877\n",
            "Epoch 354, Loss G: -1.6214,Loss D: -0.2596\n",
            "Epoch 355, Loss G: -1.5281,Loss D: -0.1319\n",
            "Epoch 356, Loss G: -1.6778,Loss D: -0.1415\n",
            "Epoch 357, Loss G: -1.5630,Loss D:  0.0144\n",
            "Epoch 358, Loss G: -1.5311,Loss D:  0.0536\n",
            "Epoch 359, Loss G: -1.6315,Loss D: -0.1055\n",
            "Epoch 360, Loss G: -1.6461,Loss D: -0.1389\n",
            "Epoch 361, Loss G: -1.5845,Loss D:  0.0187\n",
            "Epoch 362, Loss G: -1.7124,Loss D: -0.0327\n",
            "Epoch 363, Loss G: -1.6165,Loss D:  0.0787\n",
            "Epoch 364, Loss G: -1.7223,Loss D: -0.0324\n",
            "Epoch 365, Loss G: -1.7584,Loss D: -0.1919\n",
            "Epoch 366, Loss G: -1.6135,Loss D:  0.0394\n",
            "Epoch 367, Loss G: -1.6091,Loss D: -0.0017\n",
            "Epoch 368, Loss G: -1.7649,Loss D: -0.0537\n",
            "Epoch 369, Loss G: -1.7878,Loss D:  0.0783\n",
            "Epoch 370, Loss G: -1.8563,Loss D:  0.0920\n",
            "Epoch 371, Loss G: -1.8771,Loss D:  0.1364\n",
            "Epoch 372, Loss G: -1.9457,Loss D:  0.2021\n",
            "Epoch 373, Loss G: -1.9260,Loss D:  0.2294\n",
            "Epoch 374, Loss G: -2.0178,Loss D:  0.2351\n",
            "Epoch 375, Loss G: -1.8757,Loss D:  0.2326\n",
            "Epoch 376, Loss G: -1.9970,Loss D:  0.1644\n",
            "Epoch 377, Loss G: -1.9612,Loss D:  0.1365\n",
            "Epoch 378, Loss G: -2.0049,Loss D:  0.0924\n",
            "Epoch 379, Loss G: -2.0022,Loss D:  0.2779\n",
            "Epoch 380, Loss G: -1.9505,Loss D:  0.1530\n",
            "Epoch 381, Loss G: -1.8983,Loss D:  0.0735\n",
            "Epoch 382, Loss G: -2.0006,Loss D:  0.0214\n",
            "Epoch 383, Loss G: -1.9675,Loss D:  0.0879\n",
            "Epoch 384, Loss G: -1.8595,Loss D: -0.0473\n",
            "Epoch 385, Loss G: -1.9001,Loss D: -0.1031\n",
            "Epoch 386, Loss G: -1.8914,Loss D:  0.0591\n",
            "Epoch 387, Loss G: -1.8888,Loss D: -0.2470\n",
            "Epoch 388, Loss G: -1.8274,Loss D: -0.1546\n",
            "Epoch 389, Loss G: -1.8299,Loss D: -0.0063\n",
            "Epoch 390, Loss G: -1.8931,Loss D:  0.0150\n",
            "Epoch 391, Loss G: -1.6973,Loss D: -0.1848\n",
            "Epoch 392, Loss G: -1.7304,Loss D: -0.1639\n",
            "Epoch 393, Loss G: -1.7829,Loss D: -0.1387\n",
            "Epoch 394, Loss G: -1.8328,Loss D: -0.1616\n",
            "Epoch 395, Loss G: -1.8552,Loss D: -0.1324\n",
            "Epoch 396, Loss G: -1.8026,Loss D: -0.0993\n",
            "Epoch 397, Loss G: -1.8753,Loss D: -0.2115\n",
            "Epoch 398, Loss G: -1.8916,Loss D: -0.1334\n",
            "Epoch 399, Loss G: -1.8775,Loss D: -0.1557\n",
            "Epoch 400, Loss G: -1.9352,Loss D: -0.1945\n"
          ]
        }
      ]
    },
    {
      "cell_type": "code",
      "source": [
        "samples = ctgan.sample(10000)"
      ],
      "metadata": {
        "id": "Z3eogIpiJCP5"
      },
      "execution_count": null,
      "outputs": []
    },
    {
      "cell_type": "code",
      "source": [
        "samples['Outcome'].value_counts()"
      ],
      "metadata": {
        "id": "DrmRbaV7S2AG",
        "outputId": "04c63654-2021-45bf-efaa-66bce4a527f4",
        "colab": {
          "base_uri": "https://localhost:8080/"
        }
      },
      "execution_count": null,
      "outputs": [
        {
          "output_type": "execute_result",
          "data": {
            "text/plain": [
              "0    5645\n",
              "1    4355\n",
              "Name: Outcome, dtype: int64"
            ]
          },
          "metadata": {},
          "execution_count": 45
        }
      ]
    },
    {
      "cell_type": "code",
      "source": [
        "samples_new= samples.loc[\n",
        "    (samples['Pregnancies'] >= df_min.Pregnancies) & (samples['Pregnancies'] <= df_max.Pregnancies) &\n",
        "       (samples['Glucose'] >= df_min.Glucose) & (samples['Glucose'] <= df_max.Glucose)& \n",
        "       (samples['BloodPressure'] >= df_min.BloodPressure) & (samples['BloodPressure'] <= df_max.BloodPressure)& \n",
        "       (samples['SkinThickness'] >= df_min.SkinThickness) & (samples['SkinThickness'] <= df_max.SkinThickness)& \n",
        "       (samples['Insulin'] >= df_min.Insulin) & (samples['Insulin'] <= df_max.Insulin)& \n",
        "       (samples['BMI'] >= df_min.BMI) & (samples['BMI'] <= df_max.BMI)& \n",
        "       (samples['DiabetesPedigreeFunction'] >= df_min.DiabetesPedigreeFunction) & \n",
        "       (samples['DiabetesPedigreeFunction'] <= df_max.DiabetesPedigreeFunction)& \n",
        "       (samples['Age'] >= df_min.Age) & (samples['Age'] <= df_max.Age)\n",
        "]"
      ],
      "metadata": {
        "id": "MCR-NoXx4su4"
      },
      "execution_count": null,
      "outputs": []
    },
    {
      "cell_type": "code",
      "source": [
        "samples_new"
      ],
      "metadata": {
        "id": "I-SGLS__5Si7",
        "outputId": "b2411b48-637a-496f-8871-f113b3387374",
        "colab": {
          "base_uri": "https://localhost:8080/",
          "height": 424
        }
      },
      "execution_count": null,
      "outputs": [
        {
          "output_type": "execute_result",
          "data": {
            "text/plain": [
              "      Pregnancies  Glucose  BloodPressure  SkinThickness  Insulin        BMI  \\\n",
              "0               2      171             23             51      125  27.146461   \n",
              "1               2      128             69             31       40  34.018253   \n",
              "2               0      106             63             45       56  20.369842   \n",
              "4              11      140             98             42       74  23.237198   \n",
              "7               8      136            114             48        5  33.083115   \n",
              "...           ...      ...            ...            ...      ...        ...   \n",
              "9988            1       96             80             35        9  30.426604   \n",
              "9992            1      150            105             16      120  28.785804   \n",
              "9993            2      107             99             19       64  44.118829   \n",
              "9995           11       72             87              2       59  31.995427   \n",
              "9997            8      172             86             28       40  28.269468   \n",
              "\n",
              "      DiabetesPedigreeFunction  Age  Outcome  \n",
              "0                     0.342463   32        1  \n",
              "1                     0.759825   36        0  \n",
              "2                     0.650946   27        1  \n",
              "4                     0.763690   41        0  \n",
              "7                     0.855592   37        1  \n",
              "...                        ...  ...      ...  \n",
              "9988                  0.518262   22        0  \n",
              "9992                  0.777398   24        0  \n",
              "9993                  0.473548   30        0  \n",
              "9995                  0.320696   29        1  \n",
              "9997                  0.602019   31        0  \n",
              "\n",
              "[5371 rows x 9 columns]"
            ],
            "text/html": [
              "\n",
              "  <div id=\"df-9e1becff-d46c-4df1-8ca1-d037a7100f65\">\n",
              "    <div class=\"colab-df-container\">\n",
              "      <div>\n",
              "<style scoped>\n",
              "    .dataframe tbody tr th:only-of-type {\n",
              "        vertical-align: middle;\n",
              "    }\n",
              "\n",
              "    .dataframe tbody tr th {\n",
              "        vertical-align: top;\n",
              "    }\n",
              "\n",
              "    .dataframe thead th {\n",
              "        text-align: right;\n",
              "    }\n",
              "</style>\n",
              "<table border=\"1\" class=\"dataframe\">\n",
              "  <thead>\n",
              "    <tr style=\"text-align: right;\">\n",
              "      <th></th>\n",
              "      <th>Pregnancies</th>\n",
              "      <th>Glucose</th>\n",
              "      <th>BloodPressure</th>\n",
              "      <th>SkinThickness</th>\n",
              "      <th>Insulin</th>\n",
              "      <th>BMI</th>\n",
              "      <th>DiabetesPedigreeFunction</th>\n",
              "      <th>Age</th>\n",
              "      <th>Outcome</th>\n",
              "    </tr>\n",
              "  </thead>\n",
              "  <tbody>\n",
              "    <tr>\n",
              "      <th>0</th>\n",
              "      <td>2</td>\n",
              "      <td>171</td>\n",
              "      <td>23</td>\n",
              "      <td>51</td>\n",
              "      <td>125</td>\n",
              "      <td>27.146461</td>\n",
              "      <td>0.342463</td>\n",
              "      <td>32</td>\n",
              "      <td>1</td>\n",
              "    </tr>\n",
              "    <tr>\n",
              "      <th>1</th>\n",
              "      <td>2</td>\n",
              "      <td>128</td>\n",
              "      <td>69</td>\n",
              "      <td>31</td>\n",
              "      <td>40</td>\n",
              "      <td>34.018253</td>\n",
              "      <td>0.759825</td>\n",
              "      <td>36</td>\n",
              "      <td>0</td>\n",
              "    </tr>\n",
              "    <tr>\n",
              "      <th>2</th>\n",
              "      <td>0</td>\n",
              "      <td>106</td>\n",
              "      <td>63</td>\n",
              "      <td>45</td>\n",
              "      <td>56</td>\n",
              "      <td>20.369842</td>\n",
              "      <td>0.650946</td>\n",
              "      <td>27</td>\n",
              "      <td>1</td>\n",
              "    </tr>\n",
              "    <tr>\n",
              "      <th>4</th>\n",
              "      <td>11</td>\n",
              "      <td>140</td>\n",
              "      <td>98</td>\n",
              "      <td>42</td>\n",
              "      <td>74</td>\n",
              "      <td>23.237198</td>\n",
              "      <td>0.763690</td>\n",
              "      <td>41</td>\n",
              "      <td>0</td>\n",
              "    </tr>\n",
              "    <tr>\n",
              "      <th>7</th>\n",
              "      <td>8</td>\n",
              "      <td>136</td>\n",
              "      <td>114</td>\n",
              "      <td>48</td>\n",
              "      <td>5</td>\n",
              "      <td>33.083115</td>\n",
              "      <td>0.855592</td>\n",
              "      <td>37</td>\n",
              "      <td>1</td>\n",
              "    </tr>\n",
              "    <tr>\n",
              "      <th>...</th>\n",
              "      <td>...</td>\n",
              "      <td>...</td>\n",
              "      <td>...</td>\n",
              "      <td>...</td>\n",
              "      <td>...</td>\n",
              "      <td>...</td>\n",
              "      <td>...</td>\n",
              "      <td>...</td>\n",
              "      <td>...</td>\n",
              "    </tr>\n",
              "    <tr>\n",
              "      <th>9988</th>\n",
              "      <td>1</td>\n",
              "      <td>96</td>\n",
              "      <td>80</td>\n",
              "      <td>35</td>\n",
              "      <td>9</td>\n",
              "      <td>30.426604</td>\n",
              "      <td>0.518262</td>\n",
              "      <td>22</td>\n",
              "      <td>0</td>\n",
              "    </tr>\n",
              "    <tr>\n",
              "      <th>9992</th>\n",
              "      <td>1</td>\n",
              "      <td>150</td>\n",
              "      <td>105</td>\n",
              "      <td>16</td>\n",
              "      <td>120</td>\n",
              "      <td>28.785804</td>\n",
              "      <td>0.777398</td>\n",
              "      <td>24</td>\n",
              "      <td>0</td>\n",
              "    </tr>\n",
              "    <tr>\n",
              "      <th>9993</th>\n",
              "      <td>2</td>\n",
              "      <td>107</td>\n",
              "      <td>99</td>\n",
              "      <td>19</td>\n",
              "      <td>64</td>\n",
              "      <td>44.118829</td>\n",
              "      <td>0.473548</td>\n",
              "      <td>30</td>\n",
              "      <td>0</td>\n",
              "    </tr>\n",
              "    <tr>\n",
              "      <th>9995</th>\n",
              "      <td>11</td>\n",
              "      <td>72</td>\n",
              "      <td>87</td>\n",
              "      <td>2</td>\n",
              "      <td>59</td>\n",
              "      <td>31.995427</td>\n",
              "      <td>0.320696</td>\n",
              "      <td>29</td>\n",
              "      <td>1</td>\n",
              "    </tr>\n",
              "    <tr>\n",
              "      <th>9997</th>\n",
              "      <td>8</td>\n",
              "      <td>172</td>\n",
              "      <td>86</td>\n",
              "      <td>28</td>\n",
              "      <td>40</td>\n",
              "      <td>28.269468</td>\n",
              "      <td>0.602019</td>\n",
              "      <td>31</td>\n",
              "      <td>0</td>\n",
              "    </tr>\n",
              "  </tbody>\n",
              "</table>\n",
              "<p>5371 rows × 9 columns</p>\n",
              "</div>\n",
              "      <button class=\"colab-df-convert\" onclick=\"convertToInteractive('df-9e1becff-d46c-4df1-8ca1-d037a7100f65')\"\n",
              "              title=\"Convert this dataframe to an interactive table.\"\n",
              "              style=\"display:none;\">\n",
              "        \n",
              "  <svg xmlns=\"http://www.w3.org/2000/svg\" height=\"24px\"viewBox=\"0 0 24 24\"\n",
              "       width=\"24px\">\n",
              "    <path d=\"M0 0h24v24H0V0z\" fill=\"none\"/>\n",
              "    <path d=\"M18.56 5.44l.94 2.06.94-2.06 2.06-.94-2.06-.94-.94-2.06-.94 2.06-2.06.94zm-11 1L8.5 8.5l.94-2.06 2.06-.94-2.06-.94L8.5 2.5l-.94 2.06-2.06.94zm10 10l.94 2.06.94-2.06 2.06-.94-2.06-.94-.94-2.06-.94 2.06-2.06.94z\"/><path d=\"M17.41 7.96l-1.37-1.37c-.4-.4-.92-.59-1.43-.59-.52 0-1.04.2-1.43.59L10.3 9.45l-7.72 7.72c-.78.78-.78 2.05 0 2.83L4 21.41c.39.39.9.59 1.41.59.51 0 1.02-.2 1.41-.59l7.78-7.78 2.81-2.81c.8-.78.8-2.07 0-2.86zM5.41 20L4 18.59l7.72-7.72 1.47 1.35L5.41 20z\"/>\n",
              "  </svg>\n",
              "      </button>\n",
              "      \n",
              "  <style>\n",
              "    .colab-df-container {\n",
              "      display:flex;\n",
              "      flex-wrap:wrap;\n",
              "      gap: 12px;\n",
              "    }\n",
              "\n",
              "    .colab-df-convert {\n",
              "      background-color: #E8F0FE;\n",
              "      border: none;\n",
              "      border-radius: 50%;\n",
              "      cursor: pointer;\n",
              "      display: none;\n",
              "      fill: #1967D2;\n",
              "      height: 32px;\n",
              "      padding: 0 0 0 0;\n",
              "      width: 32px;\n",
              "    }\n",
              "\n",
              "    .colab-df-convert:hover {\n",
              "      background-color: #E2EBFA;\n",
              "      box-shadow: 0px 1px 2px rgba(60, 64, 67, 0.3), 0px 1px 3px 1px rgba(60, 64, 67, 0.15);\n",
              "      fill: #174EA6;\n",
              "    }\n",
              "\n",
              "    [theme=dark] .colab-df-convert {\n",
              "      background-color: #3B4455;\n",
              "      fill: #D2E3FC;\n",
              "    }\n",
              "\n",
              "    [theme=dark] .colab-df-convert:hover {\n",
              "      background-color: #434B5C;\n",
              "      box-shadow: 0px 1px 3px 1px rgba(0, 0, 0, 0.15);\n",
              "      filter: drop-shadow(0px 1px 2px rgba(0, 0, 0, 0.3));\n",
              "      fill: #FFFFFF;\n",
              "    }\n",
              "  </style>\n",
              "\n",
              "      <script>\n",
              "        const buttonEl =\n",
              "          document.querySelector('#df-9e1becff-d46c-4df1-8ca1-d037a7100f65 button.colab-df-convert');\n",
              "        buttonEl.style.display =\n",
              "          google.colab.kernel.accessAllowed ? 'block' : 'none';\n",
              "\n",
              "        async function convertToInteractive(key) {\n",
              "          const element = document.querySelector('#df-9e1becff-d46c-4df1-8ca1-d037a7100f65');\n",
              "          const dataTable =\n",
              "            await google.colab.kernel.invokeFunction('convertToInteractive',\n",
              "                                                     [key], {});\n",
              "          if (!dataTable) return;\n",
              "\n",
              "          const docLinkHtml = 'Like what you see? Visit the ' +\n",
              "            '<a target=\"_blank\" href=https://colab.research.google.com/notebooks/data_table.ipynb>data table notebook</a>'\n",
              "            + ' to learn more about interactive tables.';\n",
              "          element.innerHTML = '';\n",
              "          dataTable['output_type'] = 'display_data';\n",
              "          await google.colab.output.renderOutput(dataTable, element);\n",
              "          const docLink = document.createElement('div');\n",
              "          docLink.innerHTML = docLinkHtml;\n",
              "          element.appendChild(docLink);\n",
              "        }\n",
              "      </script>\n",
              "    </div>\n",
              "  </div>\n",
              "  "
            ]
          },
          "metadata": {},
          "execution_count": 47
        }
      ]
    },
    {
      "cell_type": "code",
      "source": [
        "samples_new['Outcome'].value_counts()"
      ],
      "metadata": {
        "id": "u-45KPJnJTnk",
        "outputId": "e47c7dd9-653d-4227-e7a0-77fb96fc6ca1",
        "colab": {
          "base_uri": "https://localhost:8080/"
        }
      },
      "execution_count": null,
      "outputs": [
        {
          "output_type": "execute_result",
          "data": {
            "text/plain": [
              "0    2968\n",
              "1    2403\n",
              "Name: Outcome, dtype: int64"
            ]
          },
          "metadata": {},
          "execution_count": 48
        }
      ]
    },
    {
      "cell_type": "code",
      "source": [
        "X = samples_new.loc[:, samples_new.columns != 'Outcome']"
      ],
      "metadata": {
        "id": "5FbzNCGTHqd0"
      },
      "execution_count": null,
      "outputs": []
    },
    {
      "cell_type": "code",
      "source": [
        "y = samples_new.Outcome"
      ],
      "metadata": {
        "id": "LCilNsKfHz_Q"
      },
      "execution_count": null,
      "outputs": []
    },
    {
      "cell_type": "code",
      "source": [
        "X_train, X_test, y_train, y_test = train_test_split(X, y,test_size=0.2)"
      ],
      "metadata": {
        "id": "TE6X8-7zJ_Aj"
      },
      "execution_count": null,
      "outputs": []
    },
    {
      "cell_type": "code",
      "source": [
        "X_train.shape"
      ],
      "metadata": {
        "id": "XhquykQpZoLA",
        "outputId": "4975b253-dc56-4906-8a3e-841d0eb9fe70",
        "colab": {
          "base_uri": "https://localhost:8080/"
        }
      },
      "execution_count": null,
      "outputs": [
        {
          "output_type": "execute_result",
          "data": {
            "text/plain": [
              "(4296, 8)"
            ]
          },
          "metadata": {},
          "execution_count": 52
        }
      ]
    },
    {
      "cell_type": "code",
      "source": [
        "X_test.shape"
      ],
      "metadata": {
        "id": "WLeaC3HiZ0_U",
        "outputId": "e73766d7-cd9e-4893-de28-92ebf9c232b4",
        "colab": {
          "base_uri": "https://localhost:8080/"
        }
      },
      "execution_count": null,
      "outputs": [
        {
          "output_type": "execute_result",
          "data": {
            "text/plain": [
              "(1075, 8)"
            ]
          },
          "metadata": {},
          "execution_count": 53
        }
      ]
    },
    {
      "cell_type": "code",
      "source": [
        "min=X_train.min(axis=0)"
      ],
      "metadata": {
        "id": "bDOPNVI9KAWS"
      },
      "execution_count": null,
      "outputs": []
    },
    {
      "cell_type": "code",
      "source": [
        "min"
      ],
      "metadata": {
        "id": "ZDu1cdGKKeav",
        "outputId": "c2f90a3d-8ce2-496d-a5b5-b53f275259ef",
        "colab": {
          "base_uri": "https://localhost:8080/"
        }
      },
      "execution_count": null,
      "outputs": [
        {
          "output_type": "execute_result",
          "data": {
            "text/plain": [
              "Pregnancies                  0.000000\n",
              "Glucose                     11.000000\n",
              "BloodPressure                0.000000\n",
              "SkinThickness                0.000000\n",
              "Insulin                      0.000000\n",
              "BMI                          8.159069\n",
              "DiabetesPedigreeFunction     0.079522\n",
              "Age                         21.000000\n",
              "dtype: float64"
            ]
          },
          "metadata": {},
          "execution_count": 53
        }
      ]
    },
    {
      "cell_type": "code",
      "source": [
        "max=X_train.max(axis=0)"
      ],
      "metadata": {
        "id": "92WQpKRMKh__"
      },
      "execution_count": null,
      "outputs": []
    },
    {
      "cell_type": "code",
      "source": [
        "max"
      ],
      "metadata": {
        "id": "v_1wghvMKnGO",
        "outputId": "7074a2ab-7237-422b-ca98-3dd12a7b8264",
        "colab": {
          "base_uri": "https://localhost:8080/"
        }
      },
      "execution_count": null,
      "outputs": [
        {
          "output_type": "execute_result",
          "data": {
            "text/plain": [
              "Pregnancies                  17.000000\n",
              "Glucose                     199.000000\n",
              "BloodPressure               122.000000\n",
              "SkinThickness                64.000000\n",
              "Insulin                     844.000000\n",
              "BMI                          61.931604\n",
              "DiabetesPedigreeFunction      2.369880\n",
              "Age                          81.000000\n",
              "dtype: float64"
            ]
          },
          "metadata": {},
          "execution_count": 55
        }
      ]
    },
    {
      "cell_type": "code",
      "source": [
        "#X_train_normalized = (X_train - min) / (max - min)"
      ],
      "metadata": {
        "id": "j-5ETrxqPQm2"
      },
      "execution_count": null,
      "outputs": []
    },
    {
      "cell_type": "code",
      "source": [
        "#X_test_normalized = (X_test - min) / (max - min)"
      ],
      "metadata": {
        "id": "p41afqvZ641H"
      },
      "execution_count": null,
      "outputs": []
    },
    {
      "cell_type": "markdown",
      "source": [
        "Standardization works better"
      ],
      "metadata": {
        "id": "I7MOsNGEcWv-"
      }
    },
    {
      "cell_type": "code",
      "source": [
        "mean=X_train.mean(axis=0)\n",
        "X_train -= mean\n",
        "std=X_train.std(axis=0)\n",
        "X_train /= std\n",
        "X_test -= mean\n",
        "X_test /= std"
      ],
      "metadata": {
        "id": "SuZXz6ExE8qE"
      },
      "execution_count": null,
      "outputs": []
    },
    {
      "cell_type": "code",
      "source": [
        "model_for_ctgan = tf.keras.Sequential([\n",
        "    Dense(16, activation='relu', input_shape=(X_train.shape[1],),\n",
        "          kernel_regularizer=regularizers.l1_l2(l1=1e-5, l2=1e-4)),\n",
        "    tf.keras.layers.BatchNormalization(),\n",
        "    Dense(8, activation='relu'),\n",
        "    Dense(1, activation='sigmoid')        \n",
        "])"
      ],
      "metadata": {
        "id": "lknFDOGIFSgQ"
      },
      "execution_count": null,
      "outputs": []
    },
    {
      "cell_type": "code",
      "source": [
        "model_for_ctgan.compile(optimizer='rmsprop', loss='binary_crossentropy', metrics=['accuracy'])"
      ],
      "metadata": {
        "id": "Yw79w2pdFgoN"
      },
      "execution_count": null,
      "outputs": []
    },
    {
      "cell_type": "code",
      "source": [
        "history = model_for_ctgan.fit(X_train , y_train, epochs=100, batch_size=16, \n",
        "                              \n",
        "                              validation_data= (X_test, y_test), callbacks=callbacks)"
      ],
      "metadata": {
        "id": "XBMIZ_5sFEXt",
        "outputId": "ef981b86-3d58-4d6c-d697-461198facf1c",
        "colab": {
          "base_uri": "https://localhost:8080/"
        }
      },
      "execution_count": null,
      "outputs": [
        {
          "output_type": "stream",
          "name": "stdout",
          "text": [
            "Epoch 1/100\n",
            "269/269 [==============================] - 3s 6ms/step - loss: 0.6985 - accuracy: 0.5715 - val_loss: 0.6661 - val_accuracy: 0.6149\n",
            "Epoch 2/100\n",
            "269/269 [==============================] - 1s 5ms/step - loss: 0.6632 - accuracy: 0.6152 - val_loss: 0.6623 - val_accuracy: 0.6140\n",
            "Epoch 3/100\n",
            "269/269 [==============================] - 2s 6ms/step - loss: 0.6570 - accuracy: 0.6304 - val_loss: 0.6573 - val_accuracy: 0.6214\n",
            "Epoch 4/100\n",
            "269/269 [==============================] - 2s 6ms/step - loss: 0.6520 - accuracy: 0.6280 - val_loss: 0.6566 - val_accuracy: 0.6149\n",
            "Epoch 5/100\n",
            "269/269 [==============================] - 1s 5ms/step - loss: 0.6503 - accuracy: 0.6304 - val_loss: 0.6550 - val_accuracy: 0.6149\n",
            "Epoch 6/100\n",
            "269/269 [==============================] - 1s 5ms/step - loss: 0.6461 - accuracy: 0.6397 - val_loss: 0.6554 - val_accuracy: 0.6177\n",
            "Epoch 7/100\n",
            "269/269 [==============================] - 1s 5ms/step - loss: 0.6477 - accuracy: 0.6322 - val_loss: 0.6566 - val_accuracy: 0.6158\n",
            "Epoch 8/100\n",
            "269/269 [==============================] - 1s 5ms/step - loss: 0.6445 - accuracy: 0.6343 - val_loss: 0.6569 - val_accuracy: 0.6205\n",
            "Epoch 9/100\n",
            "269/269 [==============================] - 2s 8ms/step - loss: 0.6442 - accuracy: 0.6427 - val_loss: 0.6555 - val_accuracy: 0.6149\n",
            "Epoch 10/100\n",
            "269/269 [==============================] - 1s 6ms/step - loss: 0.6426 - accuracy: 0.6376 - val_loss: 0.6588 - val_accuracy: 0.6140\n"
          ]
        }
      ]
    },
    {
      "cell_type": "code",
      "source": [
        "plt.plot(history.history['loss'])\n",
        "plt.plot(history.history['val_loss'])\n",
        "plt.title('model loss')\n",
        "plt.ylabel('loss')\n",
        "plt.xlabel('epochs')\n",
        "plt.legend(['train', 'val'], loc='upper left')\n",
        "plt.show()"
      ],
      "metadata": {
        "id": "5xG_WWdQFy5m",
        "outputId": "7ad8d001-c5da-498f-e0d4-5f1570b051bd",
        "colab": {
          "base_uri": "https://localhost:8080/",
          "height": 295
        }
      },
      "execution_count": null,
      "outputs": [
        {
          "output_type": "display_data",
          "data": {
            "text/plain": [
              "<Figure size 432x288 with 1 Axes>"
            ],
            "image/png": "[encoded data removed]"
          },
          "metadata": {
            "needs_background": "light"
          }
        }
      ]
    },
    {
      "cell_type": "code",
      "source": [
        "plt.plot(history.history['accuracy'])\n",
        "plt.plot(history.history['val_accuracy'])\n",
        "plt.title('model accuracy')\n",
        "plt.ylabel('accuracy')\n",
        "plt.xlabel('epochs')\n",
        "plt.legend(['train', 'val'], loc='upper left')\n",
        "plt.show()"
      ],
      "metadata": {
        "id": "p0VUhBsJFzJa",
        "outputId": "93d64978-2d89-4e88-e953-13a23a407a99",
        "colab": {
          "base_uri": "https://localhost:8080/",
          "height": 295
        }
      },
      "execution_count": null,
      "outputs": [
        {
          "output_type": "display_data",
          "data": {
            "text/plain": [
              "<Figure size 432x288 with 1 Axes>"
            ],
            "image/png": "[encoded data removed]"
          },
          "metadata": {
            "needs_background": "light"
          }
        }
      ]
    },
    {
      "cell_type": "code",
      "source": [
        "y_pred_keras = model_for_ctgan.predict(X_test).ravel()\n",
        "fpr_keras, tpr_keras, thresholds_keras = roc_curve(y_test, y_pred_keras)\n",
        "auc_keras = auc(fpr_keras, tpr_keras)"
      ],
      "metadata": {
        "id": "q7LuZTxIF8Mm",
        "outputId": "b71a3651-122d-43cd-b994-259eb85550e2",
        "colab": {
          "base_uri": "https://localhost:8080/"
        }
      },
      "execution_count": null,
      "outputs": [
        {
          "output_type": "stream",
          "name": "stdout",
          "text": [
            "34/34 [==============================] - 0s 2ms/step\n"
          ]
        }
      ]
    },
    {
      "cell_type": "code",
      "source": [
        "plt.plot([0, 1], [0, 1], 'k--')\n",
        "plt.plot(fpr_keras, tpr_keras, label='CTGAN (area = {:.3f})'.format(auc_keras))\n",
        "plt.xlabel('False positive rate')\n",
        "plt.ylabel('True positive rate')\n",
        "plt.title('ROC curve')\n",
        "plt.legend(loc='best')\n",
        "plt.show()"
      ],
      "metadata": {
        "id": "OtpL9XUFGA8E",
        "outputId": "a1a48ccf-948c-4e3c-ed22-1ec2470b9594",
        "colab": {
          "base_uri": "https://localhost:8080/",
          "height": 295
        }
      },
      "execution_count": null,
      "outputs": [
        {
          "output_type": "display_data",
          "data": {
            "text/plain": [
              "<Figure size 432x288 with 1 Axes>"
            ],
            "image/png": "[encoded data removed]"
          },
          "metadata": {
            "needs_background": "light"
          }
        }
      ]
    },
    {
      "cell_type": "code",
      "source": [
        "df['Outcome'].value_counts()"
      ],
      "metadata": {
        "id": "QBrZDg2ebnga",
        "outputId": "f34752af-6071-42ad-9f4f-3e8079361b0c",
        "colab": {
          "base_uri": "https://localhost:8080/"
        }
      },
      "execution_count": null,
      "outputs": [
        {
          "output_type": "execute_result",
          "data": {
            "text/plain": [
              "0    500\n",
              "1    268\n",
              "Name: Outcome, dtype: int64"
            ]
          },
          "metadata": {},
          "execution_count": 63
        }
      ]
    },
    {
      "cell_type": "code",
      "source": [
        "X = df.loc[:, df.columns != 'Outcome']"
      ],
      "metadata": {
        "id": "3403sR-WAn8l"
      },
      "execution_count": null,
      "outputs": []
    },
    {
      "cell_type": "code",
      "source": [
        "y = df.Outcome"
      ],
      "metadata": {
        "id": "RuF_0GgLAsOw"
      },
      "execution_count": null,
      "outputs": []
    },
    {
      "cell_type": "code",
      "source": [
        "X_train, X_test, y_train, y_test = train_test_split(X, y,test_size=0.2)"
      ],
      "metadata": {
        "id": "Iv4Zg9AFA9YL"
      },
      "execution_count": null,
      "outputs": []
    },
    {
      "cell_type": "code",
      "source": [
        "y.value_counts()[0]"
      ],
      "metadata": {
        "id": "0mG7yJsMCfwR",
        "outputId": "41cf606c-c7bb-453c-a856-a6cf58821ee5",
        "colab": {
          "base_uri": "https://localhost:8080/"
        }
      },
      "execution_count": null,
      "outputs": [
        {
          "output_type": "execute_result",
          "data": {
            "text/plain": [
              "500"
            ]
          },
          "metadata": {},
          "execution_count": 67
        }
      ]
    },
    {
      "cell_type": "code",
      "source": [
        "y.value_counts()[1]"
      ],
      "metadata": {
        "id": "WwV85t6fCzFe",
        "outputId": "bef0e0eb-9c6c-467b-bbfe-2f3947f2ef5c",
        "colab": {
          "base_uri": "https://localhost:8080/"
        }
      },
      "execution_count": null,
      "outputs": [
        {
          "output_type": "execute_result",
          "data": {
            "text/plain": [
              "268"
            ]
          },
          "metadata": {},
          "execution_count": 68
        }
      ]
    },
    {
      "cell_type": "code",
      "source": [
        "pos = y.value_counts()[1]\n",
        "neg = y.value_counts()[0]\n",
        "total = pos+neg\n",
        "weight_for_0 = (1 / neg) * (total / 2.0)\n",
        "weight_for_1 = (1 / pos) * (total / 2.0)\n",
        "\n",
        "class_weight = {0: weight_for_0, 1: weight_for_1}"
      ],
      "metadata": {
        "id": "lI0HVynG-BiH"
      },
      "execution_count": null,
      "outputs": []
    },
    {
      "cell_type": "code",
      "source": [
        "mean=X_train.mean(axis=0)\n",
        "X_train -= mean\n",
        "std=X_train.std(axis=0)\n",
        "X_train /= std\n",
        "X_test -= mean\n",
        "X_test /= std"
      ],
      "metadata": {
        "id": "HZBEE2JjGIVJ"
      },
      "execution_count": null,
      "outputs": []
    },
    {
      "cell_type": "code",
      "source": [
        "model_class_weights = tf.keras.Sequential([\n",
        "    Dense(16, activation='relu', input_shape=(X_train.shape[1],),\n",
        "          kernel_regularizer=regularizers.l1_l2(l1=1e-5, l2=1e-4)),\n",
        "    tf.keras.layers.BatchNormalization(),\n",
        "    Dense(8, activation='relu'),\n",
        "    Dense(1, activation='sigmoid')        \n",
        "])"
      ],
      "metadata": {
        "id": "IEvagoYBGQ2s"
      },
      "execution_count": null,
      "outputs": []
    },
    {
      "cell_type": "code",
      "source": [
        "model_class_weights.compile(optimizer='rmsprop', loss='binary_crossentropy', metrics=['accuracy'])"
      ],
      "metadata": {
        "id": "hDo7WURWGUiz"
      },
      "execution_count": null,
      "outputs": []
    },
    {
      "cell_type": "code",
      "source": [
        "history = model_class_weights.fit(X_train , y_train, epochs=100, batch_size=16, \n",
        "                              \n",
        "                              validation_data= (X_test, y_test),class_weight = class_weight,\n",
        "                              callbacks=callbacks)"
      ],
      "metadata": {
        "id": "t7p1R54aGaHL",
        "outputId": "7c34fc92-2841-490d-f8e6-71a308ce5a68",
        "colab": {
          "base_uri": "https://localhost:8080/"
        }
      },
      "execution_count": null,
      "outputs": [
        {
          "output_type": "stream",
          "name": "stdout",
          "text": [
            "Epoch 1/100\n",
            "39/39 [==============================] - 1s 11ms/step - loss: 0.6434 - accuracy: 0.6450 - val_loss: 0.6442 - val_accuracy: 0.6234\n",
            "Epoch 2/100\n",
            "39/39 [==============================] - 0s 6ms/step - loss: 0.5960 - accuracy: 0.6759 - val_loss: 0.6167 - val_accuracy: 0.6753\n",
            "Epoch 3/100\n",
            "39/39 [==============================] - 0s 7ms/step - loss: 0.5789 - accuracy: 0.7020 - val_loss: 0.5990 - val_accuracy: 0.6818\n",
            "Epoch 4/100\n",
            "39/39 [==============================] - 0s 6ms/step - loss: 0.5422 - accuracy: 0.6938 - val_loss: 0.5817 - val_accuracy: 0.7078\n",
            "Epoch 5/100\n",
            "39/39 [==============================] - 0s 5ms/step - loss: 0.5492 - accuracy: 0.7134 - val_loss: 0.5753 - val_accuracy: 0.7338\n",
            "Epoch 6/100\n",
            "39/39 [==============================] - 0s 7ms/step - loss: 0.5384 - accuracy: 0.7068 - val_loss: 0.5683 - val_accuracy: 0.7338\n",
            "Epoch 7/100\n",
            "39/39 [==============================] - 0s 5ms/step - loss: 0.5217 - accuracy: 0.7345 - val_loss: 0.5635 - val_accuracy: 0.7338\n",
            "Epoch 8/100\n",
            "39/39 [==============================] - 0s 6ms/step - loss: 0.5167 - accuracy: 0.7231 - val_loss: 0.5579 - val_accuracy: 0.7403\n",
            "Epoch 9/100\n",
            "39/39 [==============================] - 0s 6ms/step - loss: 0.5139 - accuracy: 0.7508 - val_loss: 0.5567 - val_accuracy: 0.7338\n",
            "Epoch 10/100\n",
            "39/39 [==============================] - 0s 7ms/step - loss: 0.5141 - accuracy: 0.7362 - val_loss: 0.5549 - val_accuracy: 0.7273\n",
            "Epoch 11/100\n",
            "39/39 [==============================] - 0s 5ms/step - loss: 0.5235 - accuracy: 0.7150 - val_loss: 0.5531 - val_accuracy: 0.7403\n",
            "Epoch 12/100\n",
            "39/39 [==============================] - 0s 8ms/step - loss: 0.5105 - accuracy: 0.7410 - val_loss: 0.5554 - val_accuracy: 0.7403\n",
            "Epoch 13/100\n",
            "39/39 [==============================] - 0s 10ms/step - loss: 0.4890 - accuracy: 0.7459 - val_loss: 0.5532 - val_accuracy: 0.7403\n",
            "Epoch 14/100\n",
            "39/39 [==============================] - 0s 10ms/step - loss: 0.5085 - accuracy: 0.7573 - val_loss: 0.5500 - val_accuracy: 0.7532\n",
            "Epoch 15/100\n",
            "39/39 [==============================] - 0s 8ms/step - loss: 0.4926 - accuracy: 0.7557 - val_loss: 0.5493 - val_accuracy: 0.7532\n",
            "Epoch 16/100\n",
            "39/39 [==============================] - 0s 6ms/step - loss: 0.4807 - accuracy: 0.7606 - val_loss: 0.5511 - val_accuracy: 0.7468\n",
            "Epoch 17/100\n",
            "39/39 [==============================] - 0s 7ms/step - loss: 0.5067 - accuracy: 0.7459 - val_loss: 0.5504 - val_accuracy: 0.7403\n",
            "Epoch 18/100\n",
            "39/39 [==============================] - 0s 6ms/step - loss: 0.4839 - accuracy: 0.7655 - val_loss: 0.5459 - val_accuracy: 0.7403\n",
            "Epoch 19/100\n",
            "39/39 [==============================] - 0s 7ms/step - loss: 0.4804 - accuracy: 0.7671 - val_loss: 0.5414 - val_accuracy: 0.7468\n",
            "Epoch 20/100\n",
            "39/39 [==============================] - 0s 11ms/step - loss: 0.5007 - accuracy: 0.7638 - val_loss: 0.5413 - val_accuracy: 0.7468\n",
            "Epoch 21/100\n",
            "39/39 [==============================] - 0s 10ms/step - loss: 0.4924 - accuracy: 0.7476 - val_loss: 0.5417 - val_accuracy: 0.7468\n",
            "Epoch 22/100\n",
            "39/39 [==============================] - 0s 7ms/step - loss: 0.4872 - accuracy: 0.7671 - val_loss: 0.5435 - val_accuracy: 0.7468\n",
            "Epoch 23/100\n",
            "39/39 [==============================] - 0s 6ms/step - loss: 0.4996 - accuracy: 0.7590 - val_loss: 0.5438 - val_accuracy: 0.7468\n",
            "Epoch 24/100\n",
            "39/39 [==============================] - 0s 6ms/step - loss: 0.4813 - accuracy: 0.7655 - val_loss: 0.5432 - val_accuracy: 0.7403\n",
            "Epoch 25/100\n",
            "39/39 [==============================] - 0s 6ms/step - loss: 0.4809 - accuracy: 0.7655 - val_loss: 0.5428 - val_accuracy: 0.7403\n"
          ]
        }
      ]
    },
    {
      "cell_type": "code",
      "source": [
        "plt.plot(history.history['loss'])\n",
        "plt.plot(history.history['val_loss'])\n",
        "plt.title('model loss')\n",
        "plt.ylabel('loss')\n",
        "plt.xlabel('epochs')\n",
        "plt.legend(['train', 'val'], loc='upper left')\n",
        "plt.show()"
      ],
      "metadata": {
        "id": "TUJVHX7GGdyw",
        "outputId": "e249fe2b-5fba-4065-e32a-3a9bcf575f0f",
        "colab": {
          "base_uri": "https://localhost:8080/",
          "height": 295
        }
      },
      "execution_count": null,
      "outputs": [
        {
          "output_type": "display_data",
          "data": {
            "text/plain": [
              "<Figure size 432x288 with 1 Axes>"
            ],
            "image/png": "[encoded data removed]"
          },
          "metadata": {
            "needs_background": "light"
          }
        }
      ]
    },
    {
      "cell_type": "code",
      "source": [
        "plt.plot(history.history['accuracy'])\n",
        "plt.plot(history.history['val_accuracy'])\n",
        "plt.title('model accuracy')\n",
        "plt.ylabel('accuracy')\n",
        "plt.xlabel('epochs')\n",
        "plt.legend(['train', 'val'], loc='upper left')\n",
        "plt.show()"
      ],
      "metadata": {
        "id": "GezE_vKcGnZ8",
        "outputId": "d1ecd468-a672-41f1-b5ed-2883d224c7e6",
        "colab": {
          "base_uri": "https://localhost:8080/",
          "height": 295
        }
      },
      "execution_count": null,
      "outputs": [
        {
          "output_type": "display_data",
          "data": {
            "text/plain": [
              "<Figure size 432x288 with 1 Axes>"
            ],
            "image/png": "[encoded data removed]"
          },
          "metadata": {
            "needs_background": "light"
          }
        }
      ]
    },
    {
      "cell_type": "code",
      "source": [
        "y_pred_keras = model_class_weights.predict(X_test).ravel()\n",
        "fpr_keras, tpr_keras, thresholds_keras = roc_curve(y_test, y_pred_keras)\n",
        "auc_keras = auc(fpr_keras, tpr_keras)"
      ],
      "metadata": {
        "id": "plGbe0-OGc19",
        "outputId": "687e440c-ed1d-4d5d-b75a-b86aaa87386e",
        "colab": {
          "base_uri": "https://localhost:8080/"
        }
      },
      "execution_count": null,
      "outputs": [
        {
          "output_type": "stream",
          "name": "stdout",
          "text": [
            "5/5 [==============================] - 0s 3ms/step\n"
          ]
        }
      ]
    },
    {
      "cell_type": "code",
      "source": [
        "plt.plot([0, 1], [0, 1], 'k--')\n",
        "plt.plot(fpr_keras, tpr_keras, label='Class Weights (area = {:.3f})'.format(auc_keras))\n",
        "plt.xlabel('False positive rate')\n",
        "plt.ylabel('True positive rate')\n",
        "plt.title('ROC curve')\n",
        "plt.legend(loc='best')\n",
        "plt.show()"
      ],
      "metadata": {
        "id": "UAUvtFnjGiGz",
        "outputId": "57b9b9ee-787f-4ff0-ea86-4f7797737644",
        "colab": {
          "base_uri": "https://localhost:8080/",
          "height": 295
        }
      },
      "execution_count": null,
      "outputs": [
        {
          "output_type": "display_data",
          "data": {
            "text/plain": [
              "<Figure size 432x288 with 1 Axes>"
            ],
            "image/png": "[encoded data removed]"
          },
          "metadata": {
            "needs_background": "light"
          }
        }
      ]
    }
  ]
}