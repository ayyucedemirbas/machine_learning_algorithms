{
  "nbformat": 4,
  "nbformat_minor": 0,
  "metadata": {
    "colab": {
      "name": "AustinAnimalCenter.ipynb",
      "provenance": [],
      "authorship_tag": "ABX9TyO3k+eMO8OaCMzInJcMlHQU",
      "include_colab_link": true
    },
    "kernelspec": {
      "name": "python3",
      "display_name": "Python 3"
    }
  },
  "cells": [
    {
      "cell_type": "markdown",
      "metadata": {
        "id": "view-in-github",
        "colab_type": "text"
      },
      "source": [
        "<a href=\"https://colab.research.google.com/github/ayyucedemirbas/machine_learning_algorithms/blob/master/AustinAnimalCenter.ipynb\" target=\"_parent\"><img src=\"https://colab.research.google.com/assets/colab-badge.svg\" alt=\"Open In Colab\"/></a>"
      ]
    },
    {
      "cell_type": "code",
      "metadata": {
        "id": "7hwiU4yOIVnL",
        "outputId": "59bc7c39-ed9f-4c77-9215-bdc3036ad288",
        "colab": {
          "base_uri": "https://localhost:8080/"
        }
      },
      "source": [
        "import pandas as pd\n",
        "\n",
        "import warnings\n",
        "warnings.filterwarnings(\"ignore\")\n",
        "  \n",
        "dfIntakes = pd.read_csv('https://raw.githubusercontent.com/ayyucedemirbas/machine_learning_algorithms/master/Austin_Animal_Center_Intakes.csv')\n",
        "\n",
        "dfOutcomes = pd.read_csv('https://raw.githubusercontent.com/ayyucedemirbas/machine_learning_algorithms/master/Austin_Animal_Center_Outcomes.csv')\n",
        "\n",
        "df= pd.concat([dfIntakes, dfOutcomes], ignore_index=True)\n",
        "\n",
        "print('The shape of the dataset is:', df.shape)"
      ],
      "execution_count": 53,
      "outputs": [
        {
          "output_type": "stream",
          "text": [
            "The shape of the dataset is: (243627, 17)\n"
          ],
          "name": "stdout"
        }
      ]
    },
    {
      "cell_type": "code",
      "metadata": {
        "id": "WXuGHgreKU0v",
        "outputId": "f0b25999-4b38-409e-9a58-4ec92951f3d2",
        "colab": {
          "base_uri": "https://localhost:8080/",
          "height": 323
        }
      },
      "source": [
        "df.head()"
      ],
      "execution_count": 54,
      "outputs": [
        {
          "output_type": "execute_result",
          "data": {
            "text/html": [
              "<div>\n",
              "<style scoped>\n",
              "    .dataframe tbody tr th:only-of-type {\n",
              "        vertical-align: middle;\n",
              "    }\n",
              "\n",
              "    .dataframe tbody tr th {\n",
              "        vertical-align: top;\n",
              "    }\n",
              "\n",
              "    .dataframe thead th {\n",
              "        text-align: right;\n",
              "    }\n",
              "</style>\n",
              "<table border=\"1\" class=\"dataframe\">\n",
              "  <thead>\n",
              "    <tr style=\"text-align: right;\">\n",
              "      <th></th>\n",
              "      <th>Animal ID</th>\n",
              "      <th>Name</th>\n",
              "      <th>DateTime</th>\n",
              "      <th>MonthYear</th>\n",
              "      <th>Found Location</th>\n",
              "      <th>Intake Type</th>\n",
              "      <th>Intake Condition</th>\n",
              "      <th>Animal Type</th>\n",
              "      <th>Sex upon Intake</th>\n",
              "      <th>Age upon Intake</th>\n",
              "      <th>Breed</th>\n",
              "      <th>Color</th>\n",
              "      <th>Date of Birth</th>\n",
              "      <th>Outcome Type</th>\n",
              "      <th>Outcome Subtype</th>\n",
              "      <th>Sex upon Outcome</th>\n",
              "      <th>Age upon Outcome</th>\n",
              "    </tr>\n",
              "  </thead>\n",
              "  <tbody>\n",
              "    <tr>\n",
              "      <th>0</th>\n",
              "      <td>A786884</td>\n",
              "      <td>*Brock</td>\n",
              "      <td>01/03/2019 04:19:00 PM</td>\n",
              "      <td>01/03/2019 04:19:00 PM</td>\n",
              "      <td>2501 Magin Meadow Dr in Austin (TX)</td>\n",
              "      <td>Stray</td>\n",
              "      <td>Normal</td>\n",
              "      <td>Dog</td>\n",
              "      <td>Neutered Male</td>\n",
              "      <td>2 years</td>\n",
              "      <td>Beagle Mix</td>\n",
              "      <td>Tricolor</td>\n",
              "      <td>NaN</td>\n",
              "      <td>NaN</td>\n",
              "      <td>NaN</td>\n",
              "      <td>NaN</td>\n",
              "      <td>NaN</td>\n",
              "    </tr>\n",
              "    <tr>\n",
              "      <th>1</th>\n",
              "      <td>A706918</td>\n",
              "      <td>Belle</td>\n",
              "      <td>07/05/2015 12:59:00 PM</td>\n",
              "      <td>07/05/2015 12:59:00 PM</td>\n",
              "      <td>9409 Bluegrass Dr in Austin (TX)</td>\n",
              "      <td>Stray</td>\n",
              "      <td>Normal</td>\n",
              "      <td>Dog</td>\n",
              "      <td>Spayed Female</td>\n",
              "      <td>8 years</td>\n",
              "      <td>English Springer Spaniel</td>\n",
              "      <td>White/Liver</td>\n",
              "      <td>NaN</td>\n",
              "      <td>NaN</td>\n",
              "      <td>NaN</td>\n",
              "      <td>NaN</td>\n",
              "      <td>NaN</td>\n",
              "    </tr>\n",
              "    <tr>\n",
              "      <th>2</th>\n",
              "      <td>A724273</td>\n",
              "      <td>Runster</td>\n",
              "      <td>04/14/2016 06:43:00 PM</td>\n",
              "      <td>04/14/2016 06:43:00 PM</td>\n",
              "      <td>2818 Palomino Trail in Austin (TX)</td>\n",
              "      <td>Stray</td>\n",
              "      <td>Normal</td>\n",
              "      <td>Dog</td>\n",
              "      <td>Intact Male</td>\n",
              "      <td>11 months</td>\n",
              "      <td>Basenji Mix</td>\n",
              "      <td>Sable/White</td>\n",
              "      <td>NaN</td>\n",
              "      <td>NaN</td>\n",
              "      <td>NaN</td>\n",
              "      <td>NaN</td>\n",
              "      <td>NaN</td>\n",
              "    </tr>\n",
              "    <tr>\n",
              "      <th>3</th>\n",
              "      <td>A665644</td>\n",
              "      <td>NaN</td>\n",
              "      <td>10/21/2013 07:59:00 AM</td>\n",
              "      <td>10/21/2013 07:59:00 AM</td>\n",
              "      <td>Austin (TX)</td>\n",
              "      <td>Stray</td>\n",
              "      <td>Sick</td>\n",
              "      <td>Cat</td>\n",
              "      <td>Intact Female</td>\n",
              "      <td>4 weeks</td>\n",
              "      <td>Domestic Shorthair Mix</td>\n",
              "      <td>Calico</td>\n",
              "      <td>NaN</td>\n",
              "      <td>NaN</td>\n",
              "      <td>NaN</td>\n",
              "      <td>NaN</td>\n",
              "      <td>NaN</td>\n",
              "    </tr>\n",
              "    <tr>\n",
              "      <th>4</th>\n",
              "      <td>A682524</td>\n",
              "      <td>Rio</td>\n",
              "      <td>06/29/2014 10:38:00 AM</td>\n",
              "      <td>06/29/2014 10:38:00 AM</td>\n",
              "      <td>800 Grove Blvd in Austin (TX)</td>\n",
              "      <td>Stray</td>\n",
              "      <td>Normal</td>\n",
              "      <td>Dog</td>\n",
              "      <td>Neutered Male</td>\n",
              "      <td>4 years</td>\n",
              "      <td>Doberman Pinsch/Australian Cattle Dog</td>\n",
              "      <td>Tan/Gray</td>\n",
              "      <td>NaN</td>\n",
              "      <td>NaN</td>\n",
              "      <td>NaN</td>\n",
              "      <td>NaN</td>\n",
              "      <td>NaN</td>\n",
              "    </tr>\n",
              "  </tbody>\n",
              "</table>\n",
              "</div>"
            ],
            "text/plain": [
              "  Animal ID     Name  ... Sex upon Outcome Age upon Outcome\n",
              "0   A786884   *Brock  ...              NaN              NaN\n",
              "1   A706918    Belle  ...              NaN              NaN\n",
              "2   A724273  Runster  ...              NaN              NaN\n",
              "3   A665644      NaN  ...              NaN              NaN\n",
              "4   A682524      Rio  ...              NaN              NaN\n",
              "\n",
              "[5 rows x 17 columns]"
            ]
          },
          "metadata": {
            "tags": []
          },
          "execution_count": 54
        }
      ]
    },
    {
      "cell_type": "code",
      "metadata": {
        "id": "UnQczME2a0T6",
        "outputId": "0bb92b6b-6eee-4fb9-abb1-6f60b730708e",
        "colab": {
          "base_uri": "https://localhost:8080/",
          "height": 323
        }
      },
      "source": [
        "df['Date of Birth'] = df['Date of Birth'].fillna(0)\n",
        "df['Outcome Type'] = df['Outcome Type'].fillna(0)\n",
        "df['Outcome Subtype'] = df['Outcome Subtype'].fillna(0)\n",
        "df['Sex upon Outcome'] = df['Sex upon Outcome'].fillna(0)\n",
        "df['Age upon Outcome'] = df['Age upon Outcome'].fillna(0)\n",
        "df.head()"
      ],
      "execution_count": 55,
      "outputs": [
        {
          "output_type": "execute_result",
          "data": {
            "text/html": [
              "<div>\n",
              "<style scoped>\n",
              "    .dataframe tbody tr th:only-of-type {\n",
              "        vertical-align: middle;\n",
              "    }\n",
              "\n",
              "    .dataframe tbody tr th {\n",
              "        vertical-align: top;\n",
              "    }\n",
              "\n",
              "    .dataframe thead th {\n",
              "        text-align: right;\n",
              "    }\n",
              "</style>\n",
              "<table border=\"1\" class=\"dataframe\">\n",
              "  <thead>\n",
              "    <tr style=\"text-align: right;\">\n",
              "      <th></th>\n",
              "      <th>Animal ID</th>\n",
              "      <th>Name</th>\n",
              "      <th>DateTime</th>\n",
              "      <th>MonthYear</th>\n",
              "      <th>Found Location</th>\n",
              "      <th>Intake Type</th>\n",
              "      <th>Intake Condition</th>\n",
              "      <th>Animal Type</th>\n",
              "      <th>Sex upon Intake</th>\n",
              "      <th>Age upon Intake</th>\n",
              "      <th>Breed</th>\n",
              "      <th>Color</th>\n",
              "      <th>Date of Birth</th>\n",
              "      <th>Outcome Type</th>\n",
              "      <th>Outcome Subtype</th>\n",
              "      <th>Sex upon Outcome</th>\n",
              "      <th>Age upon Outcome</th>\n",
              "    </tr>\n",
              "  </thead>\n",
              "  <tbody>\n",
              "    <tr>\n",
              "      <th>0</th>\n",
              "      <td>A786884</td>\n",
              "      <td>*Brock</td>\n",
              "      <td>01/03/2019 04:19:00 PM</td>\n",
              "      <td>01/03/2019 04:19:00 PM</td>\n",
              "      <td>2501 Magin Meadow Dr in Austin (TX)</td>\n",
              "      <td>Stray</td>\n",
              "      <td>Normal</td>\n",
              "      <td>Dog</td>\n",
              "      <td>Neutered Male</td>\n",
              "      <td>2 years</td>\n",
              "      <td>Beagle Mix</td>\n",
              "      <td>Tricolor</td>\n",
              "      <td>0</td>\n",
              "      <td>0</td>\n",
              "      <td>0</td>\n",
              "      <td>0</td>\n",
              "      <td>0</td>\n",
              "    </tr>\n",
              "    <tr>\n",
              "      <th>1</th>\n",
              "      <td>A706918</td>\n",
              "      <td>Belle</td>\n",
              "      <td>07/05/2015 12:59:00 PM</td>\n",
              "      <td>07/05/2015 12:59:00 PM</td>\n",
              "      <td>9409 Bluegrass Dr in Austin (TX)</td>\n",
              "      <td>Stray</td>\n",
              "      <td>Normal</td>\n",
              "      <td>Dog</td>\n",
              "      <td>Spayed Female</td>\n",
              "      <td>8 years</td>\n",
              "      <td>English Springer Spaniel</td>\n",
              "      <td>White/Liver</td>\n",
              "      <td>0</td>\n",
              "      <td>0</td>\n",
              "      <td>0</td>\n",
              "      <td>0</td>\n",
              "      <td>0</td>\n",
              "    </tr>\n",
              "    <tr>\n",
              "      <th>2</th>\n",
              "      <td>A724273</td>\n",
              "      <td>Runster</td>\n",
              "      <td>04/14/2016 06:43:00 PM</td>\n",
              "      <td>04/14/2016 06:43:00 PM</td>\n",
              "      <td>2818 Palomino Trail in Austin (TX)</td>\n",
              "      <td>Stray</td>\n",
              "      <td>Normal</td>\n",
              "      <td>Dog</td>\n",
              "      <td>Intact Male</td>\n",
              "      <td>11 months</td>\n",
              "      <td>Basenji Mix</td>\n",
              "      <td>Sable/White</td>\n",
              "      <td>0</td>\n",
              "      <td>0</td>\n",
              "      <td>0</td>\n",
              "      <td>0</td>\n",
              "      <td>0</td>\n",
              "    </tr>\n",
              "    <tr>\n",
              "      <th>3</th>\n",
              "      <td>A665644</td>\n",
              "      <td>NaN</td>\n",
              "      <td>10/21/2013 07:59:00 AM</td>\n",
              "      <td>10/21/2013 07:59:00 AM</td>\n",
              "      <td>Austin (TX)</td>\n",
              "      <td>Stray</td>\n",
              "      <td>Sick</td>\n",
              "      <td>Cat</td>\n",
              "      <td>Intact Female</td>\n",
              "      <td>4 weeks</td>\n",
              "      <td>Domestic Shorthair Mix</td>\n",
              "      <td>Calico</td>\n",
              "      <td>0</td>\n",
              "      <td>0</td>\n",
              "      <td>0</td>\n",
              "      <td>0</td>\n",
              "      <td>0</td>\n",
              "    </tr>\n",
              "    <tr>\n",
              "      <th>4</th>\n",
              "      <td>A682524</td>\n",
              "      <td>Rio</td>\n",
              "      <td>06/29/2014 10:38:00 AM</td>\n",
              "      <td>06/29/2014 10:38:00 AM</td>\n",
              "      <td>800 Grove Blvd in Austin (TX)</td>\n",
              "      <td>Stray</td>\n",
              "      <td>Normal</td>\n",
              "      <td>Dog</td>\n",
              "      <td>Neutered Male</td>\n",
              "      <td>4 years</td>\n",
              "      <td>Doberman Pinsch/Australian Cattle Dog</td>\n",
              "      <td>Tan/Gray</td>\n",
              "      <td>0</td>\n",
              "      <td>0</td>\n",
              "      <td>0</td>\n",
              "      <td>0</td>\n",
              "      <td>0</td>\n",
              "    </tr>\n",
              "  </tbody>\n",
              "</table>\n",
              "</div>"
            ],
            "text/plain": [
              "  Animal ID     Name  ... Sex upon Outcome Age upon Outcome\n",
              "0   A786884   *Brock  ...                0                0\n",
              "1   A706918    Belle  ...                0                0\n",
              "2   A724273  Runster  ...                0                0\n",
              "3   A665644      NaN  ...                0                0\n",
              "4   A682524      Rio  ...                0                0\n",
              "\n",
              "[5 rows x 17 columns]"
            ]
          },
          "metadata": {
            "tags": []
          },
          "execution_count": 55
        }
      ]
    },
    {
      "cell_type": "code",
      "metadata": {
        "id": "fm4un5e8exjv",
        "outputId": "dea1493a-27d4-4fd1-a11a-e16f47a13ee2",
        "colab": {
          "base_uri": "https://localhost:8080/"
        }
      },
      "source": [
        "df['Outcome Type'].unique()"
      ],
      "execution_count": 56,
      "outputs": [
        {
          "output_type": "execute_result",
          "data": {
            "text/plain": [
              "array([0, 'Rto-Adopt', 'Adoption', 'Transfer', 'Return to Owner',\n",
              "       'Euthanasia', 'Died', 'Disposal', 'Missing', 'Relocate'],\n",
              "      dtype=object)"
            ]
          },
          "metadata": {
            "tags": []
          },
          "execution_count": 56
        }
      ]
    },
    {
      "cell_type": "code",
      "metadata": {
        "id": "b7eE02ifiI5R"
      },
      "source": [
        "myFuckingmap = {'Rto-Adopt':1, 'Adoption':2, 'Transfer':3, 'Return to Owner':4, 'Euthanasia':5, 'Died':6, 'Disposal':7, 'Missing':8, 'Relocate':9}\n"
      ],
      "execution_count": 57,
      "outputs": []
    },
    {
      "cell_type": "code",
      "metadata": {
        "id": "3ttntI6viqSK"
      },
      "source": [
        "df=df.applymap(lambda s: myFuckingmap.get(s) if s in myFuckingmap else s)"
      ],
      "execution_count": 58,
      "outputs": []
    },
    {
      "cell_type": "code",
      "metadata": {
        "id": "PMbCo1mEi5JT",
        "outputId": "532fb915-8b60-4468-b351-2a10cb161a60",
        "colab": {
          "base_uri": "https://localhost:8080/",
          "height": 623
        }
      },
      "source": [
        "df"
      ],
      "execution_count": 59,
      "outputs": [
        {
          "output_type": "execute_result",
          "data": {
            "text/html": [
              "<div>\n",
              "<style scoped>\n",
              "    .dataframe tbody tr th:only-of-type {\n",
              "        vertical-align: middle;\n",
              "    }\n",
              "\n",
              "    .dataframe tbody tr th {\n",
              "        vertical-align: top;\n",
              "    }\n",
              "\n",
              "    .dataframe thead th {\n",
              "        text-align: right;\n",
              "    }\n",
              "</style>\n",
              "<table border=\"1\" class=\"dataframe\">\n",
              "  <thead>\n",
              "    <tr style=\"text-align: right;\">\n",
              "      <th></th>\n",
              "      <th>Animal ID</th>\n",
              "      <th>Name</th>\n",
              "      <th>DateTime</th>\n",
              "      <th>MonthYear</th>\n",
              "      <th>Found Location</th>\n",
              "      <th>Intake Type</th>\n",
              "      <th>Intake Condition</th>\n",
              "      <th>Animal Type</th>\n",
              "      <th>Sex upon Intake</th>\n",
              "      <th>Age upon Intake</th>\n",
              "      <th>Breed</th>\n",
              "      <th>Color</th>\n",
              "      <th>Date of Birth</th>\n",
              "      <th>Outcome Type</th>\n",
              "      <th>Outcome Subtype</th>\n",
              "      <th>Sex upon Outcome</th>\n",
              "      <th>Age upon Outcome</th>\n",
              "    </tr>\n",
              "  </thead>\n",
              "  <tbody>\n",
              "    <tr>\n",
              "      <th>0</th>\n",
              "      <td>A786884</td>\n",
              "      <td>*Brock</td>\n",
              "      <td>01/03/2019 04:19:00 PM</td>\n",
              "      <td>01/03/2019 04:19:00 PM</td>\n",
              "      <td>2501 Magin Meadow Dr in Austin (TX)</td>\n",
              "      <td>Stray</td>\n",
              "      <td>Normal</td>\n",
              "      <td>Dog</td>\n",
              "      <td>Neutered Male</td>\n",
              "      <td>2 years</td>\n",
              "      <td>Beagle Mix</td>\n",
              "      <td>Tricolor</td>\n",
              "      <td>0</td>\n",
              "      <td>0</td>\n",
              "      <td>0</td>\n",
              "      <td>0</td>\n",
              "      <td>0</td>\n",
              "    </tr>\n",
              "    <tr>\n",
              "      <th>1</th>\n",
              "      <td>A706918</td>\n",
              "      <td>Belle</td>\n",
              "      <td>07/05/2015 12:59:00 PM</td>\n",
              "      <td>07/05/2015 12:59:00 PM</td>\n",
              "      <td>9409 Bluegrass Dr in Austin (TX)</td>\n",
              "      <td>Stray</td>\n",
              "      <td>Normal</td>\n",
              "      <td>Dog</td>\n",
              "      <td>Spayed Female</td>\n",
              "      <td>8 years</td>\n",
              "      <td>English Springer Spaniel</td>\n",
              "      <td>White/Liver</td>\n",
              "      <td>0</td>\n",
              "      <td>0</td>\n",
              "      <td>0</td>\n",
              "      <td>0</td>\n",
              "      <td>0</td>\n",
              "    </tr>\n",
              "    <tr>\n",
              "      <th>2</th>\n",
              "      <td>A724273</td>\n",
              "      <td>Runster</td>\n",
              "      <td>04/14/2016 06:43:00 PM</td>\n",
              "      <td>04/14/2016 06:43:00 PM</td>\n",
              "      <td>2818 Palomino Trail in Austin (TX)</td>\n",
              "      <td>Stray</td>\n",
              "      <td>Normal</td>\n",
              "      <td>Dog</td>\n",
              "      <td>Intact Male</td>\n",
              "      <td>11 months</td>\n",
              "      <td>Basenji Mix</td>\n",
              "      <td>Sable/White</td>\n",
              "      <td>0</td>\n",
              "      <td>0</td>\n",
              "      <td>0</td>\n",
              "      <td>0</td>\n",
              "      <td>0</td>\n",
              "    </tr>\n",
              "    <tr>\n",
              "      <th>3</th>\n",
              "      <td>A665644</td>\n",
              "      <td>NaN</td>\n",
              "      <td>10/21/2013 07:59:00 AM</td>\n",
              "      <td>10/21/2013 07:59:00 AM</td>\n",
              "      <td>Austin (TX)</td>\n",
              "      <td>Stray</td>\n",
              "      <td>Sick</td>\n",
              "      <td>Cat</td>\n",
              "      <td>Intact Female</td>\n",
              "      <td>4 weeks</td>\n",
              "      <td>Domestic Shorthair Mix</td>\n",
              "      <td>Calico</td>\n",
              "      <td>0</td>\n",
              "      <td>0</td>\n",
              "      <td>0</td>\n",
              "      <td>0</td>\n",
              "      <td>0</td>\n",
              "    </tr>\n",
              "    <tr>\n",
              "      <th>4</th>\n",
              "      <td>A682524</td>\n",
              "      <td>Rio</td>\n",
              "      <td>06/29/2014 10:38:00 AM</td>\n",
              "      <td>06/29/2014 10:38:00 AM</td>\n",
              "      <td>800 Grove Blvd in Austin (TX)</td>\n",
              "      <td>Stray</td>\n",
              "      <td>Normal</td>\n",
              "      <td>Dog</td>\n",
              "      <td>Neutered Male</td>\n",
              "      <td>4 years</td>\n",
              "      <td>Doberman Pinsch/Australian Cattle Dog</td>\n",
              "      <td>Tan/Gray</td>\n",
              "      <td>0</td>\n",
              "      <td>0</td>\n",
              "      <td>0</td>\n",
              "      <td>0</td>\n",
              "      <td>0</td>\n",
              "    </tr>\n",
              "    <tr>\n",
              "      <th>...</th>\n",
              "      <td>...</td>\n",
              "      <td>...</td>\n",
              "      <td>...</td>\n",
              "      <td>...</td>\n",
              "      <td>...</td>\n",
              "      <td>...</td>\n",
              "      <td>...</td>\n",
              "      <td>...</td>\n",
              "      <td>...</td>\n",
              "      <td>...</td>\n",
              "      <td>...</td>\n",
              "      <td>...</td>\n",
              "      <td>...</td>\n",
              "      <td>...</td>\n",
              "      <td>...</td>\n",
              "      <td>...</td>\n",
              "      <td>...</td>\n",
              "    </tr>\n",
              "    <tr>\n",
              "      <th>243622</th>\n",
              "      <td>A825308</td>\n",
              "      <td>NaN</td>\n",
              "      <td>11/02/2020 09:08:00 AM</td>\n",
              "      <td>11/02/2020 09:08:00 AM</td>\n",
              "      <td>NaN</td>\n",
              "      <td>NaN</td>\n",
              "      <td>NaN</td>\n",
              "      <td>Other</td>\n",
              "      <td>NaN</td>\n",
              "      <td>NaN</td>\n",
              "      <td>Bat</td>\n",
              "      <td>Brown</td>\n",
              "      <td>11/01/2018</td>\n",
              "      <td>5</td>\n",
              "      <td>Rabies Risk</td>\n",
              "      <td>Unknown</td>\n",
              "      <td>2 years</td>\n",
              "    </tr>\n",
              "    <tr>\n",
              "      <th>243623</th>\n",
              "      <td>A825313</td>\n",
              "      <td>NaN</td>\n",
              "      <td>11/02/2020 09:02:00 AM</td>\n",
              "      <td>11/02/2020 09:02:00 AM</td>\n",
              "      <td>NaN</td>\n",
              "      <td>NaN</td>\n",
              "      <td>NaN</td>\n",
              "      <td>Other</td>\n",
              "      <td>NaN</td>\n",
              "      <td>NaN</td>\n",
              "      <td>Bat</td>\n",
              "      <td>Brown</td>\n",
              "      <td>11/01/2019</td>\n",
              "      <td>5</td>\n",
              "      <td>Rabies Risk</td>\n",
              "      <td>Unknown</td>\n",
              "      <td>1 year</td>\n",
              "    </tr>\n",
              "    <tr>\n",
              "      <th>243624</th>\n",
              "      <td>A825314</td>\n",
              "      <td>NaN</td>\n",
              "      <td>11/02/2020 09:04:00 AM</td>\n",
              "      <td>11/02/2020 09:04:00 AM</td>\n",
              "      <td>NaN</td>\n",
              "      <td>NaN</td>\n",
              "      <td>NaN</td>\n",
              "      <td>Other</td>\n",
              "      <td>NaN</td>\n",
              "      <td>NaN</td>\n",
              "      <td>Bat</td>\n",
              "      <td>Brown</td>\n",
              "      <td>11/01/2019</td>\n",
              "      <td>7</td>\n",
              "      <td>0</td>\n",
              "      <td>Unknown</td>\n",
              "      <td>1 year</td>\n",
              "    </tr>\n",
              "    <tr>\n",
              "      <th>243625</th>\n",
              "      <td>A825315</td>\n",
              "      <td>NaN</td>\n",
              "      <td>11/02/2020 09:02:00 AM</td>\n",
              "      <td>11/02/2020 09:02:00 AM</td>\n",
              "      <td>NaN</td>\n",
              "      <td>NaN</td>\n",
              "      <td>NaN</td>\n",
              "      <td>Other</td>\n",
              "      <td>NaN</td>\n",
              "      <td>NaN</td>\n",
              "      <td>Bat</td>\n",
              "      <td>Brown</td>\n",
              "      <td>11/01/2019</td>\n",
              "      <td>7</td>\n",
              "      <td>0</td>\n",
              "      <td>Unknown</td>\n",
              "      <td>1 year</td>\n",
              "    </tr>\n",
              "    <tr>\n",
              "      <th>243626</th>\n",
              "      <td>A825312</td>\n",
              "      <td>NaN</td>\n",
              "      <td>11/02/2020 09:01:00 AM</td>\n",
              "      <td>11/02/2020 09:01:00 AM</td>\n",
              "      <td>NaN</td>\n",
              "      <td>NaN</td>\n",
              "      <td>NaN</td>\n",
              "      <td>Other</td>\n",
              "      <td>NaN</td>\n",
              "      <td>NaN</td>\n",
              "      <td>Bat</td>\n",
              "      <td>Brown</td>\n",
              "      <td>11/01/2019</td>\n",
              "      <td>5</td>\n",
              "      <td>Rabies Risk</td>\n",
              "      <td>Unknown</td>\n",
              "      <td>1 year</td>\n",
              "    </tr>\n",
              "  </tbody>\n",
              "</table>\n",
              "<p>243627 rows × 17 columns</p>\n",
              "</div>"
            ],
            "text/plain": [
              "       Animal ID     Name  ... Sex upon Outcome Age upon Outcome\n",
              "0        A786884   *Brock  ...                0                0\n",
              "1        A706918    Belle  ...                0                0\n",
              "2        A724273  Runster  ...                0                0\n",
              "3        A665644      NaN  ...                0                0\n",
              "4        A682524      Rio  ...                0                0\n",
              "...          ...      ...  ...              ...              ...\n",
              "243622   A825308      NaN  ...          Unknown          2 years\n",
              "243623   A825313      NaN  ...          Unknown           1 year\n",
              "243624   A825314      NaN  ...          Unknown           1 year\n",
              "243625   A825315      NaN  ...          Unknown           1 year\n",
              "243626   A825312      NaN  ...          Unknown           1 year\n",
              "\n",
              "[243627 rows x 17 columns]"
            ]
          },
          "metadata": {
            "tags": []
          },
          "execution_count": 59
        }
      ]
    },
    {
      "cell_type": "code",
      "metadata": {
        "id": "042FdySvKfgU",
        "outputId": "52d3902a-58cb-401a-898e-1faee90e68b6",
        "colab": {
          "base_uri": "https://localhost:8080/"
        }
      },
      "source": [
        "df.info()"
      ],
      "execution_count": 60,
      "outputs": [
        {
          "output_type": "stream",
          "text": [
            "<class 'pandas.core.frame.DataFrame'>\n",
            "RangeIndex: 243627 entries, 0 to 243626\n",
            "Data columns (total 17 columns):\n",
            " #   Column            Non-Null Count   Dtype \n",
            "---  ------            --------------   ----- \n",
            " 0   Animal ID         243627 non-null  object\n",
            " 1   Name              166897 non-null  object\n",
            " 2   DateTime          243627 non-null  object\n",
            " 3   MonthYear         243627 non-null  object\n",
            " 4   Found Location    121855 non-null  object\n",
            " 5   Intake Type       121855 non-null  object\n",
            " 6   Intake Condition  121855 non-null  object\n",
            " 7   Animal Type       243627 non-null  object\n",
            " 8   Sex upon Intake   121854 non-null  object\n",
            " 9   Age upon Intake   121788 non-null  object\n",
            " 10  Breed             243627 non-null  object\n",
            " 11  Color             243627 non-null  object\n",
            " 12  Date of Birth     243627 non-null  object\n",
            " 13  Outcome Type      243627 non-null  int64 \n",
            " 14  Outcome Subtype   243627 non-null  object\n",
            " 15  Sex upon Outcome  243627 non-null  object\n",
            " 16  Age upon Outcome  243627 non-null  object\n",
            "dtypes: int64(1), object(16)\n",
            "memory usage: 31.6+ MB\n"
          ],
          "name": "stdout"
        }
      ]
    },
    {
      "cell_type": "code",
      "metadata": {
        "id": "SYpUEYHWjmSi",
        "outputId": "bb1e6ee8-9a5f-47b2-9545-0fc40150d62c",
        "colab": {
          "base_uri": "https://localhost:8080/"
        }
      },
      "source": [
        "\"\"\"fuck = pd.Series(df['Outcome Type'])\n",
        "\n",
        "pd.to_numeric(fuck)\"\"\""
      ],
      "execution_count": 18,
      "outputs": [
        {
          "output_type": "execute_result",
          "data": {
            "text/plain": [
              "0         0\n",
              "1         0\n",
              "2         0\n",
              "3         0\n",
              "4         0\n",
              "         ..\n",
              "243622    5\n",
              "243623    5\n",
              "243624    7\n",
              "243625    7\n",
              "243626    5\n",
              "Name: Outcome Type, Length: 243627, dtype: int64"
            ]
          },
          "metadata": {
            "tags": []
          },
          "execution_count": 18
        }
      ]
    },
    {
      "cell_type": "code",
      "metadata": {
        "id": "snDSCxVXnF-Z",
        "outputId": "60736c97-9839-4b05-ff50-5392c9a7c53c",
        "colab": {
          "base_uri": "https://localhost:8080/"
        }
      },
      "source": [
        "df['Outcome Type'].dtypes\n"
      ],
      "execution_count": 61,
      "outputs": [
        {
          "output_type": "execute_result",
          "data": {
            "text/plain": [
              "dtype('int64')"
            ]
          },
          "metadata": {
            "tags": []
          },
          "execution_count": 61
        }
      ]
    },
    {
      "cell_type": "code",
      "metadata": {
        "id": "c8DMaRFIKr4g",
        "outputId": "57ebad41-c6a9-43fe-ffab-76f86aefab86",
        "colab": {
          "base_uri": "https://localhost:8080/",
          "height": 297
        }
      },
      "source": [
        "df.describe()"
      ],
      "execution_count": 62,
      "outputs": [
        {
          "output_type": "execute_result",
          "data": {
            "text/html": [
              "<div>\n",
              "<style scoped>\n",
              "    .dataframe tbody tr th:only-of-type {\n",
              "        vertical-align: middle;\n",
              "    }\n",
              "\n",
              "    .dataframe tbody tr th {\n",
              "        vertical-align: top;\n",
              "    }\n",
              "\n",
              "    .dataframe thead th {\n",
              "        text-align: right;\n",
              "    }\n",
              "</style>\n",
              "<table border=\"1\" class=\"dataframe\">\n",
              "  <thead>\n",
              "    <tr style=\"text-align: right;\">\n",
              "      <th></th>\n",
              "      <th>Outcome Type</th>\n",
              "    </tr>\n",
              "  </thead>\n",
              "  <tbody>\n",
              "    <tr>\n",
              "      <th>count</th>\n",
              "      <td>243627.000000</td>\n",
              "    </tr>\n",
              "    <tr>\n",
              "      <th>mean</th>\n",
              "      <td>1.452347</td>\n",
              "    </tr>\n",
              "    <tr>\n",
              "      <th>std</th>\n",
              "      <td>1.627424</td>\n",
              "    </tr>\n",
              "    <tr>\n",
              "      <th>min</th>\n",
              "      <td>0.000000</td>\n",
              "    </tr>\n",
              "    <tr>\n",
              "      <th>25%</th>\n",
              "      <td>0.000000</td>\n",
              "    </tr>\n",
              "    <tr>\n",
              "      <th>50%</th>\n",
              "      <td>0.000000</td>\n",
              "    </tr>\n",
              "    <tr>\n",
              "      <th>75%</th>\n",
              "      <td>3.000000</td>\n",
              "    </tr>\n",
              "    <tr>\n",
              "      <th>max</th>\n",
              "      <td>9.000000</td>\n",
              "    </tr>\n",
              "  </tbody>\n",
              "</table>\n",
              "</div>"
            ],
            "text/plain": [
              "        Outcome Type\n",
              "count  243627.000000\n",
              "mean        1.452347\n",
              "std         1.627424\n",
              "min         0.000000\n",
              "25%         0.000000\n",
              "50%         0.000000\n",
              "75%         3.000000\n",
              "max         9.000000"
            ]
          },
          "metadata": {
            "tags": []
          },
          "execution_count": 62
        }
      ]
    },
    {
      "cell_type": "code",
      "metadata": {
        "id": "H3rBvmjhKuaL",
        "outputId": "e5d89bbf-6d75-4672-8edb-efb28db6ec6e",
        "colab": {
          "base_uri": "https://localhost:8080/"
        }
      },
      "source": [
        "print(df.columns)"
      ],
      "execution_count": 63,
      "outputs": [
        {
          "output_type": "stream",
          "text": [
            "Index(['Animal ID', 'Name', 'DateTime', 'MonthYear', 'Found Location',\n",
            "       'Intake Type', 'Intake Condition', 'Animal Type', 'Sex upon Intake',\n",
            "       'Age upon Intake', 'Breed', 'Color', 'Date of Birth', 'Outcome Type',\n",
            "       'Outcome Subtype', 'Sex upon Outcome', 'Age upon Outcome'],\n",
            "      dtype='object')\n"
          ],
          "name": "stdout"
        }
      ]
    },
    {
      "cell_type": "code",
      "metadata": {
        "id": "7RTwupFmc6Me",
        "outputId": "8f577778-f534-4279-ff6e-52b86258fdb4",
        "colab": {
          "base_uri": "https://localhost:8080/"
        }
      },
      "source": [
        "model_features = df.columns.drop('Outcome Type')\n",
        "model_target = 'Outcome Type'\n",
        "\n",
        "print('Model features: ', model_features)\n",
        "print('Model target: ', model_target)"
      ],
      "execution_count": 64,
      "outputs": [
        {
          "output_type": "stream",
          "text": [
            "Model features:  Index(['Animal ID', 'Name', 'DateTime', 'MonthYear', 'Found Location',\n",
            "       'Intake Type', 'Intake Condition', 'Animal Type', 'Sex upon Intake',\n",
            "       'Age upon Intake', 'Breed', 'Color', 'Date of Birth', 'Outcome Subtype',\n",
            "       'Sex upon Outcome', 'Age upon Outcome'],\n",
            "      dtype='object')\n",
            "Model target:  Outcome Type\n"
          ],
          "name": "stdout"
        }
      ]
    },
    {
      "cell_type": "code",
      "metadata": {
        "id": "57-rRslsK67o",
        "outputId": "526514f7-1d25-4c4b-d16d-c9611857247b",
        "colab": {
          "base_uri": "https://localhost:8080/"
        }
      },
      "source": [
        "import numpy as np\n",
        "numerical_features_all = df.select_dtypes(include=['int64']).columns\n",
        "print('Numerical columns:',numerical_features_all)\n",
        "\n",
        "print('')\n",
        "\n",
        "categorical_features_all = df[model_features].select_dtypes(include='object').columns\n",
        "print('Categorical columns:',categorical_features_all)"
      ],
      "execution_count": 65,
      "outputs": [
        {
          "output_type": "stream",
          "text": [
            "Numerical columns: Index(['Outcome Type'], dtype='object')\n",
            "\n",
            "Categorical columns: Index(['Animal ID', 'Name', 'DateTime', 'MonthYear', 'Found Location',\n",
            "       'Intake Type', 'Intake Condition', 'Animal Type', 'Sex upon Intake',\n",
            "       'Age upon Intake', 'Breed', 'Color', 'Date of Birth', 'Outcome Subtype',\n",
            "       'Sex upon Outcome', 'Age upon Outcome'],\n",
            "      dtype='object')\n"
          ],
          "name": "stdout"
        }
      ]
    },
    {
      "cell_type": "code",
      "metadata": {
        "id": "NX5vOgLrLBAY",
        "outputId": "a6db31bb-2caf-49ed-ab0d-5bfc1b4aa49b",
        "colab": {
          "base_uri": "https://localhost:8080/"
        }
      },
      "source": [
        "df[model_target].value_counts()"
      ],
      "execution_count": 66,
      "outputs": [
        {
          "output_type": "execute_result",
          "data": {
            "text/plain": [
              "0    121860\n",
              "2     53844\n",
              "3     36079\n",
              "4     21174\n",
              "5      8230\n",
              "6      1139\n",
              "1       665\n",
              "7       548\n",
              "8        67\n",
              "9        21\n",
              "Name: Outcome Type, dtype: int64"
            ]
          },
          "metadata": {
            "tags": []
          },
          "execution_count": 66
        }
      ]
    },
    {
      "cell_type": "code",
      "metadata": {
        "id": "-jqDoyYCLQhG",
        "outputId": "c88abeae-f654-48d5-b5b4-202d068de69f",
        "colab": {
          "base_uri": "https://localhost:8080/",
          "height": 262
        }
      },
      "source": [
        "import matplotlib.pyplot as plt\n",
        "%matplotlib inline\n",
        "\n",
        "df[model_target].value_counts().plot.bar()\n",
        "plt.show()"
      ],
      "execution_count": 67,
      "outputs": [
        {
          "output_type": "display_data",
          "data": {
            "image/png": "[encoded data removed]",
            "text/plain": [
              "<Figure size 432x288 with 1 Axes>"
            ]
          },
          "metadata": {
            "tags": [],
            "needs_background": "light"
          }
        }
      ]
    },
    {
      "cell_type": "code",
      "metadata": {
        "id": "PceTRZeeLg3N",
        "outputId": "53bea629-bd1c-409f-f206-c73c2a6057b4",
        "colab": {
          "base_uri": "https://localhost:8080/"
        }
      },
      "source": [
        "for c in categorical_features_all: \n",
        "    print(df[c].value_counts())"
      ],
      "execution_count": 68,
      "outputs": [
        {
          "output_type": "stream",
          "text": [
            "A721033    66\n",
            "A718223    28\n",
            "A718877    24\n",
            "A706536    22\n",
            "A616444    18\n",
            "           ..\n",
            "A663809     1\n",
            "A660596     1\n",
            "A817906     1\n",
            "A660604     1\n",
            "A822744     1\n",
            "Name: Animal ID, Length: 109769, dtype: int64\n",
            "Max             1094\n",
            "Bella           1031\n",
            "Luna             948\n",
            "Rocky            745\n",
            "Daisy            722\n",
            "                ... \n",
            "*Mr Popcorn        1\n",
            "Topi               1\n",
            "*Yahtzee           1\n",
            "Zazzy              1\n",
            "*Skellington       1\n",
            "Name: Name, Length: 19561, dtype: int64\n",
            "09/23/2016 12:00:00 PM    64\n",
            "07/09/2014 12:58:00 PM    63\n",
            "09/01/2017 02:47:00 PM    59\n",
            "02/19/2014 01:51:00 PM    49\n",
            "02/14/2016 04:02:00 PM    45\n",
            "                          ..\n",
            "09/22/2017 11:16:00 AM     1\n",
            "03/17/2014 03:19:00 PM     1\n",
            "09/04/2017 02:47:00 PM     1\n",
            "01/30/2019 06:17:00 PM     1\n",
            "08/11/2018 02:46:00 PM     1\n",
            "Name: DateTime, Length: 181316, dtype: int64\n",
            "09/23/2016 12:00:00 PM    64\n",
            "07/09/2014 12:58:00 PM    63\n",
            "09/01/2017 02:47:00 PM    59\n",
            "02/19/2014 01:51:00 PM    49\n",
            "02/14/2016 04:02:00 PM    45\n",
            "                          ..\n",
            "09/22/2017 11:16:00 AM     1\n",
            "03/17/2014 03:19:00 PM     1\n",
            "09/04/2017 02:47:00 PM     1\n",
            "01/30/2019 06:17:00 PM     1\n",
            "08/11/2018 02:46:00 PM     1\n",
            "Name: MonthYear, Length: 181316, dtype: int64\n",
            "Austin (TX)                                          22396\n",
            "Travis (TX)                                           1931\n",
            "Outside Jurisdiction                                  1495\n",
            "7201 Levander Loop in Austin (TX)                      796\n",
            "Pflugerville (TX)                                      602\n",
            "                                                     ...  \n",
            "4606 Spicewood Springs Rd in Austin (TX)                 1\n",
            "East 290 And Bois D Arc in Manor (TX)                    1\n",
            "Southwest Pkwy And Foster Ranch Rd in Austin (TX)        1\n",
            "Dixie Ln in Austin (TX)                                  1\n",
            "Wickersham Ln And Elmont in Austin (TX)                  1\n",
            "Name: Found Location, Length: 52828, dtype: int64\n",
            "Stray                 85137\n",
            "Owner Surrender       23985\n",
            "Public Assist          7455\n",
            "Wildlife               4793\n",
            "Euthanasia Request      257\n",
            "Abandoned               228\n",
            "Name: Intake Type, dtype: int64\n",
            "Normal      106240\n",
            "Injured       6392\n",
            "Sick          4900\n",
            "Nursing       3435\n",
            "Aged           421\n",
            "Other          223\n",
            "Feral          106\n",
            "Pregnant        76\n",
            "Medical         51\n",
            "Behavior        11\n",
            "Name: Intake Condition, dtype: int64\n",
            "Dog          137919\n",
            "Cat           91625\n",
            "Other         12901\n",
            "Bird           1136\n",
            "Livestock        46\n",
            "Name: Animal Type, dtype: int64\n",
            "Intact Male      39494\n",
            "Intact Female    37450\n",
            "Neutered Male    18780\n",
            "Spayed Female    16051\n",
            "Unknown          10079\n",
            "Name: Sex upon Intake, dtype: int64\n",
            "1 year       21416\n",
            "2 years      18430\n",
            "1 month      11727\n",
            "3 years       7310\n",
            "2 months      6609\n",
            "4 years       4393\n",
            "4 weeks       4386\n",
            "5 years       3987\n",
            "3 weeks       3586\n",
            "3 months      3218\n",
            "4 months      3154\n",
            "5 months      3018\n",
            "6 years       2677\n",
            "2 weeks       2478\n",
            "6 months      2323\n",
            "7 years       2297\n",
            "8 years       2230\n",
            "7 months      1830\n",
            "9 months      1799\n",
            "10 years      1787\n",
            "8 months      1455\n",
            "9 years       1303\n",
            "1 week        1017\n",
            "10 months      990\n",
            "1 weeks        885\n",
            "12 years       865\n",
            "11 months      784\n",
            "0 years        748\n",
            "11 years       731\n",
            "1 day          628\n",
            "3 days         562\n",
            "13 years       558\n",
            "2 days         468\n",
            "14 years       377\n",
            "15 years       327\n",
            "4 days         324\n",
            "5 weeks        312\n",
            "6 days         301\n",
            "5 days         180\n",
            "16 years       135\n",
            "17 years        78\n",
            "18 years        47\n",
            "19 years        26\n",
            "20 years        18\n",
            "22 years         5\n",
            "-1 years         4\n",
            "24 years         1\n",
            "23 years         1\n",
            "-3 years         1\n",
            "25 years         1\n",
            "21 years         1\n",
            "Name: Age upon Intake, dtype: int64\n",
            "Domestic Shorthair Mix                     61947\n",
            "Pit Bull Mix                               16731\n",
            "Labrador Retriever Mix                     13529\n",
            "Domestic Shorthair                         12953\n",
            "Chihuahua Shorthair Mix                    12405\n",
            "                                           ...  \n",
            "Pit Bull/Australian Shepherd                   1\n",
            "Domestic Shorthair/Domestic Medium Hair        1\n",
            "Staffordshire/Mastiff                          1\n",
            "Fowl                                           1\n",
            "Bull Terrier/Border Collie                     1\n",
            "Name: Breed, Length: 2614, dtype: int64\n",
            "Black/White            25508\n",
            "Black                  20387\n",
            "Brown Tabby            13822\n",
            "Brown                  10609\n",
            "White                   8579\n",
            "                       ...  \n",
            "Liver/Brown Brindle        1\n",
            "Gray/Brown Brindle         1\n",
            "Brown/Gold                 1\n",
            "Silver/Silver Tabby        1\n",
            "Tortie/Gold                1\n",
            "Name: Color, Length: 593, dtype: int64\n",
            "0             121855\n",
            "04/21/2014       117\n",
            "09/01/2015       117\n",
            "05/05/2014       115\n",
            "05/01/2016       114\n",
            "               ...  \n",
            "10/26/2003         1\n",
            "12/08/2003         1\n",
            "01/17/2002         1\n",
            "08/19/2004         1\n",
            "02/15/2000         1\n",
            "Name: Date of Birth, Length: 7009, dtype: int64\n",
            "0                      187768\n",
            "Partner                 30225\n",
            "Foster                  10267\n",
            "Rabies Risk              3603\n",
            "SCRP                     3211\n",
            "Suffering                3189\n",
            "Snr                      2632\n",
            "In Kennel                 583\n",
            "Aggressive                537\n",
            "Offsite                   383\n",
            "Medical                   302\n",
            "In Foster                 290\n",
            "At Vet                    242\n",
            "Behavior                  158\n",
            "Enroute                    82\n",
            "Underage                   36\n",
            "Court/Investigation        28\n",
            "Field                      24\n",
            "In Surgery                 22\n",
            "Possible Theft             16\n",
            "Barn                       11\n",
            "Prc                        10\n",
            "Customer S                  5\n",
            "Emer                        3\n",
            "Name: Outcome Subtype, dtype: int64\n",
            "0                121856\n",
            "Neutered Male     42688\n",
            "Spayed Female     38430\n",
            "Intact Male       15489\n",
            "Intact Female     15100\n",
            "Unknown           10064\n",
            "Name: Sex upon Outcome, dtype: int64\n",
            "0            121855\n",
            "1 year        21723\n",
            "2 years       18433\n",
            "2 months      14703\n",
            "3 years        7422\n",
            "3 months       5755\n",
            "1 month        5270\n",
            "4 years        4358\n",
            "5 years        4025\n",
            "4 months       3904\n",
            "5 months       3009\n",
            "6 months       2904\n",
            "6 years        2689\n",
            "8 years        2326\n",
            "7 years        2298\n",
            "3 weeks        2099\n",
            "2 weeks        2019\n",
            "8 months       1925\n",
            "10 years       1851\n",
            "4 weeks        1796\n",
            "10 months      1763\n",
            "7 months       1552\n",
            "9 years        1273\n",
            "9 months       1259\n",
            "12 years        905\n",
            "1 weeks         846\n",
            "11 months       770\n",
            "11 years        729\n",
            "1 week          660\n",
            "13 years        583\n",
            "14 years        386\n",
            "3 days          350\n",
            "2 days          340\n",
            "15 years        331\n",
            "1 day           264\n",
            "6 days          237\n",
            "4 days          230\n",
            "0 years         184\n",
            "5 days          158\n",
            "16 years        137\n",
            "5 weeks         118\n",
            "17 years         81\n",
            "18 years         49\n",
            "19 years         26\n",
            "20 years         18\n",
            "22 years          5\n",
            "-1 years          4\n",
            "23 years          1\n",
            "21 years          1\n",
            "24 years          1\n",
            "25 years          1\n",
            "-3 years          1\n",
            "Name: Age upon Outcome, dtype: int64\n"
          ],
          "name": "stdout"
        }
      ]
    },
    {
      "cell_type": "code",
      "metadata": {
        "id": "XMWZ7PgnL2jF",
        "outputId": "8b402001-9aeb-4fc4-a516-a9043866cb5b",
        "colab": {
          "base_uri": "https://localhost:8080/",
          "height": 1000
        }
      },
      "source": [
        "import matplotlib.pyplot as plt\n",
        "%matplotlib inline\n",
        "\n",
        "for c in categorical_features_all:\n",
        "    if len(df[c].value_counts()) < 50:\n",
        "        print(c)\n",
        "        df[c].value_counts().plot.bar()\n",
        "        plt.show()"
      ],
      "execution_count": 69,
      "outputs": [
        {
          "output_type": "stream",
          "text": [
            "Intake Type\n"
          ],
          "name": "stdout"
        },
        {
          "output_type": "display_data",
          "data": {
            "image/png": "[encoded data removed]",
            "text/plain": [
              "<Figure size 432x288 with 1 Axes>"
            ]
          },
          "metadata": {
            "tags": [],
            "needs_background": "light"
          }
        },
        {
          "output_type": "stream",
          "text": [
            "Intake Condition\n"
          ],
          "name": "stdout"
        },
        {
          "output_type": "display_data",
          "data": {
            "image/png": "[encoded data removed]",
            "text/plain": [
              "<Figure size 432x288 with 1 Axes>"
            ]
          },
          "metadata": {
            "tags": [],
            "needs_background": "light"
          }
        },
        {
          "output_type": "stream",
          "text": [
            "Animal Type\n"
          ],
          "name": "stdout"
        },
        {
          "output_type": "display_data",
          "data": {
            "image/png": "[encoded data removed]",
            "text/plain": [
              "<Figure size 432x288 with 1 Axes>"
            ]
          },
          "metadata": {
            "tags": [],
            "needs_background": "light"
          }
        },
        {
          "output_type": "stream",
          "text": [
            "Sex upon Intake\n"
          ],
          "name": "stdout"
        },
        {
          "output_type": "display_data",
          "data": {
            "image/png": "[encoded data removed]",
            "text/plain": [
              "<Figure size 432x288 with 1 Axes>"
            ]
          },
          "metadata": {
            "tags": [],
            "needs_background": "light"
          }
        },
        {
          "output_type": "stream",
          "text": [
            "Outcome Subtype\n"
          ],
          "name": "stdout"
        },
        {
          "output_type": "display_data",
          "data": {
            "image/png": "[encoded data removed]",
            "text/plain": [
              "<Figure size 432x288 with 1 Axes>"
            ]
          },
          "metadata": {
            "tags": [],
            "needs_background": "light"
          }
        },
        {
          "output_type": "stream",
          "text": [
            "Sex upon Outcome\n"
          ],
          "name": "stdout"
        },
        {
          "output_type": "display_data",
          "data": {
            "image/png": "[encoded data removed]",
            "text/plain": [
              "<Figure size 432x288 with 1 Axes>"
            ]
          },
          "metadata": {
            "tags": [],
            "needs_background": "light"
          }
        }
      ]
    },
    {
      "cell_type": "code",
      "metadata": {
        "id": "lkMCjgEPMXCI",
        "outputId": "6f886115-a1b6-4931-9bf9-2174a7ec7cd6",
        "colab": {
          "base_uri": "https://localhost:8080/",
          "height": 282
        }
      },
      "source": [
        "import matplotlib.pyplot as plt\n",
        "%matplotlib inline\n",
        "\n",
        "for c in numerical_features_all:\n",
        "    print(c)\n",
        "    df[c].plot.hist(bins=5)\n",
        "    plt.show()"
      ],
      "execution_count": 70,
      "outputs": [
        {
          "output_type": "stream",
          "text": [
            "Outcome Type\n"
          ],
          "name": "stdout"
        },
        {
          "output_type": "display_data",
          "data": {
            "image/png": "[encoded data removed]",
            "text/plain": [
              "<Figure size 432x288 with 1 Axes>"
            ]
          },
          "metadata": {
            "tags": [],
            "needs_background": "light"
          }
        }
      ]
    },
    {
      "cell_type": "code",
      "metadata": {
        "id": "N5IgaY7LpJKY",
        "outputId": "3b6733b4-69aa-46c7-d378-b3d2a99e97a3",
        "colab": {
          "base_uri": "https://localhost:8080/"
        }
      },
      "source": [
        "for c in numerical_features_all:\n",
        "    print(c)\n",
        "    print('min:', df[c].min(), 'max:', df[c].max())"
      ],
      "execution_count": 71,
      "outputs": [
        {
          "output_type": "stream",
          "text": [
            "Outcome Type\n",
            "min: 0 max: 9\n"
          ],
          "name": "stdout"
        }
      ]
    },
    {
      "cell_type": "code",
      "metadata": {
        "id": "_j5XdMhJrv_L",
        "outputId": "6824d897-87a7-42e8-d108-577088860f03",
        "colab": {
          "base_uri": "https://localhost:8080/"
        }
      },
      "source": [
        "for c in numerical_features_all: \n",
        "    print(c)\n",
        "    print(df[c].value_counts(bins=10, sort=False))\n",
        "    plt.show()"
      ],
      "execution_count": 72,
      "outputs": [
        {
          "output_type": "stream",
          "text": [
            "Outcome Type\n",
            "(-0.009999999999999998, 0.9]    121860\n",
            "(0.9, 1.8]                         665\n",
            "(1.8, 2.7]                       53844\n",
            "(2.7, 3.6]                       36079\n",
            "(3.6, 4.5]                       21174\n",
            "(4.5, 5.4]                        8230\n",
            "(5.4, 6.3]                        1139\n",
            "(6.3, 7.2]                         548\n",
            "(7.2, 8.1]                          67\n",
            "(8.1, 9.0]                          21\n",
            "Name: Outcome Type, dtype: int64\n"
          ],
          "name": "stdout"
        }
      ]
    },
    {
      "cell_type": "code",
      "metadata": {
        "id": "9CrCHijHsDN3",
        "outputId": "c338e77c-2a8b-4f98-b02b-3b23fc417404",
        "colab": {
          "base_uri": "https://localhost:8080/"
        }
      },
      "source": [
        "for c in numerical_features_all:\n",
        "    print(c)\n",
        "    \n",
        "    # Drop values below Q1 - 1.5 IQR and beyond Q3 + 1.5 IQR\n",
        "    #Q1 = df[c].quantile(0.25)\n",
        "    #Q3 = df[c].quantile(0.75)\n",
        "    #IQR = Q3 - Q1\n",
        "    #print (Q1 - 1.5*IQR, Q3 + 1.5*IQR)\n",
        "    \n",
        "    #dropIndexes = df[df[c] > Q3 + 1.5*IQR].index\n",
        "    #df.drop(dropIndexes , inplace=True)\n",
        "    #dropIndexes = df[df[c] < Q1 - 1.5*IQR].index\n",
        "    #df.drop(dropIndexes , inplace=True)\n",
        "    \n",
        "    # Drop values beyond 90% of max()\n",
        "    dropIndexes = df[df[c] > df[c].max()*9/10].index\n",
        "    df.drop(dropIndexes , inplace=True)"
      ],
      "execution_count": 73,
      "outputs": [
        {
          "output_type": "stream",
          "text": [
            "Outcome Type\n"
          ],
          "name": "stdout"
        }
      ]
    },
    {
      "cell_type": "code",
      "metadata": {
        "id": "ONpn-xf-sE2r",
        "outputId": "75b77a3c-fe9b-4829-9e79-94ac78232f96",
        "colab": {
          "base_uri": "https://localhost:8080/"
        }
      },
      "source": [
        "for c in numerical_features_all:\n",
        "    print(c)\n",
        "    print(df[c].value_counts(bins=10, sort=False))\n",
        "    plt.show()"
      ],
      "execution_count": 74,
      "outputs": [
        {
          "output_type": "stream",
          "text": [
            "Outcome Type\n",
            "(-0.009000000000000001, 0.8]    121860\n",
            "(0.8, 1.6]                         665\n",
            "(1.6, 2.4]                       53844\n",
            "(2.4, 3.2]                       36079\n",
            "(3.2, 4.0]                       21174\n",
            "(4.0, 4.8]                           0\n",
            "(4.8, 5.6]                        8230\n",
            "(5.6, 6.4]                        1139\n",
            "(6.4, 7.2]                         548\n",
            "(7.2, 8.0]                          67\n",
            "Name: Outcome Type, dtype: int64\n"
          ],
          "name": "stdout"
        }
      ]
    },
    {
      "cell_type": "code",
      "metadata": {
        "id": "8UJ8mrMnsJpz",
        "outputId": "50292af8-aeb3-4e5a-d9ec-d7390ed65d7a",
        "colab": {
          "base_uri": "https://localhost:8080/",
          "height": 282
        }
      },
      "source": [
        "for c in numerical_features_all:\n",
        "    print(c)\n",
        "    df[c].plot.hist(bins=100)\n",
        "    plt.show()"
      ],
      "execution_count": 77,
      "outputs": [
        {
          "output_type": "stream",
          "text": [
            "Outcome Type\n"
          ],
          "name": "stdout"
        },
        {
          "output_type": "display_data",
          "data": {
            "image/png": "[encoded data removed]",
            "text/plain": [
              "<Figure size 432x288 with 1 Axes>"
            ]
          },
          "metadata": {
            "tags": [],
            "needs_background": "light"
          }
        }
      ]
    }
  ]
}