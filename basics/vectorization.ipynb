{
  "nbformat": 4,
  "nbformat_minor": 0,
  "metadata": {
    "colab": {
      "name": "Untitled42.ipynb",
      "provenance": [],
      "authorship_tag": "ABX9TyPkOn4g2kCTeraXzN5oC5k1",
      "include_colab_link": true
    },
    "kernelspec": {
      "name": "python3",
      "display_name": "Python 3"
    }
  },
  "cells": [
    {
      "cell_type": "markdown",
      "metadata": {
        "id": "view-in-github",
        "colab_type": "text"
      },
      "source": [
        "<a href=\"https://colab.research.google.com/github/ayyucedemirbas/machine_learning_algorithms/blob/master/vectorization.ipynb\" target=\"_parent\"><img src=\"https://colab.research.google.com/assets/colab-badge.svg\" alt=\"Open In Colab\"/></a>"
      ]
    },
    {
      "cell_type": "code",
      "metadata": {
        "id": "02IT0E2kN8bW",
        "colab_type": "code",
        "colab": {
          "base_uri": "https://localhost:8080/",
          "height": 34
        },
        "outputId": "82a66a97-e518-44ec-ecdc-56fb1f8f9ea2"
      },
      "source": [
        "import numpy as np\n",
        "\n",
        "a= np.array([1,2,3,4])\n",
        "print(a)"
      ],
      "execution_count": 3,
      "outputs": [
        {
          "output_type": "stream",
          "text": [
            "[1 2 3 4]\n"
          ],
          "name": "stdout"
        }
      ]
    },
    {
      "cell_type": "code",
      "metadata": {
        "id": "xVnxcBnmObUR",
        "colab_type": "code",
        "colab": {
          "base_uri": "https://localhost:8080/",
          "height": 85
        },
        "outputId": "09cd5d8c-47f8-420b-8c53-02e73b8d0241"
      },
      "source": [
        "import time\n",
        "\n",
        "a= np.random.rand(1000000)\n",
        "b= np.random.rand(1000000)\n",
        "tic=time.time()\n",
        "c= np.dot(a,b)\n",
        "toc=time.time()\n",
        "\n",
        "print(c)\n",
        "print(\"Vectorized version: \" + str(1000*(toc-tic))+ \" ms\")\n",
        "\n",
        "c=0\n",
        "tic=time.time()\n",
        "for i in range(1000000):\n",
        "  c += a[i] * b[i]\n",
        "toc=time.time()\n",
        "print(c)\n",
        "print(\"for loop: \" + str(1000*(toc-tic))+ \" ms\")\n"
      ],
      "execution_count": 7,
      "outputs": [
        {
          "output_type": "stream",
          "text": [
            "250050.45264156512\n",
            "Vectorized version: 1.9602775573730469 ms\n",
            "250050.45264155848\n",
            "for loop: 678.1935691833496 ms\n"
          ],
          "name": "stdout"
        }
      ]
    }
  ]
}