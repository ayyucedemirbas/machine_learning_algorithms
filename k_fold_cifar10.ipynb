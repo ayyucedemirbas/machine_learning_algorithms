{
  "nbformat": 4,
  "nbformat_minor": 0,
  "metadata": {
    "colab": {
      "name": "k-fold_cifar10.ipynb",
      "provenance": [],
      "collapsed_sections": [],
      "authorship_tag": "ABX9TyMMUrPxhfz4ADP+7VmKtY7U",
      "include_colab_link": true
    },
    "kernelspec": {
      "name": "python3",
      "display_name": "Python 3"
    },
    "language_info": {
      "name": "python"
    }
  },
  "cells": [
    {
      "cell_type": "markdown",
      "metadata": {
        "id": "view-in-github",
        "colab_type": "text"
      },
      "source": [
        "<a href=\"https://colab.research.google.com/github/ayyucedemirbas/machine_learning_algorithms/blob/master/k_fold_cifar10.ipynb\" target=\"_parent\"><img src=\"https://colab.research.google.com/assets/colab-badge.svg\" alt=\"Open In Colab\"/></a>"
      ]
    },
    {
      "cell_type": "code",
      "metadata": {
        "id": "X3pGNNxbtIAA"
      },
      "source": [
        "from tensorflow.keras.datasets import cifar10\n",
        "from tensorflow.keras.models import Sequential\n",
        "from tensorflow.keras.layers import Dense, Flatten, Conv2D, MaxPooling2D\n",
        "from tensorflow.keras.losses import sparse_categorical_crossentropy\n",
        "from tensorflow.keras.optimizers import Adam\n",
        "from sklearn.model_selection import KFold\n",
        "from sklearn.model_selection import train_test_split\n",
        "import numpy as np"
      ],
      "execution_count": 1,
      "outputs": []
    },
    {
      "cell_type": "code",
      "metadata": {
        "id": "1SQdSVeWuRyt"
      },
      "source": [
        "(input_train, target_train), (input_test, target_test) = cifar10.load_data()\n",
        "# Parse numbers as floats\n",
        "input_train = input_train.astype('float32')\n",
        "input_test = input_test.astype('float32')\n",
        "\n",
        "# Normalize data\n",
        "input_train = input_train / 255\n",
        "input_test = input_test / 255\n",
        "\n",
        "# Merge inputs and targets\n",
        "inputs = np.concatenate((input_train, input_test), axis=0)\n",
        "targets = np.concatenate((target_train, target_test), axis=0)"
      ],
      "execution_count": 2,
      "outputs": []
    },
    {
      "cell_type": "code",
      "metadata": {
        "colab": {
          "base_uri": "https://localhost:8080/"
        },
        "id": "Q5N9mVa4uoL5",
        "outputId": "ce081a5b-4be7-49ca-ff75-a49a22375b34"
      },
      "source": [
        "input_train.shape[1:]"
      ],
      "execution_count": 10,
      "outputs": [
        {
          "output_type": "execute_result",
          "data": {
            "text/plain": [
              "(32, 32, 3)"
            ]
          },
          "metadata": {
            "tags": []
          },
          "execution_count": 10
        }
      ]
    },
    {
      "cell_type": "code",
      "metadata": {
        "colab": {
          "base_uri": "https://localhost:8080/"
        },
        "id": "XWBKO8dkxehl",
        "outputId": "3743d204-9fc7-4b7a-8ed9-6687798c226b"
      },
      "source": [
        "inputs[1].shape"
      ],
      "execution_count": 15,
      "outputs": [
        {
          "output_type": "execute_result",
          "data": {
            "text/plain": [
              "(32, 32, 3)"
            ]
          },
          "metadata": {
            "tags": []
          },
          "execution_count": 15
        }
      ]
    },
    {
      "cell_type": "code",
      "metadata": {
        "colab": {
          "base_uri": "https://localhost:8080/"
        },
        "id": "6421zHqpx2Qb",
        "outputId": "6988b614-8112-43e3-d15b-234ece00c639"
      },
      "source": [
        "targets[1].shape"
      ],
      "execution_count": 16,
      "outputs": [
        {
          "output_type": "execute_result",
          "data": {
            "text/plain": [
              "(1,)"
            ]
          },
          "metadata": {
            "tags": []
          },
          "execution_count": 16
        }
      ]
    },
    {
      "cell_type": "code",
      "metadata": {
        "id": "ShGmIFOZ0db_"
      },
      "source": [
        "import tensorflow\n",
        "from tensorflow.keras import initializers"
      ],
      "execution_count": 12,
      "outputs": []
    },
    {
      "cell_type": "code",
      "metadata": {
        "colab": {
          "base_uri": "https://localhost:8080/"
        },
        "id": "6Qbc90k5sjwa",
        "outputId": "a3b7d976-24a5-4e1a-d911-603460fb2dbb"
      },
      "source": [
        "# Define the K-fold Cross Validator\n",
        "kfold = KFold(n_splits=2, shuffle=False)\n",
        "input_shape = input_train.shape[1:]\n",
        "# K-fold Cross Validation model evaluation\n",
        "fold_no = 1\n",
        "acc_per_fold=[]\n",
        "loss_per_fold=[]\n",
        "for train, test in kfold.split(inputs, targets):\n",
        "\n",
        "  # Define the model architecture\n",
        "  model= Sequential([\n",
        "        Conv2D(32, (3,3), activation='relu', input_shape=(32,32,3),kernel_initializer=initializers.GlorotUniform(seed=None)),\n",
        "        MaxPooling2D((2,2)),\n",
        "        Conv2D(64, (3,3), activation='relu',kernel_initializer=initializers.GlorotUniform(seed=None)),\n",
        "        MaxPooling2D((2,2)),\n",
        "        Conv2D(128, (3,3), activation='relu', kernel_initializer=initializers.GlorotUniform(seed=None)),\n",
        "        MaxPooling2D((2,2)),\n",
        "        Flatten(),\n",
        "        Dense(256, activation='relu', kernel_initializer=initializers.GlorotUniform(seed=None)),\n",
        "        Dense(128, activation='relu', kernel_initializer=initializers.GlorotUniform(seed=None)),\n",
        "        Dense(10, activation='softmax', kernel_initializer=initializers.GlorotUniform(seed=None))\n",
        "\n",
        "\n",
        "      ])\n",
        "\n",
        "  # Compile the model\n",
        "  opt = tensorflow.keras.optimizers.Adam(learning_rate=0.005)\n",
        "  acc = tensorflow.keras.metrics.SparseCategoricalAccuracy()\n",
        "  mae = tensorflow.keras.metrics.MeanAbsoluteError()\n",
        "  model.compile(\n",
        "    \n",
        "      optimizer= opt,\n",
        "      loss = 'sparse_categorical_crossentropy', #sparse_categorical_crossentropy --> data labels are integers\n",
        "      metrics= [acc, mae]\n",
        "  )\n",
        "\n",
        "\n",
        "  # Generate a print\n",
        "  print('------------------------------------------------------------------------')\n",
        "  print(f'Training for fold {fold_no} ...')\n",
        "\n",
        "  # Fit data to model\n",
        "  history = model.fit(inputs[train], targets[train],epochs=8, batch_size=256, verbose=2)\n",
        "\n",
        "  # Generate generalization metrics\n",
        "  scores = model.evaluate(inputs[test], targets[test], verbose=0)\n",
        "  print(f'Score for fold {fold_no}: {model.metrics_names[0]} of {scores[0]}; {model.metrics_names[1]} of {scores[1]*100}%')\n",
        "  acc_per_fold.append(scores[1] * 100)\n",
        "  loss_per_fold.append(scores[0])\n",
        "\n",
        "  # Increase fold number\n",
        "  fold_no = fold_no + 1"
      ],
      "execution_count": 14,
      "outputs": [
        {
          "output_type": "stream",
          "text": [
            "------------------------------------------------------------------------\n",
            "Training for fold 1 ...\n",
            "Epoch 1/8\n",
            "118/118 - 35s - loss: 1.9185 - sparse_categorical_accuracy: 0.2786 - mean_absolute_error: 4.4216\n",
            "Epoch 2/8\n",
            "118/118 - 33s - loss: 1.4638 - sparse_categorical_accuracy: 0.4625 - mean_absolute_error: 4.4216\n",
            "Epoch 3/8\n",
            "118/118 - 33s - loss: 1.2752 - sparse_categorical_accuracy: 0.5387 - mean_absolute_error: 4.4216\n",
            "Epoch 4/8\n",
            "118/118 - 32s - loss: 1.1612 - sparse_categorical_accuracy: 0.5862 - mean_absolute_error: 4.4216\n",
            "Epoch 5/8\n",
            "118/118 - 33s - loss: 1.0782 - sparse_categorical_accuracy: 0.6165 - mean_absolute_error: 4.4216\n",
            "Epoch 6/8\n",
            "118/118 - 33s - loss: 0.9920 - sparse_categorical_accuracy: 0.6468 - mean_absolute_error: 4.4216\n",
            "Epoch 7/8\n",
            "118/118 - 33s - loss: 0.9523 - sparse_categorical_accuracy: 0.6627 - mean_absolute_error: 4.4216\n",
            "Epoch 8/8\n",
            "118/118 - 32s - loss: 0.8822 - sparse_categorical_accuracy: 0.6882 - mean_absolute_error: 4.4216\n",
            "Score for fold 1: loss of 1.071470022201538; sparse_categorical_accuracy of 63.153332471847534%\n",
            "------------------------------------------------------------------------\n",
            "Training for fold 2 ...\n",
            "Epoch 1/8\n",
            "118/118 - 33s - loss: 1.8801 - sparse_categorical_accuracy: 0.2853 - mean_absolute_error: 4.4184\n",
            "Epoch 2/8\n",
            "118/118 - 33s - loss: 1.4199 - sparse_categorical_accuracy: 0.4784 - mean_absolute_error: 4.4184\n",
            "Epoch 3/8\n",
            "118/118 - 33s - loss: 1.2389 - sparse_categorical_accuracy: 0.5563 - mean_absolute_error: 4.4184\n",
            "Epoch 4/8\n",
            "118/118 - 33s - loss: 1.1440 - sparse_categorical_accuracy: 0.5905 - mean_absolute_error: 4.4184\n",
            "Epoch 5/8\n",
            "118/118 - 33s - loss: 1.0492 - sparse_categorical_accuracy: 0.6299 - mean_absolute_error: 4.4184\n",
            "Epoch 6/8\n",
            "118/118 - 33s - loss: 0.9645 - sparse_categorical_accuracy: 0.6587 - mean_absolute_error: 4.4184\n",
            "Epoch 7/8\n",
            "118/118 - 33s - loss: 0.8960 - sparse_categorical_accuracy: 0.6821 - mean_absolute_error: 4.4184\n",
            "Epoch 8/8\n",
            "118/118 - 33s - loss: 0.8401 - sparse_categorical_accuracy: 0.7021 - mean_absolute_error: 4.4184\n",
            "Score for fold 2: loss of 1.0259027481079102; sparse_categorical_accuracy of 64.80333209037781%\n"
          ],
          "name": "stdout"
        }
      ]
    }
  ]
}